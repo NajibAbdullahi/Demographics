{
 "cells": [
  {
   "cell_type": "markdown",
   "metadata": {},
   "source": [
    "# Population & General Demographics in East Africa\n",
    "***\n",
    "<img src=\"https://images.unsplash.com/photo-1560091129-27a0e2af124b?ixlib=rb-4.0.3&ixid=M3wxMjA3fDB8MHxwaG90by1wYWdlfHx8fGVufDB8fHx8fA%3D%3D&auto=format&fit=crop&w=3570&q=80\" alt=\"crowded street\" style=\"width:500px;\">"
   ]
  },
  {
   "cell_type": "markdown",
   "metadata": {},
   "source": [
    "<a id=\"WebScraping\"><h2>Web Scraping</h2></a>\n",
    "***\n",
    "<a id=\"ScraperImport\"><h3>Importing Libraries</h3></a>"
   ]
  },
  {
   "cell_type": "code",
   "execution_count": 1,
   "metadata": {},
   "outputs": [],
   "source": [
    "import pandas as pd\n",
    "from selenium import webdriver\n",
    "from selenium.webdriver.common.keys import Keys\n",
    "from selenium.webdriver.common.by import By\n",
    "from selenium.webdriver.chrome.options import Options\n",
    "import time\n",
    "import warnings\n",
    "warnings.filterwarnings('ignore')\n",
    "\n"
   ]
  },
  {
   "cell_type": "markdown",
   "metadata": {},
   "source": [
    "<a id=\"Setup\"><h3>Browser Setup</h3></a>"
   ]
  },
  {
   "cell_type": "code",
   "execution_count": 17,
   "metadata": {},
   "outputs": [],
   "source": [
    "path=\"https://data.worldbank.org/\"\n",
    "folder=r\"C:\\Users\\NAJIB\\Documents\\Data Analysis\\EastAfrica\\Data\"\n",
    "options=Options();\n",
    "prefs={\"download.default_directory\":r\"C:\\Users\\NAJIB\\Documents\\EastAfrica\\Data\"}\n",
    "options.add_experimental_option(\"prefs\",prefs);\n",
    "driver = webdriver.Chrome(options=options)\n",
    "driver.get(path)"
   ]
  },
  {
   "cell_type": "markdown",
   "metadata": {},
   "source": [
    "<a id=\"downloading\"><h3>Downloading Country Specific Data</h3></a>"
   ]
  },
  {
   "cell_type": "code",
   "execution_count": 3,
   "metadata": {},
   "outputs": [],
   "source": [
    "countries=['Somalia','Kenya','Ethiopia','Sudan', 'South Sudan','Eritrea','Djibouti','Rwanda','Uganda',\n",
    "           'Burundi','Tanzania','World']"
   ]
  },
  {
   "cell_type": "code",
   "execution_count": 2,
   "metadata": {},
   "outputs": [],
   "source": [
    "indicators=['Sex ratio at birth (male births per female births)',\n",
    "'Age dependency ratio (% of working-age population)',\n",
    "'Age dependency ratio, old (% of working-age population)',\n",
    "'Age dependency ratio, young (% of working-age population)',\n",
    "'Population growth (annual %)',\n",
    "'Population, total',\n",
    "'Population, female',\n",
    "'Population, female (% of total population)'\n",
    "'Population, male',\n",
    "'Population, male (% of total population)',\n",
    "'Life expectancy at birth, female (years)',\n",
    "'Life expectancy at birth, total (years)',\n",
    "'Life expectancy at birth, male (years)',\n",
    "'Fertility rate, total (births per woman)',\n",
    "'Survival to age 65, female (% of cohort)',\n",
    "'Survival to age 65, male (% of cohort)',\n",
    "'Population ages 00-04, female (% of female population)',\n",
    "'Population ages 00-04, male (% of male population)',\n",
    "'Population ages 0-14, female',\n",
    "'Population ages 0-14, female (% of female population)',\n",
    "'Population ages 0-14, male',\n",
    "'Population ages 0-14, male (% of male population)',\n",
    "'Population ages 0-14, total',\n",
    "'Population ages 0-14 (% of total population)',\n",
    "'Population ages 05-09, female (% of female population)',\n",
    "'Population ages 05-09, male (% of male population)',\n",
    "'Population ages 10-14, female (% of female population)',\n",
    "'Population ages 10-14, male (% of male population)',\n",
    "'Population ages 15-19, female (% of female population)',\n",
    "'Population ages 15-19, male (% of male population)',\n",
    "'Population ages 15-64, female',\n",
    "'Population ages 15-64, female (% of female population)',\n",
    "'Population ages 15-64, male',\n",
    "'Population ages 15-64, male (% of male population)',\n",
    "'Population ages 15-64, total',\n",
    "'Population ages 15-64 (% of total population)',\n",
    "'Population ages 20-24, female (% of female population)',\n",
    "'Population ages 20-24, male (% of male population)',\n",
    "'Population ages 25-29, female (% of female population)',\n",
    "'Population ages 25-29, male (% of male population)',\n",
    "'Population ages 30-34, female (% of female population)',\n",
    "'Population ages 30-34, male (% of male population)',\n",
    "'Population ages 35-39, female (% of female population)',\n",
    "'Population ages 35-39, male (% of male population)',\n",
    "'Population ages 40-44, female (% of female population)',\n",
    "'Population ages 40-44, male (% of male population)',\n",
    "'Population ages 45-49, female (% of female population)',\n",
    "'Population ages 45-49, male (% of male population)',\n",
    "'Population ages 50-54, female (% of female population)',\n",
    "'Population ages 50-54, male (% of male population)',\n",
    "'Population ages 55-59, female (% of female population)',\n",
    "'Population ages 55-59, male (% of male population)',\n",
    "'Population ages 60-64, female (% of female population)',\n",
    "'Population ages 60-64, male (% of male population)',\n",
    "'Population ages 65-69, female (% of female population)',\n",
    "'Population ages 65-69, male (% of male population)',\n",
    "'Population ages 65 and above, female',\n",
    "'Population ages 65 and above, female (% of female population)',\n",
    "'Population ages 65 and above, male',\n",
    "'Population ages 65 and above, male (% of male population)',\n",
    "'Population ages 65 and above, total',\n",
    "'Population ages 65 and above (% of total population)',\n",
    "'Population ages 70-74, female (% of female population)',\n",
    "'Population ages 70-74, male (% of male population)',\n",
    "'Population ages 75-79, female (% of female population)',\n",
    "'Population ages 75-79, male (% of male population)',\n",
    "'Population ages 80 and above, female (% of female population)',\n",
    "'Population ages 80 and above, male (% of male population)',\n",
    "]\n",
    "indicator_codes=['SP.POP.BRTH.MF',\n",
    "                 'SP.POP.DPND',\n",
    "                 'SP.POP.DPND.OL',\n",
    "                 'SP.POP.DPND.YG',\n",
    "                 'SP.DYN.TFRT.IN',\n",
    "                 'SP.DYN.LE00.FE.IN',\n",
    "                 'SP.DYN.LE00.MA.IN',\n",
    "                 'SP.DYN.LE00.IN',\n",
    "                 'SP.POP.GROW',\n",
    "                 'SP.POP.TOTL.FE.IN',\n",
    "                 'SP.POP.TOTL.MA.IN',\n",
    "                 'SP.POP.TOTL.MA.ZS',\n",
    "                 'SP.POP.TOTL.FE.ZS',\n",
    "                 'SP.DYN.TO65.FE.ZS',\n",
    "                 'SP.DYN.TO65.MA.ZS']"
   ]
  },
  {
   "cell_type": "code",
   "execution_count": 3,
   "metadata": {},
   "outputs": [
    {
     "ename": "NameError",
     "evalue": "name 'driver' is not defined",
     "output_type": "error",
     "traceback": [
      "\u001b[1;31m---------------------------------------------------------------------------\u001b[0m",
      "\u001b[1;31mNameError\u001b[0m                                 Traceback (most recent call last)",
      "Cell \u001b[1;32mIn[3], line 2\u001b[0m\n\u001b[0;32m      1\u001b[0m \u001b[39mfor\u001b[39;00m code \u001b[39min\u001b[39;00m indicator_codes:\n\u001b[1;32m----> 2\u001b[0m     driver\u001b[39m.\u001b[39mget(\u001b[39mf\u001b[39m\u001b[39m'\u001b[39m\u001b[39mhttps://data.worldbank.org/indicator/\u001b[39m\u001b[39m{\u001b[39;00mcode\u001b[39m}\u001b[39;00m\u001b[39m'\u001b[39m)\n\u001b[0;32m      3\u001b[0m     country_indicator_download\u001b[39m=\u001b[39mdriver\u001b[39m.\u001b[39mfind_element(By\u001b[39m.\u001b[39mXPATH,\u001b[39m'\u001b[39m\u001b[39m/html/body/div[1]/div/div/div/div[3]/article/aside/div/div[2]/div/p/a[3]\u001b[39m\u001b[39m'\u001b[39m)\u001b[39m.\u001b[39mclick()\n\u001b[0;32m      4\u001b[0m     home_btn\u001b[39m=\u001b[39mdriver\u001b[39m.\u001b[39mfind_element(By\u001b[39m.\u001b[39mXPATH,\u001b[39m'\u001b[39m\u001b[39m/html/body/div[1]/div/div/div/header/div/a[2]\u001b[39m\u001b[39m'\u001b[39m)\u001b[39m.\u001b[39mclick()\n",
      "\u001b[1;31mNameError\u001b[0m: name 'driver' is not defined"
     ]
    }
   ],
   "source": [
    "for code in indicator_codes:\n",
    "    driver.get(f'https://data.worldbank.org/indicator/{code}')\n",
    "    country_indicator_download=driver.find_element(By.XPATH,'/html/body/div[1]/div/div/div/div[3]/article/aside/div/div[2]/div/p/a[3]').click()\n",
    "    home_btn=driver.find_element(By.XPATH,'/html/body/div[1]/div/div/div/header/div/a[2]').click()\n",
    "    time.sleep(2)"
   ]
  },
  {
   "cell_type": "code",
   "execution_count": 68,
   "metadata": {},
   "outputs": [
    {
     "name": "stdout",
     "output_type": "stream",
     "text": [
      "      Country Name Country ISO3  Year  \\\n",
      "0          Burundi          BDI  1960   \n",
      "1         Djibouti          DJI  1960   \n",
      "2          Eritrea          ERI  1960   \n",
      "3         Ethiopia          ETH  1960   \n",
      "4            Kenya          KEN  1960   \n",
      "...            ...          ...   ...   \n",
      "11335      Somalia          SOM  2022   \n",
      "11336  South Sudan          SSD  2022   \n",
      "11337     Tanzania          TZA  2022   \n",
      "11338       Uganda          UGA  2022   \n",
      "11339        World          WLD  2022   \n",
      "\n",
      "                                 Indicator Name     Indicator Code      Value  \n",
      "0      Life expectancy at birth, female (years)  SP.DYN.LE00.FE.IN  44.451000  \n",
      "1      Life expectancy at birth, female (years)  SP.DYN.LE00.FE.IN  45.281000  \n",
      "2      Life expectancy at birth, female (years)  SP.DYN.LE00.FE.IN  39.649000  \n",
      "3      Life expectancy at birth, female (years)  SP.DYN.LE00.FE.IN  42.676000  \n",
      "4      Life expectancy at birth, female (years)  SP.DYN.LE00.FE.IN  50.263000  \n",
      "...                                         ...                ...        ...  \n",
      "11335  Population, male (% of total population)  SP.POP.TOTL.MA.ZS  50.134601  \n",
      "11336  Population, male (% of total population)  SP.POP.TOTL.MA.ZS  49.523108  \n",
      "11337  Population, male (% of total population)  SP.POP.TOTL.MA.ZS  49.422968  \n",
      "11338  Population, male (% of total population)  SP.POP.TOTL.MA.ZS  49.527064  \n",
      "11339  Population, male (% of total population)  SP.POP.TOTL.MA.ZS  50.264885  \n",
      "\n",
      "[11340 rows x 6 columns]\n"
     ]
    }
   ],
   "source": [
    "import os\n",
    "final_df = pd.DataFrame(columns=['Country Name', 'Country ISO3', 'Year', 'Indicator Name', 'Indicator Code', 'Value'])\n",
    "files=list(os.listdir('./Data/'))\n",
    "for file,indicator in zip(files,indicators):\n",
    "    file=f'./Data/{file}'\n",
    "    temp_df=pd.read_excel(file,sheet_name='Data',skiprows=3)\n",
    "    temp_df=temp_df.melt(id_vars=['Country Name', 'Country Code', 'Indicator Name', 'Indicator Code'],\n",
    "                 var_name='Year',\n",
    "                 value_name='Value')\n",
    "    temp_df['Country ISO3'] = temp_df['Country Code'].str[-3:]\n",
    "    temp_df = temp_df[['Country Name', 'Country ISO3', 'Year', 'Indicator Name', 'Indicator Code', 'Value']]\n",
    "    temp_df=temp_df.loc[temp_df['Country Name'].isin(countries)]\n",
    "    final_df=pd.concat([final_df,temp_df],ignore_index=True)\n",
    "    # print(temp_df)\n",
    "    # final_df = final_df.append(temp_df, ignore_index=True)\n",
    "print(final_df)"
   ]
  },
  {
   "cell_type": "markdown",
   "metadata": {},
   "source": [
    "<a id=\"ColumnExtraction\"><h3>Extracting Specific Columns</h3></a>"
   ]
  },
  {
   "cell_type": "code",
   "execution_count": 70,
   "metadata": {},
   "outputs": [
    {
     "data": {
      "text/html": [
       "<div>\n",
       "<style scoped>\n",
       "    .dataframe tbody tr th:only-of-type {\n",
       "        vertical-align: middle;\n",
       "    }\n",
       "\n",
       "    .dataframe tbody tr th {\n",
       "        vertical-align: top;\n",
       "    }\n",
       "\n",
       "    .dataframe thead th {\n",
       "        text-align: right;\n",
       "    }\n",
       "</style>\n",
       "<table border=\"1\" class=\"dataframe\">\n",
       "  <thead>\n",
       "    <tr style=\"text-align: right;\">\n",
       "      <th></th>\n",
       "      <th>Country Name</th>\n",
       "      <th>Country ISO3</th>\n",
       "      <th>Year</th>\n",
       "      <th>Indicator Name</th>\n",
       "      <th>Indicator Code</th>\n",
       "      <th>Value</th>\n",
       "    </tr>\n",
       "  </thead>\n",
       "  <tbody>\n",
       "    <tr>\n",
       "      <th>11335</th>\n",
       "      <td>Somalia</td>\n",
       "      <td>SOM</td>\n",
       "      <td>2022</td>\n",
       "      <td>Population, male (% of total population)</td>\n",
       "      <td>SP.POP.TOTL.MA.ZS</td>\n",
       "      <td>50.134601</td>\n",
       "    </tr>\n",
       "    <tr>\n",
       "      <th>11336</th>\n",
       "      <td>South Sudan</td>\n",
       "      <td>SSD</td>\n",
       "      <td>2022</td>\n",
       "      <td>Population, male (% of total population)</td>\n",
       "      <td>SP.POP.TOTL.MA.ZS</td>\n",
       "      <td>49.523108</td>\n",
       "    </tr>\n",
       "    <tr>\n",
       "      <th>11337</th>\n",
       "      <td>Tanzania</td>\n",
       "      <td>TZA</td>\n",
       "      <td>2022</td>\n",
       "      <td>Population, male (% of total population)</td>\n",
       "      <td>SP.POP.TOTL.MA.ZS</td>\n",
       "      <td>49.422968</td>\n",
       "    </tr>\n",
       "    <tr>\n",
       "      <th>11338</th>\n",
       "      <td>Uganda</td>\n",
       "      <td>UGA</td>\n",
       "      <td>2022</td>\n",
       "      <td>Population, male (% of total population)</td>\n",
       "      <td>SP.POP.TOTL.MA.ZS</td>\n",
       "      <td>49.527064</td>\n",
       "    </tr>\n",
       "    <tr>\n",
       "      <th>11339</th>\n",
       "      <td>World</td>\n",
       "      <td>WLD</td>\n",
       "      <td>2022</td>\n",
       "      <td>Population, male (% of total population)</td>\n",
       "      <td>SP.POP.TOTL.MA.ZS</td>\n",
       "      <td>50.264885</td>\n",
       "    </tr>\n",
       "  </tbody>\n",
       "</table>\n",
       "</div>"
      ],
      "text/plain": [
       "      Country Name Country ISO3  Year  \\\n",
       "11335      Somalia          SOM  2022   \n",
       "11336  South Sudan          SSD  2022   \n",
       "11337     Tanzania          TZA  2022   \n",
       "11338       Uganda          UGA  2022   \n",
       "11339        World          WLD  2022   \n",
       "\n",
       "                                 Indicator Name     Indicator Code      Value  \n",
       "11335  Population, male (% of total population)  SP.POP.TOTL.MA.ZS  50.134601  \n",
       "11336  Population, male (% of total population)  SP.POP.TOTL.MA.ZS  49.523108  \n",
       "11337  Population, male (% of total population)  SP.POP.TOTL.MA.ZS  49.422968  \n",
       "11338  Population, male (% of total population)  SP.POP.TOTL.MA.ZS  49.527064  \n",
       "11339  Population, male (% of total population)  SP.POP.TOTL.MA.ZS  50.264885  "
      ]
     },
     "execution_count": 70,
     "metadata": {},
     "output_type": "execute_result"
    }
   ],
   "source": [
    "final_df.to_csv('east_africa_pops_data.csv', index=False, header=True)\n",
    "final_df.tail(5)"
   ]
  },
  {
   "cell_type": "markdown",
   "metadata": {},
   "source": [
    "<a id=\"EDA\"><h2>Exploratory Data Analysis</h2></a>\n",
    "***\n",
    "<a id=\"structure\"><h3>Checking Data Structure</h3></a>"
   ]
  },
  {
   "cell_type": "code",
   "execution_count": 3,
   "metadata": {},
   "outputs": [
    {
     "name": "stdout",
     "output_type": "stream",
     "text": [
      "<class 'pandas.core.frame.DataFrame'>\n",
      "RangeIndex: 11340 entries, 0 to 11339\n",
      "Data columns (total 6 columns):\n",
      " #   Column          Non-Null Count  Dtype  \n",
      "---  ------          --------------  -----  \n",
      " 0   Country         11340 non-null  object \n",
      " 1   Country ISO3    11340 non-null  object \n",
      " 2   Year            11340 non-null  int64  \n",
      " 3   Indicator Name  11340 non-null  object \n",
      " 4   Indicator Code  11340 non-null  object \n",
      " 5   Value           11244 non-null  float64\n",
      "dtypes: float64(1), int64(1), object(4)\n",
      "memory usage: 531.7+ KB\n"
     ]
    }
   ],
   "source": [
    "df=pd.read_csv('east_africa_pops_data.csv')\n",
    "df.rename(columns={'Country Name':'Country'},inplace=True)\n",
    "df.info()"
   ]
  },
  {
   "cell_type": "code",
   "execution_count": 4,
   "metadata": {},
   "outputs": [
    {
     "name": "stdout",
     "output_type": "stream",
     "text": [
      "(11340, 6)\n"
     ]
    },
    {
     "data": {
      "text/html": [
       "<div>\n",
       "<style scoped>\n",
       "    .dataframe tbody tr th:only-of-type {\n",
       "        vertical-align: middle;\n",
       "    }\n",
       "\n",
       "    .dataframe tbody tr th {\n",
       "        vertical-align: top;\n",
       "    }\n",
       "\n",
       "    .dataframe thead th {\n",
       "        text-align: right;\n",
       "    }\n",
       "</style>\n",
       "<table border=\"1\" class=\"dataframe\">\n",
       "  <thead>\n",
       "    <tr style=\"text-align: right;\">\n",
       "      <th></th>\n",
       "      <th>Country</th>\n",
       "      <th>Country ISO3</th>\n",
       "      <th>Year</th>\n",
       "      <th>Indicator Name</th>\n",
       "      <th>Indicator Code</th>\n",
       "      <th>Value</th>\n",
       "    </tr>\n",
       "  </thead>\n",
       "  <tbody>\n",
       "    <tr>\n",
       "      <th>11337</th>\n",
       "      <td>Tanzania</td>\n",
       "      <td>TZA</td>\n",
       "      <td>2022</td>\n",
       "      <td>Population, male (% of total population)</td>\n",
       "      <td>SP.POP.TOTL.MA.ZS</td>\n",
       "      <td>49.422968</td>\n",
       "    </tr>\n",
       "    <tr>\n",
       "      <th>11338</th>\n",
       "      <td>Uganda</td>\n",
       "      <td>UGA</td>\n",
       "      <td>2022</td>\n",
       "      <td>Population, male (% of total population)</td>\n",
       "      <td>SP.POP.TOTL.MA.ZS</td>\n",
       "      <td>49.527064</td>\n",
       "    </tr>\n",
       "    <tr>\n",
       "      <th>11339</th>\n",
       "      <td>World</td>\n",
       "      <td>WLD</td>\n",
       "      <td>2022</td>\n",
       "      <td>Population, male (% of total population)</td>\n",
       "      <td>SP.POP.TOTL.MA.ZS</td>\n",
       "      <td>50.264885</td>\n",
       "    </tr>\n",
       "  </tbody>\n",
       "</table>\n",
       "</div>"
      ],
      "text/plain": [
       "        Country Country ISO3  Year                            Indicator Name  \\\n",
       "11337  Tanzania          TZA  2022  Population, male (% of total population)   \n",
       "11338    Uganda          UGA  2022  Population, male (% of total population)   \n",
       "11339     World          WLD  2022  Population, male (% of total population)   \n",
       "\n",
       "          Indicator Code      Value  \n",
       "11337  SP.POP.TOTL.MA.ZS  49.422968  \n",
       "11338  SP.POP.TOTL.MA.ZS  49.527064  \n",
       "11339  SP.POP.TOTL.MA.ZS  50.264885  "
      ]
     },
     "execution_count": 4,
     "metadata": {},
     "output_type": "execute_result"
    }
   ],
   "source": [
    "print(df.shape)\n",
    "df.tail(3)"
   ]
  },
  {
   "cell_type": "code",
   "execution_count": 4,
   "metadata": {},
   "outputs": [],
   "source": [
    "# visualization\n",
    "import missingno as msno\n",
    "import matplotlib as mpl\n",
    "import matplotlib.pyplot as plt\n",
    "import seaborn as sns\n",
    "import missingno as msno\n",
    "import plotly.express as px\n",
    "import plotly.figure_factory as ff\n",
    "import plotly.graph_objects as go\n",
    "import plotly.io as pio\n",
    "from plotly.subplots import make_subplots\n",
    "\n",
    "# styling\n",
    "%matplotlib inline\n",
    "sns.set_theme(style=\"dark\")\n",
    "mpl.rcParams['axes.unicode_minus'] = False\n",
    "pd.set_option('display.max_columns',None)\n",
    "plt.style.use('seaborn-dark-palette')\n",
    "plt.style.use('dark_background')"
   ]
  },
  {
   "cell_type": "code",
   "execution_count": 5,
   "metadata": {},
   "outputs": [
    {
     "data": {
      "text/plain": [
       "Text(0.5, 1.0, 'Distribution of Missing Values')"
      ]
     },
     "execution_count": 5,
     "metadata": {},
     "output_type": "execute_result"
    },
    {
     "data": {
      "image/png": "[encoded data removed]",
      "text/plain": [
       "<Figure size 2500x1000 with 2 Axes>"
      ]
     },
     "metadata": {},
     "output_type": "display_data"
    }
   ],
   "source": [
    "msno.matrix(df)\n",
    "plt.title('Distribution of Missing Values',fontsize=30, fontstyle= 'oblique')"
   ]
  },
  {
   "cell_type": "markdown",
   "metadata": {},
   "source": [
    "<a id=\"indicatorspecific\"><h3>Creating Indicator specific data frame</h3></a>"
   ]
  },
  {
   "cell_type": "code",
   "execution_count": 21,
   "metadata": {},
   "outputs": [],
   "source": [
    "def create_separate_frames(indicator):\n",
    "    temp_df=df.loc[df['Indicator Name']==indicator]\n",
    "    temp_df=temp_df.filter([f'Country','Year','{indicator}','Value'],axis=1)\n",
    "#     print(temp_df)\n",
    "    return temp_df"
   ]
  },
  {
   "cell_type": "code",
   "execution_count": 6,
   "metadata": {},
   "outputs": [
    {
     "data": {
      "text/html": [
       "<div>\n",
       "<style scoped>\n",
       "    .dataframe tbody tr th:only-of-type {\n",
       "        vertical-align: middle;\n",
       "    }\n",
       "\n",
       "    .dataframe tbody tr th {\n",
       "        vertical-align: top;\n",
       "    }\n",
       "\n",
       "    .dataframe thead th {\n",
       "        text-align: right;\n",
       "    }\n",
       "</style>\n",
       "<table border=\"1\" class=\"dataframe\">\n",
       "  <thead>\n",
       "    <tr style=\"text-align: right;\">\n",
       "      <th></th>\n",
       "      <th>Country</th>\n",
       "      <th>Year</th>\n",
       "      <th>Age dependency ratio (% of working-age population)</th>\n",
       "      <th>Age dependency ratio, old (% of working-age population)</th>\n",
       "      <th>Age dependency ratio, young (% of working-age population)</th>\n",
       "      <th>Fertility rate, total (births per woman)</th>\n",
       "      <th>Life expectancy at birth, female (years)</th>\n",
       "      <th>Life expectancy at birth, male (years)</th>\n",
       "      <th>Life expectancy at birth, total (years)</th>\n",
       "      <th>Population growth (annual %)</th>\n",
       "      <th>Population, female</th>\n",
       "      <th>Population, female (% of total population)</th>\n",
       "      <th>Population, male</th>\n",
       "      <th>Population, male (% of total population)</th>\n",
       "      <th>Sex ratio at birth (male births per female births)</th>\n",
       "      <th>Survival to age 65, female (% of cohort)</th>\n",
       "      <th>Survival to age 65, male (% of cohort)</th>\n",
       "    </tr>\n",
       "  </thead>\n",
       "  <tbody>\n",
       "    <tr>\n",
       "      <th>0</th>\n",
       "      <td>Burundi</td>\n",
       "      <td>1960</td>\n",
       "      <td>92.290470</td>\n",
       "      <td>6.110580</td>\n",
       "      <td>86.179890</td>\n",
       "      <td>7.003000</td>\n",
       "      <td>44.451000</td>\n",
       "      <td>41.533000</td>\n",
       "      <td>43.024000</td>\n",
       "      <td>NaN</td>\n",
       "      <td>1.419148e+06</td>\n",
       "      <td>51.668737</td>\n",
       "      <td>1.327479e+06</td>\n",
       "      <td>48.331227</td>\n",
       "      <td>1.025000</td>\n",
       "      <td>37.848041</td>\n",
       "      <td>32.248556</td>\n",
       "    </tr>\n",
       "    <tr>\n",
       "      <th>1</th>\n",
       "      <td>Burundi</td>\n",
       "      <td>1961</td>\n",
       "      <td>92.420498</td>\n",
       "      <td>6.128134</td>\n",
       "      <td>86.292363</td>\n",
       "      <td>7.023000</td>\n",
       "      <td>44.631000</td>\n",
       "      <td>41.804000</td>\n",
       "      <td>43.252000</td>\n",
       "      <td>2.493352</td>\n",
       "      <td>1.453599e+06</td>\n",
       "      <td>51.619796</td>\n",
       "      <td>1.362374e+06</td>\n",
       "      <td>48.380240</td>\n",
       "      <td>1.025000</td>\n",
       "      <td>38.062682</td>\n",
       "      <td>32.557873</td>\n",
       "    </tr>\n",
       "    <tr>\n",
       "      <th>2</th>\n",
       "      <td>Burundi</td>\n",
       "      <td>1962</td>\n",
       "      <td>92.665829</td>\n",
       "      <td>6.159252</td>\n",
       "      <td>86.506577</td>\n",
       "      <td>7.038000</td>\n",
       "      <td>44.713000</td>\n",
       "      <td>42.102000</td>\n",
       "      <td>43.441000</td>\n",
       "      <td>2.504826</td>\n",
       "      <td>1.489006e+06</td>\n",
       "      <td>51.569129</td>\n",
       "      <td>1.398392e+06</td>\n",
       "      <td>48.430871</td>\n",
       "      <td>1.025000</td>\n",
       "      <td>38.045239</td>\n",
       "      <td>32.959218</td>\n",
       "    </tr>\n",
       "    <tr>\n",
       "      <th>3</th>\n",
       "      <td>Burundi</td>\n",
       "      <td>1963</td>\n",
       "      <td>93.544139</td>\n",
       "      <td>6.225037</td>\n",
       "      <td>87.319102</td>\n",
       "      <td>7.067000</td>\n",
       "      <td>45.009000</td>\n",
       "      <td>42.358000</td>\n",
       "      <td>43.718000</td>\n",
       "      <td>2.081634</td>\n",
       "      <td>1.519025e+06</td>\n",
       "      <td>51.524982</td>\n",
       "      <td>1.429107e+06</td>\n",
       "      <td>48.474984</td>\n",
       "      <td>1.025000</td>\n",
       "      <td>38.428793</td>\n",
       "      <td>33.257476</td>\n",
       "    </tr>\n",
       "    <tr>\n",
       "      <th>4</th>\n",
       "      <td>Burundi</td>\n",
       "      <td>1964</td>\n",
       "      <td>93.604189</td>\n",
       "      <td>6.254113</td>\n",
       "      <td>87.350076</td>\n",
       "      <td>7.090000</td>\n",
       "      <td>45.338000</td>\n",
       "      <td>42.543000</td>\n",
       "      <td>43.974000</td>\n",
       "      <td>2.845300</td>\n",
       "      <td>1.561243e+06</td>\n",
       "      <td>51.471456</td>\n",
       "      <td>1.471978e+06</td>\n",
       "      <td>48.528544</td>\n",
       "      <td>1.025000</td>\n",
       "      <td>38.879601</td>\n",
       "      <td>33.415269</td>\n",
       "    </tr>\n",
       "    <tr>\n",
       "      <th>...</th>\n",
       "      <td>...</td>\n",
       "      <td>...</td>\n",
       "      <td>...</td>\n",
       "      <td>...</td>\n",
       "      <td>...</td>\n",
       "      <td>...</td>\n",
       "      <td>...</td>\n",
       "      <td>...</td>\n",
       "      <td>...</td>\n",
       "      <td>...</td>\n",
       "      <td>...</td>\n",
       "      <td>...</td>\n",
       "      <td>...</td>\n",
       "      <td>...</td>\n",
       "      <td>...</td>\n",
       "      <td>...</td>\n",
       "      <td>...</td>\n",
       "    </tr>\n",
       "    <tr>\n",
       "      <th>751</th>\n",
       "      <td>World</td>\n",
       "      <td>2018</td>\n",
       "      <td>55.235506</td>\n",
       "      <td>13.801911</td>\n",
       "      <td>40.121543</td>\n",
       "      <td>2.397340</td>\n",
       "      <td>75.272091</td>\n",
       "      <td>70.432414</td>\n",
       "      <td>72.784090</td>\n",
       "      <td>1.102580</td>\n",
       "      <td>3.806732e+09</td>\n",
       "      <td>49.684718</td>\n",
       "      <td>3.855045e+09</td>\n",
       "      <td>50.315282</td>\n",
       "      <td>1.063470</td>\n",
       "      <td>81.706657</td>\n",
       "      <td>73.068320</td>\n",
       "    </tr>\n",
       "    <tr>\n",
       "      <th>752</th>\n",
       "      <td>World</td>\n",
       "      <td>2019</td>\n",
       "      <td>55.322257</td>\n",
       "      <td>14.168339</td>\n",
       "      <td>39.892567</td>\n",
       "      <td>2.360559</td>\n",
       "      <td>75.470008</td>\n",
       "      <td>70.623612</td>\n",
       "      <td>72.979716</td>\n",
       "      <td>1.055964</td>\n",
       "      <td>3.847484e+09</td>\n",
       "      <td>49.691878</td>\n",
       "      <td>3.895198e+09</td>\n",
       "      <td>50.308122</td>\n",
       "      <td>1.062069</td>\n",
       "      <td>81.939131</td>\n",
       "      <td>73.344609</td>\n",
       "    </tr>\n",
       "    <tr>\n",
       "      <th>753</th>\n",
       "      <td>World</td>\n",
       "      <td>2020</td>\n",
       "      <td>55.354568</td>\n",
       "      <td>14.527944</td>\n",
       "      <td>39.612737</td>\n",
       "      <td>2.299626</td>\n",
       "      <td>74.857303</td>\n",
       "      <td>69.799705</td>\n",
       "      <td>72.243822</td>\n",
       "      <td>1.011039</td>\n",
       "      <td>3.887425e+09</td>\n",
       "      <td>49.705196</td>\n",
       "      <td>3.933538e+09</td>\n",
       "      <td>50.294804</td>\n",
       "      <td>1.059484</td>\n",
       "      <td>80.771268</td>\n",
       "      <td>71.669319</td>\n",
       "    </tr>\n",
       "    <tr>\n",
       "      <th>754</th>\n",
       "      <td>World</td>\n",
       "      <td>2021</td>\n",
       "      <td>55.289710</td>\n",
       "      <td>14.820548</td>\n",
       "      <td>39.291893</td>\n",
       "      <td>2.273191</td>\n",
       "      <td>73.947975</td>\n",
       "      <td>68.886412</td>\n",
       "      <td>71.327391</td>\n",
       "      <td>0.859197</td>\n",
       "      <td>3.922150e+09</td>\n",
       "      <td>49.721975</td>\n",
       "      <td>3.966012e+09</td>\n",
       "      <td>50.278025</td>\n",
       "      <td>1.057931</td>\n",
       "      <td>79.029690</td>\n",
       "      <td>69.533117</td>\n",
       "    </tr>\n",
       "    <tr>\n",
       "      <th>755</th>\n",
       "      <td>World</td>\n",
       "      <td>2022</td>\n",
       "      <td>55.188579</td>\n",
       "      <td>15.104796</td>\n",
       "      <td>38.938658</td>\n",
       "      <td>NaN</td>\n",
       "      <td>NaN</td>\n",
       "      <td>NaN</td>\n",
       "      <td>NaN</td>\n",
       "      <td>0.798516</td>\n",
       "      <td>3.954513e+09</td>\n",
       "      <td>49.735115</td>\n",
       "      <td>3.996636e+09</td>\n",
       "      <td>50.264885</td>\n",
       "      <td>NaN</td>\n",
       "      <td>NaN</td>\n",
       "      <td>NaN</td>\n",
       "    </tr>\n",
       "  </tbody>\n",
       "</table>\n",
       "<p>756 rows × 17 columns</p>\n",
       "</div>"
      ],
      "text/plain": [
       "     Country  Year  Age dependency ratio (% of working-age population)  \\\n",
       "0    Burundi  1960                                          92.290470    \n",
       "1    Burundi  1961                                          92.420498    \n",
       "2    Burundi  1962                                          92.665829    \n",
       "3    Burundi  1963                                          93.544139    \n",
       "4    Burundi  1964                                          93.604189    \n",
       "..       ...   ...                                                ...    \n",
       "751    World  2018                                          55.235506    \n",
       "752    World  2019                                          55.322257    \n",
       "753    World  2020                                          55.354568    \n",
       "754    World  2021                                          55.289710    \n",
       "755    World  2022                                          55.188579    \n",
       "\n",
       "     Age dependency ratio, old (% of working-age population)  \\\n",
       "0                                             6.110580         \n",
       "1                                             6.128134         \n",
       "2                                             6.159252         \n",
       "3                                             6.225037         \n",
       "4                                             6.254113         \n",
       "..                                                 ...         \n",
       "751                                          13.801911         \n",
       "752                                          14.168339         \n",
       "753                                          14.527944         \n",
       "754                                          14.820548         \n",
       "755                                          15.104796         \n",
       "\n",
       "     Age dependency ratio, young (% of working-age population)  \\\n",
       "0                                            86.179890           \n",
       "1                                            86.292363           \n",
       "2                                            86.506577           \n",
       "3                                            87.319102           \n",
       "4                                            87.350076           \n",
       "..                                                 ...           \n",
       "751                                          40.121543           \n",
       "752                                          39.892567           \n",
       "753                                          39.612737           \n",
       "754                                          39.291893           \n",
       "755                                          38.938658           \n",
       "\n",
       "     Fertility rate, total (births per woman)  \\\n",
       "0                                    7.003000   \n",
       "1                                    7.023000   \n",
       "2                                    7.038000   \n",
       "3                                    7.067000   \n",
       "4                                    7.090000   \n",
       "..                                        ...   \n",
       "751                                  2.397340   \n",
       "752                                  2.360559   \n",
       "753                                  2.299626   \n",
       "754                                  2.273191   \n",
       "755                                       NaN   \n",
       "\n",
       "     Life expectancy at birth, female (years)  \\\n",
       "0                                   44.451000   \n",
       "1                                   44.631000   \n",
       "2                                   44.713000   \n",
       "3                                   45.009000   \n",
       "4                                   45.338000   \n",
       "..                                        ...   \n",
       "751                                 75.272091   \n",
       "752                                 75.470008   \n",
       "753                                 74.857303   \n",
       "754                                 73.947975   \n",
       "755                                       NaN   \n",
       "\n",
       "     Life expectancy at birth, male (years)  \\\n",
       "0                                 41.533000   \n",
       "1                                 41.804000   \n",
       "2                                 42.102000   \n",
       "3                                 42.358000   \n",
       "4                                 42.543000   \n",
       "..                                      ...   \n",
       "751                               70.432414   \n",
       "752                               70.623612   \n",
       "753                               69.799705   \n",
       "754                               68.886412   \n",
       "755                                     NaN   \n",
       "\n",
       "     Life expectancy at birth, total (years)  Population growth (annual %)  \\\n",
       "0                                  43.024000                           NaN   \n",
       "1                                  43.252000                      2.493352   \n",
       "2                                  43.441000                      2.504826   \n",
       "3                                  43.718000                      2.081634   \n",
       "4                                  43.974000                      2.845300   \n",
       "..                                       ...                           ...   \n",
       "751                                72.784090                      1.102580   \n",
       "752                                72.979716                      1.055964   \n",
       "753                                72.243822                      1.011039   \n",
       "754                                71.327391                      0.859197   \n",
       "755                                      NaN                      0.798516   \n",
       "\n",
       "     Population, female  Population, female (% of total population)  \\\n",
       "0          1.419148e+06                                   51.668737   \n",
       "1          1.453599e+06                                   51.619796   \n",
       "2          1.489006e+06                                   51.569129   \n",
       "3          1.519025e+06                                   51.524982   \n",
       "4          1.561243e+06                                   51.471456   \n",
       "..                  ...                                         ...   \n",
       "751        3.806732e+09                                   49.684718   \n",
       "752        3.847484e+09                                   49.691878   \n",
       "753        3.887425e+09                                   49.705196   \n",
       "754        3.922150e+09                                   49.721975   \n",
       "755        3.954513e+09                                   49.735115   \n",
       "\n",
       "     Population, male  Population, male (% of total population)  \\\n",
       "0        1.327479e+06                                 48.331227   \n",
       "1        1.362374e+06                                 48.380240   \n",
       "2        1.398392e+06                                 48.430871   \n",
       "3        1.429107e+06                                 48.474984   \n",
       "4        1.471978e+06                                 48.528544   \n",
       "..                ...                                       ...   \n",
       "751      3.855045e+09                                 50.315282   \n",
       "752      3.895198e+09                                 50.308122   \n",
       "753      3.933538e+09                                 50.294804   \n",
       "754      3.966012e+09                                 50.278025   \n",
       "755      3.996636e+09                                 50.264885   \n",
       "\n",
       "     Sex ratio at birth (male births per female births)  \\\n",
       "0                                             1.025000    \n",
       "1                                             1.025000    \n",
       "2                                             1.025000    \n",
       "3                                             1.025000    \n",
       "4                                             1.025000    \n",
       "..                                                 ...    \n",
       "751                                           1.063470    \n",
       "752                                           1.062069    \n",
       "753                                           1.059484    \n",
       "754                                           1.057931    \n",
       "755                                                NaN    \n",
       "\n",
       "     Survival to age 65, female (% of cohort)  \\\n",
       "0                                   37.848041   \n",
       "1                                   38.062682   \n",
       "2                                   38.045239   \n",
       "3                                   38.428793   \n",
       "4                                   38.879601   \n",
       "..                                        ...   \n",
       "751                                 81.706657   \n",
       "752                                 81.939131   \n",
       "753                                 80.771268   \n",
       "754                                 79.029690   \n",
       "755                                       NaN   \n",
       "\n",
       "     Survival to age 65, male (% of cohort)  \n",
       "0                                 32.248556  \n",
       "1                                 32.557873  \n",
       "2                                 32.959218  \n",
       "3                                 33.257476  \n",
       "4                                 33.415269  \n",
       "..                                      ...  \n",
       "751                               73.068320  \n",
       "752                               73.344609  \n",
       "753                               71.669319  \n",
       "754                               69.533117  \n",
       "755                                     NaN  \n",
       "\n",
       "[756 rows x 17 columns]"
      ]
     },
     "execution_count": 6,
     "metadata": {},
     "output_type": "execute_result"
    }
   ],
   "source": [
    "df=df.filter([f'Country','Year', 'Indicator Name','Value'])\n",
    "df=df.pivot_table(index=['Country','Year'],columns='Indicator Name', values='Value').reset_index().rename_axis(None, axis=1)\n",
    "df"
   ]
  },
  {
   "cell_type": "code",
   "execution_count": 7,
   "metadata": {},
   "outputs": [
    {
     "data": {
      "text/html": [
       "<div>\n",
       "<style scoped>\n",
       "    .dataframe tbody tr th:only-of-type {\n",
       "        vertical-align: middle;\n",
       "    }\n",
       "\n",
       "    .dataframe tbody tr th {\n",
       "        vertical-align: top;\n",
       "    }\n",
       "\n",
       "    .dataframe thead th {\n",
       "        text-align: right;\n",
       "    }\n",
       "</style>\n",
       "<table border=\"1\" class=\"dataframe\">\n",
       "  <thead>\n",
       "    <tr style=\"text-align: right;\">\n",
       "      <th></th>\n",
       "      <th>Country</th>\n",
       "      <th>Year</th>\n",
       "      <th>Age dependency ratio (% of working-age population)</th>\n",
       "      <th>Age dependency ratio, old (% of working-age population)</th>\n",
       "      <th>Age dependency ratio, young (% of working-age population)</th>\n",
       "      <th>Fertility rate, total (births per woman)</th>\n",
       "      <th>Life expectancy at birth, female (years)</th>\n",
       "      <th>Life expectancy at birth, male (years)</th>\n",
       "      <th>Life expectancy at birth, total (years)</th>\n",
       "      <th>Population growth (annual %)</th>\n",
       "      <th>Population, female</th>\n",
       "      <th>Population, female (% of total population)</th>\n",
       "      <th>Population, male</th>\n",
       "      <th>Population, male (% of total population)</th>\n",
       "      <th>Sex ratio at birth (male births per female births)</th>\n",
       "      <th>Survival to age 65, female (% of cohort)</th>\n",
       "      <th>Survival to age 65, male (% of cohort)</th>\n",
       "    </tr>\n",
       "  </thead>\n",
       "  <tbody>\n",
       "    <tr>\n",
       "      <th>0</th>\n",
       "      <td>Burundi</td>\n",
       "      <td>1960</td>\n",
       "      <td>92.290470</td>\n",
       "      <td>6.110580</td>\n",
       "      <td>86.179890</td>\n",
       "      <td>7.003</td>\n",
       "      <td>44.451</td>\n",
       "      <td>41.533</td>\n",
       "      <td>43.024</td>\n",
       "      <td>NaN</td>\n",
       "      <td>1419148.0</td>\n",
       "      <td>51.668737</td>\n",
       "      <td>1327479.0</td>\n",
       "      <td>48.331227</td>\n",
       "      <td>1.025</td>\n",
       "      <td>37.848041</td>\n",
       "      <td>32.248556</td>\n",
       "    </tr>\n",
       "    <tr>\n",
       "      <th>1</th>\n",
       "      <td>Burundi</td>\n",
       "      <td>1961</td>\n",
       "      <td>92.420498</td>\n",
       "      <td>6.128134</td>\n",
       "      <td>86.292363</td>\n",
       "      <td>7.023</td>\n",
       "      <td>44.631</td>\n",
       "      <td>41.804</td>\n",
       "      <td>43.252</td>\n",
       "      <td>2.493352</td>\n",
       "      <td>1453599.0</td>\n",
       "      <td>51.619796</td>\n",
       "      <td>1362374.0</td>\n",
       "      <td>48.380240</td>\n",
       "      <td>1.025</td>\n",
       "      <td>38.062682</td>\n",
       "      <td>32.557873</td>\n",
       "    </tr>\n",
       "    <tr>\n",
       "      <th>2</th>\n",
       "      <td>Burundi</td>\n",
       "      <td>1962</td>\n",
       "      <td>92.665829</td>\n",
       "      <td>6.159252</td>\n",
       "      <td>86.506577</td>\n",
       "      <td>7.038</td>\n",
       "      <td>44.713</td>\n",
       "      <td>42.102</td>\n",
       "      <td>43.441</td>\n",
       "      <td>2.504826</td>\n",
       "      <td>1489006.0</td>\n",
       "      <td>51.569129</td>\n",
       "      <td>1398392.0</td>\n",
       "      <td>48.430871</td>\n",
       "      <td>1.025</td>\n",
       "      <td>38.045239</td>\n",
       "      <td>32.959218</td>\n",
       "    </tr>\n",
       "    <tr>\n",
       "      <th>3</th>\n",
       "      <td>Burundi</td>\n",
       "      <td>1963</td>\n",
       "      <td>93.544139</td>\n",
       "      <td>6.225037</td>\n",
       "      <td>87.319102</td>\n",
       "      <td>7.067</td>\n",
       "      <td>45.009</td>\n",
       "      <td>42.358</td>\n",
       "      <td>43.718</td>\n",
       "      <td>2.081634</td>\n",
       "      <td>1519025.0</td>\n",
       "      <td>51.524982</td>\n",
       "      <td>1429107.0</td>\n",
       "      <td>48.474984</td>\n",
       "      <td>1.025</td>\n",
       "      <td>38.428793</td>\n",
       "      <td>33.257476</td>\n",
       "    </tr>\n",
       "    <tr>\n",
       "      <th>4</th>\n",
       "      <td>Burundi</td>\n",
       "      <td>1964</td>\n",
       "      <td>93.604189</td>\n",
       "      <td>6.254113</td>\n",
       "      <td>87.350076</td>\n",
       "      <td>7.090</td>\n",
       "      <td>45.338</td>\n",
       "      <td>42.543</td>\n",
       "      <td>43.974</td>\n",
       "      <td>2.845300</td>\n",
       "      <td>1561243.0</td>\n",
       "      <td>51.471456</td>\n",
       "      <td>1471978.0</td>\n",
       "      <td>48.528544</td>\n",
       "      <td>1.025</td>\n",
       "      <td>38.879601</td>\n",
       "      <td>33.415269</td>\n",
       "    </tr>\n",
       "    <tr>\n",
       "      <th>...</th>\n",
       "      <td>...</td>\n",
       "      <td>...</td>\n",
       "      <td>...</td>\n",
       "      <td>...</td>\n",
       "      <td>...</td>\n",
       "      <td>...</td>\n",
       "      <td>...</td>\n",
       "      <td>...</td>\n",
       "      <td>...</td>\n",
       "      <td>...</td>\n",
       "      <td>...</td>\n",
       "      <td>...</td>\n",
       "      <td>...</td>\n",
       "      <td>...</td>\n",
       "      <td>...</td>\n",
       "      <td>...</td>\n",
       "      <td>...</td>\n",
       "    </tr>\n",
       "    <tr>\n",
       "      <th>688</th>\n",
       "      <td>Uganda</td>\n",
       "      <td>2018</td>\n",
       "      <td>93.732922</td>\n",
       "      <td>3.143031</td>\n",
       "      <td>90.589892</td>\n",
       "      <td>4.932</td>\n",
       "      <td>64.744</td>\n",
       "      <td>60.587</td>\n",
       "      <td>62.714</td>\n",
       "      <td>3.401278</td>\n",
       "      <td>20994287.0</td>\n",
       "      <td>50.569884</td>\n",
       "      <td>20521108.0</td>\n",
       "      <td>49.430116</td>\n",
       "      <td>1.028</td>\n",
       "      <td>63.811933</td>\n",
       "      <td>52.951116</td>\n",
       "    </tr>\n",
       "    <tr>\n",
       "      <th>689</th>\n",
       "      <td>Uganda</td>\n",
       "      <td>2019</td>\n",
       "      <td>91.740204</td>\n",
       "      <td>3.154826</td>\n",
       "      <td>88.585378</td>\n",
       "      <td>4.809</td>\n",
       "      <td>64.990</td>\n",
       "      <td>60.893</td>\n",
       "      <td>62.991</td>\n",
       "      <td>3.395091</td>\n",
       "      <td>21707475.0</td>\n",
       "      <td>50.542352</td>\n",
       "      <td>21241606.0</td>\n",
       "      <td>49.457651</td>\n",
       "      <td>1.028</td>\n",
       "      <td>64.337804</td>\n",
       "      <td>53.395080</td>\n",
       "    </tr>\n",
       "    <tr>\n",
       "      <th>690</th>\n",
       "      <td>Uganda</td>\n",
       "      <td>2020</td>\n",
       "      <td>89.879150</td>\n",
       "      <td>3.161138</td>\n",
       "      <td>86.718012</td>\n",
       "      <td>4.693</td>\n",
       "      <td>64.898</td>\n",
       "      <td>60.715</td>\n",
       "      <td>62.851</td>\n",
       "      <td>3.332809</td>\n",
       "      <td>22431520.0</td>\n",
       "      <td>50.516195</td>\n",
       "      <td>21973090.0</td>\n",
       "      <td>49.483802</td>\n",
       "      <td>1.028</td>\n",
       "      <td>64.012673</td>\n",
       "      <td>52.683745</td>\n",
       "    </tr>\n",
       "    <tr>\n",
       "      <th>691</th>\n",
       "      <td>Uganda</td>\n",
       "      <td>2021</td>\n",
       "      <td>88.213348</td>\n",
       "      <td>3.156663</td>\n",
       "      <td>85.056685</td>\n",
       "      <td>4.585</td>\n",
       "      <td>64.920</td>\n",
       "      <td>60.423</td>\n",
       "      <td>62.705</td>\n",
       "      <td>3.211428</td>\n",
       "      <td>23153140.0</td>\n",
       "      <td>50.493418</td>\n",
       "      <td>22700638.0</td>\n",
       "      <td>49.506582</td>\n",
       "      <td>1.029</td>\n",
       "      <td>63.996120</td>\n",
       "      <td>51.663767</td>\n",
       "    </tr>\n",
       "    <tr>\n",
       "      <th>692</th>\n",
       "      <td>Uganda</td>\n",
       "      <td>2022</td>\n",
       "      <td>86.830154</td>\n",
       "      <td>3.165022</td>\n",
       "      <td>83.665132</td>\n",
       "      <td>NaN</td>\n",
       "      <td>NaN</td>\n",
       "      <td>NaN</td>\n",
       "      <td>NaN</td>\n",
       "      <td>2.998628</td>\n",
       "      <td>23848253.0</td>\n",
       "      <td>50.472936</td>\n",
       "      <td>23401332.0</td>\n",
       "      <td>49.527064</td>\n",
       "      <td>NaN</td>\n",
       "      <td>NaN</td>\n",
       "      <td>NaN</td>\n",
       "    </tr>\n",
       "  </tbody>\n",
       "</table>\n",
       "<p>693 rows × 17 columns</p>\n",
       "</div>"
      ],
      "text/plain": [
       "     Country  Year  Age dependency ratio (% of working-age population)  \\\n",
       "0    Burundi  1960                                          92.290470    \n",
       "1    Burundi  1961                                          92.420498    \n",
       "2    Burundi  1962                                          92.665829    \n",
       "3    Burundi  1963                                          93.544139    \n",
       "4    Burundi  1964                                          93.604189    \n",
       "..       ...   ...                                                ...    \n",
       "688   Uganda  2018                                          93.732922    \n",
       "689   Uganda  2019                                          91.740204    \n",
       "690   Uganda  2020                                          89.879150    \n",
       "691   Uganda  2021                                          88.213348    \n",
       "692   Uganda  2022                                          86.830154    \n",
       "\n",
       "     Age dependency ratio, old (% of working-age population)  \\\n",
       "0                                             6.110580         \n",
       "1                                             6.128134         \n",
       "2                                             6.159252         \n",
       "3                                             6.225037         \n",
       "4                                             6.254113         \n",
       "..                                                 ...         \n",
       "688                                           3.143031         \n",
       "689                                           3.154826         \n",
       "690                                           3.161138         \n",
       "691                                           3.156663         \n",
       "692                                           3.165022         \n",
       "\n",
       "     Age dependency ratio, young (% of working-age population)  \\\n",
       "0                                            86.179890           \n",
       "1                                            86.292363           \n",
       "2                                            86.506577           \n",
       "3                                            87.319102           \n",
       "4                                            87.350076           \n",
       "..                                                 ...           \n",
       "688                                          90.589892           \n",
       "689                                          88.585378           \n",
       "690                                          86.718012           \n",
       "691                                          85.056685           \n",
       "692                                          83.665132           \n",
       "\n",
       "     Fertility rate, total (births per woman)  \\\n",
       "0                                       7.003   \n",
       "1                                       7.023   \n",
       "2                                       7.038   \n",
       "3                                       7.067   \n",
       "4                                       7.090   \n",
       "..                                        ...   \n",
       "688                                     4.932   \n",
       "689                                     4.809   \n",
       "690                                     4.693   \n",
       "691                                     4.585   \n",
       "692                                       NaN   \n",
       "\n",
       "     Life expectancy at birth, female (years)  \\\n",
       "0                                      44.451   \n",
       "1                                      44.631   \n",
       "2                                      44.713   \n",
       "3                                      45.009   \n",
       "4                                      45.338   \n",
       "..                                        ...   \n",
       "688                                    64.744   \n",
       "689                                    64.990   \n",
       "690                                    64.898   \n",
       "691                                    64.920   \n",
       "692                                       NaN   \n",
       "\n",
       "     Life expectancy at birth, male (years)  \\\n",
       "0                                    41.533   \n",
       "1                                    41.804   \n",
       "2                                    42.102   \n",
       "3                                    42.358   \n",
       "4                                    42.543   \n",
       "..                                      ...   \n",
       "688                                  60.587   \n",
       "689                                  60.893   \n",
       "690                                  60.715   \n",
       "691                                  60.423   \n",
       "692                                     NaN   \n",
       "\n",
       "     Life expectancy at birth, total (years)  Population growth (annual %)  \\\n",
       "0                                     43.024                           NaN   \n",
       "1                                     43.252                      2.493352   \n",
       "2                                     43.441                      2.504826   \n",
       "3                                     43.718                      2.081634   \n",
       "4                                     43.974                      2.845300   \n",
       "..                                       ...                           ...   \n",
       "688                                   62.714                      3.401278   \n",
       "689                                   62.991                      3.395091   \n",
       "690                                   62.851                      3.332809   \n",
       "691                                   62.705                      3.211428   \n",
       "692                                      NaN                      2.998628   \n",
       "\n",
       "     Population, female  Population, female (% of total population)  \\\n",
       "0             1419148.0                                   51.668737   \n",
       "1             1453599.0                                   51.619796   \n",
       "2             1489006.0                                   51.569129   \n",
       "3             1519025.0                                   51.524982   \n",
       "4             1561243.0                                   51.471456   \n",
       "..                  ...                                         ...   \n",
       "688          20994287.0                                   50.569884   \n",
       "689          21707475.0                                   50.542352   \n",
       "690          22431520.0                                   50.516195   \n",
       "691          23153140.0                                   50.493418   \n",
       "692          23848253.0                                   50.472936   \n",
       "\n",
       "     Population, male  Population, male (% of total population)  \\\n",
       "0           1327479.0                                 48.331227   \n",
       "1           1362374.0                                 48.380240   \n",
       "2           1398392.0                                 48.430871   \n",
       "3           1429107.0                                 48.474984   \n",
       "4           1471978.0                                 48.528544   \n",
       "..                ...                                       ...   \n",
       "688        20521108.0                                 49.430116   \n",
       "689        21241606.0                                 49.457651   \n",
       "690        21973090.0                                 49.483802   \n",
       "691        22700638.0                                 49.506582   \n",
       "692        23401332.0                                 49.527064   \n",
       "\n",
       "     Sex ratio at birth (male births per female births)  \\\n",
       "0                                                1.025    \n",
       "1                                                1.025    \n",
       "2                                                1.025    \n",
       "3                                                1.025    \n",
       "4                                                1.025    \n",
       "..                                                 ...    \n",
       "688                                              1.028    \n",
       "689                                              1.028    \n",
       "690                                              1.028    \n",
       "691                                              1.029    \n",
       "692                                                NaN    \n",
       "\n",
       "     Survival to age 65, female (% of cohort)  \\\n",
       "0                                   37.848041   \n",
       "1                                   38.062682   \n",
       "2                                   38.045239   \n",
       "3                                   38.428793   \n",
       "4                                   38.879601   \n",
       "..                                        ...   \n",
       "688                                 63.811933   \n",
       "689                                 64.337804   \n",
       "690                                 64.012673   \n",
       "691                                 63.996120   \n",
       "692                                       NaN   \n",
       "\n",
       "     Survival to age 65, male (% of cohort)  \n",
       "0                                 32.248556  \n",
       "1                                 32.557873  \n",
       "2                                 32.959218  \n",
       "3                                 33.257476  \n",
       "4                                 33.415269  \n",
       "..                                      ...  \n",
       "688                               52.951116  \n",
       "689                               53.395080  \n",
       "690                               52.683745  \n",
       "691                               51.663767  \n",
       "692                                     NaN  \n",
       "\n",
       "[693 rows x 17 columns]"
      ]
     },
     "execution_count": 7,
     "metadata": {},
     "output_type": "execute_result"
    }
   ],
   "source": [
    "# Separate 'World' data and calculate mean for East African Countries\n",
    "world_data = df[df['Country'] == 'World'].round(2)\n",
    "east_africa_countries_data = df[df['Country'] != 'World']\n",
    "world_data.columns = [f\"{col} (World)\" if col != 'Year' else col for col in world_data.columns]\n",
    "east_africa_countries_data\n",
    "# print(world_data['Age dependency ratio (% of working-age population) (World)'])"
   ]
  },
  {
   "cell_type": "code",
   "execution_count": 8,
   "metadata": {},
   "outputs": [
    {
     "data": {
      "application/vnd.plotly.v1+json": {
       "config": {
        "plotlyServerURL": "https://plot.ly"
       },
       "data": [
        {
         "hovertemplate": "Country=Burundi<br>Year=%{x}<br>Fertility rate, total (births per woman)=%{y}<extra></extra>",
         "legendgroup": "Burundi",
         "line": {
          "color": "#1F77B4",
          "dash": "solid"
         },
         "marker": {
          "symbol": "circle"
         },
         "mode": "lines",
         "name": "Burundi",
         "orientation": "v",
         "showlegend": true,
         "type": "scatter",
         "x": [
          1960,
          1961,
          1962,
          1963,
          1964,
          1965,
          1966,
          1967,
          1968,
          1969,
          1970,
          1971,
          1972,
          1973,
          1974,
          1975,
          1976,
          1977,
          1978,
          1979,
          1980,
          1981,
          1982,
          1983,
          1984,
          1985,
          1986,
          1987,
          1988,
          1989,
          1990,
          1991,
          1992,
          1993,
          1994,
          1995,
          1996,
          1997,
          1998,
          1999,
          2000,
          2001,
          2002,
          2003,
          2004,
          2005,
          2006,
          2007,
          2008,
          2009,
          2010,
          2011,
          2012,
          2013,
          2014,
          2015,
          2016,
          2017,
          2018,
          2019,
          2020,
          2021,
          2022
         ],
         "xaxis": "x",
         "y": [
          7.003,
          7.023,
          7.038,
          7.067,
          7.09,
          7.113,
          7.135,
          7.156,
          7.18,
          7.215,
          7.214,
          7.213,
          7.21,
          7.215,
          7.222,
          7.244,
          7.248,
          7.245,
          7.259,
          7.307,
          7.353,
          7.329,
          7.314,
          7.298,
          7.295,
          7.294,
          7.32,
          7.38,
          7.383,
          7.387,
          7.365,
          7.336,
          7.301,
          7.272,
          7.23,
          7.184,
          7.123,
          7.04,
          6.958,
          6.897,
          6.872,
          6.849,
          6.819,
          6.785,
          6.746,
          6.708,
          6.659,
          6.588,
          6.515,
          6.409,
          6.26,
          6.108,
          5.991,
          5.889,
          5.794,
          5.695,
          5.587,
          5.481,
          5.38,
          5.271,
          5.177,
          5.078,
          null
         ],
         "yaxis": "y"
        },
        {
         "hovertemplate": "Country=Djibouti<br>Year=%{x}<br>Fertility rate, total (births per woman)=%{y}<extra></extra>",
         "legendgroup": "Djibouti",
         "line": {
          "color": "#FF7F0E",
          "dash": "solid"
         },
         "marker": {
          "symbol": "circle"
         },
         "mode": "lines",
         "name": "Djibouti",
         "orientation": "v",
         "showlegend": true,
         "type": "scatter",
         "x": [
          1960,
          1961,
          1962,
          1963,
          1964,
          1965,
          1966,
          1967,
          1968,
          1969,
          1970,
          1971,
          1972,
          1973,
          1974,
          1975,
          1976,
          1977,
          1978,
          1979,
          1980,
          1981,
          1982,
          1983,
          1984,
          1985,
          1986,
          1987,
          1988,
          1989,
          1990,
          1991,
          1992,
          1993,
          1994,
          1995,
          1996,
          1997,
          1998,
          1999,
          2000,
          2001,
          2002,
          2003,
          2004,
          2005,
          2006,
          2007,
          2008,
          2009,
          2010,
          2011,
          2012,
          2013,
          2014,
          2015,
          2016,
          2017,
          2018,
          2019,
          2020,
          2021,
          2022
         ],
         "xaxis": "x",
         "y": [
          6.828,
          6.829,
          6.836,
          6.837,
          6.846,
          6.845,
          6.854,
          6.846,
          6.852,
          6.847,
          6.857,
          6.858,
          6.853,
          6.823,
          6.8,
          6.769,
          6.73,
          6.694,
          6.654,
          6.607,
          6.553,
          6.491,
          6.443,
          6.387,
          6.328,
          6.263,
          6.219,
          6.171,
          6.117,
          6.055,
          5.982,
          5.877,
          5.774,
          5.663,
          5.529,
          5.34,
          5.153,
          4.957,
          4.777,
          4.67,
          4.578,
          4.496,
          4.379,
          4.247,
          4.113,
          3.992,
          3.855,
          3.724,
          3.589,
          3.487,
          3.39,
          3.305,
          3.237,
          3.178,
          3.112,
          3.066,
          3.011,
          2.972,
          2.929,
          2.891,
          2.848,
          2.804,
          null
         ],
         "yaxis": "y"
        },
        {
         "hovertemplate": "Country=Eritrea<br>Year=%{x}<br>Fertility rate, total (births per woman)=%{y}<extra></extra>",
         "legendgroup": "Eritrea",
         "line": {
          "color": "#2CA02C",
          "dash": "solid"
         },
         "marker": {
          "symbol": "circle"
         },
         "mode": "lines",
         "name": "Eritrea",
         "orientation": "v",
         "showlegend": true,
         "type": "scatter",
         "x": [
          1960,
          1961,
          1962,
          1963,
          1964,
          1965,
          1966,
          1967,
          1968,
          1969,
          1970,
          1971,
          1972,
          1973,
          1974,
          1975,
          1976,
          1977,
          1978,
          1979,
          1980,
          1981,
          1982,
          1983,
          1984,
          1985,
          1986,
          1987,
          1988,
          1989,
          1990,
          1991,
          1992,
          1993,
          1994,
          1995,
          1996,
          1997,
          1998,
          1999,
          2000,
          2001,
          2002,
          2003,
          2004,
          2005,
          2006,
          2007,
          2008,
          2009,
          2010,
          2011,
          2012,
          2013,
          2014,
          2015,
          2016,
          2017,
          2018,
          2019,
          2020,
          2021,
          2022
         ],
         "xaxis": "x",
         "y": [
          6.483,
          6.474,
          6.496,
          6.481,
          6.487,
          6.494,
          6.497,
          6.504,
          6.503,
          6.503,
          6.541,
          6.541,
          6.538,
          6.548,
          6.567,
          6.586,
          6.603,
          6.608,
          6.607,
          6.621,
          6.614,
          6.622,
          6.634,
          6.646,
          6.623,
          6.587,
          6.555,
          6.52,
          6.467,
          6.413,
          6.338,
          6.242,
          6.156,
          6.069,
          6.005,
          5.939,
          5.841,
          5.743,
          5.633,
          5.516,
          5.397,
          5.306,
          5.233,
          5.143,
          5.036,
          4.934,
          4.881,
          4.812,
          4.737,
          4.656,
          4.571,
          4.486,
          4.407,
          4.335,
          4.273,
          4.217,
          4.164,
          4.112,
          4.056,
          3.997,
          3.933,
          3.867,
          null
         ],
         "yaxis": "y"
        },
        {
         "hovertemplate": "Country=Ethiopia<br>Year=%{x}<br>Fertility rate, total (births per woman)=%{y}<extra></extra>",
         "legendgroup": "Ethiopia",
         "line": {
          "color": "#D62728",
          "dash": "solid"
         },
         "marker": {
          "symbol": "circle"
         },
         "mode": "lines",
         "name": "Ethiopia",
         "orientation": "v",
         "showlegend": true,
         "type": "scatter",
         "x": [
          1960,
          1961,
          1962,
          1963,
          1964,
          1965,
          1966,
          1967,
          1968,
          1969,
          1970,
          1971,
          1972,
          1973,
          1974,
          1975,
          1976,
          1977,
          1978,
          1979,
          1980,
          1981,
          1982,
          1983,
          1984,
          1985,
          1986,
          1987,
          1988,
          1989,
          1990,
          1991,
          1992,
          1993,
          1994,
          1995,
          1996,
          1997,
          1998,
          1999,
          2000,
          2001,
          2002,
          2003,
          2004,
          2005,
          2006,
          2007,
          2008,
          2009,
          2010,
          2011,
          2012,
          2013,
          2014,
          2015,
          2016,
          2017,
          2018,
          2019,
          2020,
          2021,
          2022
         ],
         "xaxis": "x",
         "y": [
          6.88,
          6.877,
          6.875,
          6.872,
          6.867,
          6.864,
          6.867,
          6.88,
          6.903,
          6.937,
          6.978,
          7.02,
          7.06,
          7.094,
          7.121,
          7.143,
          7.188,
          7.255,
          7.296,
          7.31,
          7.334,
          7.357,
          7.372,
          7.383,
          7.4,
          7.378,
          7.359,
          7.338,
          7.303,
          7.271,
          7.238,
          7.207,
          7.157,
          7.125,
          7.076,
          7.008,
          6.923,
          6.85,
          6.753,
          6.646,
          6.56,
          6.463,
          6.374,
          6.24,
          6.107,
          5.973,
          5.853,
          5.74,
          5.571,
          5.39,
          5.217,
          5.05,
          4.883,
          4.724,
          4.609,
          4.531,
          4.469,
          4.39,
          4.343,
          4.323,
          4.243,
          4.159,
          null
         ],
         "yaxis": "y"
        },
        {
         "hovertemplate": "Country=Kenya<br>Year=%{x}<br>Fertility rate, total (births per woman)=%{y}<extra></extra>",
         "legendgroup": "Kenya",
         "line": {
          "color": "#9467BD",
          "dash": "solid"
         },
         "marker": {
          "symbol": "circle"
         },
         "mode": "lines",
         "name": "Kenya",
         "orientation": "v",
         "showlegend": true,
         "type": "scatter",
         "x": [
          1960,
          1961,
          1962,
          1963,
          1964,
          1965,
          1966,
          1967,
          1968,
          1969,
          1970,
          1971,
          1972,
          1973,
          1974,
          1975,
          1976,
          1977,
          1978,
          1979,
          1980,
          1981,
          1982,
          1983,
          1984,
          1985,
          1986,
          1987,
          1988,
          1989,
          1990,
          1991,
          1992,
          1993,
          1994,
          1995,
          1996,
          1997,
          1998,
          1999,
          2000,
          2001,
          2002,
          2003,
          2004,
          2005,
          2006,
          2007,
          2008,
          2009,
          2010,
          2011,
          2012,
          2013,
          2014,
          2015,
          2016,
          2017,
          2018,
          2019,
          2020,
          2021,
          2022
         ],
         "xaxis": "x",
         "y": [
          7.632,
          7.718,
          7.803,
          7.864,
          7.92,
          8.028,
          8.056,
          8.046,
          8.038,
          8.031,
          8.024,
          8.003,
          7.975,
          7.939,
          7.907,
          7.877,
          7.843,
          7.803,
          7.746,
          7.679,
          7.598,
          7.513,
          7.402,
          7.263,
          7.123,
          6.975,
          6.848,
          6.682,
          6.505,
          6.323,
          6.129,
          5.935,
          5.746,
          5.574,
          5.446,
          5.366,
          5.306,
          5.26,
          5.246,
          5.181,
          5.137,
          5.091,
          5.016,
          4.907,
          4.83,
          4.784,
          4.748,
          4.719,
          4.646,
          4.514,
          4.367,
          4.219,
          4.088,
          3.952,
          3.844,
          3.8,
          3.724,
          3.643,
          3.58,
          3.469,
          3.397,
          3.335,
          null
         ],
         "yaxis": "y"
        },
        {
         "hovertemplate": "Country=Rwanda<br>Year=%{x}<br>Fertility rate, total (births per woman)=%{y}<extra></extra>",
         "legendgroup": "Rwanda",
         "line": {
          "color": "#8C564B",
          "dash": "solid"
         },
         "marker": {
          "symbol": "circle"
         },
         "mode": "lines",
         "name": "Rwanda",
         "orientation": "v",
         "showlegend": true,
         "type": "scatter",
         "x": [
          1960,
          1961,
          1962,
          1963,
          1964,
          1965,
          1966,
          1967,
          1968,
          1969,
          1970,
          1971,
          1972,
          1973,
          1974,
          1975,
          1976,
          1977,
          1978,
          1979,
          1980,
          1981,
          1982,
          1983,
          1984,
          1985,
          1986,
          1987,
          1988,
          1989,
          1990,
          1991,
          1992,
          1993,
          1994,
          1995,
          1996,
          1997,
          1998,
          1999,
          2000,
          2001,
          2002,
          2003,
          2004,
          2005,
          2006,
          2007,
          2008,
          2009,
          2010,
          2011,
          2012,
          2013,
          2014,
          2015,
          2016,
          2017,
          2018,
          2019,
          2020,
          2021,
          2022
         ],
         "xaxis": "x",
         "y": [
          8.187,
          8.194,
          8.197,
          8.198,
          8.198,
          8.198,
          8.198,
          8.201,
          8.207,
          8.217,
          8.231,
          8.228,
          8.233,
          8.232,
          8.231,
          8.224,
          8.243,
          8.24,
          8.25,
          8.23,
          8.189,
          8.156,
          8.085,
          7.987,
          7.872,
          7.725,
          7.559,
          7.39,
          7.227,
          7.058,
          6.873,
          6.705,
          6.607,
          6.51,
          6.408,
          6.324,
          6.251,
          6.176,
          6.116,
          6.013,
          5.924,
          5.844,
          5.752,
          5.674,
          5.573,
          5.436,
          5.28,
          5.1,
          4.901,
          4.716,
          4.532,
          4.357,
          4.233,
          4.159,
          4.112,
          4.081,
          4.06,
          4.027,
          3.994,
          3.939,
          3.873,
          3.821,
          null
         ],
         "yaxis": "y"
        },
        {
         "hovertemplate": "Country=Somalia<br>Year=%{x}<br>Fertility rate, total (births per woman)=%{y}<extra></extra>",
         "legendgroup": "Somalia",
         "line": {
          "color": "#E377C2",
          "dash": "solid"
         },
         "marker": {
          "symbol": "circle"
         },
         "mode": "lines",
         "name": "Somalia",
         "orientation": "v",
         "showlegend": true,
         "type": "scatter",
         "x": [
          1960,
          1961,
          1962,
          1963,
          1964,
          1965,
          1966,
          1967,
          1968,
          1969,
          1970,
          1971,
          1972,
          1973,
          1974,
          1975,
          1976,
          1977,
          1978,
          1979,
          1980,
          1981,
          1982,
          1983,
          1984,
          1985,
          1986,
          1987,
          1988,
          1989,
          1990,
          1991,
          1992,
          1993,
          1994,
          1995,
          1996,
          1997,
          1998,
          1999,
          2000,
          2001,
          2002,
          2003,
          2004,
          2005,
          2006,
          2007,
          2008,
          2009,
          2010,
          2011,
          2012,
          2013,
          2014,
          2015,
          2016,
          2017,
          2018,
          2019,
          2020,
          2021,
          2022
         ],
         "xaxis": "x",
         "y": [
          7.25,
          7.252,
          7.255,
          7.258,
          7.261,
          7.261,
          7.257,
          7.248,
          7.231,
          7.209,
          7.182,
          7.151,
          7.118,
          7.086,
          7.057,
          7.033,
          7.016,
          7.004,
          7.13,
          7.161,
          7.178,
          7.227,
          7.252,
          7.277,
          7.3,
          7.327,
          7.349,
          7.373,
          7.398,
          7.424,
          7.44,
          7.47,
          7.5,
          7.526,
          7.544,
          7.581,
          7.621,
          7.662,
          7.647,
          7.632,
          7.61,
          7.582,
          7.578,
          7.547,
          7.522,
          7.484,
          7.458,
          7.42,
          7.387,
          7.34,
          7.299,
          7.257,
          7.198,
          7.128,
          7.057,
          6.978,
          6.886,
          6.738,
          6.632,
          6.531,
          6.417,
          6.312,
          null
         ],
         "yaxis": "y"
        },
        {
         "hovertemplate": "Country=South Sudan<br>Year=%{x}<br>Fertility rate, total (births per woman)=%{y}<extra></extra>",
         "legendgroup": "South Sudan",
         "line": {
          "color": "#7F7F7F",
          "dash": "solid"
         },
         "marker": {
          "symbol": "circle"
         },
         "mode": "lines",
         "name": "South Sudan",
         "orientation": "v",
         "showlegend": true,
         "type": "scatter",
         "x": [
          1960,
          1961,
          1962,
          1963,
          1964,
          1965,
          1966,
          1967,
          1968,
          1969,
          1970,
          1971,
          1972,
          1973,
          1974,
          1975,
          1976,
          1977,
          1978,
          1979,
          1980,
          1981,
          1982,
          1983,
          1984,
          1985,
          1986,
          1987,
          1988,
          1989,
          1990,
          1991,
          1992,
          1993,
          1994,
          1995,
          1996,
          1997,
          1998,
          1999,
          2000,
          2001,
          2002,
          2003,
          2004,
          2005,
          2006,
          2007,
          2008,
          2009,
          2010,
          2011,
          2012,
          2013,
          2014,
          2015,
          2016,
          2017,
          2018,
          2019,
          2020,
          2021,
          2022
         ],
         "xaxis": "x",
         "y": [
          6.721,
          6.733,
          6.747,
          6.763,
          6.781,
          6.8,
          6.819,
          6.838,
          6.855,
          6.869,
          6.881,
          6.892,
          6.903,
          6.912,
          6.92,
          6.924,
          6.922,
          6.913,
          6.897,
          6.874,
          6.85,
          6.829,
          6.813,
          7.134,
          7.437,
          7.769,
          7.907,
          7.947,
          8.012,
          7.993,
          7.988,
          8.004,
          7.999,
          8.005,
          7.989,
          7.962,
          7.985,
          7.965,
          7.817,
          7.672,
          7.513,
          7.369,
          7.191,
          6.851,
          6.517,
          6.171,
          5.82,
          5.638,
          5.552,
          5.465,
          5.376,
          5.286,
          5.197,
          5.108,
          5.022,
          4.937,
          4.855,
          4.775,
          4.696,
          4.619,
          4.543,
          4.469,
          null
         ],
         "yaxis": "y"
        },
        {
         "hovertemplate": "Country=Sudan<br>Year=%{x}<br>Fertility rate, total (births per woman)=%{y}<extra></extra>",
         "legendgroup": "Sudan",
         "line": {
          "color": "#BCBD22",
          "dash": "solid"
         },
         "marker": {
          "symbol": "circle"
         },
         "mode": "lines",
         "name": "Sudan",
         "orientation": "v",
         "showlegend": true,
         "type": "scatter",
         "x": [
          1960,
          1961,
          1962,
          1963,
          1964,
          1965,
          1966,
          1967,
          1968,
          1969,
          1970,
          1971,
          1972,
          1973,
          1974,
          1975,
          1976,
          1977,
          1978,
          1979,
          1980,
          1981,
          1982,
          1983,
          1984,
          1985,
          1986,
          1987,
          1988,
          1989,
          1990,
          1991,
          1992,
          1993,
          1994,
          1995,
          1996,
          1997,
          1998,
          1999,
          2000,
          2001,
          2002,
          2003,
          2004,
          2005,
          2006,
          2007,
          2008,
          2009,
          2010,
          2011,
          2012,
          2013,
          2014,
          2015,
          2016,
          2017,
          2018,
          2019,
          2020,
          2021,
          2022
         ],
         "xaxis": "x",
         "y": [
          6.647,
          6.628,
          6.692,
          6.75,
          6.803,
          6.849,
          6.902,
          6.941,
          6.971,
          7.002,
          7.027,
          7.059,
          7.012,
          6.96,
          6.954,
          6.933,
          6.903,
          6.871,
          6.837,
          6.779,
          6.728,
          6.679,
          6.64,
          6.597,
          6.547,
          6.487,
          6.425,
          6.355,
          6.282,
          6.231,
          6.168,
          6.116,
          6.053,
          5.961,
          5.874,
          5.788,
          5.707,
          5.596,
          5.504,
          5.447,
          5.38,
          5.327,
          5.248,
          5.172,
          5.094,
          5.039,
          5.044,
          5.065,
          5.074,
          5.05,
          5.017,
          4.96,
          4.895,
          4.903,
          4.912,
          4.898,
          4.829,
          4.761,
          4.681,
          4.617,
          4.542,
          4.457,
          null
         ],
         "yaxis": "y"
        },
        {
         "hovertemplate": "Country=Tanzania<br>Year=%{x}<br>Fertility rate, total (births per woman)=%{y}<extra></extra>",
         "legendgroup": "Tanzania",
         "line": {
          "color": "#17BECF",
          "dash": "solid"
         },
         "marker": {
          "symbol": "circle"
         },
         "mode": "lines",
         "name": "Tanzania",
         "orientation": "v",
         "showlegend": true,
         "type": "scatter",
         "x": [
          1960,
          1961,
          1962,
          1963,
          1964,
          1965,
          1966,
          1967,
          1968,
          1969,
          1970,
          1971,
          1972,
          1973,
          1974,
          1975,
          1976,
          1977,
          1978,
          1979,
          1980,
          1981,
          1982,
          1983,
          1984,
          1985,
          1986,
          1987,
          1988,
          1989,
          1990,
          1991,
          1992,
          1993,
          1994,
          1995,
          1996,
          1997,
          1998,
          1999,
          2000,
          2001,
          2002,
          2003,
          2004,
          2005,
          2006,
          2007,
          2008,
          2009,
          2010,
          2011,
          2012,
          2013,
          2014,
          2015,
          2016,
          2017,
          2018,
          2019,
          2020,
          2021,
          2022
         ],
         "xaxis": "x",
         "y": [
          6.725,
          6.754,
          6.758,
          6.77,
          6.775,
          6.777,
          6.791,
          6.798,
          6.835,
          6.878,
          6.909,
          6.944,
          6.951,
          6.962,
          6.998,
          7.001,
          6.989,
          6.987,
          6.979,
          6.954,
          6.906,
          6.851,
          6.796,
          6.749,
          6.669,
          6.569,
          6.475,
          6.399,
          6.371,
          6.289,
          6.195,
          6.135,
          6.078,
          6.011,
          5.927,
          5.865,
          5.848,
          5.838,
          5.789,
          5.734,
          5.686,
          5.665,
          5.623,
          5.605,
          5.607,
          5.61,
          5.563,
          5.485,
          5.425,
          5.357,
          5.293,
          5.207,
          5.098,
          5.122,
          5.122,
          5.088,
          5.033,
          4.993,
          4.923,
          4.864,
          4.795,
          4.726,
          null
         ],
         "yaxis": "y"
        },
        {
         "hovertemplate": "Country=Uganda<br>Year=%{x}<br>Fertility rate, total (births per woman)=%{y}<extra></extra>",
         "legendgroup": "Uganda",
         "line": {
          "color": "#1F77B4",
          "dash": "solid"
         },
         "marker": {
          "symbol": "circle"
         },
         "mode": "lines",
         "name": "Uganda",
         "orientation": "v",
         "showlegend": true,
         "type": "scatter",
         "x": [
          1960,
          1961,
          1962,
          1963,
          1964,
          1965,
          1966,
          1967,
          1968,
          1969,
          1970,
          1971,
          1972,
          1973,
          1974,
          1975,
          1976,
          1977,
          1978,
          1979,
          1980,
          1981,
          1982,
          1983,
          1984,
          1985,
          1986,
          1987,
          1988,
          1989,
          1990,
          1991,
          1992,
          1993,
          1994,
          1995,
          1996,
          1997,
          1998,
          1999,
          2000,
          2001,
          2002,
          2003,
          2004,
          2005,
          2006,
          2007,
          2008,
          2009,
          2010,
          2011,
          2012,
          2013,
          2014,
          2015,
          2016,
          2017,
          2018,
          2019,
          2020,
          2021,
          2022
         ],
         "xaxis": "x",
         "y": [
          6.936,
          6.968,
          6.997,
          7.023,
          7.053,
          7.085,
          7.116,
          7.148,
          7.187,
          7.163,
          7.186,
          7.204,
          7.215,
          7.222,
          7.223,
          7.23,
          7.231,
          7.209,
          7.178,
          7.157,
          7.134,
          7.115,
          7.086,
          7.04,
          7.004,
          7.035,
          7.081,
          7.119,
          7.105,
          7.072,
          7.037,
          6.983,
          6.96,
          6.932,
          6.928,
          6.917,
          6.894,
          6.906,
          6.887,
          6.875,
          6.832,
          6.81,
          6.779,
          6.702,
          6.653,
          6.572,
          6.481,
          6.379,
          6.251,
          6.174,
          6.071,
          5.935,
          5.784,
          5.618,
          5.463,
          5.306,
          5.174,
          5.052,
          4.932,
          4.809,
          4.693,
          4.585,
          null
         ],
         "yaxis": "y"
        },
        {
         "hovertemplate": "Country=World<br>Year=%{x}<br>Fertility rate, total (births per woman)=%{y}<extra></extra>",
         "legendgroup": "World",
         "line": {
          "color": "#FF7F0E",
          "dash": "solid"
         },
         "marker": {
          "symbol": "circle"
         },
         "mode": "lines",
         "name": "World",
         "orientation": "v",
         "showlegend": true,
         "type": "scatter",
         "x": [
          1960,
          1961,
          1962,
          1963,
          1964,
          1965,
          1966,
          1967,
          1968,
          1969,
          1970,
          1971,
          1972,
          1973,
          1974,
          1975,
          1976,
          1977,
          1978,
          1979,
          1980,
          1981,
          1982,
          1983,
          1984,
          1985,
          1986,
          1987,
          1988,
          1989,
          1990,
          1991,
          1992,
          1993,
          1994,
          1995,
          1996,
          1997,
          1998,
          1999,
          2000,
          2001,
          2002,
          2003,
          2004,
          2005,
          2006,
          2007,
          2008,
          2009,
          2010,
          2011,
          2012,
          2013,
          2014,
          2015,
          2016,
          2017,
          2018,
          2019,
          2020,
          2021,
          2022
         ],
         "xaxis": "x",
         "y": [
          4.6958544774725945,
          4.57558682331231,
          5.035173192526544,
          5.323428296730389,
          5.141420444391577,
          5.093540607045648,
          4.977456102368508,
          4.872308963848616,
          4.982433612987174,
          4.886248212413418,
          4.846310561484064,
          4.695919260358082,
          4.55438387026764,
          4.424459659666883,
          4.263718713446885,
          4.0798998170592,
          3.972314654420682,
          3.8463965388513537,
          3.778301450948139,
          3.7609726869444846,
          3.734713401122491,
          3.708068326341467,
          3.723045479306507,
          3.594337915059874,
          3.5683444459080333,
          3.5312153548619536,
          3.5173197069264543,
          3.487620853106305,
          3.396131237887416,
          3.346343036873359,
          3.30544149103758,
          3.124411704942078,
          3.0380369287577915,
          2.9693726091760744,
          2.9155059569439343,
          2.861437383326087,
          2.8135516710788937,
          2.771374133965328,
          2.736058606301369,
          2.7090891880036594,
          2.718464968609825,
          2.680647869107073,
          2.6537468388284533,
          2.630037248744434,
          2.6213987900811584,
          2.6031561062806032,
          2.595279100178077,
          2.594251161805164,
          2.5935828321416343,
          2.5797497115287995,
          2.554578403097864,
          2.534063039667521,
          2.549637075807997,
          2.5142263960074884,
          2.506536725580747,
          2.477850666248411,
          2.481079335042898,
          2.459191350954296,
          2.3973397470126154,
          2.3605593162724894,
          2.2996264874643595,
          2.273191000906752,
          null
         ],
         "yaxis": "y"
        }
       ],
       "layout": {
        "legend": {
         "title": {
          "text": "Country"
         },
         "tracegroupgap": 0
        },
        "template": {
         "data": {
          "bar": [
           {
            "error_x": {
             "color": "rgb(36,36,36)"
            },
            "error_y": {
             "color": "rgb(36,36,36)"
            },
            "marker": {
             "line": {
              "color": "white",
              "width": 0.5
             },
             "pattern": {
              "fillmode": "overlay",
              "size": 10,
              "solidity": 0.2
             }
            },
            "type": "bar"
           }
          ],
          "barpolar": [
           {
            "marker": {
             "line": {
              "color": "white",
              "width": 0.5
             },
             "pattern": {
              "fillmode": "overlay",
              "size": 10,
              "solidity": 0.2
             }
            },
            "type": "barpolar"
           }
          ],
          "carpet": [
           {
            "aaxis": {
             "endlinecolor": "rgb(36,36,36)",
             "gridcolor": "white",
             "linecolor": "white",
             "minorgridcolor": "white",
             "startlinecolor": "rgb(36,36,36)"
            },
            "baxis": {
             "endlinecolor": "rgb(36,36,36)",
             "gridcolor": "white",
             "linecolor": "white",
             "minorgridcolor": "white",
             "startlinecolor": "rgb(36,36,36)"
            },
            "type": "carpet"
           }
          ],
          "choropleth": [
           {
            "colorbar": {
             "outlinewidth": 1,
             "tickcolor": "rgb(36,36,36)",
             "ticks": "outside"
            },
            "type": "choropleth"
           }
          ],
          "contour": [
           {
            "colorbar": {
             "outlinewidth": 1,
             "tickcolor": "rgb(36,36,36)",
             "ticks": "outside"
            },
            "colorscale": [
             [
              0,
              "#440154"
             ],
             [
              0.1111111111111111,
              "#482878"
             ],
             [
              0.2222222222222222,
              "#3e4989"
             ],
             [
              0.3333333333333333,
              "#31688e"
             ],
             [
              0.4444444444444444,
              "#26828e"
             ],
             [
              0.5555555555555556,
              "#1f9e89"
             ],
             [
              0.6666666666666666,
              "#35b779"
             ],
             [
              0.7777777777777778,
              "#6ece58"
             ],
             [
              0.8888888888888888,
              "#b5de2b"
             ],
             [
              1,
              "#fde725"
             ]
            ],
            "type": "contour"
           }
          ],
          "contourcarpet": [
           {
            "colorbar": {
             "outlinewidth": 1,
             "tickcolor": "rgb(36,36,36)",
             "ticks": "outside"
            },
            "type": "contourcarpet"
           }
          ],
          "heatmap": [
           {
            "colorbar": {
             "outlinewidth": 1,
             "tickcolor": "rgb(36,36,36)",
             "ticks": "outside"
            },
            "colorscale": [
             [
              0,
              "#440154"
             ],
             [
              0.1111111111111111,
              "#482878"
             ],
             [
              0.2222222222222222,
              "#3e4989"
             ],
             [
              0.3333333333333333,
              "#31688e"
             ],
             [
              0.4444444444444444,
              "#26828e"
             ],
             [
              0.5555555555555556,
              "#1f9e89"
             ],
             [
              0.6666666666666666,
              "#35b779"
             ],
             [
              0.7777777777777778,
              "#6ece58"
             ],
             [
              0.8888888888888888,
              "#b5de2b"
             ],
             [
              1,
              "#fde725"
             ]
            ],
            "type": "heatmap"
           }
          ],
          "heatmapgl": [
           {
            "colorbar": {
             "outlinewidth": 1,
             "tickcolor": "rgb(36,36,36)",
             "ticks": "outside"
            },
            "colorscale": [
             [
              0,
              "#440154"
             ],
             [
              0.1111111111111111,
              "#482878"
             ],
             [
              0.2222222222222222,
              "#3e4989"
             ],
             [
              0.3333333333333333,
              "#31688e"
             ],
             [
              0.4444444444444444,
              "#26828e"
             ],
             [
              0.5555555555555556,
              "#1f9e89"
             ],
             [
              0.6666666666666666,
              "#35b779"
             ],
             [
              0.7777777777777778,
              "#6ece58"
             ],
             [
              0.8888888888888888,
              "#b5de2b"
             ],
             [
              1,
              "#fde725"
             ]
            ],
            "type": "heatmapgl"
           }
          ],
          "histogram": [
           {
            "marker": {
             "line": {
              "color": "white",
              "width": 0.6
             }
            },
            "type": "histogram"
           }
          ],
          "histogram2d": [
           {
            "colorbar": {
             "outlinewidth": 1,
             "tickcolor": "rgb(36,36,36)",
             "ticks": "outside"
            },
            "colorscale": [
             [
              0,
              "#440154"
             ],
             [
              0.1111111111111111,
              "#482878"
             ],
             [
              0.2222222222222222,
              "#3e4989"
             ],
             [
              0.3333333333333333,
              "#31688e"
             ],
             [
              0.4444444444444444,
              "#26828e"
             ],
             [
              0.5555555555555556,
              "#1f9e89"
             ],
             [
              0.6666666666666666,
              "#35b779"
             ],
             [
              0.7777777777777778,
              "#6ece58"
             ],
             [
              0.8888888888888888,
              "#b5de2b"
             ],
             [
              1,
              "#fde725"
             ]
            ],
            "type": "histogram2d"
           }
          ],
          "histogram2dcontour": [
           {
            "colorbar": {
             "outlinewidth": 1,
             "tickcolor": "rgb(36,36,36)",
             "ticks": "outside"
            },
            "colorscale": [
             [
              0,
              "#440154"
             ],
             [
              0.1111111111111111,
              "#482878"
             ],
             [
              0.2222222222222222,
              "#3e4989"
             ],
             [
              0.3333333333333333,
              "#31688e"
             ],
             [
              0.4444444444444444,
              "#26828e"
             ],
             [
              0.5555555555555556,
              "#1f9e89"
             ],
             [
              0.6666666666666666,
              "#35b779"
             ],
             [
              0.7777777777777778,
              "#6ece58"
             ],
             [
              0.8888888888888888,
              "#b5de2b"
             ],
             [
              1,
              "#fde725"
             ]
            ],
            "type": "histogram2dcontour"
           }
          ],
          "mesh3d": [
           {
            "colorbar": {
             "outlinewidth": 1,
             "tickcolor": "rgb(36,36,36)",
             "ticks": "outside"
            },
            "type": "mesh3d"
           }
          ],
          "parcoords": [
           {
            "line": {
             "colorbar": {
              "outlinewidth": 1,
              "tickcolor": "rgb(36,36,36)",
              "ticks": "outside"
             }
            },
            "type": "parcoords"
           }
          ],
          "pie": [
           {
            "automargin": true,
            "type": "pie"
           }
          ],
          "scatter": [
           {
            "fillpattern": {
             "fillmode": "overlay",
             "size": 10,
             "solidity": 0.2
            },
            "type": "scatter"
           }
          ],
          "scatter3d": [
           {
            "line": {
             "colorbar": {
              "outlinewidth": 1,
              "tickcolor": "rgb(36,36,36)",
              "ticks": "outside"
             }
            },
            "marker": {
             "colorbar": {
              "outlinewidth": 1,
              "tickcolor": "rgb(36,36,36)",
              "ticks": "outside"
             }
            },
            "type": "scatter3d"
           }
          ],
          "scattercarpet": [
           {
            "marker": {
             "colorbar": {
              "outlinewidth": 1,
              "tickcolor": "rgb(36,36,36)",
              "ticks": "outside"
             }
            },
            "type": "scattercarpet"
           }
          ],
          "scattergeo": [
           {
            "marker": {
             "colorbar": {
              "outlinewidth": 1,
              "tickcolor": "rgb(36,36,36)",
              "ticks": "outside"
             }
            },
            "type": "scattergeo"
           }
          ],
          "scattergl": [
           {
            "marker": {
             "colorbar": {
              "outlinewidth": 1,
              "tickcolor": "rgb(36,36,36)",
              "ticks": "outside"
             }
            },
            "type": "scattergl"
           }
          ],
          "scattermapbox": [
           {
            "marker": {
             "colorbar": {
              "outlinewidth": 1,
              "tickcolor": "rgb(36,36,36)",
              "ticks": "outside"
             }
            },
            "type": "scattermapbox"
           }
          ],
          "scatterpolar": [
           {
            "marker": {
             "colorbar": {
              "outlinewidth": 1,
              "tickcolor": "rgb(36,36,36)",
              "ticks": "outside"
             }
            },
            "type": "scatterpolar"
           }
          ],
          "scatterpolargl": [
           {
            "marker": {
             "colorbar": {
              "outlinewidth": 1,
              "tickcolor": "rgb(36,36,36)",
              "ticks": "outside"
             }
            },
            "type": "scatterpolargl"
           }
          ],
          "scatterternary": [
           {
            "marker": {
             "colorbar": {
              "outlinewidth": 1,
              "tickcolor": "rgb(36,36,36)",
              "ticks": "outside"
             }
            },
            "type": "scatterternary"
           }
          ],
          "surface": [
           {
            "colorbar": {
             "outlinewidth": 1,
             "tickcolor": "rgb(36,36,36)",
             "ticks": "outside"
            },
            "colorscale": [
             [
              0,
              "#440154"
             ],
             [
              0.1111111111111111,
              "#482878"
             ],
             [
              0.2222222222222222,
              "#3e4989"
             ],
             [
              0.3333333333333333,
              "#31688e"
             ],
             [
              0.4444444444444444,
              "#26828e"
             ],
             [
              0.5555555555555556,
              "#1f9e89"
             ],
             [
              0.6666666666666666,
              "#35b779"
             ],
             [
              0.7777777777777778,
              "#6ece58"
             ],
             [
              0.8888888888888888,
              "#b5de2b"
             ],
             [
              1,
              "#fde725"
             ]
            ],
            "type": "surface"
           }
          ],
          "table": [
           {
            "cells": {
             "fill": {
              "color": "rgb(237,237,237)"
             },
             "line": {
              "color": "white"
             }
            },
            "header": {
             "fill": {
              "color": "rgb(217,217,217)"
             },
             "line": {
              "color": "white"
             }
            },
            "type": "table"
           }
          ]
         },
         "layout": {
          "annotationdefaults": {
           "arrowhead": 0,
           "arrowwidth": 1
          },
          "autotypenumbers": "strict",
          "coloraxis": {
           "colorbar": {
            "outlinewidth": 1,
            "tickcolor": "rgb(36,36,36)",
            "ticks": "outside"
           }
          },
          "colorscale": {
           "diverging": [
            [
             0,
             "rgb(103,0,31)"
            ],
            [
             0.1,
             "rgb(178,24,43)"
            ],
            [
             0.2,
             "rgb(214,96,77)"
            ],
            [
             0.3,
             "rgb(244,165,130)"
            ],
            [
             0.4,
             "rgb(253,219,199)"
            ],
            [
             0.5,
             "rgb(247,247,247)"
            ],
            [
             0.6,
             "rgb(209,229,240)"
            ],
            [
             0.7,
             "rgb(146,197,222)"
            ],
            [
             0.8,
             "rgb(67,147,195)"
            ],
            [
             0.9,
             "rgb(33,102,172)"
            ],
            [
             1,
             "rgb(5,48,97)"
            ]
           ],
           "sequential": [
            [
             0,
             "#440154"
            ],
            [
             0.1111111111111111,
             "#482878"
            ],
            [
             0.2222222222222222,
             "#3e4989"
            ],
            [
             0.3333333333333333,
             "#31688e"
            ],
            [
             0.4444444444444444,
             "#26828e"
            ],
            [
             0.5555555555555556,
             "#1f9e89"
            ],
            [
             0.6666666666666666,
             "#35b779"
            ],
            [
             0.7777777777777778,
             "#6ece58"
            ],
            [
             0.8888888888888888,
             "#b5de2b"
            ],
            [
             1,
             "#fde725"
            ]
           ],
           "sequentialminus": [
            [
             0,
             "#440154"
            ],
            [
             0.1111111111111111,
             "#482878"
            ],
            [
             0.2222222222222222,
             "#3e4989"
            ],
            [
             0.3333333333333333,
             "#31688e"
            ],
            [
             0.4444444444444444,
             "#26828e"
            ],
            [
             0.5555555555555556,
             "#1f9e89"
            ],
            [
             0.6666666666666666,
             "#35b779"
            ],
            [
             0.7777777777777778,
             "#6ece58"
            ],
            [
             0.8888888888888888,
             "#b5de2b"
            ],
            [
             1,
             "#fde725"
            ]
           ]
          },
          "colorway": [
           "#1F77B4",
           "#FF7F0E",
           "#2CA02C",
           "#D62728",
           "#9467BD",
           "#8C564B",
           "#E377C2",
           "#7F7F7F",
           "#BCBD22",
           "#17BECF"
          ],
          "font": {
           "color": "rgb(36,36,36)"
          },
          "geo": {
           "bgcolor": "white",
           "lakecolor": "white",
           "landcolor": "white",
           "showlakes": true,
           "showland": true,
           "subunitcolor": "white"
          },
          "hoverlabel": {
           "align": "left"
          },
          "hovermode": "closest",
          "mapbox": {
           "style": "light"
          },
          "paper_bgcolor": "white",
          "plot_bgcolor": "white",
          "polar": {
           "angularaxis": {
            "gridcolor": "rgb(232,232,232)",
            "linecolor": "rgb(36,36,36)",
            "showgrid": false,
            "showline": true,
            "ticks": "outside"
           },
           "bgcolor": "white",
           "radialaxis": {
            "gridcolor": "rgb(232,232,232)",
            "linecolor": "rgb(36,36,36)",
            "showgrid": false,
            "showline": true,
            "ticks": "outside"
           }
          },
          "scene": {
           "xaxis": {
            "backgroundcolor": "white",
            "gridcolor": "rgb(232,232,232)",
            "gridwidth": 2,
            "linecolor": "rgb(36,36,36)",
            "showbackground": true,
            "showgrid": false,
            "showline": true,
            "ticks": "outside",
            "zeroline": false,
            "zerolinecolor": "rgb(36,36,36)"
           },
           "yaxis": {
            "backgroundcolor": "white",
            "gridcolor": "rgb(232,232,232)",
            "gridwidth": 2,
            "linecolor": "rgb(36,36,36)",
            "showbackground": true,
            "showgrid": false,
            "showline": true,
            "ticks": "outside",
            "zeroline": false,
            "zerolinecolor": "rgb(36,36,36)"
           },
           "zaxis": {
            "backgroundcolor": "white",
            "gridcolor": "rgb(232,232,232)",
            "gridwidth": 2,
            "linecolor": "rgb(36,36,36)",
            "showbackground": true,
            "showgrid": false,
            "showline": true,
            "ticks": "outside",
            "zeroline": false,
            "zerolinecolor": "rgb(36,36,36)"
           }
          },
          "shapedefaults": {
           "fillcolor": "black",
           "line": {
            "width": 0
           },
           "opacity": 0.3
          },
          "ternary": {
           "aaxis": {
            "gridcolor": "rgb(232,232,232)",
            "linecolor": "rgb(36,36,36)",
            "showgrid": false,
            "showline": true,
            "ticks": "outside"
           },
           "baxis": {
            "gridcolor": "rgb(232,232,232)",
            "linecolor": "rgb(36,36,36)",
            "showgrid": false,
            "showline": true,
            "ticks": "outside"
           },
           "bgcolor": "white",
           "caxis": {
            "gridcolor": "rgb(232,232,232)",
            "linecolor": "rgb(36,36,36)",
            "showgrid": false,
            "showline": true,
            "ticks": "outside"
           }
          },
          "title": {
           "x": 0.05
          },
          "xaxis": {
           "automargin": true,
           "gridcolor": "rgb(232,232,232)",
           "linecolor": "rgb(36,36,36)",
           "showgrid": false,
           "showline": true,
           "ticks": "outside",
           "title": {
            "standoff": 15
           },
           "zeroline": false,
           "zerolinecolor": "rgb(36,36,36)"
          },
          "yaxis": {
           "automargin": true,
           "gridcolor": "rgb(232,232,232)",
           "linecolor": "rgb(36,36,36)",
           "showgrid": false,
           "showline": true,
           "ticks": "outside",
           "title": {
            "standoff": 15
           },
           "zeroline": false,
           "zerolinecolor": "rgb(36,36,36)"
          }
         }
        },
        "title": {
         "text": "Fertility Rate in East Africa"
        },
        "xaxis": {
         "anchor": "y",
         "domain": [
          0,
          1
         ],
         "title": {
          "text": "Year"
         }
        },
        "yaxis": {
         "anchor": "x",
         "domain": [
          0,
          1
         ],
         "title": {
          "text": "Fertility rate, total (births per woman)"
         }
        }
       }
      }
     },
     "metadata": {},
     "output_type": "display_data"
    }
   ],
   "source": [
    "fig=px.line(df,\n",
    "            x='Year',\n",
    "            y='Fertility rate, total (births per woman)',\n",
    "            color='Country',\n",
    "            title='Fertility Rate in East Africa',\n",
    "            template='simple_white')\n",
    "fig.show()"
   ]
  },
  {
   "cell_type": "code",
   "execution_count": 10,
   "metadata": {},
   "outputs": [
    {
     "data": {
      "application/vnd.plotly.v1+json": {
       "config": {
        "plotlyServerURL": "https://plot.ly"
       },
       "data": [
        {
         "hovertemplate": "Country=Burundi<br>Year=%{x}<br>Life expectancy at birth, total (years)=%{y}<extra></extra>",
         "legendgroup": "Burundi",
         "line": {
          "color": "#1F77B4",
          "dash": "solid"
         },
         "marker": {
          "symbol": "circle"
         },
         "mode": "lines",
         "name": "Burundi",
         "orientation": "v",
         "showlegend": true,
         "type": "scatter",
         "x": [
          1960,
          1961,
          1962,
          1963,
          1964,
          1965,
          1966,
          1967,
          1968,
          1969,
          1970,
          1971,
          1972,
          1973,
          1974,
          1975,
          1976,
          1977,
          1978,
          1979,
          1980,
          1981,
          1982,
          1983,
          1984,
          1985,
          1986,
          1987,
          1988,
          1989,
          1990,
          1991,
          1992,
          1993,
          1994,
          1995,
          1996,
          1997,
          1998,
          1999,
          2000,
          2001,
          2002,
          2003,
          2004,
          2005,
          2006,
          2007,
          2008,
          2009,
          2010,
          2011,
          2012,
          2013,
          2014,
          2015,
          2016,
          2017,
          2018,
          2019,
          2020,
          2021,
          2022
         ],
         "xaxis": "x",
         "y": [
          43.024,
          43.252,
          43.441,
          43.718,
          43.974,
          42.005,
          43.531,
          43.341,
          43.378,
          42.874,
          43.041,
          42.965,
          25.613,
          37.275,
          43.012,
          42.982,
          43.144,
          43.513,
          43.764,
          44.59,
          45.406,
          46.393,
          47.29,
          48.051,
          48.491,
          48.541,
          48.164,
          47.516,
          43.04,
          45.62,
          44.86,
          44.227,
          43.895,
          37.105,
          44.08,
          44.059,
          44.373,
          45.387,
          46.552,
          47.528,
          47.514,
          48.431,
          49.891,
          50.857,
          52.01,
          53.023,
          53.869,
          54.727,
          55.71,
          56.388,
          57.081,
          57.769,
          58.493,
          59.235,
          59.868,
          60.217,
          60.793,
          61.553,
          61.688,
          62.351,
          61.566,
          61.663,
          null
         ],
         "yaxis": "y"
        },
        {
         "hovertemplate": "Country=Djibouti<br>Year=%{x}<br>Life expectancy at birth, total (years)=%{y}<extra></extra>",
         "legendgroup": "Djibouti",
         "line": {
          "color": "#FF7F0E",
          "dash": "solid"
         },
         "marker": {
          "symbol": "circle"
         },
         "mode": "lines",
         "name": "Djibouti",
         "orientation": "v",
         "showlegend": true,
         "type": "scatter",
         "x": [
          1960,
          1961,
          1962,
          1963,
          1964,
          1965,
          1966,
          1967,
          1968,
          1969,
          1970,
          1971,
          1972,
          1973,
          1974,
          1975,
          1976,
          1977,
          1978,
          1979,
          1980,
          1981,
          1982,
          1983,
          1984,
          1985,
          1986,
          1987,
          1988,
          1989,
          1990,
          1991,
          1992,
          1993,
          1994,
          1995,
          1996,
          1997,
          1998,
          1999,
          2000,
          2001,
          2002,
          2003,
          2004,
          2005,
          2006,
          2007,
          2008,
          2009,
          2010,
          2011,
          2012,
          2013,
          2014,
          2015,
          2016,
          2017,
          2018,
          2019,
          2020,
          2021,
          2022
         ],
         "xaxis": "x",
         "y": [
          43.429,
          43.721,
          44.088,
          44.414,
          44.667,
          45.088,
          45.474,
          45.907,
          46.438,
          46.982,
          47.511,
          47.358,
          48.528,
          49.119,
          49.524,
          49.87,
          50.058,
          50.568,
          51.049,
          51.518,
          51.947,
          52.262,
          52.765,
          53.18,
          53.703,
          54.067,
          54.481,
          54.775,
          55.161,
          55.273,
          55.498,
          55.156,
          54.452,
          55.774,
          55.505,
          56.302,
          56.186,
          55.967,
          56.176,
          56.427,
          56.573,
          56.903,
          57.215,
          57.595,
          57.759,
          58.316,
          58.715,
          59.024,
          59.365,
          59.673,
          60.259,
          60.433,
          60.848,
          61.221,
          61.641,
          61.957,
          62.191,
          62.797,
          63.038,
          63.085,
          62.694,
          62.305,
          null
         ],
         "yaxis": "y"
        },
        {
         "hovertemplate": "Country=Eritrea<br>Year=%{x}<br>Life expectancy at birth, total (years)=%{y}<extra></extra>",
         "legendgroup": "Eritrea",
         "line": {
          "color": "#2CA02C",
          "dash": "solid"
         },
         "marker": {
          "symbol": "circle"
         },
         "mode": "lines",
         "name": "Eritrea",
         "orientation": "v",
         "showlegend": true,
         "type": "scatter",
         "x": [
          1960,
          1961,
          1962,
          1963,
          1964,
          1965,
          1966,
          1967,
          1968,
          1969,
          1970,
          1971,
          1972,
          1973,
          1974,
          1975,
          1976,
          1977,
          1978,
          1979,
          1980,
          1981,
          1982,
          1983,
          1984,
          1985,
          1986,
          1987,
          1988,
          1989,
          1990,
          1991,
          1992,
          1993,
          1994,
          1995,
          1996,
          1997,
          1998,
          1999,
          2000,
          2001,
          2002,
          2003,
          2004,
          2005,
          2006,
          2007,
          2008,
          2009,
          2010,
          2011,
          2012,
          2013,
          2014,
          2015,
          2016,
          2017,
          2018,
          2019,
          2020,
          2021,
          2022
         ],
         "xaxis": "x",
         "y": [
          37.5,
          37.974,
          38.393,
          38.774,
          39.24,
          39.554,
          39.882,
          40.09,
          40.38,
          40.722,
          41.09,
          41.483,
          41.848,
          42.252,
          42.243,
          42.24,
          42.656,
          43.175,
          43.561,
          43.972,
          44.585,
          44.905,
          44.86,
          45.323,
          45.777,
          46.145,
          47.075,
          47.333,
          48.015,
          47.828,
          49.769,
          50.607,
          52.465,
          53.234,
          54.1,
          54.914,
          55.756,
          56.312,
          49.158,
          43.397,
          56.111,
          58.298,
          58.811,
          59.409,
          59.899,
          60.597,
          61.611,
          62.116,
          62.573,
          63.328,
          63.787,
          64.402,
          64.838,
          65.067,
          65.6,
          66.033,
          66.289,
          66.577,
          67.067,
          67.3,
          67.133,
          66.536,
          null
         ],
         "yaxis": "y"
        },
        {
         "hovertemplate": "Country=Ethiopia<br>Year=%{x}<br>Life expectancy at birth, total (years)=%{y}<extra></extra>",
         "legendgroup": "Ethiopia",
         "line": {
          "color": "#D62728",
          "dash": "solid"
         },
         "marker": {
          "symbol": "circle"
         },
         "mode": "lines",
         "name": "Ethiopia",
         "orientation": "v",
         "showlegend": true,
         "type": "scatter",
         "x": [
          1960,
          1961,
          1962,
          1963,
          1964,
          1965,
          1966,
          1967,
          1968,
          1969,
          1970,
          1971,
          1972,
          1973,
          1974,
          1975,
          1976,
          1977,
          1978,
          1979,
          1980,
          1981,
          1982,
          1983,
          1984,
          1985,
          1986,
          1987,
          1988,
          1989,
          1990,
          1991,
          1992,
          1993,
          1994,
          1995,
          1996,
          1997,
          1998,
          1999,
          2000,
          2001,
          2002,
          2003,
          2004,
          2005,
          2006,
          2007,
          2008,
          2009,
          2010,
          2011,
          2012,
          2013,
          2014,
          2015,
          2016,
          2017,
          2018,
          2019,
          2020,
          2021,
          2022
         ],
         "xaxis": "x",
         "y": [
          40.33,
          40.995,
          41.403,
          41.956,
          42.275,
          42.444,
          40.15,
          42.692,
          42.844,
          42.83,
          42.815,
          42.892,
          41.55,
          41.635,
          39.453,
          39.356,
          41.895,
          41.893,
          41.9,
          42.807,
          43.217,
          43.608,
          43.767,
          36.036,
          36.429,
          37.364,
          37.811,
          45.44,
          45.061,
          45.036,
          44.557,
          46.13,
          46.901,
          47.394,
          47.861,
          48.302,
          48.924,
          49.514,
          49.927,
          49.425,
          50.538,
          51.043,
          51.517,
          52.533,
          53.235,
          54.008,
          55.149,
          56.426,
          57.592,
          58.804,
          59.73,
          60.721,
          61.543,
          62.373,
          62.905,
          63.649,
          64.392,
          64.838,
          65.412,
          65.838,
          65.371,
          64.975,
          null
         ],
         "yaxis": "y"
        },
        {
         "hovertemplate": "Country=Kenya<br>Year=%{x}<br>Life expectancy at birth, total (years)=%{y}<extra></extra>",
         "legendgroup": "Kenya",
         "line": {
          "color": "#9467BD",
          "dash": "solid"
         },
         "marker": {
          "symbol": "circle"
         },
         "mode": "lines",
         "name": "Kenya",
         "orientation": "v",
         "showlegend": true,
         "type": "scatter",
         "x": [
          1960,
          1961,
          1962,
          1963,
          1964,
          1965,
          1966,
          1967,
          1968,
          1969,
          1970,
          1971,
          1972,
          1973,
          1974,
          1975,
          1976,
          1977,
          1978,
          1979,
          1980,
          1981,
          1982,
          1983,
          1984,
          1985,
          1986,
          1987,
          1988,
          1989,
          1990,
          1991,
          1992,
          1993,
          1994,
          1995,
          1996,
          1997,
          1998,
          1999,
          2000,
          2001,
          2002,
          2003,
          2004,
          2005,
          2006,
          2007,
          2008,
          2009,
          2010,
          2011,
          2012,
          2013,
          2014,
          2015,
          2016,
          2017,
          2018,
          2019,
          2020,
          2021,
          2022
         ],
         "xaxis": "x",
         "y": [
          48.68,
          49.533,
          50.224,
          50.808,
          51.328,
          51.7,
          52.097,
          52.455,
          52.781,
          53.169,
          53.575,
          54.258,
          55.012,
          55.677,
          55.634,
          55.826,
          55.895,
          56.486,
          56.944,
          57.722,
          58.501,
          61.165,
          60.953,
          61.012,
          60.804,
          60.58,
          60.216,
          60.044,
          59.539,
          59.04,
          58.614,
          58.005,
          57.259,
          56.617,
          56.273,
          55.617,
          55.161,
          54.816,
          54.526,
          54.495,
          54.411,
          54.508,
          54.99,
          55.601,
          56.361,
          57.344,
          58.222,
          58.865,
          59.614,
          60.365,
          60.649,
          61.046,
          61.115,
          61.389,
          61.816,
          61.892,
          62.163,
          62.481,
          62.676,
          62.943,
          62.675,
          61.427,
          null
         ],
         "yaxis": "y"
        },
        {
         "hovertemplate": "Country=Rwanda<br>Year=%{x}<br>Life expectancy at birth, total (years)=%{y}<extra></extra>",
         "legendgroup": "Rwanda",
         "line": {
          "color": "#8C564B",
          "dash": "solid"
         },
         "marker": {
          "symbol": "circle"
         },
         "mode": "lines",
         "name": "Rwanda",
         "orientation": "v",
         "showlegend": true,
         "type": "scatter",
         "x": [
          1960,
          1961,
          1962,
          1963,
          1964,
          1965,
          1966,
          1967,
          1968,
          1969,
          1970,
          1971,
          1972,
          1973,
          1974,
          1975,
          1976,
          1977,
          1978,
          1979,
          1980,
          1981,
          1982,
          1983,
          1984,
          1985,
          1986,
          1987,
          1988,
          1989,
          1990,
          1991,
          1992,
          1993,
          1994,
          1995,
          1996,
          1997,
          1998,
          1999,
          2000,
          2001,
          2002,
          2003,
          2004,
          2005,
          2006,
          2007,
          2008,
          2009,
          2010,
          2011,
          2012,
          2013,
          2014,
          2015,
          2016,
          2017,
          2018,
          2019,
          2020,
          2021,
          2022
         ],
         "xaxis": "x",
         "y": [
          47.178,
          47.664,
          47.991,
          44.072,
          48.238,
          48.282,
          48.166,
          48.094,
          47.745,
          47.398,
          47.153,
          46.829,
          46.498,
          45.905,
          45.304,
          44.698,
          44.647,
          44.797,
          45.48,
          46.659,
          47.963,
          49.422,
          50.692,
          51.319,
          51.64,
          51.734,
          51.638,
          51.477,
          50.976,
          50.22,
          48.431,
          46.519,
          44.319,
          42.166,
          14.098,
          39.969,
          40.698,
          40.64,
          41.681,
          44.616,
          47.129,
          49.021,
          51.032,
          53.368,
          55.491,
          57.316,
          58.714,
          59.965,
          61.134,
          61.958,
          62.54,
          63.261,
          64.009,
          64.426,
          64.94,
          65.298,
          65.737,
          65.941,
          66.251,
          66.437,
          66.774,
          66.072,
          null
         ],
         "yaxis": "y"
        },
        {
         "hovertemplate": "Country=Somalia<br>Year=%{x}<br>Life expectancy at birth, total (years)=%{y}<extra></extra>",
         "legendgroup": "Somalia",
         "line": {
          "color": "#E377C2",
          "dash": "solid"
         },
         "marker": {
          "symbol": "circle"
         },
         "mode": "lines",
         "name": "Somalia",
         "orientation": "v",
         "showlegend": true,
         "type": "scatter",
         "x": [
          1960,
          1961,
          1962,
          1963,
          1964,
          1965,
          1966,
          1967,
          1968,
          1969,
          1970,
          1971,
          1972,
          1973,
          1974,
          1975,
          1976,
          1977,
          1978,
          1979,
          1980,
          1981,
          1982,
          1983,
          1984,
          1985,
          1986,
          1987,
          1988,
          1989,
          1990,
          1991,
          1992,
          1993,
          1994,
          1995,
          1996,
          1997,
          1998,
          1999,
          2000,
          2001,
          2002,
          2003,
          2004,
          2005,
          2006,
          2007,
          2008,
          2009,
          2010,
          2011,
          2012,
          2013,
          2014,
          2015,
          2016,
          2017,
          2018,
          2019,
          2020,
          2021,
          2022
         ],
         "xaxis": "x",
         "y": [
          43.452,
          43.563,
          43.877,
          44.1,
          44.3,
          44.544,
          44.76,
          44.97,
          45.173,
          45.37,
          45.557,
          45.747,
          45.94,
          46.131,
          43.818,
          44.182,
          44.568,
          46.918,
          46.95,
          47.305,
          47.489,
          47.666,
          47.83,
          48.166,
          48.459,
          48.281,
          48.37,
          48.903,
          43.835,
          46.717,
          47.105,
          26.565,
          27.312,
          50.648,
          50.327,
          50.6,
          50.447,
          50.195,
          50.66,
          50.525,
          50.66,
          50.74,
          50.731,
          50.614,
          50.538,
          50.661,
          50.597,
          50.515,
          51.12,
          51.853,
          50.563,
          51.304,
          53.161,
          53.843,
          54.277,
          54.857,
          55.044,
          55.654,
          56.375,
          57.078,
          55.967,
          55.28,
          null
         ],
         "yaxis": "y"
        },
        {
         "hovertemplate": "Country=South Sudan<br>Year=%{x}<br>Life expectancy at birth, total (years)=%{y}<extra></extra>",
         "legendgroup": "South Sudan",
         "line": {
          "color": "#7F7F7F",
          "dash": "solid"
         },
         "marker": {
          "symbol": "circle"
         },
         "mode": "lines",
         "name": "South Sudan",
         "orientation": "v",
         "showlegend": true,
         "type": "scatter",
         "x": [
          1960,
          1961,
          1962,
          1963,
          1964,
          1965,
          1966,
          1967,
          1968,
          1969,
          1970,
          1971,
          1972,
          1973,
          1974,
          1975,
          1976,
          1977,
          1978,
          1979,
          1980,
          1981,
          1982,
          1983,
          1984,
          1985,
          1986,
          1987,
          1988,
          1989,
          1990,
          1991,
          1992,
          1993,
          1994,
          1995,
          1996,
          1997,
          1998,
          1999,
          2000,
          2001,
          2002,
          2003,
          2004,
          2005,
          2006,
          2007,
          2008,
          2009,
          2010,
          2011,
          2012,
          2013,
          2014,
          2015,
          2016,
          2017,
          2018,
          2019,
          2020,
          2021,
          2022
         ],
         "xaxis": "x",
         "y": [
          28.662,
          28.84,
          29.119,
          28.826,
          33.149,
          29.288,
          26.084,
          26.406,
          26.708,
          26.086,
          26.399,
          31.582,
          31.907,
          36.479,
          36.514,
          36.746,
          36.84,
          37.325,
          37.649,
          37.919,
          38.417,
          38.783,
          39.113,
          35.491,
          32.673,
          33.154,
          33.632,
          21.912,
          12.407,
          29.68,
          29.935,
          30.148,
          22.724,
          22.704,
          44.384,
          30.948,
          31.297,
          32.242,
          18.385,
          43.223,
          46.028,
          46.881,
          47.492,
          50.253,
          50.917,
          51.545,
          52.016,
          52.856,
          53.538,
          53.891,
          54.812,
          54.94,
          55.865,
          55.751,
          54.973,
          55.566,
          55.544,
          55.309,
          55.95,
          55.912,
          55.48,
          54.975,
          null
         ],
         "yaxis": "y"
        },
        {
         "hovertemplate": "Country=Sudan<br>Year=%{x}<br>Life expectancy at birth, total (years)=%{y}<extra></extra>",
         "legendgroup": "Sudan",
         "line": {
          "color": "#BCBD22",
          "dash": "solid"
         },
         "marker": {
          "symbol": "circle"
         },
         "mode": "lines",
         "name": "Sudan",
         "orientation": "v",
         "showlegend": true,
         "type": "scatter",
         "x": [
          1960,
          1961,
          1962,
          1963,
          1964,
          1965,
          1966,
          1967,
          1968,
          1969,
          1970,
          1971,
          1972,
          1973,
          1974,
          1975,
          1976,
          1977,
          1978,
          1979,
          1980,
          1981,
          1982,
          1983,
          1984,
          1985,
          1986,
          1987,
          1988,
          1989,
          1990,
          1991,
          1992,
          1993,
          1994,
          1995,
          1996,
          1997,
          1998,
          1999,
          2000,
          2001,
          2002,
          2003,
          2004,
          2005,
          2006,
          2007,
          2008,
          2009,
          2010,
          2011,
          2012,
          2013,
          2014,
          2015,
          2016,
          2017,
          2018,
          2019,
          2020,
          2021,
          2022
         ],
         "xaxis": "x",
         "y": [
          46.603,
          47.023,
          47.354,
          46.189,
          49.457,
          46.935,
          44.626,
          45.056,
          45.456,
          45.147,
          45.534,
          49.646,
          49.925,
          53.069,
          53.23,
          53.377,
          53.462,
          53.648,
          53.44,
          53.559,
          53.934,
          54.078,
          54.321,
          47.45,
          46.22,
          46.458,
          51.481,
          43.441,
          35.923,
          49.337,
          49.732,
          50.213,
          45.891,
          46.575,
          56.644,
          51.991,
          52.276,
          52.833,
          48.81,
          57.015,
          58.319,
          58.562,
          58.976,
          58.2,
          56.773,
          57.279,
          60.281,
          61.256,
          61.206,
          62.644,
          63.016,
          63.246,
          63.792,
          63.678,
          64.269,
          64.659,
          64.78,
          65.445,
          65.681,
          65.876,
          65.614,
          65.267,
          null
         ],
         "yaxis": "y"
        },
        {
         "hovertemplate": "Country=Tanzania<br>Year=%{x}<br>Life expectancy at birth, total (years)=%{y}<extra></extra>",
         "legendgroup": "Tanzania",
         "line": {
          "color": "#17BECF",
          "dash": "solid"
         },
         "marker": {
          "symbol": "circle"
         },
         "mode": "lines",
         "name": "Tanzania",
         "orientation": "v",
         "showlegend": true,
         "type": "scatter",
         "x": [
          1960,
          1961,
          1962,
          1963,
          1964,
          1965,
          1966,
          1967,
          1968,
          1969,
          1970,
          1971,
          1972,
          1973,
          1974,
          1975,
          1976,
          1977,
          1978,
          1979,
          1980,
          1981,
          1982,
          1983,
          1984,
          1985,
          1986,
          1987,
          1988,
          1989,
          1990,
          1991,
          1992,
          1993,
          1994,
          1995,
          1996,
          1997,
          1998,
          1999,
          2000,
          2001,
          2002,
          2003,
          2004,
          2005,
          2006,
          2007,
          2008,
          2009,
          2010,
          2011,
          2012,
          2013,
          2014,
          2015,
          2016,
          2017,
          2018,
          2019,
          2020,
          2021,
          2022
         ],
         "xaxis": "x",
         "y": [
          42.937,
          43.1,
          43.285,
          43.494,
          43.747,
          44.026,
          44.381,
          44.756,
          45.366,
          45.973,
          46.45,
          46.917,
          47.324,
          47.978,
          48.306,
          48.722,
          49.236,
          49.842,
          50.321,
          50.907,
          51.201,
          51.472,
          51.528,
          51.543,
          51.546,
          51.556,
          51.672,
          51.726,
          51.843,
          51.739,
          51.485,
          51.306,
          50.989,
          50.87,
          50.797,
          50.786,
          50.744,
          50.624,
          50.914,
          51.748,
          52.362,
          53.161,
          53.863,
          54.895,
          55.596,
          56.299,
          56.911,
          57.52,
          58.086,
          58.894,
          60.105,
          61.049,
          62.03,
          62.96,
          63.873,
          64.651,
          65.386,
          65.999,
          66.535,
          66.989,
          66.408,
          66.201,
          null
         ],
         "yaxis": "y"
        },
        {
         "hovertemplate": "Country=Uganda<br>Year=%{x}<br>Life expectancy at birth, total (years)=%{y}<extra></extra>",
         "legendgroup": "Uganda",
         "line": {
          "color": "#1F77B4",
          "dash": "solid"
         },
         "marker": {
          "symbol": "circle"
         },
         "mode": "lines",
         "name": "Uganda",
         "orientation": "v",
         "showlegend": true,
         "type": "scatter",
         "x": [
          1960,
          1961,
          1962,
          1963,
          1964,
          1965,
          1966,
          1967,
          1968,
          1969,
          1970,
          1971,
          1972,
          1973,
          1974,
          1975,
          1976,
          1977,
          1978,
          1979,
          1980,
          1981,
          1982,
          1983,
          1984,
          1985,
          1986,
          1987,
          1988,
          1989,
          1990,
          1991,
          1992,
          1993,
          1994,
          1995,
          1996,
          1997,
          1998,
          1999,
          2000,
          2001,
          2002,
          2003,
          2004,
          2005,
          2006,
          2007,
          2008,
          2009,
          2010,
          2011,
          2012,
          2013,
          2014,
          2015,
          2016,
          2017,
          2018,
          2019,
          2020,
          2021,
          2022
         ],
         "xaxis": "x",
         "y": [
          45.506,
          46.257,
          46.965,
          47.431,
          47.889,
          48.24,
          48.338,
          48.962,
          49.213,
          49.511,
          49.616,
          46.93,
          46.967,
          46.84,
          46.612,
          46.267,
          45.869,
          45.511,
          45.207,
          44.981,
          42.949,
          43.09,
          43.185,
          43.519,
          43.752,
          45.381,
          45.322,
          46.619,
          46.701,
          46.472,
          46.443,
          46.316,
          46.368,
          46.237,
          46.353,
          46.567,
          46.67,
          46.977,
          47.175,
          47.786,
          48.342,
          49.006,
          49.648,
          50.368,
          51.547,
          52.976,
          54.369,
          55.236,
          55.823,
          56.488,
          57.055,
          57.965,
          58.817,
          59.763,
          60.408,
          61.086,
          61.648,
          62.115,
          62.714,
          62.991,
          62.851,
          62.705,
          null
         ],
         "yaxis": "y"
        },
        {
         "hovertemplate": "Country=World<br>Year=%{x}<br>Life expectancy at birth, total (years)=%{y}<extra></extra>",
         "legendgroup": "World",
         "line": {
          "color": "#FF7F0E",
          "dash": "solid"
         },
         "marker": {
          "symbol": "circle"
         },
         "mode": "lines",
         "name": "World",
         "orientation": "v",
         "showlegend": true,
         "type": "scatter",
         "x": [
          1960,
          1961,
          1962,
          1963,
          1964,
          1965,
          1966,
          1967,
          1968,
          1969,
          1970,
          1971,
          1972,
          1973,
          1974,
          1975,
          1976,
          1977,
          1978,
          1979,
          1980,
          1981,
          1982,
          1983,
          1984,
          1985,
          1986,
          1987,
          1988,
          1989,
          1990,
          1991,
          1992,
          1993,
          1994,
          1995,
          1996,
          1997,
          1998,
          1999,
          2000,
          2001,
          2002,
          2003,
          2004,
          2005,
          2006,
          2007,
          2008,
          2009,
          2010,
          2011,
          2012,
          2013,
          2014,
          2015,
          2016,
          2017,
          2018,
          2019,
          2020,
          2021,
          2022
         ],
         "xaxis": "x",
         "y": [
          50.894179687123184,
          52.84633642526877,
          55.20868386201395,
          55.542340605220936,
          56.0348753375692,
          55.860633305289895,
          56.389743472282845,
          56.79478413926752,
          57.22542114419141,
          57.53555159657849,
          57.84094631377796,
          57.967237925211805,
          58.792924308748624,
          59.29465120692109,
          59.71363348382276,
          60.16610026756968,
          60.62581046476327,
          61.12086665265696,
          61.48145494310102,
          61.90275230036435,
          62.23355552323782,
          62.61128332892648,
          62.97221434112524,
          63.2156405807288,
          63.520124131873054,
          63.81228937846977,
          64.20823171223273,
          64.51275650321944,
          64.68486252734428,
          65.02281527140786,
          65.18840651436241,
          65.33519025430839,
          65.59637516687899,
          65.78025124261983,
          66.0252341714949,
          66.21565792671846,
          66.4800342789931,
          66.82174034772463,
          67.09677950283346,
          67.38719521513455,
          67.7004016982228,
          68.05224030206747,
          68.33322195622968,
          68.60683639297359,
          68.86230528778712,
          69.19874131213055,
          69.57122905587295,
          69.8353161041169,
          70.00627637070947,
          70.40161798961049,
          70.67123434048935,
          71.00826966677904,
          71.2844400739117,
          71.57750560913321,
          71.88147110097303,
          72.09521828445425,
          72.34535159521666,
          72.54277589203845,
          72.78408955971064,
          72.97971593838773,
          72.24382211107643,
          71.32739067639602,
          null
         ],
         "yaxis": "y"
        }
       ],
       "layout": {
        "legend": {
         "title": {
          "text": "Country"
         },
         "tracegroupgap": 0
        },
        "template": {
         "data": {
          "bar": [
           {
            "error_x": {
             "color": "rgb(36,36,36)"
            },
            "error_y": {
             "color": "rgb(36,36,36)"
            },
            "marker": {
             "line": {
              "color": "white",
              "width": 0.5
             },
             "pattern": {
              "fillmode": "overlay",
              "size": 10,
              "solidity": 0.2
             }
            },
            "type": "bar"
           }
          ],
          "barpolar": [
           {
            "marker": {
             "line": {
              "color": "white",
              "width": 0.5
             },
             "pattern": {
              "fillmode": "overlay",
              "size": 10,
              "solidity": 0.2
             }
            },
            "type": "barpolar"
           }
          ],
          "carpet": [
           {
            "aaxis": {
             "endlinecolor": "rgb(36,36,36)",
             "gridcolor": "white",
             "linecolor": "white",
             "minorgridcolor": "white",
             "startlinecolor": "rgb(36,36,36)"
            },
            "baxis": {
             "endlinecolor": "rgb(36,36,36)",
             "gridcolor": "white",
             "linecolor": "white",
             "minorgridcolor": "white",
             "startlinecolor": "rgb(36,36,36)"
            },
            "type": "carpet"
           }
          ],
          "choropleth": [
           {
            "colorbar": {
             "outlinewidth": 1,
             "tickcolor": "rgb(36,36,36)",
             "ticks": "outside"
            },
            "type": "choropleth"
           }
          ],
          "contour": [
           {
            "colorbar": {
             "outlinewidth": 1,
             "tickcolor": "rgb(36,36,36)",
             "ticks": "outside"
            },
            "colorscale": [
             [
              0,
              "#440154"
             ],
             [
              0.1111111111111111,
              "#482878"
             ],
             [
              0.2222222222222222,
              "#3e4989"
             ],
             [
              0.3333333333333333,
              "#31688e"
             ],
             [
              0.4444444444444444,
              "#26828e"
             ],
             [
              0.5555555555555556,
              "#1f9e89"
             ],
             [
              0.6666666666666666,
              "#35b779"
             ],
             [
              0.7777777777777778,
              "#6ece58"
             ],
             [
              0.8888888888888888,
              "#b5de2b"
             ],
             [
              1,
              "#fde725"
             ]
            ],
            "type": "contour"
           }
          ],
          "contourcarpet": [
           {
            "colorbar": {
             "outlinewidth": 1,
             "tickcolor": "rgb(36,36,36)",
             "ticks": "outside"
            },
            "type": "contourcarpet"
           }
          ],
          "heatmap": [
           {
            "colorbar": {
             "outlinewidth": 1,
             "tickcolor": "rgb(36,36,36)",
             "ticks": "outside"
            },
            "colorscale": [
             [
              0,
              "#440154"
             ],
             [
              0.1111111111111111,
              "#482878"
             ],
             [
              0.2222222222222222,
              "#3e4989"
             ],
             [
              0.3333333333333333,
              "#31688e"
             ],
             [
              0.4444444444444444,
              "#26828e"
             ],
             [
              0.5555555555555556,
              "#1f9e89"
             ],
             [
              0.6666666666666666,
              "#35b779"
             ],
             [
              0.7777777777777778,
              "#6ece58"
             ],
             [
              0.8888888888888888,
              "#b5de2b"
             ],
             [
              1,
              "#fde725"
             ]
            ],
            "type": "heatmap"
           }
          ],
          "heatmapgl": [
           {
            "colorbar": {
             "outlinewidth": 1,
             "tickcolor": "rgb(36,36,36)",
             "ticks": "outside"
            },
            "colorscale": [
             [
              0,
              "#440154"
             ],
             [
              0.1111111111111111,
              "#482878"
             ],
             [
              0.2222222222222222,
              "#3e4989"
             ],
             [
              0.3333333333333333,
              "#31688e"
             ],
             [
              0.4444444444444444,
              "#26828e"
             ],
             [
              0.5555555555555556,
              "#1f9e89"
             ],
             [
              0.6666666666666666,
              "#35b779"
             ],
             [
              0.7777777777777778,
              "#6ece58"
             ],
             [
              0.8888888888888888,
              "#b5de2b"
             ],
             [
              1,
              "#fde725"
             ]
            ],
            "type": "heatmapgl"
           }
          ],
          "histogram": [
           {
            "marker": {
             "line": {
              "color": "white",
              "width": 0.6
             }
            },
            "type": "histogram"
           }
          ],
          "histogram2d": [
           {
            "colorbar": {
             "outlinewidth": 1,
             "tickcolor": "rgb(36,36,36)",
             "ticks": "outside"
            },
            "colorscale": [
             [
              0,
              "#440154"
             ],
             [
              0.1111111111111111,
              "#482878"
             ],
             [
              0.2222222222222222,
              "#3e4989"
             ],
             [
              0.3333333333333333,
              "#31688e"
             ],
             [
              0.4444444444444444,
              "#26828e"
             ],
             [
              0.5555555555555556,
              "#1f9e89"
             ],
             [
              0.6666666666666666,
              "#35b779"
             ],
             [
              0.7777777777777778,
              "#6ece58"
             ],
             [
              0.8888888888888888,
              "#b5de2b"
             ],
             [
              1,
              "#fde725"
             ]
            ],
            "type": "histogram2d"
           }
          ],
          "histogram2dcontour": [
           {
            "colorbar": {
             "outlinewidth": 1,
             "tickcolor": "rgb(36,36,36)",
             "ticks": "outside"
            },
            "colorscale": [
             [
              0,
              "#440154"
             ],
             [
              0.1111111111111111,
              "#482878"
             ],
             [
              0.2222222222222222,
              "#3e4989"
             ],
             [
              0.3333333333333333,
              "#31688e"
             ],
             [
              0.4444444444444444,
              "#26828e"
             ],
             [
              0.5555555555555556,
              "#1f9e89"
             ],
             [
              0.6666666666666666,
              "#35b779"
             ],
             [
              0.7777777777777778,
              "#6ece58"
             ],
             [
              0.8888888888888888,
              "#b5de2b"
             ],
             [
              1,
              "#fde725"
             ]
            ],
            "type": "histogram2dcontour"
           }
          ],
          "mesh3d": [
           {
            "colorbar": {
             "outlinewidth": 1,
             "tickcolor": "rgb(36,36,36)",
             "ticks": "outside"
            },
            "type": "mesh3d"
           }
          ],
          "parcoords": [
           {
            "line": {
             "colorbar": {
              "outlinewidth": 1,
              "tickcolor": "rgb(36,36,36)",
              "ticks": "outside"
             }
            },
            "type": "parcoords"
           }
          ],
          "pie": [
           {
            "automargin": true,
            "type": "pie"
           }
          ],
          "scatter": [
           {
            "fillpattern": {
             "fillmode": "overlay",
             "size": 10,
             "solidity": 0.2
            },
            "type": "scatter"
           }
          ],
          "scatter3d": [
           {
            "line": {
             "colorbar": {
              "outlinewidth": 1,
              "tickcolor": "rgb(36,36,36)",
              "ticks": "outside"
             }
            },
            "marker": {
             "colorbar": {
              "outlinewidth": 1,
              "tickcolor": "rgb(36,36,36)",
              "ticks": "outside"
             }
            },
            "type": "scatter3d"
           }
          ],
          "scattercarpet": [
           {
            "marker": {
             "colorbar": {
              "outlinewidth": 1,
              "tickcolor": "rgb(36,36,36)",
              "ticks": "outside"
             }
            },
            "type": "scattercarpet"
           }
          ],
          "scattergeo": [
           {
            "marker": {
             "colorbar": {
              "outlinewidth": 1,
              "tickcolor": "rgb(36,36,36)",
              "ticks": "outside"
             }
            },
            "type": "scattergeo"
           }
          ],
          "scattergl": [
           {
            "marker": {
             "colorbar": {
              "outlinewidth": 1,
              "tickcolor": "rgb(36,36,36)",
              "ticks": "outside"
             }
            },
            "type": "scattergl"
           }
          ],
          "scattermapbox": [
           {
            "marker": {
             "colorbar": {
              "outlinewidth": 1,
              "tickcolor": "rgb(36,36,36)",
              "ticks": "outside"
             }
            },
            "type": "scattermapbox"
           }
          ],
          "scatterpolar": [
           {
            "marker": {
             "colorbar": {
              "outlinewidth": 1,
              "tickcolor": "rgb(36,36,36)",
              "ticks": "outside"
             }
            },
            "type": "scatterpolar"
           }
          ],
          "scatterpolargl": [
           {
            "marker": {
             "colorbar": {
              "outlinewidth": 1,
              "tickcolor": "rgb(36,36,36)",
              "ticks": "outside"
             }
            },
            "type": "scatterpolargl"
           }
          ],
          "scatterternary": [
           {
            "marker": {
             "colorbar": {
              "outlinewidth": 1,
              "tickcolor": "rgb(36,36,36)",
              "ticks": "outside"
             }
            },
            "type": "scatterternary"
           }
          ],
          "surface": [
           {
            "colorbar": {
             "outlinewidth": 1,
             "tickcolor": "rgb(36,36,36)",
             "ticks": "outside"
            },
            "colorscale": [
             [
              0,
              "#440154"
             ],
             [
              0.1111111111111111,
              "#482878"
             ],
             [
              0.2222222222222222,
              "#3e4989"
             ],
             [
              0.3333333333333333,
              "#31688e"
             ],
             [
              0.4444444444444444,
              "#26828e"
             ],
             [
              0.5555555555555556,
              "#1f9e89"
             ],
             [
              0.6666666666666666,
              "#35b779"
             ],
             [
              0.7777777777777778,
              "#6ece58"
             ],
             [
              0.8888888888888888,
              "#b5de2b"
             ],
             [
              1,
              "#fde725"
             ]
            ],
            "type": "surface"
           }
          ],
          "table": [
           {
            "cells": {
             "fill": {
              "color": "rgb(237,237,237)"
             },
             "line": {
              "color": "white"
             }
            },
            "header": {
             "fill": {
              "color": "rgb(217,217,217)"
             },
             "line": {
              "color": "white"
             }
            },
            "type": "table"
           }
          ]
         },
         "layout": {
          "annotationdefaults": {
           "arrowhead": 0,
           "arrowwidth": 1
          },
          "autotypenumbers": "strict",
          "coloraxis": {
           "colorbar": {
            "outlinewidth": 1,
            "tickcolor": "rgb(36,36,36)",
            "ticks": "outside"
           }
          },
          "colorscale": {
           "diverging": [
            [
             0,
             "rgb(103,0,31)"
            ],
            [
             0.1,
             "rgb(178,24,43)"
            ],
            [
             0.2,
             "rgb(214,96,77)"
            ],
            [
             0.3,
             "rgb(244,165,130)"
            ],
            [
             0.4,
             "rgb(253,219,199)"
            ],
            [
             0.5,
             "rgb(247,247,247)"
            ],
            [
             0.6,
             "rgb(209,229,240)"
            ],
            [
             0.7,
             "rgb(146,197,222)"
            ],
            [
             0.8,
             "rgb(67,147,195)"
            ],
            [
             0.9,
             "rgb(33,102,172)"
            ],
            [
             1,
             "rgb(5,48,97)"
            ]
           ],
           "sequential": [
            [
             0,
             "#440154"
            ],
            [
             0.1111111111111111,
             "#482878"
            ],
            [
             0.2222222222222222,
             "#3e4989"
            ],
            [
             0.3333333333333333,
             "#31688e"
            ],
            [
             0.4444444444444444,
             "#26828e"
            ],
            [
             0.5555555555555556,
             "#1f9e89"
            ],
            [
             0.6666666666666666,
             "#35b779"
            ],
            [
             0.7777777777777778,
             "#6ece58"
            ],
            [
             0.8888888888888888,
             "#b5de2b"
            ],
            [
             1,
             "#fde725"
            ]
           ],
           "sequentialminus": [
            [
             0,
             "#440154"
            ],
            [
             0.1111111111111111,
             "#482878"
            ],
            [
             0.2222222222222222,
             "#3e4989"
            ],
            [
             0.3333333333333333,
             "#31688e"
            ],
            [
             0.4444444444444444,
             "#26828e"
            ],
            [
             0.5555555555555556,
             "#1f9e89"
            ],
            [
             0.6666666666666666,
             "#35b779"
            ],
            [
             0.7777777777777778,
             "#6ece58"
            ],
            [
             0.8888888888888888,
             "#b5de2b"
            ],
            [
             1,
             "#fde725"
            ]
           ]
          },
          "colorway": [
           "#1F77B4",
           "#FF7F0E",
           "#2CA02C",
           "#D62728",
           "#9467BD",
           "#8C564B",
           "#E377C2",
           "#7F7F7F",
           "#BCBD22",
           "#17BECF"
          ],
          "font": {
           "color": "rgb(36,36,36)"
          },
          "geo": {
           "bgcolor": "white",
           "lakecolor": "white",
           "landcolor": "white",
           "showlakes": true,
           "showland": true,
           "subunitcolor": "white"
          },
          "hoverlabel": {
           "align": "left"
          },
          "hovermode": "closest",
          "mapbox": {
           "style": "light"
          },
          "paper_bgcolor": "white",
          "plot_bgcolor": "white",
          "polar": {
           "angularaxis": {
            "gridcolor": "rgb(232,232,232)",
            "linecolor": "rgb(36,36,36)",
            "showgrid": false,
            "showline": true,
            "ticks": "outside"
           },
           "bgcolor": "white",
           "radialaxis": {
            "gridcolor": "rgb(232,232,232)",
            "linecolor": "rgb(36,36,36)",
            "showgrid": false,
            "showline": true,
            "ticks": "outside"
           }
          },
          "scene": {
           "xaxis": {
            "backgroundcolor": "white",
            "gridcolor": "rgb(232,232,232)",
            "gridwidth": 2,
            "linecolor": "rgb(36,36,36)",
            "showbackground": true,
            "showgrid": false,
            "showline": true,
            "ticks": "outside",
            "zeroline": false,
            "zerolinecolor": "rgb(36,36,36)"
           },
           "yaxis": {
            "backgroundcolor": "white",
            "gridcolor": "rgb(232,232,232)",
            "gridwidth": 2,
            "linecolor": "rgb(36,36,36)",
            "showbackground": true,
            "showgrid": false,
            "showline": true,
            "ticks": "outside",
            "zeroline": false,
            "zerolinecolor": "rgb(36,36,36)"
           },
           "zaxis": {
            "backgroundcolor": "white",
            "gridcolor": "rgb(232,232,232)",
            "gridwidth": 2,
            "linecolor": "rgb(36,36,36)",
            "showbackground": true,
            "showgrid": false,
            "showline": true,
            "ticks": "outside",
            "zeroline": false,
            "zerolinecolor": "rgb(36,36,36)"
           }
          },
          "shapedefaults": {
           "fillcolor": "black",
           "line": {
            "width": 0
           },
           "opacity": 0.3
          },
          "ternary": {
           "aaxis": {
            "gridcolor": "rgb(232,232,232)",
            "linecolor": "rgb(36,36,36)",
            "showgrid": false,
            "showline": true,
            "ticks": "outside"
           },
           "baxis": {
            "gridcolor": "rgb(232,232,232)",
            "linecolor": "rgb(36,36,36)",
            "showgrid": false,
            "showline": true,
            "ticks": "outside"
           },
           "bgcolor": "white",
           "caxis": {
            "gridcolor": "rgb(232,232,232)",
            "linecolor": "rgb(36,36,36)",
            "showgrid": false,
            "showline": true,
            "ticks": "outside"
           }
          },
          "title": {
           "x": 0.05
          },
          "xaxis": {
           "automargin": true,
           "gridcolor": "rgb(232,232,232)",
           "linecolor": "rgb(36,36,36)",
           "showgrid": false,
           "showline": true,
           "ticks": "outside",
           "title": {
            "standoff": 15
           },
           "zeroline": false,
           "zerolinecolor": "rgb(36,36,36)"
          },
          "yaxis": {
           "automargin": true,
           "gridcolor": "rgb(232,232,232)",
           "linecolor": "rgb(36,36,36)",
           "showgrid": false,
           "showline": true,
           "ticks": "outside",
           "title": {
            "standoff": 15
           },
           "zeroline": false,
           "zerolinecolor": "rgb(36,36,36)"
          }
         }
        },
        "title": {
         "text": "Life Expectancy"
        },
        "xaxis": {
         "anchor": "y",
         "domain": [
          0,
          1
         ],
         "title": {
          "text": "Year"
         }
        },
        "yaxis": {
         "anchor": "x",
         "domain": [
          0,
          1
         ],
         "title": {
          "text": "Life expectancy at birth, total (years)"
         }
        }
       }
      }
     },
     "metadata": {},
     "output_type": "display_data"
    }
   ],
   "source": [
    "fig=px.line(df,\n",
    "            x='Year',\n",
    "            y='Life expectancy at birth, total (years)',\n",
    "            color='Country',\n",
    "            title='Life Expectancy',\n",
    "            template='simple_white')\n",
    "fig.show()"
   ]
  },
  {
   "cell_type": "code",
   "execution_count": 11,
   "metadata": {},
   "outputs": [
    {
     "data": {
      "application/vnd.plotly.v1+json": {
       "config": {
        "plotlyServerURL": "https://plot.ly"
       },
       "data": [
        {
         "hovertemplate": "Country=Burundi<br>Year=%{x}<br>Population growth (annual %)=%{y}<extra></extra>",
         "legendgroup": "Burundi",
         "line": {
          "color": "#1F77B4",
          "dash": "solid"
         },
         "marker": {
          "symbol": "circle"
         },
         "mode": "lines",
         "name": "Burundi",
         "orientation": "v",
         "showlegend": true,
         "type": "scatter",
         "x": [
          1960,
          1961,
          1962,
          1963,
          1964,
          1965,
          1966,
          1967,
          1968,
          1969,
          1970,
          1971,
          1972,
          1973,
          1974,
          1975,
          1976,
          1977,
          1978,
          1979,
          1980,
          1981,
          1982,
          1983,
          1984,
          1985,
          1986,
          1987,
          1988,
          1989,
          1990,
          1991,
          1992,
          1993,
          1994,
          1995,
          1996,
          1997,
          1998,
          1999,
          2000,
          2001,
          2002,
          2003,
          2004,
          2005,
          2006,
          2007,
          2008,
          2009,
          2010,
          2011,
          2012,
          2013,
          2014,
          2015,
          2016,
          2017,
          2018,
          2019,
          2020,
          2021,
          2022
         ],
         "xaxis": "x",
         "y": [
          null,
          2.49335175802676,
          2.50482554841122,
          2.08163380931968,
          2.84530025600716,
          2.76096547770447,
          2.38445447117704,
          2.50837572519953,
          2.35125644181996,
          2.12591301262417,
          2.12091772942121,
          2.37969258214067,
          -0.080293081025735,
          -0.216623899765029,
          2.4500214749565,
          2.40791284634833,
          2.15458721326339,
          2.48878675665935,
          2.81138829971138,
          2.39778722968759,
          4.15187146326473,
          4.04229382721202,
          2.45317104136998,
          2.66363630011495,
          2.41969656927228,
          2.16050989496098,
          1.87562119081532,
          2.27596047847185,
          2.18753260700347,
          1.91366782949275,
          2.02808887960492,
          2.00455847406761,
          2.61539228418204,
          -3.32584961317081,
          0.559847833015243,
          6.01569069212077,
          -0.0383704693710515,
          -0.11211057621028,
          1.86435899274167,
          2.3715206268295,
          2.0417212041938,
          2.47511575866868,
          2.79413757787033,
          3.13736150828626,
          3.71466281696618,
          3.69979693670807,
          3.58003081168824,
          3.67179220330916,
          4.11209752356589,
          5.07844376468302,
          4.67947760941816,
          3.54274498118795,
          3.52997284776032,
          3.55110770404353,
          3.3458633833966,
          2.18870609045616,
          1.62902475388378,
          2.28730144695888,
          2.98382355303175,
          3.26424857025887,
          2.86708219532744,
          2.67247846179476,
          2.66016084004174
         ],
         "yaxis": "y"
        },
        {
         "hovertemplate": "Country=Djibouti<br>Year=%{x}<br>Population growth (annual %)=%{y}<extra></extra>",
         "legendgroup": "Djibouti",
         "line": {
          "color": "#FF7F0E",
          "dash": "solid"
         },
         "marker": {
          "symbol": "circle"
         },
         "mode": "lines",
         "name": "Djibouti",
         "orientation": "v",
         "showlegend": true,
         "type": "scatter",
         "x": [
          1960,
          1961,
          1962,
          1963,
          1964,
          1965,
          1966,
          1967,
          1968,
          1969,
          1970,
          1971,
          1972,
          1973,
          1974,
          1975,
          1976,
          1977,
          1978,
          1979,
          1980,
          1981,
          1982,
          1983,
          1984,
          1985,
          1986,
          1987,
          1988,
          1989,
          1990,
          1991,
          1992,
          1993,
          1994,
          1995,
          1996,
          1997,
          1998,
          1999,
          2000,
          2001,
          2002,
          2003,
          2004,
          2005,
          2006,
          2007,
          2008,
          2009,
          2010,
          2011,
          2012,
          2013,
          2014,
          2015,
          2016,
          2017,
          2018,
          2019,
          2020,
          2021,
          2022
         ],
         "xaxis": "x",
         "y": [
          null,
          3.80161068444217,
          4.22449762244454,
          4.76839880436694,
          5.2600415569322,
          5.50590833310072,
          5.45819271639918,
          5.33421368477601,
          5.22551319507625,
          5.87263581847903,
          6.42822840129502,
          6.59707885757326,
          6.8950075952983,
          7.06328347013647,
          7.63125203528996,
          8.60242431911883,
          9.47163848135568,
          9.86688640599534,
          9.54312251115156,
          8.41087217395553,
          6.78594578461038,
          5.16918315271092,
          3.96188662419799,
          3.49104949912794,
          3.84908065815576,
          4.74065758768982,
          5.71722780582316,
          6.387601261095,
          6.43592711166889,
          7.73065980860428,
          10.2192410303274,
          8.52273921010975,
          -0.85067596789085,
          -1.93877242196354,
          1.98369194458263,
          0.980299863135974,
          2.35911080877199,
          3.52617803029176,
          3.98289680964869,
          3.45804880527132,
          3.1016497493543,
          3.11224350831744,
          3.04136539252469,
          2.16637325167082,
          1.47246847937649,
          1.51442896223044,
          1.91756063912333,
          2.13179519553233,
          2.02400160866773,
          2.04234815532952,
          1.9883070131748,
          1.89789156839079,
          1.84933894374145,
          1.81267131886039,
          1.7680638456514,
          1.72124773942831,
          1.67550925836571,
          1.64501401282776,
          1.61772854346232,
          1.57623975223144,
          1.49363957876332,
          1.40284750995694,
          1.37371534912362
         ],
         "yaxis": "y"
        },
        {
         "hovertemplate": "Country=Eritrea<br>Year=%{x}<br>Population growth (annual %)=%{y}<extra></extra>",
         "legendgroup": "Eritrea",
         "line": {
          "color": "#2CA02C",
          "dash": "solid"
         },
         "marker": {
          "symbol": "circle"
         },
         "mode": "lines",
         "name": "Eritrea",
         "orientation": "v",
         "showlegend": true,
         "type": "scatter",
         "x": [
          1960,
          1961,
          1962,
          1963,
          1964,
          1965,
          1966,
          1967,
          1968,
          1969,
          1970,
          1971,
          1972,
          1973,
          1974,
          1975,
          1976,
          1977,
          1978,
          1979,
          1980,
          1981,
          1982,
          1983,
          1984,
          1985,
          1986,
          1987,
          1988,
          1989,
          1990,
          1991,
          1992,
          1993,
          1994,
          1995,
          1996,
          1997,
          1998,
          1999,
          2000,
          2001,
          2002,
          2003,
          2004,
          2005,
          2006,
          2007,
          2008,
          2009,
          2010,
          2011,
          2012,
          2013,
          2014,
          2015,
          2016,
          2017,
          2018,
          2019,
          2020,
          2021,
          2022
         ],
         "xaxis": "x",
         "y": [
          null,
          2.32430259481842,
          2.39216569535363,
          2.44155017473533,
          2.47516842793677,
          2.50010652316175,
          2.51113215271419,
          2.51449196822002,
          2.51549789522301,
          2.52731228666856,
          2.56138396509594,
          2.59698454535762,
          2.61466037807186,
          2.62608775833674,
          2.63151194650023,
          2.62905200962032,
          2.63839120415611,
          2.65930944462214,
          2.6696888149444,
          2.67744128648283,
          2.69915839211273,
          2.72533942483232,
          2.7358158124778,
          2.74705736558148,
          2.7282829316494,
          2.64892301829846,
          2.61744797669467,
          2.569479931273,
          2.52689904576332,
          2.43579368450095,
          2.2497645204013,
          -5.28818555159151,
          -5.96418551668818,
          3.0887728057642,
          3.03612930618359,
          5.46458079635181,
          4.83450479218313,
          1.2067841093189,
          1.35198753803808,
          1.44145869854362,
          1.53299543125693,
          2.84467152232301,
          3.41382758677749,
          4.07554152440981,
          4.0529646475642,
          2.45208243654581,
          1.69340467080078,
          1.58711319244676,
          2.68430517830464,
          2.56543695688394,
          2.04894664970192,
          1.88330360533393,
          1.39398056061833,
          1.33675062099253,
          0.817492473750786,
          0.49767257206961,
          0.754064581294597,
          0.935971649156141,
          1.41594960093608,
          1.53927354632927,
          1.61739994313834,
          1.7961013366299,
          1.74475945969517
         ],
         "yaxis": "y"
        },
        {
         "hovertemplate": "Country=Ethiopia<br>Year=%{x}<br>Population growth (annual %)=%{y}<extra></extra>",
         "legendgroup": "Ethiopia",
         "line": {
          "color": "#D62728",
          "dash": "solid"
         },
         "marker": {
          "symbol": "circle"
         },
         "mode": "lines",
         "name": "Ethiopia",
         "orientation": "v",
         "showlegend": true,
         "type": "scatter",
         "x": [
          1960,
          1961,
          1962,
          1963,
          1964,
          1965,
          1966,
          1967,
          1968,
          1969,
          1970,
          1971,
          1972,
          1973,
          1974,
          1975,
          1976,
          1977,
          1978,
          1979,
          1980,
          1981,
          1982,
          1983,
          1984,
          1985,
          1986,
          1987,
          1988,
          1989,
          1990,
          1991,
          1992,
          1993,
          1994,
          1995,
          1996,
          1997,
          1998,
          1999,
          2000,
          2001,
          2002,
          2003,
          2004,
          2005,
          2006,
          2007,
          2008,
          2009,
          2010,
          2011,
          2012,
          2013,
          2014,
          2015,
          2016,
          2017,
          2018,
          2019,
          2020,
          2021,
          2022
         ],
         "xaxis": "x",
         "y": [
          null,
          2.46240496287868,
          2.52809631275193,
          2.57813996048135,
          2.62928376478602,
          2.67964351300075,
          2.59524411062539,
          2.62103647343565,
          2.75260071503388,
          2.76853725035396,
          2.78627275275661,
          2.75710818913712,
          2.6844182693907,
          2.65090859876121,
          2.55484975424859,
          2.39783456781735,
          2.47867856973028,
          1.89588728123602,
          1.66012086198244,
          1.44822378426594,
          0.53553788649059,
          2.46853057090048,
          3.81945997283751,
          2.70874939243861,
          2.49942512776154,
          2.72526766989943,
          2.86128101383493,
          3.3135359540021,
          3.7997099051442,
          3.71438044976345,
          3.57654149352685,
          4.21131883429154,
          4.0695064434744,
          3.36527734385744,
          3.34279827514085,
          3.28301525569969,
          3.203571284763,
          3.12815909570078,
          3.06048395903298,
          3.0281142940097,
          2.95880518919236,
          2.92127105923873,
          2.93296991314103,
          2.90590770385319,
          2.87241402666675,
          2.83962299391293,
          2.82672932299161,
          2.85154384116412,
          2.83863160180599,
          2.80357593483215,
          2.82098186260834,
          2.85029677836164,
          2.82765624318832,
          2.74962070654197,
          2.70542811266671,
          2.69539316663887,
          2.71605397227228,
          2.72133142564532,
          2.67332102071494,
          2.656010133459,
          2.65485915620519,
          2.60431928274974,
          2.54208920295403
         ],
         "yaxis": "y"
        },
        {
         "hovertemplate": "Country=Kenya<br>Year=%{x}<br>Population growth (annual %)=%{y}<extra></extra>",
         "legendgroup": "Kenya",
         "line": {
          "color": "#9467BD",
          "dash": "solid"
         },
         "marker": {
          "symbol": "circle"
         },
         "mode": "lines",
         "name": "Kenya",
         "orientation": "v",
         "showlegend": true,
         "type": "scatter",
         "x": [
          1960,
          1961,
          1962,
          1963,
          1964,
          1965,
          1966,
          1967,
          1968,
          1969,
          1970,
          1971,
          1972,
          1973,
          1974,
          1975,
          1976,
          1977,
          1978,
          1979,
          1980,
          1981,
          1982,
          1983,
          1984,
          1985,
          1986,
          1987,
          1988,
          1989,
          1990,
          1991,
          1992,
          1993,
          1994,
          1995,
          1996,
          1997,
          1998,
          1999,
          2000,
          2001,
          2002,
          2003,
          2004,
          2005,
          2006,
          2007,
          2008,
          2009,
          2010,
          2011,
          2012,
          2013,
          2014,
          2015,
          2016,
          2017,
          2018,
          2019,
          2020,
          2021,
          2022
         ],
         "xaxis": "x",
         "y": [
          null,
          3.74797688027386,
          3.85285696473711,
          3.91148088133147,
          3.94748519609761,
          4.00625610693713,
          4.01096188710426,
          3.98442540111434,
          3.96698751791952,
          3.93220738615401,
          3.85196620772254,
          3.64046960355909,
          3.50508356202825,
          3.48874537597246,
          3.4168934292709,
          3.33633405648364,
          3.24563434304028,
          3.31330443198749,
          3.4392803015393,
          3.47299053516761,
          3.56247231910082,
          3.63268304760596,
          3.65874486828768,
          3.70928851646282,
          3.71398490244611,
          3.65950445523804,
          3.57858741519746,
          3.51480018991794,
          3.50098905227389,
          3.46143657685424,
          3.40083169114175,
          3.21165201895544,
          3.03679051921495,
          2.94184248128658,
          2.87998841109113,
          2.8093665377808,
          2.70647369514666,
          2.67442877916419,
          2.68916027366031,
          2.80126932153904,
          2.91544684198394,
          3.02882685482353,
          3.03360977756994,
          2.96744335273422,
          2.98951543624097,
          2.97658073983056,
          2.97471111652036,
          2.96582480091057,
          2.97884515479232,
          2.96069187652137,
          2.8175240671163,
          2.65543505812038,
          2.52595644302294,
          2.40993136403743,
          2.2941780158286,
          2.20032211952888,
          2.20214556198549,
          2.17570842690355,
          2.03273400450275,
          1.97845694844255,
          2.00970011079671,
          1.94276128252757,
          1.90951031059953
         ],
         "yaxis": "y"
        },
        {
         "hovertemplate": "Country=Rwanda<br>Year=%{x}<br>Population growth (annual %)=%{y}<extra></extra>",
         "legendgroup": "Rwanda",
         "line": {
          "color": "#8C564B",
          "dash": "solid"
         },
         "marker": {
          "symbol": "circle"
         },
         "mode": "lines",
         "name": "Rwanda",
         "orientation": "v",
         "showlegend": true,
         "type": "scatter",
         "x": [
          1960,
          1961,
          1962,
          1963,
          1964,
          1965,
          1966,
          1967,
          1968,
          1969,
          1970,
          1971,
          1972,
          1973,
          1974,
          1975,
          1976,
          1977,
          1978,
          1979,
          1980,
          1981,
          1982,
          1983,
          1984,
          1985,
          1986,
          1987,
          1988,
          1989,
          1990,
          1991,
          1992,
          1993,
          1994,
          1995,
          1996,
          1997,
          1998,
          1999,
          2000,
          2001,
          2002,
          2003,
          2004,
          2005,
          2006,
          2007,
          2008,
          2009,
          2010,
          2011,
          2012,
          2013,
          2014,
          2015,
          2016,
          2017,
          2018,
          2019,
          2020,
          2021,
          2022
         ],
         "xaxis": "x",
         "y": [
          null,
          2.67750780003869,
          2.44696001938284,
          2.19182647239121,
          2.24113327435576,
          2.57084686962757,
          2.80880785102243,
          3.01560768660481,
          3.12164160228976,
          3.11505640418176,
          3.08818394838363,
          3.00931354381668,
          2.94896268963442,
          2.95206833272967,
          2.93537515995271,
          2.9070836928786,
          2.89089391293466,
          2.86390960667022,
          2.85847530507977,
          3.04977646065132,
          3.35547032700799,
          3.63825218024574,
          3.80282951759302,
          3.5877838789899,
          3.3123358772293,
          3.40883127197502,
          3.62060755685165,
          3.59766169671716,
          3.18725478939529,
          2.66757702027772,
          2.4615927974137,
          2.23868589939967,
          2.26554307510296,
          3.18151530970022,
          -16.0491526157981,
          -16.8806296708643,
          16.6255019779963,
          13.2470672505578,
          3.18243918155598,
          1.19243584222433,
          1.24573125745531,
          1.39530227863448,
          1.78798197593577,
          2.31040451162765,
          2.57920977781251,
          2.63169301631945,
          2.66480719140037,
          2.6937067262308,
          2.68159866469225,
          2.64057029628242,
          2.6071051025344,
          2.56550960901795,
          2.45984040638473,
          2.3792915199656,
          2.3775340228914,
          2.38595568459796,
          2.44299698959529,
          2.47880785239257,
          2.43503841544025,
          2.39079436618151,
          2.3967070500013,
          2.3717515483557,
          2.31160323907511
         ],
         "yaxis": "y"
        },
        {
         "hovertemplate": "Country=Somalia<br>Year=%{x}<br>Population growth (annual %)=%{y}<extra></extra>",
         "legendgroup": "Somalia",
         "line": {
          "color": "#E377C2",
          "dash": "solid"
         },
         "marker": {
          "symbol": "circle"
         },
         "mode": "lines",
         "name": "Somalia",
         "orientation": "v",
         "showlegend": true,
         "type": "scatter",
         "x": [
          1960,
          1961,
          1962,
          1963,
          1964,
          1965,
          1966,
          1967,
          1968,
          1969,
          1970,
          1971,
          1972,
          1973,
          1974,
          1975,
          1976,
          1977,
          1978,
          1979,
          1980,
          1981,
          1982,
          1983,
          1984,
          1985,
          1986,
          1987,
          1988,
          1989,
          1990,
          1991,
          1992,
          1993,
          1994,
          1995,
          1996,
          1997,
          1998,
          1999,
          2000,
          2001,
          2002,
          2003,
          2004,
          2005,
          2006,
          2007,
          2008,
          2009,
          2010,
          2011,
          2012,
          2013,
          2014,
          2015,
          2016,
          2017,
          2018,
          2019,
          2020,
          2021,
          2022
         ],
         "xaxis": "x",
         "y": [
          null,
          2.57665301024161,
          2.58589066220009,
          2.59093803649183,
          2.59076242411221,
          2.60441373917136,
          2.60001494349786,
          2.59405221297984,
          2.59888886664427,
          2.5946683187612,
          2.60563965542373,
          2.58423377063573,
          2.58088631257981,
          2.62253593448119,
          2.5402686649413,
          2.45319044659147,
          2.46424901553967,
          2.63529443769448,
          7.11670330361566,
          12.4069773209979,
          8.56038552467328,
          0.722306597449164,
          0.283795339405205,
          3.15394069157466,
          3.62116697816184,
          4.02552664192144,
          4.1063094623835,
          3.54671985212476,
          0.0343193215769438,
          -1.76229439085998,
          -0.517042260764541,
          -3.88044488916682,
          -4.62911660490178,
          2.95201018141555,
          4.99492766653047,
          3.54431690987324,
          3.56249934564789,
          3.44437390627736,
          4.08574876698392,
          3.98581078951555,
          3.94049698165867,
          3.92673917655211,
          3.68355422936353,
          3.62260954076201,
          3.61359093578303,
          3.40031804628923,
          2.98984286765814,
          3.04199150056875,
          2.89679033014887,
          2.46112222974988,
          2.49721206017534,
          1.56901447012171,
          1.81282104868689,
          3.25938851032774,
          3.49209773142402,
          3.35915033288915,
          3.77095438271416,
          3.91978477697357,
          3.61305895751929,
          3.63316490449428,
          3.41819734760827,
          3.14623658777376,
          3.06938435160534
         ],
         "yaxis": "y"
        },
        {
         "hovertemplate": "Country=South Sudan<br>Year=%{x}<br>Population growth (annual %)=%{y}<extra></extra>",
         "legendgroup": "South Sudan",
         "line": {
          "color": "#7F7F7F",
          "dash": "solid"
         },
         "marker": {
          "symbol": "circle"
         },
         "mode": "lines",
         "name": "South Sudan",
         "orientation": "v",
         "showlegend": true,
         "type": "scatter",
         "x": [
          1960,
          1961,
          1962,
          1963,
          1964,
          1965,
          1966,
          1967,
          1968,
          1969,
          1970,
          1971,
          1972,
          1973,
          1974,
          1975,
          1976,
          1977,
          1978,
          1979,
          1980,
          1981,
          1982,
          1983,
          1984,
          1985,
          1986,
          1987,
          1988,
          1989,
          1990,
          1991,
          1992,
          1993,
          1994,
          1995,
          1996,
          1997,
          1998,
          1999,
          2000,
          2001,
          2002,
          2003,
          2004,
          2005,
          2006,
          2007,
          2008,
          2009,
          2010,
          2011,
          2012,
          2013,
          2014,
          2015,
          2016,
          2017,
          2018,
          2019,
          2020,
          2021,
          2022
         ],
         "xaxis": "x",
         "y": [
          null,
          1.407954752466,
          1.45821045823342,
          1.45869524002131,
          1.71313650894716,
          1.76250241590552,
          1.3172407489534,
          1.14408930969707,
          1.22672576193772,
          1.22394409758838,
          1.2196466164818,
          1.61440634440532,
          1.9794211054933,
          2.21924343288522,
          2.43018409591514,
          2.41362733633241,
          2.40046791617613,
          2.39786036302012,
          2.4027378645904,
          2.39557894824001,
          2.39534318616594,
          2.40066830251778,
          2.40299279130042,
          2.34244835304619,
          2.20748334556763,
          2.2328713631936,
          2.36593873726335,
          1.52660983394726,
          -1.62600217467959,
          -2.27396119985998,
          0.934530012321531,
          2.41991379677985,
          1.82787240123078,
          1.22712587246739,
          2.45442043280112,
          3.04821010854634,
          2.47479877886108,
          2.80337188163924,
          1.9493486596966,
          2.6099224684906,
          4.4186739597559,
          4.47742684509793,
          4.4603289201929,
          4.47883810222676,
          4.53974090656815,
          4.61418643398604,
          4.67659777703664,
          4.72268670452429,
          4.71113454589955,
          4.49127071476695,
          5.12359802529756,
          5.29881502099888,
          4.37942099501625,
          3.70946573244568,
          0.961085280307357,
          -0.169451605224622,
          -1.15177978960304,
          -3.75548445756917,
          -2.49754177378349,
          0.502203354157719,
          1.50626772829854,
          1.33037160015506,
          1.52247694994588
         ],
         "yaxis": "y"
        },
        {
         "hovertemplate": "Country=Sudan<br>Year=%{x}<br>Population growth (annual %)=%{y}<extra></extra>",
         "legendgroup": "Sudan",
         "line": {
          "color": "#BCBD22",
          "dash": "solid"
         },
         "marker": {
          "symbol": "circle"
         },
         "mode": "lines",
         "name": "Sudan",
         "orientation": "v",
         "showlegend": true,
         "type": "scatter",
         "x": [
          1960,
          1961,
          1962,
          1963,
          1964,
          1965,
          1966,
          1967,
          1968,
          1969,
          1970,
          1971,
          1972,
          1973,
          1974,
          1975,
          1976,
          1977,
          1978,
          1979,
          1980,
          1981,
          1982,
          1983,
          1984,
          1985,
          1986,
          1987,
          1988,
          1989,
          1990,
          1991,
          1992,
          1993,
          1994,
          1995,
          1996,
          1997,
          1998,
          1999,
          2000,
          2001,
          2002,
          2003,
          2004,
          2005,
          2006,
          2007,
          2008,
          2009,
          2010,
          2011,
          2012,
          2013,
          2014,
          2015,
          2016,
          2017,
          2018,
          2019,
          2020,
          2021,
          2022
         ],
         "xaxis": "x",
         "y": [
          null,
          2.97026938454193,
          3.02968927533045,
          3.04931689621707,
          3.14910223263789,
          3.20206449418141,
          3.05914831424818,
          3.00976664570999,
          3.0384792623554,
          3.02957984670179,
          3.04505280068195,
          3.16656551369303,
          3.27379854127154,
          3.36259922979227,
          3.78771106636506,
          4.13375977795885,
          4.1253366659246,
          4.18538999131019,
          4.26172980866171,
          4.26696918582142,
          4.2923865207415,
          4.28935799737969,
          4.0773141132874,
          3.28472761808475,
          2.27895833492794,
          1.81665518839006,
          1.87930569589589,
          1.71039683271081,
          1.09766648080682,
          1.28674952805151,
          1.78038955394371,
          1.70566333632953,
          1.50971890053507,
          1.74407304866166,
          2.40893107478887,
          2.55250639227257,
          2.42481159995041,
          2.45109662763757,
          2.3231892056128,
          2.38850091216307,
          2.55963690837227,
          2.43590785577774,
          2.28583965848042,
          2.21912557576201,
          2.25392586427754,
          2.42945361033328,
          2.64703640708656,
          2.78996436965565,
          2.76377910390166,
          2.71626568948597,
          2.37468258916878,
          1.9944775499975,
          2.12762901437903,
          2.3357525902736,
          2.77449286124806,
          3.10751167131043,
          3.11054531285464,
          3.25461617065729,
          3.19148702209797,
          2.89358996893094,
          2.75677878454575,
          2.70104593999388,
          2.63061426078782
         ],
         "yaxis": "y"
        },
        {
         "hovertemplate": "Country=Tanzania<br>Year=%{x}<br>Population growth (annual %)=%{y}<extra></extra>",
         "legendgroup": "Tanzania",
         "line": {
          "color": "#17BECF",
          "dash": "solid"
         },
         "marker": {
          "symbol": "circle"
         },
         "mode": "lines",
         "name": "Tanzania",
         "orientation": "v",
         "showlegend": true,
         "type": "scatter",
         "x": [
          1960,
          1961,
          1962,
          1963,
          1964,
          1965,
          1966,
          1967,
          1968,
          1969,
          1970,
          1971,
          1972,
          1973,
          1974,
          1975,
          1976,
          1977,
          1978,
          1979,
          1980,
          1981,
          1982,
          1983,
          1984,
          1985,
          1986,
          1987,
          1988,
          1989,
          1990,
          1991,
          1992,
          1993,
          1994,
          1995,
          1996,
          1997,
          1998,
          1999,
          2000,
          2001,
          2002,
          2003,
          2004,
          2005,
          2006,
          2007,
          2008,
          2009,
          2010,
          2011,
          2012,
          2013,
          2014,
          2015,
          2016,
          2017,
          2018,
          2019,
          2020,
          2021,
          2022
         ],
         "xaxis": "x",
         "y": [
          null,
          2.89939780757905,
          2.92389049932235,
          2.92121831069703,
          2.96110793573431,
          2.97617633033767,
          2.97600346124761,
          2.99554406348966,
          3.13886137864063,
          3.30291856246367,
          3.36334574358874,
          3.42161841813975,
          3.51041661439018,
          3.55231936608497,
          3.55819450389197,
          3.58808631462146,
          3.59799162354067,
          3.59119567387873,
          3.5201860419167,
          3.36439485110686,
          3.15332131934447,
          3.0280055720025,
          3.01572323218723,
          3.2197871996265,
          3.19103354205015,
          3.20756870399409,
          3.28894736361198,
          3.26931169911707,
          3.04346252580691,
          2.69538184219563,
          2.64128400695922,
          2.57993124431027,
          2.53289241340601,
          3.16992864511183,
          3.8901331198659,
          3.19765832744191,
          1.88224173915435,
          2.05043913770272,
          2.6103683934955,
          2.64138525401348,
          2.83680794271469,
          2.72137531815627,
          2.61708727425256,
          2.6610905029697,
          2.71359210283265,
          2.77298146987654,
          2.80649707734517,
          2.80637123627598,
          2.7296238795863,
          2.50402075339375,
          2.58825254940751,
          2.85292613461509,
          2.90906812607356,
          3.02477579129254,
          3.11994358308313,
          3.34457430485523,
          3.47687650082591,
          3.37115080503874,
          3.18923717091341,
          3.02174626028,
          3.01385328385348,
          3.00728723340751,
          2.95857345225459
         ],
         "yaxis": "y"
        },
        {
         "hovertemplate": "Country=Uganda<br>Year=%{x}<br>Population growth (annual %)=%{y}<extra></extra>",
         "legendgroup": "Uganda",
         "line": {
          "color": "#1F77B4",
          "dash": "solid"
         },
         "marker": {
          "symbol": "circle"
         },
         "mode": "lines",
         "name": "Uganda",
         "orientation": "v",
         "showlegend": true,
         "type": "scatter",
         "x": [
          1960,
          1961,
          1962,
          1963,
          1964,
          1965,
          1966,
          1967,
          1968,
          1969,
          1970,
          1971,
          1972,
          1973,
          1974,
          1975,
          1976,
          1977,
          1978,
          1979,
          1980,
          1981,
          1982,
          1983,
          1984,
          1985,
          1986,
          1987,
          1988,
          1989,
          1990,
          1991,
          1992,
          1993,
          1994,
          1995,
          1996,
          1997,
          1998,
          1999,
          2000,
          2001,
          2002,
          2003,
          2004,
          2005,
          2006,
          2007,
          2008,
          2009,
          2010,
          2011,
          2012,
          2013,
          2014,
          2015,
          2016,
          2017,
          2018,
          2019,
          2020,
          2021,
          2022
         ],
         "xaxis": "x",
         "y": [
          null,
          2.85593095553982,
          2.89684075195413,
          2.95732602707451,
          3.00740238183342,
          3.03925740534669,
          3.07473858983879,
          3.12152351188468,
          3.1740867014152,
          3.14858914783766,
          3.05760883729459,
          2.85805667408401,
          2.50432806458679,
          2.3652155315154,
          2.50360643586344,
          2.61057799275555,
          2.64370663791767,
          2.6545314661956,
          2.65455861076249,
          2.4075044557169,
          2.07278335441896,
          2.0824376720328,
          2.30660639946277,
          2.48246551102789,
          2.69724585778288,
          2.83913598045199,
          2.93473252294644,
          3.09874221855551,
          3.17371581667772,
          3.21778555676955,
          3.22480181545626,
          3.27394166931985,
          3.40830678772436,
          3.45516304809416,
          3.3450797464942,
          2.72433658029574,
          2.71295214058182,
          2.90961314833138,
          2.97547135684212,
          3.23746779364357,
          3.13535567369772,
          3.04478942602344,
          3.10813979944162,
          3.12028672115224,
          2.95848070670913,
          2.90623167656329,
          2.91502197083402,
          2.93354099227772,
          2.92692289648893,
          2.9156563947553,
          2.91517454447869,
          2.90711158037377,
          2.89370786919312,
          2.8767478792897,
          2.96898607347744,
          3.09130915647166,
          3.33499474701031,
          3.49646846553214,
          3.40127795850029,
          3.39509056427404,
          3.33280874526165,
          3.211427903809,
          2.99862763969552
         ],
         "yaxis": "y"
        },
        {
         "hovertemplate": "Country=World<br>Year=%{x}<br>Population growth (annual %)=%{y}<extra></extra>",
         "legendgroup": "World",
         "line": {
          "color": "#FF7F0E",
          "dash": "solid"
         },
         "marker": {
          "symbol": "circle"
         },
         "mode": "lines",
         "name": "World",
         "orientation": "v",
         "showlegend": true,
         "type": "scatter",
         "x": [
          1960,
          1961,
          1962,
          1963,
          1964,
          1965,
          1966,
          1967,
          1968,
          1969,
          1970,
          1971,
          1972,
          1973,
          1974,
          1975,
          1976,
          1977,
          1978,
          1979,
          1980,
          1981,
          1982,
          1983,
          1984,
          1985,
          1986,
          1987,
          1988,
          1989,
          1990,
          1991,
          1992,
          1993,
          1994,
          1995,
          1996,
          1997,
          1998,
          1999,
          2000,
          2001,
          2002,
          2003,
          2004,
          2005,
          2006,
          2007,
          2008,
          2009,
          2010,
          2011,
          2012,
          2013,
          2014,
          2015,
          2016,
          2017,
          2018,
          2019,
          2020,
          2021,
          2022
         ],
         "xaxis": "x",
         "y": [
          null,
          1.350747650788037,
          1.7714954041233852,
          2.129276756531141,
          2.098466357773248,
          2.0784635506120708,
          2.1113835560055065,
          2.0565146842635045,
          2.0699488841175797,
          2.101846454474284,
          2.092560544571228,
          2.1061143361067707,
          2.0084654698976863,
          1.9879718345044493,
          1.9354750263723872,
          1.8552540554856591,
          1.7953143380961478,
          1.7555589646144512,
          1.7545669962037351,
          1.77039694762054,
          1.7547073816881635,
          1.7686382531377376,
          1.8090130535122453,
          1.7853492116711465,
          1.745302554645605,
          1.7504159445402792,
          1.7717157967640702,
          1.7885479681647212,
          1.77335590894927,
          1.7443358127349171,
          1.7455356528516006,
          1.6840128903219806,
          1.627999011541931,
          1.5805510562429248,
          1.5373133657839304,
          1.5010592520805233,
          1.4815368958879844,
          1.4535764295385434,
          1.4190943494982946,
          1.380703451660949,
          1.3531623785956697,
          1.3349989011366006,
          1.313657425994407,
          1.289152008281775,
          1.2749405767855675,
          1.2637468409061086,
          1.2576481964035509,
          1.2474242238931057,
          1.2478891957355955,
          1.2370384177649925,
          1.2226368223047217,
          1.2045252597965543,
          1.240336532681923,
          1.235648839831427,
          1.2205004018668577,
          1.193054538698803,
          1.1732040256596576,
          1.148718898535833,
          1.1025795140397747,
          1.055964041985817,
          1.0110392599868447,
          0.8591974586917246,
          0.798516240076836
         ],
         "yaxis": "y"
        }
       ],
       "layout": {
        "legend": {
         "title": {
          "text": "Country"
         },
         "tracegroupgap": 0
        },
        "template": {
         "data": {
          "bar": [
           {
            "error_x": {
             "color": "rgb(36,36,36)"
            },
            "error_y": {
             "color": "rgb(36,36,36)"
            },
            "marker": {
             "line": {
              "color": "white",
              "width": 0.5
             },
             "pattern": {
              "fillmode": "overlay",
              "size": 10,
              "solidity": 0.2
             }
            },
            "type": "bar"
           }
          ],
          "barpolar": [
           {
            "marker": {
             "line": {
              "color": "white",
              "width": 0.5
             },
             "pattern": {
              "fillmode": "overlay",
              "size": 10,
              "solidity": 0.2
             }
            },
            "type": "barpolar"
           }
          ],
          "carpet": [
           {
            "aaxis": {
             "endlinecolor": "rgb(36,36,36)",
             "gridcolor": "white",
             "linecolor": "white",
             "minorgridcolor": "white",
             "startlinecolor": "rgb(36,36,36)"
            },
            "baxis": {
             "endlinecolor": "rgb(36,36,36)",
             "gridcolor": "white",
             "linecolor": "white",
             "minorgridcolor": "white",
             "startlinecolor": "rgb(36,36,36)"
            },
            "type": "carpet"
           }
          ],
          "choropleth": [
           {
            "colorbar": {
             "outlinewidth": 1,
             "tickcolor": "rgb(36,36,36)",
             "ticks": "outside"
            },
            "type": "choropleth"
           }
          ],
          "contour": [
           {
            "colorbar": {
             "outlinewidth": 1,
             "tickcolor": "rgb(36,36,36)",
             "ticks": "outside"
            },
            "colorscale": [
             [
              0,
              "#440154"
             ],
             [
              0.1111111111111111,
              "#482878"
             ],
             [
              0.2222222222222222,
              "#3e4989"
             ],
             [
              0.3333333333333333,
              "#31688e"
             ],
             [
              0.4444444444444444,
              "#26828e"
             ],
             [
              0.5555555555555556,
              "#1f9e89"
             ],
             [
              0.6666666666666666,
              "#35b779"
             ],
             [
              0.7777777777777778,
              "#6ece58"
             ],
             [
              0.8888888888888888,
              "#b5de2b"
             ],
             [
              1,
              "#fde725"
             ]
            ],
            "type": "contour"
           }
          ],
          "contourcarpet": [
           {
            "colorbar": {
             "outlinewidth": 1,
             "tickcolor": "rgb(36,36,36)",
             "ticks": "outside"
            },
            "type": "contourcarpet"
           }
          ],
          "heatmap": [
           {
            "colorbar": {
             "outlinewidth": 1,
             "tickcolor": "rgb(36,36,36)",
             "ticks": "outside"
            },
            "colorscale": [
             [
              0,
              "#440154"
             ],
             [
              0.1111111111111111,
              "#482878"
             ],
             [
              0.2222222222222222,
              "#3e4989"
             ],
             [
              0.3333333333333333,
              "#31688e"
             ],
             [
              0.4444444444444444,
              "#26828e"
             ],
             [
              0.5555555555555556,
              "#1f9e89"
             ],
             [
              0.6666666666666666,
              "#35b779"
             ],
             [
              0.7777777777777778,
              "#6ece58"
             ],
             [
              0.8888888888888888,
              "#b5de2b"
             ],
             [
              1,
              "#fde725"
             ]
            ],
            "type": "heatmap"
           }
          ],
          "heatmapgl": [
           {
            "colorbar": {
             "outlinewidth": 1,
             "tickcolor": "rgb(36,36,36)",
             "ticks": "outside"
            },
            "colorscale": [
             [
              0,
              "#440154"
             ],
             [
              0.1111111111111111,
              "#482878"
             ],
             [
              0.2222222222222222,
              "#3e4989"
             ],
             [
              0.3333333333333333,
              "#31688e"
             ],
             [
              0.4444444444444444,
              "#26828e"
             ],
             [
              0.5555555555555556,
              "#1f9e89"
             ],
             [
              0.6666666666666666,
              "#35b779"
             ],
             [
              0.7777777777777778,
              "#6ece58"
             ],
             [
              0.8888888888888888,
              "#b5de2b"
             ],
             [
              1,
              "#fde725"
             ]
            ],
            "type": "heatmapgl"
           }
          ],
          "histogram": [
           {
            "marker": {
             "line": {
              "color": "white",
              "width": 0.6
             }
            },
            "type": "histogram"
           }
          ],
          "histogram2d": [
           {
            "colorbar": {
             "outlinewidth": 1,
             "tickcolor": "rgb(36,36,36)",
             "ticks": "outside"
            },
            "colorscale": [
             [
              0,
              "#440154"
             ],
             [
              0.1111111111111111,
              "#482878"
             ],
             [
              0.2222222222222222,
              "#3e4989"
             ],
             [
              0.3333333333333333,
              "#31688e"
             ],
             [
              0.4444444444444444,
              "#26828e"
             ],
             [
              0.5555555555555556,
              "#1f9e89"
             ],
             [
              0.6666666666666666,
              "#35b779"
             ],
             [
              0.7777777777777778,
              "#6ece58"
             ],
             [
              0.8888888888888888,
              "#b5de2b"
             ],
             [
              1,
              "#fde725"
             ]
            ],
            "type": "histogram2d"
           }
          ],
          "histogram2dcontour": [
           {
            "colorbar": {
             "outlinewidth": 1,
             "tickcolor": "rgb(36,36,36)",
             "ticks": "outside"
            },
            "colorscale": [
             [
              0,
              "#440154"
             ],
             [
              0.1111111111111111,
              "#482878"
             ],
             [
              0.2222222222222222,
              "#3e4989"
             ],
             [
              0.3333333333333333,
              "#31688e"
             ],
             [
              0.4444444444444444,
              "#26828e"
             ],
             [
              0.5555555555555556,
              "#1f9e89"
             ],
             [
              0.6666666666666666,
              "#35b779"
             ],
             [
              0.7777777777777778,
              "#6ece58"
             ],
             [
              0.8888888888888888,
              "#b5de2b"
             ],
             [
              1,
              "#fde725"
             ]
            ],
            "type": "histogram2dcontour"
           }
          ],
          "mesh3d": [
           {
            "colorbar": {
             "outlinewidth": 1,
             "tickcolor": "rgb(36,36,36)",
             "ticks": "outside"
            },
            "type": "mesh3d"
           }
          ],
          "parcoords": [
           {
            "line": {
             "colorbar": {
              "outlinewidth": 1,
              "tickcolor": "rgb(36,36,36)",
              "ticks": "outside"
             }
            },
            "type": "parcoords"
           }
          ],
          "pie": [
           {
            "automargin": true,
            "type": "pie"
           }
          ],
          "scatter": [
           {
            "fillpattern": {
             "fillmode": "overlay",
             "size": 10,
             "solidity": 0.2
            },
            "type": "scatter"
           }
          ],
          "scatter3d": [
           {
            "line": {
             "colorbar": {
              "outlinewidth": 1,
              "tickcolor": "rgb(36,36,36)",
              "ticks": "outside"
             }
            },
            "marker": {
             "colorbar": {
              "outlinewidth": 1,
              "tickcolor": "rgb(36,36,36)",
              "ticks": "outside"
             }
            },
            "type": "scatter3d"
           }
          ],
          "scattercarpet": [
           {
            "marker": {
             "colorbar": {
              "outlinewidth": 1,
              "tickcolor": "rgb(36,36,36)",
              "ticks": "outside"
             }
            },
            "type": "scattercarpet"
           }
          ],
          "scattergeo": [
           {
            "marker": {
             "colorbar": {
              "outlinewidth": 1,
              "tickcolor": "rgb(36,36,36)",
              "ticks": "outside"
             }
            },
            "type": "scattergeo"
           }
          ],
          "scattergl": [
           {
            "marker": {
             "colorbar": {
              "outlinewidth": 1,
              "tickcolor": "rgb(36,36,36)",
              "ticks": "outside"
             }
            },
            "type": "scattergl"
           }
          ],
          "scattermapbox": [
           {
            "marker": {
             "colorbar": {
              "outlinewidth": 1,
              "tickcolor": "rgb(36,36,36)",
              "ticks": "outside"
             }
            },
            "type": "scattermapbox"
           }
          ],
          "scatterpolar": [
           {
            "marker": {
             "colorbar": {
              "outlinewidth": 1,
              "tickcolor": "rgb(36,36,36)",
              "ticks": "outside"
             }
            },
            "type": "scatterpolar"
           }
          ],
          "scatterpolargl": [
           {
            "marker": {
             "colorbar": {
              "outlinewidth": 1,
              "tickcolor": "rgb(36,36,36)",
              "ticks": "outside"
             }
            },
            "type": "scatterpolargl"
           }
          ],
          "scatterternary": [
           {
            "marker": {
             "colorbar": {
              "outlinewidth": 1,
              "tickcolor": "rgb(36,36,36)",
              "ticks": "outside"
             }
            },
            "type": "scatterternary"
           }
          ],
          "surface": [
           {
            "colorbar": {
             "outlinewidth": 1,
             "tickcolor": "rgb(36,36,36)",
             "ticks": "outside"
            },
            "colorscale": [
             [
              0,
              "#440154"
             ],
             [
              0.1111111111111111,
              "#482878"
             ],
             [
              0.2222222222222222,
              "#3e4989"
             ],
             [
              0.3333333333333333,
              "#31688e"
             ],
             [
              0.4444444444444444,
              "#26828e"
             ],
             [
              0.5555555555555556,
              "#1f9e89"
             ],
             [
              0.6666666666666666,
              "#35b779"
             ],
             [
              0.7777777777777778,
              "#6ece58"
             ],
             [
              0.8888888888888888,
              "#b5de2b"
             ],
             [
              1,
              "#fde725"
             ]
            ],
            "type": "surface"
           }
          ],
          "table": [
           {
            "cells": {
             "fill": {
              "color": "rgb(237,237,237)"
             },
             "line": {
              "color": "white"
             }
            },
            "header": {
             "fill": {
              "color": "rgb(217,217,217)"
             },
             "line": {
              "color": "white"
             }
            },
            "type": "table"
           }
          ]
         },
         "layout": {
          "annotationdefaults": {
           "arrowhead": 0,
           "arrowwidth": 1
          },
          "autotypenumbers": "strict",
          "coloraxis": {
           "colorbar": {
            "outlinewidth": 1,
            "tickcolor": "rgb(36,36,36)",
            "ticks": "outside"
           }
          },
          "colorscale": {
           "diverging": [
            [
             0,
             "rgb(103,0,31)"
            ],
            [
             0.1,
             "rgb(178,24,43)"
            ],
            [
             0.2,
             "rgb(214,96,77)"
            ],
            [
             0.3,
             "rgb(244,165,130)"
            ],
            [
             0.4,
             "rgb(253,219,199)"
            ],
            [
             0.5,
             "rgb(247,247,247)"
            ],
            [
             0.6,
             "rgb(209,229,240)"
            ],
            [
             0.7,
             "rgb(146,197,222)"
            ],
            [
             0.8,
             "rgb(67,147,195)"
            ],
            [
             0.9,
             "rgb(33,102,172)"
            ],
            [
             1,
             "rgb(5,48,97)"
            ]
           ],
           "sequential": [
            [
             0,
             "#440154"
            ],
            [
             0.1111111111111111,
             "#482878"
            ],
            [
             0.2222222222222222,
             "#3e4989"
            ],
            [
             0.3333333333333333,
             "#31688e"
            ],
            [
             0.4444444444444444,
             "#26828e"
            ],
            [
             0.5555555555555556,
             "#1f9e89"
            ],
            [
             0.6666666666666666,
             "#35b779"
            ],
            [
             0.7777777777777778,
             "#6ece58"
            ],
            [
             0.8888888888888888,
             "#b5de2b"
            ],
            [
             1,
             "#fde725"
            ]
           ],
           "sequentialminus": [
            [
             0,
             "#440154"
            ],
            [
             0.1111111111111111,
             "#482878"
            ],
            [
             0.2222222222222222,
             "#3e4989"
            ],
            [
             0.3333333333333333,
             "#31688e"
            ],
            [
             0.4444444444444444,
             "#26828e"
            ],
            [
             0.5555555555555556,
             "#1f9e89"
            ],
            [
             0.6666666666666666,
             "#35b779"
            ],
            [
             0.7777777777777778,
             "#6ece58"
            ],
            [
             0.8888888888888888,
             "#b5de2b"
            ],
            [
             1,
             "#fde725"
            ]
           ]
          },
          "colorway": [
           "#1F77B4",
           "#FF7F0E",
           "#2CA02C",
           "#D62728",
           "#9467BD",
           "#8C564B",
           "#E377C2",
           "#7F7F7F",
           "#BCBD22",
           "#17BECF"
          ],
          "font": {
           "color": "rgb(36,36,36)"
          },
          "geo": {
           "bgcolor": "white",
           "lakecolor": "white",
           "landcolor": "white",
           "showlakes": true,
           "showland": true,
           "subunitcolor": "white"
          },
          "hoverlabel": {
           "align": "left"
          },
          "hovermode": "closest",
          "mapbox": {
           "style": "light"
          },
          "paper_bgcolor": "white",
          "plot_bgcolor": "white",
          "polar": {
           "angularaxis": {
            "gridcolor": "rgb(232,232,232)",
            "linecolor": "rgb(36,36,36)",
            "showgrid": false,
            "showline": true,
            "ticks": "outside"
           },
           "bgcolor": "white",
           "radialaxis": {
            "gridcolor": "rgb(232,232,232)",
            "linecolor": "rgb(36,36,36)",
            "showgrid": false,
            "showline": true,
            "ticks": "outside"
           }
          },
          "scene": {
           "xaxis": {
            "backgroundcolor": "white",
            "gridcolor": "rgb(232,232,232)",
            "gridwidth": 2,
            "linecolor": "rgb(36,36,36)",
            "showbackground": true,
            "showgrid": false,
            "showline": true,
            "ticks": "outside",
            "zeroline": false,
            "zerolinecolor": "rgb(36,36,36)"
           },
           "yaxis": {
            "backgroundcolor": "white",
            "gridcolor": "rgb(232,232,232)",
            "gridwidth": 2,
            "linecolor": "rgb(36,36,36)",
            "showbackground": true,
            "showgrid": false,
            "showline": true,
            "ticks": "outside",
            "zeroline": false,
            "zerolinecolor": "rgb(36,36,36)"
           },
           "zaxis": {
            "backgroundcolor": "white",
            "gridcolor": "rgb(232,232,232)",
            "gridwidth": 2,
            "linecolor": "rgb(36,36,36)",
            "showbackground": true,
            "showgrid": false,
            "showline": true,
            "ticks": "outside",
            "zeroline": false,
            "zerolinecolor": "rgb(36,36,36)"
           }
          },
          "shapedefaults": {
           "fillcolor": "black",
           "line": {
            "width": 0
           },
           "opacity": 0.3
          },
          "ternary": {
           "aaxis": {
            "gridcolor": "rgb(232,232,232)",
            "linecolor": "rgb(36,36,36)",
            "showgrid": false,
            "showline": true,
            "ticks": "outside"
           },
           "baxis": {
            "gridcolor": "rgb(232,232,232)",
            "linecolor": "rgb(36,36,36)",
            "showgrid": false,
            "showline": true,
            "ticks": "outside"
           },
           "bgcolor": "white",
           "caxis": {
            "gridcolor": "rgb(232,232,232)",
            "linecolor": "rgb(36,36,36)",
            "showgrid": false,
            "showline": true,
            "ticks": "outside"
           }
          },
          "title": {
           "x": 0.05
          },
          "xaxis": {
           "automargin": true,
           "gridcolor": "rgb(232,232,232)",
           "linecolor": "rgb(36,36,36)",
           "showgrid": false,
           "showline": true,
           "ticks": "outside",
           "title": {
            "standoff": 15
           },
           "zeroline": false,
           "zerolinecolor": "rgb(36,36,36)"
          },
          "yaxis": {
           "automargin": true,
           "gridcolor": "rgb(232,232,232)",
           "linecolor": "rgb(36,36,36)",
           "showgrid": false,
           "showline": true,
           "ticks": "outside",
           "title": {
            "standoff": 15
           },
           "zeroline": false,
           "zerolinecolor": "rgb(36,36,36)"
          }
         }
        },
        "title": {
         "text": "Population Growth"
        },
        "xaxis": {
         "anchor": "y",
         "domain": [
          0,
          1
         ],
         "title": {
          "text": "Year"
         }
        },
        "yaxis": {
         "anchor": "x",
         "domain": [
          0,
          1
         ],
         "title": {
          "text": "Population growth (annual %)"
         }
        }
       }
      }
     },
     "metadata": {},
     "output_type": "display_data"
    }
   ],
   "source": [
    "fig=px.line(df,\n",
    "            x='Year',\n",
    "            y='Population growth (annual %)',\n",
    "            color='Country',\n",
    "            title='Population Growth',\n",
    "            template='simple_white')\n",
    "fig.show()"
   ]
  },
  {
   "cell_type": "code",
   "execution_count": 22,
   "metadata": {},
   "outputs": [
    {
     "data": {
      "text/html": [
       "\n",
       "        <iframe\n",
       "            width=\"100%\"\n",
       "            height=\"525px\"\n",
       "            src=\"https://plotly.com/~najibhassan/1.embed\"\n",
       "            frameborder=\"0\"\n",
       "            allowfullscreen\n",
       "            \n",
       "        ></iframe>\n",
       "        "
      ],
      "text/plain": [
       "<IPython.lib.display.IFrame at 0x17c0dac6070>"
      ]
     },
     "execution_count": 22,
     "metadata": {},
     "output_type": "execute_result"
    }
   ],
   "source": [
    "import numpy as np\n",
    "import chart_studio.plotly as py\n",
    "import chart_studio\n",
    "chart_studio.tools.set_credentials_file(username='najibhassan', api_key='6cgqVqcsbdzthPIb7UY0')\n",
    "# Extract the required columns\n",
    "columns = ['Year','Population, female (% of total population)', 'Population, male (% of total population)']\n",
    "df_selected = east_africa_countries_data[columns]\n",
    "# Group the data by year and calculate the mean values\n",
    "df_grouped = df_selected.groupby('Year').mean().round(2).reset_index()\n",
    "\n",
    "# Extract Required Columns from Grouped Data\n",
    "men_bins=np.array(list(df_grouped['Population, male (% of total population)']))\n",
    "women_bins=np.array(list(df_grouped['Population, female (% of total population)']))\n",
    "women_bins\n",
    "years=list[df_grouped['Year']]\n",
    "y = list(range(0, 100, 2))\n",
    "layout = go.Layout(yaxis=go.layout.YAxis(title='Age'),\n",
    "                   xaxis=go.layout.XAxis(\n",
    "                       range=[0, 100],\n",
    "                       tickvals=[0, 10, 20, 30, 40, 50, 60],\n",
    "                       ticktext=[60, 70, 80, 90, 100, 0, 10],\n",
    "                       title='Number'),\n",
    "                   barmode='overlay',\n",
    "                   bargap=0.1)\n",
    "\n",
    "data = [go.Bar(y=y,\n",
    "               x=men_bins,\n",
    "               orientation='h',\n",
    "               name='Men',\n",
    "               hoverinfo='x',\n",
    "               marker=dict(color='powderblue')\n",
    "               ),\n",
    "        go.Bar(y=y,\n",
    "               x=women_bins,\n",
    "               orientation='h',\n",
    "               name='Women',\n",
    "               text=-1 * women_bins.astype('int'),\n",
    "               hoverinfo='text',\n",
    "               marker=dict(color='seagreen')\n",
    "               )]\n",
    "\n",
    "py.iplot(dict(data=data, layout=layout), filename='pyramid')"
   ]
  }
 ],
 "metadata": {
  "kernelspec": {
   "display_name": ".venv",
   "language": "python",
   "name": "python3"
  },
  "language_info": {
   "codemirror_mode": {
    "name": "ipython",
    "version": 3
   },
   "file_extension": ".py",
   "mimetype": "text/x-python",
   "name": "python",
   "nbconvert_exporter": "python",
   "pygments_lexer": "ipython3",
   "version": "3.9.7"
  },
  "orig_nbformat": 4
 },
 "nbformat": 4,
 "nbformat_minor": 2
}
