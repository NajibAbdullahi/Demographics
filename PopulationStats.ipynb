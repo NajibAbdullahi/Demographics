{
 "cells": [
  {
   "cell_type": "markdown",
   "metadata": {},
   "source": [
    "# Population & General Demographics in East Africa\n",
    "***\n",
    "<img src=\"https://images.unsplash.com/photo-1560091129-27a0e2af124b?ixlib=rb-4.0.3&ixid=M3wxMjA3fDB8MHxwaG90by1wYWdlfHx8fGVufDB8fHx8fA%3D%3D&auto=format&fit=crop&w=3570&q=80\" alt=\"crowded street\" style=\"width:500px;\">"
   ]
  },
  {
   "cell_type": "markdown",
   "metadata": {},
   "source": [
    "<a id=\"WebScraping\"><h2>Web Scraping</h2></a>\n",
    "***\n",
    "<a id=\"ScraperImport\"><h3>Importing Libraries</h3></a>"
   ]
  },
  {
   "cell_type": "code",
   "execution_count": 1,
   "metadata": {},
   "outputs": [],
   "source": [
    "import pandas as pd\n",
    "from selenium import webdriver\n",
    "from selenium.webdriver.common.keys import Keys\n",
    "from selenium.webdriver.common.by import By\n",
    "from selenium.webdriver.chrome.options import Options\n",
    "import time\n",
    "import warnings\n",
    "warnings.filterwarnings('ignore')"
   ]
  },
  {
   "cell_type": "markdown",
   "metadata": {},
   "source": [
    "<a id=\"Setup\"><h3>Browser Setup</h3></a>"
   ]
  },
  {
   "cell_type": "code",
   "execution_count": 17,
   "metadata": {},
   "outputs": [],
   "source": [
    "path=\"https://data.worldbank.org/\"\n",
    "folder=r\"C:\\Users\\NAJIB\\Documents\\Data Analysis\\EastAfrica\\Data\"\n",
    "options=Options();\n",
    "prefs={\"download.default_directory\":r\"C:\\Users\\NAJIB\\Documents\\EastAfrica\\Data\"}\n",
    "options.add_experimental_option(\"prefs\",prefs);\n",
    "driver = webdriver.Chrome(options=options)\n",
    "driver.get(path)"
   ]
  },
  {
   "cell_type": "markdown",
   "metadata": {},
   "source": [
    "<a id=\"downloading\"><h3>Downloading Country Specific Data</h3></a>"
   ]
  },
  {
   "cell_type": "code",
   "execution_count": 3,
   "metadata": {},
   "outputs": [],
   "source": [
    "countries=['Somalia','Kenya','Ethiopia','Sudan', 'South Sudan','Eritrea','Djibouti','Rwanda','Uganda',\n",
    "           'Burundi','Tanzania','World']"
   ]
  },
  {
   "cell_type": "code",
   "execution_count": 2,
   "metadata": {},
   "outputs": [],
   "source": [
    "indicators=['Sex ratio at birth (male births per female births)',\n",
    "'Age dependency ratio (% of working-age population)',\n",
    "'Age dependency ratio, old (% of working-age population)',\n",
    "'Age dependency ratio, young (% of working-age population)',\n",
    "'Population growth (annual %)',\n",
    "'Population, total',\n",
    "'Population, female',\n",
    "'Population, female (% of total population)'\n",
    "'Population, male',\n",
    "'Population, male (% of total population)',\n",
    "'Life expectancy at birth, female (years)',\n",
    "'Life expectancy at birth, total (years)',\n",
    "'Life expectancy at birth, male (years)',\n",
    "'Fertility rate, total (births per woman)',\n",
    "'Survival to age 65, female (% of cohort)',\n",
    "'Survival to age 65, male (% of cohort)',\n",
    "'Population ages 00-04, female (% of female population)',\n",
    "'Population ages 00-04, male (% of male population)',\n",
    "'Population ages 0-14, female',\n",
    "'Population ages 0-14, female (% of female population)',\n",
    "'Population ages 0-14, male',\n",
    "'Population ages 0-14, male (% of male population)',\n",
    "'Population ages 0-14, total',\n",
    "'Population ages 0-14 (% of total population)',\n",
    "'Population ages 05-09, female (% of female population)',\n",
    "'Population ages 05-09, male (% of male population)',\n",
    "'Population ages 10-14, female (% of female population)',\n",
    "'Population ages 10-14, male (% of male population)',\n",
    "'Population ages 15-19, female (% of female population)',\n",
    "'Population ages 15-19, male (% of male population)',\n",
    "'Population ages 15-64, female',\n",
    "'Population ages 15-64, female (% of female population)',\n",
    "'Population ages 15-64, male',\n",
    "'Population ages 15-64, male (% of male population)',\n",
    "'Population ages 15-64, total',\n",
    "'Population ages 15-64 (% of total population)',\n",
    "'Population ages 20-24, female (% of female population)',\n",
    "'Population ages 20-24, male (% of male population)',\n",
    "'Population ages 25-29, female (% of female population)',\n",
    "'Population ages 25-29, male (% of male population)',\n",
    "'Population ages 30-34, female (% of female population)',\n",
    "'Population ages 30-34, male (% of male population)',\n",
    "'Population ages 35-39, female (% of female population)',\n",
    "'Population ages 35-39, male (% of male population)',\n",
    "'Population ages 40-44, female (% of female population)',\n",
    "'Population ages 40-44, male (% of male population)',\n",
    "'Population ages 45-49, female (% of female population)',\n",
    "'Population ages 45-49, male (% of male population)',\n",
    "'Population ages 50-54, female (% of female population)',\n",
    "'Population ages 50-54, male (% of male population)',\n",
    "'Population ages 55-59, female (% of female population)',\n",
    "'Population ages 55-59, male (% of male population)',\n",
    "'Population ages 60-64, female (% of female population)',\n",
    "'Population ages 60-64, male (% of male population)',\n",
    "'Population ages 65-69, female (% of female population)',\n",
    "'Population ages 65-69, male (% of male population)',\n",
    "'Population ages 65 and above, female',\n",
    "'Population ages 65 and above, female (% of female population)',\n",
    "'Population ages 65 and above, male',\n",
    "'Population ages 65 and above, male (% of male population)',\n",
    "'Population ages 65 and above, total',\n",
    "'Population ages 65 and above (% of total population)',\n",
    "'Population ages 70-74, female (% of female population)',\n",
    "'Population ages 70-74, male (% of male population)',\n",
    "'Population ages 75-79, female (% of female population)',\n",
    "'Population ages 75-79, male (% of male population)',\n",
    "'Population ages 80 and above, female (% of female population)',\n",
    "'Population ages 80 and above, male (% of male population)',\n",
    "]\n",
    "indicator_codes=['SP.POP.BRTH.MF',\n",
    "                 'SP.POP.DPND',\n",
    "                 'SP.POP.DPND.OL',\n",
    "                 'SP.POP.DPND.YG',\n",
    "                 'SP.DYN.TFRT.IN',\n",
    "                 'SP.DYN.LE00.FE.IN',\n",
    "                 'SP.DYN.LE00.MA.IN',\n",
    "                 'SP.DYN.LE00.IN',\n",
    "                 'SP.POP.GROW',\n",
    "                 'SP.POP.TOTL.FE.IN',\n",
    "                 'SP.POP.TOTL.MA.IN',\n",
    "                 'SP.POP.TOTL.MA.ZS',\n",
    "                 'SP.POP.TOTL.FE.ZS',\n",
    "                 'SP.DYN.TO65.FE.ZS',\n",
    "                 'SP.DYN.TO65.MA.ZS']"
   ]
  },
  {
   "cell_type": "code",
   "execution_count": 29,
   "metadata": {},
   "outputs": [],
   "source": [
    "for code in indicator_codes:\n",
    "    driver.get(f'https://data.worldbank.org/indicator/{code}')\n",
    "    country_indicator_download=driver.find_element(By.XPATH,'/html/body/div[1]/div/div/div/div[3]/article/aside/div/div[2]/div/p/a[3]').click()\n",
    "    home_btn=driver.find_element(By.XPATH,'/html/body/div[1]/div/div/div/header/div/a[2]').click()\n",
    "    time.sleep(2)"
   ]
  },
  {
   "cell_type": "code",
   "execution_count": 68,
   "metadata": {},
   "outputs": [
    {
     "name": "stdout",
     "output_type": "stream",
     "text": [
      "      Country Name Country ISO3  Year  \\\n",
      "0          Burundi          BDI  1960   \n",
      "1         Djibouti          DJI  1960   \n",
      "2          Eritrea          ERI  1960   \n",
      "3         Ethiopia          ETH  1960   \n",
      "4            Kenya          KEN  1960   \n",
      "...            ...          ...   ...   \n",
      "11335      Somalia          SOM  2022   \n",
      "11336  South Sudan          SSD  2022   \n",
      "11337     Tanzania          TZA  2022   \n",
      "11338       Uganda          UGA  2022   \n",
      "11339        World          WLD  2022   \n",
      "\n",
      "                                 Indicator Name     Indicator Code      Value  \n",
      "0      Life expectancy at birth, female (years)  SP.DYN.LE00.FE.IN  44.451000  \n",
      "1      Life expectancy at birth, female (years)  SP.DYN.LE00.FE.IN  45.281000  \n",
      "2      Life expectancy at birth, female (years)  SP.DYN.LE00.FE.IN  39.649000  \n",
      "3      Life expectancy at birth, female (years)  SP.DYN.LE00.FE.IN  42.676000  \n",
      "4      Life expectancy at birth, female (years)  SP.DYN.LE00.FE.IN  50.263000  \n",
      "...                                         ...                ...        ...  \n",
      "11335  Population, male (% of total population)  SP.POP.TOTL.MA.ZS  50.134601  \n",
      "11336  Population, male (% of total population)  SP.POP.TOTL.MA.ZS  49.523108  \n",
      "11337  Population, male (% of total population)  SP.POP.TOTL.MA.ZS  49.422968  \n",
      "11338  Population, male (% of total population)  SP.POP.TOTL.MA.ZS  49.527064  \n",
      "11339  Population, male (% of total population)  SP.POP.TOTL.MA.ZS  50.264885  \n",
      "\n",
      "[11340 rows x 6 columns]\n"
     ]
    }
   ],
   "source": [
    "import os\n",
    "final_df = pd.DataFrame(columns=['Country Name', 'Country ISO3', 'Year', 'Indicator Name', 'Indicator Code', 'Value'])\n",
    "files=list(os.listdir('./Data/'))\n",
    "for file,indicator in zip(files,indicators):\n",
    "    file=f'./Data/{file}'\n",
    "    temp_df=pd.read_excel(file,sheet_name='Data',skiprows=3)\n",
    "    temp_df=temp_df.melt(id_vars=['Country Name', 'Country Code', 'Indicator Name', 'Indicator Code'],\n",
    "                 var_name='Year',\n",
    "                 value_name='Value')\n",
    "    temp_df['Country ISO3'] = temp_df['Country Code'].str[-3:]\n",
    "    temp_df = temp_df[['Country Name', 'Country ISO3', 'Year', 'Indicator Name', 'Indicator Code', 'Value']]\n",
    "    temp_df=temp_df.loc[temp_df['Country Name'].isin(countries)]\n",
    "    final_df=pd.concat([final_df,temp_df],ignore_index=True)\n",
    "    # print(temp_df)\n",
    "    # final_df = final_df.append(temp_df, ignore_index=True)\n",
    "print(final_df)"
   ]
  },
  {
   "cell_type": "markdown",
   "metadata": {},
   "source": [
    "<a id=\"ColumnExtraction\"><h3>Extracting Specific Columns</h3></a>"
   ]
  },
  {
   "cell_type": "code",
   "execution_count": 70,
   "metadata": {},
   "outputs": [
    {
     "data": {
      "text/html": [
       "<div>\n",
       "<style scoped>\n",
       "    .dataframe tbody tr th:only-of-type {\n",
       "        vertical-align: middle;\n",
       "    }\n",
       "\n",
       "    .dataframe tbody tr th {\n",
       "        vertical-align: top;\n",
       "    }\n",
       "\n",
       "    .dataframe thead th {\n",
       "        text-align: right;\n",
       "    }\n",
       "</style>\n",
       "<table border=\"1\" class=\"dataframe\">\n",
       "  <thead>\n",
       "    <tr style=\"text-align: right;\">\n",
       "      <th></th>\n",
       "      <th>Country Name</th>\n",
       "      <th>Country ISO3</th>\n",
       "      <th>Year</th>\n",
       "      <th>Indicator Name</th>\n",
       "      <th>Indicator Code</th>\n",
       "      <th>Value</th>\n",
       "    </tr>\n",
       "  </thead>\n",
       "  <tbody>\n",
       "    <tr>\n",
       "      <th>11335</th>\n",
       "      <td>Somalia</td>\n",
       "      <td>SOM</td>\n",
       "      <td>2022</td>\n",
       "      <td>Population, male (% of total population)</td>\n",
       "      <td>SP.POP.TOTL.MA.ZS</td>\n",
       "      <td>50.134601</td>\n",
       "    </tr>\n",
       "    <tr>\n",
       "      <th>11336</th>\n",
       "      <td>South Sudan</td>\n",
       "      <td>SSD</td>\n",
       "      <td>2022</td>\n",
       "      <td>Population, male (% of total population)</td>\n",
       "      <td>SP.POP.TOTL.MA.ZS</td>\n",
       "      <td>49.523108</td>\n",
       "    </tr>\n",
       "    <tr>\n",
       "      <th>11337</th>\n",
       "      <td>Tanzania</td>\n",
       "      <td>TZA</td>\n",
       "      <td>2022</td>\n",
       "      <td>Population, male (% of total population)</td>\n",
       "      <td>SP.POP.TOTL.MA.ZS</td>\n",
       "      <td>49.422968</td>\n",
       "    </tr>\n",
       "    <tr>\n",
       "      <th>11338</th>\n",
       "      <td>Uganda</td>\n",
       "      <td>UGA</td>\n",
       "      <td>2022</td>\n",
       "      <td>Population, male (% of total population)</td>\n",
       "      <td>SP.POP.TOTL.MA.ZS</td>\n",
       "      <td>49.527064</td>\n",
       "    </tr>\n",
       "    <tr>\n",
       "      <th>11339</th>\n",
       "      <td>World</td>\n",
       "      <td>WLD</td>\n",
       "      <td>2022</td>\n",
       "      <td>Population, male (% of total population)</td>\n",
       "      <td>SP.POP.TOTL.MA.ZS</td>\n",
       "      <td>50.264885</td>\n",
       "    </tr>\n",
       "  </tbody>\n",
       "</table>\n",
       "</div>"
      ],
      "text/plain": [
       "      Country Name Country ISO3  Year  \\\n",
       "11335      Somalia          SOM  2022   \n",
       "11336  South Sudan          SSD  2022   \n",
       "11337     Tanzania          TZA  2022   \n",
       "11338       Uganda          UGA  2022   \n",
       "11339        World          WLD  2022   \n",
       "\n",
       "                                 Indicator Name     Indicator Code      Value  \n",
       "11335  Population, male (% of total population)  SP.POP.TOTL.MA.ZS  50.134601  \n",
       "11336  Population, male (% of total population)  SP.POP.TOTL.MA.ZS  49.523108  \n",
       "11337  Population, male (% of total population)  SP.POP.TOTL.MA.ZS  49.422968  \n",
       "11338  Population, male (% of total population)  SP.POP.TOTL.MA.ZS  49.527064  \n",
       "11339  Population, male (% of total population)  SP.POP.TOTL.MA.ZS  50.264885  "
      ]
     },
     "execution_count": 70,
     "metadata": {},
     "output_type": "execute_result"
    }
   ],
   "source": [
    "final_df.to_csv('east_africa_pops_data.csv', index=False, header=True)\n",
    "final_df.tail(5)"
   ]
  },
  {
   "cell_type": "markdown",
   "metadata": {},
   "source": [
    "<a id=\"EDA\"><h2>Exploratory Data Analysis</h2></a>\n",
    "***\n",
    "<a id=\"structure\"><h3>Checking Data Structure</h3></a>"
   ]
  },
  {
   "cell_type": "code",
   "execution_count": 4,
   "metadata": {},
   "outputs": [
    {
     "name": "stdout",
     "output_type": "stream",
     "text": [
      "<class 'pandas.core.frame.DataFrame'>\n",
      "RangeIndex: 11340 entries, 0 to 11339\n",
      "Data columns (total 6 columns):\n",
      " #   Column          Non-Null Count  Dtype  \n",
      "---  ------          --------------  -----  \n",
      " 0   Country         11340 non-null  object \n",
      " 1   Country ISO3    11340 non-null  object \n",
      " 2   Year            11340 non-null  int64  \n",
      " 3   Indicator Name  11340 non-null  object \n",
      " 4   Indicator Code  11340 non-null  object \n",
      " 5   Value           11244 non-null  float64\n",
      "dtypes: float64(1), int64(1), object(4)\n",
      "memory usage: 531.7+ KB\n"
     ]
    }
   ],
   "source": [
    "df=pd.read_csv('east_africa_pops_data.csv')\n",
    "df.rename(columns={'Country Name':'Country'},inplace=True)\n",
    "df.info()"
   ]
  },
  {
   "cell_type": "code",
   "execution_count": 4,
   "metadata": {},
   "outputs": [
    {
     "name": "stdout",
     "output_type": "stream",
     "text": [
      "(11340, 6)\n"
     ]
    },
    {
     "data": {
      "text/html": [
       "<div>\n",
       "<style scoped>\n",
       "    .dataframe tbody tr th:only-of-type {\n",
       "        vertical-align: middle;\n",
       "    }\n",
       "\n",
       "    .dataframe tbody tr th {\n",
       "        vertical-align: top;\n",
       "    }\n",
       "\n",
       "    .dataframe thead th {\n",
       "        text-align: right;\n",
       "    }\n",
       "</style>\n",
       "<table border=\"1\" class=\"dataframe\">\n",
       "  <thead>\n",
       "    <tr style=\"text-align: right;\">\n",
       "      <th></th>\n",
       "      <th>Country</th>\n",
       "      <th>Country ISO3</th>\n",
       "      <th>Year</th>\n",
       "      <th>Indicator Name</th>\n",
       "      <th>Indicator Code</th>\n",
       "      <th>Value</th>\n",
       "    </tr>\n",
       "  </thead>\n",
       "  <tbody>\n",
       "    <tr>\n",
       "      <th>11337</th>\n",
       "      <td>Tanzania</td>\n",
       "      <td>TZA</td>\n",
       "      <td>2022</td>\n",
       "      <td>Population, male (% of total population)</td>\n",
       "      <td>SP.POP.TOTL.MA.ZS</td>\n",
       "      <td>49.422968</td>\n",
       "    </tr>\n",
       "    <tr>\n",
       "      <th>11338</th>\n",
       "      <td>Uganda</td>\n",
       "      <td>UGA</td>\n",
       "      <td>2022</td>\n",
       "      <td>Population, male (% of total population)</td>\n",
       "      <td>SP.POP.TOTL.MA.ZS</td>\n",
       "      <td>49.527064</td>\n",
       "    </tr>\n",
       "    <tr>\n",
       "      <th>11339</th>\n",
       "      <td>World</td>\n",
       "      <td>WLD</td>\n",
       "      <td>2022</td>\n",
       "      <td>Population, male (% of total population)</td>\n",
       "      <td>SP.POP.TOTL.MA.ZS</td>\n",
       "      <td>50.264885</td>\n",
       "    </tr>\n",
       "  </tbody>\n",
       "</table>\n",
       "</div>"
      ],
      "text/plain": [
       "        Country Country ISO3  Year                            Indicator Name  \\\n",
       "11337  Tanzania          TZA  2022  Population, male (% of total population)   \n",
       "11338    Uganda          UGA  2022  Population, male (% of total population)   \n",
       "11339     World          WLD  2022  Population, male (% of total population)   \n",
       "\n",
       "          Indicator Code      Value  \n",
       "11337  SP.POP.TOTL.MA.ZS  49.422968  \n",
       "11338  SP.POP.TOTL.MA.ZS  49.527064  \n",
       "11339  SP.POP.TOTL.MA.ZS  50.264885  "
      ]
     },
     "execution_count": 4,
     "metadata": {},
     "output_type": "execute_result"
    }
   ],
   "source": [
    "print(df.shape)\n",
    "df.tail(3)"
   ]
  },
  {
   "cell_type": "code",
   "execution_count": 5,
   "metadata": {},
   "outputs": [],
   "source": [
    "# visualization\n",
    "import missingno as msno\n",
    "import matplotlib as mpl\n",
    "import matplotlib.pyplot as plt\n",
    "import seaborn as sns\n",
    "import missingno as msno\n",
    "import plotly.express as px\n",
    "import plotly.figure_factory as ff\n",
    "import plotly.graph_objects as go\n",
    "import plotly.io as pio\n",
    "from plotly.subplots import make_subplots\n",
    "\n",
    "# styling\n",
    "%matplotlib inline\n",
    "sns.set_theme(style=\"dark\")\n",
    "mpl.rcParams['axes.unicode_minus'] = False\n",
    "pd.set_option('display.max_columns',None)\n",
    "plt.style.use('seaborn-dark-palette')\n",
    "plt.style.use('dark_background')"
   ]
  },
  {
   "cell_type": "code",
   "execution_count": 6,
   "metadata": {},
   "outputs": [
    {
     "data": {
      "text/plain": [
       "Text(0.5, 1.0, 'Distribution of Missing Values')"
      ]
     },
     "execution_count": 6,
     "metadata": {},
     "output_type": "execute_result"
    },
    {
     "data": {
      "image/png": "[encoded data removed]",
      "text/plain": [
       "<Figure size 2500x1000 with 2 Axes>"
      ]
     },
     "metadata": {},
     "output_type": "display_data"
    }
   ],
   "source": [
    "msno.matrix(df)\n",
    "plt.title('Distribution of Missing Values',fontsize=30, fontstyle= 'oblique')"
   ]
  },
  {
   "cell_type": "markdown",
   "metadata": {},
   "source": [
    "<a id=\"indicatorspecific\"><h3>Creating Indicator specific data frame</h3></a>"
   ]
  },
  {
   "cell_type": "code",
   "execution_count": 21,
   "metadata": {},
   "outputs": [],
   "source": [
    "def create_separate_frames(indicator):\n",
    "    temp_df=df.loc[df['Indicator Name']==indicator]\n",
    "    temp_df=temp_df.filter([f'Country','Year','{indicator}','Value'],axis=1)\n",
    "#     print(temp_df)\n",
    "    return temp_df"
   ]
  },
  {
   "cell_type": "code",
   "execution_count": 7,
   "metadata": {},
   "outputs": [
    {
     "data": {
      "text/html": [
       "<div>\n",
       "<style scoped>\n",
       "    .dataframe tbody tr th:only-of-type {\n",
       "        vertical-align: middle;\n",
       "    }\n",
       "\n",
       "    .dataframe tbody tr th {\n",
       "        vertical-align: top;\n",
       "    }\n",
       "\n",
       "    .dataframe thead th {\n",
       "        text-align: right;\n",
       "    }\n",
       "</style>\n",
       "<table border=\"1\" class=\"dataframe\">\n",
       "  <thead>\n",
       "    <tr style=\"text-align: right;\">\n",
       "      <th></th>\n",
       "      <th>Country</th>\n",
       "      <th>Year</th>\n",
       "      <th>Age dependency ratio (% of working-age population)</th>\n",
       "      <th>Age dependency ratio, old (% of working-age population)</th>\n",
       "      <th>Age dependency ratio, young (% of working-age population)</th>\n",
       "      <th>Fertility rate, total (births per woman)</th>\n",
       "      <th>Life expectancy at birth, female (years)</th>\n",
       "      <th>Life expectancy at birth, male (years)</th>\n",
       "      <th>Life expectancy at birth, total (years)</th>\n",
       "      <th>Population growth (annual %)</th>\n",
       "      <th>Population, female</th>\n",
       "      <th>Population, female (% of total population)</th>\n",
       "      <th>Population, male</th>\n",
       "      <th>Population, male (% of total population)</th>\n",
       "      <th>Sex ratio at birth (male births per female births)</th>\n",
       "      <th>Survival to age 65, female (% of cohort)</th>\n",
       "      <th>Survival to age 65, male (% of cohort)</th>\n",
       "    </tr>\n",
       "  </thead>\n",
       "  <tbody>\n",
       "    <tr>\n",
       "      <th>0</th>\n",
       "      <td>Burundi</td>\n",
       "      <td>1960</td>\n",
       "      <td>92.290470</td>\n",
       "      <td>6.110580</td>\n",
       "      <td>86.179890</td>\n",
       "      <td>7.003000</td>\n",
       "      <td>44.451000</td>\n",
       "      <td>41.533000</td>\n",
       "      <td>43.024000</td>\n",
       "      <td>NaN</td>\n",
       "      <td>1.419148e+06</td>\n",
       "      <td>51.668737</td>\n",
       "      <td>1.327479e+06</td>\n",
       "      <td>48.331227</td>\n",
       "      <td>1.025000</td>\n",
       "      <td>37.848041</td>\n",
       "      <td>32.248556</td>\n",
       "    </tr>\n",
       "    <tr>\n",
       "      <th>1</th>\n",
       "      <td>Burundi</td>\n",
       "      <td>1961</td>\n",
       "      <td>92.420498</td>\n",
       "      <td>6.128134</td>\n",
       "      <td>86.292363</td>\n",
       "      <td>7.023000</td>\n",
       "      <td>44.631000</td>\n",
       "      <td>41.804000</td>\n",
       "      <td>43.252000</td>\n",
       "      <td>2.493352</td>\n",
       "      <td>1.453599e+06</td>\n",
       "      <td>51.619796</td>\n",
       "      <td>1.362374e+06</td>\n",
       "      <td>48.380240</td>\n",
       "      <td>1.025000</td>\n",
       "      <td>38.062682</td>\n",
       "      <td>32.557873</td>\n",
       "    </tr>\n",
       "    <tr>\n",
       "      <th>2</th>\n",
       "      <td>Burundi</td>\n",
       "      <td>1962</td>\n",
       "      <td>92.665829</td>\n",
       "      <td>6.159252</td>\n",
       "      <td>86.506577</td>\n",
       "      <td>7.038000</td>\n",
       "      <td>44.713000</td>\n",
       "      <td>42.102000</td>\n",
       "      <td>43.441000</td>\n",
       "      <td>2.504826</td>\n",
       "      <td>1.489006e+06</td>\n",
       "      <td>51.569129</td>\n",
       "      <td>1.398392e+06</td>\n",
       "      <td>48.430871</td>\n",
       "      <td>1.025000</td>\n",
       "      <td>38.045239</td>\n",
       "      <td>32.959218</td>\n",
       "    </tr>\n",
       "    <tr>\n",
       "      <th>3</th>\n",
       "      <td>Burundi</td>\n",
       "      <td>1963</td>\n",
       "      <td>93.544139</td>\n",
       "      <td>6.225037</td>\n",
       "      <td>87.319102</td>\n",
       "      <td>7.067000</td>\n",
       "      <td>45.009000</td>\n",
       "      <td>42.358000</td>\n",
       "      <td>43.718000</td>\n",
       "      <td>2.081634</td>\n",
       "      <td>1.519025e+06</td>\n",
       "      <td>51.524982</td>\n",
       "      <td>1.429107e+06</td>\n",
       "      <td>48.474984</td>\n",
       "      <td>1.025000</td>\n",
       "      <td>38.428793</td>\n",
       "      <td>33.257476</td>\n",
       "    </tr>\n",
       "    <tr>\n",
       "      <th>4</th>\n",
       "      <td>Burundi</td>\n",
       "      <td>1964</td>\n",
       "      <td>93.604189</td>\n",
       "      <td>6.254113</td>\n",
       "      <td>87.350076</td>\n",
       "      <td>7.090000</td>\n",
       "      <td>45.338000</td>\n",
       "      <td>42.543000</td>\n",
       "      <td>43.974000</td>\n",
       "      <td>2.845300</td>\n",
       "      <td>1.561243e+06</td>\n",
       "      <td>51.471456</td>\n",
       "      <td>1.471978e+06</td>\n",
       "      <td>48.528544</td>\n",
       "      <td>1.025000</td>\n",
       "      <td>38.879601</td>\n",
       "      <td>33.415269</td>\n",
       "    </tr>\n",
       "    <tr>\n",
       "      <th>...</th>\n",
       "      <td>...</td>\n",
       "      <td>...</td>\n",
       "      <td>...</td>\n",
       "      <td>...</td>\n",
       "      <td>...</td>\n",
       "      <td>...</td>\n",
       "      <td>...</td>\n",
       "      <td>...</td>\n",
       "      <td>...</td>\n",
       "      <td>...</td>\n",
       "      <td>...</td>\n",
       "      <td>...</td>\n",
       "      <td>...</td>\n",
       "      <td>...</td>\n",
       "      <td>...</td>\n",
       "      <td>...</td>\n",
       "      <td>...</td>\n",
       "    </tr>\n",
       "    <tr>\n",
       "      <th>751</th>\n",
       "      <td>World</td>\n",
       "      <td>2018</td>\n",
       "      <td>55.235506</td>\n",
       "      <td>13.801911</td>\n",
       "      <td>40.121543</td>\n",
       "      <td>2.397340</td>\n",
       "      <td>75.272091</td>\n",
       "      <td>70.432414</td>\n",
       "      <td>72.784090</td>\n",
       "      <td>1.102580</td>\n",
       "      <td>3.806732e+09</td>\n",
       "      <td>49.684718</td>\n",
       "      <td>3.855045e+09</td>\n",
       "      <td>50.315282</td>\n",
       "      <td>1.063470</td>\n",
       "      <td>81.706657</td>\n",
       "      <td>73.068320</td>\n",
       "    </tr>\n",
       "    <tr>\n",
       "      <th>752</th>\n",
       "      <td>World</td>\n",
       "      <td>2019</td>\n",
       "      <td>55.322257</td>\n",
       "      <td>14.168339</td>\n",
       "      <td>39.892567</td>\n",
       "      <td>2.360559</td>\n",
       "      <td>75.470008</td>\n",
       "      <td>70.623612</td>\n",
       "      <td>72.979716</td>\n",
       "      <td>1.055964</td>\n",
       "      <td>3.847484e+09</td>\n",
       "      <td>49.691878</td>\n",
       "      <td>3.895198e+09</td>\n",
       "      <td>50.308122</td>\n",
       "      <td>1.062069</td>\n",
       "      <td>81.939131</td>\n",
       "      <td>73.344609</td>\n",
       "    </tr>\n",
       "    <tr>\n",
       "      <th>753</th>\n",
       "      <td>World</td>\n",
       "      <td>2020</td>\n",
       "      <td>55.354568</td>\n",
       "      <td>14.527944</td>\n",
       "      <td>39.612737</td>\n",
       "      <td>2.299626</td>\n",
       "      <td>74.857303</td>\n",
       "      <td>69.799705</td>\n",
       "      <td>72.243822</td>\n",
       "      <td>1.011039</td>\n",
       "      <td>3.887425e+09</td>\n",
       "      <td>49.705196</td>\n",
       "      <td>3.933538e+09</td>\n",
       "      <td>50.294804</td>\n",
       "      <td>1.059484</td>\n",
       "      <td>80.771268</td>\n",
       "      <td>71.669319</td>\n",
       "    </tr>\n",
       "    <tr>\n",
       "      <th>754</th>\n",
       "      <td>World</td>\n",
       "      <td>2021</td>\n",
       "      <td>55.289710</td>\n",
       "      <td>14.820548</td>\n",
       "      <td>39.291893</td>\n",
       "      <td>2.273191</td>\n",
       "      <td>73.947975</td>\n",
       "      <td>68.886412</td>\n",
       "      <td>71.327391</td>\n",
       "      <td>0.859197</td>\n",
       "      <td>3.922150e+09</td>\n",
       "      <td>49.721975</td>\n",
       "      <td>3.966012e+09</td>\n",
       "      <td>50.278025</td>\n",
       "      <td>1.057931</td>\n",
       "      <td>79.029690</td>\n",
       "      <td>69.533117</td>\n",
       "    </tr>\n",
       "    <tr>\n",
       "      <th>755</th>\n",
       "      <td>World</td>\n",
       "      <td>2022</td>\n",
       "      <td>55.188579</td>\n",
       "      <td>15.104796</td>\n",
       "      <td>38.938658</td>\n",
       "      <td>NaN</td>\n",
       "      <td>NaN</td>\n",
       "      <td>NaN</td>\n",
       "      <td>NaN</td>\n",
       "      <td>0.798516</td>\n",
       "      <td>3.954513e+09</td>\n",
       "      <td>49.735115</td>\n",
       "      <td>3.996636e+09</td>\n",
       "      <td>50.264885</td>\n",
       "      <td>NaN</td>\n",
       "      <td>NaN</td>\n",
       "      <td>NaN</td>\n",
       "    </tr>\n",
       "  </tbody>\n",
       "</table>\n",
       "<p>756 rows × 17 columns</p>\n",
       "</div>"
      ],
      "text/plain": [
       "     Country  Year  Age dependency ratio (% of working-age population)  \\\n",
       "0    Burundi  1960                                          92.290470    \n",
       "1    Burundi  1961                                          92.420498    \n",
       "2    Burundi  1962                                          92.665829    \n",
       "3    Burundi  1963                                          93.544139    \n",
       "4    Burundi  1964                                          93.604189    \n",
       "..       ...   ...                                                ...    \n",
       "751    World  2018                                          55.235506    \n",
       "752    World  2019                                          55.322257    \n",
       "753    World  2020                                          55.354568    \n",
       "754    World  2021                                          55.289710    \n",
       "755    World  2022                                          55.188579    \n",
       "\n",
       "     Age dependency ratio, old (% of working-age population)  \\\n",
       "0                                             6.110580         \n",
       "1                                             6.128134         \n",
       "2                                             6.159252         \n",
       "3                                             6.225037         \n",
       "4                                             6.254113         \n",
       "..                                                 ...         \n",
       "751                                          13.801911         \n",
       "752                                          14.168339         \n",
       "753                                          14.527944         \n",
       "754                                          14.820548         \n",
       "755                                          15.104796         \n",
       "\n",
       "     Age dependency ratio, young (% of working-age population)  \\\n",
       "0                                            86.179890           \n",
       "1                                            86.292363           \n",
       "2                                            86.506577           \n",
       "3                                            87.319102           \n",
       "4                                            87.350076           \n",
       "..                                                 ...           \n",
       "751                                          40.121543           \n",
       "752                                          39.892567           \n",
       "753                                          39.612737           \n",
       "754                                          39.291893           \n",
       "755                                          38.938658           \n",
       "\n",
       "     Fertility rate, total (births per woman)  \\\n",
       "0                                    7.003000   \n",
       "1                                    7.023000   \n",
       "2                                    7.038000   \n",
       "3                                    7.067000   \n",
       "4                                    7.090000   \n",
       "..                                        ...   \n",
       "751                                  2.397340   \n",
       "752                                  2.360559   \n",
       "753                                  2.299626   \n",
       "754                                  2.273191   \n",
       "755                                       NaN   \n",
       "\n",
       "     Life expectancy at birth, female (years)  \\\n",
       "0                                   44.451000   \n",
       "1                                   44.631000   \n",
       "2                                   44.713000   \n",
       "3                                   45.009000   \n",
       "4                                   45.338000   \n",
       "..                                        ...   \n",
       "751                                 75.272091   \n",
       "752                                 75.470008   \n",
       "753                                 74.857303   \n",
       "754                                 73.947975   \n",
       "755                                       NaN   \n",
       "\n",
       "     Life expectancy at birth, male (years)  \\\n",
       "0                                 41.533000   \n",
       "1                                 41.804000   \n",
       "2                                 42.102000   \n",
       "3                                 42.358000   \n",
       "4                                 42.543000   \n",
       "..                                      ...   \n",
       "751                               70.432414   \n",
       "752                               70.623612   \n",
       "753                               69.799705   \n",
       "754                               68.886412   \n",
       "755                                     NaN   \n",
       "\n",
       "     Life expectancy at birth, total (years)  Population growth (annual %)  \\\n",
       "0                                  43.024000                           NaN   \n",
       "1                                  43.252000                      2.493352   \n",
       "2                                  43.441000                      2.504826   \n",
       "3                                  43.718000                      2.081634   \n",
       "4                                  43.974000                      2.845300   \n",
       "..                                       ...                           ...   \n",
       "751                                72.784090                      1.102580   \n",
       "752                                72.979716                      1.055964   \n",
       "753                                72.243822                      1.011039   \n",
       "754                                71.327391                      0.859197   \n",
       "755                                      NaN                      0.798516   \n",
       "\n",
       "     Population, female  Population, female (% of total population)  \\\n",
       "0          1.419148e+06                                   51.668737   \n",
       "1          1.453599e+06                                   51.619796   \n",
       "2          1.489006e+06                                   51.569129   \n",
       "3          1.519025e+06                                   51.524982   \n",
       "4          1.561243e+06                                   51.471456   \n",
       "..                  ...                                         ...   \n",
       "751        3.806732e+09                                   49.684718   \n",
       "752        3.847484e+09                                   49.691878   \n",
       "753        3.887425e+09                                   49.705196   \n",
       "754        3.922150e+09                                   49.721975   \n",
       "755        3.954513e+09                                   49.735115   \n",
       "\n",
       "     Population, male  Population, male (% of total population)  \\\n",
       "0        1.327479e+06                                 48.331227   \n",
       "1        1.362374e+06                                 48.380240   \n",
       "2        1.398392e+06                                 48.430871   \n",
       "3        1.429107e+06                                 48.474984   \n",
       "4        1.471978e+06                                 48.528544   \n",
       "..                ...                                       ...   \n",
       "751      3.855045e+09                                 50.315282   \n",
       "752      3.895198e+09                                 50.308122   \n",
       "753      3.933538e+09                                 50.294804   \n",
       "754      3.966012e+09                                 50.278025   \n",
       "755      3.996636e+09                                 50.264885   \n",
       "\n",
       "     Sex ratio at birth (male births per female births)  \\\n",
       "0                                             1.025000    \n",
       "1                                             1.025000    \n",
       "2                                             1.025000    \n",
       "3                                             1.025000    \n",
       "4                                             1.025000    \n",
       "..                                                 ...    \n",
       "751                                           1.063470    \n",
       "752                                           1.062069    \n",
       "753                                           1.059484    \n",
       "754                                           1.057931    \n",
       "755                                                NaN    \n",
       "\n",
       "     Survival to age 65, female (% of cohort)  \\\n",
       "0                                   37.848041   \n",
       "1                                   38.062682   \n",
       "2                                   38.045239   \n",
       "3                                   38.428793   \n",
       "4                                   38.879601   \n",
       "..                                        ...   \n",
       "751                                 81.706657   \n",
       "752                                 81.939131   \n",
       "753                                 80.771268   \n",
       "754                                 79.029690   \n",
       "755                                       NaN   \n",
       "\n",
       "     Survival to age 65, male (% of cohort)  \n",
       "0                                 32.248556  \n",
       "1                                 32.557873  \n",
       "2                                 32.959218  \n",
       "3                                 33.257476  \n",
       "4                                 33.415269  \n",
       "..                                      ...  \n",
       "751                               73.068320  \n",
       "752                               73.344609  \n",
       "753                               71.669319  \n",
       "754                               69.533117  \n",
       "755                                     NaN  \n",
       "\n",
       "[756 rows x 17 columns]"
      ]
     },
     "execution_count": 7,
     "metadata": {},
     "output_type": "execute_result"
    }
   ],
   "source": [
    "df=df.filter([f'Country','Year', 'Indicator Name','Value'])\n",
    "df=df.pivot_table(index=['Country','Year'],columns='Indicator Name', values='Value').reset_index().rename_axis(None, axis=1)\n",
    "df"
   ]
  },
  {
   "cell_type": "code",
   "execution_count": 25,
   "metadata": {},
   "outputs": [
    {
     "data": {
      "text/html": [
       "<div>\n",
       "<style scoped>\n",
       "    .dataframe tbody tr th:only-of-type {\n",
       "        vertical-align: middle;\n",
       "    }\n",
       "\n",
       "    .dataframe tbody tr th {\n",
       "        vertical-align: top;\n",
       "    }\n",
       "\n",
       "    .dataframe thead th {\n",
       "        text-align: right;\n",
       "    }\n",
       "</style>\n",
       "<table border=\"1\" class=\"dataframe\">\n",
       "  <thead>\n",
       "    <tr style=\"text-align: right;\">\n",
       "      <th></th>\n",
       "      <th>Country</th>\n",
       "      <th>Year</th>\n",
       "      <th>Age dependency ratio (% of working-age population)</th>\n",
       "      <th>Age dependency ratio, old (% of working-age population)</th>\n",
       "      <th>Age dependency ratio, young (% of working-age population)</th>\n",
       "      <th>Fertility rate, total (births per woman)</th>\n",
       "      <th>Life expectancy at birth, female (years)</th>\n",
       "      <th>Life expectancy at birth, male (years)</th>\n",
       "      <th>Life expectancy at birth, total (years)</th>\n",
       "      <th>Population growth (annual %)</th>\n",
       "      <th>Population, female</th>\n",
       "      <th>Population, female (% of total population)</th>\n",
       "      <th>Population, male</th>\n",
       "      <th>Population, male (% of total population)</th>\n",
       "      <th>Sex ratio at birth (male births per female births)</th>\n",
       "      <th>Survival to age 65, female (% of cohort)</th>\n",
       "      <th>Survival to age 65, male (% of cohort)</th>\n",
       "    </tr>\n",
       "  </thead>\n",
       "  <tbody>\n",
       "    <tr>\n",
       "      <th>0</th>\n",
       "      <td>Burundi</td>\n",
       "      <td>1960</td>\n",
       "      <td>92.290470</td>\n",
       "      <td>6.110580</td>\n",
       "      <td>86.179890</td>\n",
       "      <td>7.003</td>\n",
       "      <td>44.451</td>\n",
       "      <td>41.533</td>\n",
       "      <td>43.024</td>\n",
       "      <td>NaN</td>\n",
       "      <td>1419148.0</td>\n",
       "      <td>51.668737</td>\n",
       "      <td>1327479.0</td>\n",
       "      <td>48.331227</td>\n",
       "      <td>1.025</td>\n",
       "      <td>37.848041</td>\n",
       "      <td>32.248556</td>\n",
       "    </tr>\n",
       "    <tr>\n",
       "      <th>1</th>\n",
       "      <td>Burundi</td>\n",
       "      <td>1961</td>\n",
       "      <td>92.420498</td>\n",
       "      <td>6.128134</td>\n",
       "      <td>86.292363</td>\n",
       "      <td>7.023</td>\n",
       "      <td>44.631</td>\n",
       "      <td>41.804</td>\n",
       "      <td>43.252</td>\n",
       "      <td>2.493352</td>\n",
       "      <td>1453599.0</td>\n",
       "      <td>51.619796</td>\n",
       "      <td>1362374.0</td>\n",
       "      <td>48.380240</td>\n",
       "      <td>1.025</td>\n",
       "      <td>38.062682</td>\n",
       "      <td>32.557873</td>\n",
       "    </tr>\n",
       "    <tr>\n",
       "      <th>2</th>\n",
       "      <td>Burundi</td>\n",
       "      <td>1962</td>\n",
       "      <td>92.665829</td>\n",
       "      <td>6.159252</td>\n",
       "      <td>86.506577</td>\n",
       "      <td>7.038</td>\n",
       "      <td>44.713</td>\n",
       "      <td>42.102</td>\n",
       "      <td>43.441</td>\n",
       "      <td>2.504826</td>\n",
       "      <td>1489006.0</td>\n",
       "      <td>51.569129</td>\n",
       "      <td>1398392.0</td>\n",
       "      <td>48.430871</td>\n",
       "      <td>1.025</td>\n",
       "      <td>38.045239</td>\n",
       "      <td>32.959218</td>\n",
       "    </tr>\n",
       "    <tr>\n",
       "      <th>3</th>\n",
       "      <td>Burundi</td>\n",
       "      <td>1963</td>\n",
       "      <td>93.544139</td>\n",
       "      <td>6.225037</td>\n",
       "      <td>87.319102</td>\n",
       "      <td>7.067</td>\n",
       "      <td>45.009</td>\n",
       "      <td>42.358</td>\n",
       "      <td>43.718</td>\n",
       "      <td>2.081634</td>\n",
       "      <td>1519025.0</td>\n",
       "      <td>51.524982</td>\n",
       "      <td>1429107.0</td>\n",
       "      <td>48.474984</td>\n",
       "      <td>1.025</td>\n",
       "      <td>38.428793</td>\n",
       "      <td>33.257476</td>\n",
       "    </tr>\n",
       "    <tr>\n",
       "      <th>4</th>\n",
       "      <td>Burundi</td>\n",
       "      <td>1964</td>\n",
       "      <td>93.604189</td>\n",
       "      <td>6.254113</td>\n",
       "      <td>87.350076</td>\n",
       "      <td>7.090</td>\n",
       "      <td>45.338</td>\n",
       "      <td>42.543</td>\n",
       "      <td>43.974</td>\n",
       "      <td>2.845300</td>\n",
       "      <td>1561243.0</td>\n",
       "      <td>51.471456</td>\n",
       "      <td>1471978.0</td>\n",
       "      <td>48.528544</td>\n",
       "      <td>1.025</td>\n",
       "      <td>38.879601</td>\n",
       "      <td>33.415269</td>\n",
       "    </tr>\n",
       "    <tr>\n",
       "      <th>...</th>\n",
       "      <td>...</td>\n",
       "      <td>...</td>\n",
       "      <td>...</td>\n",
       "      <td>...</td>\n",
       "      <td>...</td>\n",
       "      <td>...</td>\n",
       "      <td>...</td>\n",
       "      <td>...</td>\n",
       "      <td>...</td>\n",
       "      <td>...</td>\n",
       "      <td>...</td>\n",
       "      <td>...</td>\n",
       "      <td>...</td>\n",
       "      <td>...</td>\n",
       "      <td>...</td>\n",
       "      <td>...</td>\n",
       "      <td>...</td>\n",
       "    </tr>\n",
       "    <tr>\n",
       "      <th>688</th>\n",
       "      <td>Uganda</td>\n",
       "      <td>2018</td>\n",
       "      <td>93.732922</td>\n",
       "      <td>3.143031</td>\n",
       "      <td>90.589892</td>\n",
       "      <td>4.932</td>\n",
       "      <td>64.744</td>\n",
       "      <td>60.587</td>\n",
       "      <td>62.714</td>\n",
       "      <td>3.401278</td>\n",
       "      <td>20994287.0</td>\n",
       "      <td>50.569884</td>\n",
       "      <td>20521108.0</td>\n",
       "      <td>49.430116</td>\n",
       "      <td>1.028</td>\n",
       "      <td>63.811933</td>\n",
       "      <td>52.951116</td>\n",
       "    </tr>\n",
       "    <tr>\n",
       "      <th>689</th>\n",
       "      <td>Uganda</td>\n",
       "      <td>2019</td>\n",
       "      <td>91.740204</td>\n",
       "      <td>3.154826</td>\n",
       "      <td>88.585378</td>\n",
       "      <td>4.809</td>\n",
       "      <td>64.990</td>\n",
       "      <td>60.893</td>\n",
       "      <td>62.991</td>\n",
       "      <td>3.395091</td>\n",
       "      <td>21707475.0</td>\n",
       "      <td>50.542352</td>\n",
       "      <td>21241606.0</td>\n",
       "      <td>49.457651</td>\n",
       "      <td>1.028</td>\n",
       "      <td>64.337804</td>\n",
       "      <td>53.395080</td>\n",
       "    </tr>\n",
       "    <tr>\n",
       "      <th>690</th>\n",
       "      <td>Uganda</td>\n",
       "      <td>2020</td>\n",
       "      <td>89.879150</td>\n",
       "      <td>3.161138</td>\n",
       "      <td>86.718012</td>\n",
       "      <td>4.693</td>\n",
       "      <td>64.898</td>\n",
       "      <td>60.715</td>\n",
       "      <td>62.851</td>\n",
       "      <td>3.332809</td>\n",
       "      <td>22431520.0</td>\n",
       "      <td>50.516195</td>\n",
       "      <td>21973090.0</td>\n",
       "      <td>49.483802</td>\n",
       "      <td>1.028</td>\n",
       "      <td>64.012673</td>\n",
       "      <td>52.683745</td>\n",
       "    </tr>\n",
       "    <tr>\n",
       "      <th>691</th>\n",
       "      <td>Uganda</td>\n",
       "      <td>2021</td>\n",
       "      <td>88.213348</td>\n",
       "      <td>3.156663</td>\n",
       "      <td>85.056685</td>\n",
       "      <td>4.585</td>\n",
       "      <td>64.920</td>\n",
       "      <td>60.423</td>\n",
       "      <td>62.705</td>\n",
       "      <td>3.211428</td>\n",
       "      <td>23153140.0</td>\n",
       "      <td>50.493418</td>\n",
       "      <td>22700638.0</td>\n",
       "      <td>49.506582</td>\n",
       "      <td>1.029</td>\n",
       "      <td>63.996120</td>\n",
       "      <td>51.663767</td>\n",
       "    </tr>\n",
       "    <tr>\n",
       "      <th>692</th>\n",
       "      <td>Uganda</td>\n",
       "      <td>2022</td>\n",
       "      <td>86.830154</td>\n",
       "      <td>3.165022</td>\n",
       "      <td>83.665132</td>\n",
       "      <td>NaN</td>\n",
       "      <td>NaN</td>\n",
       "      <td>NaN</td>\n",
       "      <td>NaN</td>\n",
       "      <td>2.998628</td>\n",
       "      <td>23848253.0</td>\n",
       "      <td>50.472936</td>\n",
       "      <td>23401332.0</td>\n",
       "      <td>49.527064</td>\n",
       "      <td>NaN</td>\n",
       "      <td>NaN</td>\n",
       "      <td>NaN</td>\n",
       "    </tr>\n",
       "  </tbody>\n",
       "</table>\n",
       "<p>693 rows × 17 columns</p>\n",
       "</div>"
      ],
      "text/plain": [
       "     Country  Year  Age dependency ratio (% of working-age population)  \\\n",
       "0    Burundi  1960                                          92.290470    \n",
       "1    Burundi  1961                                          92.420498    \n",
       "2    Burundi  1962                                          92.665829    \n",
       "3    Burundi  1963                                          93.544139    \n",
       "4    Burundi  1964                                          93.604189    \n",
       "..       ...   ...                                                ...    \n",
       "688   Uganda  2018                                          93.732922    \n",
       "689   Uganda  2019                                          91.740204    \n",
       "690   Uganda  2020                                          89.879150    \n",
       "691   Uganda  2021                                          88.213348    \n",
       "692   Uganda  2022                                          86.830154    \n",
       "\n",
       "     Age dependency ratio, old (% of working-age population)  \\\n",
       "0                                             6.110580         \n",
       "1                                             6.128134         \n",
       "2                                             6.159252         \n",
       "3                                             6.225037         \n",
       "4                                             6.254113         \n",
       "..                                                 ...         \n",
       "688                                           3.143031         \n",
       "689                                           3.154826         \n",
       "690                                           3.161138         \n",
       "691                                           3.156663         \n",
       "692                                           3.165022         \n",
       "\n",
       "     Age dependency ratio, young (% of working-age population)  \\\n",
       "0                                            86.179890           \n",
       "1                                            86.292363           \n",
       "2                                            86.506577           \n",
       "3                                            87.319102           \n",
       "4                                            87.350076           \n",
       "..                                                 ...           \n",
       "688                                          90.589892           \n",
       "689                                          88.585378           \n",
       "690                                          86.718012           \n",
       "691                                          85.056685           \n",
       "692                                          83.665132           \n",
       "\n",
       "     Fertility rate, total (births per woman)  \\\n",
       "0                                       7.003   \n",
       "1                                       7.023   \n",
       "2                                       7.038   \n",
       "3                                       7.067   \n",
       "4                                       7.090   \n",
       "..                                        ...   \n",
       "688                                     4.932   \n",
       "689                                     4.809   \n",
       "690                                     4.693   \n",
       "691                                     4.585   \n",
       "692                                       NaN   \n",
       "\n",
       "     Life expectancy at birth, female (years)  \\\n",
       "0                                      44.451   \n",
       "1                                      44.631   \n",
       "2                                      44.713   \n",
       "3                                      45.009   \n",
       "4                                      45.338   \n",
       "..                                        ...   \n",
       "688                                    64.744   \n",
       "689                                    64.990   \n",
       "690                                    64.898   \n",
       "691                                    64.920   \n",
       "692                                       NaN   \n",
       "\n",
       "     Life expectancy at birth, male (years)  \\\n",
       "0                                    41.533   \n",
       "1                                    41.804   \n",
       "2                                    42.102   \n",
       "3                                    42.358   \n",
       "4                                    42.543   \n",
       "..                                      ...   \n",
       "688                                  60.587   \n",
       "689                                  60.893   \n",
       "690                                  60.715   \n",
       "691                                  60.423   \n",
       "692                                     NaN   \n",
       "\n",
       "     Life expectancy at birth, total (years)  Population growth (annual %)  \\\n",
       "0                                     43.024                           NaN   \n",
       "1                                     43.252                      2.493352   \n",
       "2                                     43.441                      2.504826   \n",
       "3                                     43.718                      2.081634   \n",
       "4                                     43.974                      2.845300   \n",
       "..                                       ...                           ...   \n",
       "688                                   62.714                      3.401278   \n",
       "689                                   62.991                      3.395091   \n",
       "690                                   62.851                      3.332809   \n",
       "691                                   62.705                      3.211428   \n",
       "692                                      NaN                      2.998628   \n",
       "\n",
       "     Population, female  Population, female (% of total population)  \\\n",
       "0             1419148.0                                   51.668737   \n",
       "1             1453599.0                                   51.619796   \n",
       "2             1489006.0                                   51.569129   \n",
       "3             1519025.0                                   51.524982   \n",
       "4             1561243.0                                   51.471456   \n",
       "..                  ...                                         ...   \n",
       "688          20994287.0                                   50.569884   \n",
       "689          21707475.0                                   50.542352   \n",
       "690          22431520.0                                   50.516195   \n",
       "691          23153140.0                                   50.493418   \n",
       "692          23848253.0                                   50.472936   \n",
       "\n",
       "     Population, male  Population, male (% of total population)  \\\n",
       "0           1327479.0                                 48.331227   \n",
       "1           1362374.0                                 48.380240   \n",
       "2           1398392.0                                 48.430871   \n",
       "3           1429107.0                                 48.474984   \n",
       "4           1471978.0                                 48.528544   \n",
       "..                ...                                       ...   \n",
       "688        20521108.0                                 49.430116   \n",
       "689        21241606.0                                 49.457651   \n",
       "690        21973090.0                                 49.483802   \n",
       "691        22700638.0                                 49.506582   \n",
       "692        23401332.0                                 49.527064   \n",
       "\n",
       "     Sex ratio at birth (male births per female births)  \\\n",
       "0                                                1.025    \n",
       "1                                                1.025    \n",
       "2                                                1.025    \n",
       "3                                                1.025    \n",
       "4                                                1.025    \n",
       "..                                                 ...    \n",
       "688                                              1.028    \n",
       "689                                              1.028    \n",
       "690                                              1.028    \n",
       "691                                              1.029    \n",
       "692                                                NaN    \n",
       "\n",
       "     Survival to age 65, female (% of cohort)  \\\n",
       "0                                   37.848041   \n",
       "1                                   38.062682   \n",
       "2                                   38.045239   \n",
       "3                                   38.428793   \n",
       "4                                   38.879601   \n",
       "..                                        ...   \n",
       "688                                 63.811933   \n",
       "689                                 64.337804   \n",
       "690                                 64.012673   \n",
       "691                                 63.996120   \n",
       "692                                       NaN   \n",
       "\n",
       "     Survival to age 65, male (% of cohort)  \n",
       "0                                 32.248556  \n",
       "1                                 32.557873  \n",
       "2                                 32.959218  \n",
       "3                                 33.257476  \n",
       "4                                 33.415269  \n",
       "..                                      ...  \n",
       "688                               52.951116  \n",
       "689                               53.395080  \n",
       "690                               52.683745  \n",
       "691                               51.663767  \n",
       "692                                     NaN  \n",
       "\n",
       "[693 rows x 17 columns]"
      ]
     },
     "execution_count": 25,
     "metadata": {},
     "output_type": "execute_result"
    }
   ],
   "source": [
    "# Separate 'World' data and calculate mean for East African Countries\n",
    "world_data = df[df['Country'] == 'World'].round(2)\n",
    "east_africa_countries_data = df[df['Country'] != 'World']\n",
    "world_data.columns = [f\"{col} (World)\" if col != 'Year' else col for col in world_data.columns]\n",
    "east_africa_countries_data\n",
    "# print(world_data['Age dependency ratio (% of working-age population) (World)'])"
   ]
  },
  {
   "cell_type": "code",
   "execution_count": 15,
   "metadata": {},
   "outputs": [
    {
     "name": "stdout",
     "output_type": "stream",
     "text": [
      "              Year  Age dependency ratio (% of working-age population)  \\\n",
      "count   756.000000                                         756.000000    \n",
      "mean   1991.000000                                          90.846350    \n",
      "std      18.196281                                          12.879232    \n",
      "min    1960.000000                                          53.676742    \n",
      "25%    1975.000000                                          84.716289    \n",
      "50%    1991.000000                                          92.113565    \n",
      "75%    2007.000000                                          99.116734    \n",
      "max    2022.000000                                         118.871546    \n",
      "\n",
      "       Age dependency ratio, old (% of working-age population)  \\\n",
      "count                                         756.000000         \n",
      "mean                                            5.701319         \n",
      "std                                             1.732300         \n",
      "min                                             3.089473         \n",
      "25%                                             4.784409         \n",
      "50%                                             5.300695         \n",
      "75%                                             5.902483         \n",
      "max                                            15.104796         \n",
      "\n",
      "       Age dependency ratio, young (% of working-age population)  \\\n",
      "count                                         756.000000           \n",
      "mean                                           85.028885           \n",
      "std                                            14.292597           \n",
      "min                                            38.938658           \n",
      "25%                                            79.259313           \n",
      "50%                                            86.597227           \n",
      "75%                                            93.940551           \n",
      "max                                           114.388288           \n",
      "\n",
      "       Fertility rate, total (births per woman)  \\\n",
      "count                                744.000000   \n",
      "mean                                   6.090012   \n",
      "std                                    1.423029   \n",
      "min                                    2.273191   \n",
      "25%                                    5.092905   \n",
      "50%                                    6.605000   \n",
      "75%                                    7.121500   \n",
      "max                                    8.250000   \n",
      "\n",
      "       Life expectancy at birth, female (years)  \\\n",
      "count                                744.000000   \n",
      "mean                                  53.731669   \n",
      "std                                    9.597760   \n",
      "min                                   12.721000   \n",
      "25%                                   47.766000   \n",
      "50%                                   53.086500   \n",
      "75%                                   60.661500   \n",
      "max                                   75.470008   \n",
      "\n",
      "       Life expectancy at birth, male (years)  \\\n",
      "count                              744.000000   \n",
      "mean                                49.775056   \n",
      "std                                  9.540501   \n",
      "min                                 12.037000   \n",
      "25%                                 43.551500   \n",
      "50%                                 49.336500   \n",
      "75%                                 56.864000   \n",
      "max                                 70.623612   \n",
      "\n",
      "       Life expectancy at birth, total (years)  Population growth (annual %)  \\\n",
      "count                               744.000000                    744.000000   \n",
      "mean                                 51.708083                      2.711600   \n",
      "std                                   9.558310                      1.911248   \n",
      "min                                  12.407000                    -16.880630   \n",
      "25%                                  45.478500                      2.127200   \n",
      "50%                                  51.160500                      2.691433   \n",
      "75%                                  58.734481                      3.221041   \n",
      "max                                  72.979716                     16.625502   \n",
      "\n",
      "       Population, female  Population, female (% of total population)  \\\n",
      "count        7.560000e+02                                  756.000000   \n",
      "mean         2.323008e+08                                   50.451422   \n",
      "std          7.720773e+08                                    0.557099   \n",
      "min          4.338400e+04                                   49.021479   \n",
      "25%          2.062688e+06                                   50.024206   \n",
      "50%          5.570788e+06                                   50.444432   \n",
      "75%          1.576335e+07                                   50.808078   \n",
      "max          3.954513e+09                                   52.048420   \n",
      "\n",
      "       Population, male  Population, male (% of total population)  \\\n",
      "count      7.560000e+02                                756.000000   \n",
      "mean       2.341407e+08                                 49.548575   \n",
      "std        7.796100e+08                                  0.557099   \n",
      "min        4.255600e+04                                 47.951580   \n",
      "25%        1.996887e+06                                 49.191922   \n",
      "50%        5.436582e+06                                 49.555570   \n",
      "75%        1.549174e+07                                 49.975794   \n",
      "max        3.996636e+09                                 50.978527   \n",
      "\n",
      "       Sex ratio at birth (male births per female births)  \\\n",
      "count                                         744.000000    \n",
      "mean                                            1.036312    \n",
      "std                                             0.013912    \n",
      "min                                             1.015000    \n",
      "25%                                             1.025000    \n",
      "50%                                             1.033500    \n",
      "75%                                             1.044000    \n",
      "max                                             1.076543    \n",
      "\n",
      "       Survival to age 65, female (% of cohort)  \\\n",
      "count                                744.000000   \n",
      "mean                                  49.093684   \n",
      "std                                   13.617244   \n",
      "min                                    0.046306   \n",
      "25%                                   40.133941   \n",
      "50%                                   47.785951   \n",
      "75%                                   57.894145   \n",
      "max                                   81.939131   \n",
      "\n",
      "       Survival to age 65, male (% of cohort)  \n",
      "count                              744.000000  \n",
      "mean                                41.449638  \n",
      "std                                 13.020485  \n",
      "min                                  0.000668  \n",
      "25%                                 32.672153  \n",
      "50%                                 41.309348  \n",
      "75%                                 49.443883  \n",
      "max                                 73.344609  \n"
     ]
    }
   ],
   "source": [
    "# Drop the 'Country' column and calculate summary statistics\n",
    "summary_df = df.drop(columns=['Country']).describe().transpose()\n",
    "\n",
    "# Rename the columns for better clarity\n",
    "summary_df.rename(columns={'mean': 'Average', 'min': 'Minimum', 'max': 'Maximum'}, inplace=False)\n",
    "\n",
    "# Transpose the summary DataFrame to have statistics as rows\n",
    "summary_df = summary_df.transpose()\n",
    "\n",
    "# Display the summary DataFrame\n",
    "print(summary_df)"
   ]
  },
  {
   "cell_type": "code",
   "execution_count": 17,
   "metadata": {},
   "outputs": [],
   "source": [
    "def create_line_chart(df_grouped,title,columns,colors,mode):\n",
    "    # create a trace for each variable\n",
    "    traces=[]\n",
    "    variables=columns\n",
    "    for variable, color in zip(variables, colors):\n",
    "        print(variable)\n",
    "        trace = go.Scatter(\n",
    "            x=df_grouped['Year'],\n",
    "            y=df_grouped[variable],\n",
    "            mode=mode,\n",
    "            name=variable,\n",
    "            line=dict(color=color, width=2),\n",
    "        )\n",
    "        traces.append(trace)\n",
    "    \n",
    "\n",
    "    # Create the layout\n",
    "    layout = go.Layout(\n",
    "        autosize=False,\n",
    "        width=600,\n",
    "        height=400,\n",
    "        title=title,\n",
    "        xaxis=dict(title='Year', showgrid=True),\n",
    "        yaxis=dict(title='Age', showgrid=True),\n",
    "        plot_bgcolor='#fbf1e6',\n",
    "        paper_bgcolor='#fbf1e6',\n",
    "        font=dict(family='Poppins', size=12, color='black'),\n",
    "        legend=dict(x=0.05, y=0.5, bgcolor='rgba(255, 255, 255, 0.8)', bordercolor='rgba(0, 0, 0, 0.2)', borderwidth=1),\n",
    "        margin=go.layout.Margin(\n",
    "        l=50,\n",
    "        r=50,\n",
    "        b=100,\n",
    "        t=100,\n",
    "        pad = 4\n",
    "    )\n",
    "    )\n",
    "\n",
    "    # Create the figure and add the traces\n",
    "    fig = go.Figure(data=traces, layout=layout)\n",
    "\n",
    "    # Apply Style\n",
    "    fig.update_layout(\n",
    "        font=dict(family='Poppins'),\n",
    "        title_font=dict(size=24, color='#000000'),\n",
    "        legend_font=dict(size=6),\n",
    "        legend_itemclick='toggle',\n",
    "        legend_itemdoubleclick='toggleothers',\n",
    "        legend_traceorder='normal',\n",
    "        legend_tracegroupgap=10,\n",
    "        legend_bordercolor='#000000',\n",
    "        legend_borderwidth=1,\n",
    "        legend_bgcolor='#ffffff',\n",
    "        legend_xanchor='left',\n",
    "        legend_yanchor='top',\n",
    "        legend_x=0.02,\n",
    "        legend_y=1.12,\n",
    "        margin=dict(l=50, r=50, t=80, b=50),\n",
    "    )\n",
    "    fig.update_yaxes(gridcolor='#c9c1b8') \n",
    "\n",
    "    # Display the plot\n",
    "    fig.show()"
   ]
  },
  {
   "cell_type": "code",
   "execution_count": 18,
   "metadata": {},
   "outputs": [
    {
     "name": "stdout",
     "output_type": "stream",
     "text": [
      "Average Female Life Expectancy (East Africa)\n",
      "Average Male Life Expectancy (East Africa)\n",
      "Average Female Life Expectancy (World)\n",
      "Average Male Life Expectancy (World)\n"
     ]
    },
    {
     "data": {
      "application/vnd.plotly.v1+json": {
       "config": {
        "plotlyServerURL": "https://plot.ly"
       },
       "data": [
        {
         "line": {
          "color": "#C10000",
          "width": 2
         },
         "mode": "lines+markers",
         "name": "Average Female Life Expectancy (East Africa)",
         "type": "scatter",
         "x": [
          1960,
          1961,
          1962,
          1963,
          1964,
          1965,
          1966,
          1967,
          1968,
          1969,
          1970,
          1971,
          1972,
          1973,
          1974,
          1975,
          1976,
          1977,
          1978,
          1979,
          1980,
          1981,
          1982,
          1983,
          1984,
          1985,
          1986,
          1987,
          1988,
          1989,
          1990,
          1991,
          1992,
          1993,
          1994,
          1995,
          1996,
          1997,
          1998,
          1999,
          2000,
          2001,
          2002,
          2003,
          2004,
          2005,
          2006,
          2007,
          2008,
          2009,
          2010,
          2011,
          2012,
          2013,
          2014,
          2015,
          2016,
          2017,
          2018,
          2019,
          2020,
          2021,
          2022
         ],
         "y": [
          44.9,
          45.45,
          46,
          46.1,
          47.18,
          46.81,
          46.49,
          46.98,
          47.25,
          47.36,
          47.59,
          48.24,
          47.09,
          48.58,
          48.7,
          48.75,
          49.2,
          49.76,
          50.08,
          50.57,
          50.98,
          51.7,
          52.08,
          50.88,
          50.86,
          51.18,
          51.74,
          51.08,
          49.12,
          51.83,
          51.8,
          49.88,
          48.89,
          50.22,
          50.67,
          51.73,
          51.93,
          52.18,
          51.01,
          53.67,
          54.69,
          55.38,
          55.97,
          56.75,
          57.31,
          58.19,
          59.1,
          59.87,
          60.55,
          61.35,
          61.86,
          62.52,
          63.32,
          63.81,
          64.41,
          64.85,
          65.25,
          65.67,
          66.07,
          66.34,
          66.04,
          65.56,
          null
         ]
        },
        {
         "line": {
          "color": "#d39b81",
          "width": 2
         },
         "mode": "lines+markers",
         "name": "Average Male Life Expectancy (East Africa)",
         "type": "scatter",
         "x": [
          1960,
          1961,
          1962,
          1963,
          1964,
          1965,
          1966,
          1967,
          1968,
          1969,
          1970,
          1971,
          1972,
          1973,
          1974,
          1975,
          1976,
          1977,
          1978,
          1979,
          1980,
          1981,
          1982,
          1983,
          1984,
          1985,
          1986,
          1987,
          1988,
          1989,
          1990,
          1991,
          1992,
          1993,
          1994,
          1995,
          1996,
          1997,
          1998,
          1999,
          2000,
          2001,
          2002,
          2003,
          2004,
          2005,
          2006,
          2007,
          2008,
          2009,
          2010,
          2011,
          2012,
          2013,
          2014,
          2015,
          2016,
          2017,
          2018,
          2019,
          2020,
          2021,
          2022
         ],
         "y": [
          41.57,
          42.11,
          42.65,
          42.26,
          43.64,
          42.99,
          42.65,
          43.09,
          43.35,
          43.39,
          43.65,
          44.31,
          43.03,
          45.11,
          45.28,
          45.4,
          45.7,
          46.13,
          46.3,
          46.82,
          47.09,
          47.65,
          47.92,
          46.63,
          46.44,
          46.79,
          47.39,
          46.39,
          44.04,
          46.99,
          46.95,
          45.34,
          44.32,
          45.8,
          47.14,
          47.73,
          47.98,
          48.27,
          46.08,
          48.88,
          51.28,
          52.07,
          52.79,
          53.65,
          54.21,
          54.93,
          55.91,
          56.53,
          57.08,
          57.78,
          58.19,
          58.68,
          59.33,
          59.76,
          60.03,
          60.5,
          60.82,
          61.23,
          61.64,
          61.97,
          61.46,
          60.95,
          null
         ]
        },
        {
         "line": {
          "color": "#0476D9",
          "width": 2
         },
         "mode": "lines+markers",
         "name": "Average Female Life Expectancy (World)",
         "type": "scatter",
         "x": [
          1960,
          1961,
          1962,
          1963,
          1964,
          1965,
          1966,
          1967,
          1968,
          1969,
          1970,
          1971,
          1972,
          1973,
          1974,
          1975,
          1976,
          1977,
          1978,
          1979,
          1980,
          1981,
          1982,
          1983,
          1984,
          1985,
          1986,
          1987,
          1988,
          1989,
          1990,
          1991,
          1992,
          1993,
          1994,
          1995,
          1996,
          1997,
          1998,
          1999,
          2000,
          2001,
          2002,
          2003,
          2004,
          2005,
          2006,
          2007,
          2008,
          2009,
          2010,
          2011,
          2012,
          2013,
          2014,
          2015,
          2016,
          2017,
          2018,
          2019,
          2020,
          2021,
          2022
         ],
         "y": [
          52.95,
          54.95,
          57.36,
          57.71,
          58.22,
          58.15,
          58.62,
          59.05,
          59.5,
          59.8,
          60.09,
          60.38,
          61.03,
          61.53,
          61.98,
          62.45,
          62.91,
          63.47,
          63.89,
          64.35,
          64.71,
          65.13,
          65.51,
          65.76,
          66.06,
          66.32,
          66.71,
          67.03,
          67.22,
          67.54,
          67.73,
          67.8,
          68.07,
          68.29,
          68.5,
          68.69,
          68.9,
          69.22,
          69.53,
          69.76,
          70.09,
          70.51,
          70.78,
          71.07,
          71.33,
          71.69,
          72.09,
          72.37,
          72.52,
          72.93,
          73.19,
          73.53,
          73.82,
          74.12,
          74.39,
          74.57,
          74.84,
          75.06,
          75.27,
          75.47,
          74.86,
          73.95,
          null
         ]
        },
        {
         "line": {
          "color": "#75A3BF",
          "width": 2
         },
         "mode": "lines+markers",
         "name": "Average Male Life Expectancy (World)",
         "type": "scatter",
         "x": [
          1960,
          1961,
          1962,
          1963,
          1964,
          1965,
          1966,
          1967,
          1968,
          1969,
          1970,
          1971,
          1972,
          1973,
          1974,
          1975,
          1976,
          1977,
          1978,
          1979,
          1980,
          1981,
          1982,
          1983,
          1984,
          1985,
          1986,
          1987,
          1988,
          1989,
          1990,
          1991,
          1992,
          1993,
          1994,
          1995,
          1996,
          1997,
          1998,
          1999,
          2000,
          2001,
          2002,
          2003,
          2004,
          2005,
          2006,
          2007,
          2008,
          2009,
          2010,
          2011,
          2012,
          2013,
          2014,
          2015,
          2016,
          2017,
          2018,
          2019,
          2020,
          2021,
          2022
         ],
         "y": [
          49.03,
          50.94,
          53.24,
          53.56,
          54.03,
          53.77,
          54.34,
          54.73,
          55.14,
          55.46,
          55.78,
          55.78,
          56.73,
          57.23,
          57.63,
          58.06,
          58.52,
          58.95,
          59.26,
          59.65,
          59.95,
          60.29,
          60.63,
          60.87,
          61.17,
          61.48,
          61.89,
          62.18,
          62.33,
          62.68,
          62.83,
          63.04,
          63.29,
          63.45,
          63.72,
          63.92,
          64.23,
          64.58,
          64.83,
          65.17,
          65.47,
          65.76,
          66.05,
          66.31,
          66.56,
          66.87,
          67.22,
          67.47,
          67.66,
          68.04,
          68.31,
          68.64,
          68.9,
          69.19,
          69.52,
          69.76,
          70,
          70.17,
          70.43,
          70.62,
          69.8,
          68.89,
          null
         ]
        }
       ],
       "layout": {
        "autosize": false,
        "font": {
         "color": "black",
         "family": "Poppins",
         "size": 12
        },
        "height": 400,
        "legend": {
         "bgcolor": "#ffffff",
         "bordercolor": "#000000",
         "borderwidth": 1,
         "font": {
          "size": 6
         },
         "itemclick": "toggle",
         "itemdoubleclick": "toggleothers",
         "tracegroupgap": 10,
         "traceorder": "normal",
         "x": 0.02,
         "xanchor": "left",
         "y": 1.12,
         "yanchor": "top"
        },
        "margin": {
         "b": 50,
         "l": 50,
         "pad": 4,
         "r": 50,
         "t": 80
        },
        "paper_bgcolor": "#fbf1e6",
        "plot_bgcolor": "#fbf1e6",
        "template": {
         "data": {
          "bar": [
           {
            "error_x": {
             "color": "#2a3f5f"
            },
            "error_y": {
             "color": "#2a3f5f"
            },
            "marker": {
             "line": {
              "color": "#E5ECF6",
              "width": 0.5
             },
             "pattern": {
              "fillmode": "overlay",
              "size": 10,
              "solidity": 0.2
             }
            },
            "type": "bar"
           }
          ],
          "barpolar": [
           {
            "marker": {
             "line": {
              "color": "#E5ECF6",
              "width": 0.5
             },
             "pattern": {
              "fillmode": "overlay",
              "size": 10,
              "solidity": 0.2
             }
            },
            "type": "barpolar"
           }
          ],
          "carpet": [
           {
            "aaxis": {
             "endlinecolor": "#2a3f5f",
             "gridcolor": "white",
             "linecolor": "white",
             "minorgridcolor": "white",
             "startlinecolor": "#2a3f5f"
            },
            "baxis": {
             "endlinecolor": "#2a3f5f",
             "gridcolor": "white",
             "linecolor": "white",
             "minorgridcolor": "white",
             "startlinecolor": "#2a3f5f"
            },
            "type": "carpet"
           }
          ],
          "choropleth": [
           {
            "colorbar": {
             "outlinewidth": 0,
             "ticks": ""
            },
            "type": "choropleth"
           }
          ],
          "contour": [
           {
            "colorbar": {
             "outlinewidth": 0,
             "ticks": ""
            },
            "colorscale": [
             [
              0,
              "#0d0887"
             ],
             [
              0.1111111111111111,
              "#46039f"
             ],
             [
              0.2222222222222222,
              "#7201a8"
             ],
             [
              0.3333333333333333,
              "#9c179e"
             ],
             [
              0.4444444444444444,
              "#bd3786"
             ],
             [
              0.5555555555555556,
              "#d8576b"
             ],
             [
              0.6666666666666666,
              "#ed7953"
             ],
             [
              0.7777777777777778,
              "#fb9f3a"
             ],
             [
              0.8888888888888888,
              "#fdca26"
             ],
             [
              1,
              "#f0f921"
             ]
            ],
            "type": "contour"
           }
          ],
          "contourcarpet": [
           {
            "colorbar": {
             "outlinewidth": 0,
             "ticks": ""
            },
            "type": "contourcarpet"
           }
          ],
          "heatmap": [
           {
            "colorbar": {
             "outlinewidth": 0,
             "ticks": ""
            },
            "colorscale": [
             [
              0,
              "#0d0887"
             ],
             [
              0.1111111111111111,
              "#46039f"
             ],
             [
              0.2222222222222222,
              "#7201a8"
             ],
             [
              0.3333333333333333,
              "#9c179e"
             ],
             [
              0.4444444444444444,
              "#bd3786"
             ],
             [
              0.5555555555555556,
              "#d8576b"
             ],
             [
              0.6666666666666666,
              "#ed7953"
             ],
             [
              0.7777777777777778,
              "#fb9f3a"
             ],
             [
              0.8888888888888888,
              "#fdca26"
             ],
             [
              1,
              "#f0f921"
             ]
            ],
            "type": "heatmap"
           }
          ],
          "heatmapgl": [
           {
            "colorbar": {
             "outlinewidth": 0,
             "ticks": ""
            },
            "colorscale": [
             [
              0,
              "#0d0887"
             ],
             [
              0.1111111111111111,
              "#46039f"
             ],
             [
              0.2222222222222222,
              "#7201a8"
             ],
             [
              0.3333333333333333,
              "#9c179e"
             ],
             [
              0.4444444444444444,
              "#bd3786"
             ],
             [
              0.5555555555555556,
              "#d8576b"
             ],
             [
              0.6666666666666666,
              "#ed7953"
             ],
             [
              0.7777777777777778,
              "#fb9f3a"
             ],
             [
              0.8888888888888888,
              "#fdca26"
             ],
             [
              1,
              "#f0f921"
             ]
            ],
            "type": "heatmapgl"
           }
          ],
          "histogram": [
           {
            "marker": {
             "pattern": {
              "fillmode": "overlay",
              "size": 10,
              "solidity": 0.2
             }
            },
            "type": "histogram"
           }
          ],
          "histogram2d": [
           {
            "colorbar": {
             "outlinewidth": 0,
             "ticks": ""
            },
            "colorscale": [
             [
              0,
              "#0d0887"
             ],
             [
              0.1111111111111111,
              "#46039f"
             ],
             [
              0.2222222222222222,
              "#7201a8"
             ],
             [
              0.3333333333333333,
              "#9c179e"
             ],
             [
              0.4444444444444444,
              "#bd3786"
             ],
             [
              0.5555555555555556,
              "#d8576b"
             ],
             [
              0.6666666666666666,
              "#ed7953"
             ],
             [
              0.7777777777777778,
              "#fb9f3a"
             ],
             [
              0.8888888888888888,
              "#fdca26"
             ],
             [
              1,
              "#f0f921"
             ]
            ],
            "type": "histogram2d"
           }
          ],
          "histogram2dcontour": [
           {
            "colorbar": {
             "outlinewidth": 0,
             "ticks": ""
            },
            "colorscale": [
             [
              0,
              "#0d0887"
             ],
             [
              0.1111111111111111,
              "#46039f"
             ],
             [
              0.2222222222222222,
              "#7201a8"
             ],
             [
              0.3333333333333333,
              "#9c179e"
             ],
             [
              0.4444444444444444,
              "#bd3786"
             ],
             [
              0.5555555555555556,
              "#d8576b"
             ],
             [
              0.6666666666666666,
              "#ed7953"
             ],
             [
              0.7777777777777778,
              "#fb9f3a"
             ],
             [
              0.8888888888888888,
              "#fdca26"
             ],
             [
              1,
              "#f0f921"
             ]
            ],
            "type": "histogram2dcontour"
           }
          ],
          "mesh3d": [
           {
            "colorbar": {
             "outlinewidth": 0,
             "ticks": ""
            },
            "type": "mesh3d"
           }
          ],
          "parcoords": [
           {
            "line": {
             "colorbar": {
              "outlinewidth": 0,
              "ticks": ""
             }
            },
            "type": "parcoords"
           }
          ],
          "pie": [
           {
            "automargin": true,
            "type": "pie"
           }
          ],
          "scatter": [
           {
            "fillpattern": {
             "fillmode": "overlay",
             "size": 10,
             "solidity": 0.2
            },
            "type": "scatter"
           }
          ],
          "scatter3d": [
           {
            "line": {
             "colorbar": {
              "outlinewidth": 0,
              "ticks": ""
             }
            },
            "marker": {
             "colorbar": {
              "outlinewidth": 0,
              "ticks": ""
             }
            },
            "type": "scatter3d"
           }
          ],
          "scattercarpet": [
           {
            "marker": {
             "colorbar": {
              "outlinewidth": 0,
              "ticks": ""
             }
            },
            "type": "scattercarpet"
           }
          ],
          "scattergeo": [
           {
            "marker": {
             "colorbar": {
              "outlinewidth": 0,
              "ticks": ""
             }
            },
            "type": "scattergeo"
           }
          ],
          "scattergl": [
           {
            "marker": {
             "colorbar": {
              "outlinewidth": 0,
              "ticks": ""
             }
            },
            "type": "scattergl"
           }
          ],
          "scattermapbox": [
           {
            "marker": {
             "colorbar": {
              "outlinewidth": 0,
              "ticks": ""
             }
            },
            "type": "scattermapbox"
           }
          ],
          "scatterpolar": [
           {
            "marker": {
             "colorbar": {
              "outlinewidth": 0,
              "ticks": ""
             }
            },
            "type": "scatterpolar"
           }
          ],
          "scatterpolargl": [
           {
            "marker": {
             "colorbar": {
              "outlinewidth": 0,
              "ticks": ""
             }
            },
            "type": "scatterpolargl"
           }
          ],
          "scatterternary": [
           {
            "marker": {
             "colorbar": {
              "outlinewidth": 0,
              "ticks": ""
             }
            },
            "type": "scatterternary"
           }
          ],
          "surface": [
           {
            "colorbar": {
             "outlinewidth": 0,
             "ticks": ""
            },
            "colorscale": [
             [
              0,
              "#0d0887"
             ],
             [
              0.1111111111111111,
              "#46039f"
             ],
             [
              0.2222222222222222,
              "#7201a8"
             ],
             [
              0.3333333333333333,
              "#9c179e"
             ],
             [
              0.4444444444444444,
              "#bd3786"
             ],
             [
              0.5555555555555556,
              "#d8576b"
             ],
             [
              0.6666666666666666,
              "#ed7953"
             ],
             [
              0.7777777777777778,
              "#fb9f3a"
             ],
             [
              0.8888888888888888,
              "#fdca26"
             ],
             [
              1,
              "#f0f921"
             ]
            ],
            "type": "surface"
           }
          ],
          "table": [
           {
            "cells": {
             "fill": {
              "color": "#EBF0F8"
             },
             "line": {
              "color": "white"
             }
            },
            "header": {
             "fill": {
              "color": "#C8D4E3"
             },
             "line": {
              "color": "white"
             }
            },
            "type": "table"
           }
          ]
         },
         "layout": {
          "annotationdefaults": {
           "arrowcolor": "#2a3f5f",
           "arrowhead": 0,
           "arrowwidth": 1
          },
          "autotypenumbers": "strict",
          "coloraxis": {
           "colorbar": {
            "outlinewidth": 0,
            "ticks": ""
           }
          },
          "colorscale": {
           "diverging": [
            [
             0,
             "#8e0152"
            ],
            [
             0.1,
             "#c51b7d"
            ],
            [
             0.2,
             "#de77ae"
            ],
            [
             0.3,
             "#f1b6da"
            ],
            [
             0.4,
             "#fde0ef"
            ],
            [
             0.5,
             "#f7f7f7"
            ],
            [
             0.6,
             "#e6f5d0"
            ],
            [
             0.7,
             "#b8e186"
            ],
            [
             0.8,
             "#7fbc41"
            ],
            [
             0.9,
             "#4d9221"
            ],
            [
             1,
             "#276419"
            ]
           ],
           "sequential": [
            [
             0,
             "#0d0887"
            ],
            [
             0.1111111111111111,
             "#46039f"
            ],
            [
             0.2222222222222222,
             "#7201a8"
            ],
            [
             0.3333333333333333,
             "#9c179e"
            ],
            [
             0.4444444444444444,
             "#bd3786"
            ],
            [
             0.5555555555555556,
             "#d8576b"
            ],
            [
             0.6666666666666666,
             "#ed7953"
            ],
            [
             0.7777777777777778,
             "#fb9f3a"
            ],
            [
             0.8888888888888888,
             "#fdca26"
            ],
            [
             1,
             "#f0f921"
            ]
           ],
           "sequentialminus": [
            [
             0,
             "#0d0887"
            ],
            [
             0.1111111111111111,
             "#46039f"
            ],
            [
             0.2222222222222222,
             "#7201a8"
            ],
            [
             0.3333333333333333,
             "#9c179e"
            ],
            [
             0.4444444444444444,
             "#bd3786"
            ],
            [
             0.5555555555555556,
             "#d8576b"
            ],
            [
             0.6666666666666666,
             "#ed7953"
            ],
            [
             0.7777777777777778,
             "#fb9f3a"
            ],
            [
             0.8888888888888888,
             "#fdca26"
            ],
            [
             1,
             "#f0f921"
            ]
           ]
          },
          "colorway": [
           "#636efa",
           "#EF553B",
           "#00cc96",
           "#ab63fa",
           "#FFA15A",
           "#19d3f3",
           "#FF6692",
           "#B6E880",
           "#FF97FF",
           "#FECB52"
          ],
          "font": {
           "color": "#2a3f5f"
          },
          "geo": {
           "bgcolor": "white",
           "lakecolor": "white",
           "landcolor": "#E5ECF6",
           "showlakes": true,
           "showland": true,
           "subunitcolor": "white"
          },
          "hoverlabel": {
           "align": "left"
          },
          "hovermode": "closest",
          "mapbox": {
           "style": "light"
          },
          "paper_bgcolor": "white",
          "plot_bgcolor": "#E5ECF6",
          "polar": {
           "angularaxis": {
            "gridcolor": "white",
            "linecolor": "white",
            "ticks": ""
           },
           "bgcolor": "#E5ECF6",
           "radialaxis": {
            "gridcolor": "white",
            "linecolor": "white",
            "ticks": ""
           }
          },
          "scene": {
           "xaxis": {
            "backgroundcolor": "#E5ECF6",
            "gridcolor": "white",
            "gridwidth": 2,
            "linecolor": "white",
            "showbackground": true,
            "ticks": "",
            "zerolinecolor": "white"
           },
           "yaxis": {
            "backgroundcolor": "#E5ECF6",
            "gridcolor": "white",
            "gridwidth": 2,
            "linecolor": "white",
            "showbackground": true,
            "ticks": "",
            "zerolinecolor": "white"
           },
           "zaxis": {
            "backgroundcolor": "#E5ECF6",
            "gridcolor": "white",
            "gridwidth": 2,
            "linecolor": "white",
            "showbackground": true,
            "ticks": "",
            "zerolinecolor": "white"
           }
          },
          "shapedefaults": {
           "line": {
            "color": "#2a3f5f"
           }
          },
          "ternary": {
           "aaxis": {
            "gridcolor": "white",
            "linecolor": "white",
            "ticks": ""
           },
           "baxis": {
            "gridcolor": "white",
            "linecolor": "white",
            "ticks": ""
           },
           "bgcolor": "#E5ECF6",
           "caxis": {
            "gridcolor": "white",
            "linecolor": "white",
            "ticks": ""
           }
          },
          "title": {
           "x": 0.05
          },
          "xaxis": {
           "automargin": true,
           "gridcolor": "white",
           "linecolor": "white",
           "ticks": "",
           "title": {
            "standoff": 15
           },
           "zerolinecolor": "white",
           "zerolinewidth": 2
          },
          "yaxis": {
           "automargin": true,
           "gridcolor": "white",
           "linecolor": "white",
           "ticks": "",
           "title": {
            "standoff": 15
           },
           "zerolinecolor": "white",
           "zerolinewidth": 2
          }
         }
        },
        "title": {
         "font": {
          "color": "#000000",
          "size": 24
         },
         "text": "Average Life Expectancy in East Africa vs the World"
        },
        "width": 600,
        "xaxis": {
         "showgrid": true,
         "title": {
          "text": "Year"
         }
        },
        "yaxis": {
         "gridcolor": "#c9c1b8",
         "showgrid": true,
         "title": {
          "text": "Age"
         }
        }
       }
      }
     },
     "metadata": {},
     "output_type": "display_data"
    }
   ],
   "source": [
    "\n",
    "# Extract the required columns\n",
    "columns = ['Year','Life expectancy at birth, female (years)', 'Life expectancy at birth, male (years)']\n",
    "df_selected = df[columns]\n",
    "# Group the data by year and calculate the mean values\n",
    "df_grouped = df_selected.groupby('Year').mean().round(2).reset_index()\n",
    "# Extract Required Columns from World Data\n",
    "cols=['Life expectancy at birth, female (years) (World)','Life expectancy at birth, male (years) (World)']\n",
    "df_world_columns=world_data[cols]\n",
    "# print(df_world_columns)\n",
    "# Mege with Worldwide Data\n",
    "merged_df = pd.merge(df_grouped, world_data[['Year', 'Life expectancy at birth, female (years) (World)', 'Life expectancy at birth, male (years) (World)']],on='Year', how='outer')\n",
    "\n",
    "# Rename columns to match the desired format\n",
    "merged_df.rename(columns={\n",
    "    'Life expectancy at birth, female (years)': 'Average Female Life Expectancy (East Africa)',\n",
    "    'Life expectancy at birth, male (years)': 'Average Male Life Expectancy (East Africa)',\n",
    "    'Life expectancy at birth, female (years) (World)': 'Average Female Life Expectancy (World)',\n",
    "    'Life expectancy at birth, male (years) (World)': 'Average Male Life Expectancy (World)'\n",
    "}, inplace=True)\n",
    "columns=merged_df.columns\n",
    "colors = ['#C10000', '#d39b81','#0476D9','#75A3BF']\n",
    "create_line_chart(merged_df,'Average Life Expectancy in East Africa vs the World',columns[1:],colors,'lines+markers')"
   ]
  },
  {
   "cell_type": "code",
   "execution_count": 27,
   "metadata": {},
   "outputs": [
    {
     "name": "stdout",
     "output_type": "stream",
     "text": [
      "Fertility rate, total (East Africa)\n",
      "Population growth (East Africa)\n",
      "Fertility rate, total (World)\n",
      "Population growth (World)\n"
     ]
    },
    {
     "data": {
      "application/vnd.plotly.v1+json": {
       "config": {
        "plotlyServerURL": "https://plot.ly"
       },
       "data": [
        {
         "line": {
          "color": "#C10000",
          "width": 2
         },
         "mode": "lines+markers",
         "name": "Fertility rate, total (East Africa)",
         "type": "scatter",
         "x": [
          1960,
          1961,
          1962,
          1963,
          1964,
          1965,
          1966,
          1967,
          1968,
          1969,
          1970,
          1971,
          1972,
          1973,
          1974,
          1975,
          1976,
          1977,
          1978,
          1979,
          1980,
          1981,
          1982,
          1983,
          1984,
          1985,
          1986,
          1987,
          1988,
          1989,
          1990,
          1991,
          1992,
          1993,
          1994,
          1995,
          1996,
          1997,
          1998,
          1999,
          2000,
          2001,
          2002,
          2003,
          2004,
          2005,
          2006,
          2007,
          2008,
          2009,
          2010,
          2011,
          2012,
          2013,
          2014,
          2015,
          2016,
          2017,
          2018,
          2019,
          2020,
          2021,
          2022
         ],
         "y": [
          6.83,
          6.84,
          6.89,
          6.93,
          6.94,
          6.95,
          6.96,
          6.96,
          6.98,
          6.98,
          6.99,
          6.98,
          6.97,
          6.95,
          6.94,
          6.92,
          6.91,
          6.89,
          6.88,
          6.87,
          6.85,
          6.82,
          6.8,
          6.78,
          6.76,
          6.75,
          6.72,
          6.68,
          6.63,
          6.57,
          6.5,
          6.43,
          6.36,
          6.3,
          6.24,
          6.18,
          6.12,
          6.06,
          5.99,
          5.92,
          5.85,
          5.79,
          5.72,
          5.63,
          5.53,
          5.44,
          5.35,
          5.27,
          5.19,
          5.09,
          5,
          4.89,
          4.8,
          4.72,
          4.65,
          4.59,
          4.52,
          4.45,
          4.38,
          4.31,
          4.23,
          4.16,
          null
         ]
        },
        {
         "line": {
          "color": "#d39b81",
          "width": 2
         },
         "mode": "lines+markers",
         "name": "Population growth (East Africa)",
         "type": "scatter",
         "x": [
          1960,
          1961,
          1962,
          1963,
          1964,
          1965,
          1966,
          1967,
          1968,
          1969,
          1970,
          1971,
          1972,
          1973,
          1974,
          1975,
          1976,
          1977,
          1978,
          1979,
          1980,
          1981,
          1982,
          1983,
          1984,
          1985,
          1986,
          1987,
          1988,
          1989,
          1990,
          1991,
          1992,
          1993,
          1994,
          1995,
          1996,
          1997,
          1998,
          1999,
          2000,
          2001,
          2002,
          2003,
          2004,
          2005,
          2006,
          2007,
          2008,
          2009,
          2010,
          2011,
          2012,
          2013,
          2014,
          2015,
          2016,
          2017,
          2018,
          2019,
          2020,
          2021,
          2022
         ],
         "y": [
          null,
          2.63,
          2.72,
          2.76,
          2.91,
          2.97,
          2.91,
          2.91,
          2.93,
          2.98,
          3.02,
          3.06,
          2.87,
          2.89,
          3.2,
          3.28,
          3.33,
          3.36,
          3.72,
          4.01,
          3.61,
          3,
          2.86,
          2.93,
          2.86,
          2.93,
          3.05,
          3.05,
          2.43,
          2.24,
          2.81,
          1.89,
          0.95,
          1.79,
          1.2,
          1.52,
          3.69,
          3.23,
          2.62,
          2.54,
          2.67,
          2.81,
          2.87,
          2.91,
          2.92,
          2.79,
          2.75,
          2.79,
          2.88,
          2.87,
          2.81,
          2.6,
          2.5,
          2.56,
          2.32,
          2.13,
          2.09,
          1.97,
          2.1,
          2.33,
          2.34,
          2.25,
          2.21
         ]
        },
        {
         "line": {
          "color": "#F24957",
          "width": 2
         },
         "mode": "lines+markers",
         "name": "Fertility rate, total (World)",
         "type": "scatter",
         "x": [
          1960,
          1961,
          1962,
          1963,
          1964,
          1965,
          1966,
          1967,
          1968,
          1969,
          1970,
          1971,
          1972,
          1973,
          1974,
          1975,
          1976,
          1977,
          1978,
          1979,
          1980,
          1981,
          1982,
          1983,
          1984,
          1985,
          1986,
          1987,
          1988,
          1989,
          1990,
          1991,
          1992,
          1993,
          1994,
          1995,
          1996,
          1997,
          1998,
          1999,
          2000,
          2001,
          2002,
          2003,
          2004,
          2005,
          2006,
          2007,
          2008,
          2009,
          2010,
          2011,
          2012,
          2013,
          2014,
          2015,
          2016,
          2017,
          2018,
          2019,
          2020,
          2021,
          2022
         ],
         "y": [
          4.7,
          4.58,
          5.04,
          5.32,
          5.14,
          5.09,
          4.98,
          4.87,
          4.98,
          4.89,
          4.85,
          4.7,
          4.55,
          4.42,
          4.26,
          4.08,
          3.97,
          3.85,
          3.78,
          3.76,
          3.73,
          3.71,
          3.72,
          3.59,
          3.57,
          3.53,
          3.52,
          3.49,
          3.4,
          3.35,
          3.31,
          3.12,
          3.04,
          2.97,
          2.92,
          2.86,
          2.81,
          2.77,
          2.74,
          2.71,
          2.72,
          2.68,
          2.65,
          2.63,
          2.62,
          2.6,
          2.6,
          2.59,
          2.59,
          2.58,
          2.55,
          2.53,
          2.55,
          2.51,
          2.51,
          2.48,
          2.48,
          2.46,
          2.4,
          2.36,
          2.3,
          2.27,
          null
         ]
        },
        {
         "line": {
          "color": "#0476D9",
          "width": 2
         },
         "mode": "lines+markers",
         "name": "Population growth (World)",
         "type": "scatter",
         "x": [
          1960,
          1961,
          1962,
          1963,
          1964,
          1965,
          1966,
          1967,
          1968,
          1969,
          1970,
          1971,
          1972,
          1973,
          1974,
          1975,
          1976,
          1977,
          1978,
          1979,
          1980,
          1981,
          1982,
          1983,
          1984,
          1985,
          1986,
          1987,
          1988,
          1989,
          1990,
          1991,
          1992,
          1993,
          1994,
          1995,
          1996,
          1997,
          1998,
          1999,
          2000,
          2001,
          2002,
          2003,
          2004,
          2005,
          2006,
          2007,
          2008,
          2009,
          2010,
          2011,
          2012,
          2013,
          2014,
          2015,
          2016,
          2017,
          2018,
          2019,
          2020,
          2021,
          2022
         ],
         "y": [
          null,
          1.35,
          1.77,
          2.13,
          2.1,
          2.08,
          2.11,
          2.06,
          2.07,
          2.1,
          2.09,
          2.11,
          2.01,
          1.99,
          1.94,
          1.86,
          1.8,
          1.76,
          1.75,
          1.77,
          1.75,
          1.77,
          1.81,
          1.79,
          1.75,
          1.75,
          1.77,
          1.79,
          1.77,
          1.74,
          1.75,
          1.68,
          1.63,
          1.58,
          1.54,
          1.5,
          1.48,
          1.45,
          1.42,
          1.38,
          1.35,
          1.33,
          1.31,
          1.29,
          1.27,
          1.26,
          1.26,
          1.25,
          1.25,
          1.24,
          1.22,
          1.2,
          1.24,
          1.24,
          1.22,
          1.19,
          1.17,
          1.15,
          1.1,
          1.06,
          1.01,
          0.86,
          0.8
         ]
        }
       ],
       "layout": {
        "autosize": false,
        "font": {
         "color": "black",
         "family": "Poppins",
         "size": 12
        },
        "height": 400,
        "legend": {
         "bgcolor": "#ffffff",
         "bordercolor": "#000000",
         "borderwidth": 1,
         "font": {
          "size": 6
         },
         "itemclick": "toggle",
         "itemdoubleclick": "toggleothers",
         "tracegroupgap": 10,
         "traceorder": "normal",
         "x": 0.02,
         "xanchor": "left",
         "y": 1.12,
         "yanchor": "top"
        },
        "margin": {
         "b": 50,
         "l": 50,
         "pad": 4,
         "r": 50,
         "t": 80
        },
        "paper_bgcolor": "#fbf1e6",
        "plot_bgcolor": "#fbf1e6",
        "template": {
         "data": {
          "bar": [
           {
            "error_x": {
             "color": "#2a3f5f"
            },
            "error_y": {
             "color": "#2a3f5f"
            },
            "marker": {
             "line": {
              "color": "#E5ECF6",
              "width": 0.5
             },
             "pattern": {
              "fillmode": "overlay",
              "size": 10,
              "solidity": 0.2
             }
            },
            "type": "bar"
           }
          ],
          "barpolar": [
           {
            "marker": {
             "line": {
              "color": "#E5ECF6",
              "width": 0.5
             },
             "pattern": {
              "fillmode": "overlay",
              "size": 10,
              "solidity": 0.2
             }
            },
            "type": "barpolar"
           }
          ],
          "carpet": [
           {
            "aaxis": {
             "endlinecolor": "#2a3f5f",
             "gridcolor": "white",
             "linecolor": "white",
             "minorgridcolor": "white",
             "startlinecolor": "#2a3f5f"
            },
            "baxis": {
             "endlinecolor": "#2a3f5f",
             "gridcolor": "white",
             "linecolor": "white",
             "minorgridcolor": "white",
             "startlinecolor": "#2a3f5f"
            },
            "type": "carpet"
           }
          ],
          "choropleth": [
           {
            "colorbar": {
             "outlinewidth": 0,
             "ticks": ""
            },
            "type": "choropleth"
           }
          ],
          "contour": [
           {
            "colorbar": {
             "outlinewidth": 0,
             "ticks": ""
            },
            "colorscale": [
             [
              0,
              "#0d0887"
             ],
             [
              0.1111111111111111,
              "#46039f"
             ],
             [
              0.2222222222222222,
              "#7201a8"
             ],
             [
              0.3333333333333333,
              "#9c179e"
             ],
             [
              0.4444444444444444,
              "#bd3786"
             ],
             [
              0.5555555555555556,
              "#d8576b"
             ],
             [
              0.6666666666666666,
              "#ed7953"
             ],
             [
              0.7777777777777778,
              "#fb9f3a"
             ],
             [
              0.8888888888888888,
              "#fdca26"
             ],
             [
              1,
              "#f0f921"
             ]
            ],
            "type": "contour"
           }
          ],
          "contourcarpet": [
           {
            "colorbar": {
             "outlinewidth": 0,
             "ticks": ""
            },
            "type": "contourcarpet"
           }
          ],
          "heatmap": [
           {
            "colorbar": {
             "outlinewidth": 0,
             "ticks": ""
            },
            "colorscale": [
             [
              0,
              "#0d0887"
             ],
             [
              0.1111111111111111,
              "#46039f"
             ],
             [
              0.2222222222222222,
              "#7201a8"
             ],
             [
              0.3333333333333333,
              "#9c179e"
             ],
             [
              0.4444444444444444,
              "#bd3786"
             ],
             [
              0.5555555555555556,
              "#d8576b"
             ],
             [
              0.6666666666666666,
              "#ed7953"
             ],
             [
              0.7777777777777778,
              "#fb9f3a"
             ],
             [
              0.8888888888888888,
              "#fdca26"
             ],
             [
              1,
              "#f0f921"
             ]
            ],
            "type": "heatmap"
           }
          ],
          "heatmapgl": [
           {
            "colorbar": {
             "outlinewidth": 0,
             "ticks": ""
            },
            "colorscale": [
             [
              0,
              "#0d0887"
             ],
             [
              0.1111111111111111,
              "#46039f"
             ],
             [
              0.2222222222222222,
              "#7201a8"
             ],
             [
              0.3333333333333333,
              "#9c179e"
             ],
             [
              0.4444444444444444,
              "#bd3786"
             ],
             [
              0.5555555555555556,
              "#d8576b"
             ],
             [
              0.6666666666666666,
              "#ed7953"
             ],
             [
              0.7777777777777778,
              "#fb9f3a"
             ],
             [
              0.8888888888888888,
              "#fdca26"
             ],
             [
              1,
              "#f0f921"
             ]
            ],
            "type": "heatmapgl"
           }
          ],
          "histogram": [
           {
            "marker": {
             "pattern": {
              "fillmode": "overlay",
              "size": 10,
              "solidity": 0.2
             }
            },
            "type": "histogram"
           }
          ],
          "histogram2d": [
           {
            "colorbar": {
             "outlinewidth": 0,
             "ticks": ""
            },
            "colorscale": [
             [
              0,
              "#0d0887"
             ],
             [
              0.1111111111111111,
              "#46039f"
             ],
             [
              0.2222222222222222,
              "#7201a8"
             ],
             [
              0.3333333333333333,
              "#9c179e"
             ],
             [
              0.4444444444444444,
              "#bd3786"
             ],
             [
              0.5555555555555556,
              "#d8576b"
             ],
             [
              0.6666666666666666,
              "#ed7953"
             ],
             [
              0.7777777777777778,
              "#fb9f3a"
             ],
             [
              0.8888888888888888,
              "#fdca26"
             ],
             [
              1,
              "#f0f921"
             ]
            ],
            "type": "histogram2d"
           }
          ],
          "histogram2dcontour": [
           {
            "colorbar": {
             "outlinewidth": 0,
             "ticks": ""
            },
            "colorscale": [
             [
              0,
              "#0d0887"
             ],
             [
              0.1111111111111111,
              "#46039f"
             ],
             [
              0.2222222222222222,
              "#7201a8"
             ],
             [
              0.3333333333333333,
              "#9c179e"
             ],
             [
              0.4444444444444444,
              "#bd3786"
             ],
             [
              0.5555555555555556,
              "#d8576b"
             ],
             [
              0.6666666666666666,
              "#ed7953"
             ],
             [
              0.7777777777777778,
              "#fb9f3a"
             ],
             [
              0.8888888888888888,
              "#fdca26"
             ],
             [
              1,
              "#f0f921"
             ]
            ],
            "type": "histogram2dcontour"
           }
          ],
          "mesh3d": [
           {
            "colorbar": {
             "outlinewidth": 0,
             "ticks": ""
            },
            "type": "mesh3d"
           }
          ],
          "parcoords": [
           {
            "line": {
             "colorbar": {
              "outlinewidth": 0,
              "ticks": ""
             }
            },
            "type": "parcoords"
           }
          ],
          "pie": [
           {
            "automargin": true,
            "type": "pie"
           }
          ],
          "scatter": [
           {
            "fillpattern": {
             "fillmode": "overlay",
             "size": 10,
             "solidity": 0.2
            },
            "type": "scatter"
           }
          ],
          "scatter3d": [
           {
            "line": {
             "colorbar": {
              "outlinewidth": 0,
              "ticks": ""
             }
            },
            "marker": {
             "colorbar": {
              "outlinewidth": 0,
              "ticks": ""
             }
            },
            "type": "scatter3d"
           }
          ],
          "scattercarpet": [
           {
            "marker": {
             "colorbar": {
              "outlinewidth": 0,
              "ticks": ""
             }
            },
            "type": "scattercarpet"
           }
          ],
          "scattergeo": [
           {
            "marker": {
             "colorbar": {
              "outlinewidth": 0,
              "ticks": ""
             }
            },
            "type": "scattergeo"
           }
          ],
          "scattergl": [
           {
            "marker": {
             "colorbar": {
              "outlinewidth": 0,
              "ticks": ""
             }
            },
            "type": "scattergl"
           }
          ],
          "scattermapbox": [
           {
            "marker": {
             "colorbar": {
              "outlinewidth": 0,
              "ticks": ""
             }
            },
            "type": "scattermapbox"
           }
          ],
          "scatterpolar": [
           {
            "marker": {
             "colorbar": {
              "outlinewidth": 0,
              "ticks": ""
             }
            },
            "type": "scatterpolar"
           }
          ],
          "scatterpolargl": [
           {
            "marker": {
             "colorbar": {
              "outlinewidth": 0,
              "ticks": ""
             }
            },
            "type": "scatterpolargl"
           }
          ],
          "scatterternary": [
           {
            "marker": {
             "colorbar": {
              "outlinewidth": 0,
              "ticks": ""
             }
            },
            "type": "scatterternary"
           }
          ],
          "surface": [
           {
            "colorbar": {
             "outlinewidth": 0,
             "ticks": ""
            },
            "colorscale": [
             [
              0,
              "#0d0887"
             ],
             [
              0.1111111111111111,
              "#46039f"
             ],
             [
              0.2222222222222222,
              "#7201a8"
             ],
             [
              0.3333333333333333,
              "#9c179e"
             ],
             [
              0.4444444444444444,
              "#bd3786"
             ],
             [
              0.5555555555555556,
              "#d8576b"
             ],
             [
              0.6666666666666666,
              "#ed7953"
             ],
             [
              0.7777777777777778,
              "#fb9f3a"
             ],
             [
              0.8888888888888888,
              "#fdca26"
             ],
             [
              1,
              "#f0f921"
             ]
            ],
            "type": "surface"
           }
          ],
          "table": [
           {
            "cells": {
             "fill": {
              "color": "#EBF0F8"
             },
             "line": {
              "color": "white"
             }
            },
            "header": {
             "fill": {
              "color": "#C8D4E3"
             },
             "line": {
              "color": "white"
             }
            },
            "type": "table"
           }
          ]
         },
         "layout": {
          "annotationdefaults": {
           "arrowcolor": "#2a3f5f",
           "arrowhead": 0,
           "arrowwidth": 1
          },
          "autotypenumbers": "strict",
          "coloraxis": {
           "colorbar": {
            "outlinewidth": 0,
            "ticks": ""
           }
          },
          "colorscale": {
           "diverging": [
            [
             0,
             "#8e0152"
            ],
            [
             0.1,
             "#c51b7d"
            ],
            [
             0.2,
             "#de77ae"
            ],
            [
             0.3,
             "#f1b6da"
            ],
            [
             0.4,
             "#fde0ef"
            ],
            [
             0.5,
             "#f7f7f7"
            ],
            [
             0.6,
             "#e6f5d0"
            ],
            [
             0.7,
             "#b8e186"
            ],
            [
             0.8,
             "#7fbc41"
            ],
            [
             0.9,
             "#4d9221"
            ],
            [
             1,
             "#276419"
            ]
           ],
           "sequential": [
            [
             0,
             "#0d0887"
            ],
            [
             0.1111111111111111,
             "#46039f"
            ],
            [
             0.2222222222222222,
             "#7201a8"
            ],
            [
             0.3333333333333333,
             "#9c179e"
            ],
            [
             0.4444444444444444,
             "#bd3786"
            ],
            [
             0.5555555555555556,
             "#d8576b"
            ],
            [
             0.6666666666666666,
             "#ed7953"
            ],
            [
             0.7777777777777778,
             "#fb9f3a"
            ],
            [
             0.8888888888888888,
             "#fdca26"
            ],
            [
             1,
             "#f0f921"
            ]
           ],
           "sequentialminus": [
            [
             0,
             "#0d0887"
            ],
            [
             0.1111111111111111,
             "#46039f"
            ],
            [
             0.2222222222222222,
             "#7201a8"
            ],
            [
             0.3333333333333333,
             "#9c179e"
            ],
            [
             0.4444444444444444,
             "#bd3786"
            ],
            [
             0.5555555555555556,
             "#d8576b"
            ],
            [
             0.6666666666666666,
             "#ed7953"
            ],
            [
             0.7777777777777778,
             "#fb9f3a"
            ],
            [
             0.8888888888888888,
             "#fdca26"
            ],
            [
             1,
             "#f0f921"
            ]
           ]
          },
          "colorway": [
           "#636efa",
           "#EF553B",
           "#00cc96",
           "#ab63fa",
           "#FFA15A",
           "#19d3f3",
           "#FF6692",
           "#B6E880",
           "#FF97FF",
           "#FECB52"
          ],
          "font": {
           "color": "#2a3f5f"
          },
          "geo": {
           "bgcolor": "white",
           "lakecolor": "white",
           "landcolor": "#E5ECF6",
           "showlakes": true,
           "showland": true,
           "subunitcolor": "white"
          },
          "hoverlabel": {
           "align": "left"
          },
          "hovermode": "closest",
          "mapbox": {
           "style": "light"
          },
          "paper_bgcolor": "white",
          "plot_bgcolor": "#E5ECF6",
          "polar": {
           "angularaxis": {
            "gridcolor": "white",
            "linecolor": "white",
            "ticks": ""
           },
           "bgcolor": "#E5ECF6",
           "radialaxis": {
            "gridcolor": "white",
            "linecolor": "white",
            "ticks": ""
           }
          },
          "scene": {
           "xaxis": {
            "backgroundcolor": "#E5ECF6",
            "gridcolor": "white",
            "gridwidth": 2,
            "linecolor": "white",
            "showbackground": true,
            "ticks": "",
            "zerolinecolor": "white"
           },
           "yaxis": {
            "backgroundcolor": "#E5ECF6",
            "gridcolor": "white",
            "gridwidth": 2,
            "linecolor": "white",
            "showbackground": true,
            "ticks": "",
            "zerolinecolor": "white"
           },
           "zaxis": {
            "backgroundcolor": "#E5ECF6",
            "gridcolor": "white",
            "gridwidth": 2,
            "linecolor": "white",
            "showbackground": true,
            "ticks": "",
            "zerolinecolor": "white"
           }
          },
          "shapedefaults": {
           "line": {
            "color": "#2a3f5f"
           }
          },
          "ternary": {
           "aaxis": {
            "gridcolor": "white",
            "linecolor": "white",
            "ticks": ""
           },
           "baxis": {
            "gridcolor": "white",
            "linecolor": "white",
            "ticks": ""
           },
           "bgcolor": "#E5ECF6",
           "caxis": {
            "gridcolor": "white",
            "linecolor": "white",
            "ticks": ""
           }
          },
          "title": {
           "x": 0.05
          },
          "xaxis": {
           "automargin": true,
           "gridcolor": "white",
           "linecolor": "white",
           "ticks": "",
           "title": {
            "standoff": 15
           },
           "zerolinecolor": "white",
           "zerolinewidth": 2
          },
          "yaxis": {
           "automargin": true,
           "gridcolor": "white",
           "linecolor": "white",
           "ticks": "",
           "title": {
            "standoff": 15
           },
           "zerolinecolor": "white",
           "zerolinewidth": 2
          }
         }
        },
        "title": {
         "font": {
          "color": "#000000",
          "size": 24
         },
         "text": "Age Dependency Ratios in East Africa"
        },
        "width": 600,
        "xaxis": {
         "showgrid": true,
         "title": {
          "text": "Year"
         }
        },
        "yaxis": {
         "gridcolor": "#c9c1b8",
         "showgrid": true,
         "title": {
          "text": "Age"
         }
        }
       }
      }
     },
     "metadata": {},
     "output_type": "display_data"
    }
   ],
   "source": [
    "\n",
    "# Extract the required columns\n",
    "columns = ['Year','Fertility rate, total (births per woman)', 'Population growth (annual %)']\n",
    "df_selected = df[columns]\n",
    "# Group the data by year and calculate the mean values\n",
    "df_grouped = df_selected.groupby('Year').mean().round(2).reset_index()\n",
    "# Extract Required Columns from World Data\n",
    "cols=['Fertility rate, total (births per woman) (World)','Population growth (annual %) (World)']\n",
    "df_world_columns=world_data[cols]\n",
    "# print(df_world_columns)\n",
    "# Mege with Worldwide Data\n",
    "merged_df = pd.merge(df_grouped, world_data[['Year', 'Fertility rate, total (births per woman) (World)', 'Population growth (annual %) (World)']],on='Year', how='outer')\n",
    "\n",
    "# Rename columns to match the desired format\n",
    "merged_df.rename(columns={\n",
    "    'Fertility rate, total (births per woman)': 'Fertility rate, total (East Africa)',\n",
    "    'Population growth (annual %)': 'Population growth (East Africa)',\n",
    "    'Age dependency ratio, young (% of working-age population)': 'Age dependency ratio, young (East Africa)',\n",
    "    'Fertility rate, total (births per woman) (World)': 'Fertility rate, total (World)',\n",
    "    'Population growth (annual %) (World)':'Population growth (World)',\n",
    "}, inplace=True)\n",
    "columns=merged_df.columns\n",
    "colors = ['#C10000', '#d39b81','#F24957','#0476D9','#75A3BF','#88DFF2']\n",
    "create_line_chart(merged_df,'Population Growth and',columns[1:],colors,'lines+markers')"
   ]
  },
  {
   "cell_type": "code",
   "execution_count": 29,
   "metadata": {},
   "outputs": [
    {
     "data": {
      "application/vnd.plotly.v1+json": {
       "config": {
        "plotlyServerURL": "https://plot.ly"
       },
       "data": [
        {
         "alignmentgroup": "True",
         "hovertemplate": "Country=%{x}<br>Year=1960<br>Age dependency ratio (% of working-age population)=%{y}<extra></extra>",
         "ids": [
          "Burundi"
         ],
         "legendgroup": "Burundi",
         "marker": {
          "color": "#636efa",
          "pattern": {
           "shape": ""
          }
         },
         "name": "Burundi",
         "offsetgroup": "Burundi",
         "orientation": "v",
         "showlegend": true,
         "textposition": "auto",
         "type": "bar",
         "x": [
          "Burundi"
         ],
         "xaxis": "x",
         "y": [
          92.2904699396167
         ],
         "yaxis": "y"
        },
        {
         "alignmentgroup": "True",
         "hovertemplate": "Country=%{x}<br>Year=1960<br>Age dependency ratio (% of working-age population)=%{y}<extra></extra>",
         "ids": [
          "Djibouti"
         ],
         "legendgroup": "Djibouti",
         "marker": {
          "color": "#EF553B",
          "pattern": {
           "shape": ""
          }
         },
         "name": "Djibouti",
         "offsetgroup": "Djibouti",
         "orientation": "v",
         "showlegend": true,
         "textposition": "auto",
         "type": "bar",
         "x": [
          "Djibouti"
         ],
         "xaxis": "x",
         "y": [
          86.7792484405903
         ],
         "yaxis": "y"
        },
        {
         "alignmentgroup": "True",
         "hovertemplate": "Country=%{x}<br>Year=1960<br>Age dependency ratio (% of working-age population)=%{y}<extra></extra>",
         "ids": [
          "Eritrea"
         ],
         "legendgroup": "Eritrea",
         "marker": {
          "color": "#00cc96",
          "pattern": {
           "shape": ""
          }
         },
         "name": "Eritrea",
         "offsetgroup": "Eritrea",
         "orientation": "v",
         "showlegend": true,
         "textposition": "auto",
         "type": "bar",
         "x": [
          "Eritrea"
         ],
         "xaxis": "x",
         "y": [
          82.28765904358276
         ],
         "yaxis": "y"
        },
        {
         "alignmentgroup": "True",
         "hovertemplate": "Country=%{x}<br>Year=1960<br>Age dependency ratio (% of working-age population)=%{y}<extra></extra>",
         "ids": [
          "Ethiopia"
         ],
         "legendgroup": "Ethiopia",
         "marker": {
          "color": "#ab63fa",
          "pattern": {
           "shape": ""
          }
         },
         "name": "Ethiopia",
         "offsetgroup": "Ethiopia",
         "orientation": "v",
         "showlegend": true,
         "textposition": "auto",
         "type": "bar",
         "x": [
          "Ethiopia"
         ],
         "xaxis": "x",
         "y": [
          83.82721702259354
         ],
         "yaxis": "y"
        },
        {
         "alignmentgroup": "True",
         "hovertemplate": "Country=%{x}<br>Year=1960<br>Age dependency ratio (% of working-age population)=%{y}<extra></extra>",
         "ids": [
          "Kenya"
         ],
         "legendgroup": "Kenya",
         "marker": {
          "color": "#FFA15A",
          "pattern": {
           "shape": ""
          }
         },
         "name": "Kenya",
         "offsetgroup": "Kenya",
         "orientation": "v",
         "showlegend": true,
         "textposition": "auto",
         "type": "bar",
         "x": [
          "Kenya"
         ],
         "xaxis": "x",
         "y": [
          108.06004225923722
         ],
         "yaxis": "y"
        },
        {
         "alignmentgroup": "True",
         "hovertemplate": "Country=%{x}<br>Year=1960<br>Age dependency ratio (% of working-age population)=%{y}<extra></extra>",
         "ids": [
          "Rwanda"
         ],
         "legendgroup": "Rwanda",
         "marker": {
          "color": "#19d3f3",
          "pattern": {
           "shape": ""
          }
         },
         "name": "Rwanda",
         "offsetgroup": "Rwanda",
         "orientation": "v",
         "showlegend": true,
         "textposition": "auto",
         "type": "bar",
         "x": [
          "Rwanda"
         ],
         "xaxis": "x",
         "y": [
          105.66326594288616
         ],
         "yaxis": "y"
        },
        {
         "alignmentgroup": "True",
         "hovertemplate": "Country=%{x}<br>Year=1960<br>Age dependency ratio (% of working-age population)=%{y}<extra></extra>",
         "ids": [
          "Somalia"
         ],
         "legendgroup": "Somalia",
         "marker": {
          "color": "#FF6692",
          "pattern": {
           "shape": ""
          }
         },
         "name": "Somalia",
         "offsetgroup": "Somalia",
         "orientation": "v",
         "showlegend": true,
         "textposition": "auto",
         "type": "bar",
         "x": [
          "Somalia"
         ],
         "xaxis": "x",
         "y": [
          90.45461933716136
         ],
         "yaxis": "y"
        },
        {
         "alignmentgroup": "True",
         "hovertemplate": "Country=%{x}<br>Year=1960<br>Age dependency ratio (% of working-age population)=%{y}<extra></extra>",
         "ids": [
          "South Sudan"
         ],
         "legendgroup": "South Sudan",
         "marker": {
          "color": "#B6E880",
          "pattern": {
           "shape": ""
          }
         },
         "name": "South Sudan",
         "offsetgroup": "South Sudan",
         "orientation": "v",
         "showlegend": true,
         "textposition": "auto",
         "type": "bar",
         "x": [
          "South Sudan"
         ],
         "xaxis": "x",
         "y": [
          80.18881955245986
         ],
         "yaxis": "y"
        },
        {
         "alignmentgroup": "True",
         "hovertemplate": "Country=%{x}<br>Year=1960<br>Age dependency ratio (% of working-age population)=%{y}<extra></extra>",
         "ids": [
          "Sudan"
         ],
         "legendgroup": "Sudan",
         "marker": {
          "color": "#FF97FF",
          "pattern": {
           "shape": ""
          }
         },
         "name": "Sudan",
         "offsetgroup": "Sudan",
         "orientation": "v",
         "showlegend": true,
         "textposition": "auto",
         "type": "bar",
         "x": [
          "Sudan"
         ],
         "xaxis": "x",
         "y": [
          96.8307186429219
         ],
         "yaxis": "y"
        },
        {
         "alignmentgroup": "True",
         "hovertemplate": "Country=%{x}<br>Year=1960<br>Age dependency ratio (% of working-age population)=%{y}<extra></extra>",
         "ids": [
          "Tanzania"
         ],
         "legendgroup": "Tanzania",
         "marker": {
          "color": "#FECB52",
          "pattern": {
           "shape": ""
          }
         },
         "name": "Tanzania",
         "offsetgroup": "Tanzania",
         "orientation": "v",
         "showlegend": true,
         "textposition": "auto",
         "type": "bar",
         "x": [
          "Tanzania"
         ],
         "xaxis": "x",
         "y": [
          91.87152950859856
         ],
         "yaxis": "y"
        },
        {
         "alignmentgroup": "True",
         "hovertemplate": "Country=%{x}<br>Year=1960<br>Age dependency ratio (% of working-age population)=%{y}<extra></extra>",
         "ids": [
          "Uganda"
         ],
         "legendgroup": "Uganda",
         "marker": {
          "color": "#636efa",
          "pattern": {
           "shape": ""
          }
         },
         "name": "Uganda",
         "offsetgroup": "Uganda",
         "orientation": "v",
         "showlegend": true,
         "textposition": "auto",
         "type": "bar",
         "x": [
          "Uganda"
         ],
         "xaxis": "x",
         "y": [
          94.7216356549299
         ],
         "yaxis": "y"
        }
       ],
       "frames": [
        {
         "data": [
          {
           "alignmentgroup": "True",
           "hovertemplate": "Country=%{x}<br>Year=1960<br>Age dependency ratio (% of working-age population)=%{y}<extra></extra>",
           "ids": [
            "Burundi"
           ],
           "legendgroup": "Burundi",
           "marker": {
            "color": "#636efa",
            "pattern": {
             "shape": ""
            }
           },
           "name": "Burundi",
           "offsetgroup": "Burundi",
           "orientation": "v",
           "showlegend": true,
           "textposition": "auto",
           "type": "bar",
           "x": [
            "Burundi"
           ],
           "xaxis": "x",
           "y": [
            92.2904699396167
           ],
           "yaxis": "y"
          },
          {
           "alignmentgroup": "True",
           "hovertemplate": "Country=%{x}<br>Year=1960<br>Age dependency ratio (% of working-age population)=%{y}<extra></extra>",
           "ids": [
            "Djibouti"
           ],
           "legendgroup": "Djibouti",
           "marker": {
            "color": "#EF553B",
            "pattern": {
             "shape": ""
            }
           },
           "name": "Djibouti",
           "offsetgroup": "Djibouti",
           "orientation": "v",
           "showlegend": true,
           "textposition": "auto",
           "type": "bar",
           "x": [
            "Djibouti"
           ],
           "xaxis": "x",
           "y": [
            86.7792484405903
           ],
           "yaxis": "y"
          },
          {
           "alignmentgroup": "True",
           "hovertemplate": "Country=%{x}<br>Year=1960<br>Age dependency ratio (% of working-age population)=%{y}<extra></extra>",
           "ids": [
            "Eritrea"
           ],
           "legendgroup": "Eritrea",
           "marker": {
            "color": "#00cc96",
            "pattern": {
             "shape": ""
            }
           },
           "name": "Eritrea",
           "offsetgroup": "Eritrea",
           "orientation": "v",
           "showlegend": true,
           "textposition": "auto",
           "type": "bar",
           "x": [
            "Eritrea"
           ],
           "xaxis": "x",
           "y": [
            82.28765904358276
           ],
           "yaxis": "y"
          },
          {
           "alignmentgroup": "True",
           "hovertemplate": "Country=%{x}<br>Year=1960<br>Age dependency ratio (% of working-age population)=%{y}<extra></extra>",
           "ids": [
            "Ethiopia"
           ],
           "legendgroup": "Ethiopia",
           "marker": {
            "color": "#ab63fa",
            "pattern": {
             "shape": ""
            }
           },
           "name": "Ethiopia",
           "offsetgroup": "Ethiopia",
           "orientation": "v",
           "showlegend": true,
           "textposition": "auto",
           "type": "bar",
           "x": [
            "Ethiopia"
           ],
           "xaxis": "x",
           "y": [
            83.82721702259354
           ],
           "yaxis": "y"
          },
          {
           "alignmentgroup": "True",
           "hovertemplate": "Country=%{x}<br>Year=1960<br>Age dependency ratio (% of working-age population)=%{y}<extra></extra>",
           "ids": [
            "Kenya"
           ],
           "legendgroup": "Kenya",
           "marker": {
            "color": "#FFA15A",
            "pattern": {
             "shape": ""
            }
           },
           "name": "Kenya",
           "offsetgroup": "Kenya",
           "orientation": "v",
           "showlegend": true,
           "textposition": "auto",
           "type": "bar",
           "x": [
            "Kenya"
           ],
           "xaxis": "x",
           "y": [
            108.06004225923722
           ],
           "yaxis": "y"
          },
          {
           "alignmentgroup": "True",
           "hovertemplate": "Country=%{x}<br>Year=1960<br>Age dependency ratio (% of working-age population)=%{y}<extra></extra>",
           "ids": [
            "Rwanda"
           ],
           "legendgroup": "Rwanda",
           "marker": {
            "color": "#19d3f3",
            "pattern": {
             "shape": ""
            }
           },
           "name": "Rwanda",
           "offsetgroup": "Rwanda",
           "orientation": "v",
           "showlegend": true,
           "textposition": "auto",
           "type": "bar",
           "x": [
            "Rwanda"
           ],
           "xaxis": "x",
           "y": [
            105.66326594288616
           ],
           "yaxis": "y"
          },
          {
           "alignmentgroup": "True",
           "hovertemplate": "Country=%{x}<br>Year=1960<br>Age dependency ratio (% of working-age population)=%{y}<extra></extra>",
           "ids": [
            "Somalia"
           ],
           "legendgroup": "Somalia",
           "marker": {
            "color": "#FF6692",
            "pattern": {
             "shape": ""
            }
           },
           "name": "Somalia",
           "offsetgroup": "Somalia",
           "orientation": "v",
           "showlegend": true,
           "textposition": "auto",
           "type": "bar",
           "x": [
            "Somalia"
           ],
           "xaxis": "x",
           "y": [
            90.45461933716136
           ],
           "yaxis": "y"
          },
          {
           "alignmentgroup": "True",
           "hovertemplate": "Country=%{x}<br>Year=1960<br>Age dependency ratio (% of working-age population)=%{y}<extra></extra>",
           "ids": [
            "South Sudan"
           ],
           "legendgroup": "South Sudan",
           "marker": {
            "color": "#B6E880",
            "pattern": {
             "shape": ""
            }
           },
           "name": "South Sudan",
           "offsetgroup": "South Sudan",
           "orientation": "v",
           "showlegend": true,
           "textposition": "auto",
           "type": "bar",
           "x": [
            "South Sudan"
           ],
           "xaxis": "x",
           "y": [
            80.18881955245986
           ],
           "yaxis": "y"
          },
          {
           "alignmentgroup": "True",
           "hovertemplate": "Country=%{x}<br>Year=1960<br>Age dependency ratio (% of working-age population)=%{y}<extra></extra>",
           "ids": [
            "Sudan"
           ],
           "legendgroup": "Sudan",
           "marker": {
            "color": "#FF97FF",
            "pattern": {
             "shape": ""
            }
           },
           "name": "Sudan",
           "offsetgroup": "Sudan",
           "orientation": "v",
           "showlegend": true,
           "textposition": "auto",
           "type": "bar",
           "x": [
            "Sudan"
           ],
           "xaxis": "x",
           "y": [
            96.8307186429219
           ],
           "yaxis": "y"
          },
          {
           "alignmentgroup": "True",
           "hovertemplate": "Country=%{x}<br>Year=1960<br>Age dependency ratio (% of working-age population)=%{y}<extra></extra>",
           "ids": [
            "Tanzania"
           ],
           "legendgroup": "Tanzania",
           "marker": {
            "color": "#FECB52",
            "pattern": {
             "shape": ""
            }
           },
           "name": "Tanzania",
           "offsetgroup": "Tanzania",
           "orientation": "v",
           "showlegend": true,
           "textposition": "auto",
           "type": "bar",
           "x": [
            "Tanzania"
           ],
           "xaxis": "x",
           "y": [
            91.87152950859856
           ],
           "yaxis": "y"
          },
          {
           "alignmentgroup": "True",
           "hovertemplate": "Country=%{x}<br>Year=1960<br>Age dependency ratio (% of working-age population)=%{y}<extra></extra>",
           "ids": [
            "Uganda"
           ],
           "legendgroup": "Uganda",
           "marker": {
            "color": "#636efa",
            "pattern": {
             "shape": ""
            }
           },
           "name": "Uganda",
           "offsetgroup": "Uganda",
           "orientation": "v",
           "showlegend": true,
           "textposition": "auto",
           "type": "bar",
           "x": [
            "Uganda"
           ],
           "xaxis": "x",
           "y": [
            94.7216356549299
           ],
           "yaxis": "y"
          }
         ],
         "name": "1960"
        },
        {
         "data": [
          {
           "alignmentgroup": "True",
           "hovertemplate": "Country=%{x}<br>Year=1961<br>Age dependency ratio (% of working-age population)=%{y}<extra></extra>",
           "ids": [
            "Burundi"
           ],
           "legendgroup": "Burundi",
           "marker": {
            "color": "#636efa",
            "pattern": {
             "shape": ""
            }
           },
           "name": "Burundi",
           "offsetgroup": "Burundi",
           "orientation": "v",
           "showlegend": true,
           "textposition": "auto",
           "type": "bar",
           "x": [
            "Burundi"
           ],
           "xaxis": "x",
           "y": [
            92.42049763332734
           ],
           "yaxis": "y"
          },
          {
           "alignmentgroup": "True",
           "hovertemplate": "Country=%{x}<br>Year=1961<br>Age dependency ratio (% of working-age population)=%{y}<extra></extra>",
           "ids": [
            "Djibouti"
           ],
           "legendgroup": "Djibouti",
           "marker": {
            "color": "#EF553B",
            "pattern": {
             "shape": ""
            }
           },
           "name": "Djibouti",
           "offsetgroup": "Djibouti",
           "orientation": "v",
           "showlegend": true,
           "textposition": "auto",
           "type": "bar",
           "x": [
            "Djibouti"
           ],
           "xaxis": "x",
           "y": [
            86.19251225362395
           ],
           "yaxis": "y"
          },
          {
           "alignmentgroup": "True",
           "hovertemplate": "Country=%{x}<br>Year=1961<br>Age dependency ratio (% of working-age population)=%{y}<extra></extra>",
           "ids": [
            "Eritrea"
           ],
           "legendgroup": "Eritrea",
           "marker": {
            "color": "#00cc96",
            "pattern": {
             "shape": ""
            }
           },
           "name": "Eritrea",
           "offsetgroup": "Eritrea",
           "orientation": "v",
           "showlegend": true,
           "textposition": "auto",
           "type": "bar",
           "x": [
            "Eritrea"
           ],
           "xaxis": "x",
           "y": [
            81.61186395879618
           ],
           "yaxis": "y"
          },
          {
           "alignmentgroup": "True",
           "hovertemplate": "Country=%{x}<br>Year=1961<br>Age dependency ratio (% of working-age population)=%{y}<extra></extra>",
           "ids": [
            "Ethiopia"
           ],
           "legendgroup": "Ethiopia",
           "marker": {
            "color": "#ab63fa",
            "pattern": {
             "shape": ""
            }
           },
           "name": "Ethiopia",
           "offsetgroup": "Ethiopia",
           "orientation": "v",
           "showlegend": true,
           "textposition": "auto",
           "type": "bar",
           "x": [
            "Ethiopia"
           ],
           "xaxis": "x",
           "y": [
            83.46510868090276
           ],
           "yaxis": "y"
          },
          {
           "alignmentgroup": "True",
           "hovertemplate": "Country=%{x}<br>Year=1961<br>Age dependency ratio (% of working-age population)=%{y}<extra></extra>",
           "ids": [
            "Kenya"
           ],
           "legendgroup": "Kenya",
           "marker": {
            "color": "#FFA15A",
            "pattern": {
             "shape": ""
            }
           },
           "name": "Kenya",
           "offsetgroup": "Kenya",
           "orientation": "v",
           "showlegend": true,
           "textposition": "auto",
           "type": "bar",
           "x": [
            "Kenya"
           ],
           "xaxis": "x",
           "y": [
            108.88114819520564
           ],
           "yaxis": "y"
          },
          {
           "alignmentgroup": "True",
           "hovertemplate": "Country=%{x}<br>Year=1961<br>Age dependency ratio (% of working-age population)=%{y}<extra></extra>",
           "ids": [
            "Rwanda"
           ],
           "legendgroup": "Rwanda",
           "marker": {
            "color": "#19d3f3",
            "pattern": {
             "shape": ""
            }
           },
           "name": "Rwanda",
           "offsetgroup": "Rwanda",
           "orientation": "v",
           "showlegend": true,
           "textposition": "auto",
           "type": "bar",
           "x": [
            "Rwanda"
           ],
           "xaxis": "x",
           "y": [
            107.7706285312902
           ],
           "yaxis": "y"
          },
          {
           "alignmentgroup": "True",
           "hovertemplate": "Country=%{x}<br>Year=1961<br>Age dependency ratio (% of working-age population)=%{y}<extra></extra>",
           "ids": [
            "Somalia"
           ],
           "legendgroup": "Somalia",
           "marker": {
            "color": "#FF6692",
            "pattern": {
             "shape": ""
            }
           },
           "name": "Somalia",
           "offsetgroup": "Somalia",
           "orientation": "v",
           "showlegend": true,
           "textposition": "auto",
           "type": "bar",
           "x": [
            "Somalia"
           ],
           "xaxis": "x",
           "y": [
            91.4388547185409
           ],
           "yaxis": "y"
          },
          {
           "alignmentgroup": "True",
           "hovertemplate": "Country=%{x}<br>Year=1961<br>Age dependency ratio (% of working-age population)=%{y}<extra></extra>",
           "ids": [
            "South Sudan"
           ],
           "legendgroup": "South Sudan",
           "marker": {
            "color": "#B6E880",
            "pattern": {
             "shape": ""
            }
           },
           "name": "South Sudan",
           "offsetgroup": "South Sudan",
           "orientation": "v",
           "showlegend": true,
           "textposition": "auto",
           "type": "bar",
           "x": [
            "South Sudan"
           ],
           "xaxis": "x",
           "y": [
            79.93649344737828
           ],
           "yaxis": "y"
          },
          {
           "alignmentgroup": "True",
           "hovertemplate": "Country=%{x}<br>Year=1961<br>Age dependency ratio (% of working-age population)=%{y}<extra></extra>",
           "ids": [
            "Sudan"
           ],
           "legendgroup": "Sudan",
           "marker": {
            "color": "#FF97FF",
            "pattern": {
             "shape": ""
            }
           },
           "name": "Sudan",
           "offsetgroup": "Sudan",
           "orientation": "v",
           "showlegend": true,
           "textposition": "auto",
           "type": "bar",
           "x": [
            "Sudan"
           ],
           "xaxis": "x",
           "y": [
            97.08255442265026
           ],
           "yaxis": "y"
          },
          {
           "alignmentgroup": "True",
           "hovertemplate": "Country=%{x}<br>Year=1961<br>Age dependency ratio (% of working-age population)=%{y}<extra></extra>",
           "ids": [
            "Tanzania"
           ],
           "legendgroup": "Tanzania",
           "marker": {
            "color": "#FECB52",
            "pattern": {
             "shape": ""
            }
           },
           "name": "Tanzania",
           "offsetgroup": "Tanzania",
           "orientation": "v",
           "showlegend": true,
           "textposition": "auto",
           "type": "bar",
           "x": [
            "Tanzania"
           ],
           "xaxis": "x",
           "y": [
            91.8019309895454
           ],
           "yaxis": "y"
          },
          {
           "alignmentgroup": "True",
           "hovertemplate": "Country=%{x}<br>Year=1961<br>Age dependency ratio (% of working-age population)=%{y}<extra></extra>",
           "ids": [
            "Uganda"
           ],
           "legendgroup": "Uganda",
           "marker": {
            "color": "#636efa",
            "pattern": {
             "shape": ""
            }
           },
           "name": "Uganda",
           "offsetgroup": "Uganda",
           "orientation": "v",
           "showlegend": true,
           "textposition": "auto",
           "type": "bar",
           "x": [
            "Uganda"
           ],
           "xaxis": "x",
           "y": [
            95.8851924305294
           ],
           "yaxis": "y"
          }
         ],
         "name": "1961"
        },
        {
         "data": [
          {
           "alignmentgroup": "True",
           "hovertemplate": "Country=%{x}<br>Year=1962<br>Age dependency ratio (% of working-age population)=%{y}<extra></extra>",
           "ids": [
            "Burundi"
           ],
           "legendgroup": "Burundi",
           "marker": {
            "color": "#636efa",
            "pattern": {
             "shape": ""
            }
           },
           "name": "Burundi",
           "offsetgroup": "Burundi",
           "orientation": "v",
           "showlegend": true,
           "textposition": "auto",
           "type": "bar",
           "x": [
            "Burundi"
           ],
           "xaxis": "x",
           "y": [
            92.66582858240984
           ],
           "yaxis": "y"
          },
          {
           "alignmentgroup": "True",
           "hovertemplate": "Country=%{x}<br>Year=1962<br>Age dependency ratio (% of working-age population)=%{y}<extra></extra>",
           "ids": [
            "Djibouti"
           ],
           "legendgroup": "Djibouti",
           "marker": {
            "color": "#EF553B",
            "pattern": {
             "shape": ""
            }
           },
           "name": "Djibouti",
           "offsetgroup": "Djibouti",
           "orientation": "v",
           "showlegend": true,
           "textposition": "auto",
           "type": "bar",
           "x": [
            "Djibouti"
           ],
           "xaxis": "x",
           "y": [
            85.62401578727051
           ],
           "yaxis": "y"
          },
          {
           "alignmentgroup": "True",
           "hovertemplate": "Country=%{x}<br>Year=1962<br>Age dependency ratio (% of working-age population)=%{y}<extra></extra>",
           "ids": [
            "Eritrea"
           ],
           "legendgroup": "Eritrea",
           "marker": {
            "color": "#00cc96",
            "pattern": {
             "shape": ""
            }
           },
           "name": "Eritrea",
           "offsetgroup": "Eritrea",
           "orientation": "v",
           "showlegend": true,
           "textposition": "auto",
           "type": "bar",
           "x": [
            "Eritrea"
           ],
           "xaxis": "x",
           "y": [
            81.06484805393255
           ],
           "yaxis": "y"
          },
          {
           "alignmentgroup": "True",
           "hovertemplate": "Country=%{x}<br>Year=1962<br>Age dependency ratio (% of working-age population)=%{y}<extra></extra>",
           "ids": [
            "Ethiopia"
           ],
           "legendgroup": "Ethiopia",
           "marker": {
            "color": "#ab63fa",
            "pattern": {
             "shape": ""
            }
           },
           "name": "Ethiopia",
           "offsetgroup": "Ethiopia",
           "orientation": "v",
           "showlegend": true,
           "textposition": "auto",
           "type": "bar",
           "x": [
            "Ethiopia"
           ],
           "xaxis": "x",
           "y": [
            83.14506436199768
           ],
           "yaxis": "y"
          },
          {
           "alignmentgroup": "True",
           "hovertemplate": "Country=%{x}<br>Year=1962<br>Age dependency ratio (% of working-age population)=%{y}<extra></extra>",
           "ids": [
            "Kenya"
           ],
           "legendgroup": "Kenya",
           "marker": {
            "color": "#FFA15A",
            "pattern": {
             "shape": ""
            }
           },
           "name": "Kenya",
           "offsetgroup": "Kenya",
           "orientation": "v",
           "showlegend": true,
           "textposition": "auto",
           "type": "bar",
           "x": [
            "Kenya"
           ],
           "xaxis": "x",
           "y": [
            109.65783238359192
           ],
           "yaxis": "y"
          },
          {
           "alignmentgroup": "True",
           "hovertemplate": "Country=%{x}<br>Year=1962<br>Age dependency ratio (% of working-age population)=%{y}<extra></extra>",
           "ids": [
            "Rwanda"
           ],
           "legendgroup": "Rwanda",
           "marker": {
            "color": "#19d3f3",
            "pattern": {
             "shape": ""
            }
           },
           "name": "Rwanda",
           "offsetgroup": "Rwanda",
           "orientation": "v",
           "showlegend": true,
           "textposition": "auto",
           "type": "bar",
           "x": [
            "Rwanda"
           ],
           "xaxis": "x",
           "y": [
            109.6600982045965
           ],
           "yaxis": "y"
          },
          {
           "alignmentgroup": "True",
           "hovertemplate": "Country=%{x}<br>Year=1962<br>Age dependency ratio (% of working-age population)=%{y}<extra></extra>",
           "ids": [
            "Somalia"
           ],
           "legendgroup": "Somalia",
           "marker": {
            "color": "#FF6692",
            "pattern": {
             "shape": ""
            }
           },
           "name": "Somalia",
           "offsetgroup": "Somalia",
           "orientation": "v",
           "showlegend": true,
           "textposition": "auto",
           "type": "bar",
           "x": [
            "Somalia"
           ],
           "xaxis": "x",
           "y": [
            92.2230093312696
           ],
           "yaxis": "y"
          },
          {
           "alignmentgroup": "True",
           "hovertemplate": "Country=%{x}<br>Year=1962<br>Age dependency ratio (% of working-age population)=%{y}<extra></extra>",
           "ids": [
            "South Sudan"
           ],
           "legendgroup": "South Sudan",
           "marker": {
            "color": "#B6E880",
            "pattern": {
             "shape": ""
            }
           },
           "name": "South Sudan",
           "offsetgroup": "South Sudan",
           "orientation": "v",
           "showlegend": true,
           "textposition": "auto",
           "type": "bar",
           "x": [
            "South Sudan"
           ],
           "xaxis": "x",
           "y": [
            79.79787783139581
           ],
           "yaxis": "y"
          },
          {
           "alignmentgroup": "True",
           "hovertemplate": "Country=%{x}<br>Year=1962<br>Age dependency ratio (% of working-age population)=%{y}<extra></extra>",
           "ids": [
            "Sudan"
           ],
           "legendgroup": "Sudan",
           "marker": {
            "color": "#FF97FF",
            "pattern": {
             "shape": ""
            }
           },
           "name": "Sudan",
           "offsetgroup": "Sudan",
           "orientation": "v",
           "showlegend": true,
           "textposition": "auto",
           "type": "bar",
           "x": [
            "Sudan"
           ],
           "xaxis": "x",
           "y": [
            97.33217808810484
           ],
           "yaxis": "y"
          },
          {
           "alignmentgroup": "True",
           "hovertemplate": "Country=%{x}<br>Year=1962<br>Age dependency ratio (% of working-age population)=%{y}<extra></extra>",
           "ids": [
            "Tanzania"
           ],
           "legendgroup": "Tanzania",
           "marker": {
            "color": "#FECB52",
            "pattern": {
             "shape": ""
            }
           },
           "name": "Tanzania",
           "offsetgroup": "Tanzania",
           "orientation": "v",
           "showlegend": true,
           "textposition": "auto",
           "type": "bar",
           "x": [
            "Tanzania"
           ],
           "xaxis": "x",
           "y": [
            91.7285416242264
           ],
           "yaxis": "y"
          },
          {
           "alignmentgroup": "True",
           "hovertemplate": "Country=%{x}<br>Year=1962<br>Age dependency ratio (% of working-age population)=%{y}<extra></extra>",
           "ids": [
            "Uganda"
           ],
           "legendgroup": "Uganda",
           "marker": {
            "color": "#636efa",
            "pattern": {
             "shape": ""
            }
           },
           "name": "Uganda",
           "offsetgroup": "Uganda",
           "orientation": "v",
           "showlegend": true,
           "textposition": "auto",
           "type": "bar",
           "x": [
            "Uganda"
           ],
           "xaxis": "x",
           "y": [
            96.6849981632752
           ],
           "yaxis": "y"
          }
         ],
         "name": "1962"
        },
        {
         "data": [
          {
           "alignmentgroup": "True",
           "hovertemplate": "Country=%{x}<br>Year=1963<br>Age dependency ratio (% of working-age population)=%{y}<extra></extra>",
           "ids": [
            "Burundi"
           ],
           "legendgroup": "Burundi",
           "marker": {
            "color": "#636efa",
            "pattern": {
             "shape": ""
            }
           },
           "name": "Burundi",
           "offsetgroup": "Burundi",
           "orientation": "v",
           "showlegend": true,
           "textposition": "auto",
           "type": "bar",
           "x": [
            "Burundi"
           ],
           "xaxis": "x",
           "y": [
            93.544138925288
           ],
           "yaxis": "y"
          },
          {
           "alignmentgroup": "True",
           "hovertemplate": "Country=%{x}<br>Year=1963<br>Age dependency ratio (% of working-age population)=%{y}<extra></extra>",
           "ids": [
            "Djibouti"
           ],
           "legendgroup": "Djibouti",
           "marker": {
            "color": "#EF553B",
            "pattern": {
             "shape": ""
            }
           },
           "name": "Djibouti",
           "offsetgroup": "Djibouti",
           "orientation": "v",
           "showlegend": true,
           "textposition": "auto",
           "type": "bar",
           "x": [
            "Djibouti"
           ],
           "xaxis": "x",
           "y": [
            85.01960635738506
           ],
           "yaxis": "y"
          },
          {
           "alignmentgroup": "True",
           "hovertemplate": "Country=%{x}<br>Year=1963<br>Age dependency ratio (% of working-age population)=%{y}<extra></extra>",
           "ids": [
            "Eritrea"
           ],
           "legendgroup": "Eritrea",
           "marker": {
            "color": "#00cc96",
            "pattern": {
             "shape": ""
            }
           },
           "name": "Eritrea",
           "offsetgroup": "Eritrea",
           "orientation": "v",
           "showlegend": true,
           "textposition": "auto",
           "type": "bar",
           "x": [
            "Eritrea"
           ],
           "xaxis": "x",
           "y": [
            80.85638177091982
           ],
           "yaxis": "y"
          },
          {
           "alignmentgroup": "True",
           "hovertemplate": "Country=%{x}<br>Year=1963<br>Age dependency ratio (% of working-age population)=%{y}<extra></extra>",
           "ids": [
            "Ethiopia"
           ],
           "legendgroup": "Ethiopia",
           "marker": {
            "color": "#ab63fa",
            "pattern": {
             "shape": ""
            }
           },
           "name": "Ethiopia",
           "offsetgroup": "Ethiopia",
           "orientation": "v",
           "showlegend": true,
           "textposition": "auto",
           "type": "bar",
           "x": [
            "Ethiopia"
           ],
           "xaxis": "x",
           "y": [
            83.06588027407832
           ],
           "yaxis": "y"
          },
          {
           "alignmentgroup": "True",
           "hovertemplate": "Country=%{x}<br>Year=1963<br>Age dependency ratio (% of working-age population)=%{y}<extra></extra>",
           "ids": [
            "Kenya"
           ],
           "legendgroup": "Kenya",
           "marker": {
            "color": "#FFA15A",
            "pattern": {
             "shape": ""
            }
           },
           "name": "Kenya",
           "offsetgroup": "Kenya",
           "orientation": "v",
           "showlegend": true,
           "textposition": "auto",
           "type": "bar",
           "x": [
            "Kenya"
           ],
           "xaxis": "x",
           "y": [
            110.2821419996823
           ],
           "yaxis": "y"
          },
          {
           "alignmentgroup": "True",
           "hovertemplate": "Country=%{x}<br>Year=1963<br>Age dependency ratio (% of working-age population)=%{y}<extra></extra>",
           "ids": [
            "Rwanda"
           ],
           "legendgroup": "Rwanda",
           "marker": {
            "color": "#19d3f3",
            "pattern": {
             "shape": ""
            }
           },
           "name": "Rwanda",
           "offsetgroup": "Rwanda",
           "orientation": "v",
           "showlegend": true,
           "textposition": "auto",
           "type": "bar",
           "x": [
            "Rwanda"
           ],
           "xaxis": "x",
           "y": [
            111.29682291132158
           ],
           "yaxis": "y"
          },
          {
           "alignmentgroup": "True",
           "hovertemplate": "Country=%{x}<br>Year=1963<br>Age dependency ratio (% of working-age population)=%{y}<extra></extra>",
           "ids": [
            "Somalia"
           ],
           "legendgroup": "Somalia",
           "marker": {
            "color": "#FF6692",
            "pattern": {
             "shape": ""
            }
           },
           "name": "Somalia",
           "offsetgroup": "Somalia",
           "orientation": "v",
           "showlegend": true,
           "textposition": "auto",
           "type": "bar",
           "x": [
            "Somalia"
           ],
           "xaxis": "x",
           "y": [
            92.87352119751604
           ],
           "yaxis": "y"
          },
          {
           "alignmentgroup": "True",
           "hovertemplate": "Country=%{x}<br>Year=1963<br>Age dependency ratio (% of working-age population)=%{y}<extra></extra>",
           "ids": [
            "South Sudan"
           ],
           "legendgroup": "South Sudan",
           "marker": {
            "color": "#B6E880",
            "pattern": {
             "shape": ""
            }
           },
           "name": "South Sudan",
           "offsetgroup": "South Sudan",
           "orientation": "v",
           "showlegend": true,
           "textposition": "auto",
           "type": "bar",
           "x": [
            "South Sudan"
           ],
           "xaxis": "x",
           "y": [
            79.90698424041179
           ],
           "yaxis": "y"
          },
          {
           "alignmentgroup": "True",
           "hovertemplate": "Country=%{x}<br>Year=1963<br>Age dependency ratio (% of working-age population)=%{y}<extra></extra>",
           "ids": [
            "Sudan"
           ],
           "legendgroup": "Sudan",
           "marker": {
            "color": "#FF97FF",
            "pattern": {
             "shape": ""
            }
           },
           "name": "Sudan",
           "offsetgroup": "Sudan",
           "orientation": "v",
           "showlegend": true,
           "textposition": "auto",
           "type": "bar",
           "x": [
            "Sudan"
           ],
           "xaxis": "x",
           "y": [
            97.68542284630767
           ],
           "yaxis": "y"
          },
          {
           "alignmentgroup": "True",
           "hovertemplate": "Country=%{x}<br>Year=1963<br>Age dependency ratio (% of working-age population)=%{y}<extra></extra>",
           "ids": [
            "Tanzania"
           ],
           "legendgroup": "Tanzania",
           "marker": {
            "color": "#FECB52",
            "pattern": {
             "shape": ""
            }
           },
           "name": "Tanzania",
           "offsetgroup": "Tanzania",
           "orientation": "v",
           "showlegend": true,
           "textposition": "auto",
           "type": "bar",
           "x": [
            "Tanzania"
           ],
           "xaxis": "x",
           "y": [
            91.89082342889508
           ],
           "yaxis": "y"
          },
          {
           "alignmentgroup": "True",
           "hovertemplate": "Country=%{x}<br>Year=1963<br>Age dependency ratio (% of working-age population)=%{y}<extra></extra>",
           "ids": [
            "Uganda"
           ],
           "legendgroup": "Uganda",
           "marker": {
            "color": "#636efa",
            "pattern": {
             "shape": ""
            }
           },
           "name": "Uganda",
           "offsetgroup": "Uganda",
           "orientation": "v",
           "showlegend": true,
           "textposition": "auto",
           "type": "bar",
           "x": [
            "Uganda"
           ],
           "xaxis": "x",
           "y": [
            97.02705579548098
           ],
           "yaxis": "y"
          }
         ],
         "name": "1963"
        },
        {
         "data": [
          {
           "alignmentgroup": "True",
           "hovertemplate": "Country=%{x}<br>Year=1964<br>Age dependency ratio (% of working-age population)=%{y}<extra></extra>",
           "ids": [
            "Burundi"
           ],
           "legendgroup": "Burundi",
           "marker": {
            "color": "#636efa",
            "pattern": {
             "shape": ""
            }
           },
           "name": "Burundi",
           "offsetgroup": "Burundi",
           "orientation": "v",
           "showlegend": true,
           "textposition": "auto",
           "type": "bar",
           "x": [
            "Burundi"
           ],
           "xaxis": "x",
           "y": [
            93.60418915270378
           ],
           "yaxis": "y"
          },
          {
           "alignmentgroup": "True",
           "hovertemplate": "Country=%{x}<br>Year=1964<br>Age dependency ratio (% of working-age population)=%{y}<extra></extra>",
           "ids": [
            "Djibouti"
           ],
           "legendgroup": "Djibouti",
           "marker": {
            "color": "#EF553B",
            "pattern": {
             "shape": ""
            }
           },
           "name": "Djibouti",
           "offsetgroup": "Djibouti",
           "orientation": "v",
           "showlegend": true,
           "textposition": "auto",
           "type": "bar",
           "x": [
            "Djibouti"
           ],
           "xaxis": "x",
           "y": [
            84.58669535592612
           ],
           "yaxis": "y"
          },
          {
           "alignmentgroup": "True",
           "hovertemplate": "Country=%{x}<br>Year=1964<br>Age dependency ratio (% of working-age population)=%{y}<extra></extra>",
           "ids": [
            "Eritrea"
           ],
           "legendgroup": "Eritrea",
           "marker": {
            "color": "#00cc96",
            "pattern": {
             "shape": ""
            }
           },
           "name": "Eritrea",
           "offsetgroup": "Eritrea",
           "orientation": "v",
           "showlegend": true,
           "textposition": "auto",
           "type": "bar",
           "x": [
            "Eritrea"
           ],
           "xaxis": "x",
           "y": [
            80.8698613604727
           ],
           "yaxis": "y"
          },
          {
           "alignmentgroup": "True",
           "hovertemplate": "Country=%{x}<br>Year=1964<br>Age dependency ratio (% of working-age population)=%{y}<extra></extra>",
           "ids": [
            "Ethiopia"
           ],
           "legendgroup": "Ethiopia",
           "marker": {
            "color": "#ab63fa",
            "pattern": {
             "shape": ""
            }
           },
           "name": "Ethiopia",
           "offsetgroup": "Ethiopia",
           "orientation": "v",
           "showlegend": true,
           "textposition": "auto",
           "type": "bar",
           "x": [
            "Ethiopia"
           ],
           "xaxis": "x",
           "y": [
            83.29949501013856
           ],
           "yaxis": "y"
          },
          {
           "alignmentgroup": "True",
           "hovertemplate": "Country=%{x}<br>Year=1964<br>Age dependency ratio (% of working-age population)=%{y}<extra></extra>",
           "ids": [
            "Kenya"
           ],
           "legendgroup": "Kenya",
           "marker": {
            "color": "#FFA15A",
            "pattern": {
             "shape": ""
            }
           },
           "name": "Kenya",
           "offsetgroup": "Kenya",
           "orientation": "v",
           "showlegend": true,
           "textposition": "auto",
           "type": "bar",
           "x": [
            "Kenya"
           ],
           "xaxis": "x",
           "y": [
            110.62903613692094
           ],
           "yaxis": "y"
          },
          {
           "alignmentgroup": "True",
           "hovertemplate": "Country=%{x}<br>Year=1964<br>Age dependency ratio (% of working-age population)=%{y}<extra></extra>",
           "ids": [
            "Rwanda"
           ],
           "legendgroup": "Rwanda",
           "marker": {
            "color": "#19d3f3",
            "pattern": {
             "shape": ""
            }
           },
           "name": "Rwanda",
           "offsetgroup": "Rwanda",
           "orientation": "v",
           "showlegend": true,
           "textposition": "auto",
           "type": "bar",
           "x": [
            "Rwanda"
           ],
           "xaxis": "x",
           "y": [
            111.93355563708856
           ],
           "yaxis": "y"
          },
          {
           "alignmentgroup": "True",
           "hovertemplate": "Country=%{x}<br>Year=1964<br>Age dependency ratio (% of working-age population)=%{y}<extra></extra>",
           "ids": [
            "Somalia"
           ],
           "legendgroup": "Somalia",
           "marker": {
            "color": "#FF6692",
            "pattern": {
             "shape": ""
            }
           },
           "name": "Somalia",
           "offsetgroup": "Somalia",
           "orientation": "v",
           "showlegend": true,
           "textposition": "auto",
           "type": "bar",
           "x": [
            "Somalia"
           ],
           "xaxis": "x",
           "y": [
            93.30721163975863
           ],
           "yaxis": "y"
          },
          {
           "alignmentgroup": "True",
           "hovertemplate": "Country=%{x}<br>Year=1964<br>Age dependency ratio (% of working-age population)=%{y}<extra></extra>",
           "ids": [
            "South Sudan"
           ],
           "legendgroup": "South Sudan",
           "marker": {
            "color": "#B6E880",
            "pattern": {
             "shape": ""
            }
           },
           "name": "South Sudan",
           "offsetgroup": "South Sudan",
           "orientation": "v",
           "showlegend": true,
           "textposition": "auto",
           "type": "bar",
           "x": [
            "South Sudan"
           ],
           "xaxis": "x",
           "y": [
            80.35462471336955
           ],
           "yaxis": "y"
          },
          {
           "alignmentgroup": "True",
           "hovertemplate": "Country=%{x}<br>Year=1964<br>Age dependency ratio (% of working-age population)=%{y}<extra></extra>",
           "ids": [
            "Sudan"
           ],
           "legendgroup": "Sudan",
           "marker": {
            "color": "#FF97FF",
            "pattern": {
             "shape": ""
            }
           },
           "name": "Sudan",
           "offsetgroup": "Sudan",
           "orientation": "v",
           "showlegend": true,
           "textposition": "auto",
           "type": "bar",
           "x": [
            "Sudan"
           ],
           "xaxis": "x",
           "y": [
            98.17797734080004
           ],
           "yaxis": "y"
          },
          {
           "alignmentgroup": "True",
           "hovertemplate": "Country=%{x}<br>Year=1964<br>Age dependency ratio (% of working-age population)=%{y}<extra></extra>",
           "ids": [
            "Tanzania"
           ],
           "legendgroup": "Tanzania",
           "marker": {
            "color": "#FECB52",
            "pattern": {
             "shape": ""
            }
           },
           "name": "Tanzania",
           "offsetgroup": "Tanzania",
           "orientation": "v",
           "showlegend": true,
           "textposition": "auto",
           "type": "bar",
           "x": [
            "Tanzania"
           ],
           "xaxis": "x",
           "y": [
            92.39234722100564
           ],
           "yaxis": "y"
          },
          {
           "alignmentgroup": "True",
           "hovertemplate": "Country=%{x}<br>Year=1964<br>Age dependency ratio (% of working-age population)=%{y}<extra></extra>",
           "ids": [
            "Uganda"
           ],
           "legendgroup": "Uganda",
           "marker": {
            "color": "#636efa",
            "pattern": {
             "shape": ""
            }
           },
           "name": "Uganda",
           "offsetgroup": "Uganda",
           "orientation": "v",
           "showlegend": true,
           "textposition": "auto",
           "type": "bar",
           "x": [
            "Uganda"
           ],
           "xaxis": "x",
           "y": [
            96.87071236587872
           ],
           "yaxis": "y"
          }
         ],
         "name": "1964"
        },
        {
         "data": [
          {
           "alignmentgroup": "True",
           "hovertemplate": "Country=%{x}<br>Year=1965<br>Age dependency ratio (% of working-age population)=%{y}<extra></extra>",
           "ids": [
            "Burundi"
           ],
           "legendgroup": "Burundi",
           "marker": {
            "color": "#636efa",
            "pattern": {
             "shape": ""
            }
           },
           "name": "Burundi",
           "offsetgroup": "Burundi",
           "orientation": "v",
           "showlegend": true,
           "textposition": "auto",
           "type": "bar",
           "x": [
            "Burundi"
           ],
           "xaxis": "x",
           "y": [
            93.1793498968164
           ],
           "yaxis": "y"
          },
          {
           "alignmentgroup": "True",
           "hovertemplate": "Country=%{x}<br>Year=1965<br>Age dependency ratio (% of working-age population)=%{y}<extra></extra>",
           "ids": [
            "Djibouti"
           ],
           "legendgroup": "Djibouti",
           "marker": {
            "color": "#EF553B",
            "pattern": {
             "shape": ""
            }
           },
           "name": "Djibouti",
           "offsetgroup": "Djibouti",
           "orientation": "v",
           "showlegend": true,
           "textposition": "auto",
           "type": "bar",
           "x": [
            "Djibouti"
           ],
           "xaxis": "x",
           "y": [
            84.78840697891714
           ],
           "yaxis": "y"
          },
          {
           "alignmentgroup": "True",
           "hovertemplate": "Country=%{x}<br>Year=1965<br>Age dependency ratio (% of working-age population)=%{y}<extra></extra>",
           "ids": [
            "Eritrea"
           ],
           "legendgroup": "Eritrea",
           "marker": {
            "color": "#00cc96",
            "pattern": {
             "shape": ""
            }
           },
           "name": "Eritrea",
           "offsetgroup": "Eritrea",
           "orientation": "v",
           "showlegend": true,
           "textposition": "auto",
           "type": "bar",
           "x": [
            "Eritrea"
           ],
           "xaxis": "x",
           "y": [
            81.39317143217518
           ],
           "yaxis": "y"
          },
          {
           "alignmentgroup": "True",
           "hovertemplate": "Country=%{x}<br>Year=1965<br>Age dependency ratio (% of working-age population)=%{y}<extra></extra>",
           "ids": [
            "Ethiopia"
           ],
           "legendgroup": "Ethiopia",
           "marker": {
            "color": "#ab63fa",
            "pattern": {
             "shape": ""
            }
           },
           "name": "Ethiopia",
           "offsetgroup": "Ethiopia",
           "orientation": "v",
           "showlegend": true,
           "textposition": "auto",
           "type": "bar",
           "x": [
            "Ethiopia"
           ],
           "xaxis": "x",
           "y": [
            83.71355150768777
           ],
           "yaxis": "y"
          },
          {
           "alignmentgroup": "True",
           "hovertemplate": "Country=%{x}<br>Year=1965<br>Age dependency ratio (% of working-age population)=%{y}<extra></extra>",
           "ids": [
            "Kenya"
           ],
           "legendgroup": "Kenya",
           "marker": {
            "color": "#FFA15A",
            "pattern": {
             "shape": ""
            }
           },
           "name": "Kenya",
           "offsetgroup": "Kenya",
           "orientation": "v",
           "showlegend": true,
           "textposition": "auto",
           "type": "bar",
           "x": [
            "Kenya"
           ],
           "xaxis": "x",
           "y": [
            111.631427373947
           ],
           "yaxis": "y"
          },
          {
           "alignmentgroup": "True",
           "hovertemplate": "Country=%{x}<br>Year=1965<br>Age dependency ratio (% of working-age population)=%{y}<extra></extra>",
           "ids": [
            "Rwanda"
           ],
           "legendgroup": "Rwanda",
           "marker": {
            "color": "#19d3f3",
            "pattern": {
             "shape": ""
            }
           },
           "name": "Rwanda",
           "offsetgroup": "Rwanda",
           "orientation": "v",
           "showlegend": true,
           "textposition": "auto",
           "type": "bar",
           "x": [
            "Rwanda"
           ],
           "xaxis": "x",
           "y": [
            111.23697995518684
           ],
           "yaxis": "y"
          },
          {
           "alignmentgroup": "True",
           "hovertemplate": "Country=%{x}<br>Year=1965<br>Age dependency ratio (% of working-age population)=%{y}<extra></extra>",
           "ids": [
            "Somalia"
           ],
           "legendgroup": "Somalia",
           "marker": {
            "color": "#FF6692",
            "pattern": {
             "shape": ""
            }
           },
           "name": "Somalia",
           "offsetgroup": "Somalia",
           "orientation": "v",
           "showlegend": true,
           "textposition": "auto",
           "type": "bar",
           "x": [
            "Somalia"
           ],
           "xaxis": "x",
           "y": [
            93.18123638384478
           ],
           "yaxis": "y"
          },
          {
           "alignmentgroup": "True",
           "hovertemplate": "Country=%{x}<br>Year=1965<br>Age dependency ratio (% of working-age population)=%{y}<extra></extra>",
           "ids": [
            "South Sudan"
           ],
           "legendgroup": "South Sudan",
           "marker": {
            "color": "#B6E880",
            "pattern": {
             "shape": ""
            }
           },
           "name": "South Sudan",
           "offsetgroup": "South Sudan",
           "orientation": "v",
           "showlegend": true,
           "textposition": "auto",
           "type": "bar",
           "x": [
            "South Sudan"
           ],
           "xaxis": "x",
           "y": [
            81.15699745635054
           ],
           "yaxis": "y"
          },
          {
           "alignmentgroup": "True",
           "hovertemplate": "Country=%{x}<br>Year=1965<br>Age dependency ratio (% of working-age population)=%{y}<extra></extra>",
           "ids": [
            "Sudan"
           ],
           "legendgroup": "Sudan",
           "marker": {
            "color": "#FF97FF",
            "pattern": {
             "shape": ""
            }
           },
           "name": "Sudan",
           "offsetgroup": "Sudan",
           "orientation": "v",
           "showlegend": true,
           "textposition": "auto",
           "type": "bar",
           "x": [
            "Sudan"
           ],
           "xaxis": "x",
           "y": [
            98.65460818173302
           ],
           "yaxis": "y"
          },
          {
           "alignmentgroup": "True",
           "hovertemplate": "Country=%{x}<br>Year=1965<br>Age dependency ratio (% of working-age population)=%{y}<extra></extra>",
           "ids": [
            "Tanzania"
           ],
           "legendgroup": "Tanzania",
           "marker": {
            "color": "#FECB52",
            "pattern": {
             "shape": ""
            }
           },
           "name": "Tanzania",
           "offsetgroup": "Tanzania",
           "orientation": "v",
           "showlegend": true,
           "textposition": "auto",
           "type": "bar",
           "x": [
            "Tanzania"
           ],
           "xaxis": "x",
           "y": [
            93.01920682339856
           ],
           "yaxis": "y"
          },
          {
           "alignmentgroup": "True",
           "hovertemplate": "Country=%{x}<br>Year=1965<br>Age dependency ratio (% of working-age population)=%{y}<extra></extra>",
           "ids": [
            "Uganda"
           ],
           "legendgroup": "Uganda",
           "marker": {
            "color": "#636efa",
            "pattern": {
             "shape": ""
            }
           },
           "name": "Uganda",
           "offsetgroup": "Uganda",
           "orientation": "v",
           "showlegend": true,
           "textposition": "auto",
           "type": "bar",
           "x": [
            "Uganda"
           ],
           "xaxis": "x",
           "y": [
            96.57184790168844
           ],
           "yaxis": "y"
          }
         ],
         "name": "1965"
        },
        {
         "data": [
          {
           "alignmentgroup": "True",
           "hovertemplate": "Country=%{x}<br>Year=1966<br>Age dependency ratio (% of working-age population)=%{y}<extra></extra>",
           "ids": [
            "Burundi"
           ],
           "legendgroup": "Burundi",
           "marker": {
            "color": "#636efa",
            "pattern": {
             "shape": ""
            }
           },
           "name": "Burundi",
           "offsetgroup": "Burundi",
           "orientation": "v",
           "showlegend": true,
           "textposition": "auto",
           "type": "bar",
           "x": [
            "Burundi"
           ],
           "xaxis": "x",
           "y": [
            92.5617701772529
           ],
           "yaxis": "y"
          },
          {
           "alignmentgroup": "True",
           "hovertemplate": "Country=%{x}<br>Year=1966<br>Age dependency ratio (% of working-age population)=%{y}<extra></extra>",
           "ids": [
            "Djibouti"
           ],
           "legendgroup": "Djibouti",
           "marker": {
            "color": "#EF553B",
            "pattern": {
             "shape": ""
            }
           },
           "name": "Djibouti",
           "offsetgroup": "Djibouti",
           "orientation": "v",
           "showlegend": true,
           "textposition": "auto",
           "type": "bar",
           "x": [
            "Djibouti"
           ],
           "xaxis": "x",
           "y": [
            85.47072024799392
           ],
           "yaxis": "y"
          },
          {
           "alignmentgroup": "True",
           "hovertemplate": "Country=%{x}<br>Year=1966<br>Age dependency ratio (% of working-age population)=%{y}<extra></extra>",
           "ids": [
            "Eritrea"
           ],
           "legendgroup": "Eritrea",
           "marker": {
            "color": "#00cc96",
            "pattern": {
             "shape": ""
            }
           },
           "name": "Eritrea",
           "offsetgroup": "Eritrea",
           "orientation": "v",
           "showlegend": true,
           "textposition": "auto",
           "type": "bar",
           "x": [
            "Eritrea"
           ],
           "xaxis": "x",
           "y": [
            82.41943669119513
           ],
           "yaxis": "y"
          },
          {
           "alignmentgroup": "True",
           "hovertemplate": "Country=%{x}<br>Year=1966<br>Age dependency ratio (% of working-age population)=%{y}<extra></extra>",
           "ids": [
            "Ethiopia"
           ],
           "legendgroup": "Ethiopia",
           "marker": {
            "color": "#ab63fa",
            "pattern": {
             "shape": ""
            }
           },
           "name": "Ethiopia",
           "offsetgroup": "Ethiopia",
           "orientation": "v",
           "showlegend": true,
           "textposition": "auto",
           "type": "bar",
           "x": [
            "Ethiopia"
           ],
           "xaxis": "x",
           "y": [
            84.14053098927329
           ],
           "yaxis": "y"
          },
          {
           "alignmentgroup": "True",
           "hovertemplate": "Country=%{x}<br>Year=1966<br>Age dependency ratio (% of working-age population)=%{y}<extra></extra>",
           "ids": [
            "Kenya"
           ],
           "legendgroup": "Kenya",
           "marker": {
            "color": "#FFA15A",
            "pattern": {
             "shape": ""
            }
           },
           "name": "Kenya",
           "offsetgroup": "Kenya",
           "orientation": "v",
           "showlegend": true,
           "textposition": "auto",
           "type": "bar",
           "x": [
            "Kenya"
           ],
           "xaxis": "x",
           "y": [
            113.3299485271523
           ],
           "yaxis": "y"
          },
          {
           "alignmentgroup": "True",
           "hovertemplate": "Country=%{x}<br>Year=1966<br>Age dependency ratio (% of working-age population)=%{y}<extra></extra>",
           "ids": [
            "Rwanda"
           ],
           "legendgroup": "Rwanda",
           "marker": {
            "color": "#19d3f3",
            "pattern": {
             "shape": ""
            }
           },
           "name": "Rwanda",
           "offsetgroup": "Rwanda",
           "orientation": "v",
           "showlegend": true,
           "textposition": "auto",
           "type": "bar",
           "x": [
            "Rwanda"
           ],
           "xaxis": "x",
           "y": [
            109.85540538893696
           ],
           "yaxis": "y"
          },
          {
           "alignmentgroup": "True",
           "hovertemplate": "Country=%{x}<br>Year=1966<br>Age dependency ratio (% of working-age population)=%{y}<extra></extra>",
           "ids": [
            "Somalia"
           ],
           "legendgroup": "Somalia",
           "marker": {
            "color": "#FF6692",
            "pattern": {
             "shape": ""
            }
           },
           "name": "Somalia",
           "offsetgroup": "Somalia",
           "orientation": "v",
           "showlegend": true,
           "textposition": "auto",
           "type": "bar",
           "x": [
            "Somalia"
           ],
           "xaxis": "x",
           "y": [
            92.71278674205855
           ],
           "yaxis": "y"
          },
          {
           "alignmentgroup": "True",
           "hovertemplate": "Country=%{x}<br>Year=1966<br>Age dependency ratio (% of working-age population)=%{y}<extra></extra>",
           "ids": [
            "South Sudan"
           ],
           "legendgroup": "South Sudan",
           "marker": {
            "color": "#B6E880",
            "pattern": {
             "shape": ""
            }
           },
           "name": "South Sudan",
           "offsetgroup": "South Sudan",
           "orientation": "v",
           "showlegend": true,
           "textposition": "auto",
           "type": "bar",
           "x": [
            "South Sudan"
           ],
           "xaxis": "x",
           "y": [
            82.10552072601955
           ],
           "yaxis": "y"
          },
          {
           "alignmentgroup": "True",
           "hovertemplate": "Country=%{x}<br>Year=1966<br>Age dependency ratio (% of working-age population)=%{y}<extra></extra>",
           "ids": [
            "Sudan"
           ],
           "legendgroup": "Sudan",
           "marker": {
            "color": "#FF97FF",
            "pattern": {
             "shape": ""
            }
           },
           "name": "Sudan",
           "offsetgroup": "Sudan",
           "orientation": "v",
           "showlegend": true,
           "textposition": "auto",
           "type": "bar",
           "x": [
            "Sudan"
           ],
           "xaxis": "x",
           "y": [
            99.08618601592453
           ],
           "yaxis": "y"
          },
          {
           "alignmentgroup": "True",
           "hovertemplate": "Country=%{x}<br>Year=1966<br>Age dependency ratio (% of working-age population)=%{y}<extra></extra>",
           "ids": [
            "Tanzania"
           ],
           "legendgroup": "Tanzania",
           "marker": {
            "color": "#FECB52",
            "pattern": {
             "shape": ""
            }
           },
           "name": "Tanzania",
           "offsetgroup": "Tanzania",
           "orientation": "v",
           "showlegend": true,
           "textposition": "auto",
           "type": "bar",
           "x": [
            "Tanzania"
           ],
           "xaxis": "x",
           "y": [
            93.59585416213253
           ],
           "yaxis": "y"
          },
          {
           "alignmentgroup": "True",
           "hovertemplate": "Country=%{x}<br>Year=1966<br>Age dependency ratio (% of working-age population)=%{y}<extra></extra>",
           "ids": [
            "Uganda"
           ],
           "legendgroup": "Uganda",
           "marker": {
            "color": "#636efa",
            "pattern": {
             "shape": ""
            }
           },
           "name": "Uganda",
           "offsetgroup": "Uganda",
           "orientation": "v",
           "showlegend": true,
           "textposition": "auto",
           "type": "bar",
           "x": [
            "Uganda"
           ],
           "xaxis": "x",
           "y": [
            96.42375662180396
           ],
           "yaxis": "y"
          }
         ],
         "name": "1966"
        },
        {
         "data": [
          {
           "alignmentgroup": "True",
           "hovertemplate": "Country=%{x}<br>Year=1967<br>Age dependency ratio (% of working-age population)=%{y}<extra></extra>",
           "ids": [
            "Burundi"
           ],
           "legendgroup": "Burundi",
           "marker": {
            "color": "#636efa",
            "pattern": {
             "shape": ""
            }
           },
           "name": "Burundi",
           "offsetgroup": "Burundi",
           "orientation": "v",
           "showlegend": true,
           "textposition": "auto",
           "type": "bar",
           "x": [
            "Burundi"
           ],
           "xaxis": "x",
           "y": [
            91.99359492284474
           ],
           "yaxis": "y"
          },
          {
           "alignmentgroup": "True",
           "hovertemplate": "Country=%{x}<br>Year=1967<br>Age dependency ratio (% of working-age population)=%{y}<extra></extra>",
           "ids": [
            "Djibouti"
           ],
           "legendgroup": "Djibouti",
           "marker": {
            "color": "#EF553B",
            "pattern": {
             "shape": ""
            }
           },
           "name": "Djibouti",
           "offsetgroup": "Djibouti",
           "orientation": "v",
           "showlegend": true,
           "textposition": "auto",
           "type": "bar",
           "x": [
            "Djibouti"
           ],
           "xaxis": "x",
           "y": [
            86.19174209013937
           ],
           "yaxis": "y"
          },
          {
           "alignmentgroup": "True",
           "hovertemplate": "Country=%{x}<br>Year=1967<br>Age dependency ratio (% of working-age population)=%{y}<extra></extra>",
           "ids": [
            "Eritrea"
           ],
           "legendgroup": "Eritrea",
           "marker": {
            "color": "#00cc96",
            "pattern": {
             "shape": ""
            }
           },
           "name": "Eritrea",
           "offsetgroup": "Eritrea",
           "orientation": "v",
           "showlegend": true,
           "textposition": "auto",
           "type": "bar",
           "x": [
            "Eritrea"
           ],
           "xaxis": "x",
           "y": [
            83.39049615044964
           ],
           "yaxis": "y"
          },
          {
           "alignmentgroup": "True",
           "hovertemplate": "Country=%{x}<br>Year=1967<br>Age dependency ratio (% of working-age population)=%{y}<extra></extra>",
           "ids": [
            "Ethiopia"
           ],
           "legendgroup": "Ethiopia",
           "marker": {
            "color": "#ab63fa",
            "pattern": {
             "shape": ""
            }
           },
           "name": "Ethiopia",
           "offsetgroup": "Ethiopia",
           "orientation": "v",
           "showlegend": true,
           "textposition": "auto",
           "type": "bar",
           "x": [
            "Ethiopia"
           ],
           "xaxis": "x",
           "y": [
            84.70635721751
           ],
           "yaxis": "y"
          },
          {
           "alignmentgroup": "True",
           "hovertemplate": "Country=%{x}<br>Year=1967<br>Age dependency ratio (% of working-age population)=%{y}<extra></extra>",
           "ids": [
            "Kenya"
           ],
           "legendgroup": "Kenya",
           "marker": {
            "color": "#FFA15A",
            "pattern": {
             "shape": ""
            }
           },
           "name": "Kenya",
           "offsetgroup": "Kenya",
           "orientation": "v",
           "showlegend": true,
           "textposition": "auto",
           "type": "bar",
           "x": [
            "Kenya"
           ],
           "xaxis": "x",
           "y": [
            114.74578447676988
           ],
           "yaxis": "y"
          },
          {
           "alignmentgroup": "True",
           "hovertemplate": "Country=%{x}<br>Year=1967<br>Age dependency ratio (% of working-age population)=%{y}<extra></extra>",
           "ids": [
            "Rwanda"
           ],
           "legendgroup": "Rwanda",
           "marker": {
            "color": "#19d3f3",
            "pattern": {
             "shape": ""
            }
           },
           "name": "Rwanda",
           "offsetgroup": "Rwanda",
           "orientation": "v",
           "showlegend": true,
           "textposition": "auto",
           "type": "bar",
           "x": [
            "Rwanda"
           ],
           "xaxis": "x",
           "y": [
            108.05018580823652
           ],
           "yaxis": "y"
          },
          {
           "alignmentgroup": "True",
           "hovertemplate": "Country=%{x}<br>Year=1967<br>Age dependency ratio (% of working-age population)=%{y}<extra></extra>",
           "ids": [
            "Somalia"
           ],
           "legendgroup": "Somalia",
           "marker": {
            "color": "#FF6692",
            "pattern": {
             "shape": ""
            }
           },
           "name": "Somalia",
           "offsetgroup": "Somalia",
           "orientation": "v",
           "showlegend": true,
           "textposition": "auto",
           "type": "bar",
           "x": [
            "Somalia"
           ],
           "xaxis": "x",
           "y": [
            92.29753663755776
           ],
           "yaxis": "y"
          },
          {
           "alignmentgroup": "True",
           "hovertemplate": "Country=%{x}<br>Year=1967<br>Age dependency ratio (% of working-age population)=%{y}<extra></extra>",
           "ids": [
            "South Sudan"
           ],
           "legendgroup": "South Sudan",
           "marker": {
            "color": "#B6E880",
            "pattern": {
             "shape": ""
            }
           },
           "name": "South Sudan",
           "offsetgroup": "South Sudan",
           "orientation": "v",
           "showlegend": true,
           "textposition": "auto",
           "type": "bar",
           "x": [
            "South Sudan"
           ],
           "xaxis": "x",
           "y": [
            82.97653757429617
           ],
           "yaxis": "y"
          },
          {
           "alignmentgroup": "True",
           "hovertemplate": "Country=%{x}<br>Year=1967<br>Age dependency ratio (% of working-age population)=%{y}<extra></extra>",
           "ids": [
            "Sudan"
           ],
           "legendgroup": "Sudan",
           "marker": {
            "color": "#FF97FF",
            "pattern": {
             "shape": ""
            }
           },
           "name": "Sudan",
           "offsetgroup": "Sudan",
           "orientation": "v",
           "showlegend": true,
           "textposition": "auto",
           "type": "bar",
           "x": [
            "Sudan"
           ],
           "xaxis": "x",
           "y": [
            99.55053033978211
           ],
           "yaxis": "y"
          },
          {
           "alignmentgroup": "True",
           "hovertemplate": "Country=%{x}<br>Year=1967<br>Age dependency ratio (% of working-age population)=%{y}<extra></extra>",
           "ids": [
            "Tanzania"
           ],
           "legendgroup": "Tanzania",
           "marker": {
            "color": "#FECB52",
            "pattern": {
             "shape": ""
            }
           },
           "name": "Tanzania",
           "offsetgroup": "Tanzania",
           "orientation": "v",
           "showlegend": true,
           "textposition": "auto",
           "type": "bar",
           "x": [
            "Tanzania"
           ],
           "xaxis": "x",
           "y": [
            94.12699977562544
           ],
           "yaxis": "y"
          },
          {
           "alignmentgroup": "True",
           "hovertemplate": "Country=%{x}<br>Year=1967<br>Age dependency ratio (% of working-age population)=%{y}<extra></extra>",
           "ids": [
            "Uganda"
           ],
           "legendgroup": "Uganda",
           "marker": {
            "color": "#636efa",
            "pattern": {
             "shape": ""
            }
           },
           "name": "Uganda",
           "offsetgroup": "Uganda",
           "orientation": "v",
           "showlegend": true,
           "textposition": "auto",
           "type": "bar",
           "x": [
            "Uganda"
           ],
           "xaxis": "x",
           "y": [
            96.36848933454358
           ],
           "yaxis": "y"
          }
         ],
         "name": "1967"
        },
        {
         "data": [
          {
           "alignmentgroup": "True",
           "hovertemplate": "Country=%{x}<br>Year=1968<br>Age dependency ratio (% of working-age population)=%{y}<extra></extra>",
           "ids": [
            "Burundi"
           ],
           "legendgroup": "Burundi",
           "marker": {
            "color": "#636efa",
            "pattern": {
             "shape": ""
            }
           },
           "name": "Burundi",
           "offsetgroup": "Burundi",
           "orientation": "v",
           "showlegend": true,
           "textposition": "auto",
           "type": "bar",
           "x": [
            "Burundi"
           ],
           "xaxis": "x",
           "y": [
            91.76262239718294
           ],
           "yaxis": "y"
          },
          {
           "alignmentgroup": "True",
           "hovertemplate": "Country=%{x}<br>Year=1968<br>Age dependency ratio (% of working-age population)=%{y}<extra></extra>",
           "ids": [
            "Djibouti"
           ],
           "legendgroup": "Djibouti",
           "marker": {
            "color": "#EF553B",
            "pattern": {
             "shape": ""
            }
           },
           "name": "Djibouti",
           "offsetgroup": "Djibouti",
           "orientation": "v",
           "showlegend": true,
           "textposition": "auto",
           "type": "bar",
           "x": [
            "Djibouti"
           ],
           "xaxis": "x",
           "y": [
            86.90324564100311
           ],
           "yaxis": "y"
          },
          {
           "alignmentgroup": "True",
           "hovertemplate": "Country=%{x}<br>Year=1968<br>Age dependency ratio (% of working-age population)=%{y}<extra></extra>",
           "ids": [
            "Eritrea"
           ],
           "legendgroup": "Eritrea",
           "marker": {
            "color": "#00cc96",
            "pattern": {
             "shape": ""
            }
           },
           "name": "Eritrea",
           "offsetgroup": "Eritrea",
           "orientation": "v",
           "showlegend": true,
           "textposition": "auto",
           "type": "bar",
           "x": [
            "Eritrea"
           ],
           "xaxis": "x",
           "y": [
            84.28267599453977
           ],
           "yaxis": "y"
          },
          {
           "alignmentgroup": "True",
           "hovertemplate": "Country=%{x}<br>Year=1968<br>Age dependency ratio (% of working-age population)=%{y}<extra></extra>",
           "ids": [
            "Ethiopia"
           ],
           "legendgroup": "Ethiopia",
           "marker": {
            "color": "#ab63fa",
            "pattern": {
             "shape": ""
            }
           },
           "name": "Ethiopia",
           "offsetgroup": "Ethiopia",
           "orientation": "v",
           "showlegend": true,
           "textposition": "auto",
           "type": "bar",
           "x": [
            "Ethiopia"
           ],
           "xaxis": "x",
           "y": [
            85.51016578223934
           ],
           "yaxis": "y"
          },
          {
           "alignmentgroup": "True",
           "hovertemplate": "Country=%{x}<br>Year=1968<br>Age dependency ratio (% of working-age population)=%{y}<extra></extra>",
           "ids": [
            "Kenya"
           ],
           "legendgroup": "Kenya",
           "marker": {
            "color": "#FFA15A",
            "pattern": {
             "shape": ""
            }
           },
           "name": "Kenya",
           "offsetgroup": "Kenya",
           "orientation": "v",
           "showlegend": true,
           "textposition": "auto",
           "type": "bar",
           "x": [
            "Kenya"
           ],
           "xaxis": "x",
           "y": [
            115.79833296194066
           ],
           "yaxis": "y"
          },
          {
           "alignmentgroup": "True",
           "hovertemplate": "Country=%{x}<br>Year=1968<br>Age dependency ratio (% of working-age population)=%{y}<extra></extra>",
           "ids": [
            "Rwanda"
           ],
           "legendgroup": "Rwanda",
           "marker": {
            "color": "#19d3f3",
            "pattern": {
             "shape": ""
            }
           },
           "name": "Rwanda",
           "offsetgroup": "Rwanda",
           "orientation": "v",
           "showlegend": true,
           "textposition": "auto",
           "type": "bar",
           "x": [
            "Rwanda"
           ],
           "xaxis": "x",
           "y": [
            106.13616316568356
           ],
           "yaxis": "y"
          },
          {
           "alignmentgroup": "True",
           "hovertemplate": "Country=%{x}<br>Year=1968<br>Age dependency ratio (% of working-age population)=%{y}<extra></extra>",
           "ids": [
            "Somalia"
           ],
           "legendgroup": "Somalia",
           "marker": {
            "color": "#FF6692",
            "pattern": {
             "shape": ""
            }
           },
           "name": "Somalia",
           "offsetgroup": "Somalia",
           "orientation": "v",
           "showlegend": true,
           "textposition": "auto",
           "type": "bar",
           "x": [
            "Somalia"
           ],
           "xaxis": "x",
           "y": [
            91.93548211821214
           ],
           "yaxis": "y"
          },
          {
           "alignmentgroup": "True",
           "hovertemplate": "Country=%{x}<br>Year=1968<br>Age dependency ratio (% of working-age population)=%{y}<extra></extra>",
           "ids": [
            "South Sudan"
           ],
           "legendgroup": "South Sudan",
           "marker": {
            "color": "#B6E880",
            "pattern": {
             "shape": ""
            }
           },
           "name": "South Sudan",
           "offsetgroup": "South Sudan",
           "orientation": "v",
           "showlegend": true,
           "textposition": "auto",
           "type": "bar",
           "x": [
            "South Sudan"
           ],
           "xaxis": "x",
           "y": [
            83.76319254338546
           ],
           "yaxis": "y"
          },
          {
           "alignmentgroup": "True",
           "hovertemplate": "Country=%{x}<br>Year=1968<br>Age dependency ratio (% of working-age population)=%{y}<extra></extra>",
           "ids": [
            "Sudan"
           ],
           "legendgroup": "Sudan",
           "marker": {
            "color": "#FF97FF",
            "pattern": {
             "shape": ""
            }
           },
           "name": "Sudan",
           "offsetgroup": "Sudan",
           "orientation": "v",
           "showlegend": true,
           "textposition": "auto",
           "type": "bar",
           "x": [
            "Sudan"
           ],
           "xaxis": "x",
           "y": [
            99.96705089124238
           ],
           "yaxis": "y"
          },
          {
           "alignmentgroup": "True",
           "hovertemplate": "Country=%{x}<br>Year=1968<br>Age dependency ratio (% of working-age population)=%{y}<extra></extra>",
           "ids": [
            "Tanzania"
           ],
           "legendgroup": "Tanzania",
           "marker": {
            "color": "#FECB52",
            "pattern": {
             "shape": ""
            }
           },
           "name": "Tanzania",
           "offsetgroup": "Tanzania",
           "orientation": "v",
           "showlegend": true,
           "textposition": "auto",
           "type": "bar",
           "x": [
            "Tanzania"
           ],
           "xaxis": "x",
           "y": [
            94.3861165819442
           ],
           "yaxis": "y"
          },
          {
           "alignmentgroup": "True",
           "hovertemplate": "Country=%{x}<br>Year=1968<br>Age dependency ratio (% of working-age population)=%{y}<extra></extra>",
           "ids": [
            "Uganda"
           ],
           "legendgroup": "Uganda",
           "marker": {
            "color": "#636efa",
            "pattern": {
             "shape": ""
            }
           },
           "name": "Uganda",
           "offsetgroup": "Uganda",
           "orientation": "v",
           "showlegend": true,
           "textposition": "auto",
           "type": "bar",
           "x": [
            "Uganda"
           ],
           "xaxis": "x",
           "y": [
            96.40632276210968
           ],
           "yaxis": "y"
          }
         ],
         "name": "1968"
        },
        {
         "data": [
          {
           "alignmentgroup": "True",
           "hovertemplate": "Country=%{x}<br>Year=1969<br>Age dependency ratio (% of working-age population)=%{y}<extra></extra>",
           "ids": [
            "Burundi"
           ],
           "legendgroup": "Burundi",
           "marker": {
            "color": "#636efa",
            "pattern": {
             "shape": ""
            }
           },
           "name": "Burundi",
           "offsetgroup": "Burundi",
           "orientation": "v",
           "showlegend": true,
           "textposition": "auto",
           "type": "bar",
           "x": [
            "Burundi"
           ],
           "xaxis": "x",
           "y": [
            91.91169135687618
           ],
           "yaxis": "y"
          },
          {
           "alignmentgroup": "True",
           "hovertemplate": "Country=%{x}<br>Year=1969<br>Age dependency ratio (% of working-age population)=%{y}<extra></extra>",
           "ids": [
            "Djibouti"
           ],
           "legendgroup": "Djibouti",
           "marker": {
            "color": "#EF553B",
            "pattern": {
             "shape": ""
            }
           },
           "name": "Djibouti",
           "offsetgroup": "Djibouti",
           "orientation": "v",
           "showlegend": true,
           "textposition": "auto",
           "type": "bar",
           "x": [
            "Djibouti"
           ],
           "xaxis": "x",
           "y": [
            87.61172313448348
           ],
           "yaxis": "y"
          },
          {
           "alignmentgroup": "True",
           "hovertemplate": "Country=%{x}<br>Year=1969<br>Age dependency ratio (% of working-age population)=%{y}<extra></extra>",
           "ids": [
            "Eritrea"
           ],
           "legendgroup": "Eritrea",
           "marker": {
            "color": "#00cc96",
            "pattern": {
             "shape": ""
            }
           },
           "name": "Eritrea",
           "offsetgroup": "Eritrea",
           "orientation": "v",
           "showlegend": true,
           "textposition": "auto",
           "type": "bar",
           "x": [
            "Eritrea"
           ],
           "xaxis": "x",
           "y": [
            85.08861579135043
           ],
           "yaxis": "y"
          },
          {
           "alignmentgroup": "True",
           "hovertemplate": "Country=%{x}<br>Year=1969<br>Age dependency ratio (% of working-age population)=%{y}<extra></extra>",
           "ids": [
            "Ethiopia"
           ],
           "legendgroup": "Ethiopia",
           "marker": {
            "color": "#ab63fa",
            "pattern": {
             "shape": ""
            }
           },
           "name": "Ethiopia",
           "offsetgroup": "Ethiopia",
           "orientation": "v",
           "showlegend": true,
           "textposition": "auto",
           "type": "bar",
           "x": [
            "Ethiopia"
           ],
           "xaxis": "x",
           "y": [
            86.42984563650268
           ],
           "yaxis": "y"
          },
          {
           "alignmentgroup": "True",
           "hovertemplate": "Country=%{x}<br>Year=1969<br>Age dependency ratio (% of working-age population)=%{y}<extra></extra>",
           "ids": [
            "Kenya"
           ],
           "legendgroup": "Kenya",
           "marker": {
            "color": "#FFA15A",
            "pattern": {
             "shape": ""
            }
           },
           "name": "Kenya",
           "offsetgroup": "Kenya",
           "orientation": "v",
           "showlegend": true,
           "textposition": "auto",
           "type": "bar",
           "x": [
            "Kenya"
           ],
           "xaxis": "x",
           "y": [
            116.53168846259008
           ],
           "yaxis": "y"
          },
          {
           "alignmentgroup": "True",
           "hovertemplate": "Country=%{x}<br>Year=1969<br>Age dependency ratio (% of working-age population)=%{y}<extra></extra>",
           "ids": [
            "Rwanda"
           ],
           "legendgroup": "Rwanda",
           "marker": {
            "color": "#19d3f3",
            "pattern": {
             "shape": ""
            }
           },
           "name": "Rwanda",
           "offsetgroup": "Rwanda",
           "orientation": "v",
           "showlegend": true,
           "textposition": "auto",
           "type": "bar",
           "x": [
            "Rwanda"
           ],
           "xaxis": "x",
           "y": [
            104.38091373853769
           ],
           "yaxis": "y"
          },
          {
           "alignmentgroup": "True",
           "hovertemplate": "Country=%{x}<br>Year=1969<br>Age dependency ratio (% of working-age population)=%{y}<extra></extra>",
           "ids": [
            "Somalia"
           ],
           "legendgroup": "Somalia",
           "marker": {
            "color": "#FF6692",
            "pattern": {
             "shape": ""
            }
           },
           "name": "Somalia",
           "offsetgroup": "Somalia",
           "orientation": "v",
           "showlegend": true,
           "textposition": "auto",
           "type": "bar",
           "x": [
            "Somalia"
           ],
           "xaxis": "x",
           "y": [
            91.62364049999154
           ],
           "yaxis": "y"
          },
          {
           "alignmentgroup": "True",
           "hovertemplate": "Country=%{x}<br>Year=1969<br>Age dependency ratio (% of working-age population)=%{y}<extra></extra>",
           "ids": [
            "South Sudan"
           ],
           "legendgroup": "South Sudan",
           "marker": {
            "color": "#B6E880",
            "pattern": {
             "shape": ""
            }
           },
           "name": "South Sudan",
           "offsetgroup": "South Sudan",
           "orientation": "v",
           "showlegend": true,
           "textposition": "auto",
           "type": "bar",
           "x": [
            "South Sudan"
           ],
           "xaxis": "x",
           "y": [
            84.46396159091125
           ],
           "yaxis": "y"
          },
          {
           "alignmentgroup": "True",
           "hovertemplate": "Country=%{x}<br>Year=1969<br>Age dependency ratio (% of working-age population)=%{y}<extra></extra>",
           "ids": [
            "Sudan"
           ],
           "legendgroup": "Sudan",
           "marker": {
            "color": "#FF97FF",
            "pattern": {
             "shape": ""
            }
           },
           "name": "Sudan",
           "offsetgroup": "Sudan",
           "orientation": "v",
           "showlegend": true,
           "textposition": "auto",
           "type": "bar",
           "x": [
            "Sudan"
           ],
           "xaxis": "x",
           "y": [
            100.339436181522
           ],
           "yaxis": "y"
          },
          {
           "alignmentgroup": "True",
           "hovertemplate": "Country=%{x}<br>Year=1969<br>Age dependency ratio (% of working-age population)=%{y}<extra></extra>",
           "ids": [
            "Tanzania"
           ],
           "legendgroup": "Tanzania",
           "marker": {
            "color": "#FECB52",
            "pattern": {
             "shape": ""
            }
           },
           "name": "Tanzania",
           "offsetgroup": "Tanzania",
           "orientation": "v",
           "showlegend": true,
           "textposition": "auto",
           "type": "bar",
           "x": [
            "Tanzania"
           ],
           "xaxis": "x",
           "y": [
            94.43600811305352
           ],
           "yaxis": "y"
          },
          {
           "alignmentgroup": "True",
           "hovertemplate": "Country=%{x}<br>Year=1969<br>Age dependency ratio (% of working-age population)=%{y}<extra></extra>",
           "ids": [
            "Uganda"
           ],
           "legendgroup": "Uganda",
           "marker": {
            "color": "#636efa",
            "pattern": {
             "shape": ""
            }
           },
           "name": "Uganda",
           "offsetgroup": "Uganda",
           "orientation": "v",
           "showlegend": true,
           "textposition": "auto",
           "type": "bar",
           "x": [
            "Uganda"
           ],
           "xaxis": "x",
           "y": [
            96.59186640471512
           ],
           "yaxis": "y"
          }
         ],
         "name": "1969"
        },
        {
         "data": [
          {
           "alignmentgroup": "True",
           "hovertemplate": "Country=%{x}<br>Year=1970<br>Age dependency ratio (% of working-age population)=%{y}<extra></extra>",
           "ids": [
            "Burundi"
           ],
           "legendgroup": "Burundi",
           "marker": {
            "color": "#636efa",
            "pattern": {
             "shape": ""
            }
           },
           "name": "Burundi",
           "offsetgroup": "Burundi",
           "orientation": "v",
           "showlegend": true,
           "textposition": "auto",
           "type": "bar",
           "x": [
            "Burundi"
           ],
           "xaxis": "x",
           "y": [
            92.1169519723136
           ],
           "yaxis": "y"
          },
          {
           "alignmentgroup": "True",
           "hovertemplate": "Country=%{x}<br>Year=1970<br>Age dependency ratio (% of working-age population)=%{y}<extra></extra>",
           "ids": [
            "Djibouti"
           ],
           "legendgroup": "Djibouti",
           "marker": {
            "color": "#EF553B",
            "pattern": {
             "shape": ""
            }
           },
           "name": "Djibouti",
           "offsetgroup": "Djibouti",
           "orientation": "v",
           "showlegend": true,
           "textposition": "auto",
           "type": "bar",
           "x": [
            "Djibouti"
           ],
           "xaxis": "x",
           "y": [
            88.30242324647207
           ],
           "yaxis": "y"
          },
          {
           "alignmentgroup": "True",
           "hovertemplate": "Country=%{x}<br>Year=1970<br>Age dependency ratio (% of working-age population)=%{y}<extra></extra>",
           "ids": [
            "Eritrea"
           ],
           "legendgroup": "Eritrea",
           "marker": {
            "color": "#00cc96",
            "pattern": {
             "shape": ""
            }
           },
           "name": "Eritrea",
           "offsetgroup": "Eritrea",
           "orientation": "v",
           "showlegend": true,
           "textposition": "auto",
           "type": "bar",
           "x": [
            "Eritrea"
           ],
           "xaxis": "x",
           "y": [
            85.82257671255476
           ],
           "yaxis": "y"
          },
          {
           "alignmentgroup": "True",
           "hovertemplate": "Country=%{x}<br>Year=1970<br>Age dependency ratio (% of working-age population)=%{y}<extra></extra>",
           "ids": [
            "Ethiopia"
           ],
           "legendgroup": "Ethiopia",
           "marker": {
            "color": "#ab63fa",
            "pattern": {
             "shape": ""
            }
           },
           "name": "Ethiopia",
           "offsetgroup": "Ethiopia",
           "orientation": "v",
           "showlegend": true,
           "textposition": "auto",
           "type": "bar",
           "x": [
            "Ethiopia"
           ],
           "xaxis": "x",
           "y": [
            87.46198874866961
           ],
           "yaxis": "y"
          },
          {
           "alignmentgroup": "True",
           "hovertemplate": "Country=%{x}<br>Year=1970<br>Age dependency ratio (% of working-age population)=%{y}<extra></extra>",
           "ids": [
            "Kenya"
           ],
           "legendgroup": "Kenya",
           "marker": {
            "color": "#FFA15A",
            "pattern": {
             "shape": ""
            }
           },
           "name": "Kenya",
           "offsetgroup": "Kenya",
           "orientation": "v",
           "showlegend": true,
           "textposition": "auto",
           "type": "bar",
           "x": [
            "Kenya"
           ],
           "xaxis": "x",
           "y": [
            117.04911519994552
           ],
           "yaxis": "y"
          },
          {
           "alignmentgroup": "True",
           "hovertemplate": "Country=%{x}<br>Year=1970<br>Age dependency ratio (% of working-age population)=%{y}<extra></extra>",
           "ids": [
            "Rwanda"
           ],
           "legendgroup": "Rwanda",
           "marker": {
            "color": "#19d3f3",
            "pattern": {
             "shape": ""
            }
           },
           "name": "Rwanda",
           "offsetgroup": "Rwanda",
           "orientation": "v",
           "showlegend": true,
           "textposition": "auto",
           "type": "bar",
           "x": [
            "Rwanda"
           ],
           "xaxis": "x",
           "y": [
            102.85453378308377
           ],
           "yaxis": "y"
          },
          {
           "alignmentgroup": "True",
           "hovertemplate": "Country=%{x}<br>Year=1970<br>Age dependency ratio (% of working-age population)=%{y}<extra></extra>",
           "ids": [
            "Somalia"
           ],
           "legendgroup": "Somalia",
           "marker": {
            "color": "#FF6692",
            "pattern": {
             "shape": ""
            }
           },
           "name": "Somalia",
           "offsetgroup": "Somalia",
           "orientation": "v",
           "showlegend": true,
           "textposition": "auto",
           "type": "bar",
           "x": [
            "Somalia"
           ],
           "xaxis": "x",
           "y": [
            91.35975290217038
           ],
           "yaxis": "y"
          },
          {
           "alignmentgroup": "True",
           "hovertemplate": "Country=%{x}<br>Year=1970<br>Age dependency ratio (% of working-age population)=%{y}<extra></extra>",
           "ids": [
            "South Sudan"
           ],
           "legendgroup": "South Sudan",
           "marker": {
            "color": "#B6E880",
            "pattern": {
             "shape": ""
            }
           },
           "name": "South Sudan",
           "offsetgroup": "South Sudan",
           "orientation": "v",
           "showlegend": true,
           "textposition": "auto",
           "type": "bar",
           "x": [
            "South Sudan"
           ],
           "xaxis": "x",
           "y": [
            85.08801123460489
           ],
           "yaxis": "y"
          },
          {
           "alignmentgroup": "True",
           "hovertemplate": "Country=%{x}<br>Year=1970<br>Age dependency ratio (% of working-age population)=%{y}<extra></extra>",
           "ids": [
            "Sudan"
           ],
           "legendgroup": "Sudan",
           "marker": {
            "color": "#FF97FF",
            "pattern": {
             "shape": ""
            }
           },
           "name": "Sudan",
           "offsetgroup": "Sudan",
           "orientation": "v",
           "showlegend": true,
           "textposition": "auto",
           "type": "bar",
           "x": [
            "Sudan"
           ],
           "xaxis": "x",
           "y": [
            100.69187284621869
           ],
           "yaxis": "y"
          },
          {
           "alignmentgroup": "True",
           "hovertemplate": "Country=%{x}<br>Year=1970<br>Age dependency ratio (% of working-age population)=%{y}<extra></extra>",
           "ids": [
            "Tanzania"
           ],
           "legendgroup": "Tanzania",
           "marker": {
            "color": "#FECB52",
            "pattern": {
             "shape": ""
            }
           },
           "name": "Tanzania",
           "offsetgroup": "Tanzania",
           "orientation": "v",
           "showlegend": true,
           "textposition": "auto",
           "type": "bar",
           "x": [
            "Tanzania"
           ],
           "xaxis": "x",
           "y": [
            94.54066739445769
           ],
           "yaxis": "y"
          },
          {
           "alignmentgroup": "True",
           "hovertemplate": "Country=%{x}<br>Year=1970<br>Age dependency ratio (% of working-age population)=%{y}<extra></extra>",
           "ids": [
            "Uganda"
           ],
           "legendgroup": "Uganda",
           "marker": {
            "color": "#636efa",
            "pattern": {
             "shape": ""
            }
           },
           "name": "Uganda",
           "offsetgroup": "Uganda",
           "orientation": "v",
           "showlegend": true,
           "textposition": "auto",
           "type": "bar",
           "x": [
            "Uganda"
           ],
           "xaxis": "x",
           "y": [
            96.98950365464668
           ],
           "yaxis": "y"
          }
         ],
         "name": "1970"
        },
        {
         "data": [
          {
           "alignmentgroup": "True",
           "hovertemplate": "Country=%{x}<br>Year=1971<br>Age dependency ratio (% of working-age population)=%{y}<extra></extra>",
           "ids": [
            "Burundi"
           ],
           "legendgroup": "Burundi",
           "marker": {
            "color": "#636efa",
            "pattern": {
             "shape": ""
            }
           },
           "name": "Burundi",
           "offsetgroup": "Burundi",
           "orientation": "v",
           "showlegend": true,
           "textposition": "auto",
           "type": "bar",
           "x": [
            "Burundi"
           ],
           "xaxis": "x",
           "y": [
            92.03844124875089
           ],
           "yaxis": "y"
          },
          {
           "alignmentgroup": "True",
           "hovertemplate": "Country=%{x}<br>Year=1971<br>Age dependency ratio (% of working-age population)=%{y}<extra></extra>",
           "ids": [
            "Djibouti"
           ],
           "legendgroup": "Djibouti",
           "marker": {
            "color": "#EF553B",
            "pattern": {
             "shape": ""
            }
           },
           "name": "Djibouti",
           "offsetgroup": "Djibouti",
           "orientation": "v",
           "showlegend": true,
           "textposition": "auto",
           "type": "bar",
           "x": [
            "Djibouti"
           ],
           "xaxis": "x",
           "y": [
            88.9549130115168
           ],
           "yaxis": "y"
          },
          {
           "alignmentgroup": "True",
           "hovertemplate": "Country=%{x}<br>Year=1971<br>Age dependency ratio (% of working-age population)=%{y}<extra></extra>",
           "ids": [
            "Eritrea"
           ],
           "legendgroup": "Eritrea",
           "marker": {
            "color": "#00cc96",
            "pattern": {
             "shape": ""
            }
           },
           "name": "Eritrea",
           "offsetgroup": "Eritrea",
           "orientation": "v",
           "showlegend": true,
           "textposition": "auto",
           "type": "bar",
           "x": [
            "Eritrea"
           ],
           "xaxis": "x",
           "y": [
            86.4716630977873
           ],
           "yaxis": "y"
          },
          {
           "alignmentgroup": "True",
           "hovertemplate": "Country=%{x}<br>Year=1971<br>Age dependency ratio (% of working-age population)=%{y}<extra></extra>",
           "ids": [
            "Ethiopia"
           ],
           "legendgroup": "Ethiopia",
           "marker": {
            "color": "#ab63fa",
            "pattern": {
             "shape": ""
            }
           },
           "name": "Ethiopia",
           "offsetgroup": "Ethiopia",
           "orientation": "v",
           "showlegend": true,
           "textposition": "auto",
           "type": "bar",
           "x": [
            "Ethiopia"
           ],
           "xaxis": "x",
           "y": [
            88.66571347009649
           ],
           "yaxis": "y"
          },
          {
           "alignmentgroup": "True",
           "hovertemplate": "Country=%{x}<br>Year=1971<br>Age dependency ratio (% of working-age population)=%{y}<extra></extra>",
           "ids": [
            "Kenya"
           ],
           "legendgroup": "Kenya",
           "marker": {
            "color": "#FFA15A",
            "pattern": {
             "shape": ""
            }
           },
           "name": "Kenya",
           "offsetgroup": "Kenya",
           "orientation": "v",
           "showlegend": true,
           "textposition": "auto",
           "type": "bar",
           "x": [
            "Kenya"
           ],
           "xaxis": "x",
           "y": [
            117.66087772239408
           ],
           "yaxis": "y"
          },
          {
           "alignmentgroup": "True",
           "hovertemplate": "Country=%{x}<br>Year=1971<br>Age dependency ratio (% of working-age population)=%{y}<extra></extra>",
           "ids": [
            "Rwanda"
           ],
           "legendgroup": "Rwanda",
           "marker": {
            "color": "#19d3f3",
            "pattern": {
             "shape": ""
            }
           },
           "name": "Rwanda",
           "offsetgroup": "Rwanda",
           "orientation": "v",
           "showlegend": true,
           "textposition": "auto",
           "type": "bar",
           "x": [
            "Rwanda"
           ],
           "xaxis": "x",
           "y": [
            101.56557776987997
           ],
           "yaxis": "y"
          },
          {
           "alignmentgroup": "True",
           "hovertemplate": "Country=%{x}<br>Year=1971<br>Age dependency ratio (% of working-age population)=%{y}<extra></extra>",
           "ids": [
            "Somalia"
           ],
           "legendgroup": "Somalia",
           "marker": {
            "color": "#FF6692",
            "pattern": {
             "shape": ""
            }
           },
           "name": "Somalia",
           "offsetgroup": "Somalia",
           "orientation": "v",
           "showlegend": true,
           "textposition": "auto",
           "type": "bar",
           "x": [
            "Somalia"
           ],
           "xaxis": "x",
           "y": [
            91.1467735137078
           ],
           "yaxis": "y"
          },
          {
           "alignmentgroup": "True",
           "hovertemplate": "Country=%{x}<br>Year=1971<br>Age dependency ratio (% of working-age population)=%{y}<extra></extra>",
           "ids": [
            "South Sudan"
           ],
           "legendgroup": "South Sudan",
           "marker": {
            "color": "#B6E880",
            "pattern": {
             "shape": ""
            }
           },
           "name": "South Sudan",
           "offsetgroup": "South Sudan",
           "orientation": "v",
           "showlegend": true,
           "textposition": "auto",
           "type": "bar",
           "x": [
            "South Sudan"
           ],
           "xaxis": "x",
           "y": [
            85.65581946484174
           ],
           "yaxis": "y"
          },
          {
           "alignmentgroup": "True",
           "hovertemplate": "Country=%{x}<br>Year=1971<br>Age dependency ratio (% of working-age population)=%{y}<extra></extra>",
           "ids": [
            "Sudan"
           ],
           "legendgroup": "Sudan",
           "marker": {
            "color": "#FF97FF",
            "pattern": {
             "shape": ""
            }
           },
           "name": "Sudan",
           "offsetgroup": "Sudan",
           "orientation": "v",
           "showlegend": true,
           "textposition": "auto",
           "type": "bar",
           "x": [
            "Sudan"
           ],
           "xaxis": "x",
           "y": [
            101.0515087493922
           ],
           "yaxis": "y"
          },
          {
           "alignmentgroup": "True",
           "hovertemplate": "Country=%{x}<br>Year=1971<br>Age dependency ratio (% of working-age population)=%{y}<extra></extra>",
           "ids": [
            "Tanzania"
           ],
           "legendgroup": "Tanzania",
           "marker": {
            "color": "#FECB52",
            "pattern": {
             "shape": ""
            }
           },
           "name": "Tanzania",
           "offsetgroup": "Tanzania",
           "orientation": "v",
           "showlegend": true,
           "textposition": "auto",
           "type": "bar",
           "x": [
            "Tanzania"
           ],
           "xaxis": "x",
           "y": [
            94.70003300675208
           ],
           "yaxis": "y"
          },
          {
           "alignmentgroup": "True",
           "hovertemplate": "Country=%{x}<br>Year=1971<br>Age dependency ratio (% of working-age population)=%{y}<extra></extra>",
           "ids": [
            "Uganda"
           ],
           "legendgroup": "Uganda",
           "marker": {
            "color": "#636efa",
            "pattern": {
             "shape": ""
            }
           },
           "name": "Uganda",
           "offsetgroup": "Uganda",
           "orientation": "v",
           "showlegend": true,
           "textposition": "auto",
           "type": "bar",
           "x": [
            "Uganda"
           ],
           "xaxis": "x",
           "y": [
            97.62544283275956
           ],
           "yaxis": "y"
          }
         ],
         "name": "1971"
        },
        {
         "data": [
          {
           "alignmentgroup": "True",
           "hovertemplate": "Country=%{x}<br>Year=1972<br>Age dependency ratio (% of working-age population)=%{y}<extra></extra>",
           "ids": [
            "Burundi"
           ],
           "legendgroup": "Burundi",
           "marker": {
            "color": "#636efa",
            "pattern": {
             "shape": ""
            }
           },
           "name": "Burundi",
           "offsetgroup": "Burundi",
           "orientation": "v",
           "showlegend": true,
           "textposition": "auto",
           "type": "bar",
           "x": [
            "Burundi"
           ],
           "xaxis": "x",
           "y": [
            94.3117374399154
           ],
           "yaxis": "y"
          },
          {
           "alignmentgroup": "True",
           "hovertemplate": "Country=%{x}<br>Year=1972<br>Age dependency ratio (% of working-age population)=%{y}<extra></extra>",
           "ids": [
            "Djibouti"
           ],
           "legendgroup": "Djibouti",
           "marker": {
            "color": "#EF553B",
            "pattern": {
             "shape": ""
            }
           },
           "name": "Djibouti",
           "offsetgroup": "Djibouti",
           "orientation": "v",
           "showlegend": true,
           "textposition": "auto",
           "type": "bar",
           "x": [
            "Djibouti"
           ],
           "xaxis": "x",
           "y": [
            89.57984350260446
           ],
           "yaxis": "y"
          },
          {
           "alignmentgroup": "True",
           "hovertemplate": "Country=%{x}<br>Year=1972<br>Age dependency ratio (% of working-age population)=%{y}<extra></extra>",
           "ids": [
            "Eritrea"
           ],
           "legendgroup": "Eritrea",
           "marker": {
            "color": "#00cc96",
            "pattern": {
             "shape": ""
            }
           },
           "name": "Eritrea",
           "offsetgroup": "Eritrea",
           "orientation": "v",
           "showlegend": true,
           "textposition": "auto",
           "type": "bar",
           "x": [
            "Eritrea"
           ],
           "xaxis": "x",
           "y": [
            87.00043513187843
           ],
           "yaxis": "y"
          },
          {
           "alignmentgroup": "True",
           "hovertemplate": "Country=%{x}<br>Year=1972<br>Age dependency ratio (% of working-age population)=%{y}<extra></extra>",
           "ids": [
            "Ethiopia"
           ],
           "legendgroup": "Ethiopia",
           "marker": {
            "color": "#ab63fa",
            "pattern": {
             "shape": ""
            }
           },
           "name": "Ethiopia",
           "offsetgroup": "Ethiopia",
           "orientation": "v",
           "showlegend": true,
           "textposition": "auto",
           "type": "bar",
           "x": [
            "Ethiopia"
           ],
           "xaxis": "x",
           "y": [
            89.90215803516344
           ],
           "yaxis": "y"
          },
          {
           "alignmentgroup": "True",
           "hovertemplate": "Country=%{x}<br>Year=1972<br>Age dependency ratio (% of working-age population)=%{y}<extra></extra>",
           "ids": [
            "Kenya"
           ],
           "legendgroup": "Kenya",
           "marker": {
            "color": "#FFA15A",
            "pattern": {
             "shape": ""
            }
           },
           "name": "Kenya",
           "offsetgroup": "Kenya",
           "orientation": "v",
           "showlegend": true,
           "textposition": "auto",
           "type": "bar",
           "x": [
            "Kenya"
           ],
           "xaxis": "x",
           "y": [
            118.20798183917329
           ],
           "yaxis": "y"
          },
          {
           "alignmentgroup": "True",
           "hovertemplate": "Country=%{x}<br>Year=1972<br>Age dependency ratio (% of working-age population)=%{y}<extra></extra>",
           "ids": [
            "Rwanda"
           ],
           "legendgroup": "Rwanda",
           "marker": {
            "color": "#19d3f3",
            "pattern": {
             "shape": ""
            }
           },
           "name": "Rwanda",
           "offsetgroup": "Rwanda",
           "orientation": "v",
           "showlegend": true,
           "textposition": "auto",
           "type": "bar",
           "x": [
            "Rwanda"
           ],
           "xaxis": "x",
           "y": [
            100.41623556151092
           ],
           "yaxis": "y"
          },
          {
           "alignmentgroup": "True",
           "hovertemplate": "Country=%{x}<br>Year=1972<br>Age dependency ratio (% of working-age population)=%{y}<extra></extra>",
           "ids": [
            "Somalia"
           ],
           "legendgroup": "Somalia",
           "marker": {
            "color": "#FF6692",
            "pattern": {
             "shape": ""
            }
           },
           "name": "Somalia",
           "offsetgroup": "Somalia",
           "orientation": "v",
           "showlegend": true,
           "textposition": "auto",
           "type": "bar",
           "x": [
            "Somalia"
           ],
           "xaxis": "x",
           "y": [
            90.9792917491614
           ],
           "yaxis": "y"
          },
          {
           "alignmentgroup": "True",
           "hovertemplate": "Country=%{x}<br>Year=1972<br>Age dependency ratio (% of working-age population)=%{y}<extra></extra>",
           "ids": [
            "South Sudan"
           ],
           "legendgroup": "South Sudan",
           "marker": {
            "color": "#B6E880",
            "pattern": {
             "shape": ""
            }
           },
           "name": "South Sudan",
           "offsetgroup": "South Sudan",
           "orientation": "v",
           "showlegend": true,
           "textposition": "auto",
           "type": "bar",
           "x": [
            "South Sudan"
           ],
           "xaxis": "x",
           "y": [
            86.17060433316158
           ],
           "yaxis": "y"
          },
          {
           "alignmentgroup": "True",
           "hovertemplate": "Country=%{x}<br>Year=1972<br>Age dependency ratio (% of working-age population)=%{y}<extra></extra>",
           "ids": [
            "Sudan"
           ],
           "legendgroup": "Sudan",
           "marker": {
            "color": "#FF97FF",
            "pattern": {
             "shape": ""
            }
           },
           "name": "Sudan",
           "offsetgroup": "Sudan",
           "orientation": "v",
           "showlegend": true,
           "textposition": "auto",
           "type": "bar",
           "x": [
            "Sudan"
           ],
           "xaxis": "x",
           "y": [
            101.36533665210696
           ],
           "yaxis": "y"
          },
          {
           "alignmentgroup": "True",
           "hovertemplate": "Country=%{x}<br>Year=1972<br>Age dependency ratio (% of working-age population)=%{y}<extra></extra>",
           "ids": [
            "Tanzania"
           ],
           "legendgroup": "Tanzania",
           "marker": {
            "color": "#FECB52",
            "pattern": {
             "shape": ""
            }
           },
           "name": "Tanzania",
           "offsetgroup": "Tanzania",
           "orientation": "v",
           "showlegend": true,
           "textposition": "auto",
           "type": "bar",
           "x": [
            "Tanzania"
           ],
           "xaxis": "x",
           "y": [
            94.81262645697048
           ],
           "yaxis": "y"
          },
          {
           "alignmentgroup": "True",
           "hovertemplate": "Country=%{x}<br>Year=1972<br>Age dependency ratio (% of working-age population)=%{y}<extra></extra>",
           "ids": [
            "Uganda"
           ],
           "legendgroup": "Uganda",
           "marker": {
            "color": "#636efa",
            "pattern": {
             "shape": ""
            }
           },
           "name": "Uganda",
           "offsetgroup": "Uganda",
           "orientation": "v",
           "showlegend": true,
           "textposition": "auto",
           "type": "bar",
           "x": [
            "Uganda"
           ],
           "xaxis": "x",
           "y": [
            98.65550846792604
           ],
           "yaxis": "y"
          }
         ],
         "name": "1972"
        },
        {
         "data": [
          {
           "alignmentgroup": "True",
           "hovertemplate": "Country=%{x}<br>Year=1973<br>Age dependency ratio (% of working-age population)=%{y}<extra></extra>",
           "ids": [
            "Burundi"
           ],
           "legendgroup": "Burundi",
           "marker": {
            "color": "#636efa",
            "pattern": {
             "shape": ""
            }
           },
           "name": "Burundi",
           "offsetgroup": "Burundi",
           "orientation": "v",
           "showlegend": true,
           "textposition": "auto",
           "type": "bar",
           "x": [
            "Burundi"
           ],
           "xaxis": "x",
           "y": [
            96.34301547291484
           ],
           "yaxis": "y"
          },
          {
           "alignmentgroup": "True",
           "hovertemplate": "Country=%{x}<br>Year=1973<br>Age dependency ratio (% of working-age population)=%{y}<extra></extra>",
           "ids": [
            "Djibouti"
           ],
           "legendgroup": "Djibouti",
           "marker": {
            "color": "#EF553B",
            "pattern": {
             "shape": ""
            }
           },
           "name": "Djibouti",
           "offsetgroup": "Djibouti",
           "orientation": "v",
           "showlegend": true,
           "textposition": "auto",
           "type": "bar",
           "x": [
            "Djibouti"
           ],
           "xaxis": "x",
           "y": [
            90.16708133150308
           ],
           "yaxis": "y"
          },
          {
           "alignmentgroup": "True",
           "hovertemplate": "Country=%{x}<br>Year=1973<br>Age dependency ratio (% of working-age population)=%{y}<extra></extra>",
           "ids": [
            "Eritrea"
           ],
           "legendgroup": "Eritrea",
           "marker": {
            "color": "#00cc96",
            "pattern": {
             "shape": ""
            }
           },
           "name": "Eritrea",
           "offsetgroup": "Eritrea",
           "orientation": "v",
           "showlegend": true,
           "textposition": "auto",
           "type": "bar",
           "x": [
            "Eritrea"
           ],
           "xaxis": "x",
           "y": [
            87.42873637872556
           ],
           "yaxis": "y"
          },
          {
           "alignmentgroup": "True",
           "hovertemplate": "Country=%{x}<br>Year=1973<br>Age dependency ratio (% of working-age population)=%{y}<extra></extra>",
           "ids": [
            "Ethiopia"
           ],
           "legendgroup": "Ethiopia",
           "marker": {
            "color": "#ab63fa",
            "pattern": {
             "shape": ""
            }
           },
           "name": "Ethiopia",
           "offsetgroup": "Ethiopia",
           "orientation": "v",
           "showlegend": true,
           "textposition": "auto",
           "type": "bar",
           "x": [
            "Ethiopia"
           ],
           "xaxis": "x",
           "y": [
            90.89730136909284
           ],
           "yaxis": "y"
          },
          {
           "alignmentgroup": "True",
           "hovertemplate": "Country=%{x}<br>Year=1973<br>Age dependency ratio (% of working-age population)=%{y}<extra></extra>",
           "ids": [
            "Kenya"
           ],
           "legendgroup": "Kenya",
           "marker": {
            "color": "#FFA15A",
            "pattern": {
             "shape": ""
            }
           },
           "name": "Kenya",
           "offsetgroup": "Kenya",
           "orientation": "v",
           "showlegend": true,
           "textposition": "auto",
           "type": "bar",
           "x": [
            "Kenya"
           ],
           "xaxis": "x",
           "y": [
            118.43620050848142
           ],
           "yaxis": "y"
          },
          {
           "alignmentgroup": "True",
           "hovertemplate": "Country=%{x}<br>Year=1973<br>Age dependency ratio (% of working-age population)=%{y}<extra></extra>",
           "ids": [
            "Rwanda"
           ],
           "legendgroup": "Rwanda",
           "marker": {
            "color": "#19d3f3",
            "pattern": {
             "shape": ""
            }
           },
           "name": "Rwanda",
           "offsetgroup": "Rwanda",
           "orientation": "v",
           "showlegend": true,
           "textposition": "auto",
           "type": "bar",
           "x": [
            "Rwanda"
           ],
           "xaxis": "x",
           "y": [
            99.33621423096038
           ],
           "yaxis": "y"
          },
          {
           "alignmentgroup": "True",
           "hovertemplate": "Country=%{x}<br>Year=1973<br>Age dependency ratio (% of working-age population)=%{y}<extra></extra>",
           "ids": [
            "Somalia"
           ],
           "legendgroup": "Somalia",
           "marker": {
            "color": "#FF6692",
            "pattern": {
             "shape": ""
            }
           },
           "name": "Somalia",
           "offsetgroup": "Somalia",
           "orientation": "v",
           "showlegend": true,
           "textposition": "auto",
           "type": "bar",
           "x": [
            "Somalia"
           ],
           "xaxis": "x",
           "y": [
            90.85332610852493
           ],
           "yaxis": "y"
          },
          {
           "alignmentgroup": "True",
           "hovertemplate": "Country=%{x}<br>Year=1973<br>Age dependency ratio (% of working-age population)=%{y}<extra></extra>",
           "ids": [
            "South Sudan"
           ],
           "legendgroup": "South Sudan",
           "marker": {
            "color": "#B6E880",
            "pattern": {
             "shape": ""
            }
           },
           "name": "South Sudan",
           "offsetgroup": "South Sudan",
           "orientation": "v",
           "showlegend": true,
           "textposition": "auto",
           "type": "bar",
           "x": [
            "South Sudan"
           ],
           "xaxis": "x",
           "y": [
            86.6266980304559
           ],
           "yaxis": "y"
          },
          {
           "alignmentgroup": "True",
           "hovertemplate": "Country=%{x}<br>Year=1973<br>Age dependency ratio (% of working-age population)=%{y}<extra></extra>",
           "ids": [
            "Sudan"
           ],
           "legendgroup": "Sudan",
           "marker": {
            "color": "#FF97FF",
            "pattern": {
             "shape": ""
            }
           },
           "name": "Sudan",
           "offsetgroup": "Sudan",
           "orientation": "v",
           "showlegend": true,
           "textposition": "auto",
           "type": "bar",
           "x": [
            "Sudan"
           ],
           "xaxis": "x",
           "y": [
            101.51415299546797
           ],
           "yaxis": "y"
          },
          {
           "alignmentgroup": "True",
           "hovertemplate": "Country=%{x}<br>Year=1973<br>Age dependency ratio (% of working-age population)=%{y}<extra></extra>",
           "ids": [
            "Tanzania"
           ],
           "legendgroup": "Tanzania",
           "marker": {
            "color": "#FECB52",
            "pattern": {
             "shape": ""
            }
           },
           "name": "Tanzania",
           "offsetgroup": "Tanzania",
           "orientation": "v",
           "showlegend": true,
           "textposition": "auto",
           "type": "bar",
           "x": [
            "Tanzania"
           ],
           "xaxis": "x",
           "y": [
            94.98597315876675
           ],
           "yaxis": "y"
          },
          {
           "alignmentgroup": "True",
           "hovertemplate": "Country=%{x}<br>Year=1973<br>Age dependency ratio (% of working-age population)=%{y}<extra></extra>",
           "ids": [
            "Uganda"
           ],
           "legendgroup": "Uganda",
           "marker": {
            "color": "#636efa",
            "pattern": {
             "shape": ""
            }
           },
           "name": "Uganda",
           "offsetgroup": "Uganda",
           "orientation": "v",
           "showlegend": true,
           "textposition": "auto",
           "type": "bar",
           "x": [
            "Uganda"
           ],
           "xaxis": "x",
           "y": [
            99.83860299977536
           ],
           "yaxis": "y"
          }
         ],
         "name": "1973"
        },
        {
         "data": [
          {
           "alignmentgroup": "True",
           "hovertemplate": "Country=%{x}<br>Year=1974<br>Age dependency ratio (% of working-age population)=%{y}<extra></extra>",
           "ids": [
            "Burundi"
           ],
           "legendgroup": "Burundi",
           "marker": {
            "color": "#636efa",
            "pattern": {
             "shape": ""
            }
           },
           "name": "Burundi",
           "offsetgroup": "Burundi",
           "orientation": "v",
           "showlegend": true,
           "textposition": "auto",
           "type": "bar",
           "x": [
            "Burundi"
           ],
           "xaxis": "x",
           "y": [
            95.50147559591372
           ],
           "yaxis": "y"
          },
          {
           "alignmentgroup": "True",
           "hovertemplate": "Country=%{x}<br>Year=1974<br>Age dependency ratio (% of working-age population)=%{y}<extra></extra>",
           "ids": [
            "Djibouti"
           ],
           "legendgroup": "Djibouti",
           "marker": {
            "color": "#EF553B",
            "pattern": {
             "shape": ""
            }
           },
           "name": "Djibouti",
           "offsetgroup": "Djibouti",
           "orientation": "v",
           "showlegend": true,
           "textposition": "auto",
           "type": "bar",
           "x": [
            "Djibouti"
           ],
           "xaxis": "x",
           "y": [
            90.67867532778064
           ],
           "yaxis": "y"
          },
          {
           "alignmentgroup": "True",
           "hovertemplate": "Country=%{x}<br>Year=1974<br>Age dependency ratio (% of working-age population)=%{y}<extra></extra>",
           "ids": [
            "Eritrea"
           ],
           "legendgroup": "Eritrea",
           "marker": {
            "color": "#00cc96",
            "pattern": {
             "shape": ""
            }
           },
           "name": "Eritrea",
           "offsetgroup": "Eritrea",
           "orientation": "v",
           "showlegend": true,
           "textposition": "auto",
           "type": "bar",
           "x": [
            "Eritrea"
           ],
           "xaxis": "x",
           "y": [
            87.81704975114461
           ],
           "yaxis": "y"
          },
          {
           "alignmentgroup": "True",
           "hovertemplate": "Country=%{x}<br>Year=1974<br>Age dependency ratio (% of working-age population)=%{y}<extra></extra>",
           "ids": [
            "Ethiopia"
           ],
           "legendgroup": "Ethiopia",
           "marker": {
            "color": "#ab63fa",
            "pattern": {
             "shape": ""
            }
           },
           "name": "Ethiopia",
           "offsetgroup": "Ethiopia",
           "orientation": "v",
           "showlegend": true,
           "textposition": "auto",
           "type": "bar",
           "x": [
            "Ethiopia"
           ],
           "xaxis": "x",
           "y": [
            91.50102426240578
           ],
           "yaxis": "y"
          },
          {
           "alignmentgroup": "True",
           "hovertemplate": "Country=%{x}<br>Year=1974<br>Age dependency ratio (% of working-age population)=%{y}<extra></extra>",
           "ids": [
            "Kenya"
           ],
           "legendgroup": "Kenya",
           "marker": {
            "color": "#FFA15A",
            "pattern": {
             "shape": ""
            }
           },
           "name": "Kenya",
           "offsetgroup": "Kenya",
           "orientation": "v",
           "showlegend": true,
           "textposition": "auto",
           "type": "bar",
           "x": [
            "Kenya"
           ],
           "xaxis": "x",
           "y": [
            118.57583827313178
           ],
           "yaxis": "y"
          },
          {
           "alignmentgroup": "True",
           "hovertemplate": "Country=%{x}<br>Year=1974<br>Age dependency ratio (% of working-age population)=%{y}<extra></extra>",
           "ids": [
            "Rwanda"
           ],
           "legendgroup": "Rwanda",
           "marker": {
            "color": "#19d3f3",
            "pattern": {
             "shape": ""
            }
           },
           "name": "Rwanda",
           "offsetgroup": "Rwanda",
           "orientation": "v",
           "showlegend": true,
           "textposition": "auto",
           "type": "bar",
           "x": [
            "Rwanda"
           ],
           "xaxis": "x",
           "y": [
            98.33365813427406
           ],
           "yaxis": "y"
          },
          {
           "alignmentgroup": "True",
           "hovertemplate": "Country=%{x}<br>Year=1974<br>Age dependency ratio (% of working-age population)=%{y}<extra></extra>",
           "ids": [
            "Somalia"
           ],
           "legendgroup": "Somalia",
           "marker": {
            "color": "#FF6692",
            "pattern": {
             "shape": ""
            }
           },
           "name": "Somalia",
           "offsetgroup": "Somalia",
           "orientation": "v",
           "showlegend": true,
           "textposition": "auto",
           "type": "bar",
           "x": [
            "Somalia"
           ],
           "xaxis": "x",
           "y": [
            90.65707887515816
           ],
           "yaxis": "y"
          },
          {
           "alignmentgroup": "True",
           "hovertemplate": "Country=%{x}<br>Year=1974<br>Age dependency ratio (% of working-age population)=%{y}<extra></extra>",
           "ids": [
            "South Sudan"
           ],
           "legendgroup": "South Sudan",
           "marker": {
            "color": "#B6E880",
            "pattern": {
             "shape": ""
            }
           },
           "name": "South Sudan",
           "offsetgroup": "South Sudan",
           "orientation": "v",
           "showlegend": true,
           "textposition": "auto",
           "type": "bar",
           "x": [
            "South Sudan"
           ],
           "xaxis": "x",
           "y": [
            87.03814495836535
           ],
           "yaxis": "y"
          },
          {
           "alignmentgroup": "True",
           "hovertemplate": "Country=%{x}<br>Year=1974<br>Age dependency ratio (% of working-age population)=%{y}<extra></extra>",
           "ids": [
            "Sudan"
           ],
           "legendgroup": "Sudan",
           "marker": {
            "color": "#FF97FF",
            "pattern": {
             "shape": ""
            }
           },
           "name": "Sudan",
           "offsetgroup": "Sudan",
           "orientation": "v",
           "showlegend": true,
           "textposition": "auto",
           "type": "bar",
           "x": [
            "Sudan"
           ],
           "xaxis": "x",
           "y": [
            101.25442901677498
           ],
           "yaxis": "y"
          },
          {
           "alignmentgroup": "True",
           "hovertemplate": "Country=%{x}<br>Year=1974<br>Age dependency ratio (% of working-age population)=%{y}<extra></extra>",
           "ids": [
            "Tanzania"
           ],
           "legendgroup": "Tanzania",
           "marker": {
            "color": "#FECB52",
            "pattern": {
             "shape": ""
            }
           },
           "name": "Tanzania",
           "offsetgroup": "Tanzania",
           "orientation": "v",
           "showlegend": true,
           "textposition": "auto",
           "type": "bar",
           "x": [
            "Tanzania"
           ],
           "xaxis": "x",
           "y": [
            95.33355295606336
           ],
           "yaxis": "y"
          },
          {
           "alignmentgroup": "True",
           "hovertemplate": "Country=%{x}<br>Year=1974<br>Age dependency ratio (% of working-age population)=%{y}<extra></extra>",
           "ids": [
            "Uganda"
           ],
           "legendgroup": "Uganda",
           "marker": {
            "color": "#636efa",
            "pattern": {
             "shape": ""
            }
           },
           "name": "Uganda",
           "offsetgroup": "Uganda",
           "orientation": "v",
           "showlegend": true,
           "textposition": "auto",
           "type": "bar",
           "x": [
            "Uganda"
           ],
           "xaxis": "x",
           "y": [
            100.69520930912115
           ],
           "yaxis": "y"
          }
         ],
         "name": "1974"
        },
        {
         "data": [
          {
           "alignmentgroup": "True",
           "hovertemplate": "Country=%{x}<br>Year=1975<br>Age dependency ratio (% of working-age population)=%{y}<extra></extra>",
           "ids": [
            "Burundi"
           ],
           "legendgroup": "Burundi",
           "marker": {
            "color": "#636efa",
            "pattern": {
             "shape": ""
            }
           },
           "name": "Burundi",
           "offsetgroup": "Burundi",
           "orientation": "v",
           "showlegend": true,
           "textposition": "auto",
           "type": "bar",
           "x": [
            "Burundi"
           ],
           "xaxis": "x",
           "y": [
            95.19625146427175
           ],
           "yaxis": "y"
          },
          {
           "alignmentgroup": "True",
           "hovertemplate": "Country=%{x}<br>Year=1975<br>Age dependency ratio (% of working-age population)=%{y}<extra></extra>",
           "ids": [
            "Djibouti"
           ],
           "legendgroup": "Djibouti",
           "marker": {
            "color": "#EF553B",
            "pattern": {
             "shape": ""
            }
           },
           "name": "Djibouti",
           "offsetgroup": "Djibouti",
           "orientation": "v",
           "showlegend": true,
           "textposition": "auto",
           "type": "bar",
           "x": [
            "Djibouti"
           ],
           "xaxis": "x",
           "y": [
            91.11858381132144
           ],
           "yaxis": "y"
          },
          {
           "alignmentgroup": "True",
           "hovertemplate": "Country=%{x}<br>Year=1975<br>Age dependency ratio (% of working-age population)=%{y}<extra></extra>",
           "ids": [
            "Eritrea"
           ],
           "legendgroup": "Eritrea",
           "marker": {
            "color": "#00cc96",
            "pattern": {
             "shape": ""
            }
           },
           "name": "Eritrea",
           "offsetgroup": "Eritrea",
           "orientation": "v",
           "showlegend": true,
           "textposition": "auto",
           "type": "bar",
           "x": [
            "Eritrea"
           ],
           "xaxis": "x",
           "y": [
            88.20894534954162
           ],
           "yaxis": "y"
          },
          {
           "alignmentgroup": "True",
           "hovertemplate": "Country=%{x}<br>Year=1975<br>Age dependency ratio (% of working-age population)=%{y}<extra></extra>",
           "ids": [
            "Ethiopia"
           ],
           "legendgroup": "Ethiopia",
           "marker": {
            "color": "#ab63fa",
            "pattern": {
             "shape": ""
            }
           },
           "name": "Ethiopia",
           "offsetgroup": "Ethiopia",
           "orientation": "v",
           "showlegend": true,
           "textposition": "auto",
           "type": "bar",
           "x": [
            "Ethiopia"
           ],
           "xaxis": "x",
           "y": [
            91.92299416414004
           ],
           "yaxis": "y"
          },
          {
           "alignmentgroup": "True",
           "hovertemplate": "Country=%{x}<br>Year=1975<br>Age dependency ratio (% of working-age population)=%{y}<extra></extra>",
           "ids": [
            "Kenya"
           ],
           "legendgroup": "Kenya",
           "marker": {
            "color": "#FFA15A",
            "pattern": {
             "shape": ""
            }
           },
           "name": "Kenya",
           "offsetgroup": "Kenya",
           "orientation": "v",
           "showlegend": true,
           "textposition": "auto",
           "type": "bar",
           "x": [
            "Kenya"
           ],
           "xaxis": "x",
           "y": [
            118.7189570630582
           ],
           "yaxis": "y"
          },
          {
           "alignmentgroup": "True",
           "hovertemplate": "Country=%{x}<br>Year=1975<br>Age dependency ratio (% of working-age population)=%{y}<extra></extra>",
           "ids": [
            "Rwanda"
           ],
           "legendgroup": "Rwanda",
           "marker": {
            "color": "#19d3f3",
            "pattern": {
             "shape": ""
            }
           },
           "name": "Rwanda",
           "offsetgroup": "Rwanda",
           "orientation": "v",
           "showlegend": true,
           "textposition": "auto",
           "type": "bar",
           "x": [
            "Rwanda"
           ],
           "xaxis": "x",
           "y": [
            97.41087505918055
           ],
           "yaxis": "y"
          },
          {
           "alignmentgroup": "True",
           "hovertemplate": "Country=%{x}<br>Year=1975<br>Age dependency ratio (% of working-age population)=%{y}<extra></extra>",
           "ids": [
            "Somalia"
           ],
           "legendgroup": "Somalia",
           "marker": {
            "color": "#FF6692",
            "pattern": {
             "shape": ""
            }
           },
           "name": "Somalia",
           "offsetgroup": "Somalia",
           "orientation": "v",
           "showlegend": true,
           "textposition": "auto",
           "type": "bar",
           "x": [
            "Somalia"
           ],
           "xaxis": "x",
           "y": [
            90.41372073962658
           ],
           "yaxis": "y"
          },
          {
           "alignmentgroup": "True",
           "hovertemplate": "Country=%{x}<br>Year=1975<br>Age dependency ratio (% of working-age population)=%{y}<extra></extra>",
           "ids": [
            "South Sudan"
           ],
           "legendgroup": "South Sudan",
           "marker": {
            "color": "#B6E880",
            "pattern": {
             "shape": ""
            }
           },
           "name": "South Sudan",
           "offsetgroup": "South Sudan",
           "orientation": "v",
           "showlegend": true,
           "textposition": "auto",
           "type": "bar",
           "x": [
            "South Sudan"
           ],
           "xaxis": "x",
           "y": [
            87.42704856304951
           ],
           "yaxis": "y"
          },
          {
           "alignmentgroup": "True",
           "hovertemplate": "Country=%{x}<br>Year=1975<br>Age dependency ratio (% of working-age population)=%{y}<extra></extra>",
           "ids": [
            "Sudan"
           ],
           "legendgroup": "Sudan",
           "marker": {
            "color": "#FF97FF",
            "pattern": {
             "shape": ""
            }
           },
           "name": "Sudan",
           "offsetgroup": "Sudan",
           "orientation": "v",
           "showlegend": true,
           "textposition": "auto",
           "type": "bar",
           "x": [
            "Sudan"
           ],
           "xaxis": "x",
           "y": [
            100.7262706166675
           ],
           "yaxis": "y"
          },
          {
           "alignmentgroup": "True",
           "hovertemplate": "Country=%{x}<br>Year=1975<br>Age dependency ratio (% of working-age population)=%{y}<extra></extra>",
           "ids": [
            "Tanzania"
           ],
           "legendgroup": "Tanzania",
           "marker": {
            "color": "#FECB52",
            "pattern": {
             "shape": ""
            }
           },
           "name": "Tanzania",
           "offsetgroup": "Tanzania",
           "orientation": "v",
           "showlegend": true,
           "textposition": "auto",
           "type": "bar",
           "x": [
            "Tanzania"
           ],
           "xaxis": "x",
           "y": [
            95.75391189654
           ],
           "yaxis": "y"
          },
          {
           "alignmentgroup": "True",
           "hovertemplate": "Country=%{x}<br>Year=1975<br>Age dependency ratio (% of working-age population)=%{y}<extra></extra>",
           "ids": [
            "Uganda"
           ],
           "legendgroup": "Uganda",
           "marker": {
            "color": "#636efa",
            "pattern": {
             "shape": ""
            }
           },
           "name": "Uganda",
           "offsetgroup": "Uganda",
           "orientation": "v",
           "showlegend": true,
           "textposition": "auto",
           "type": "bar",
           "x": [
            "Uganda"
           ],
           "xaxis": "x",
           "y": [
            101.33621050665988
           ],
           "yaxis": "y"
          }
         ],
         "name": "1975"
        },
        {
         "data": [
          {
           "alignmentgroup": "True",
           "hovertemplate": "Country=%{x}<br>Year=1976<br>Age dependency ratio (% of working-age population)=%{y}<extra></extra>",
           "ids": [
            "Burundi"
           ],
           "legendgroup": "Burundi",
           "marker": {
            "color": "#636efa",
            "pattern": {
             "shape": ""
            }
           },
           "name": "Burundi",
           "offsetgroup": "Burundi",
           "orientation": "v",
           "showlegend": true,
           "textposition": "auto",
           "type": "bar",
           "x": [
            "Burundi"
           ],
           "xaxis": "x",
           "y": [
            95.3974445095618
           ],
           "yaxis": "y"
          },
          {
           "alignmentgroup": "True",
           "hovertemplate": "Country=%{x}<br>Year=1976<br>Age dependency ratio (% of working-age population)=%{y}<extra></extra>",
           "ids": [
            "Djibouti"
           ],
           "legendgroup": "Djibouti",
           "marker": {
            "color": "#EF553B",
            "pattern": {
             "shape": ""
            }
           },
           "name": "Djibouti",
           "offsetgroup": "Djibouti",
           "orientation": "v",
           "showlegend": true,
           "textposition": "auto",
           "type": "bar",
           "x": [
            "Djibouti"
           ],
           "xaxis": "x",
           "y": [
            91.46321098159714
           ],
           "yaxis": "y"
          },
          {
           "alignmentgroup": "True",
           "hovertemplate": "Country=%{x}<br>Year=1976<br>Age dependency ratio (% of working-age population)=%{y}<extra></extra>",
           "ids": [
            "Eritrea"
           ],
           "legendgroup": "Eritrea",
           "marker": {
            "color": "#00cc96",
            "pattern": {
             "shape": ""
            }
           },
           "name": "Eritrea",
           "offsetgroup": "Eritrea",
           "orientation": "v",
           "showlegend": true,
           "textposition": "auto",
           "type": "bar",
           "x": [
            "Eritrea"
           ],
           "xaxis": "x",
           "y": [
            88.58637789005542
           ],
           "yaxis": "y"
          },
          {
           "alignmentgroup": "True",
           "hovertemplate": "Country=%{x}<br>Year=1976<br>Age dependency ratio (% of working-age population)=%{y}<extra></extra>",
           "ids": [
            "Ethiopia"
           ],
           "legendgroup": "Ethiopia",
           "marker": {
            "color": "#ab63fa",
            "pattern": {
             "shape": ""
            }
           },
           "name": "Ethiopia",
           "offsetgroup": "Ethiopia",
           "orientation": "v",
           "showlegend": true,
           "textposition": "auto",
           "type": "bar",
           "x": [
            "Ethiopia"
           ],
           "xaxis": "x",
           "y": [
            92.51846882964657
           ],
           "yaxis": "y"
          },
          {
           "alignmentgroup": "True",
           "hovertemplate": "Country=%{x}<br>Year=1976<br>Age dependency ratio (% of working-age population)=%{y}<extra></extra>",
           "ids": [
            "Kenya"
           ],
           "legendgroup": "Kenya",
           "marker": {
            "color": "#FFA15A",
            "pattern": {
             "shape": ""
            }
           },
           "name": "Kenya",
           "offsetgroup": "Kenya",
           "orientation": "v",
           "showlegend": true,
           "textposition": "auto",
           "type": "bar",
           "x": [
            "Kenya"
           ],
           "xaxis": "x",
           "y": [
            118.87154632400724
           ],
           "yaxis": "y"
          },
          {
           "alignmentgroup": "True",
           "hovertemplate": "Country=%{x}<br>Year=1976<br>Age dependency ratio (% of working-age population)=%{y}<extra></extra>",
           "ids": [
            "Rwanda"
           ],
           "legendgroup": "Rwanda",
           "marker": {
            "color": "#19d3f3",
            "pattern": {
             "shape": ""
            }
           },
           "name": "Rwanda",
           "offsetgroup": "Rwanda",
           "orientation": "v",
           "showlegend": true,
           "textposition": "auto",
           "type": "bar",
           "x": [
            "Rwanda"
           ],
           "xaxis": "x",
           "y": [
            96.66209726893868
           ],
           "yaxis": "y"
          },
          {
           "alignmentgroup": "True",
           "hovertemplate": "Country=%{x}<br>Year=1976<br>Age dependency ratio (% of working-age population)=%{y}<extra></extra>",
           "ids": [
            "Somalia"
           ],
           "legendgroup": "Somalia",
           "marker": {
            "color": "#FF6692",
            "pattern": {
             "shape": ""
            }
           },
           "name": "Somalia",
           "offsetgroup": "Somalia",
           "orientation": "v",
           "showlegend": true,
           "textposition": "auto",
           "type": "bar",
           "x": [
            "Somalia"
           ],
           "xaxis": "x",
           "y": [
            90.25802041668368
           ],
           "yaxis": "y"
          },
          {
           "alignmentgroup": "True",
           "hovertemplate": "Country=%{x}<br>Year=1976<br>Age dependency ratio (% of working-age population)=%{y}<extra></extra>",
           "ids": [
            "South Sudan"
           ],
           "legendgroup": "South Sudan",
           "marker": {
            "color": "#B6E880",
            "pattern": {
             "shape": ""
            }
           },
           "name": "South Sudan",
           "offsetgroup": "South Sudan",
           "orientation": "v",
           "showlegend": true,
           "textposition": "auto",
           "type": "bar",
           "x": [
            "South Sudan"
           ],
           "xaxis": "x",
           "y": [
            87.8097274437944
           ],
           "yaxis": "y"
          },
          {
           "alignmentgroup": "True",
           "hovertemplate": "Country=%{x}<br>Year=1976<br>Age dependency ratio (% of working-age population)=%{y}<extra></extra>",
           "ids": [
            "Sudan"
           ],
           "legendgroup": "Sudan",
           "marker": {
            "color": "#FF97FF",
            "pattern": {
             "shape": ""
            }
           },
           "name": "Sudan",
           "offsetgroup": "Sudan",
           "orientation": "v",
           "showlegend": true,
           "textposition": "auto",
           "type": "bar",
           "x": [
            "Sudan"
           ],
           "xaxis": "x",
           "y": [
            100.28989762522882
           ],
           "yaxis": "y"
          },
          {
           "alignmentgroup": "True",
           "hovertemplate": "Country=%{x}<br>Year=1976<br>Age dependency ratio (% of working-age population)=%{y}<extra></extra>",
           "ids": [
            "Tanzania"
           ],
           "legendgroup": "Tanzania",
           "marker": {
            "color": "#FECB52",
            "pattern": {
             "shape": ""
            }
           },
           "name": "Tanzania",
           "offsetgroup": "Tanzania",
           "orientation": "v",
           "showlegend": true,
           "textposition": "auto",
           "type": "bar",
           "x": [
            "Tanzania"
           ],
           "xaxis": "x",
           "y": [
            96.1917368382604
           ],
           "yaxis": "y"
          },
          {
           "alignmentgroup": "True",
           "hovertemplate": "Country=%{x}<br>Year=1976<br>Age dependency ratio (% of working-age population)=%{y}<extra></extra>",
           "ids": [
            "Uganda"
           ],
           "legendgroup": "Uganda",
           "marker": {
            "color": "#636efa",
            "pattern": {
             "shape": ""
            }
           },
           "name": "Uganda",
           "offsetgroup": "Uganda",
           "orientation": "v",
           "showlegend": true,
           "textposition": "auto",
           "type": "bar",
           "x": [
            "Uganda"
           ],
           "xaxis": "x",
           "y": [
            101.8997325654192
           ],
           "yaxis": "y"
          }
         ],
         "name": "1976"
        },
        {
         "data": [
          {
           "alignmentgroup": "True",
           "hovertemplate": "Country=%{x}<br>Year=1977<br>Age dependency ratio (% of working-age population)=%{y}<extra></extra>",
           "ids": [
            "Burundi"
           ],
           "legendgroup": "Burundi",
           "marker": {
            "color": "#636efa",
            "pattern": {
             "shape": ""
            }
           },
           "name": "Burundi",
           "offsetgroup": "Burundi",
           "orientation": "v",
           "showlegend": true,
           "textposition": "auto",
           "type": "bar",
           "x": [
            "Burundi"
           ],
           "xaxis": "x",
           "y": [
            95.18104083196584
           ],
           "yaxis": "y"
          },
          {
           "alignmentgroup": "True",
           "hovertemplate": "Country=%{x}<br>Year=1977<br>Age dependency ratio (% of working-age population)=%{y}<extra></extra>",
           "ids": [
            "Djibouti"
           ],
           "legendgroup": "Djibouti",
           "marker": {
            "color": "#EF553B",
            "pattern": {
             "shape": ""
            }
           },
           "name": "Djibouti",
           "offsetgroup": "Djibouti",
           "orientation": "v",
           "showlegend": true,
           "textposition": "auto",
           "type": "bar",
           "x": [
            "Djibouti"
           ],
           "xaxis": "x",
           "y": [
            91.72304079390932
           ],
           "yaxis": "y"
          },
          {
           "alignmentgroup": "True",
           "hovertemplate": "Country=%{x}<br>Year=1977<br>Age dependency ratio (% of working-age population)=%{y}<extra></extra>",
           "ids": [
            "Eritrea"
           ],
           "legendgroup": "Eritrea",
           "marker": {
            "color": "#00cc96",
            "pattern": {
             "shape": ""
            }
           },
           "name": "Eritrea",
           "offsetgroup": "Eritrea",
           "orientation": "v",
           "showlegend": true,
           "textposition": "auto",
           "type": "bar",
           "x": [
            "Eritrea"
           ],
           "xaxis": "x",
           "y": [
            88.8952273703863
           ],
           "yaxis": "y"
          },
          {
           "alignmentgroup": "True",
           "hovertemplate": "Country=%{x}<br>Year=1977<br>Age dependency ratio (% of working-age population)=%{y}<extra></extra>",
           "ids": [
            "Ethiopia"
           ],
           "legendgroup": "Ethiopia",
           "marker": {
            "color": "#ab63fa",
            "pattern": {
             "shape": ""
            }
           },
           "name": "Ethiopia",
           "offsetgroup": "Ethiopia",
           "orientation": "v",
           "showlegend": true,
           "textposition": "auto",
           "type": "bar",
           "x": [
            "Ethiopia"
           ],
           "xaxis": "x",
           "y": [
            93.1384444519342
           ],
           "yaxis": "y"
          },
          {
           "alignmentgroup": "True",
           "hovertemplate": "Country=%{x}<br>Year=1977<br>Age dependency ratio (% of working-age population)=%{y}<extra></extra>",
           "ids": [
            "Kenya"
           ],
           "legendgroup": "Kenya",
           "marker": {
            "color": "#FFA15A",
            "pattern": {
             "shape": ""
            }
           },
           "name": "Kenya",
           "offsetgroup": "Kenya",
           "orientation": "v",
           "showlegend": true,
           "textposition": "auto",
           "type": "bar",
           "x": [
            "Kenya"
           ],
           "xaxis": "x",
           "y": [
            118.70361360248076
           ],
           "yaxis": "y"
          },
          {
           "alignmentgroup": "True",
           "hovertemplate": "Country=%{x}<br>Year=1977<br>Age dependency ratio (% of working-age population)=%{y}<extra></extra>",
           "ids": [
            "Rwanda"
           ],
           "legendgroup": "Rwanda",
           "marker": {
            "color": "#19d3f3",
            "pattern": {
             "shape": ""
            }
           },
           "name": "Rwanda",
           "offsetgroup": "Rwanda",
           "orientation": "v",
           "showlegend": true,
           "textposition": "auto",
           "type": "bar",
           "x": [
            "Rwanda"
           ],
           "xaxis": "x",
           "y": [
            96.2114279033803
           ],
           "yaxis": "y"
          },
          {
           "alignmentgroup": "True",
           "hovertemplate": "Country=%{x}<br>Year=1977<br>Age dependency ratio (% of working-age population)=%{y}<extra></extra>",
           "ids": [
            "Somalia"
           ],
           "legendgroup": "Somalia",
           "marker": {
            "color": "#FF6692",
            "pattern": {
             "shape": ""
            }
           },
           "name": "Somalia",
           "offsetgroup": "Somalia",
           "orientation": "v",
           "showlegend": true,
           "textposition": "auto",
           "type": "bar",
           "x": [
            "Somalia"
           ],
           "xaxis": "x",
           "y": [
            90.27159266915316
           ],
           "yaxis": "y"
          },
          {
           "alignmentgroup": "True",
           "hovertemplate": "Country=%{x}<br>Year=1977<br>Age dependency ratio (% of working-age population)=%{y}<extra></extra>",
           "ids": [
            "South Sudan"
           ],
           "legendgroup": "South Sudan",
           "marker": {
            "color": "#B6E880",
            "pattern": {
             "shape": ""
            }
           },
           "name": "South Sudan",
           "offsetgroup": "South Sudan",
           "orientation": "v",
           "showlegend": true,
           "textposition": "auto",
           "type": "bar",
           "x": [
            "South Sudan"
           ],
           "xaxis": "x",
           "y": [
            88.19834844708002
           ],
           "yaxis": "y"
          },
          {
           "alignmentgroup": "True",
           "hovertemplate": "Country=%{x}<br>Year=1977<br>Age dependency ratio (% of working-age population)=%{y}<extra></extra>",
           "ids": [
            "Sudan"
           ],
           "legendgroup": "Sudan",
           "marker": {
            "color": "#FF97FF",
            "pattern": {
             "shape": ""
            }
           },
           "name": "Sudan",
           "offsetgroup": "Sudan",
           "orientation": "v",
           "showlegend": true,
           "textposition": "auto",
           "type": "bar",
           "x": [
            "Sudan"
           ],
           "xaxis": "x",
           "y": [
            99.83840946958658
           ],
           "yaxis": "y"
          },
          {
           "alignmentgroup": "True",
           "hovertemplate": "Country=%{x}<br>Year=1977<br>Age dependency ratio (% of working-age population)=%{y}<extra></extra>",
           "ids": [
            "Tanzania"
           ],
           "legendgroup": "Tanzania",
           "marker": {
            "color": "#FECB52",
            "pattern": {
             "shape": ""
            }
           },
           "name": "Tanzania",
           "offsetgroup": "Tanzania",
           "orientation": "v",
           "showlegend": true,
           "textposition": "auto",
           "type": "bar",
           "x": [
            "Tanzania"
           ],
           "xaxis": "x",
           "y": [
            96.66378753592528
           ],
           "yaxis": "y"
          },
          {
           "alignmentgroup": "True",
           "hovertemplate": "Country=%{x}<br>Year=1977<br>Age dependency ratio (% of working-age population)=%{y}<extra></extra>",
           "ids": [
            "Uganda"
           ],
           "legendgroup": "Uganda",
           "marker": {
            "color": "#636efa",
            "pattern": {
             "shape": ""
            }
           },
           "name": "Uganda",
           "offsetgroup": "Uganda",
           "orientation": "v",
           "showlegend": true,
           "textposition": "auto",
           "type": "bar",
           "x": [
            "Uganda"
           ],
           "xaxis": "x",
           "y": [
            102.30896390783116
           ],
           "yaxis": "y"
          }
         ],
         "name": "1977"
        },
        {
         "data": [
          {
           "alignmentgroup": "True",
           "hovertemplate": "Country=%{x}<br>Year=1978<br>Age dependency ratio (% of working-age population)=%{y}<extra></extra>",
           "ids": [
            "Burundi"
           ],
           "legendgroup": "Burundi",
           "marker": {
            "color": "#636efa",
            "pattern": {
             "shape": ""
            }
           },
           "name": "Burundi",
           "offsetgroup": "Burundi",
           "orientation": "v",
           "showlegend": true,
           "textposition": "auto",
           "type": "bar",
           "x": [
            "Burundi"
           ],
           "xaxis": "x",
           "y": [
            94.6713934387122
           ],
           "yaxis": "y"
          },
          {
           "alignmentgroup": "True",
           "hovertemplate": "Country=%{x}<br>Year=1978<br>Age dependency ratio (% of working-age population)=%{y}<extra></extra>",
           "ids": [
            "Djibouti"
           ],
           "legendgroup": "Djibouti",
           "marker": {
            "color": "#EF553B",
            "pattern": {
             "shape": ""
            }
           },
           "name": "Djibouti",
           "offsetgroup": "Djibouti",
           "orientation": "v",
           "showlegend": true,
           "textposition": "auto",
           "type": "bar",
           "x": [
            "Djibouti"
           ],
           "xaxis": "x",
           "y": [
            91.91135925006893
           ],
           "yaxis": "y"
          },
          {
           "alignmentgroup": "True",
           "hovertemplate": "Country=%{x}<br>Year=1978<br>Age dependency ratio (% of working-age population)=%{y}<extra></extra>",
           "ids": [
            "Eritrea"
           ],
           "legendgroup": "Eritrea",
           "marker": {
            "color": "#00cc96",
            "pattern": {
             "shape": ""
            }
           },
           "name": "Eritrea",
           "offsetgroup": "Eritrea",
           "orientation": "v",
           "showlegend": true,
           "textposition": "auto",
           "type": "bar",
           "x": [
            "Eritrea"
           ],
           "xaxis": "x",
           "y": [
            89.12855069009599
           ],
           "yaxis": "y"
          },
          {
           "alignmentgroup": "True",
           "hovertemplate": "Country=%{x}<br>Year=1978<br>Age dependency ratio (% of working-age population)=%{y}<extra></extra>",
           "ids": [
            "Ethiopia"
           ],
           "legendgroup": "Ethiopia",
           "marker": {
            "color": "#ab63fa",
            "pattern": {
             "shape": ""
            }
           },
           "name": "Ethiopia",
           "offsetgroup": "Ethiopia",
           "orientation": "v",
           "showlegend": true,
           "textposition": "auto",
           "type": "bar",
           "x": [
            "Ethiopia"
           ],
           "xaxis": "x",
           "y": [
            93.6278150273754
           ],
           "yaxis": "y"
          },
          {
           "alignmentgroup": "True",
           "hovertemplate": "Country=%{x}<br>Year=1978<br>Age dependency ratio (% of working-age population)=%{y}<extra></extra>",
           "ids": [
            "Kenya"
           ],
           "legendgroup": "Kenya",
           "marker": {
            "color": "#FFA15A",
            "pattern": {
             "shape": ""
            }
           },
           "name": "Kenya",
           "offsetgroup": "Kenya",
           "orientation": "v",
           "showlegend": true,
           "textposition": "auto",
           "type": "bar",
           "x": [
            "Kenya"
           ],
           "xaxis": "x",
           "y": [
            118.17225450778352
           ],
           "yaxis": "y"
          },
          {
           "alignmentgroup": "True",
           "hovertemplate": "Country=%{x}<br>Year=1978<br>Age dependency ratio (% of working-age population)=%{y}<extra></extra>",
           "ids": [
            "Rwanda"
           ],
           "legendgroup": "Rwanda",
           "marker": {
            "color": "#19d3f3",
            "pattern": {
             "shape": ""
            }
           },
           "name": "Rwanda",
           "offsetgroup": "Rwanda",
           "orientation": "v",
           "showlegend": true,
           "textposition": "auto",
           "type": "bar",
           "x": [
            "Rwanda"
           ],
           "xaxis": "x",
           "y": [
            96.12226479149358
           ],
           "yaxis": "y"
          },
          {
           "alignmentgroup": "True",
           "hovertemplate": "Country=%{x}<br>Year=1978<br>Age dependency ratio (% of working-age population)=%{y}<extra></extra>",
           "ids": [
            "Somalia"
           ],
           "legendgroup": "Somalia",
           "marker": {
            "color": "#FF6692",
            "pattern": {
             "shape": ""
            }
           },
           "name": "Somalia",
           "offsetgroup": "Somalia",
           "orientation": "v",
           "showlegend": true,
           "textposition": "auto",
           "type": "bar",
           "x": [
            "Somalia"
           ],
           "xaxis": "x",
           "y": [
            90.50133514728886
           ],
           "yaxis": "y"
          },
          {
           "alignmentgroup": "True",
           "hovertemplate": "Country=%{x}<br>Year=1978<br>Age dependency ratio (% of working-age population)=%{y}<extra></extra>",
           "ids": [
            "South Sudan"
           ],
           "legendgroup": "South Sudan",
           "marker": {
            "color": "#B6E880",
            "pattern": {
             "shape": ""
            }
           },
           "name": "South Sudan",
           "offsetgroup": "South Sudan",
           "orientation": "v",
           "showlegend": true,
           "textposition": "auto",
           "type": "bar",
           "x": [
            "South Sudan"
           ],
           "xaxis": "x",
           "y": [
            88.58466323248675
           ],
           "yaxis": "y"
          },
          {
           "alignmentgroup": "True",
           "hovertemplate": "Country=%{x}<br>Year=1978<br>Age dependency ratio (% of working-age population)=%{y}<extra></extra>",
           "ids": [
            "Sudan"
           ],
           "legendgroup": "Sudan",
           "marker": {
            "color": "#FF97FF",
            "pattern": {
             "shape": ""
            }
           },
           "name": "Sudan",
           "offsetgroup": "Sudan",
           "orientation": "v",
           "showlegend": true,
           "textposition": "auto",
           "type": "bar",
           "x": [
            "Sudan"
           ],
           "xaxis": "x",
           "y": [
            99.34200415620192
           ],
           "yaxis": "y"
          },
          {
           "alignmentgroup": "True",
           "hovertemplate": "Country=%{x}<br>Year=1978<br>Age dependency ratio (% of working-age population)=%{y}<extra></extra>",
           "ids": [
            "Tanzania"
           ],
           "legendgroup": "Tanzania",
           "marker": {
            "color": "#FECB52",
            "pattern": {
             "shape": ""
            }
           },
           "name": "Tanzania",
           "offsetgroup": "Tanzania",
           "orientation": "v",
           "showlegend": true,
           "textposition": "auto",
           "type": "bar",
           "x": [
            "Tanzania"
           ],
           "xaxis": "x",
           "y": [
            97.29910907691324
           ],
           "yaxis": "y"
          },
          {
           "alignmentgroup": "True",
           "hovertemplate": "Country=%{x}<br>Year=1978<br>Age dependency ratio (% of working-age population)=%{y}<extra></extra>",
           "ids": [
            "Uganda"
           ],
           "legendgroup": "Uganda",
           "marker": {
            "color": "#636efa",
            "pattern": {
             "shape": ""
            }
           },
           "name": "Uganda",
           "offsetgroup": "Uganda",
           "orientation": "v",
           "showlegend": true,
           "textposition": "auto",
           "type": "bar",
           "x": [
            "Uganda"
           ],
           "xaxis": "x",
           "y": [
            102.55570720922644
           ],
           "yaxis": "y"
          }
         ],
         "name": "1978"
        },
        {
         "data": [
          {
           "alignmentgroup": "True",
           "hovertemplate": "Country=%{x}<br>Year=1979<br>Age dependency ratio (% of working-age population)=%{y}<extra></extra>",
           "ids": [
            "Burundi"
           ],
           "legendgroup": "Burundi",
           "marker": {
            "color": "#636efa",
            "pattern": {
             "shape": ""
            }
           },
           "name": "Burundi",
           "offsetgroup": "Burundi",
           "orientation": "v",
           "showlegend": true,
           "textposition": "auto",
           "type": "bar",
           "x": [
            "Burundi"
           ],
           "xaxis": "x",
           "y": [
            95.0731435236852
           ],
           "yaxis": "y"
          },
          {
           "alignmentgroup": "True",
           "hovertemplate": "Country=%{x}<br>Year=1979<br>Age dependency ratio (% of working-age population)=%{y}<extra></extra>",
           "ids": [
            "Djibouti"
           ],
           "legendgroup": "Djibouti",
           "marker": {
            "color": "#EF553B",
            "pattern": {
             "shape": ""
            }
           },
           "name": "Djibouti",
           "offsetgroup": "Djibouti",
           "orientation": "v",
           "showlegend": true,
           "textposition": "auto",
           "type": "bar",
           "x": [
            "Djibouti"
           ],
           "xaxis": "x",
           "y": [
            92.0152163575844
           ],
           "yaxis": "y"
          },
          {
           "alignmentgroup": "True",
           "hovertemplate": "Country=%{x}<br>Year=1979<br>Age dependency ratio (% of working-age population)=%{y}<extra></extra>",
           "ids": [
            "Eritrea"
           ],
           "legendgroup": "Eritrea",
           "marker": {
            "color": "#00cc96",
            "pattern": {
             "shape": ""
            }
           },
           "name": "Eritrea",
           "offsetgroup": "Eritrea",
           "orientation": "v",
           "showlegend": true,
           "textposition": "auto",
           "type": "bar",
           "x": [
            "Eritrea"
           ],
           "xaxis": "x",
           "y": [
            89.3064600889623
           ],
           "yaxis": "y"
          },
          {
           "alignmentgroup": "True",
           "hovertemplate": "Country=%{x}<br>Year=1979<br>Age dependency ratio (% of working-age population)=%{y}<extra></extra>",
           "ids": [
            "Ethiopia"
           ],
           "legendgroup": "Ethiopia",
           "marker": {
            "color": "#ab63fa",
            "pattern": {
             "shape": ""
            }
           },
           "name": "Ethiopia",
           "offsetgroup": "Ethiopia",
           "orientation": "v",
           "showlegend": true,
           "textposition": "auto",
           "type": "bar",
           "x": [
            "Ethiopia"
           ],
           "xaxis": "x",
           "y": [
            94.07065594752902
           ],
           "yaxis": "y"
          },
          {
           "alignmentgroup": "True",
           "hovertemplate": "Country=%{x}<br>Year=1979<br>Age dependency ratio (% of working-age population)=%{y}<extra></extra>",
           "ids": [
            "Kenya"
           ],
           "legendgroup": "Kenya",
           "marker": {
            "color": "#FFA15A",
            "pattern": {
             "shape": ""
            }
           },
           "name": "Kenya",
           "offsetgroup": "Kenya",
           "orientation": "v",
           "showlegend": true,
           "textposition": "auto",
           "type": "bar",
           "x": [
            "Kenya"
           ],
           "xaxis": "x",
           "y": [
            117.52635175415864
           ],
           "yaxis": "y"
          },
          {
           "alignmentgroup": "True",
           "hovertemplate": "Country=%{x}<br>Year=1979<br>Age dependency ratio (% of working-age population)=%{y}<extra></extra>",
           "ids": [
            "Rwanda"
           ],
           "legendgroup": "Rwanda",
           "marker": {
            "color": "#19d3f3",
            "pattern": {
             "shape": ""
            }
           },
           "name": "Rwanda",
           "offsetgroup": "Rwanda",
           "orientation": "v",
           "showlegend": true,
           "textposition": "auto",
           "type": "bar",
           "x": [
            "Rwanda"
           ],
           "xaxis": "x",
           "y": [
            96.25973684414087
           ],
           "yaxis": "y"
          },
          {
           "alignmentgroup": "True",
           "hovertemplate": "Country=%{x}<br>Year=1979<br>Age dependency ratio (% of working-age population)=%{y}<extra></extra>",
           "ids": [
            "Somalia"
           ],
           "legendgroup": "Somalia",
           "marker": {
            "color": "#FF6692",
            "pattern": {
             "shape": ""
            }
           },
           "name": "Somalia",
           "offsetgroup": "Somalia",
           "orientation": "v",
           "showlegend": true,
           "textposition": "auto",
           "type": "bar",
           "x": [
            "Somalia"
           ],
           "xaxis": "x",
           "y": [
            90.83198763165797
           ],
           "yaxis": "y"
          },
          {
           "alignmentgroup": "True",
           "hovertemplate": "Country=%{x}<br>Year=1979<br>Age dependency ratio (% of working-age population)=%{y}<extra></extra>",
           "ids": [
            "South Sudan"
           ],
           "legendgroup": "South Sudan",
           "marker": {
            "color": "#B6E880",
            "pattern": {
             "shape": ""
            }
           },
           "name": "South Sudan",
           "offsetgroup": "South Sudan",
           "orientation": "v",
           "showlegend": true,
           "textposition": "auto",
           "type": "bar",
           "x": [
            "South Sudan"
           ],
           "xaxis": "x",
           "y": [
            88.94253740610677
           ],
           "yaxis": "y"
          },
          {
           "alignmentgroup": "True",
           "hovertemplate": "Country=%{x}<br>Year=1979<br>Age dependency ratio (% of working-age population)=%{y}<extra></extra>",
           "ids": [
            "Sudan"
           ],
           "legendgroup": "Sudan",
           "marker": {
            "color": "#FF97FF",
            "pattern": {
             "shape": ""
            }
           },
           "name": "Sudan",
           "offsetgroup": "Sudan",
           "orientation": "v",
           "showlegend": true,
           "textposition": "auto",
           "type": "bar",
           "x": [
            "Sudan"
           ],
           "xaxis": "x",
           "y": [
            98.86960926992111
           ],
           "yaxis": "y"
          },
          {
           "alignmentgroup": "True",
           "hovertemplate": "Country=%{x}<br>Year=1979<br>Age dependency ratio (% of working-age population)=%{y}<extra></extra>",
           "ids": [
            "Tanzania"
           ],
           "legendgroup": "Tanzania",
           "marker": {
            "color": "#FECB52",
            "pattern": {
             "shape": ""
            }
           },
           "name": "Tanzania",
           "offsetgroup": "Tanzania",
           "orientation": "v",
           "showlegend": true,
           "textposition": "auto",
           "type": "bar",
           "x": [
            "Tanzania"
           ],
           "xaxis": "x",
           "y": [
            98.14965586735848
           ],
           "yaxis": "y"
          },
          {
           "alignmentgroup": "True",
           "hovertemplate": "Country=%{x}<br>Year=1979<br>Age dependency ratio (% of working-age population)=%{y}<extra></extra>",
           "ids": [
            "Uganda"
           ],
           "legendgroup": "Uganda",
           "marker": {
            "color": "#636efa",
            "pattern": {
             "shape": ""
            }
           },
           "name": "Uganda",
           "offsetgroup": "Uganda",
           "orientation": "v",
           "showlegend": true,
           "textposition": "auto",
           "type": "bar",
           "x": [
            "Uganda"
           ],
           "xaxis": "x",
           "y": [
            103.06555930495657
           ],
           "yaxis": "y"
          }
         ],
         "name": "1979"
        },
        {
         "data": [
          {
           "alignmentgroup": "True",
           "hovertemplate": "Country=%{x}<br>Year=1980<br>Age dependency ratio (% of working-age population)=%{y}<extra></extra>",
           "ids": [
            "Burundi"
           ],
           "legendgroup": "Burundi",
           "marker": {
            "color": "#636efa",
            "pattern": {
             "shape": ""
            }
           },
           "name": "Burundi",
           "offsetgroup": "Burundi",
           "orientation": "v",
           "showlegend": true,
           "textposition": "auto",
           "type": "bar",
           "x": [
            "Burundi"
           ],
           "xaxis": "x",
           "y": [
            93.3356046172812
           ],
           "yaxis": "y"
          },
          {
           "alignmentgroup": "True",
           "hovertemplate": "Country=%{x}<br>Year=1980<br>Age dependency ratio (% of working-age population)=%{y}<extra></extra>",
           "ids": [
            "Djibouti"
           ],
           "legendgroup": "Djibouti",
           "marker": {
            "color": "#EF553B",
            "pattern": {
             "shape": ""
            }
           },
           "name": "Djibouti",
           "offsetgroup": "Djibouti",
           "orientation": "v",
           "showlegend": true,
           "textposition": "auto",
           "type": "bar",
           "x": [
            "Djibouti"
           ],
           "xaxis": "x",
           "y": [
            92.02445628025193
           ],
           "yaxis": "y"
          },
          {
           "alignmentgroup": "True",
           "hovertemplate": "Country=%{x}<br>Year=1980<br>Age dependency ratio (% of working-age population)=%{y}<extra></extra>",
           "ids": [
            "Eritrea"
           ],
           "legendgroup": "Eritrea",
           "marker": {
            "color": "#00cc96",
            "pattern": {
             "shape": ""
            }
           },
           "name": "Eritrea",
           "offsetgroup": "Eritrea",
           "orientation": "v",
           "showlegend": true,
           "textposition": "auto",
           "type": "bar",
           "x": [
            "Eritrea"
           ],
           "xaxis": "x",
           "y": [
            89.42304176949091
           ],
           "yaxis": "y"
          },
          {
           "alignmentgroup": "True",
           "hovertemplate": "Country=%{x}<br>Year=1980<br>Age dependency ratio (% of working-age population)=%{y}<extra></extra>",
           "ids": [
            "Ethiopia"
           ],
           "legendgroup": "Ethiopia",
           "marker": {
            "color": "#ab63fa",
            "pattern": {
             "shape": ""
            }
           },
           "name": "Ethiopia",
           "offsetgroup": "Ethiopia",
           "orientation": "v",
           "showlegend": true,
           "textposition": "auto",
           "type": "bar",
           "x": [
            "Ethiopia"
           ],
           "xaxis": "x",
           "y": [
            94.49910265568832
           ],
           "yaxis": "y"
          },
          {
           "alignmentgroup": "True",
           "hovertemplate": "Country=%{x}<br>Year=1980<br>Age dependency ratio (% of working-age population)=%{y}<extra></extra>",
           "ids": [
            "Kenya"
           ],
           "legendgroup": "Kenya",
           "marker": {
            "color": "#FFA15A",
            "pattern": {
             "shape": ""
            }
           },
           "name": "Kenya",
           "offsetgroup": "Kenya",
           "orientation": "v",
           "showlegend": true,
           "textposition": "auto",
           "type": "bar",
           "x": [
            "Kenya"
           ],
           "xaxis": "x",
           "y": [
            116.60060222722107
           ],
           "yaxis": "y"
          },
          {
           "alignmentgroup": "True",
           "hovertemplate": "Country=%{x}<br>Year=1980<br>Age dependency ratio (% of working-age population)=%{y}<extra></extra>",
           "ids": [
            "Rwanda"
           ],
           "legendgroup": "Rwanda",
           "marker": {
            "color": "#19d3f3",
            "pattern": {
             "shape": ""
            }
           },
           "name": "Rwanda",
           "offsetgroup": "Rwanda",
           "orientation": "v",
           "showlegend": true,
           "textposition": "auto",
           "type": "bar",
           "x": [
            "Rwanda"
           ],
           "xaxis": "x",
           "y": [
            96.48850319921397
           ],
           "yaxis": "y"
          },
          {
           "alignmentgroup": "True",
           "hovertemplate": "Country=%{x}<br>Year=1980<br>Age dependency ratio (% of working-age population)=%{y}<extra></extra>",
           "ids": [
            "Somalia"
           ],
           "legendgroup": "Somalia",
           "marker": {
            "color": "#FF6692",
            "pattern": {
             "shape": ""
            }
           },
           "name": "Somalia",
           "offsetgroup": "Somalia",
           "orientation": "v",
           "showlegend": true,
           "textposition": "auto",
           "type": "bar",
           "x": [
            "Somalia"
           ],
           "xaxis": "x",
           "y": [
            91.2134418046329
           ],
           "yaxis": "y"
          },
          {
           "alignmentgroup": "True",
           "hovertemplate": "Country=%{x}<br>Year=1980<br>Age dependency ratio (% of working-age population)=%{y}<extra></extra>",
           "ids": [
            "South Sudan"
           ],
           "legendgroup": "South Sudan",
           "marker": {
            "color": "#B6E880",
            "pattern": {
             "shape": ""
            }
           },
           "name": "South Sudan",
           "offsetgroup": "South Sudan",
           "orientation": "v",
           "showlegend": true,
           "textposition": "auto",
           "type": "bar",
           "x": [
            "South Sudan"
           ],
           "xaxis": "x",
           "y": [
            89.28818004361021
           ],
           "yaxis": "y"
          },
          {
           "alignmentgroup": "True",
           "hovertemplate": "Country=%{x}<br>Year=1980<br>Age dependency ratio (% of working-age population)=%{y}<extra></extra>",
           "ids": [
            "Sudan"
           ],
           "legendgroup": "Sudan",
           "marker": {
            "color": "#FF97FF",
            "pattern": {
             "shape": ""
            }
           },
           "name": "Sudan",
           "offsetgroup": "Sudan",
           "orientation": "v",
           "showlegend": true,
           "textposition": "auto",
           "type": "bar",
           "x": [
            "Sudan"
           ],
           "xaxis": "x",
           "y": [
            98.40336901406172
           ],
           "yaxis": "y"
          },
          {
           "alignmentgroup": "True",
           "hovertemplate": "Country=%{x}<br>Year=1980<br>Age dependency ratio (% of working-age population)=%{y}<extra></extra>",
           "ids": [
            "Tanzania"
           ],
           "legendgroup": "Tanzania",
           "marker": {
            "color": "#FECB52",
            "pattern": {
             "shape": ""
            }
           },
           "name": "Tanzania",
           "offsetgroup": "Tanzania",
           "orientation": "v",
           "showlegend": true,
           "textposition": "auto",
           "type": "bar",
           "x": [
            "Tanzania"
           ],
           "xaxis": "x",
           "y": [
            99.07709870500634
           ],
           "yaxis": "y"
          },
          {
           "alignmentgroup": "True",
           "hovertemplate": "Country=%{x}<br>Year=1980<br>Age dependency ratio (% of working-age population)=%{y}<extra></extra>",
           "ids": [
            "Uganda"
           ],
           "legendgroup": "Uganda",
           "marker": {
            "color": "#636efa",
            "pattern": {
             "shape": ""
            }
           },
           "name": "Uganda",
           "offsetgroup": "Uganda",
           "orientation": "v",
           "showlegend": true,
           "textposition": "auto",
           "type": "bar",
           "x": [
            "Uganda"
           ],
           "xaxis": "x",
           "y": [
            103.8638129883268
           ],
           "yaxis": "y"
          }
         ],
         "name": "1980"
        },
        {
         "data": [
          {
           "alignmentgroup": "True",
           "hovertemplate": "Country=%{x}<br>Year=1981<br>Age dependency ratio (% of working-age population)=%{y}<extra></extra>",
           "ids": [
            "Burundi"
           ],
           "legendgroup": "Burundi",
           "marker": {
            "color": "#636efa",
            "pattern": {
             "shape": ""
            }
           },
           "name": "Burundi",
           "offsetgroup": "Burundi",
           "orientation": "v",
           "showlegend": true,
           "textposition": "auto",
           "type": "bar",
           "x": [
            "Burundi"
           ],
           "xaxis": "x",
           "y": [
            92.2889474842576
           ],
           "yaxis": "y"
          },
          {
           "alignmentgroup": "True",
           "hovertemplate": "Country=%{x}<br>Year=1981<br>Age dependency ratio (% of working-age population)=%{y}<extra></extra>",
           "ids": [
            "Djibouti"
           ],
           "legendgroup": "Djibouti",
           "marker": {
            "color": "#EF553B",
            "pattern": {
             "shape": ""
            }
           },
           "name": "Djibouti",
           "offsetgroup": "Djibouti",
           "orientation": "v",
           "showlegend": true,
           "textposition": "auto",
           "type": "bar",
           "x": [
            "Djibouti"
           ],
           "xaxis": "x",
           "y": [
            91.93011460125734
           ],
           "yaxis": "y"
          },
          {
           "alignmentgroup": "True",
           "hovertemplate": "Country=%{x}<br>Year=1981<br>Age dependency ratio (% of working-age population)=%{y}<extra></extra>",
           "ids": [
            "Eritrea"
           ],
           "legendgroup": "Eritrea",
           "marker": {
            "color": "#00cc96",
            "pattern": {
             "shape": ""
            }
           },
           "name": "Eritrea",
           "offsetgroup": "Eritrea",
           "orientation": "v",
           "showlegend": true,
           "textposition": "auto",
           "type": "bar",
           "x": [
            "Eritrea"
           ],
           "xaxis": "x",
           "y": [
            89.50655457997522
           ],
           "yaxis": "y"
          },
          {
           "alignmentgroup": "True",
           "hovertemplate": "Country=%{x}<br>Year=1981<br>Age dependency ratio (% of working-age population)=%{y}<extra></extra>",
           "ids": [
            "Ethiopia"
           ],
           "legendgroup": "Ethiopia",
           "marker": {
            "color": "#ab63fa",
            "pattern": {
             "shape": ""
            }
           },
           "name": "Ethiopia",
           "offsetgroup": "Ethiopia",
           "orientation": "v",
           "showlegend": true,
           "textposition": "auto",
           "type": "bar",
           "x": [
            "Ethiopia"
           ],
           "xaxis": "x",
           "y": [
            94.8914272264058
           ],
           "yaxis": "y"
          },
          {
           "alignmentgroup": "True",
           "hovertemplate": "Country=%{x}<br>Year=1981<br>Age dependency ratio (% of working-age population)=%{y}<extra></extra>",
           "ids": [
            "Kenya"
           ],
           "legendgroup": "Kenya",
           "marker": {
            "color": "#FFA15A",
            "pattern": {
             "shape": ""
            }
           },
           "name": "Kenya",
           "offsetgroup": "Kenya",
           "orientation": "v",
           "showlegend": true,
           "textposition": "auto",
           "type": "bar",
           "x": [
            "Kenya"
           ],
           "xaxis": "x",
           "y": [
            115.54116157251669
           ],
           "yaxis": "y"
          },
          {
           "alignmentgroup": "True",
           "hovertemplate": "Country=%{x}<br>Year=1981<br>Age dependency ratio (% of working-age population)=%{y}<extra></extra>",
           "ids": [
            "Rwanda"
           ],
           "legendgroup": "Rwanda",
           "marker": {
            "color": "#19d3f3",
            "pattern": {
             "shape": ""
            }
           },
           "name": "Rwanda",
           "offsetgroup": "Rwanda",
           "orientation": "v",
           "showlegend": true,
           "textposition": "auto",
           "type": "bar",
           "x": [
            "Rwanda"
           ],
           "xaxis": "x",
           "y": [
            96.79232353403836
           ],
           "yaxis": "y"
          },
          {
           "alignmentgroup": "True",
           "hovertemplate": "Country=%{x}<br>Year=1981<br>Age dependency ratio (% of working-age population)=%{y}<extra></extra>",
           "ids": [
            "Somalia"
           ],
           "legendgroup": "Somalia",
           "marker": {
            "color": "#FF6692",
            "pattern": {
             "shape": ""
            }
           },
           "name": "Somalia",
           "offsetgroup": "Somalia",
           "orientation": "v",
           "showlegend": true,
           "textposition": "auto",
           "type": "bar",
           "x": [
            "Somalia"
           ],
           "xaxis": "x",
           "y": [
            91.69875945220416
           ],
           "yaxis": "y"
          },
          {
           "alignmentgroup": "True",
           "hovertemplate": "Country=%{x}<br>Year=1981<br>Age dependency ratio (% of working-age population)=%{y}<extra></extra>",
           "ids": [
            "South Sudan"
           ],
           "legendgroup": "South Sudan",
           "marker": {
            "color": "#B6E880",
            "pattern": {
             "shape": ""
            }
           },
           "name": "South Sudan",
           "offsetgroup": "South Sudan",
           "orientation": "v",
           "showlegend": true,
           "textposition": "auto",
           "type": "bar",
           "x": [
            "South Sudan"
           ],
           "xaxis": "x",
           "y": [
            89.6230472941881
           ],
           "yaxis": "y"
          },
          {
           "alignmentgroup": "True",
           "hovertemplate": "Country=%{x}<br>Year=1981<br>Age dependency ratio (% of working-age population)=%{y}<extra></extra>",
           "ids": [
            "Sudan"
           ],
           "legendgroup": "Sudan",
           "marker": {
            "color": "#FF97FF",
            "pattern": {
             "shape": ""
            }
           },
           "name": "Sudan",
           "offsetgroup": "Sudan",
           "orientation": "v",
           "showlegend": true,
           "textposition": "auto",
           "type": "bar",
           "x": [
            "Sudan"
           ],
           "xaxis": "x",
           "y": [
            97.96601929710457
           ],
           "yaxis": "y"
          },
          {
           "alignmentgroup": "True",
           "hovertemplate": "Country=%{x}<br>Year=1981<br>Age dependency ratio (% of working-age population)=%{y}<extra></extra>",
           "ids": [
            "Tanzania"
           ],
           "legendgroup": "Tanzania",
           "marker": {
            "color": "#FECB52",
            "pattern": {
             "shape": ""
            }
           },
           "name": "Tanzania",
           "offsetgroup": "Tanzania",
           "orientation": "v",
           "showlegend": true,
           "textposition": "auto",
           "type": "bar",
           "x": [
            "Tanzania"
           ],
           "xaxis": "x",
           "y": [
            99.88855402617422
           ],
           "yaxis": "y"
          },
          {
           "alignmentgroup": "True",
           "hovertemplate": "Country=%{x}<br>Year=1981<br>Age dependency ratio (% of working-age population)=%{y}<extra></extra>",
           "ids": [
            "Uganda"
           ],
           "legendgroup": "Uganda",
           "marker": {
            "color": "#636efa",
            "pattern": {
             "shape": ""
            }
           },
           "name": "Uganda",
           "offsetgroup": "Uganda",
           "orientation": "v",
           "showlegend": true,
           "textposition": "auto",
           "type": "bar",
           "x": [
            "Uganda"
           ],
           "xaxis": "x",
           "y": [
            104.3998174748538
           ],
           "yaxis": "y"
          }
         ],
         "name": "1981"
        },
        {
         "data": [
          {
           "alignmentgroup": "True",
           "hovertemplate": "Country=%{x}<br>Year=1982<br>Age dependency ratio (% of working-age population)=%{y}<extra></extra>",
           "ids": [
            "Burundi"
           ],
           "legendgroup": "Burundi",
           "marker": {
            "color": "#636efa",
            "pattern": {
             "shape": ""
            }
           },
           "name": "Burundi",
           "offsetgroup": "Burundi",
           "orientation": "v",
           "showlegend": true,
           "textposition": "auto",
           "type": "bar",
           "x": [
            "Burundi"
           ],
           "xaxis": "x",
           "y": [
            93.69986279345784
           ],
           "yaxis": "y"
          },
          {
           "alignmentgroup": "True",
           "hovertemplate": "Country=%{x}<br>Year=1982<br>Age dependency ratio (% of working-age population)=%{y}<extra></extra>",
           "ids": [
            "Djibouti"
           ],
           "legendgroup": "Djibouti",
           "marker": {
            "color": "#EF553B",
            "pattern": {
             "shape": ""
            }
           },
           "name": "Djibouti",
           "offsetgroup": "Djibouti",
           "orientation": "v",
           "showlegend": true,
           "textposition": "auto",
           "type": "bar",
           "x": [
            "Djibouti"
           ],
           "xaxis": "x",
           "y": [
            91.73316775552075
           ],
           "yaxis": "y"
          },
          {
           "alignmentgroup": "True",
           "hovertemplate": "Country=%{x}<br>Year=1982<br>Age dependency ratio (% of working-age population)=%{y}<extra></extra>",
           "ids": [
            "Eritrea"
           ],
           "legendgroup": "Eritrea",
           "marker": {
            "color": "#00cc96",
            "pattern": {
             "shape": ""
            }
           },
           "name": "Eritrea",
           "offsetgroup": "Eritrea",
           "orientation": "v",
           "showlegend": true,
           "textposition": "auto",
           "type": "bar",
           "x": [
            "Eritrea"
           ],
           "xaxis": "x",
           "y": [
            89.6186715988634
           ],
           "yaxis": "y"
          },
          {
           "alignmentgroup": "True",
           "hovertemplate": "Country=%{x}<br>Year=1982<br>Age dependency ratio (% of working-age population)=%{y}<extra></extra>",
           "ids": [
            "Ethiopia"
           ],
           "legendgroup": "Ethiopia",
           "marker": {
            "color": "#ab63fa",
            "pattern": {
             "shape": ""
            }
           },
           "name": "Ethiopia",
           "offsetgroup": "Ethiopia",
           "orientation": "v",
           "showlegend": true,
           "textposition": "auto",
           "type": "bar",
           "x": [
            "Ethiopia"
           ],
           "xaxis": "x",
           "y": [
            95.098140985474
           ],
           "yaxis": "y"
          },
          {
           "alignmentgroup": "True",
           "hovertemplate": "Country=%{x}<br>Year=1982<br>Age dependency ratio (% of working-age population)=%{y}<extra></extra>",
           "ids": [
            "Kenya"
           ],
           "legendgroup": "Kenya",
           "marker": {
            "color": "#FFA15A",
            "pattern": {
             "shape": ""
            }
           },
           "name": "Kenya",
           "offsetgroup": "Kenya",
           "orientation": "v",
           "showlegend": true,
           "textposition": "auto",
           "type": "bar",
           "x": [
            "Kenya"
           ],
           "xaxis": "x",
           "y": [
            114.5017376110592
           ],
           "yaxis": "y"
          },
          {
           "alignmentgroup": "True",
           "hovertemplate": "Country=%{x}<br>Year=1982<br>Age dependency ratio (% of working-age population)=%{y}<extra></extra>",
           "ids": [
            "Rwanda"
           ],
           "legendgroup": "Rwanda",
           "marker": {
            "color": "#19d3f3",
            "pattern": {
             "shape": ""
            }
           },
           "name": "Rwanda",
           "offsetgroup": "Rwanda",
           "orientation": "v",
           "showlegend": true,
           "textposition": "auto",
           "type": "bar",
           "x": [
            "Rwanda"
           ],
           "xaxis": "x",
           "y": [
            97.2171412044588
           ],
           "yaxis": "y"
          },
          {
           "alignmentgroup": "True",
           "hovertemplate": "Country=%{x}<br>Year=1982<br>Age dependency ratio (% of working-age population)=%{y}<extra></extra>",
           "ids": [
            "Somalia"
           ],
           "legendgroup": "Somalia",
           "marker": {
            "color": "#FF6692",
            "pattern": {
             "shape": ""
            }
           },
           "name": "Somalia",
           "offsetgroup": "Somalia",
           "orientation": "v",
           "showlegend": true,
           "textposition": "auto",
           "type": "bar",
           "x": [
            "Somalia"
           ],
           "xaxis": "x",
           "y": [
            92.27728766425838
           ],
           "yaxis": "y"
          },
          {
           "alignmentgroup": "True",
           "hovertemplate": "Country=%{x}<br>Year=1982<br>Age dependency ratio (% of working-age population)=%{y}<extra></extra>",
           "ids": [
            "South Sudan"
           ],
           "legendgroup": "South Sudan",
           "marker": {
            "color": "#B6E880",
            "pattern": {
             "shape": ""
            }
           },
           "name": "South Sudan",
           "offsetgroup": "South Sudan",
           "orientation": "v",
           "showlegend": true,
           "textposition": "auto",
           "type": "bar",
           "x": [
            "South Sudan"
           ],
           "xaxis": "x",
           "y": [
            89.89706184578878
           ],
           "yaxis": "y"
          },
          {
           "alignmentgroup": "True",
           "hovertemplate": "Country=%{x}<br>Year=1982<br>Age dependency ratio (% of working-age population)=%{y}<extra></extra>",
           "ids": [
            "Sudan"
           ],
           "legendgroup": "Sudan",
           "marker": {
            "color": "#FF97FF",
            "pattern": {
             "shape": ""
            }
           },
           "name": "Sudan",
           "offsetgroup": "Sudan",
           "orientation": "v",
           "showlegend": true,
           "textposition": "auto",
           "type": "bar",
           "x": [
            "Sudan"
           ],
           "xaxis": "x",
           "y": [
            97.70664768772072
           ],
           "yaxis": "y"
          },
          {
           "alignmentgroup": "True",
           "hovertemplate": "Country=%{x}<br>Year=1982<br>Age dependency ratio (% of working-age population)=%{y}<extra></extra>",
           "ids": [
            "Tanzania"
           ],
           "legendgroup": "Tanzania",
           "marker": {
            "color": "#FECB52",
            "pattern": {
             "shape": ""
            }
           },
           "name": "Tanzania",
           "offsetgroup": "Tanzania",
           "orientation": "v",
           "showlegend": true,
           "textposition": "auto",
           "type": "bar",
           "x": [
            "Tanzania"
           ],
           "xaxis": "x",
           "y": [
            100.5246919708923
           ],
           "yaxis": "y"
          },
          {
           "alignmentgroup": "True",
           "hovertemplate": "Country=%{x}<br>Year=1982<br>Age dependency ratio (% of working-age population)=%{y}<extra></extra>",
           "ids": [
            "Uganda"
           ],
           "legendgroup": "Uganda",
           "marker": {
            "color": "#636efa",
            "pattern": {
             "shape": ""
            }
           },
           "name": "Uganda",
           "offsetgroup": "Uganda",
           "orientation": "v",
           "showlegend": true,
           "textposition": "auto",
           "type": "bar",
           "x": [
            "Uganda"
           ],
           "xaxis": "x",
           "y": [
            104.56077443943114
           ],
           "yaxis": "y"
          }
         ],
         "name": "1982"
        },
        {
         "data": [
          {
           "alignmentgroup": "True",
           "hovertemplate": "Country=%{x}<br>Year=1983<br>Age dependency ratio (% of working-age population)=%{y}<extra></extra>",
           "ids": [
            "Burundi"
           ],
           "legendgroup": "Burundi",
           "marker": {
            "color": "#636efa",
            "pattern": {
             "shape": ""
            }
           },
           "name": "Burundi",
           "offsetgroup": "Burundi",
           "orientation": "v",
           "showlegend": true,
           "textposition": "auto",
           "type": "bar",
           "x": [
            "Burundi"
           ],
           "xaxis": "x",
           "y": [
            94.82744406833316
           ],
           "yaxis": "y"
          },
          {
           "alignmentgroup": "True",
           "hovertemplate": "Country=%{x}<br>Year=1983<br>Age dependency ratio (% of working-age population)=%{y}<extra></extra>",
           "ids": [
            "Djibouti"
           ],
           "legendgroup": "Djibouti",
           "marker": {
            "color": "#EF553B",
            "pattern": {
             "shape": ""
            }
           },
           "name": "Djibouti",
           "offsetgroup": "Djibouti",
           "orientation": "v",
           "showlegend": true,
           "textposition": "auto",
           "type": "bar",
           "x": [
            "Djibouti"
           ],
           "xaxis": "x",
           "y": [
            91.45116700421194
           ],
           "yaxis": "y"
          },
          {
           "alignmentgroup": "True",
           "hovertemplate": "Country=%{x}<br>Year=1983<br>Age dependency ratio (% of working-age population)=%{y}<extra></extra>",
           "ids": [
            "Eritrea"
           ],
           "legendgroup": "Eritrea",
           "marker": {
            "color": "#00cc96",
            "pattern": {
             "shape": ""
            }
           },
           "name": "Eritrea",
           "offsetgroup": "Eritrea",
           "orientation": "v",
           "showlegend": true,
           "textposition": "auto",
           "type": "bar",
           "x": [
            "Eritrea"
           ],
           "xaxis": "x",
           "y": [
            89.77152310548907
           ],
           "yaxis": "y"
          },
          {
           "alignmentgroup": "True",
           "hovertemplate": "Country=%{x}<br>Year=1983<br>Age dependency ratio (% of working-age population)=%{y}<extra></extra>",
           "ids": [
            "Ethiopia"
           ],
           "legendgroup": "Ethiopia",
           "marker": {
            "color": "#ab63fa",
            "pattern": {
             "shape": ""
            }
           },
           "name": "Ethiopia",
           "offsetgroup": "Ethiopia",
           "orientation": "v",
           "showlegend": true,
           "textposition": "auto",
           "type": "bar",
           "x": [
            "Ethiopia"
           ],
           "xaxis": "x",
           "y": [
            94.70501711139838
           ],
           "yaxis": "y"
          },
          {
           "alignmentgroup": "True",
           "hovertemplate": "Country=%{x}<br>Year=1983<br>Age dependency ratio (% of working-age population)=%{y}<extra></extra>",
           "ids": [
            "Kenya"
           ],
           "legendgroup": "Kenya",
           "marker": {
            "color": "#FFA15A",
            "pattern": {
             "shape": ""
            }
           },
           "name": "Kenya",
           "offsetgroup": "Kenya",
           "orientation": "v",
           "showlegend": true,
           "textposition": "auto",
           "type": "bar",
           "x": [
            "Kenya"
           ],
           "xaxis": "x",
           "y": [
            113.33230855216485
           ],
           "yaxis": "y"
          },
          {
           "alignmentgroup": "True",
           "hovertemplate": "Country=%{x}<br>Year=1983<br>Age dependency ratio (% of working-age population)=%{y}<extra></extra>",
           "ids": [
            "Rwanda"
           ],
           "legendgroup": "Rwanda",
           "marker": {
            "color": "#19d3f3",
            "pattern": {
             "shape": ""
            }
           },
           "name": "Rwanda",
           "offsetgroup": "Rwanda",
           "orientation": "v",
           "showlegend": true,
           "textposition": "auto",
           "type": "bar",
           "x": [
            "Rwanda"
           ],
           "xaxis": "x",
           "y": [
            98.09565152126773
           ],
           "yaxis": "y"
          },
          {
           "alignmentgroup": "True",
           "hovertemplate": "Country=%{x}<br>Year=1983<br>Age dependency ratio (% of working-age population)=%{y}<extra></extra>",
           "ids": [
            "Somalia"
           ],
           "legendgroup": "Somalia",
           "marker": {
            "color": "#FF6692",
            "pattern": {
             "shape": ""
            }
           },
           "name": "Somalia",
           "offsetgroup": "Somalia",
           "orientation": "v",
           "showlegend": true,
           "textposition": "auto",
           "type": "bar",
           "x": [
            "Somalia"
           ],
           "xaxis": "x",
           "y": [
            92.89558506355414
           ],
           "yaxis": "y"
          },
          {
           "alignmentgroup": "True",
           "hovertemplate": "Country=%{x}<br>Year=1983<br>Age dependency ratio (% of working-age population)=%{y}<extra></extra>",
           "ids": [
            "South Sudan"
           ],
           "legendgroup": "South Sudan",
           "marker": {
            "color": "#B6E880",
            "pattern": {
             "shape": ""
            }
           },
           "name": "South Sudan",
           "offsetgroup": "South Sudan",
           "orientation": "v",
           "showlegend": true,
           "textposition": "auto",
           "type": "bar",
           "x": [
            "South Sudan"
           ],
           "xaxis": "x",
           "y": [
            90.33516431023855
           ],
           "yaxis": "y"
          },
          {
           "alignmentgroup": "True",
           "hovertemplate": "Country=%{x}<br>Year=1983<br>Age dependency ratio (% of working-age population)=%{y}<extra></extra>",
           "ids": [
            "Sudan"
           ],
           "legendgroup": "Sudan",
           "marker": {
            "color": "#FF97FF",
            "pattern": {
             "shape": ""
            }
           },
           "name": "Sudan",
           "offsetgroup": "Sudan",
           "orientation": "v",
           "showlegend": true,
           "textposition": "auto",
           "type": "bar",
           "x": [
            "Sudan"
           ],
           "xaxis": "x",
           "y": [
            97.65709702482414
           ],
           "yaxis": "y"
          },
          {
           "alignmentgroup": "True",
           "hovertemplate": "Country=%{x}<br>Year=1983<br>Age dependency ratio (% of working-age population)=%{y}<extra></extra>",
           "ids": [
            "Tanzania"
           ],
           "legendgroup": "Tanzania",
           "marker": {
            "color": "#FECB52",
            "pattern": {
             "shape": ""
            }
           },
           "name": "Tanzania",
           "offsetgroup": "Tanzania",
           "orientation": "v",
           "showlegend": true,
           "textposition": "auto",
           "type": "bar",
           "x": [
            "Tanzania"
           ],
           "xaxis": "x",
           "y": [
            100.83562629520132
           ],
           "yaxis": "y"
          },
          {
           "alignmentgroup": "True",
           "hovertemplate": "Country=%{x}<br>Year=1983<br>Age dependency ratio (% of working-age population)=%{y}<extra></extra>",
           "ids": [
            "Uganda"
           ],
           "legendgroup": "Uganda",
           "marker": {
            "color": "#636efa",
            "pattern": {
             "shape": ""
            }
           },
           "name": "Uganda",
           "offsetgroup": "Uganda",
           "orientation": "v",
           "showlegend": true,
           "textposition": "auto",
           "type": "bar",
           "x": [
            "Uganda"
           ],
           "xaxis": "x",
           "y": [
            104.48548065670778
           ],
           "yaxis": "y"
          }
         ],
         "name": "1983"
        },
        {
         "data": [
          {
           "alignmentgroup": "True",
           "hovertemplate": "Country=%{x}<br>Year=1984<br>Age dependency ratio (% of working-age population)=%{y}<extra></extra>",
           "ids": [
            "Burundi"
           ],
           "legendgroup": "Burundi",
           "marker": {
            "color": "#636efa",
            "pattern": {
             "shape": ""
            }
           },
           "name": "Burundi",
           "offsetgroup": "Burundi",
           "orientation": "v",
           "showlegend": true,
           "textposition": "auto",
           "type": "bar",
           "x": [
            "Burundi"
           ],
           "xaxis": "x",
           "y": [
            96.2929361965707
           ],
           "yaxis": "y"
          },
          {
           "alignmentgroup": "True",
           "hovertemplate": "Country=%{x}<br>Year=1984<br>Age dependency ratio (% of working-age population)=%{y}<extra></extra>",
           "ids": [
            "Djibouti"
           ],
           "legendgroup": "Djibouti",
           "marker": {
            "color": "#EF553B",
            "pattern": {
             "shape": ""
            }
           },
           "name": "Djibouti",
           "offsetgroup": "Djibouti",
           "orientation": "v",
           "showlegend": true,
           "textposition": "auto",
           "type": "bar",
           "x": [
            "Djibouti"
           ],
           "xaxis": "x",
           "y": [
            91.08564342573705
           ],
           "yaxis": "y"
          },
          {
           "alignmentgroup": "True",
           "hovertemplate": "Country=%{x}<br>Year=1984<br>Age dependency ratio (% of working-age population)=%{y}<extra></extra>",
           "ids": [
            "Eritrea"
           ],
           "legendgroup": "Eritrea",
           "marker": {
            "color": "#00cc96",
            "pattern": {
             "shape": ""
            }
           },
           "name": "Eritrea",
           "offsetgroup": "Eritrea",
           "orientation": "v",
           "showlegend": true,
           "textposition": "auto",
           "type": "bar",
           "x": [
            "Eritrea"
           ],
           "xaxis": "x",
           "y": [
            89.95717322761865
           ],
           "yaxis": "y"
          },
          {
           "alignmentgroup": "True",
           "hovertemplate": "Country=%{x}<br>Year=1984<br>Age dependency ratio (% of working-age population)=%{y}<extra></extra>",
           "ids": [
            "Ethiopia"
           ],
           "legendgroup": "Ethiopia",
           "marker": {
            "color": "#ab63fa",
            "pattern": {
             "shape": ""
            }
           },
           "name": "Ethiopia",
           "offsetgroup": "Ethiopia",
           "orientation": "v",
           "showlegend": true,
           "textposition": "auto",
           "type": "bar",
           "x": [
            "Ethiopia"
           ],
           "xaxis": "x",
           "y": [
            93.82448528807562
           ],
           "yaxis": "y"
          },
          {
           "alignmentgroup": "True",
           "hovertemplate": "Country=%{x}<br>Year=1984<br>Age dependency ratio (% of working-age population)=%{y}<extra></extra>",
           "ids": [
            "Kenya"
           ],
           "legendgroup": "Kenya",
           "marker": {
            "color": "#FFA15A",
            "pattern": {
             "shape": ""
            }
           },
           "name": "Kenya",
           "offsetgroup": "Kenya",
           "orientation": "v",
           "showlegend": true,
           "textposition": "auto",
           "type": "bar",
           "x": [
            "Kenya"
           ],
           "xaxis": "x",
           "y": [
            112.15089553241762
           ],
           "yaxis": "y"
          },
          {
           "alignmentgroup": "True",
           "hovertemplate": "Country=%{x}<br>Year=1984<br>Age dependency ratio (% of working-age population)=%{y}<extra></extra>",
           "ids": [
            "Rwanda"
           ],
           "legendgroup": "Rwanda",
           "marker": {
            "color": "#19d3f3",
            "pattern": {
             "shape": ""
            }
           },
           "name": "Rwanda",
           "offsetgroup": "Rwanda",
           "orientation": "v",
           "showlegend": true,
           "textposition": "auto",
           "type": "bar",
           "x": [
            "Rwanda"
           ],
           "xaxis": "x",
           "y": [
            99.34575320499634
           ],
           "yaxis": "y"
          },
          {
           "alignmentgroup": "True",
           "hovertemplate": "Country=%{x}<br>Year=1984<br>Age dependency ratio (% of working-age population)=%{y}<extra></extra>",
           "ids": [
            "Somalia"
           ],
           "legendgroup": "Somalia",
           "marker": {
            "color": "#FF6692",
            "pattern": {
             "shape": ""
            }
           },
           "name": "Somalia",
           "offsetgroup": "Somalia",
           "orientation": "v",
           "showlegend": true,
           "textposition": "auto",
           "type": "bar",
           "x": [
            "Somalia"
           ],
           "xaxis": "x",
           "y": [
            93.57311320754717
           ],
           "yaxis": "y"
          },
          {
           "alignmentgroup": "True",
           "hovertemplate": "Country=%{x}<br>Year=1984<br>Age dependency ratio (% of working-age population)=%{y}<extra></extra>",
           "ids": [
            "South Sudan"
           ],
           "legendgroup": "South Sudan",
           "marker": {
            "color": "#B6E880",
            "pattern": {
             "shape": ""
            }
           },
           "name": "South Sudan",
           "offsetgroup": "South Sudan",
           "orientation": "v",
           "showlegend": true,
           "textposition": "auto",
           "type": "bar",
           "x": [
            "South Sudan"
           ],
           "xaxis": "x",
           "y": [
            91.1122570273521
           ],
           "yaxis": "y"
          },
          {
           "alignmentgroup": "True",
           "hovertemplate": "Country=%{x}<br>Year=1984<br>Age dependency ratio (% of working-age population)=%{y}<extra></extra>",
           "ids": [
            "Sudan"
           ],
           "legendgroup": "Sudan",
           "marker": {
            "color": "#FF97FF",
            "pattern": {
             "shape": ""
            }
           },
           "name": "Sudan",
           "offsetgroup": "Sudan",
           "orientation": "v",
           "showlegend": true,
           "textposition": "auto",
           "type": "bar",
           "x": [
            "Sudan"
           ],
           "xaxis": "x",
           "y": [
            97.91417993945215
           ],
           "yaxis": "y"
          },
          {
           "alignmentgroup": "True",
           "hovertemplate": "Country=%{x}<br>Year=1984<br>Age dependency ratio (% of working-age population)=%{y}<extra></extra>",
           "ids": [
            "Tanzania"
           ],
           "legendgroup": "Tanzania",
           "marker": {
            "color": "#FECB52",
            "pattern": {
             "shape": ""
            }
           },
           "name": "Tanzania",
           "offsetgroup": "Tanzania",
           "orientation": "v",
           "showlegend": true,
           "textposition": "auto",
           "type": "bar",
           "x": [
            "Tanzania"
           ],
           "xaxis": "x",
           "y": [
            100.90721419025724
           ],
           "yaxis": "y"
          },
          {
           "alignmentgroup": "True",
           "hovertemplate": "Country=%{x}<br>Year=1984<br>Age dependency ratio (% of working-age population)=%{y}<extra></extra>",
           "ids": [
            "Uganda"
           ],
           "legendgroup": "Uganda",
           "marker": {
            "color": "#636efa",
            "pattern": {
             "shape": ""
            }
           },
           "name": "Uganda",
           "offsetgroup": "Uganda",
           "orientation": "v",
           "showlegend": true,
           "textposition": "auto",
           "type": "bar",
           "x": [
            "Uganda"
           ],
           "xaxis": "x",
           "y": [
            104.18070606455896
           ],
           "yaxis": "y"
          }
         ],
         "name": "1984"
        },
        {
         "data": [
          {
           "alignmentgroup": "True",
           "hovertemplate": "Country=%{x}<br>Year=1985<br>Age dependency ratio (% of working-age population)=%{y}<extra></extra>",
           "ids": [
            "Burundi"
           ],
           "legendgroup": "Burundi",
           "marker": {
            "color": "#636efa",
            "pattern": {
             "shape": ""
            }
           },
           "name": "Burundi",
           "offsetgroup": "Burundi",
           "orientation": "v",
           "showlegend": true,
           "textposition": "auto",
           "type": "bar",
           "x": [
            "Burundi"
           ],
           "xaxis": "x",
           "y": [
            98.0566284017809
           ],
           "yaxis": "y"
          },
          {
           "alignmentgroup": "True",
           "hovertemplate": "Country=%{x}<br>Year=1985<br>Age dependency ratio (% of working-age population)=%{y}<extra></extra>",
           "ids": [
            "Djibouti"
           ],
           "legendgroup": "Djibouti",
           "marker": {
            "color": "#EF553B",
            "pattern": {
             "shape": ""
            }
           },
           "name": "Djibouti",
           "offsetgroup": "Djibouti",
           "orientation": "v",
           "showlegend": true,
           "textposition": "auto",
           "type": "bar",
           "x": [
            "Djibouti"
           ],
           "xaxis": "x",
           "y": [
            90.64041752501296
           ],
           "yaxis": "y"
          },
          {
           "alignmentgroup": "True",
           "hovertemplate": "Country=%{x}<br>Year=1985<br>Age dependency ratio (% of working-age population)=%{y}<extra></extra>",
           "ids": [
            "Eritrea"
           ],
           "legendgroup": "Eritrea",
           "marker": {
            "color": "#00cc96",
            "pattern": {
             "shape": ""
            }
           },
           "name": "Eritrea",
           "offsetgroup": "Eritrea",
           "orientation": "v",
           "showlegend": true,
           "textposition": "auto",
           "type": "bar",
           "x": [
            "Eritrea"
           ],
           "xaxis": "x",
           "y": [
            90.18933374190247
           ],
           "yaxis": "y"
          },
          {
           "alignmentgroup": "True",
           "hovertemplate": "Country=%{x}<br>Year=1985<br>Age dependency ratio (% of working-age population)=%{y}<extra></extra>",
           "ids": [
            "Ethiopia"
           ],
           "legendgroup": "Ethiopia",
           "marker": {
            "color": "#ab63fa",
            "pattern": {
             "shape": ""
            }
           },
           "name": "Ethiopia",
           "offsetgroup": "Ethiopia",
           "orientation": "v",
           "showlegend": true,
           "textposition": "auto",
           "type": "bar",
           "x": [
            "Ethiopia"
           ],
           "xaxis": "x",
           "y": [
            93.30099172042874
           ],
           "yaxis": "y"
          },
          {
           "alignmentgroup": "True",
           "hovertemplate": "Country=%{x}<br>Year=1985<br>Age dependency ratio (% of working-age population)=%{y}<extra></extra>",
           "ids": [
            "Kenya"
           ],
           "legendgroup": "Kenya",
           "marker": {
            "color": "#FFA15A",
            "pattern": {
             "shape": ""
            }
           },
           "name": "Kenya",
           "offsetgroup": "Kenya",
           "orientation": "v",
           "showlegend": true,
           "textposition": "auto",
           "type": "bar",
           "x": [
            "Kenya"
           ],
           "xaxis": "x",
           "y": [
            111.08569441811444
           ],
           "yaxis": "y"
          },
          {
           "alignmentgroup": "True",
           "hovertemplate": "Country=%{x}<br>Year=1985<br>Age dependency ratio (% of working-age population)=%{y}<extra></extra>",
           "ids": [
            "Rwanda"
           ],
           "legendgroup": "Rwanda",
           "marker": {
            "color": "#19d3f3",
            "pattern": {
             "shape": ""
            }
           },
           "name": "Rwanda",
           "offsetgroup": "Rwanda",
           "orientation": "v",
           "showlegend": true,
           "textposition": "auto",
           "type": "bar",
           "x": [
            "Rwanda"
           ],
           "xaxis": "x",
           "y": [
            100.28303442562805
           ],
           "yaxis": "y"
          },
          {
           "alignmentgroup": "True",
           "hovertemplate": "Country=%{x}<br>Year=1985<br>Age dependency ratio (% of working-age population)=%{y}<extra></extra>",
           "ids": [
            "Somalia"
           ],
           "legendgroup": "Somalia",
           "marker": {
            "color": "#FF6692",
            "pattern": {
             "shape": ""
            }
           },
           "name": "Somalia",
           "offsetgroup": "Somalia",
           "orientation": "v",
           "showlegend": true,
           "textposition": "auto",
           "type": "bar",
           "x": [
            "Somalia"
           ],
           "xaxis": "x",
           "y": [
            94.29931351240948
           ],
           "yaxis": "y"
          },
          {
           "alignmentgroup": "True",
           "hovertemplate": "Country=%{x}<br>Year=1985<br>Age dependency ratio (% of working-age population)=%{y}<extra></extra>",
           "ids": [
            "South Sudan"
           ],
           "legendgroup": "South Sudan",
           "marker": {
            "color": "#B6E880",
            "pattern": {
             "shape": ""
            }
           },
           "name": "South Sudan",
           "offsetgroup": "South Sudan",
           "orientation": "v",
           "showlegend": true,
           "textposition": "auto",
           "type": "bar",
           "x": [
            "South Sudan"
           ],
           "xaxis": "x",
           "y": [
            92.11017801402691
           ],
           "yaxis": "y"
          },
          {
           "alignmentgroup": "True",
           "hovertemplate": "Country=%{x}<br>Year=1985<br>Age dependency ratio (% of working-age population)=%{y}<extra></extra>",
           "ids": [
            "Sudan"
           ],
           "legendgroup": "Sudan",
           "marker": {
            "color": "#FF97FF",
            "pattern": {
             "shape": ""
            }
           },
           "name": "Sudan",
           "offsetgroup": "Sudan",
           "orientation": "v",
           "showlegend": true,
           "textposition": "auto",
           "type": "bar",
           "x": [
            "Sudan"
           ],
           "xaxis": "x",
           "y": [
            98.39925126055496
           ],
           "yaxis": "y"
          },
          {
           "alignmentgroup": "True",
           "hovertemplate": "Country=%{x}<br>Year=1985<br>Age dependency ratio (% of working-age population)=%{y}<extra></extra>",
           "ids": [
            "Tanzania"
           ],
           "legendgroup": "Tanzania",
           "marker": {
            "color": "#FECB52",
            "pattern": {
             "shape": ""
            }
           },
           "name": "Tanzania",
           "offsetgroup": "Tanzania",
           "orientation": "v",
           "showlegend": true,
           "textposition": "auto",
           "type": "bar",
           "x": [
            "Tanzania"
           ],
           "xaxis": "x",
           "y": [
            100.6798242026201
           ],
           "yaxis": "y"
          },
          {
           "alignmentgroup": "True",
           "hovertemplate": "Country=%{x}<br>Year=1985<br>Age dependency ratio (% of working-age population)=%{y}<extra></extra>",
           "ids": [
            "Uganda"
           ],
           "legendgroup": "Uganda",
           "marker": {
            "color": "#636efa",
            "pattern": {
             "shape": ""
            }
           },
           "name": "Uganda",
           "offsetgroup": "Uganda",
           "orientation": "v",
           "showlegend": true,
           "textposition": "auto",
           "type": "bar",
           "x": [
            "Uganda"
           ],
           "xaxis": "x",
           "y": [
            103.99606139802464
           ],
           "yaxis": "y"
          }
         ],
         "name": "1985"
        },
        {
         "data": [
          {
           "alignmentgroup": "True",
           "hovertemplate": "Country=%{x}<br>Year=1986<br>Age dependency ratio (% of working-age population)=%{y}<extra></extra>",
           "ids": [
            "Burundi"
           ],
           "legendgroup": "Burundi",
           "marker": {
            "color": "#636efa",
            "pattern": {
             "shape": ""
            }
           },
           "name": "Burundi",
           "offsetgroup": "Burundi",
           "orientation": "v",
           "showlegend": true,
           "textposition": "auto",
           "type": "bar",
           "x": [
            "Burundi"
           ],
           "xaxis": "x",
           "y": [
            100.11927675024242
           ],
           "yaxis": "y"
          },
          {
           "alignmentgroup": "True",
           "hovertemplate": "Country=%{x}<br>Year=1986<br>Age dependency ratio (% of working-age population)=%{y}<extra></extra>",
           "ids": [
            "Djibouti"
           ],
           "legendgroup": "Djibouti",
           "marker": {
            "color": "#EF553B",
            "pattern": {
             "shape": ""
            }
           },
           "name": "Djibouti",
           "offsetgroup": "Djibouti",
           "orientation": "v",
           "showlegend": true,
           "textposition": "auto",
           "type": "bar",
           "x": [
            "Djibouti"
           ],
           "xaxis": "x",
           "y": [
            90.13147870976994
           ],
           "yaxis": "y"
          },
          {
           "alignmentgroup": "True",
           "hovertemplate": "Country=%{x}<br>Year=1986<br>Age dependency ratio (% of working-age population)=%{y}<extra></extra>",
           "ids": [
            "Eritrea"
           ],
           "legendgroup": "Eritrea",
           "marker": {
            "color": "#00cc96",
            "pattern": {
             "shape": ""
            }
           },
           "name": "Eritrea",
           "offsetgroup": "Eritrea",
           "orientation": "v",
           "showlegend": true,
           "textposition": "auto",
           "type": "bar",
           "x": [
            "Eritrea"
           ],
           "xaxis": "x",
           "y": [
            90.41810485438413
           ],
           "yaxis": "y"
          },
          {
           "alignmentgroup": "True",
           "hovertemplate": "Country=%{x}<br>Year=1986<br>Age dependency ratio (% of working-age population)=%{y}<extra></extra>",
           "ids": [
            "Ethiopia"
           ],
           "legendgroup": "Ethiopia",
           "marker": {
            "color": "#ab63fa",
            "pattern": {
             "shape": ""
            }
           },
           "name": "Ethiopia",
           "offsetgroup": "Ethiopia",
           "orientation": "v",
           "showlegend": true,
           "textposition": "auto",
           "type": "bar",
           "x": [
            "Ethiopia"
           ],
           "xaxis": "x",
           "y": [
            93.22499173130912
           ],
           "yaxis": "y"
          },
          {
           "alignmentgroup": "True",
           "hovertemplate": "Country=%{x}<br>Year=1986<br>Age dependency ratio (% of working-age population)=%{y}<extra></extra>",
           "ids": [
            "Kenya"
           ],
           "legendgroup": "Kenya",
           "marker": {
            "color": "#FFA15A",
            "pattern": {
             "shape": ""
            }
           },
           "name": "Kenya",
           "offsetgroup": "Kenya",
           "orientation": "v",
           "showlegend": true,
           "textposition": "auto",
           "type": "bar",
           "x": [
            "Kenya"
           ],
           "xaxis": "x",
           "y": [
            110.14914622813843
           ],
           "yaxis": "y"
          },
          {
           "alignmentgroup": "True",
           "hovertemplate": "Country=%{x}<br>Year=1986<br>Age dependency ratio (% of working-age population)=%{y}<extra></extra>",
           "ids": [
            "Rwanda"
           ],
           "legendgroup": "Rwanda",
           "marker": {
            "color": "#19d3f3",
            "pattern": {
             "shape": ""
            }
           },
           "name": "Rwanda",
           "offsetgroup": "Rwanda",
           "orientation": "v",
           "showlegend": true,
           "textposition": "auto",
           "type": "bar",
           "x": [
            "Rwanda"
           ],
           "xaxis": "x",
           "y": [
            100.71658414427073
           ],
           "yaxis": "y"
          },
          {
           "alignmentgroup": "True",
           "hovertemplate": "Country=%{x}<br>Year=1986<br>Age dependency ratio (% of working-age population)=%{y}<extra></extra>",
           "ids": [
            "Somalia"
           ],
           "legendgroup": "Somalia",
           "marker": {
            "color": "#FF6692",
            "pattern": {
             "shape": ""
            }
           },
           "name": "Somalia",
           "offsetgroup": "Somalia",
           "orientation": "v",
           "showlegend": true,
           "textposition": "auto",
           "type": "bar",
           "x": [
            "Somalia"
           ],
           "xaxis": "x",
           "y": [
            95.06576848296818
           ],
           "yaxis": "y"
          },
          {
           "alignmentgroup": "True",
           "hovertemplate": "Country=%{x}<br>Year=1986<br>Age dependency ratio (% of working-age population)=%{y}<extra></extra>",
           "ids": [
            "South Sudan"
           ],
           "legendgroup": "South Sudan",
           "marker": {
            "color": "#B6E880",
            "pattern": {
             "shape": ""
            }
           },
           "name": "South Sudan",
           "offsetgroup": "South Sudan",
           "orientation": "v",
           "showlegend": true,
           "textposition": "auto",
           "type": "bar",
           "x": [
            "South Sudan"
           ],
           "xaxis": "x",
           "y": [
            93.16296144890246
           ],
           "yaxis": "y"
          },
          {
           "alignmentgroup": "True",
           "hovertemplate": "Country=%{x}<br>Year=1986<br>Age dependency ratio (% of working-age population)=%{y}<extra></extra>",
           "ids": [
            "Sudan"
           ],
           "legendgroup": "Sudan",
           "marker": {
            "color": "#FF97FF",
            "pattern": {
             "shape": ""
            }
           },
           "name": "Sudan",
           "offsetgroup": "Sudan",
           "orientation": "v",
           "showlegend": true,
           "textposition": "auto",
           "type": "bar",
           "x": [
            "Sudan"
           ],
           "xaxis": "x",
           "y": [
            99.04470322125415
           ],
           "yaxis": "y"
          },
          {
           "alignmentgroup": "True",
           "hovertemplate": "Country=%{x}<br>Year=1986<br>Age dependency ratio (% of working-age population)=%{y}<extra></extra>",
           "ids": [
            "Tanzania"
           ],
           "legendgroup": "Tanzania",
           "marker": {
            "color": "#FECB52",
            "pattern": {
             "shape": ""
            }
           },
           "name": "Tanzania",
           "offsetgroup": "Tanzania",
           "orientation": "v",
           "showlegend": true,
           "textposition": "auto",
           "type": "bar",
           "x": [
            "Tanzania"
           ],
           "xaxis": "x",
           "y": [
            100.14203020647496
           ],
           "yaxis": "y"
          },
          {
           "alignmentgroup": "True",
           "hovertemplate": "Country=%{x}<br>Year=1986<br>Age dependency ratio (% of working-age population)=%{y}<extra></extra>",
           "ids": [
            "Uganda"
           ],
           "legendgroup": "Uganda",
           "marker": {
            "color": "#636efa",
            "pattern": {
             "shape": ""
            }
           },
           "name": "Uganda",
           "offsetgroup": "Uganda",
           "orientation": "v",
           "showlegend": true,
           "textposition": "auto",
           "type": "bar",
           "x": [
            "Uganda"
           ],
           "xaxis": "x",
           "y": [
            104.02582875080807
           ],
           "yaxis": "y"
          }
         ],
         "name": "1986"
        },
        {
         "data": [
          {
           "alignmentgroup": "True",
           "hovertemplate": "Country=%{x}<br>Year=1987<br>Age dependency ratio (% of working-age population)=%{y}<extra></extra>",
           "ids": [
            "Burundi"
           ],
           "legendgroup": "Burundi",
           "marker": {
            "color": "#636efa",
            "pattern": {
             "shape": ""
            }
           },
           "name": "Burundi",
           "offsetgroup": "Burundi",
           "orientation": "v",
           "showlegend": true,
           "textposition": "auto",
           "type": "bar",
           "x": [
            "Burundi"
           ],
           "xaxis": "x",
           "y": [
            101.37965662417514
           ],
           "yaxis": "y"
          },
          {
           "alignmentgroup": "True",
           "hovertemplate": "Country=%{x}<br>Year=1987<br>Age dependency ratio (% of working-age population)=%{y}<extra></extra>",
           "ids": [
            "Djibouti"
           ],
           "legendgroup": "Djibouti",
           "marker": {
            "color": "#EF553B",
            "pattern": {
             "shape": ""
            }
           },
           "name": "Djibouti",
           "offsetgroup": "Djibouti",
           "orientation": "v",
           "showlegend": true,
           "textposition": "auto",
           "type": "bar",
           "x": [
            "Djibouti"
           ],
           "xaxis": "x",
           "y": [
            89.57781429194192
           ],
           "yaxis": "y"
          },
          {
           "alignmentgroup": "True",
           "hovertemplate": "Country=%{x}<br>Year=1987<br>Age dependency ratio (% of working-age population)=%{y}<extra></extra>",
           "ids": [
            "Eritrea"
           ],
           "legendgroup": "Eritrea",
           "marker": {
            "color": "#00cc96",
            "pattern": {
             "shape": ""
            }
           },
           "name": "Eritrea",
           "offsetgroup": "Eritrea",
           "orientation": "v",
           "showlegend": true,
           "textposition": "auto",
           "type": "bar",
           "x": [
            "Eritrea"
           ],
           "xaxis": "x",
           "y": [
            90.70369604159656
           ],
           "yaxis": "y"
          },
          {
           "alignmentgroup": "True",
           "hovertemplate": "Country=%{x}<br>Year=1987<br>Age dependency ratio (% of working-age population)=%{y}<extra></extra>",
           "ids": [
            "Ethiopia"
           ],
           "legendgroup": "Ethiopia",
           "marker": {
            "color": "#ab63fa",
            "pattern": {
             "shape": ""
            }
           },
           "name": "Ethiopia",
           "offsetgroup": "Ethiopia",
           "orientation": "v",
           "showlegend": true,
           "textposition": "auto",
           "type": "bar",
           "x": [
            "Ethiopia"
           ],
           "xaxis": "x",
           "y": [
            93.67059613968178
           ],
           "yaxis": "y"
          },
          {
           "alignmentgroup": "True",
           "hovertemplate": "Country=%{x}<br>Year=1987<br>Age dependency ratio (% of working-age population)=%{y}<extra></extra>",
           "ids": [
            "Kenya"
           ],
           "legendgroup": "Kenya",
           "marker": {
            "color": "#FFA15A",
            "pattern": {
             "shape": ""
            }
           },
           "name": "Kenya",
           "offsetgroup": "Kenya",
           "orientation": "v",
           "showlegend": true,
           "textposition": "auto",
           "type": "bar",
           "x": [
            "Kenya"
           ],
           "xaxis": "x",
           "y": [
            109.30401366353544
           ],
           "yaxis": "y"
          },
          {
           "alignmentgroup": "True",
           "hovertemplate": "Country=%{x}<br>Year=1987<br>Age dependency ratio (% of working-age population)=%{y}<extra></extra>",
           "ids": [
            "Rwanda"
           ],
           "legendgroup": "Rwanda",
           "marker": {
            "color": "#19d3f3",
            "pattern": {
             "shape": ""
            }
           },
           "name": "Rwanda",
           "offsetgroup": "Rwanda",
           "orientation": "v",
           "showlegend": true,
           "textposition": "auto",
           "type": "bar",
           "x": [
            "Rwanda"
           ],
           "xaxis": "x",
           "y": [
            101.06760174231172
           ],
           "yaxis": "y"
          },
          {
           "alignmentgroup": "True",
           "hovertemplate": "Country=%{x}<br>Year=1987<br>Age dependency ratio (% of working-age population)=%{y}<extra></extra>",
           "ids": [
            "Somalia"
           ],
           "legendgroup": "Somalia",
           "marker": {
            "color": "#FF6692",
            "pattern": {
             "shape": ""
            }
           },
           "name": "Somalia",
           "offsetgroup": "Somalia",
           "orientation": "v",
           "showlegend": true,
           "textposition": "auto",
           "type": "bar",
           "x": [
            "Somalia"
           ],
           "xaxis": "x",
           "y": [
            95.87443465164031
           ],
           "yaxis": "y"
          },
          {
           "alignmentgroup": "True",
           "hovertemplate": "Country=%{x}<br>Year=1987<br>Age dependency ratio (% of working-age population)=%{y}<extra></extra>",
           "ids": [
            "South Sudan"
           ],
           "legendgroup": "South Sudan",
           "marker": {
            "color": "#B6E880",
            "pattern": {
             "shape": ""
            }
           },
           "name": "South Sudan",
           "offsetgroup": "South Sudan",
           "orientation": "v",
           "showlegend": true,
           "textposition": "auto",
           "type": "bar",
           "x": [
            "South Sudan"
           ],
           "xaxis": "x",
           "y": [
            94.39080901731909
           ],
           "yaxis": "y"
          },
          {
           "alignmentgroup": "True",
           "hovertemplate": "Country=%{x}<br>Year=1987<br>Age dependency ratio (% of working-age population)=%{y}<extra></extra>",
           "ids": [
            "Sudan"
           ],
           "legendgroup": "Sudan",
           "marker": {
            "color": "#FF97FF",
            "pattern": {
             "shape": ""
            }
           },
           "name": "Sudan",
           "offsetgroup": "Sudan",
           "orientation": "v",
           "showlegend": true,
           "textposition": "auto",
           "type": "bar",
           "x": [
            "Sudan"
           ],
           "xaxis": "x",
           "y": [
            99.8244593720047
           ],
           "yaxis": "y"
          },
          {
           "alignmentgroup": "True",
           "hovertemplate": "Country=%{x}<br>Year=1987<br>Age dependency ratio (% of working-age population)=%{y}<extra></extra>",
           "ids": [
            "Tanzania"
           ],
           "legendgroup": "Tanzania",
           "marker": {
            "color": "#FECB52",
            "pattern": {
             "shape": ""
            }
           },
           "name": "Tanzania",
           "offsetgroup": "Tanzania",
           "orientation": "v",
           "showlegend": true,
           "textposition": "auto",
           "type": "bar",
           "x": [
            "Tanzania"
           ],
           "xaxis": "x",
           "y": [
            99.42427874927986
           ],
           "yaxis": "y"
          },
          {
           "alignmentgroup": "True",
           "hovertemplate": "Country=%{x}<br>Year=1987<br>Age dependency ratio (% of working-age population)=%{y}<extra></extra>",
           "ids": [
            "Uganda"
           ],
           "legendgroup": "Uganda",
           "marker": {
            "color": "#636efa",
            "pattern": {
             "shape": ""
            }
           },
           "name": "Uganda",
           "offsetgroup": "Uganda",
           "orientation": "v",
           "showlegend": true,
           "textposition": "auto",
           "type": "bar",
           "x": [
            "Uganda"
           ],
           "xaxis": "x",
           "y": [
            104.03895617360216
           ],
           "yaxis": "y"
          }
         ],
         "name": "1987"
        },
        {
         "data": [
          {
           "alignmentgroup": "True",
           "hovertemplate": "Country=%{x}<br>Year=1988<br>Age dependency ratio (% of working-age population)=%{y}<extra></extra>",
           "ids": [
            "Burundi"
           ],
           "legendgroup": "Burundi",
           "marker": {
            "color": "#636efa",
            "pattern": {
             "shape": ""
            }
           },
           "name": "Burundi",
           "offsetgroup": "Burundi",
           "orientation": "v",
           "showlegend": true,
           "textposition": "auto",
           "type": "bar",
           "x": [
            "Burundi"
           ],
           "xaxis": "x",
           "y": [
            102.6491257608222
           ],
           "yaxis": "y"
          },
          {
           "alignmentgroup": "True",
           "hovertemplate": "Country=%{x}<br>Year=1988<br>Age dependency ratio (% of working-age population)=%{y}<extra></extra>",
           "ids": [
            "Djibouti"
           ],
           "legendgroup": "Djibouti",
           "marker": {
            "color": "#EF553B",
            "pattern": {
             "shape": ""
            }
           },
           "name": "Djibouti",
           "offsetgroup": "Djibouti",
           "orientation": "v",
           "showlegend": true,
           "textposition": "auto",
           "type": "bar",
           "x": [
            "Djibouti"
           ],
           "xaxis": "x",
           "y": [
            88.98984793451899
           ],
           "yaxis": "y"
          },
          {
           "alignmentgroup": "True",
           "hovertemplate": "Country=%{x}<br>Year=1988<br>Age dependency ratio (% of working-age population)=%{y}<extra></extra>",
           "ids": [
            "Eritrea"
           ],
           "legendgroup": "Eritrea",
           "marker": {
            "color": "#00cc96",
            "pattern": {
             "shape": ""
            }
           },
           "name": "Eritrea",
           "offsetgroup": "Eritrea",
           "orientation": "v",
           "showlegend": true,
           "textposition": "auto",
           "type": "bar",
           "x": [
            "Eritrea"
           ],
           "xaxis": "x",
           "y": [
            91.07140029821916
           ],
           "yaxis": "y"
          },
          {
           "alignmentgroup": "True",
           "hovertemplate": "Country=%{x}<br>Year=1988<br>Age dependency ratio (% of working-age population)=%{y}<extra></extra>",
           "ids": [
            "Ethiopia"
           ],
           "legendgroup": "Ethiopia",
           "marker": {
            "color": "#ab63fa",
            "pattern": {
             "shape": ""
            }
           },
           "name": "Ethiopia",
           "offsetgroup": "Ethiopia",
           "orientation": "v",
           "showlegend": true,
           "textposition": "auto",
           "type": "bar",
           "x": [
            "Ethiopia"
           ],
           "xaxis": "x",
           "y": [
            94.610600520643
           ],
           "yaxis": "y"
          },
          {
           "alignmentgroup": "True",
           "hovertemplate": "Country=%{x}<br>Year=1988<br>Age dependency ratio (% of working-age population)=%{y}<extra></extra>",
           "ids": [
            "Kenya"
           ],
           "legendgroup": "Kenya",
           "marker": {
            "color": "#FFA15A",
            "pattern": {
             "shape": ""
            }
           },
           "name": "Kenya",
           "offsetgroup": "Kenya",
           "orientation": "v",
           "showlegend": true,
           "textposition": "auto",
           "type": "bar",
           "x": [
            "Kenya"
           ],
           "xaxis": "x",
           "y": [
            108.37532821625432
           ],
           "yaxis": "y"
          },
          {
           "alignmentgroup": "True",
           "hovertemplate": "Country=%{x}<br>Year=1988<br>Age dependency ratio (% of working-age population)=%{y}<extra></extra>",
           "ids": [
            "Rwanda"
           ],
           "legendgroup": "Rwanda",
           "marker": {
            "color": "#19d3f3",
            "pattern": {
             "shape": ""
            }
           },
           "name": "Rwanda",
           "offsetgroup": "Rwanda",
           "orientation": "v",
           "showlegend": true,
           "textposition": "auto",
           "type": "bar",
           "x": [
            "Rwanda"
           ],
           "xaxis": "x",
           "y": [
            101.87288989267664
           ],
           "yaxis": "y"
          },
          {
           "alignmentgroup": "True",
           "hovertemplate": "Country=%{x}<br>Year=1988<br>Age dependency ratio (% of working-age population)=%{y}<extra></extra>",
           "ids": [
            "Somalia"
           ],
           "legendgroup": "Somalia",
           "marker": {
            "color": "#FF6692",
            "pattern": {
             "shape": ""
            }
           },
           "name": "Somalia",
           "offsetgroup": "Somalia",
           "orientation": "v",
           "showlegend": true,
           "textposition": "auto",
           "type": "bar",
           "x": [
            "Somalia"
           ],
           "xaxis": "x",
           "y": [
            96.8854236352333
           ],
           "yaxis": "y"
          },
          {
           "alignmentgroup": "True",
           "hovertemplate": "Country=%{x}<br>Year=1988<br>Age dependency ratio (% of working-age population)=%{y}<extra></extra>",
           "ids": [
            "South Sudan"
           ],
           "legendgroup": "South Sudan",
           "marker": {
            "color": "#B6E880",
            "pattern": {
             "shape": ""
            }
           },
           "name": "South Sudan",
           "offsetgroup": "South Sudan",
           "orientation": "v",
           "showlegend": true,
           "textposition": "auto",
           "type": "bar",
           "x": [
            "South Sudan"
           ],
           "xaxis": "x",
           "y": [
            92.44497594077582
           ],
           "yaxis": "y"
          },
          {
           "alignmentgroup": "True",
           "hovertemplate": "Country=%{x}<br>Year=1988<br>Age dependency ratio (% of working-age population)=%{y}<extra></extra>",
           "ids": [
            "Sudan"
           ],
           "legendgroup": "Sudan",
           "marker": {
            "color": "#FF97FF",
            "pattern": {
             "shape": ""
            }
           },
           "name": "Sudan",
           "offsetgroup": "Sudan",
           "orientation": "v",
           "showlegend": true,
           "textposition": "auto",
           "type": "bar",
           "x": [
            "Sudan"
           ],
           "xaxis": "x",
           "y": [
            100.5468563018242
           ],
           "yaxis": "y"
          },
          {
           "alignmentgroup": "True",
           "hovertemplate": "Country=%{x}<br>Year=1988<br>Age dependency ratio (% of working-age population)=%{y}<extra></extra>",
           "ids": [
            "Tanzania"
           ],
           "legendgroup": "Tanzania",
           "marker": {
            "color": "#FECB52",
            "pattern": {
             "shape": ""
            }
           },
           "name": "Tanzania",
           "offsetgroup": "Tanzania",
           "orientation": "v",
           "showlegend": true,
           "textposition": "auto",
           "type": "bar",
           "x": [
            "Tanzania"
           ],
           "xaxis": "x",
           "y": [
            98.74873202840256
           ],
           "yaxis": "y"
          },
          {
           "alignmentgroup": "True",
           "hovertemplate": "Country=%{x}<br>Year=1988<br>Age dependency ratio (% of working-age population)=%{y}<extra></extra>",
           "ids": [
            "Uganda"
           ],
           "legendgroup": "Uganda",
           "marker": {
            "color": "#636efa",
            "pattern": {
             "shape": ""
            }
           },
           "name": "Uganda",
           "offsetgroup": "Uganda",
           "orientation": "v",
           "showlegend": true,
           "textposition": "auto",
           "type": "bar",
           "x": [
            "Uganda"
           ],
           "xaxis": "x",
           "y": [
            104.1422393675169
           ],
           "yaxis": "y"
          }
         ],
         "name": "1988"
        },
        {
         "data": [
          {
           "alignmentgroup": "True",
           "hovertemplate": "Country=%{x}<br>Year=1989<br>Age dependency ratio (% of working-age population)=%{y}<extra></extra>",
           "ids": [
            "Burundi"
           ],
           "legendgroup": "Burundi",
           "marker": {
            "color": "#636efa",
            "pattern": {
             "shape": ""
            }
           },
           "name": "Burundi",
           "offsetgroup": "Burundi",
           "orientation": "v",
           "showlegend": true,
           "textposition": "auto",
           "type": "bar",
           "x": [
            "Burundi"
           ],
           "xaxis": "x",
           "y": [
            104.28859158377826
           ],
           "yaxis": "y"
          },
          {
           "alignmentgroup": "True",
           "hovertemplate": "Country=%{x}<br>Year=1989<br>Age dependency ratio (% of working-age population)=%{y}<extra></extra>",
           "ids": [
            "Djibouti"
           ],
           "legendgroup": "Djibouti",
           "marker": {
            "color": "#EF553B",
            "pattern": {
             "shape": ""
            }
           },
           "name": "Djibouti",
           "offsetgroup": "Djibouti",
           "orientation": "v",
           "showlegend": true,
           "textposition": "auto",
           "type": "bar",
           "x": [
            "Djibouti"
           ],
           "xaxis": "x",
           "y": [
            88.38193774153083
           ],
           "yaxis": "y"
          },
          {
           "alignmentgroup": "True",
           "hovertemplate": "Country=%{x}<br>Year=1989<br>Age dependency ratio (% of working-age population)=%{y}<extra></extra>",
           "ids": [
            "Eritrea"
           ],
           "legendgroup": "Eritrea",
           "marker": {
            "color": "#00cc96",
            "pattern": {
             "shape": ""
            }
           },
           "name": "Eritrea",
           "offsetgroup": "Eritrea",
           "orientation": "v",
           "showlegend": true,
           "textposition": "auto",
           "type": "bar",
           "x": [
            "Eritrea"
           ],
           "xaxis": "x",
           "y": [
            91.49800041904658
           ],
           "yaxis": "y"
          },
          {
           "alignmentgroup": "True",
           "hovertemplate": "Country=%{x}<br>Year=1989<br>Age dependency ratio (% of working-age population)=%{y}<extra></extra>",
           "ids": [
            "Ethiopia"
           ],
           "legendgroup": "Ethiopia",
           "marker": {
            "color": "#ab63fa",
            "pattern": {
             "shape": ""
            }
           },
           "name": "Ethiopia",
           "offsetgroup": "Ethiopia",
           "orientation": "v",
           "showlegend": true,
           "textposition": "auto",
           "type": "bar",
           "x": [
            "Ethiopia"
           ],
           "xaxis": "x",
           "y": [
            95.53694810100698
           ],
           "yaxis": "y"
          },
          {
           "alignmentgroup": "True",
           "hovertemplate": "Country=%{x}<br>Year=1989<br>Age dependency ratio (% of working-age population)=%{y}<extra></extra>",
           "ids": [
            "Kenya"
           ],
           "legendgroup": "Kenya",
           "marker": {
            "color": "#FFA15A",
            "pattern": {
             "shape": ""
            }
           },
           "name": "Kenya",
           "offsetgroup": "Kenya",
           "orientation": "v",
           "showlegend": true,
           "textposition": "auto",
           "type": "bar",
           "x": [
            "Kenya"
           ],
           "xaxis": "x",
           "y": [
            107.3032250250566
           ],
           "yaxis": "y"
          },
          {
           "alignmentgroup": "True",
           "hovertemplate": "Country=%{x}<br>Year=1989<br>Age dependency ratio (% of working-age population)=%{y}<extra></extra>",
           "ids": [
            "Rwanda"
           ],
           "legendgroup": "Rwanda",
           "marker": {
            "color": "#19d3f3",
            "pattern": {
             "shape": ""
            }
           },
           "name": "Rwanda",
           "offsetgroup": "Rwanda",
           "orientation": "v",
           "showlegend": true,
           "textposition": "auto",
           "type": "bar",
           "x": [
            "Rwanda"
           ],
           "xaxis": "x",
           "y": [
            103.15248751768203
           ],
           "yaxis": "y"
          },
          {
           "alignmentgroup": "True",
           "hovertemplate": "Country=%{x}<br>Year=1989<br>Age dependency ratio (% of working-age population)=%{y}<extra></extra>",
           "ids": [
            "Somalia"
           ],
           "legendgroup": "Somalia",
           "marker": {
            "color": "#FF6692",
            "pattern": {
             "shape": ""
            }
           },
           "name": "Somalia",
           "offsetgroup": "Somalia",
           "orientation": "v",
           "showlegend": true,
           "textposition": "auto",
           "type": "bar",
           "x": [
            "Somalia"
           ],
           "xaxis": "x",
           "y": [
            98.1161531880766
           ],
           "yaxis": "y"
          },
          {
           "alignmentgroup": "True",
           "hovertemplate": "Country=%{x}<br>Year=1989<br>Age dependency ratio (% of working-age population)=%{y}<extra></extra>",
           "ids": [
            "South Sudan"
           ],
           "legendgroup": "South Sudan",
           "marker": {
            "color": "#B6E880",
            "pattern": {
             "shape": ""
            }
           },
           "name": "South Sudan",
           "offsetgroup": "South Sudan",
           "orientation": "v",
           "showlegend": true,
           "textposition": "auto",
           "type": "bar",
           "x": [
            "South Sudan"
           ],
           "xaxis": "x",
           "y": [
            90.5058459625499
           ],
           "yaxis": "y"
          },
          {
           "alignmentgroup": "True",
           "hovertemplate": "Country=%{x}<br>Year=1989<br>Age dependency ratio (% of working-age population)=%{y}<extra></extra>",
           "ids": [
            "Sudan"
           ],
           "legendgroup": "Sudan",
           "marker": {
            "color": "#FF97FF",
            "pattern": {
             "shape": ""
            }
           },
           "name": "Sudan",
           "offsetgroup": "Sudan",
           "orientation": "v",
           "showlegend": true,
           "textposition": "auto",
           "type": "bar",
           "x": [
            "Sudan"
           ],
           "xaxis": "x",
           "y": [
            101.22994895997364
           ],
           "yaxis": "y"
          },
          {
           "alignmentgroup": "True",
           "hovertemplate": "Country=%{x}<br>Year=1989<br>Age dependency ratio (% of working-age population)=%{y}<extra></extra>",
           "ids": [
            "Tanzania"
           ],
           "legendgroup": "Tanzania",
           "marker": {
            "color": "#FECB52",
            "pattern": {
             "shape": ""
            }
           },
           "name": "Tanzania",
           "offsetgroup": "Tanzania",
           "orientation": "v",
           "showlegend": true,
           "textposition": "auto",
           "type": "bar",
           "x": [
            "Tanzania"
           ],
           "xaxis": "x",
           "y": [
            98.08231217145897
           ],
           "yaxis": "y"
          },
          {
           "alignmentgroup": "True",
           "hovertemplate": "Country=%{x}<br>Year=1989<br>Age dependency ratio (% of working-age population)=%{y}<extra></extra>",
           "ids": [
            "Uganda"
           ],
           "legendgroup": "Uganda",
           "marker": {
            "color": "#636efa",
            "pattern": {
             "shape": ""
            }
           },
           "name": "Uganda",
           "offsetgroup": "Uganda",
           "orientation": "v",
           "showlegend": true,
           "textposition": "auto",
           "type": "bar",
           "x": [
            "Uganda"
           ],
           "xaxis": "x",
           "y": [
            104.35265189153382
           ],
           "yaxis": "y"
          }
         ],
         "name": "1989"
        },
        {
         "data": [
          {
           "alignmentgroup": "True",
           "hovertemplate": "Country=%{x}<br>Year=1990<br>Age dependency ratio (% of working-age population)=%{y}<extra></extra>",
           "ids": [
            "Burundi"
           ],
           "legendgroup": "Burundi",
           "marker": {
            "color": "#636efa",
            "pattern": {
             "shape": ""
            }
           },
           "name": "Burundi",
           "offsetgroup": "Burundi",
           "orientation": "v",
           "showlegend": true,
           "textposition": "auto",
           "type": "bar",
           "x": [
            "Burundi"
           ],
           "xaxis": "x",
           "y": [
            105.5065399952856
           ],
           "yaxis": "y"
          },
          {
           "alignmentgroup": "True",
           "hovertemplate": "Country=%{x}<br>Year=1990<br>Age dependency ratio (% of working-age population)=%{y}<extra></extra>",
           "ids": [
            "Djibouti"
           ],
           "legendgroup": "Djibouti",
           "marker": {
            "color": "#EF553B",
            "pattern": {
             "shape": ""
            }
           },
           "name": "Djibouti",
           "offsetgroup": "Djibouti",
           "orientation": "v",
           "showlegend": true,
           "textposition": "auto",
           "type": "bar",
           "x": [
            "Djibouti"
           ],
           "xaxis": "x",
           "y": [
            87.76936990864847
           ],
           "yaxis": "y"
          },
          {
           "alignmentgroup": "True",
           "hovertemplate": "Country=%{x}<br>Year=1990<br>Age dependency ratio (% of working-age population)=%{y}<extra></extra>",
           "ids": [
            "Eritrea"
           ],
           "legendgroup": "Eritrea",
           "marker": {
            "color": "#00cc96",
            "pattern": {
             "shape": ""
            }
           },
           "name": "Eritrea",
           "offsetgroup": "Eritrea",
           "orientation": "v",
           "showlegend": true,
           "textposition": "auto",
           "type": "bar",
           "x": [
            "Eritrea"
           ],
           "xaxis": "x",
           "y": [
            92.07767587048542
           ],
           "yaxis": "y"
          },
          {
           "alignmentgroup": "True",
           "hovertemplate": "Country=%{x}<br>Year=1990<br>Age dependency ratio (% of working-age population)=%{y}<extra></extra>",
           "ids": [
            "Ethiopia"
           ],
           "legendgroup": "Ethiopia",
           "marker": {
            "color": "#ab63fa",
            "pattern": {
             "shape": ""
            }
           },
           "name": "Ethiopia",
           "offsetgroup": "Ethiopia",
           "orientation": "v",
           "showlegend": true,
           "textposition": "auto",
           "type": "bar",
           "x": [
            "Ethiopia"
           ],
           "xaxis": "x",
           "y": [
            96.39476000316346
           ],
           "yaxis": "y"
          },
          {
           "alignmentgroup": "True",
           "hovertemplate": "Country=%{x}<br>Year=1990<br>Age dependency ratio (% of working-age population)=%{y}<extra></extra>",
           "ids": [
            "Kenya"
           ],
           "legendgroup": "Kenya",
           "marker": {
            "color": "#FFA15A",
            "pattern": {
             "shape": ""
            }
           },
           "name": "Kenya",
           "offsetgroup": "Kenya",
           "orientation": "v",
           "showlegend": true,
           "textposition": "auto",
           "type": "bar",
           "x": [
            "Kenya"
           ],
           "xaxis": "x",
           "y": [
            106.05358327307717
           ],
           "yaxis": "y"
          },
          {
           "alignmentgroup": "True",
           "hovertemplate": "Country=%{x}<br>Year=1990<br>Age dependency ratio (% of working-age population)=%{y}<extra></extra>",
           "ids": [
            "Rwanda"
           ],
           "legendgroup": "Rwanda",
           "marker": {
            "color": "#19d3f3",
            "pattern": {
             "shape": ""
            }
           },
           "name": "Rwanda",
           "offsetgroup": "Rwanda",
           "orientation": "v",
           "showlegend": true,
           "textposition": "auto",
           "type": "bar",
           "x": [
            "Rwanda"
           ],
           "xaxis": "x",
           "y": [
            104.23374282597354
           ],
           "yaxis": "y"
          },
          {
           "alignmentgroup": "True",
           "hovertemplate": "Country=%{x}<br>Year=1990<br>Age dependency ratio (% of working-age population)=%{y}<extra></extra>",
           "ids": [
            "Somalia"
           ],
           "legendgroup": "Somalia",
           "marker": {
            "color": "#FF6692",
            "pattern": {
             "shape": ""
            }
           },
           "name": "Somalia",
           "offsetgroup": "Somalia",
           "orientation": "v",
           "showlegend": true,
           "textposition": "auto",
           "type": "bar",
           "x": [
            "Somalia"
           ],
           "xaxis": "x",
           "y": [
            99.29650636507122
           ],
           "yaxis": "y"
          },
          {
           "alignmentgroup": "True",
           "hovertemplate": "Country=%{x}<br>Year=1990<br>Age dependency ratio (% of working-age population)=%{y}<extra></extra>",
           "ids": [
            "South Sudan"
           ],
           "legendgroup": "South Sudan",
           "marker": {
            "color": "#B6E880",
            "pattern": {
             "shape": ""
            }
           },
           "name": "South Sudan",
           "offsetgroup": "South Sudan",
           "orientation": "v",
           "showlegend": true,
           "textposition": "auto",
           "type": "bar",
           "x": [
            "South Sudan"
           ],
           "xaxis": "x",
           "y": [
            91.80557731221224
           ],
           "yaxis": "y"
          },
          {
           "alignmentgroup": "True",
           "hovertemplate": "Country=%{x}<br>Year=1990<br>Age dependency ratio (% of working-age population)=%{y}<extra></extra>",
           "ids": [
            "Sudan"
           ],
           "legendgroup": "Sudan",
           "marker": {
            "color": "#FF97FF",
            "pattern": {
             "shape": ""
            }
           },
           "name": "Sudan",
           "offsetgroup": "Sudan",
           "orientation": "v",
           "showlegend": true,
           "textposition": "auto",
           "type": "bar",
           "x": [
            "Sudan"
           ],
           "xaxis": "x",
           "y": [
            101.77836864115103
           ],
           "yaxis": "y"
          },
          {
           "alignmentgroup": "True",
           "hovertemplate": "Country=%{x}<br>Year=1990<br>Age dependency ratio (% of working-age population)=%{y}<extra></extra>",
           "ids": [
            "Tanzania"
           ],
           "legendgroup": "Tanzania",
           "marker": {
            "color": "#FECB52",
            "pattern": {
             "shape": ""
            }
           },
           "name": "Tanzania",
           "offsetgroup": "Tanzania",
           "orientation": "v",
           "showlegend": true,
           "textposition": "auto",
           "type": "bar",
           "x": [
            "Tanzania"
           ],
           "xaxis": "x",
           "y": [
            97.23224714906736
           ],
           "yaxis": "y"
          },
          {
           "alignmentgroup": "True",
           "hovertemplate": "Country=%{x}<br>Year=1990<br>Age dependency ratio (% of working-age population)=%{y}<extra></extra>",
           "ids": [
            "Uganda"
           ],
           "legendgroup": "Uganda",
           "marker": {
            "color": "#636efa",
            "pattern": {
             "shape": ""
            }
           },
           "name": "Uganda",
           "offsetgroup": "Uganda",
           "orientation": "v",
           "showlegend": true,
           "textposition": "auto",
           "type": "bar",
           "x": [
            "Uganda"
           ],
           "xaxis": "x",
           "y": [
            104.68663909521185
           ],
           "yaxis": "y"
          }
         ],
         "name": "1990"
        },
        {
         "data": [
          {
           "alignmentgroup": "True",
           "hovertemplate": "Country=%{x}<br>Year=1991<br>Age dependency ratio (% of working-age population)=%{y}<extra></extra>",
           "ids": [
            "Burundi"
           ],
           "legendgroup": "Burundi",
           "marker": {
            "color": "#636efa",
            "pattern": {
             "shape": ""
            }
           },
           "name": "Burundi",
           "offsetgroup": "Burundi",
           "orientation": "v",
           "showlegend": true,
           "textposition": "auto",
           "type": "bar",
           "x": [
            "Burundi"
           ],
           "xaxis": "x",
           "y": [
            106.39040607230784
           ],
           "yaxis": "y"
          },
          {
           "alignmentgroup": "True",
           "hovertemplate": "Country=%{x}<br>Year=1991<br>Age dependency ratio (% of working-age population)=%{y}<extra></extra>",
           "ids": [
            "Djibouti"
           ],
           "legendgroup": "Djibouti",
           "marker": {
            "color": "#EF553B",
            "pattern": {
             "shape": ""
            }
           },
           "name": "Djibouti",
           "offsetgroup": "Djibouti",
           "orientation": "v",
           "showlegend": true,
           "textposition": "auto",
           "type": "bar",
           "x": [
            "Djibouti"
           ],
           "xaxis": "x",
           "y": [
            87.1508712585905
           ],
           "yaxis": "y"
          },
          {
           "alignmentgroup": "True",
           "hovertemplate": "Country=%{x}<br>Year=1991<br>Age dependency ratio (% of working-age population)=%{y}<extra></extra>",
           "ids": [
            "Eritrea"
           ],
           "legendgroup": "Eritrea",
           "marker": {
            "color": "#00cc96",
            "pattern": {
             "shape": ""
            }
           },
           "name": "Eritrea",
           "offsetgroup": "Eritrea",
           "orientation": "v",
           "showlegend": true,
           "textposition": "auto",
           "type": "bar",
           "x": [
            "Eritrea"
           ],
           "xaxis": "x",
           "y": [
            92.30187462220408
           ],
           "yaxis": "y"
          },
          {
           "alignmentgroup": "True",
           "hovertemplate": "Country=%{x}<br>Year=1991<br>Age dependency ratio (% of working-age population)=%{y}<extra></extra>",
           "ids": [
            "Ethiopia"
           ],
           "legendgroup": "Ethiopia",
           "marker": {
            "color": "#ab63fa",
            "pattern": {
             "shape": ""
            }
           },
           "name": "Ethiopia",
           "offsetgroup": "Ethiopia",
           "orientation": "v",
           "showlegend": true,
           "textposition": "auto",
           "type": "bar",
           "x": [
            "Ethiopia"
           ],
           "xaxis": "x",
           "y": [
            97.32916989769969
           ],
           "yaxis": "y"
          },
          {
           "alignmentgroup": "True",
           "hovertemplate": "Country=%{x}<br>Year=1991<br>Age dependency ratio (% of working-age population)=%{y}<extra></extra>",
           "ids": [
            "Kenya"
           ],
           "legendgroup": "Kenya",
           "marker": {
            "color": "#FFA15A",
            "pattern": {
             "shape": ""
            }
           },
           "name": "Kenya",
           "offsetgroup": "Kenya",
           "orientation": "v",
           "showlegend": true,
           "textposition": "auto",
           "type": "bar",
           "x": [
            "Kenya"
           ],
           "xaxis": "x",
           "y": [
            104.79224382897972
           ],
           "yaxis": "y"
          },
          {
           "alignmentgroup": "True",
           "hovertemplate": "Country=%{x}<br>Year=1991<br>Age dependency ratio (% of working-age population)=%{y}<extra></extra>",
           "ids": [
            "Rwanda"
           ],
           "legendgroup": "Rwanda",
           "marker": {
            "color": "#19d3f3",
            "pattern": {
             "shape": ""
            }
           },
           "name": "Rwanda",
           "offsetgroup": "Rwanda",
           "orientation": "v",
           "showlegend": true,
           "textposition": "auto",
           "type": "bar",
           "x": [
            "Rwanda"
           ],
           "xaxis": "x",
           "y": [
            104.4728917102458
           ],
           "yaxis": "y"
          },
          {
           "alignmentgroup": "True",
           "hovertemplate": "Country=%{x}<br>Year=1991<br>Age dependency ratio (% of working-age population)=%{y}<extra></extra>",
           "ids": [
            "Somalia"
           ],
           "legendgroup": "Somalia",
           "marker": {
            "color": "#FF6692",
            "pattern": {
             "shape": ""
            }
           },
           "name": "Somalia",
           "offsetgroup": "Somalia",
           "orientation": "v",
           "showlegend": true,
           "textposition": "auto",
           "type": "bar",
           "x": [
            "Somalia"
           ],
           "xaxis": "x",
           "y": [
            98.83546309036412
           ],
           "yaxis": "y"
          },
          {
           "alignmentgroup": "True",
           "hovertemplate": "Country=%{x}<br>Year=1991<br>Age dependency ratio (% of working-age population)=%{y}<extra></extra>",
           "ids": [
            "South Sudan"
           ],
           "legendgroup": "South Sudan",
           "marker": {
            "color": "#B6E880",
            "pattern": {
             "shape": ""
            }
           },
           "name": "South Sudan",
           "offsetgroup": "South Sudan",
           "orientation": "v",
           "showlegend": true,
           "textposition": "auto",
           "type": "bar",
           "x": [
            "South Sudan"
           ],
           "xaxis": "x",
           "y": [
            92.86520950063796
           ],
           "yaxis": "y"
          },
          {
           "alignmentgroup": "True",
           "hovertemplate": "Country=%{x}<br>Year=1991<br>Age dependency ratio (% of working-age population)=%{y}<extra></extra>",
           "ids": [
            "Sudan"
           ],
           "legendgroup": "Sudan",
           "marker": {
            "color": "#FF97FF",
            "pattern": {
             "shape": ""
            }
           },
           "name": "Sudan",
           "offsetgroup": "Sudan",
           "orientation": "v",
           "showlegend": true,
           "textposition": "auto",
           "type": "bar",
           "x": [
            "Sudan"
           ],
           "xaxis": "x",
           "y": [
            102.17638926047624
           ],
           "yaxis": "y"
          },
          {
           "alignmentgroup": "True",
           "hovertemplate": "Country=%{x}<br>Year=1991<br>Age dependency ratio (% of working-age population)=%{y}<extra></extra>",
           "ids": [
            "Tanzania"
           ],
           "legendgroup": "Tanzania",
           "marker": {
            "color": "#FECB52",
            "pattern": {
             "shape": ""
            }
           },
           "name": "Tanzania",
           "offsetgroup": "Tanzania",
           "orientation": "v",
           "showlegend": true,
           "textposition": "auto",
           "type": "bar",
           "x": [
            "Tanzania"
           ],
           "xaxis": "x",
           "y": [
            96.3852599899145
           ],
           "yaxis": "y"
          },
          {
           "alignmentgroup": "True",
           "hovertemplate": "Country=%{x}<br>Year=1991<br>Age dependency ratio (% of working-age population)=%{y}<extra></extra>",
           "ids": [
            "Uganda"
           ],
           "legendgroup": "Uganda",
           "marker": {
            "color": "#636efa",
            "pattern": {
             "shape": ""
            }
           },
           "name": "Uganda",
           "offsetgroup": "Uganda",
           "orientation": "v",
           "showlegend": true,
           "textposition": "auto",
           "type": "bar",
           "x": [
            "Uganda"
           ],
           "xaxis": "x",
           "y": [
            105.04035265442002
           ],
           "yaxis": "y"
          }
         ],
         "name": "1991"
        },
        {
         "data": [
          {
           "alignmentgroup": "True",
           "hovertemplate": "Country=%{x}<br>Year=1992<br>Age dependency ratio (% of working-age population)=%{y}<extra></extra>",
           "ids": [
            "Burundi"
           ],
           "legendgroup": "Burundi",
           "marker": {
            "color": "#636efa",
            "pattern": {
             "shape": ""
            }
           },
           "name": "Burundi",
           "offsetgroup": "Burundi",
           "orientation": "v",
           "showlegend": true,
           "textposition": "auto",
           "type": "bar",
           "x": [
            "Burundi"
           ],
           "xaxis": "x",
           "y": [
            105.95359638921254
           ],
           "yaxis": "y"
          },
          {
           "alignmentgroup": "True",
           "hovertemplate": "Country=%{x}<br>Year=1992<br>Age dependency ratio (% of working-age population)=%{y}<extra></extra>",
           "ids": [
            "Djibouti"
           ],
           "legendgroup": "Djibouti",
           "marker": {
            "color": "#EF553B",
            "pattern": {
             "shape": ""
            }
           },
           "name": "Djibouti",
           "offsetgroup": "Djibouti",
           "orientation": "v",
           "showlegend": true,
           "textposition": "auto",
           "type": "bar",
           "x": [
            "Djibouti"
           ],
           "xaxis": "x",
           "y": [
            86.49577151202111
           ],
           "yaxis": "y"
          },
          {
           "alignmentgroup": "True",
           "hovertemplate": "Country=%{x}<br>Year=1992<br>Age dependency ratio (% of working-age population)=%{y}<extra></extra>",
           "ids": [
            "Eritrea"
           ],
           "legendgroup": "Eritrea",
           "marker": {
            "color": "#00cc96",
            "pattern": {
             "shape": ""
            }
           },
           "name": "Eritrea",
           "offsetgroup": "Eritrea",
           "orientation": "v",
           "showlegend": true,
           "textposition": "auto",
           "type": "bar",
           "x": [
            "Eritrea"
           ],
           "xaxis": "x",
           "y": [
            92.78977864570268
           ],
           "yaxis": "y"
          },
          {
           "alignmentgroup": "True",
           "hovertemplate": "Country=%{x}<br>Year=1992<br>Age dependency ratio (% of working-age population)=%{y}<extra></extra>",
           "ids": [
            "Ethiopia"
           ],
           "legendgroup": "Ethiopia",
           "marker": {
            "color": "#ab63fa",
            "pattern": {
             "shape": ""
            }
           },
           "name": "Ethiopia",
           "offsetgroup": "Ethiopia",
           "orientation": "v",
           "showlegend": true,
           "textposition": "auto",
           "type": "bar",
           "x": [
            "Ethiopia"
           ],
           "xaxis": "x",
           "y": [
            98.10053882803092
           ],
           "yaxis": "y"
          },
          {
           "alignmentgroup": "True",
           "hovertemplate": "Country=%{x}<br>Year=1992<br>Age dependency ratio (% of working-age population)=%{y}<extra></extra>",
           "ids": [
            "Kenya"
           ],
           "legendgroup": "Kenya",
           "marker": {
            "color": "#FFA15A",
            "pattern": {
             "shape": ""
            }
           },
           "name": "Kenya",
           "offsetgroup": "Kenya",
           "orientation": "v",
           "showlegend": true,
           "textposition": "auto",
           "type": "bar",
           "x": [
            "Kenya"
           ],
           "xaxis": "x",
           "y": [
            103.51538462617869
           ],
           "yaxis": "y"
          },
          {
           "alignmentgroup": "True",
           "hovertemplate": "Country=%{x}<br>Year=1992<br>Age dependency ratio (% of working-age population)=%{y}<extra></extra>",
           "ids": [
            "Rwanda"
           ],
           "legendgroup": "Rwanda",
           "marker": {
            "color": "#19d3f3",
            "pattern": {
             "shape": ""
            }
           },
           "name": "Rwanda",
           "offsetgroup": "Rwanda",
           "orientation": "v",
           "showlegend": true,
           "textposition": "auto",
           "type": "bar",
           "x": [
            "Rwanda"
           ],
           "xaxis": "x",
           "y": [
            104.0117847759728
           ],
           "yaxis": "y"
          },
          {
           "alignmentgroup": "True",
           "hovertemplate": "Country=%{x}<br>Year=1992<br>Age dependency ratio (% of working-age population)=%{y}<extra></extra>",
           "ids": [
            "Somalia"
           ],
           "legendgroup": "Somalia",
           "marker": {
            "color": "#FF6692",
            "pattern": {
             "shape": ""
            }
           },
           "name": "Somalia",
           "offsetgroup": "Somalia",
           "orientation": "v",
           "showlegend": true,
           "textposition": "auto",
           "type": "bar",
           "x": [
            "Somalia"
           ],
           "xaxis": "x",
           "y": [
            96.77649337776523
           ],
           "yaxis": "y"
          },
          {
           "alignmentgroup": "True",
           "hovertemplate": "Country=%{x}<br>Year=1992<br>Age dependency ratio (% of working-age population)=%{y}<extra></extra>",
           "ids": [
            "South Sudan"
           ],
           "legendgroup": "South Sudan",
           "marker": {
            "color": "#B6E880",
            "pattern": {
             "shape": ""
            }
           },
           "name": "South Sudan",
           "offsetgroup": "South Sudan",
           "orientation": "v",
           "showlegend": true,
           "textposition": "auto",
           "type": "bar",
           "x": [
            "South Sudan"
           ],
           "xaxis": "x",
           "y": [
            94.11712184812248
           ],
           "yaxis": "y"
          },
          {
           "alignmentgroup": "True",
           "hovertemplate": "Country=%{x}<br>Year=1992<br>Age dependency ratio (% of working-age population)=%{y}<extra></extra>",
           "ids": [
            "Sudan"
           ],
           "legendgroup": "Sudan",
           "marker": {
            "color": "#FF97FF",
            "pattern": {
             "shape": ""
            }
           },
           "name": "Sudan",
           "offsetgroup": "Sudan",
           "orientation": "v",
           "showlegend": true,
           "textposition": "auto",
           "type": "bar",
           "x": [
            "Sudan"
           ],
           "xaxis": "x",
           "y": [
            102.40670962484974
           ],
           "yaxis": "y"
          },
          {
           "alignmentgroup": "True",
           "hovertemplate": "Country=%{x}<br>Year=1992<br>Age dependency ratio (% of working-age population)=%{y}<extra></extra>",
           "ids": [
            "Tanzania"
           ],
           "legendgroup": "Tanzania",
           "marker": {
            "color": "#FECB52",
            "pattern": {
             "shape": ""
            }
           },
           "name": "Tanzania",
           "offsetgroup": "Tanzania",
           "orientation": "v",
           "showlegend": true,
           "textposition": "auto",
           "type": "bar",
           "x": [
            "Tanzania"
           ],
           "xaxis": "x",
           "y": [
            95.5393316204121
           ],
           "yaxis": "y"
          },
          {
           "alignmentgroup": "True",
           "hovertemplate": "Country=%{x}<br>Year=1992<br>Age dependency ratio (% of working-age population)=%{y}<extra></extra>",
           "ids": [
            "Uganda"
           ],
           "legendgroup": "Uganda",
           "marker": {
            "color": "#636efa",
            "pattern": {
             "shape": ""
            }
           },
           "name": "Uganda",
           "offsetgroup": "Uganda",
           "orientation": "v",
           "showlegend": true,
           "textposition": "auto",
           "type": "bar",
           "x": [
            "Uganda"
           ],
           "xaxis": "x",
           "y": [
            105.3400299219036
           ],
           "yaxis": "y"
          }
         ],
         "name": "1992"
        },
        {
         "data": [
          {
           "alignmentgroup": "True",
           "hovertemplate": "Country=%{x}<br>Year=1993<br>Age dependency ratio (% of working-age population)=%{y}<extra></extra>",
           "ids": [
            "Burundi"
           ],
           "legendgroup": "Burundi",
           "marker": {
            "color": "#636efa",
            "pattern": {
             "shape": ""
            }
           },
           "name": "Burundi",
           "offsetgroup": "Burundi",
           "orientation": "v",
           "showlegend": true,
           "textposition": "auto",
           "type": "bar",
           "x": [
            "Burundi"
           ],
           "xaxis": "x",
           "y": [
            115.24952457118414
           ],
           "yaxis": "y"
          },
          {
           "alignmentgroup": "True",
           "hovertemplate": "Country=%{x}<br>Year=1993<br>Age dependency ratio (% of working-age population)=%{y}<extra></extra>",
           "ids": [
            "Djibouti"
           ],
           "legendgroup": "Djibouti",
           "marker": {
            "color": "#EF553B",
            "pattern": {
             "shape": ""
            }
           },
           "name": "Djibouti",
           "offsetgroup": "Djibouti",
           "orientation": "v",
           "showlegend": true,
           "textposition": "auto",
           "type": "bar",
           "x": [
            "Djibouti"
           ],
           "xaxis": "x",
           "y": [
            85.72804618656943
           ],
           "yaxis": "y"
          },
          {
           "alignmentgroup": "True",
           "hovertemplate": "Country=%{x}<br>Year=1993<br>Age dependency ratio (% of working-age population)=%{y}<extra></extra>",
           "ids": [
            "Eritrea"
           ],
           "legendgroup": "Eritrea",
           "marker": {
            "color": "#00cc96",
            "pattern": {
             "shape": ""
            }
           },
           "name": "Eritrea",
           "offsetgroup": "Eritrea",
           "orientation": "v",
           "showlegend": true,
           "textposition": "auto",
           "type": "bar",
           "x": [
            "Eritrea"
           ],
           "xaxis": "x",
           "y": [
            92.08283892882902
           ],
           "yaxis": "y"
          },
          {
           "alignmentgroup": "True",
           "hovertemplate": "Country=%{x}<br>Year=1993<br>Age dependency ratio (% of working-age population)=%{y}<extra></extra>",
           "ids": [
            "Ethiopia"
           ],
           "legendgroup": "Ethiopia",
           "marker": {
            "color": "#ab63fa",
            "pattern": {
             "shape": ""
            }
           },
           "name": "Ethiopia",
           "offsetgroup": "Ethiopia",
           "orientation": "v",
           "showlegend": true,
           "textposition": "auto",
           "type": "bar",
           "x": [
            "Ethiopia"
           ],
           "xaxis": "x",
           "y": [
            98.62119668747503
           ],
           "yaxis": "y"
          },
          {
           "alignmentgroup": "True",
           "hovertemplate": "Country=%{x}<br>Year=1993<br>Age dependency ratio (% of working-age population)=%{y}<extra></extra>",
           "ids": [
            "Kenya"
           ],
           "legendgroup": "Kenya",
           "marker": {
            "color": "#FFA15A",
            "pattern": {
             "shape": ""
            }
           },
           "name": "Kenya",
           "offsetgroup": "Kenya",
           "orientation": "v",
           "showlegend": true,
           "textposition": "auto",
           "type": "bar",
           "x": [
            "Kenya"
           ],
           "xaxis": "x",
           "y": [
            102.14223482665264
           ],
           "yaxis": "y"
          },
          {
           "alignmentgroup": "True",
           "hovertemplate": "Country=%{x}<br>Year=1993<br>Age dependency ratio (% of working-age population)=%{y}<extra></extra>",
           "ids": [
            "Rwanda"
           ],
           "legendgroup": "Rwanda",
           "marker": {
            "color": "#19d3f3",
            "pattern": {
             "shape": ""
            }
           },
           "name": "Rwanda",
           "offsetgroup": "Rwanda",
           "orientation": "v",
           "showlegend": true,
           "textposition": "auto",
           "type": "bar",
           "x": [
            "Rwanda"
           ],
           "xaxis": "x",
           "y": [
            103.19083033099729
           ],
           "yaxis": "y"
          },
          {
           "alignmentgroup": "True",
           "hovertemplate": "Country=%{x}<br>Year=1993<br>Age dependency ratio (% of working-age population)=%{y}<extra></extra>",
           "ids": [
            "Somalia"
           ],
           "legendgroup": "Somalia",
           "marker": {
            "color": "#FF6692",
            "pattern": {
             "shape": ""
            }
           },
           "name": "Somalia",
           "offsetgroup": "Somalia",
           "orientation": "v",
           "showlegend": true,
           "textposition": "auto",
           "type": "bar",
           "x": [
            "Somalia"
           ],
           "xaxis": "x",
           "y": [
            96.15951879250149
           ],
           "yaxis": "y"
          },
          {
           "alignmentgroup": "True",
           "hovertemplate": "Country=%{x}<br>Year=1993<br>Age dependency ratio (% of working-age population)=%{y}<extra></extra>",
           "ids": [
            "South Sudan"
           ],
           "legendgroup": "South Sudan",
           "marker": {
            "color": "#B6E880",
            "pattern": {
             "shape": ""
            }
           },
           "name": "South Sudan",
           "offsetgroup": "South Sudan",
           "orientation": "v",
           "showlegend": true,
           "textposition": "auto",
           "type": "bar",
           "x": [
            "South Sudan"
           ],
           "xaxis": "x",
           "y": [
            95.58769593664704
           ],
           "yaxis": "y"
          },
          {
           "alignmentgroup": "True",
           "hovertemplate": "Country=%{x}<br>Year=1993<br>Age dependency ratio (% of working-age population)=%{y}<extra></extra>",
           "ids": [
            "Sudan"
           ],
           "legendgroup": "Sudan",
           "marker": {
            "color": "#FF97FF",
            "pattern": {
             "shape": ""
            }
           },
           "name": "Sudan",
           "offsetgroup": "Sudan",
           "orientation": "v",
           "showlegend": true,
           "textposition": "auto",
           "type": "bar",
           "x": [
            "Sudan"
           ],
           "xaxis": "x",
           "y": [
            102.14706887789444
           ],
           "yaxis": "y"
          },
          {
           "alignmentgroup": "True",
           "hovertemplate": "Country=%{x}<br>Year=1993<br>Age dependency ratio (% of working-age population)=%{y}<extra></extra>",
           "ids": [
            "Tanzania"
           ],
           "legendgroup": "Tanzania",
           "marker": {
            "color": "#FECB52",
            "pattern": {
             "shape": ""
            }
           },
           "name": "Tanzania",
           "offsetgroup": "Tanzania",
           "orientation": "v",
           "showlegend": true,
           "textposition": "auto",
           "type": "bar",
           "x": [
            "Tanzania"
           ],
           "xaxis": "x",
           "y": [
            94.8067996558089
           ],
           "yaxis": "y"
          },
          {
           "alignmentgroup": "True",
           "hovertemplate": "Country=%{x}<br>Year=1993<br>Age dependency ratio (% of working-age population)=%{y}<extra></extra>",
           "ids": [
            "Uganda"
           ],
           "legendgroup": "Uganda",
           "marker": {
            "color": "#636efa",
            "pattern": {
             "shape": ""
            }
           },
           "name": "Uganda",
           "offsetgroup": "Uganda",
           "orientation": "v",
           "showlegend": true,
           "textposition": "auto",
           "type": "bar",
           "x": [
            "Uganda"
           ],
           "xaxis": "x",
           "y": [
            105.737665147829
           ],
           "yaxis": "y"
          }
         ],
         "name": "1993"
        },
        {
         "data": [
          {
           "alignmentgroup": "True",
           "hovertemplate": "Country=%{x}<br>Year=1994<br>Age dependency ratio (% of working-age population)=%{y}<extra></extra>",
           "ids": [
            "Burundi"
           ],
           "legendgroup": "Burundi",
           "marker": {
            "color": "#636efa",
            "pattern": {
             "shape": ""
            }
           },
           "name": "Burundi",
           "offsetgroup": "Burundi",
           "orientation": "v",
           "showlegend": true,
           "textposition": "auto",
           "type": "bar",
           "x": [
            "Burundi"
           ],
           "xaxis": "x",
           "y": [
            115.88756117043786
           ],
           "yaxis": "y"
          },
          {
           "alignmentgroup": "True",
           "hovertemplate": "Country=%{x}<br>Year=1994<br>Age dependency ratio (% of working-age population)=%{y}<extra></extra>",
           "ids": [
            "Djibouti"
           ],
           "legendgroup": "Djibouti",
           "marker": {
            "color": "#EF553B",
            "pattern": {
             "shape": ""
            }
           },
           "name": "Djibouti",
           "offsetgroup": "Djibouti",
           "orientation": "v",
           "showlegend": true,
           "textposition": "auto",
           "type": "bar",
           "x": [
            "Djibouti"
           ],
           "xaxis": "x",
           "y": [
            84.90620875780358
           ],
           "yaxis": "y"
          },
          {
           "alignmentgroup": "True",
           "hovertemplate": "Country=%{x}<br>Year=1994<br>Age dependency ratio (% of working-age population)=%{y}<extra></extra>",
           "ids": [
            "Eritrea"
           ],
           "legendgroup": "Eritrea",
           "marker": {
            "color": "#00cc96",
            "pattern": {
             "shape": ""
            }
           },
           "name": "Eritrea",
           "offsetgroup": "Eritrea",
           "orientation": "v",
           "showlegend": true,
           "textposition": "auto",
           "type": "bar",
           "x": [
            "Eritrea"
           ],
           "xaxis": "x",
           "y": [
            91.586873977578
           ],
           "yaxis": "y"
          },
          {
           "alignmentgroup": "True",
           "hovertemplate": "Country=%{x}<br>Year=1994<br>Age dependency ratio (% of working-age population)=%{y}<extra></extra>",
           "ids": [
            "Ethiopia"
           ],
           "legendgroup": "Ethiopia",
           "marker": {
            "color": "#ab63fa",
            "pattern": {
             "shape": ""
            }
           },
           "name": "Ethiopia",
           "offsetgroup": "Ethiopia",
           "orientation": "v",
           "showlegend": true,
           "textposition": "auto",
           "type": "bar",
           "x": [
            "Ethiopia"
           ],
           "xaxis": "x",
           "y": [
            99.07686241743818
           ],
           "yaxis": "y"
          },
          {
           "alignmentgroup": "True",
           "hovertemplate": "Country=%{x}<br>Year=1994<br>Age dependency ratio (% of working-age population)=%{y}<extra></extra>",
           "ids": [
            "Kenya"
           ],
           "legendgroup": "Kenya",
           "marker": {
            "color": "#FFA15A",
            "pattern": {
             "shape": ""
            }
           },
           "name": "Kenya",
           "offsetgroup": "Kenya",
           "orientation": "v",
           "showlegend": true,
           "textposition": "auto",
           "type": "bar",
           "x": [
            "Kenya"
           ],
           "xaxis": "x",
           "y": [
            100.6845564915568
           ],
           "yaxis": "y"
          },
          {
           "alignmentgroup": "True",
           "hovertemplate": "Country=%{x}<br>Year=1994<br>Age dependency ratio (% of working-age population)=%{y}<extra></extra>",
           "ids": [
            "Rwanda"
           ],
           "legendgroup": "Rwanda",
           "marker": {
            "color": "#19d3f3",
            "pattern": {
             "shape": ""
            }
           },
           "name": "Rwanda",
           "offsetgroup": "Rwanda",
           "orientation": "v",
           "showlegend": true,
           "textposition": "auto",
           "type": "bar",
           "x": [
            "Rwanda"
           ],
           "xaxis": "x",
           "y": [
            107.56114464275694
           ],
           "yaxis": "y"
          },
          {
           "alignmentgroup": "True",
           "hovertemplate": "Country=%{x}<br>Year=1994<br>Age dependency ratio (% of working-age population)=%{y}<extra></extra>",
           "ids": [
            "Somalia"
           ],
           "legendgroup": "Somalia",
           "marker": {
            "color": "#FF6692",
            "pattern": {
             "shape": ""
            }
           },
           "name": "Somalia",
           "offsetgroup": "Somalia",
           "orientation": "v",
           "showlegend": true,
           "textposition": "auto",
           "type": "bar",
           "x": [
            "Somalia"
           ],
           "xaxis": "x",
           "y": [
            96.78141342308597
           ],
           "yaxis": "y"
          },
          {
           "alignmentgroup": "True",
           "hovertemplate": "Country=%{x}<br>Year=1994<br>Age dependency ratio (% of working-age population)=%{y}<extra></extra>",
           "ids": [
            "South Sudan"
           ],
           "legendgroup": "South Sudan",
           "marker": {
            "color": "#B6E880",
            "pattern": {
             "shape": ""
            }
           },
           "name": "South Sudan",
           "offsetgroup": "South Sudan",
           "orientation": "v",
           "showlegend": true,
           "textposition": "auto",
           "type": "bar",
           "x": [
            "South Sudan"
           ],
           "xaxis": "x",
           "y": [
            96.77378871683108
           ],
           "yaxis": "y"
          },
          {
           "alignmentgroup": "True",
           "hovertemplate": "Country=%{x}<br>Year=1994<br>Age dependency ratio (% of working-age population)=%{y}<extra></extra>",
           "ids": [
            "Sudan"
           ],
           "legendgroup": "Sudan",
           "marker": {
            "color": "#FF97FF",
            "pattern": {
             "shape": ""
            }
           },
           "name": "Sudan",
           "offsetgroup": "Sudan",
           "orientation": "v",
           "showlegend": true,
           "textposition": "auto",
           "type": "bar",
           "x": [
            "Sudan"
           ],
           "xaxis": "x",
           "y": [
            101.25721318585931
           ],
           "yaxis": "y"
          },
          {
           "alignmentgroup": "True",
           "hovertemplate": "Country=%{x}<br>Year=1994<br>Age dependency ratio (% of working-age population)=%{y}<extra></extra>",
           "ids": [
            "Tanzania"
           ],
           "legendgroup": "Tanzania",
           "marker": {
            "color": "#FECB52",
            "pattern": {
             "shape": ""
            }
           },
           "name": "Tanzania",
           "offsetgroup": "Tanzania",
           "orientation": "v",
           "showlegend": true,
           "textposition": "auto",
           "type": "bar",
           "x": [
            "Tanzania"
           ],
           "xaxis": "x",
           "y": [
            94.19069885384911
           ],
           "yaxis": "y"
          },
          {
           "alignmentgroup": "True",
           "hovertemplate": "Country=%{x}<br>Year=1994<br>Age dependency ratio (% of working-age population)=%{y}<extra></extra>",
           "ids": [
            "Uganda"
           ],
           "legendgroup": "Uganda",
           "marker": {
            "color": "#636efa",
            "pattern": {
             "shape": ""
            }
           },
           "name": "Uganda",
           "offsetgroup": "Uganda",
           "orientation": "v",
           "showlegend": true,
           "textposition": "auto",
           "type": "bar",
           "x": [
            "Uganda"
           ],
           "xaxis": "x",
           "y": [
            106.37108137615988
           ],
           "yaxis": "y"
          }
         ],
         "name": "1994"
        },
        {
         "data": [
          {
           "alignmentgroup": "True",
           "hovertemplate": "Country=%{x}<br>Year=1995<br>Age dependency ratio (% of working-age population)=%{y}<extra></extra>",
           "ids": [
            "Burundi"
           ],
           "legendgroup": "Burundi",
           "marker": {
            "color": "#636efa",
            "pattern": {
             "shape": ""
            }
           },
           "name": "Burundi",
           "offsetgroup": "Burundi",
           "orientation": "v",
           "showlegend": true,
           "textposition": "auto",
           "type": "bar",
           "x": [
            "Burundi"
           ],
           "xaxis": "x",
           "y": [
            106.6783973323477
           ],
           "yaxis": "y"
          },
          {
           "alignmentgroup": "True",
           "hovertemplate": "Country=%{x}<br>Year=1995<br>Age dependency ratio (% of working-age population)=%{y}<extra></extra>",
           "ids": [
            "Djibouti"
           ],
           "legendgroup": "Djibouti",
           "marker": {
            "color": "#EF553B",
            "pattern": {
             "shape": ""
            }
           },
           "name": "Djibouti",
           "offsetgroup": "Djibouti",
           "orientation": "v",
           "showlegend": true,
           "textposition": "auto",
           "type": "bar",
           "x": [
            "Djibouti"
           ],
           "xaxis": "x",
           "y": [
            83.99152542372882
           ],
           "yaxis": "y"
          },
          {
           "alignmentgroup": "True",
           "hovertemplate": "Country=%{x}<br>Year=1995<br>Age dependency ratio (% of working-age population)=%{y}<extra></extra>",
           "ids": [
            "Eritrea"
           ],
           "legendgroup": "Eritrea",
           "marker": {
            "color": "#00cc96",
            "pattern": {
             "shape": ""
            }
           },
           "name": "Eritrea",
           "offsetgroup": "Eritrea",
           "orientation": "v",
           "showlegend": true,
           "textposition": "auto",
           "type": "bar",
           "x": [
            "Eritrea"
           ],
           "xaxis": "x",
           "y": [
            88.23235817915764
           ],
           "yaxis": "y"
          },
          {
           "alignmentgroup": "True",
           "hovertemplate": "Country=%{x}<br>Year=1995<br>Age dependency ratio (% of working-age population)=%{y}<extra></extra>",
           "ids": [
            "Ethiopia"
           ],
           "legendgroup": "Ethiopia",
           "marker": {
            "color": "#ab63fa",
            "pattern": {
             "shape": ""
            }
           },
           "name": "Ethiopia",
           "offsetgroup": "Ethiopia",
           "orientation": "v",
           "showlegend": true,
           "textposition": "auto",
           "type": "bar",
           "x": [
            "Ethiopia"
           ],
           "xaxis": "x",
           "y": [
            99.2948289723347
           ],
           "yaxis": "y"
          },
          {
           "alignmentgroup": "True",
           "hovertemplate": "Country=%{x}<br>Year=1995<br>Age dependency ratio (% of working-age population)=%{y}<extra></extra>",
           "ids": [
            "Kenya"
           ],
           "legendgroup": "Kenya",
           "marker": {
            "color": "#FFA15A",
            "pattern": {
             "shape": ""
            }
           },
           "name": "Kenya",
           "offsetgroup": "Kenya",
           "orientation": "v",
           "showlegend": true,
           "textposition": "auto",
           "type": "bar",
           "x": [
            "Kenya"
           ],
           "xaxis": "x",
           "y": [
            99.26694464434556
           ],
           "yaxis": "y"
          },
          {
           "alignmentgroup": "True",
           "hovertemplate": "Country=%{x}<br>Year=1995<br>Age dependency ratio (% of working-age population)=%{y}<extra></extra>",
           "ids": [
            "Rwanda"
           ],
           "legendgroup": "Rwanda",
           "marker": {
            "color": "#19d3f3",
            "pattern": {
             "shape": ""
            }
           },
           "name": "Rwanda",
           "offsetgroup": "Rwanda",
           "orientation": "v",
           "showlegend": true,
           "textposition": "auto",
           "type": "bar",
           "x": [
            "Rwanda"
           ],
           "xaxis": "x",
           "y": [
            113.29512180393826
           ],
           "yaxis": "y"
          },
          {
           "alignmentgroup": "True",
           "hovertemplate": "Country=%{x}<br>Year=1995<br>Age dependency ratio (% of working-age population)=%{y}<extra></extra>",
           "ids": [
            "Somalia"
           ],
           "legendgroup": "Somalia",
           "marker": {
            "color": "#FF6692",
            "pattern": {
             "shape": ""
            }
           },
           "name": "Somalia",
           "offsetgroup": "Somalia",
           "orientation": "v",
           "showlegend": true,
           "textposition": "auto",
           "type": "bar",
           "x": [
            "Somalia"
           ],
           "xaxis": "x",
           "y": [
            97.3228845049271
           ],
           "yaxis": "y"
          },
          {
           "alignmentgroup": "True",
           "hovertemplate": "Country=%{x}<br>Year=1995<br>Age dependency ratio (% of working-age population)=%{y}<extra></extra>",
           "ids": [
            "South Sudan"
           ],
           "legendgroup": "South Sudan",
           "marker": {
            "color": "#B6E880",
            "pattern": {
             "shape": ""
            }
           },
           "name": "South Sudan",
           "offsetgroup": "South Sudan",
           "orientation": "v",
           "showlegend": true,
           "textposition": "auto",
           "type": "bar",
           "x": [
            "South Sudan"
           ],
           "xaxis": "x",
           "y": [
            97.8570261078152
           ],
           "yaxis": "y"
          },
          {
           "alignmentgroup": "True",
           "hovertemplate": "Country=%{x}<br>Year=1995<br>Age dependency ratio (% of working-age population)=%{y}<extra></extra>",
           "ids": [
            "Sudan"
           ],
           "legendgroup": "Sudan",
           "marker": {
            "color": "#FF97FF",
            "pattern": {
             "shape": ""
            }
           },
           "name": "Sudan",
           "offsetgroup": "Sudan",
           "orientation": "v",
           "showlegend": true,
           "textposition": "auto",
           "type": "bar",
           "x": [
            "Sudan"
           ],
           "xaxis": "x",
           "y": [
            99.93680992897062
           ],
           "yaxis": "y"
          },
          {
           "alignmentgroup": "True",
           "hovertemplate": "Country=%{x}<br>Year=1995<br>Age dependency ratio (% of working-age population)=%{y}<extra></extra>",
           "ids": [
            "Tanzania"
           ],
           "legendgroup": "Tanzania",
           "marker": {
            "color": "#FECB52",
            "pattern": {
             "shape": ""
            }
           },
           "name": "Tanzania",
           "offsetgroup": "Tanzania",
           "orientation": "v",
           "showlegend": true,
           "textposition": "auto",
           "type": "bar",
           "x": [
            "Tanzania"
           ],
           "xaxis": "x",
           "y": [
            93.40220275491188
           ],
           "yaxis": "y"
          },
          {
           "alignmentgroup": "True",
           "hovertemplate": "Country=%{x}<br>Year=1995<br>Age dependency ratio (% of working-age population)=%{y}<extra></extra>",
           "ids": [
            "Uganda"
           ],
           "legendgroup": "Uganda",
           "marker": {
            "color": "#636efa",
            "pattern": {
             "shape": ""
            }
           },
           "name": "Uganda",
           "offsetgroup": "Uganda",
           "orientation": "v",
           "showlegend": true,
           "textposition": "auto",
           "type": "bar",
           "x": [
            "Uganda"
           ],
           "xaxis": "x",
           "y": [
            108.06301319476974
           ],
           "yaxis": "y"
          }
         ],
         "name": "1995"
        },
        {
         "data": [
          {
           "alignmentgroup": "True",
           "hovertemplate": "Country=%{x}<br>Year=1996<br>Age dependency ratio (% of working-age population)=%{y}<extra></extra>",
           "ids": [
            "Burundi"
           ],
           "legendgroup": "Burundi",
           "marker": {
            "color": "#636efa",
            "pattern": {
             "shape": ""
            }
           },
           "name": "Burundi",
           "offsetgroup": "Burundi",
           "orientation": "v",
           "showlegend": true,
           "textposition": "auto",
           "type": "bar",
           "x": [
            "Burundi"
           ],
           "xaxis": "x",
           "y": [
            108.7594730137252
           ],
           "yaxis": "y"
          },
          {
           "alignmentgroup": "True",
           "hovertemplate": "Country=%{x}<br>Year=1996<br>Age dependency ratio (% of working-age population)=%{y}<extra></extra>",
           "ids": [
            "Djibouti"
           ],
           "legendgroup": "Djibouti",
           "marker": {
            "color": "#EF553B",
            "pattern": {
             "shape": ""
            }
           },
           "name": "Djibouti",
           "offsetgroup": "Djibouti",
           "orientation": "v",
           "showlegend": true,
           "textposition": "auto",
           "type": "bar",
           "x": [
            "Djibouti"
           ],
           "xaxis": "x",
           "y": [
            82.78552795735511
           ],
           "yaxis": "y"
          },
          {
           "alignmentgroup": "True",
           "hovertemplate": "Country=%{x}<br>Year=1996<br>Age dependency ratio (% of working-age population)=%{y}<extra></extra>",
           "ids": [
            "Eritrea"
           ],
           "legendgroup": "Eritrea",
           "marker": {
            "color": "#00cc96",
            "pattern": {
             "shape": ""
            }
           },
           "name": "Eritrea",
           "offsetgroup": "Eritrea",
           "orientation": "v",
           "showlegend": true,
           "textposition": "auto",
           "type": "bar",
           "x": [
            "Eritrea"
           ],
           "xaxis": "x",
           "y": [
            86.22390564082318
           ],
           "yaxis": "y"
          },
          {
           "alignmentgroup": "True",
           "hovertemplate": "Country=%{x}<br>Year=1996<br>Age dependency ratio (% of working-age population)=%{y}<extra></extra>",
           "ids": [
            "Ethiopia"
           ],
           "legendgroup": "Ethiopia",
           "marker": {
            "color": "#ab63fa",
            "pattern": {
             "shape": ""
            }
           },
           "name": "Ethiopia",
           "offsetgroup": "Ethiopia",
           "orientation": "v",
           "showlegend": true,
           "textposition": "auto",
           "type": "bar",
           "x": [
            "Ethiopia"
           ],
           "xaxis": "x",
           "y": [
            99.45776930368903
           ],
           "yaxis": "y"
          },
          {
           "alignmentgroup": "True",
           "hovertemplate": "Country=%{x}<br>Year=1996<br>Age dependency ratio (% of working-age population)=%{y}<extra></extra>",
           "ids": [
            "Kenya"
           ],
           "legendgroup": "Kenya",
           "marker": {
            "color": "#FFA15A",
            "pattern": {
             "shape": ""
            }
           },
           "name": "Kenya",
           "offsetgroup": "Kenya",
           "orientation": "v",
           "showlegend": true,
           "textposition": "auto",
           "type": "bar",
           "x": [
            "Kenya"
           ],
           "xaxis": "x",
           "y": [
            97.94653585937404
           ],
           "yaxis": "y"
          },
          {
           "alignmentgroup": "True",
           "hovertemplate": "Country=%{x}<br>Year=1996<br>Age dependency ratio (% of working-age population)=%{y}<extra></extra>",
           "ids": [
            "Rwanda"
           ],
           "legendgroup": "Rwanda",
           "marker": {
            "color": "#19d3f3",
            "pattern": {
             "shape": ""
            }
           },
           "name": "Rwanda",
           "offsetgroup": "Rwanda",
           "orientation": "v",
           "showlegend": true,
           "textposition": "auto",
           "type": "bar",
           "x": [
            "Rwanda"
           ],
           "xaxis": "x",
           "y": [
            109.5736507167716
           ],
           "yaxis": "y"
          },
          {
           "alignmentgroup": "True",
           "hovertemplate": "Country=%{x}<br>Year=1996<br>Age dependency ratio (% of working-age population)=%{y}<extra></extra>",
           "ids": [
            "Somalia"
           ],
           "legendgroup": "Somalia",
           "marker": {
            "color": "#FF6692",
            "pattern": {
             "shape": ""
            }
           },
           "name": "Somalia",
           "offsetgroup": "Somalia",
           "orientation": "v",
           "showlegend": true,
           "textposition": "auto",
           "type": "bar",
           "x": [
            "Somalia"
           ],
           "xaxis": "x",
           "y": [
            97.77042594045808
           ],
           "yaxis": "y"
          },
          {
           "alignmentgroup": "True",
           "hovertemplate": "Country=%{x}<br>Year=1996<br>Age dependency ratio (% of working-age population)=%{y}<extra></extra>",
           "ids": [
            "South Sudan"
           ],
           "legendgroup": "South Sudan",
           "marker": {
            "color": "#B6E880",
            "pattern": {
             "shape": ""
            }
           },
           "name": "South Sudan",
           "offsetgroup": "South Sudan",
           "orientation": "v",
           "showlegend": true,
           "textposition": "auto",
           "type": "bar",
           "x": [
            "South Sudan"
           ],
           "xaxis": "x",
           "y": [
            99.2176294362526
           ],
           "yaxis": "y"
          },
          {
           "alignmentgroup": "True",
           "hovertemplate": "Country=%{x}<br>Year=1996<br>Age dependency ratio (% of working-age population)=%{y}<extra></extra>",
           "ids": [
            "Sudan"
           ],
           "legendgroup": "Sudan",
           "marker": {
            "color": "#FF97FF",
            "pattern": {
             "shape": ""
            }
           },
           "name": "Sudan",
           "offsetgroup": "Sudan",
           "orientation": "v",
           "showlegend": true,
           "textposition": "auto",
           "type": "bar",
           "x": [
            "Sudan"
           ],
           "xaxis": "x",
           "y": [
            98.28218785102224
           ],
           "yaxis": "y"
          },
          {
           "alignmentgroup": "True",
           "hovertemplate": "Country=%{x}<br>Year=1996<br>Age dependency ratio (% of working-age population)=%{y}<extra></extra>",
           "ids": [
            "Tanzania"
           ],
           "legendgroup": "Tanzania",
           "marker": {
            "color": "#FECB52",
            "pattern": {
             "shape": ""
            }
           },
           "name": "Tanzania",
           "offsetgroup": "Tanzania",
           "orientation": "v",
           "showlegend": true,
           "textposition": "auto",
           "type": "bar",
           "x": [
            "Tanzania"
           ],
           "xaxis": "x",
           "y": [
            92.40299756072848
           ],
           "yaxis": "y"
          },
          {
           "alignmentgroup": "True",
           "hovertemplate": "Country=%{x}<br>Year=1996<br>Age dependency ratio (% of working-age population)=%{y}<extra></extra>",
           "ids": [
            "Uganda"
           ],
           "legendgroup": "Uganda",
           "marker": {
            "color": "#636efa",
            "pattern": {
             "shape": ""
            }
           },
           "name": "Uganda",
           "offsetgroup": "Uganda",
           "orientation": "v",
           "showlegend": true,
           "textposition": "auto",
           "type": "bar",
           "x": [
            "Uganda"
           ],
           "xaxis": "x",
           "y": [
            109.64269259645484
           ],
           "yaxis": "y"
          }
         ],
         "name": "1996"
        },
        {
         "data": [
          {
           "alignmentgroup": "True",
           "hovertemplate": "Country=%{x}<br>Year=1997<br>Age dependency ratio (% of working-age population)=%{y}<extra></extra>",
           "ids": [
            "Burundi"
           ],
           "legendgroup": "Burundi",
           "marker": {
            "color": "#636efa",
            "pattern": {
             "shape": ""
            }
           },
           "name": "Burundi",
           "offsetgroup": "Burundi",
           "orientation": "v",
           "showlegend": true,
           "textposition": "auto",
           "type": "bar",
           "x": [
            "Burundi"
           ],
           "xaxis": "x",
           "y": [
            110.10626148269526
           ],
           "yaxis": "y"
          },
          {
           "alignmentgroup": "True",
           "hovertemplate": "Country=%{x}<br>Year=1997<br>Age dependency ratio (% of working-age population)=%{y}<extra></extra>",
           "ids": [
            "Djibouti"
           ],
           "legendgroup": "Djibouti",
           "marker": {
            "color": "#EF553B",
            "pattern": {
             "shape": ""
            }
           },
           "name": "Djibouti",
           "offsetgroup": "Djibouti",
           "orientation": "v",
           "showlegend": true,
           "textposition": "auto",
           "type": "bar",
           "x": [
            "Djibouti"
           ],
           "xaxis": "x",
           "y": [
            80.42564918660857
           ],
           "yaxis": "y"
          },
          {
           "alignmentgroup": "True",
           "hovertemplate": "Country=%{x}<br>Year=1997<br>Age dependency ratio (% of working-age population)=%{y}<extra></extra>",
           "ids": [
            "Eritrea"
           ],
           "legendgroup": "Eritrea",
           "marker": {
            "color": "#00cc96",
            "pattern": {
             "shape": ""
            }
           },
           "name": "Eritrea",
           "offsetgroup": "Eritrea",
           "orientation": "v",
           "showlegend": true,
           "textposition": "auto",
           "type": "bar",
           "x": [
            "Eritrea"
           ],
           "xaxis": "x",
           "y": [
            88.68116079257975
           ],
           "yaxis": "y"
          },
          {
           "alignmentgroup": "True",
           "hovertemplate": "Country=%{x}<br>Year=1997<br>Age dependency ratio (% of working-age population)=%{y}<extra></extra>",
           "ids": [
            "Ethiopia"
           ],
           "legendgroup": "Ethiopia",
           "marker": {
            "color": "#ab63fa",
            "pattern": {
             "shape": ""
            }
           },
           "name": "Ethiopia",
           "offsetgroup": "Ethiopia",
           "orientation": "v",
           "showlegend": true,
           "textposition": "auto",
           "type": "bar",
           "x": [
            "Ethiopia"
           ],
           "xaxis": "x",
           "y": [
            99.87417423167388
           ],
           "yaxis": "y"
          },
          {
           "alignmentgroup": "True",
           "hovertemplate": "Country=%{x}<br>Year=1997<br>Age dependency ratio (% of working-age population)=%{y}<extra></extra>",
           "ids": [
            "Kenya"
           ],
           "legendgroup": "Kenya",
           "marker": {
            "color": "#FFA15A",
            "pattern": {
             "shape": ""
            }
           },
           "name": "Kenya",
           "offsetgroup": "Kenya",
           "orientation": "v",
           "showlegend": true,
           "textposition": "auto",
           "type": "bar",
           "x": [
            "Kenya"
           ],
           "xaxis": "x",
           "y": [
            96.62045278709532
           ],
           "yaxis": "y"
          },
          {
           "alignmentgroup": "True",
           "hovertemplate": "Country=%{x}<br>Year=1997<br>Age dependency ratio (% of working-age population)=%{y}<extra></extra>",
           "ids": [
            "Rwanda"
           ],
           "legendgroup": "Rwanda",
           "marker": {
            "color": "#19d3f3",
            "pattern": {
             "shape": ""
            }
           },
           "name": "Rwanda",
           "offsetgroup": "Rwanda",
           "orientation": "v",
           "showlegend": true,
           "textposition": "auto",
           "type": "bar",
           "x": [
            "Rwanda"
           ],
           "xaxis": "x",
           "y": [
            105.85398008514228
           ],
           "yaxis": "y"
          },
          {
           "alignmentgroup": "True",
           "hovertemplate": "Country=%{x}<br>Year=1997<br>Age dependency ratio (% of working-age population)=%{y}<extra></extra>",
           "ids": [
            "Somalia"
           ],
           "legendgroup": "Somalia",
           "marker": {
            "color": "#FF6692",
            "pattern": {
             "shape": ""
            }
           },
           "name": "Somalia",
           "offsetgroup": "Somalia",
           "orientation": "v",
           "showlegend": true,
           "textposition": "auto",
           "type": "bar",
           "x": [
            "Somalia"
           ],
           "xaxis": "x",
           "y": [
            98.1399066469235
           ],
           "yaxis": "y"
          },
          {
           "alignmentgroup": "True",
           "hovertemplate": "Country=%{x}<br>Year=1997<br>Age dependency ratio (% of working-age population)=%{y}<extra></extra>",
           "ids": [
            "South Sudan"
           ],
           "legendgroup": "South Sudan",
           "marker": {
            "color": "#B6E880",
            "pattern": {
             "shape": ""
            }
           },
           "name": "South Sudan",
           "offsetgroup": "South Sudan",
           "orientation": "v",
           "showlegend": true,
           "textposition": "auto",
           "type": "bar",
           "x": [
            "South Sudan"
           ],
           "xaxis": "x",
           "y": [
            100.27518350045594
           ],
           "yaxis": "y"
          },
          {
           "alignmentgroup": "True",
           "hovertemplate": "Country=%{x}<br>Year=1997<br>Age dependency ratio (% of working-age population)=%{y}<extra></extra>",
           "ids": [
            "Sudan"
           ],
           "legendgroup": "Sudan",
           "marker": {
            "color": "#FF97FF",
            "pattern": {
             "shape": ""
            }
           },
           "name": "Sudan",
           "offsetgroup": "Sudan",
           "orientation": "v",
           "showlegend": true,
           "textposition": "auto",
           "type": "bar",
           "x": [
            "Sudan"
           ],
           "xaxis": "x",
           "y": [
            96.36044143249886
           ],
           "yaxis": "y"
          },
          {
           "alignmentgroup": "True",
           "hovertemplate": "Country=%{x}<br>Year=1997<br>Age dependency ratio (% of working-age population)=%{y}<extra></extra>",
           "ids": [
            "Tanzania"
           ],
           "legendgroup": "Tanzania",
           "marker": {
            "color": "#FECB52",
            "pattern": {
             "shape": ""
            }
           },
           "name": "Tanzania",
           "offsetgroup": "Tanzania",
           "orientation": "v",
           "showlegend": true,
           "textposition": "auto",
           "type": "bar",
           "x": [
            "Tanzania"
           ],
           "xaxis": "x",
           "y": [
            91.6067794623977
           ],
           "yaxis": "y"
          },
          {
           "alignmentgroup": "True",
           "hovertemplate": "Country=%{x}<br>Year=1997<br>Age dependency ratio (% of working-age population)=%{y}<extra></extra>",
           "ids": [
            "Uganda"
           ],
           "legendgroup": "Uganda",
           "marker": {
            "color": "#636efa",
            "pattern": {
             "shape": ""
            }
           },
           "name": "Uganda",
           "offsetgroup": "Uganda",
           "orientation": "v",
           "showlegend": true,
           "textposition": "auto",
           "type": "bar",
           "x": [
            "Uganda"
           ],
           "xaxis": "x",
           "y": [
            110.66144343135822
           ],
           "yaxis": "y"
          }
         ],
         "name": "1997"
        },
        {
         "data": [
          {
           "alignmentgroup": "True",
           "hovertemplate": "Country=%{x}<br>Year=1998<br>Age dependency ratio (% of working-age population)=%{y}<extra></extra>",
           "ids": [
            "Burundi"
           ],
           "legendgroup": "Burundi",
           "marker": {
            "color": "#636efa",
            "pattern": {
             "shape": ""
            }
           },
           "name": "Burundi",
           "offsetgroup": "Burundi",
           "orientation": "v",
           "showlegend": true,
           "textposition": "auto",
           "type": "bar",
           "x": [
            "Burundi"
           ],
           "xaxis": "x",
           "y": [
            107.62342575465216
           ],
           "yaxis": "y"
          },
          {
           "alignmentgroup": "True",
           "hovertemplate": "Country=%{x}<br>Year=1998<br>Age dependency ratio (% of working-age population)=%{y}<extra></extra>",
           "ids": [
            "Djibouti"
           ],
           "legendgroup": "Djibouti",
           "marker": {
            "color": "#EF553B",
            "pattern": {
             "shape": ""
            }
           },
           "name": "Djibouti",
           "offsetgroup": "Djibouti",
           "orientation": "v",
           "showlegend": true,
           "textposition": "auto",
           "type": "bar",
           "x": [
            "Djibouti"
           ],
           "xaxis": "x",
           "y": [
            77.671645454406
           ],
           "yaxis": "y"
          },
          {
           "alignmentgroup": "True",
           "hovertemplate": "Country=%{x}<br>Year=1998<br>Age dependency ratio (% of working-age population)=%{y}<extra></extra>",
           "ids": [
            "Eritrea"
           ],
           "legendgroup": "Eritrea",
           "marker": {
            "color": "#00cc96",
            "pattern": {
             "shape": ""
            }
           },
           "name": "Eritrea",
           "offsetgroup": "Eritrea",
           "orientation": "v",
           "showlegend": true,
           "textposition": "auto",
           "type": "bar",
           "x": [
            "Eritrea"
           ],
           "xaxis": "x",
           "y": [
            90.58720722716588
           ],
           "yaxis": "y"
          },
          {
           "alignmentgroup": "True",
           "hovertemplate": "Country=%{x}<br>Year=1998<br>Age dependency ratio (% of working-age population)=%{y}<extra></extra>",
           "ids": [
            "Ethiopia"
           ],
           "legendgroup": "Ethiopia",
           "marker": {
            "color": "#ab63fa",
            "pattern": {
             "shape": ""
            }
           },
           "name": "Ethiopia",
           "offsetgroup": "Ethiopia",
           "orientation": "v",
           "showlegend": true,
           "textposition": "auto",
           "type": "bar",
           "x": [
            "Ethiopia"
           ],
           "xaxis": "x",
           "y": [
            100.39519149246276
           ],
           "yaxis": "y"
          },
          {
           "alignmentgroup": "True",
           "hovertemplate": "Country=%{x}<br>Year=1998<br>Age dependency ratio (% of working-age population)=%{y}<extra></extra>",
           "ids": [
            "Kenya"
           ],
           "legendgroup": "Kenya",
           "marker": {
            "color": "#FFA15A",
            "pattern": {
             "shape": ""
            }
           },
           "name": "Kenya",
           "offsetgroup": "Kenya",
           "orientation": "v",
           "showlegend": true,
           "textposition": "auto",
           "type": "bar",
           "x": [
            "Kenya"
           ],
           "xaxis": "x",
           "y": [
            95.35253047244578
           ],
           "yaxis": "y"
          },
          {
           "alignmentgroup": "True",
           "hovertemplate": "Country=%{x}<br>Year=1998<br>Age dependency ratio (% of working-age population)=%{y}<extra></extra>",
           "ids": [
            "Rwanda"
           ],
           "legendgroup": "Rwanda",
           "marker": {
            "color": "#19d3f3",
            "pattern": {
             "shape": ""
            }
           },
           "name": "Rwanda",
           "offsetgroup": "Rwanda",
           "orientation": "v",
           "showlegend": true,
           "textposition": "auto",
           "type": "bar",
           "x": [
            "Rwanda"
           ],
           "xaxis": "x",
           "y": [
            101.706053568293
           ],
           "yaxis": "y"
          },
          {
           "alignmentgroup": "True",
           "hovertemplate": "Country=%{x}<br>Year=1998<br>Age dependency ratio (% of working-age population)=%{y}<extra></extra>",
           "ids": [
            "Somalia"
           ],
           "legendgroup": "Somalia",
           "marker": {
            "color": "#FF6692",
            "pattern": {
             "shape": ""
            }
           },
           "name": "Somalia",
           "offsetgroup": "Somalia",
           "orientation": "v",
           "showlegend": true,
           "textposition": "auto",
           "type": "bar",
           "x": [
            "Somalia"
           ],
           "xaxis": "x",
           "y": [
            98.47073670436367
           ],
           "yaxis": "y"
          },
          {
           "alignmentgroup": "True",
           "hovertemplate": "Country=%{x}<br>Year=1998<br>Age dependency ratio (% of working-age population)=%{y}<extra></extra>",
           "ids": [
            "South Sudan"
           ],
           "legendgroup": "South Sudan",
           "marker": {
            "color": "#B6E880",
            "pattern": {
             "shape": ""
            }
           },
           "name": "South Sudan",
           "offsetgroup": "South Sudan",
           "orientation": "v",
           "showlegend": true,
           "textposition": "auto",
           "type": "bar",
           "x": [
            "South Sudan"
           ],
           "xaxis": "x",
           "y": [
            99.81229808634498
           ],
           "yaxis": "y"
          },
          {
           "alignmentgroup": "True",
           "hovertemplate": "Country=%{x}<br>Year=1998<br>Age dependency ratio (% of working-age population)=%{y}<extra></extra>",
           "ids": [
            "Sudan"
           ],
           "legendgroup": "Sudan",
           "marker": {
            "color": "#FF97FF",
            "pattern": {
             "shape": ""
            }
           },
           "name": "Sudan",
           "offsetgroup": "Sudan",
           "orientation": "v",
           "showlegend": true,
           "textposition": "auto",
           "type": "bar",
           "x": [
            "Sudan"
           ],
           "xaxis": "x",
           "y": [
            94.3298616484006
           ],
           "yaxis": "y"
          },
          {
           "alignmentgroup": "True",
           "hovertemplate": "Country=%{x}<br>Year=1998<br>Age dependency ratio (% of working-age population)=%{y}<extra></extra>",
           "ids": [
            "Tanzania"
           ],
           "legendgroup": "Tanzania",
           "marker": {
            "color": "#FECB52",
            "pattern": {
             "shape": ""
            }
           },
           "name": "Tanzania",
           "offsetgroup": "Tanzania",
           "orientation": "v",
           "showlegend": true,
           "textposition": "auto",
           "type": "bar",
           "x": [
            "Tanzania"
           ],
           "xaxis": "x",
           "y": [
            91.07089543803971
           ],
           "yaxis": "y"
          },
          {
           "alignmentgroup": "True",
           "hovertemplate": "Country=%{x}<br>Year=1998<br>Age dependency ratio (% of working-age population)=%{y}<extra></extra>",
           "ids": [
            "Uganda"
           ],
           "legendgroup": "Uganda",
           "marker": {
            "color": "#636efa",
            "pattern": {
             "shape": ""
            }
           },
           "name": "Uganda",
           "offsetgroup": "Uganda",
           "orientation": "v",
           "showlegend": true,
           "textposition": "auto",
           "type": "bar",
           "x": [
            "Uganda"
           ],
           "xaxis": "x",
           "y": [
            111.37030578350094
           ],
           "yaxis": "y"
          }
         ],
         "name": "1998"
        },
        {
         "data": [
          {
           "alignmentgroup": "True",
           "hovertemplate": "Country=%{x}<br>Year=1999<br>Age dependency ratio (% of working-age population)=%{y}<extra></extra>",
           "ids": [
            "Burundi"
           ],
           "legendgroup": "Burundi",
           "marker": {
            "color": "#636efa",
            "pattern": {
             "shape": ""
            }
           },
           "name": "Burundi",
           "offsetgroup": "Burundi",
           "orientation": "v",
           "showlegend": true,
           "textposition": "auto",
           "type": "bar",
           "x": [
            "Burundi"
           ],
           "xaxis": "x",
           "y": [
            104.57540419844032
           ],
           "yaxis": "y"
          },
          {
           "alignmentgroup": "True",
           "hovertemplate": "Country=%{x}<br>Year=1999<br>Age dependency ratio (% of working-age population)=%{y}<extra></extra>",
           "ids": [
            "Djibouti"
           ],
           "legendgroup": "Djibouti",
           "marker": {
            "color": "#EF553B",
            "pattern": {
             "shape": ""
            }
           },
           "name": "Djibouti",
           "offsetgroup": "Djibouti",
           "orientation": "v",
           "showlegend": true,
           "textposition": "auto",
           "type": "bar",
           "x": [
            "Djibouti"
           ],
           "xaxis": "x",
           "y": [
            75.69674603542896
           ],
           "yaxis": "y"
          },
          {
           "alignmentgroup": "True",
           "hovertemplate": "Country=%{x}<br>Year=1999<br>Age dependency ratio (% of working-age population)=%{y}<extra></extra>",
           "ids": [
            "Eritrea"
           ],
           "legendgroup": "Eritrea",
           "marker": {
            "color": "#00cc96",
            "pattern": {
             "shape": ""
            }
           },
           "name": "Eritrea",
           "offsetgroup": "Eritrea",
           "orientation": "v",
           "showlegend": true,
           "textposition": "auto",
           "type": "bar",
           "x": [
            "Eritrea"
           ],
           "xaxis": "x",
           "y": [
            91.87630229219712
           ],
           "yaxis": "y"
          },
          {
           "alignmentgroup": "True",
           "hovertemplate": "Country=%{x}<br>Year=1999<br>Age dependency ratio (% of working-age population)=%{y}<extra></extra>",
           "ids": [
            "Ethiopia"
           ],
           "legendgroup": "Ethiopia",
           "marker": {
            "color": "#ab63fa",
            "pattern": {
             "shape": ""
            }
           },
           "name": "Ethiopia",
           "offsetgroup": "Ethiopia",
           "orientation": "v",
           "showlegend": true,
           "textposition": "auto",
           "type": "bar",
           "x": [
            "Ethiopia"
           ],
           "xaxis": "x",
           "y": [
            100.733320793717
           ],
           "yaxis": "y"
          },
          {
           "alignmentgroup": "True",
           "hovertemplate": "Country=%{x}<br>Year=1999<br>Age dependency ratio (% of working-age population)=%{y}<extra></extra>",
           "ids": [
            "Kenya"
           ],
           "legendgroup": "Kenya",
           "marker": {
            "color": "#FFA15A",
            "pattern": {
             "shape": ""
            }
           },
           "name": "Kenya",
           "offsetgroup": "Kenya",
           "orientation": "v",
           "showlegend": true,
           "textposition": "auto",
           "type": "bar",
           "x": [
            "Kenya"
           ],
           "xaxis": "x",
           "y": [
            93.98825445504264
           ],
           "yaxis": "y"
          },
          {
           "alignmentgroup": "True",
           "hovertemplate": "Country=%{x}<br>Year=1999<br>Age dependency ratio (% of working-age population)=%{y}<extra></extra>",
           "ids": [
            "Rwanda"
           ],
           "legendgroup": "Rwanda",
           "marker": {
            "color": "#19d3f3",
            "pattern": {
             "shape": ""
            }
           },
           "name": "Rwanda",
           "offsetgroup": "Rwanda",
           "orientation": "v",
           "showlegend": true,
           "textposition": "auto",
           "type": "bar",
           "x": [
            "Rwanda"
           ],
           "xaxis": "x",
           "y": [
            97.7009723883185
           ],
           "yaxis": "y"
          },
          {
           "alignmentgroup": "True",
           "hovertemplate": "Country=%{x}<br>Year=1999<br>Age dependency ratio (% of working-age population)=%{y}<extra></extra>",
           "ids": [
            "Somalia"
           ],
           "legendgroup": "Somalia",
           "marker": {
            "color": "#FF6692",
            "pattern": {
             "shape": ""
            }
           },
           "name": "Somalia",
           "offsetgroup": "Somalia",
           "orientation": "v",
           "showlegend": true,
           "textposition": "auto",
           "type": "bar",
           "x": [
            "Somalia"
           ],
           "xaxis": "x",
           "y": [
            98.77965166231388
           ],
           "yaxis": "y"
          },
          {
           "alignmentgroup": "True",
           "hovertemplate": "Country=%{x}<br>Year=1999<br>Age dependency ratio (% of working-age population)=%{y}<extra></extra>",
           "ids": [
            "South Sudan"
           ],
           "legendgroup": "South Sudan",
           "marker": {
            "color": "#B6E880",
            "pattern": {
             "shape": ""
            }
           },
           "name": "South Sudan",
           "offsetgroup": "South Sudan",
           "orientation": "v",
           "showlegend": true,
           "textposition": "auto",
           "type": "bar",
           "x": [
            "South Sudan"
           ],
           "xaxis": "x",
           "y": [
            98.79992388020648
           ],
           "yaxis": "y"
          },
          {
           "alignmentgroup": "True",
           "hovertemplate": "Country=%{x}<br>Year=1999<br>Age dependency ratio (% of working-age population)=%{y}<extra></extra>",
           "ids": [
            "Sudan"
           ],
           "legendgroup": "Sudan",
           "marker": {
            "color": "#FF97FF",
            "pattern": {
             "shape": ""
            }
           },
           "name": "Sudan",
           "offsetgroup": "Sudan",
           "orientation": "v",
           "showlegend": true,
           "textposition": "auto",
           "type": "bar",
           "x": [
            "Sudan"
           ],
           "xaxis": "x",
           "y": [
            92.31625825163908
           ],
           "yaxis": "y"
          },
          {
           "alignmentgroup": "True",
           "hovertemplate": "Country=%{x}<br>Year=1999<br>Age dependency ratio (% of working-age population)=%{y}<extra></extra>",
           "ids": [
            "Tanzania"
           ],
           "legendgroup": "Tanzania",
           "marker": {
            "color": "#FECB52",
            "pattern": {
             "shape": ""
            }
           },
           "name": "Tanzania",
           "offsetgroup": "Tanzania",
           "orientation": "v",
           "showlegend": true,
           "textposition": "auto",
           "type": "bar",
           "x": [
            "Tanzania"
           ],
           "xaxis": "x",
           "y": [
            90.61407624546662
           ],
           "yaxis": "y"
          },
          {
           "alignmentgroup": "True",
           "hovertemplate": "Country=%{x}<br>Year=1999<br>Age dependency ratio (% of working-age population)=%{y}<extra></extra>",
           "ids": [
            "Uganda"
           ],
           "legendgroup": "Uganda",
           "marker": {
            "color": "#636efa",
            "pattern": {
             "shape": ""
            }
           },
           "name": "Uganda",
           "offsetgroup": "Uganda",
           "orientation": "v",
           "showlegend": true,
           "textposition": "auto",
           "type": "bar",
           "x": [
            "Uganda"
           ],
           "xaxis": "x",
           "y": [
            111.42386042667589
           ],
           "yaxis": "y"
          }
         ],
         "name": "1999"
        },
        {
         "data": [
          {
           "alignmentgroup": "True",
           "hovertemplate": "Country=%{x}<br>Year=2000<br>Age dependency ratio (% of working-age population)=%{y}<extra></extra>",
           "ids": [
            "Burundi"
           ],
           "legendgroup": "Burundi",
           "marker": {
            "color": "#636efa",
            "pattern": {
             "shape": ""
            }
           },
           "name": "Burundi",
           "offsetgroup": "Burundi",
           "orientation": "v",
           "showlegend": true,
           "textposition": "auto",
           "type": "bar",
           "x": [
            "Burundi"
           ],
           "xaxis": "x",
           "y": [
            102.55015699449154
           ],
           "yaxis": "y"
          },
          {
           "alignmentgroup": "True",
           "hovertemplate": "Country=%{x}<br>Year=2000<br>Age dependency ratio (% of working-age population)=%{y}<extra></extra>",
           "ids": [
            "Djibouti"
           ],
           "legendgroup": "Djibouti",
           "marker": {
            "color": "#EF553B",
            "pattern": {
             "shape": ""
            }
           },
           "name": "Djibouti",
           "offsetgroup": "Djibouti",
           "orientation": "v",
           "showlegend": true,
           "textposition": "auto",
           "type": "bar",
           "x": [
            "Djibouti"
           ],
           "xaxis": "x",
           "y": [
            74.25609810510791
           ],
           "yaxis": "y"
          },
          {
           "alignmentgroup": "True",
           "hovertemplate": "Country=%{x}<br>Year=2000<br>Age dependency ratio (% of working-age population)=%{y}<extra></extra>",
           "ids": [
            "Eritrea"
           ],
           "legendgroup": "Eritrea",
           "marker": {
            "color": "#00cc96",
            "pattern": {
             "shape": ""
            }
           },
           "name": "Eritrea",
           "offsetgroup": "Eritrea",
           "orientation": "v",
           "showlegend": true,
           "textposition": "auto",
           "type": "bar",
           "x": [
            "Eritrea"
           ],
           "xaxis": "x",
           "y": [
            92.65894757690845
           ],
           "yaxis": "y"
          },
          {
           "alignmentgroup": "True",
           "hovertemplate": "Country=%{x}<br>Year=2000<br>Age dependency ratio (% of working-age population)=%{y}<extra></extra>",
           "ids": [
            "Ethiopia"
           ],
           "legendgroup": "Ethiopia",
           "marker": {
            "color": "#ab63fa",
            "pattern": {
             "shape": ""
            }
           },
           "name": "Ethiopia",
           "offsetgroup": "Ethiopia",
           "orientation": "v",
           "showlegend": true,
           "textposition": "auto",
           "type": "bar",
           "x": [
            "Ethiopia"
           ],
           "xaxis": "x",
           "y": [
            100.81366966474756
           ],
           "yaxis": "y"
          },
          {
           "alignmentgroup": "True",
           "hovertemplate": "Country=%{x}<br>Year=2000<br>Age dependency ratio (% of working-age population)=%{y}<extra></extra>",
           "ids": [
            "Kenya"
           ],
           "legendgroup": "Kenya",
           "marker": {
            "color": "#FFA15A",
            "pattern": {
             "shape": ""
            }
           },
           "name": "Kenya",
           "offsetgroup": "Kenya",
           "orientation": "v",
           "showlegend": true,
           "textposition": "auto",
           "type": "bar",
           "x": [
            "Kenya"
           ],
           "xaxis": "x",
           "y": [
            92.5138535679197
           ],
           "yaxis": "y"
          },
          {
           "alignmentgroup": "True",
           "hovertemplate": "Country=%{x}<br>Year=2000<br>Age dependency ratio (% of working-age population)=%{y}<extra></extra>",
           "ids": [
            "Rwanda"
           ],
           "legendgroup": "Rwanda",
           "marker": {
            "color": "#19d3f3",
            "pattern": {
             "shape": ""
            }
           },
           "name": "Rwanda",
           "offsetgroup": "Rwanda",
           "orientation": "v",
           "showlegend": true,
           "textposition": "auto",
           "type": "bar",
           "x": [
            "Rwanda"
           ],
           "xaxis": "x",
           "y": [
            94.1213233586912
           ],
           "yaxis": "y"
          },
          {
           "alignmentgroup": "True",
           "hovertemplate": "Country=%{x}<br>Year=2000<br>Age dependency ratio (% of working-age population)=%{y}<extra></extra>",
           "ids": [
            "Somalia"
           ],
           "legendgroup": "Somalia",
           "marker": {
            "color": "#FF6692",
            "pattern": {
             "shape": ""
            }
           },
           "name": "Somalia",
           "offsetgroup": "Somalia",
           "orientation": "v",
           "showlegend": true,
           "textposition": "auto",
           "type": "bar",
           "x": [
            "Somalia"
           ],
           "xaxis": "x",
           "y": [
            99.05587599990506
           ],
           "yaxis": "y"
          },
          {
           "alignmentgroup": "True",
           "hovertemplate": "Country=%{x}<br>Year=2000<br>Age dependency ratio (% of working-age population)=%{y}<extra></extra>",
           "ids": [
            "South Sudan"
           ],
           "legendgroup": "South Sudan",
           "marker": {
            "color": "#B6E880",
            "pattern": {
             "shape": ""
            }
           },
           "name": "South Sudan",
           "offsetgroup": "South Sudan",
           "orientation": "v",
           "showlegend": true,
           "textposition": "auto",
           "type": "bar",
           "x": [
            "South Sudan"
           ],
           "xaxis": "x",
           "y": [
            98.31583139891468
           ],
           "yaxis": "y"
          },
          {
           "alignmentgroup": "True",
           "hovertemplate": "Country=%{x}<br>Year=2000<br>Age dependency ratio (% of working-age population)=%{y}<extra></extra>",
           "ids": [
            "Sudan"
           ],
           "legendgroup": "Sudan",
           "marker": {
            "color": "#FF97FF",
            "pattern": {
             "shape": ""
            }
           },
           "name": "Sudan",
           "offsetgroup": "Sudan",
           "orientation": "v",
           "showlegend": true,
           "textposition": "auto",
           "type": "bar",
           "x": [
            "Sudan"
           ],
           "xaxis": "x",
           "y": [
            90.41370718234164
           ],
           "yaxis": "y"
          },
          {
           "alignmentgroup": "True",
           "hovertemplate": "Country=%{x}<br>Year=2000<br>Age dependency ratio (% of working-age population)=%{y}<extra></extra>",
           "ids": [
            "Tanzania"
           ],
           "legendgroup": "Tanzania",
           "marker": {
            "color": "#FECB52",
            "pattern": {
             "shape": ""
            }
           },
           "name": "Tanzania",
           "offsetgroup": "Tanzania",
           "orientation": "v",
           "showlegend": true,
           "textposition": "auto",
           "type": "bar",
           "x": [
            "Tanzania"
           ],
           "xaxis": "x",
           "y": [
            90.29140001264425
           ],
           "yaxis": "y"
          },
          {
           "alignmentgroup": "True",
           "hovertemplate": "Country=%{x}<br>Year=2000<br>Age dependency ratio (% of working-age population)=%{y}<extra></extra>",
           "ids": [
            "Uganda"
           ],
           "legendgroup": "Uganda",
           "marker": {
            "color": "#636efa",
            "pattern": {
             "shape": ""
            }
           },
           "name": "Uganda",
           "offsetgroup": "Uganda",
           "orientation": "v",
           "showlegend": true,
           "textposition": "auto",
           "type": "bar",
           "x": [
            "Uganda"
           ],
           "xaxis": "x",
           "y": [
            111.47371863806777
           ],
           "yaxis": "y"
          }
         ],
         "name": "2000"
        },
        {
         "data": [
          {
           "alignmentgroup": "True",
           "hovertemplate": "Country=%{x}<br>Year=2001<br>Age dependency ratio (% of working-age population)=%{y}<extra></extra>",
           "ids": [
            "Burundi"
           ],
           "legendgroup": "Burundi",
           "marker": {
            "color": "#636efa",
            "pattern": {
             "shape": ""
            }
           },
           "name": "Burundi",
           "offsetgroup": "Burundi",
           "orientation": "v",
           "showlegend": true,
           "textposition": "auto",
           "type": "bar",
           "x": [
            "Burundi"
           ],
           "xaxis": "x",
           "y": [
            100.29425841396603
           ],
           "yaxis": "y"
          },
          {
           "alignmentgroup": "True",
           "hovertemplate": "Country=%{x}<br>Year=2001<br>Age dependency ratio (% of working-age population)=%{y}<extra></extra>",
           "ids": [
            "Djibouti"
           ],
           "legendgroup": "Djibouti",
           "marker": {
            "color": "#EF553B",
            "pattern": {
             "shape": ""
            }
           },
           "name": "Djibouti",
           "offsetgroup": "Djibouti",
           "orientation": "v",
           "showlegend": true,
           "textposition": "auto",
           "type": "bar",
           "x": [
            "Djibouti"
           ],
           "xaxis": "x",
           "y": [
            72.92995285309911
           ],
           "yaxis": "y"
          },
          {
           "alignmentgroup": "True",
           "hovertemplate": "Country=%{x}<br>Year=2001<br>Age dependency ratio (% of working-age population)=%{y}<extra></extra>",
           "ids": [
            "Eritrea"
           ],
           "legendgroup": "Eritrea",
           "marker": {
            "color": "#00cc96",
            "pattern": {
             "shape": ""
            }
           },
           "name": "Eritrea",
           "offsetgroup": "Eritrea",
           "orientation": "v",
           "showlegend": true,
           "textposition": "auto",
           "type": "bar",
           "x": [
            "Eritrea"
           ],
           "xaxis": "x",
           "y": [
            91.64438403808714
           ],
           "yaxis": "y"
          },
          {
           "alignmentgroup": "True",
           "hovertemplate": "Country=%{x}<br>Year=2001<br>Age dependency ratio (% of working-age population)=%{y}<extra></extra>",
           "ids": [
            "Ethiopia"
           ],
           "legendgroup": "Ethiopia",
           "marker": {
            "color": "#ab63fa",
            "pattern": {
             "shape": ""
            }
           },
           "name": "Ethiopia",
           "offsetgroup": "Ethiopia",
           "orientation": "v",
           "showlegend": true,
           "textposition": "auto",
           "type": "bar",
           "x": [
            "Ethiopia"
           ],
           "xaxis": "x",
           "y": [
            100.6084121275622
           ],
           "yaxis": "y"
          },
          {
           "alignmentgroup": "True",
           "hovertemplate": "Country=%{x}<br>Year=2001<br>Age dependency ratio (% of working-age population)=%{y}<extra></extra>",
           "ids": [
            "Kenya"
           ],
           "legendgroup": "Kenya",
           "marker": {
            "color": "#FFA15A",
            "pattern": {
             "shape": ""
            }
           },
           "name": "Kenya",
           "offsetgroup": "Kenya",
           "orientation": "v",
           "showlegend": true,
           "textposition": "auto",
           "type": "bar",
           "x": [
            "Kenya"
           ],
           "xaxis": "x",
           "y": [
            91.01311603242888
           ],
           "yaxis": "y"
          },
          {
           "alignmentgroup": "True",
           "hovertemplate": "Country=%{x}<br>Year=2001<br>Age dependency ratio (% of working-age population)=%{y}<extra></extra>",
           "ids": [
            "Rwanda"
           ],
           "legendgroup": "Rwanda",
           "marker": {
            "color": "#19d3f3",
            "pattern": {
             "shape": ""
            }
           },
           "name": "Rwanda",
           "offsetgroup": "Rwanda",
           "orientation": "v",
           "showlegend": true,
           "textposition": "auto",
           "type": "bar",
           "x": [
            "Rwanda"
           ],
           "xaxis": "x",
           "y": [
            91.13200522270157
           ],
           "yaxis": "y"
          },
          {
           "alignmentgroup": "True",
           "hovertemplate": "Country=%{x}<br>Year=2001<br>Age dependency ratio (% of working-age population)=%{y}<extra></extra>",
           "ids": [
            "Somalia"
           ],
           "legendgroup": "Somalia",
           "marker": {
            "color": "#FF6692",
            "pattern": {
             "shape": ""
            }
           },
           "name": "Somalia",
           "offsetgroup": "Somalia",
           "orientation": "v",
           "showlegend": true,
           "textposition": "auto",
           "type": "bar",
           "x": [
            "Somalia"
           ],
           "xaxis": "x",
           "y": [
            99.31997274353544
           ],
           "yaxis": "y"
          },
          {
           "alignmentgroup": "True",
           "hovertemplate": "Country=%{x}<br>Year=2001<br>Age dependency ratio (% of working-age population)=%{y}<extra></extra>",
           "ids": [
            "South Sudan"
           ],
           "legendgroup": "South Sudan",
           "marker": {
            "color": "#B6E880",
            "pattern": {
             "shape": ""
            }
           },
           "name": "South Sudan",
           "offsetgroup": "South Sudan",
           "orientation": "v",
           "showlegend": true,
           "textposition": "auto",
           "type": "bar",
           "x": [
            "South Sudan"
           ],
           "xaxis": "x",
           "y": [
            98.0850797553006
           ],
           "yaxis": "y"
          },
          {
           "alignmentgroup": "True",
           "hovertemplate": "Country=%{x}<br>Year=2001<br>Age dependency ratio (% of working-age population)=%{y}<extra></extra>",
           "ids": [
            "Sudan"
           ],
           "legendgroup": "Sudan",
           "marker": {
            "color": "#FF97FF",
            "pattern": {
             "shape": ""
            }
           },
           "name": "Sudan",
           "offsetgroup": "Sudan",
           "orientation": "v",
           "showlegend": true,
           "textposition": "auto",
           "type": "bar",
           "x": [
            "Sudan"
           ],
           "xaxis": "x",
           "y": [
            88.79599770535181
           ],
           "yaxis": "y"
          },
          {
           "alignmentgroup": "True",
           "hovertemplate": "Country=%{x}<br>Year=2001<br>Age dependency ratio (% of working-age population)=%{y}<extra></extra>",
           "ids": [
            "Tanzania"
           ],
           "legendgroup": "Tanzania",
           "marker": {
            "color": "#FECB52",
            "pattern": {
             "shape": ""
            }
           },
           "name": "Tanzania",
           "offsetgroup": "Tanzania",
           "orientation": "v",
           "showlegend": true,
           "textposition": "auto",
           "type": "bar",
           "x": [
            "Tanzania"
           ],
           "xaxis": "x",
           "y": [
            90.05304392102347
           ],
           "yaxis": "y"
          },
          {
           "alignmentgroup": "True",
           "hovertemplate": "Country=%{x}<br>Year=2001<br>Age dependency ratio (% of working-age population)=%{y}<extra></extra>",
           "ids": [
            "Uganda"
           ],
           "legendgroup": "Uganda",
           "marker": {
            "color": "#636efa",
            "pattern": {
             "shape": ""
            }
           },
           "name": "Uganda",
           "offsetgroup": "Uganda",
           "orientation": "v",
           "showlegend": true,
           "textposition": "auto",
           "type": "bar",
           "x": [
            "Uganda"
           ],
           "xaxis": "x",
           "y": [
            111.47654424394352
           ],
           "yaxis": "y"
          }
         ],
         "name": "2001"
        },
        {
         "data": [
          {
           "alignmentgroup": "True",
           "hovertemplate": "Country=%{x}<br>Year=2002<br>Age dependency ratio (% of working-age population)=%{y}<extra></extra>",
           "ids": [
            "Burundi"
           ],
           "legendgroup": "Burundi",
           "marker": {
            "color": "#636efa",
            "pattern": {
             "shape": ""
            }
           },
           "name": "Burundi",
           "offsetgroup": "Burundi",
           "orientation": "v",
           "showlegend": true,
           "textposition": "auto",
           "type": "bar",
           "x": [
            "Burundi"
           ],
           "xaxis": "x",
           "y": [
            98.16375652182208
           ],
           "yaxis": "y"
          },
          {
           "alignmentgroup": "True",
           "hovertemplate": "Country=%{x}<br>Year=2002<br>Age dependency ratio (% of working-age population)=%{y}<extra></extra>",
           "ids": [
            "Djibouti"
           ],
           "legendgroup": "Djibouti",
           "marker": {
            "color": "#EF553B",
            "pattern": {
             "shape": ""
            }
           },
           "name": "Djibouti",
           "offsetgroup": "Djibouti",
           "orientation": "v",
           "showlegend": true,
           "textposition": "auto",
           "type": "bar",
           "x": [
            "Djibouti"
           ],
           "xaxis": "x",
           "y": [
            71.7536467198022
           ],
           "yaxis": "y"
          },
          {
           "alignmentgroup": "True",
           "hovertemplate": "Country=%{x}<br>Year=2002<br>Age dependency ratio (% of working-age population)=%{y}<extra></extra>",
           "ids": [
            "Eritrea"
           ],
           "legendgroup": "Eritrea",
           "marker": {
            "color": "#00cc96",
            "pattern": {
             "shape": ""
            }
           },
           "name": "Eritrea",
           "offsetgroup": "Eritrea",
           "orientation": "v",
           "showlegend": true,
           "textposition": "auto",
           "type": "bar",
           "x": [
            "Eritrea"
           ],
           "xaxis": "x",
           "y": [
            90.00793618827264
           ],
           "yaxis": "y"
          },
          {
           "alignmentgroup": "True",
           "hovertemplate": "Country=%{x}<br>Year=2002<br>Age dependency ratio (% of working-age population)=%{y}<extra></extra>",
           "ids": [
            "Ethiopia"
           ],
           "legendgroup": "Ethiopia",
           "marker": {
            "color": "#ab63fa",
            "pattern": {
             "shape": ""
            }
           },
           "name": "Ethiopia",
           "offsetgroup": "Ethiopia",
           "orientation": "v",
           "showlegend": true,
           "textposition": "auto",
           "type": "bar",
           "x": [
            "Ethiopia"
           ],
           "xaxis": "x",
           "y": [
            100.0782682490461
           ],
           "yaxis": "y"
          },
          {
           "alignmentgroup": "True",
           "hovertemplate": "Country=%{x}<br>Year=2002<br>Age dependency ratio (% of working-age population)=%{y}<extra></extra>",
           "ids": [
            "Kenya"
           ],
           "legendgroup": "Kenya",
           "marker": {
            "color": "#FFA15A",
            "pattern": {
             "shape": ""
            }
           },
           "name": "Kenya",
           "offsetgroup": "Kenya",
           "orientation": "v",
           "showlegend": true,
           "textposition": "auto",
           "type": "bar",
           "x": [
            "Kenya"
           ],
           "xaxis": "x",
           "y": [
            89.5878189342111
           ],
           "yaxis": "y"
          },
          {
           "alignmentgroup": "True",
           "hovertemplate": "Country=%{x}<br>Year=2002<br>Age dependency ratio (% of working-age population)=%{y}<extra></extra>",
           "ids": [
            "Rwanda"
           ],
           "legendgroup": "Rwanda",
           "marker": {
            "color": "#19d3f3",
            "pattern": {
             "shape": ""
            }
           },
           "name": "Rwanda",
           "offsetgroup": "Rwanda",
           "orientation": "v",
           "showlegend": true,
           "textposition": "auto",
           "type": "bar",
           "x": [
            "Rwanda"
           ],
           "xaxis": "x",
           "y": [
            88.8741350445988
           ],
           "yaxis": "y"
          },
          {
           "alignmentgroup": "True",
           "hovertemplate": "Country=%{x}<br>Year=2002<br>Age dependency ratio (% of working-age population)=%{y}<extra></extra>",
           "ids": [
            "Somalia"
           ],
           "legendgroup": "Somalia",
           "marker": {
            "color": "#FF6692",
            "pattern": {
             "shape": ""
            }
           },
           "name": "Somalia",
           "offsetgroup": "Somalia",
           "orientation": "v",
           "showlegend": true,
           "textposition": "auto",
           "type": "bar",
           "x": [
            "Somalia"
           ],
           "xaxis": "x",
           "y": [
            99.61938893512897
           ],
           "yaxis": "y"
          },
          {
           "alignmentgroup": "True",
           "hovertemplate": "Country=%{x}<br>Year=2002<br>Age dependency ratio (% of working-age population)=%{y}<extra></extra>",
           "ids": [
            "South Sudan"
           ],
           "legendgroup": "South Sudan",
           "marker": {
            "color": "#B6E880",
            "pattern": {
             "shape": ""
            }
           },
           "name": "South Sudan",
           "offsetgroup": "South Sudan",
           "orientation": "v",
           "showlegend": true,
           "textposition": "auto",
           "type": "bar",
           "x": [
            "South Sudan"
           ],
           "xaxis": "x",
           "y": [
            98.43774902659815
           ],
           "yaxis": "y"
          },
          {
           "alignmentgroup": "True",
           "hovertemplate": "Country=%{x}<br>Year=2002<br>Age dependency ratio (% of working-age population)=%{y}<extra></extra>",
           "ids": [
            "Sudan"
           ],
           "legendgroup": "Sudan",
           "marker": {
            "color": "#FF97FF",
            "pattern": {
             "shape": ""
            }
           },
           "name": "Sudan",
           "offsetgroup": "Sudan",
           "orientation": "v",
           "showlegend": true,
           "textposition": "auto",
           "type": "bar",
           "x": [
            "Sudan"
           ],
           "xaxis": "x",
           "y": [
            87.52229989877178
           ],
           "yaxis": "y"
          },
          {
           "alignmentgroup": "True",
           "hovertemplate": "Country=%{x}<br>Year=2002<br>Age dependency ratio (% of working-age population)=%{y}<extra></extra>",
           "ids": [
            "Tanzania"
           ],
           "legendgroup": "Tanzania",
           "marker": {
            "color": "#FECB52",
            "pattern": {
             "shape": ""
            }
           },
           "name": "Tanzania",
           "offsetgroup": "Tanzania",
           "orientation": "v",
           "showlegend": true,
           "textposition": "auto",
           "type": "bar",
           "x": [
            "Tanzania"
           ],
           "xaxis": "x",
           "y": [
            89.9103161853748
           ],
           "yaxis": "y"
          },
          {
           "alignmentgroup": "True",
           "hovertemplate": "Country=%{x}<br>Year=2002<br>Age dependency ratio (% of working-age population)=%{y}<extra></extra>",
           "ids": [
            "Uganda"
           ],
           "legendgroup": "Uganda",
           "marker": {
            "color": "#636efa",
            "pattern": {
             "shape": ""
            }
           },
           "name": "Uganda",
           "offsetgroup": "Uganda",
           "orientation": "v",
           "showlegend": true,
           "textposition": "auto",
           "type": "bar",
           "x": [
            "Uganda"
           ],
           "xaxis": "x",
           "y": [
            111.19572322106364
           ],
           "yaxis": "y"
          }
         ],
         "name": "2002"
        },
        {
         "data": [
          {
           "alignmentgroup": "True",
           "hovertemplate": "Country=%{x}<br>Year=2003<br>Age dependency ratio (% of working-age population)=%{y}<extra></extra>",
           "ids": [
            "Burundi"
           ],
           "legendgroup": "Burundi",
           "marker": {
            "color": "#636efa",
            "pattern": {
             "shape": ""
            }
           },
           "name": "Burundi",
           "offsetgroup": "Burundi",
           "orientation": "v",
           "showlegend": true,
           "textposition": "auto",
           "type": "bar",
           "x": [
            "Burundi"
           ],
           "xaxis": "x",
           "y": [
            96.119906514379
           ],
           "yaxis": "y"
          },
          {
           "alignmentgroup": "True",
           "hovertemplate": "Country=%{x}<br>Year=2003<br>Age dependency ratio (% of working-age population)=%{y}<extra></extra>",
           "ids": [
            "Djibouti"
           ],
           "legendgroup": "Djibouti",
           "marker": {
            "color": "#EF553B",
            "pattern": {
             "shape": ""
            }
           },
           "name": "Djibouti",
           "offsetgroup": "Djibouti",
           "orientation": "v",
           "showlegend": true,
           "textposition": "auto",
           "type": "bar",
           "x": [
            "Djibouti"
           ],
           "xaxis": "x",
           "y": [
            71.34188188549756
           ],
           "yaxis": "y"
          },
          {
           "alignmentgroup": "True",
           "hovertemplate": "Country=%{x}<br>Year=2003<br>Age dependency ratio (% of working-age population)=%{y}<extra></extra>",
           "ids": [
            "Eritrea"
           ],
           "legendgroup": "Eritrea",
           "marker": {
            "color": "#00cc96",
            "pattern": {
             "shape": ""
            }
           },
           "name": "Eritrea",
           "offsetgroup": "Eritrea",
           "orientation": "v",
           "showlegend": true,
           "textposition": "auto",
           "type": "bar",
           "x": [
            "Eritrea"
           ],
           "xaxis": "x",
           "y": [
            87.73458952449212
           ],
           "yaxis": "y"
          },
          {
           "alignmentgroup": "True",
           "hovertemplate": "Country=%{x}<br>Year=2003<br>Age dependency ratio (% of working-age population)=%{y}<extra></extra>",
           "ids": [
            "Ethiopia"
           ],
           "legendgroup": "Ethiopia",
           "marker": {
            "color": "#ab63fa",
            "pattern": {
             "shape": ""
            }
           },
           "name": "Ethiopia",
           "offsetgroup": "Ethiopia",
           "orientation": "v",
           "showlegend": true,
           "textposition": "auto",
           "type": "bar",
           "x": [
            "Ethiopia"
           ],
           "xaxis": "x",
           "y": [
            99.346315143172
           ],
           "yaxis": "y"
          },
          {
           "alignmentgroup": "True",
           "hovertemplate": "Country=%{x}<br>Year=2003<br>Age dependency ratio (% of working-age population)=%{y}<extra></extra>",
           "ids": [
            "Kenya"
           ],
           "legendgroup": "Kenya",
           "marker": {
            "color": "#FFA15A",
            "pattern": {
             "shape": ""
            }
           },
           "name": "Kenya",
           "offsetgroup": "Kenya",
           "orientation": "v",
           "showlegend": true,
           "textposition": "auto",
           "type": "bar",
           "x": [
            "Kenya"
           ],
           "xaxis": "x",
           "y": [
            88.29763487054062
           ],
           "yaxis": "y"
          },
          {
           "alignmentgroup": "True",
           "hovertemplate": "Country=%{x}<br>Year=2003<br>Age dependency ratio (% of working-age population)=%{y}<extra></extra>",
           "ids": [
            "Rwanda"
           ],
           "legendgroup": "Rwanda",
           "marker": {
            "color": "#19d3f3",
            "pattern": {
             "shape": ""
            }
           },
           "name": "Rwanda",
           "offsetgroup": "Rwanda",
           "orientation": "v",
           "showlegend": true,
           "textposition": "auto",
           "type": "bar",
           "x": [
            "Rwanda"
           ],
           "xaxis": "x",
           "y": [
            87.03394009539001
           ],
           "yaxis": "y"
          },
          {
           "alignmentgroup": "True",
           "hovertemplate": "Country=%{x}<br>Year=2003<br>Age dependency ratio (% of working-age population)=%{y}<extra></extra>",
           "ids": [
            "Somalia"
           ],
           "legendgroup": "Somalia",
           "marker": {
            "color": "#FF6692",
            "pattern": {
             "shape": ""
            }
           },
           "name": "Somalia",
           "offsetgroup": "Somalia",
           "orientation": "v",
           "showlegend": true,
           "textposition": "auto",
           "type": "bar",
           "x": [
            "Somalia"
           ],
           "xaxis": "x",
           "y": [
            99.98555177761295
           ],
           "yaxis": "y"
          },
          {
           "alignmentgroup": "True",
           "hovertemplate": "Country=%{x}<br>Year=2003<br>Age dependency ratio (% of working-age population)=%{y}<extra></extra>",
           "ids": [
            "South Sudan"
           ],
           "legendgroup": "South Sudan",
           "marker": {
            "color": "#B6E880",
            "pattern": {
             "shape": ""
            }
           },
           "name": "South Sudan",
           "offsetgroup": "South Sudan",
           "orientation": "v",
           "showlegend": true,
           "textposition": "auto",
           "type": "bar",
           "x": [
            "South Sudan"
           ],
           "xaxis": "x",
           "y": [
            98.67359942037632
           ],
           "yaxis": "y"
          },
          {
           "alignmentgroup": "True",
           "hovertemplate": "Country=%{x}<br>Year=2003<br>Age dependency ratio (% of working-age population)=%{y}<extra></extra>",
           "ids": [
            "Sudan"
           ],
           "legendgroup": "Sudan",
           "marker": {
            "color": "#FF97FF",
            "pattern": {
             "shape": ""
            }
           },
           "name": "Sudan",
           "offsetgroup": "Sudan",
           "orientation": "v",
           "showlegend": true,
           "textposition": "auto",
           "type": "bar",
           "x": [
            "Sudan"
           ],
           "xaxis": "x",
           "y": [
            86.36852879752702
           ],
           "yaxis": "y"
          },
          {
           "alignmentgroup": "True",
           "hovertemplate": "Country=%{x}<br>Year=2003<br>Age dependency ratio (% of working-age population)=%{y}<extra></extra>",
           "ids": [
            "Tanzania"
           ],
           "legendgroup": "Tanzania",
           "marker": {
            "color": "#FECB52",
            "pattern": {
             "shape": ""
            }
           },
           "name": "Tanzania",
           "offsetgroup": "Tanzania",
           "orientation": "v",
           "showlegend": true,
           "textposition": "auto",
           "type": "bar",
           "x": [
            "Tanzania"
           ],
           "xaxis": "x",
           "y": [
            89.8780737388089
           ],
           "yaxis": "y"
          },
          {
           "alignmentgroup": "True",
           "hovertemplate": "Country=%{x}<br>Year=2003<br>Age dependency ratio (% of working-age population)=%{y}<extra></extra>",
           "ids": [
            "Uganda"
           ],
           "legendgroup": "Uganda",
           "marker": {
            "color": "#636efa",
            "pattern": {
             "shape": ""
            }
           },
           "name": "Uganda",
           "offsetgroup": "Uganda",
           "orientation": "v",
           "showlegend": true,
           "textposition": "auto",
           "type": "bar",
           "x": [
            "Uganda"
           ],
           "xaxis": "x",
           "y": [
            110.72308606271304
           ],
           "yaxis": "y"
          }
         ],
         "name": "2003"
        },
        {
         "data": [
          {
           "alignmentgroup": "True",
           "hovertemplate": "Country=%{x}<br>Year=2004<br>Age dependency ratio (% of working-age population)=%{y}<extra></extra>",
           "ids": [
            "Burundi"
           ],
           "legendgroup": "Burundi",
           "marker": {
            "color": "#636efa",
            "pattern": {
             "shape": ""
            }
           },
           "name": "Burundi",
           "offsetgroup": "Burundi",
           "orientation": "v",
           "showlegend": true,
           "textposition": "auto",
           "type": "bar",
           "x": [
            "Burundi"
           ],
           "xaxis": "x",
           "y": [
            93.8737713903128
           ],
           "yaxis": "y"
          },
          {
           "alignmentgroup": "True",
           "hovertemplate": "Country=%{x}<br>Year=2004<br>Age dependency ratio (% of working-age population)=%{y}<extra></extra>",
           "ids": [
            "Djibouti"
           ],
           "legendgroup": "Djibouti",
           "marker": {
            "color": "#EF553B",
            "pattern": {
             "shape": ""
            }
           },
           "name": "Djibouti",
           "offsetgroup": "Djibouti",
           "orientation": "v",
           "showlegend": true,
           "textposition": "auto",
           "type": "bar",
           "x": [
            "Djibouti"
           ],
           "xaxis": "x",
           "y": [
            71.37876081361526
           ],
           "yaxis": "y"
          },
          {
           "alignmentgroup": "True",
           "hovertemplate": "Country=%{x}<br>Year=2004<br>Age dependency ratio (% of working-age population)=%{y}<extra></extra>",
           "ids": [
            "Eritrea"
           ],
           "legendgroup": "Eritrea",
           "marker": {
            "color": "#00cc96",
            "pattern": {
             "shape": ""
            }
           },
           "name": "Eritrea",
           "offsetgroup": "Eritrea",
           "orientation": "v",
           "showlegend": true,
           "textposition": "auto",
           "type": "bar",
           "x": [
            "Eritrea"
           ],
           "xaxis": "x",
           "y": [
            85.74832008131371
           ],
           "yaxis": "y"
          },
          {
           "alignmentgroup": "True",
           "hovertemplate": "Country=%{x}<br>Year=2004<br>Age dependency ratio (% of working-age population)=%{y}<extra></extra>",
           "ids": [
            "Ethiopia"
           ],
           "legendgroup": "Ethiopia",
           "marker": {
            "color": "#ab63fa",
            "pattern": {
             "shape": ""
            }
           },
           "name": "Ethiopia",
           "offsetgroup": "Ethiopia",
           "orientation": "v",
           "showlegend": true,
           "textposition": "auto",
           "type": "bar",
           "x": [
            "Ethiopia"
           ],
           "xaxis": "x",
           "y": [
            98.56302974470574
           ],
           "yaxis": "y"
          },
          {
           "alignmentgroup": "True",
           "hovertemplate": "Country=%{x}<br>Year=2004<br>Age dependency ratio (% of working-age population)=%{y}<extra></extra>",
           "ids": [
            "Kenya"
           ],
           "legendgroup": "Kenya",
           "marker": {
            "color": "#FFA15A",
            "pattern": {
             "shape": ""
            }
           },
           "name": "Kenya",
           "offsetgroup": "Kenya",
           "orientation": "v",
           "showlegend": true,
           "textposition": "auto",
           "type": "bar",
           "x": [
            "Kenya"
           ],
           "xaxis": "x",
           "y": [
            87.09425906922321
           ],
           "yaxis": "y"
          },
          {
           "alignmentgroup": "True",
           "hovertemplate": "Country=%{x}<br>Year=2004<br>Age dependency ratio (% of working-age population)=%{y}<extra></extra>",
           "ids": [
            "Rwanda"
           ],
           "legendgroup": "Rwanda",
           "marker": {
            "color": "#19d3f3",
            "pattern": {
             "shape": ""
            }
           },
           "name": "Rwanda",
           "offsetgroup": "Rwanda",
           "orientation": "v",
           "showlegend": true,
           "textposition": "auto",
           "type": "bar",
           "x": [
            "Rwanda"
           ],
           "xaxis": "x",
           "y": [
            85.54131613290991
           ],
           "yaxis": "y"
          },
          {
           "alignmentgroup": "True",
           "hovertemplate": "Country=%{x}<br>Year=2004<br>Age dependency ratio (% of working-age population)=%{y}<extra></extra>",
           "ids": [
            "Somalia"
           ],
           "legendgroup": "Somalia",
           "marker": {
            "color": "#FF6692",
            "pattern": {
             "shape": ""
            }
           },
           "name": "Somalia",
           "offsetgroup": "Somalia",
           "orientation": "v",
           "showlegend": true,
           "textposition": "auto",
           "type": "bar",
           "x": [
            "Somalia"
           ],
           "xaxis": "x",
           "y": [
            100.53719173713402
           ],
           "yaxis": "y"
          },
          {
           "alignmentgroup": "True",
           "hovertemplate": "Country=%{x}<br>Year=2004<br>Age dependency ratio (% of working-age population)=%{y}<extra></extra>",
           "ids": [
            "South Sudan"
           ],
           "legendgroup": "South Sudan",
           "marker": {
            "color": "#B6E880",
            "pattern": {
             "shape": ""
            }
           },
           "name": "South Sudan",
           "offsetgroup": "South Sudan",
           "orientation": "v",
           "showlegend": true,
           "textposition": "auto",
           "type": "bar",
           "x": [
            "South Sudan"
           ],
           "xaxis": "x",
           "y": [
            97.5075099960078
           ],
           "yaxis": "y"
          },
          {
           "alignmentgroup": "True",
           "hovertemplate": "Country=%{x}<br>Year=2004<br>Age dependency ratio (% of working-age population)=%{y}<extra></extra>",
           "ids": [
            "Sudan"
           ],
           "legendgroup": "Sudan",
           "marker": {
            "color": "#FF97FF",
            "pattern": {
             "shape": ""
            }
           },
           "name": "Sudan",
           "offsetgroup": "Sudan",
           "orientation": "v",
           "showlegend": true,
           "textposition": "auto",
           "type": "bar",
           "x": [
            "Sudan"
           ],
           "xaxis": "x",
           "y": [
            85.05036462525304
           ],
           "yaxis": "y"
          },
          {
           "alignmentgroup": "True",
           "hovertemplate": "Country=%{x}<br>Year=2004<br>Age dependency ratio (% of working-age population)=%{y}<extra></extra>",
           "ids": [
            "Tanzania"
           ],
           "legendgroup": "Tanzania",
           "marker": {
            "color": "#FECB52",
            "pattern": {
             "shape": ""
            }
           },
           "name": "Tanzania",
           "offsetgroup": "Tanzania",
           "orientation": "v",
           "showlegend": true,
           "textposition": "auto",
           "type": "bar",
           "x": [
            "Tanzania"
           ],
           "xaxis": "x",
           "y": [
            89.96457410335162
           ],
           "yaxis": "y"
          },
          {
           "alignmentgroup": "True",
           "hovertemplate": "Country=%{x}<br>Year=2004<br>Age dependency ratio (% of working-age population)=%{y}<extra></extra>",
           "ids": [
            "Uganda"
           ],
           "legendgroup": "Uganda",
           "marker": {
            "color": "#636efa",
            "pattern": {
             "shape": ""
            }
           },
           "name": "Uganda",
           "offsetgroup": "Uganda",
           "orientation": "v",
           "showlegend": true,
           "textposition": "auto",
           "type": "bar",
           "x": [
            "Uganda"
           ],
           "xaxis": "x",
           "y": [
            110.42949079647076
           ],
           "yaxis": "y"
          }
         ],
         "name": "2004"
        },
        {
         "data": [
          {
           "alignmentgroup": "True",
           "hovertemplate": "Country=%{x}<br>Year=2005<br>Age dependency ratio (% of working-age population)=%{y}<extra></extra>",
           "ids": [
            "Burundi"
           ],
           "legendgroup": "Burundi",
           "marker": {
            "color": "#636efa",
            "pattern": {
             "shape": ""
            }
           },
           "name": "Burundi",
           "offsetgroup": "Burundi",
           "orientation": "v",
           "showlegend": true,
           "textposition": "auto",
           "type": "bar",
           "x": [
            "Burundi"
           ],
           "xaxis": "x",
           "y": [
            92.31682609619077
           ],
           "yaxis": "y"
          },
          {
           "alignmentgroup": "True",
           "hovertemplate": "Country=%{x}<br>Year=2005<br>Age dependency ratio (% of working-age population)=%{y}<extra></extra>",
           "ids": [
            "Djibouti"
           ],
           "legendgroup": "Djibouti",
           "marker": {
            "color": "#EF553B",
            "pattern": {
             "shape": ""
            }
           },
           "name": "Djibouti",
           "offsetgroup": "Djibouti",
           "orientation": "v",
           "showlegend": true,
           "textposition": "auto",
           "type": "bar",
           "x": [
            "Djibouti"
           ],
           "xaxis": "x",
           "y": [
            71.15838610398117
           ],
           "yaxis": "y"
          },
          {
           "alignmentgroup": "True",
           "hovertemplate": "Country=%{x}<br>Year=2005<br>Age dependency ratio (% of working-age population)=%{y}<extra></extra>",
           "ids": [
            "Eritrea"
           ],
           "legendgroup": "Eritrea",
           "marker": {
            "color": "#00cc96",
            "pattern": {
             "shape": ""
            }
           },
           "name": "Eritrea",
           "offsetgroup": "Eritrea",
           "orientation": "v",
           "showlegend": true,
           "textposition": "auto",
           "type": "bar",
           "x": [
            "Eritrea"
           ],
           "xaxis": "x",
           "y": [
            85.78760865699981
           ],
           "yaxis": "y"
          },
          {
           "alignmentgroup": "True",
           "hovertemplate": "Country=%{x}<br>Year=2005<br>Age dependency ratio (% of working-age population)=%{y}<extra></extra>",
           "ids": [
            "Ethiopia"
           ],
           "legendgroup": "Ethiopia",
           "marker": {
            "color": "#ab63fa",
            "pattern": {
             "shape": ""
            }
           },
           "name": "Ethiopia",
           "offsetgroup": "Ethiopia",
           "orientation": "v",
           "showlegend": true,
           "textposition": "auto",
           "type": "bar",
           "x": [
            "Ethiopia"
           ],
           "xaxis": "x",
           "y": [
            97.74426125766723
           ],
           "yaxis": "y"
          },
          {
           "alignmentgroup": "True",
           "hovertemplate": "Country=%{x}<br>Year=2005<br>Age dependency ratio (% of working-age population)=%{y}<extra></extra>",
           "ids": [
            "Kenya"
           ],
           "legendgroup": "Kenya",
           "marker": {
            "color": "#FFA15A",
            "pattern": {
             "shape": ""
            }
           },
           "name": "Kenya",
           "offsetgroup": "Kenya",
           "orientation": "v",
           "showlegend": true,
           "textposition": "auto",
           "type": "bar",
           "x": [
            "Kenya"
           ],
           "xaxis": "x",
           "y": [
            86.09694286156198
           ],
           "yaxis": "y"
          },
          {
           "alignmentgroup": "True",
           "hovertemplate": "Country=%{x}<br>Year=2005<br>Age dependency ratio (% of working-age population)=%{y}<extra></extra>",
           "ids": [
            "Rwanda"
           ],
           "legendgroup": "Rwanda",
           "marker": {
            "color": "#19d3f3",
            "pattern": {
             "shape": ""
            }
           },
           "name": "Rwanda",
           "offsetgroup": "Rwanda",
           "orientation": "v",
           "showlegend": true,
           "textposition": "auto",
           "type": "bar",
           "x": [
            "Rwanda"
           ],
           "xaxis": "x",
           "y": [
            84.60357766489322
           ],
           "yaxis": "y"
          },
          {
           "alignmentgroup": "True",
           "hovertemplate": "Country=%{x}<br>Year=2005<br>Age dependency ratio (% of working-age population)=%{y}<extra></extra>",
           "ids": [
            "Somalia"
           ],
           "legendgroup": "Somalia",
           "marker": {
            "color": "#FF6692",
            "pattern": {
             "shape": ""
            }
           },
           "name": "Somalia",
           "offsetgroup": "Somalia",
           "orientation": "v",
           "showlegend": true,
           "textposition": "auto",
           "type": "bar",
           "x": [
            "Somalia"
           ],
           "xaxis": "x",
           "y": [
            101.5136880904632
           ],
           "yaxis": "y"
          },
          {
           "alignmentgroup": "True",
           "hovertemplate": "Country=%{x}<br>Year=2005<br>Age dependency ratio (% of working-age population)=%{y}<extra></extra>",
           "ids": [
            "South Sudan"
           ],
           "legendgroup": "South Sudan",
           "marker": {
            "color": "#B6E880",
            "pattern": {
             "shape": ""
            }
           },
           "name": "South Sudan",
           "offsetgroup": "South Sudan",
           "orientation": "v",
           "showlegend": true,
           "textposition": "auto",
           "type": "bar",
           "x": [
            "South Sudan"
           ],
           "xaxis": "x",
           "y": [
            95.21710508214112
           ],
           "yaxis": "y"
          },
          {
           "alignmentgroup": "True",
           "hovertemplate": "Country=%{x}<br>Year=2005<br>Age dependency ratio (% of working-age population)=%{y}<extra></extra>",
           "ids": [
            "Sudan"
           ],
           "legendgroup": "Sudan",
           "marker": {
            "color": "#FF97FF",
            "pattern": {
             "shape": ""
            }
           },
           "name": "Sudan",
           "offsetgroup": "Sudan",
           "orientation": "v",
           "showlegend": true,
           "textposition": "auto",
           "type": "bar",
           "x": [
            "Sudan"
           ],
           "xaxis": "x",
           "y": [
            83.53860488905234
           ],
           "yaxis": "y"
          },
          {
           "alignmentgroup": "True",
           "hovertemplate": "Country=%{x}<br>Year=2005<br>Age dependency ratio (% of working-age population)=%{y}<extra></extra>",
           "ids": [
            "Tanzania"
           ],
           "legendgroup": "Tanzania",
           "marker": {
            "color": "#FECB52",
            "pattern": {
             "shape": ""
            }
           },
           "name": "Tanzania",
           "offsetgroup": "Tanzania",
           "orientation": "v",
           "showlegend": true,
           "textposition": "auto",
           "type": "bar",
           "x": [
            "Tanzania"
           ],
           "xaxis": "x",
           "y": [
            90.20435747062068
           ],
           "yaxis": "y"
          },
          {
           "alignmentgroup": "True",
           "hovertemplate": "Country=%{x}<br>Year=2005<br>Age dependency ratio (% of working-age population)=%{y}<extra></extra>",
           "ids": [
            "Uganda"
           ],
           "legendgroup": "Uganda",
           "marker": {
            "color": "#636efa",
            "pattern": {
             "shape": ""
            }
           },
           "name": "Uganda",
           "offsetgroup": "Uganda",
           "orientation": "v",
           "showlegend": true,
           "textposition": "auto",
           "type": "bar",
           "x": [
            "Uganda"
           ],
           "xaxis": "x",
           "y": [
            110.09676907659656
           ],
           "yaxis": "y"
          }
         ],
         "name": "2005"
        },
        {
         "data": [
          {
           "alignmentgroup": "True",
           "hovertemplate": "Country=%{x}<br>Year=2006<br>Age dependency ratio (% of working-age population)=%{y}<extra></extra>",
           "ids": [
            "Burundi"
           ],
           "legendgroup": "Burundi",
           "marker": {
            "color": "#636efa",
            "pattern": {
             "shape": ""
            }
           },
           "name": "Burundi",
           "offsetgroup": "Burundi",
           "orientation": "v",
           "showlegend": true,
           "textposition": "auto",
           "type": "bar",
           "x": [
            "Burundi"
           ],
           "xaxis": "x",
           "y": [
            91.46927879786894
           ],
           "yaxis": "y"
          },
          {
           "alignmentgroup": "True",
           "hovertemplate": "Country=%{x}<br>Year=2006<br>Age dependency ratio (% of working-age population)=%{y}<extra></extra>",
           "ids": [
            "Djibouti"
           ],
           "legendgroup": "Djibouti",
           "marker": {
            "color": "#EF553B",
            "pattern": {
             "shape": ""
            }
           },
           "name": "Djibouti",
           "offsetgroup": "Djibouti",
           "orientation": "v",
           "showlegend": true,
           "textposition": "auto",
           "type": "bar",
           "x": [
            "Djibouti"
           ],
           "xaxis": "x",
           "y": [
            70.3976726312867
           ],
           "yaxis": "y"
          },
          {
           "alignmentgroup": "True",
           "hovertemplate": "Country=%{x}<br>Year=2006<br>Age dependency ratio (% of working-age population)=%{y}<extra></extra>",
           "ids": [
            "Eritrea"
           ],
           "legendgroup": "Eritrea",
           "marker": {
            "color": "#00cc96",
            "pattern": {
             "shape": ""
            }
           },
           "name": "Eritrea",
           "offsetgroup": "Eritrea",
           "orientation": "v",
           "showlegend": true,
           "textposition": "auto",
           "type": "bar",
           "x": [
            "Eritrea"
           ],
           "xaxis": "x",
           "y": [
            86.67179997718529
           ],
           "yaxis": "y"
          },
          {
           "alignmentgroup": "True",
           "hovertemplate": "Country=%{x}<br>Year=2006<br>Age dependency ratio (% of working-age population)=%{y}<extra></extra>",
           "ids": [
            "Ethiopia"
           ],
           "legendgroup": "Ethiopia",
           "marker": {
            "color": "#ab63fa",
            "pattern": {
             "shape": ""
            }
           },
           "name": "Ethiopia",
           "offsetgroup": "Ethiopia",
           "orientation": "v",
           "showlegend": true,
           "textposition": "auto",
           "type": "bar",
           "x": [
            "Ethiopia"
           ],
           "xaxis": "x",
           "y": [
            96.76159714585128
           ],
           "yaxis": "y"
          },
          {
           "alignmentgroup": "True",
           "hovertemplate": "Country=%{x}<br>Year=2006<br>Age dependency ratio (% of working-age population)=%{y}<extra></extra>",
           "ids": [
            "Kenya"
           ],
           "legendgroup": "Kenya",
           "marker": {
            "color": "#FFA15A",
            "pattern": {
             "shape": ""
            }
           },
           "name": "Kenya",
           "offsetgroup": "Kenya",
           "orientation": "v",
           "showlegend": true,
           "textposition": "auto",
           "type": "bar",
           "x": [
            "Kenya"
           ],
           "xaxis": "x",
           "y": [
            85.31231900179249
           ],
           "yaxis": "y"
          },
          {
           "alignmentgroup": "True",
           "hovertemplate": "Country=%{x}<br>Year=2006<br>Age dependency ratio (% of working-age population)=%{y}<extra></extra>",
           "ids": [
            "Rwanda"
           ],
           "legendgroup": "Rwanda",
           "marker": {
            "color": "#19d3f3",
            "pattern": {
             "shape": ""
            }
           },
           "name": "Rwanda",
           "offsetgroup": "Rwanda",
           "orientation": "v",
           "showlegend": true,
           "textposition": "auto",
           "type": "bar",
           "x": [
            "Rwanda"
           ],
           "xaxis": "x",
           "y": [
            84.09745139077967
           ],
           "yaxis": "y"
          },
          {
           "alignmentgroup": "True",
           "hovertemplate": "Country=%{x}<br>Year=2006<br>Age dependency ratio (% of working-age population)=%{y}<extra></extra>",
           "ids": [
            "Somalia"
           ],
           "legendgroup": "Somalia",
           "marker": {
            "color": "#FF6692",
            "pattern": {
             "shape": ""
            }
           },
           "name": "Somalia",
           "offsetgroup": "Somalia",
           "orientation": "v",
           "showlegend": true,
           "textposition": "auto",
           "type": "bar",
           "x": [
            "Somalia"
           ],
           "xaxis": "x",
           "y": [
            102.86618566788664
           ],
           "yaxis": "y"
          },
          {
           "alignmentgroup": "True",
           "hovertemplate": "Country=%{x}<br>Year=2006<br>Age dependency ratio (% of working-age population)=%{y}<extra></extra>",
           "ids": [
            "South Sudan"
           ],
           "legendgroup": "South Sudan",
           "marker": {
            "color": "#B6E880",
            "pattern": {
             "shape": ""
            }
           },
           "name": "South Sudan",
           "offsetgroup": "South Sudan",
           "orientation": "v",
           "showlegend": true,
           "textposition": "auto",
           "type": "bar",
           "x": [
            "South Sudan"
           ],
           "xaxis": "x",
           "y": [
            92.63541370528844
           ],
           "yaxis": "y"
          },
          {
           "alignmentgroup": "True",
           "hovertemplate": "Country=%{x}<br>Year=2006<br>Age dependency ratio (% of working-age population)=%{y}<extra></extra>",
           "ids": [
            "Sudan"
           ],
           "legendgroup": "Sudan",
           "marker": {
            "color": "#FF97FF",
            "pattern": {
             "shape": ""
            }
           },
           "name": "Sudan",
           "offsetgroup": "Sudan",
           "orientation": "v",
           "showlegend": true,
           "textposition": "auto",
           "type": "bar",
           "x": [
            "Sudan"
           ],
           "xaxis": "x",
           "y": [
            82.1522548969271
           ],
           "yaxis": "y"
          },
          {
           "alignmentgroup": "True",
           "hovertemplate": "Country=%{x}<br>Year=2006<br>Age dependency ratio (% of working-age population)=%{y}<extra></extra>",
           "ids": [
            "Tanzania"
           ],
           "legendgroup": "Tanzania",
           "marker": {
            "color": "#FECB52",
            "pattern": {
             "shape": ""
            }
           },
           "name": "Tanzania",
           "offsetgroup": "Tanzania",
           "orientation": "v",
           "showlegend": true,
           "textposition": "auto",
           "type": "bar",
           "x": [
            "Tanzania"
           ],
           "xaxis": "x",
           "y": [
            90.53495054374402
           ],
           "yaxis": "y"
          },
          {
           "alignmentgroup": "True",
           "hovertemplate": "Country=%{x}<br>Year=2006<br>Age dependency ratio (% of working-age population)=%{y}<extra></extra>",
           "ids": [
            "Uganda"
           ],
           "legendgroup": "Uganda",
           "marker": {
            "color": "#636efa",
            "pattern": {
             "shape": ""
            }
           },
           "name": "Uganda",
           "offsetgroup": "Uganda",
           "orientation": "v",
           "showlegend": true,
           "textposition": "auto",
           "type": "bar",
           "x": [
            "Uganda"
           ],
           "xaxis": "x",
           "y": [
            109.59761990250324
           ],
           "yaxis": "y"
          }
         ],
         "name": "2006"
        },
        {
         "data": [
          {
           "alignmentgroup": "True",
           "hovertemplate": "Country=%{x}<br>Year=2007<br>Age dependency ratio (% of working-age population)=%{y}<extra></extra>",
           "ids": [
            "Burundi"
           ],
           "legendgroup": "Burundi",
           "marker": {
            "color": "#636efa",
            "pattern": {
             "shape": ""
            }
           },
           "name": "Burundi",
           "offsetgroup": "Burundi",
           "orientation": "v",
           "showlegend": true,
           "textposition": "auto",
           "type": "bar",
           "x": [
            "Burundi"
           ],
           "xaxis": "x",
           "y": [
            90.93592528690466
           ],
           "yaxis": "y"
          },
          {
           "alignmentgroup": "True",
           "hovertemplate": "Country=%{x}<br>Year=2007<br>Age dependency ratio (% of working-age population)=%{y}<extra></extra>",
           "ids": [
            "Djibouti"
           ],
           "legendgroup": "Djibouti",
           "marker": {
            "color": "#EF553B",
            "pattern": {
             "shape": ""
            }
           },
           "name": "Djibouti",
           "offsetgroup": "Djibouti",
           "orientation": "v",
           "showlegend": true,
           "textposition": "auto",
           "type": "bar",
           "x": [
            "Djibouti"
           ],
           "xaxis": "x",
           "y": [
            69.31409001956948
           ],
           "yaxis": "y"
          },
          {
           "alignmentgroup": "True",
           "hovertemplate": "Country=%{x}<br>Year=2007<br>Age dependency ratio (% of working-age population)=%{y}<extra></extra>",
           "ids": [
            "Eritrea"
           ],
           "legendgroup": "Eritrea",
           "marker": {
            "color": "#00cc96",
            "pattern": {
             "shape": ""
            }
           },
           "name": "Eritrea",
           "offsetgroup": "Eritrea",
           "orientation": "v",
           "showlegend": true,
           "textposition": "auto",
           "type": "bar",
           "x": [
            "Eritrea"
           ],
           "xaxis": "x",
           "y": [
            87.50107329551061
           ],
           "yaxis": "y"
          },
          {
           "alignmentgroup": "True",
           "hovertemplate": "Country=%{x}<br>Year=2007<br>Age dependency ratio (% of working-age population)=%{y}<extra></extra>",
           "ids": [
            "Ethiopia"
           ],
           "legendgroup": "Ethiopia",
           "marker": {
            "color": "#ab63fa",
            "pattern": {
             "shape": ""
            }
           },
           "name": "Ethiopia",
           "offsetgroup": "Ethiopia",
           "orientation": "v",
           "showlegend": true,
           "textposition": "auto",
           "type": "bar",
           "x": [
            "Ethiopia"
           ],
           "xaxis": "x",
           "y": [
            95.67217210368682
           ],
           "yaxis": "y"
          },
          {
           "alignmentgroup": "True",
           "hovertemplate": "Country=%{x}<br>Year=2007<br>Age dependency ratio (% of working-age population)=%{y}<extra></extra>",
           "ids": [
            "Kenya"
           ],
           "legendgroup": "Kenya",
           "marker": {
            "color": "#FFA15A",
            "pattern": {
             "shape": ""
            }
           },
           "name": "Kenya",
           "offsetgroup": "Kenya",
           "orientation": "v",
           "showlegend": true,
           "textposition": "auto",
           "type": "bar",
           "x": [
            "Kenya"
           ],
           "xaxis": "x",
           "y": [
            84.7195990566851
           ],
           "yaxis": "y"
          },
          {
           "alignmentgroup": "True",
           "hovertemplate": "Country=%{x}<br>Year=2007<br>Age dependency ratio (% of working-age population)=%{y}<extra></extra>",
           "ids": [
            "Rwanda"
           ],
           "legendgroup": "Rwanda",
           "marker": {
            "color": "#19d3f3",
            "pattern": {
             "shape": ""
            }
           },
           "name": "Rwanda",
           "offsetgroup": "Rwanda",
           "orientation": "v",
           "showlegend": true,
           "textposition": "auto",
           "type": "bar",
           "x": [
            "Rwanda"
           ],
           "xaxis": "x",
           "y": [
            83.84614879711566
           ],
           "yaxis": "y"
          },
          {
           "alignmentgroup": "True",
           "hovertemplate": "Country=%{x}<br>Year=2007<br>Age dependency ratio (% of working-age population)=%{y}<extra></extra>",
           "ids": [
            "Somalia"
           ],
           "legendgroup": "Somalia",
           "marker": {
            "color": "#FF6692",
            "pattern": {
             "shape": ""
            }
           },
           "name": "Somalia",
           "offsetgroup": "Somalia",
           "orientation": "v",
           "showlegend": true,
           "textposition": "auto",
           "type": "bar",
           "x": [
            "Somalia"
           ],
           "xaxis": "x",
           "y": [
            103.83501052442068
           ],
           "yaxis": "y"
          },
          {
           "alignmentgroup": "True",
           "hovertemplate": "Country=%{x}<br>Year=2007<br>Age dependency ratio (% of working-age population)=%{y}<extra></extra>",
           "ids": [
            "South Sudan"
           ],
           "legendgroup": "South Sudan",
           "marker": {
            "color": "#B6E880",
            "pattern": {
             "shape": ""
            }
           },
           "name": "South Sudan",
           "offsetgroup": "South Sudan",
           "orientation": "v",
           "showlegend": true,
           "textposition": "auto",
           "type": "bar",
           "x": [
            "South Sudan"
           ],
           "xaxis": "x",
           "y": [
            89.9825969754261
           ],
           "yaxis": "y"
          },
          {
           "alignmentgroup": "True",
           "hovertemplate": "Country=%{x}<br>Year=2007<br>Age dependency ratio (% of working-age population)=%{y}<extra></extra>",
           "ids": [
            "Sudan"
           ],
           "legendgroup": "Sudan",
           "marker": {
            "color": "#FF97FF",
            "pattern": {
             "shape": ""
            }
           },
           "name": "Sudan",
           "offsetgroup": "Sudan",
           "orientation": "v",
           "showlegend": true,
           "textposition": "auto",
           "type": "bar",
           "x": [
            "Sudan"
           ],
           "xaxis": "x",
           "y": [
            81.09650045658537
           ],
           "yaxis": "y"
          },
          {
           "alignmentgroup": "True",
           "hovertemplate": "Country=%{x}<br>Year=2007<br>Age dependency ratio (% of working-age population)=%{y}<extra></extra>",
           "ids": [
            "Tanzania"
           ],
           "legendgroup": "Tanzania",
           "marker": {
            "color": "#FECB52",
            "pattern": {
             "shape": ""
            }
           },
           "name": "Tanzania",
           "offsetgroup": "Tanzania",
           "orientation": "v",
           "showlegend": true,
           "textposition": "auto",
           "type": "bar",
           "x": [
            "Tanzania"
           ],
           "xaxis": "x",
           "y": [
            90.87377471581352
           ],
           "yaxis": "y"
          },
          {
           "alignmentgroup": "True",
           "hovertemplate": "Country=%{x}<br>Year=2007<br>Age dependency ratio (% of working-age population)=%{y}<extra></extra>",
           "ids": [
            "Uganda"
           ],
           "legendgroup": "Uganda",
           "marker": {
            "color": "#636efa",
            "pattern": {
             "shape": ""
            }
           },
           "name": "Uganda",
           "offsetgroup": "Uganda",
           "orientation": "v",
           "showlegend": true,
           "textposition": "auto",
           "type": "bar",
           "x": [
            "Uganda"
           ],
           "xaxis": "x",
           "y": [
            108.90654927399736
           ],
           "yaxis": "y"
          }
         ],
         "name": "2007"
        },
        {
         "data": [
          {
           "alignmentgroup": "True",
           "hovertemplate": "Country=%{x}<br>Year=2008<br>Age dependency ratio (% of working-age population)=%{y}<extra></extra>",
           "ids": [
            "Burundi"
           ],
           "legendgroup": "Burundi",
           "marker": {
            "color": "#636efa",
            "pattern": {
             "shape": ""
            }
           },
           "name": "Burundi",
           "offsetgroup": "Burundi",
           "orientation": "v",
           "showlegend": true,
           "textposition": "auto",
           "type": "bar",
           "x": [
            "Burundi"
           ],
           "xaxis": "x",
           "y": [
            90.1236016809112
           ],
           "yaxis": "y"
          },
          {
           "alignmentgroup": "True",
           "hovertemplate": "Country=%{x}<br>Year=2008<br>Age dependency ratio (% of working-age population)=%{y}<extra></extra>",
           "ids": [
            "Djibouti"
           ],
           "legendgroup": "Djibouti",
           "marker": {
            "color": "#EF553B",
            "pattern": {
             "shape": ""
            }
           },
           "name": "Djibouti",
           "offsetgroup": "Djibouti",
           "orientation": "v",
           "showlegend": true,
           "textposition": "auto",
           "type": "bar",
           "x": [
            "Djibouti"
           ],
           "xaxis": "x",
           "y": [
            68.20804072565434
           ],
           "yaxis": "y"
          },
          {
           "alignmentgroup": "True",
           "hovertemplate": "Country=%{x}<br>Year=2008<br>Age dependency ratio (% of working-age population)=%{y}<extra></extra>",
           "ids": [
            "Eritrea"
           ],
           "legendgroup": "Eritrea",
           "marker": {
            "color": "#00cc96",
            "pattern": {
             "shape": ""
            }
           },
           "name": "Eritrea",
           "offsetgroup": "Eritrea",
           "orientation": "v",
           "showlegend": true,
           "textposition": "auto",
           "type": "bar",
           "x": [
            "Eritrea"
           ],
           "xaxis": "x",
           "y": [
            86.82343756895294
           ],
           "yaxis": "y"
          },
          {
           "alignmentgroup": "True",
           "hovertemplate": "Country=%{x}<br>Year=2008<br>Age dependency ratio (% of working-age population)=%{y}<extra></extra>",
           "ids": [
            "Ethiopia"
           ],
           "legendgroup": "Ethiopia",
           "marker": {
            "color": "#ab63fa",
            "pattern": {
             "shape": ""
            }
           },
           "name": "Ethiopia",
           "offsetgroup": "Ethiopia",
           "orientation": "v",
           "showlegend": true,
           "textposition": "auto",
           "type": "bar",
           "x": [
            "Ethiopia"
           ],
           "xaxis": "x",
           "y": [
            94.53087739434427
           ],
           "yaxis": "y"
          },
          {
           "alignmentgroup": "True",
           "hovertemplate": "Country=%{x}<br>Year=2008<br>Age dependency ratio (% of working-age population)=%{y}<extra></extra>",
           "ids": [
            "Kenya"
           ],
           "legendgroup": "Kenya",
           "marker": {
            "color": "#FFA15A",
            "pattern": {
             "shape": ""
            }
           },
           "name": "Kenya",
           "offsetgroup": "Kenya",
           "orientation": "v",
           "showlegend": true,
           "textposition": "auto",
           "type": "bar",
           "x": [
            "Kenya"
           ],
           "xaxis": "x",
           "y": [
            84.21215776202907
           ],
           "yaxis": "y"
          },
          {
           "alignmentgroup": "True",
           "hovertemplate": "Country=%{x}<br>Year=2008<br>Age dependency ratio (% of working-age population)=%{y}<extra></extra>",
           "ids": [
            "Rwanda"
           ],
           "legendgroup": "Rwanda",
           "marker": {
            "color": "#19d3f3",
            "pattern": {
             "shape": ""
            }
           },
           "name": "Rwanda",
           "offsetgroup": "Rwanda",
           "orientation": "v",
           "showlegend": true,
           "textposition": "auto",
           "type": "bar",
           "x": [
            "Rwanda"
           ],
           "xaxis": "x",
           "y": [
            83.64244864458038
           ],
           "yaxis": "y"
          },
          {
           "alignmentgroup": "True",
           "hovertemplate": "Country=%{x}<br>Year=2008<br>Age dependency ratio (% of working-age population)=%{y}<extra></extra>",
           "ids": [
            "Somalia"
           ],
           "legendgroup": "Somalia",
           "marker": {
            "color": "#FF6692",
            "pattern": {
             "shape": ""
            }
           },
           "name": "Somalia",
           "offsetgroup": "Somalia",
           "orientation": "v",
           "showlegend": true,
           "textposition": "auto",
           "type": "bar",
           "x": [
            "Somalia"
           ],
           "xaxis": "x",
           "y": [
            103.87297135627924
           ],
           "yaxis": "y"
          },
          {
           "alignmentgroup": "True",
           "hovertemplate": "Country=%{x}<br>Year=2008<br>Age dependency ratio (% of working-age population)=%{y}<extra></extra>",
           "ids": [
            "South Sudan"
           ],
           "legendgroup": "South Sudan",
           "marker": {
            "color": "#B6E880",
            "pattern": {
             "shape": ""
            }
           },
           "name": "South Sudan",
           "offsetgroup": "South Sudan",
           "orientation": "v",
           "showlegend": true,
           "textposition": "auto",
           "type": "bar",
           "x": [
            "South Sudan"
           ],
           "xaxis": "x",
           "y": [
            87.62991952692164
           ],
           "yaxis": "y"
          },
          {
           "alignmentgroup": "True",
           "hovertemplate": "Country=%{x}<br>Year=2008<br>Age dependency ratio (% of working-age population)=%{y}<extra></extra>",
           "ids": [
            "Sudan"
           ],
           "legendgroup": "Sudan",
           "marker": {
            "color": "#FF97FF",
            "pattern": {
             "shape": ""
            }
           },
           "name": "Sudan",
           "offsetgroup": "Sudan",
           "orientation": "v",
           "showlegend": true,
           "textposition": "auto",
           "type": "bar",
           "x": [
            "Sudan"
           ],
           "xaxis": "x",
           "y": [
            80.41078774696724
           ],
           "yaxis": "y"
          },
          {
           "alignmentgroup": "True",
           "hovertemplate": "Country=%{x}<br>Year=2008<br>Age dependency ratio (% of working-age population)=%{y}<extra></extra>",
           "ids": [
            "Tanzania"
           ],
           "legendgroup": "Tanzania",
           "marker": {
            "color": "#FECB52",
            "pattern": {
             "shape": ""
            }
           },
           "name": "Tanzania",
           "offsetgroup": "Tanzania",
           "orientation": "v",
           "showlegend": true,
           "textposition": "auto",
           "type": "bar",
           "x": [
            "Tanzania"
           ],
           "xaxis": "x",
           "y": [
            91.25862174036136
           ],
           "yaxis": "y"
          },
          {
           "alignmentgroup": "True",
           "hovertemplate": "Country=%{x}<br>Year=2008<br>Age dependency ratio (% of working-age population)=%{y}<extra></extra>",
           "ids": [
            "Uganda"
           ],
           "legendgroup": "Uganda",
           "marker": {
            "color": "#636efa",
            "pattern": {
             "shape": ""
            }
           },
           "name": "Uganda",
           "offsetgroup": "Uganda",
           "orientation": "v",
           "showlegend": true,
           "textposition": "auto",
           "type": "bar",
           "x": [
            "Uganda"
           ],
           "xaxis": "x",
           "y": [
            108.03202248474273
           ],
           "yaxis": "y"
          }
         ],
         "name": "2008"
        },
        {
         "data": [
          {
           "alignmentgroup": "True",
           "hovertemplate": "Country=%{x}<br>Year=2009<br>Age dependency ratio (% of working-age population)=%{y}<extra></extra>",
           "ids": [
            "Burundi"
           ],
           "legendgroup": "Burundi",
           "marker": {
            "color": "#636efa",
            "pattern": {
             "shape": ""
            }
           },
           "name": "Burundi",
           "offsetgroup": "Burundi",
           "orientation": "v",
           "showlegend": true,
           "textposition": "auto",
           "type": "bar",
           "x": [
            "Burundi"
           ],
           "xaxis": "x",
           "y": [
            89.28692749304793
           ],
           "yaxis": "y"
          },
          {
           "alignmentgroup": "True",
           "hovertemplate": "Country=%{x}<br>Year=2009<br>Age dependency ratio (% of working-age population)=%{y}<extra></extra>",
           "ids": [
            "Djibouti"
           ],
           "legendgroup": "Djibouti",
           "marker": {
            "color": "#EF553B",
            "pattern": {
             "shape": ""
            }
           },
           "name": "Djibouti",
           "offsetgroup": "Djibouti",
           "orientation": "v",
           "showlegend": true,
           "textposition": "auto",
           "type": "bar",
           "x": [
            "Djibouti"
           ],
           "xaxis": "x",
           "y": [
            67.12824203216809
           ],
           "yaxis": "y"
          },
          {
           "alignmentgroup": "True",
           "hovertemplate": "Country=%{x}<br>Year=2009<br>Age dependency ratio (% of working-age population)=%{y}<extra></extra>",
           "ids": [
            "Eritrea"
           ],
           "legendgroup": "Eritrea",
           "marker": {
            "color": "#00cc96",
            "pattern": {
             "shape": ""
            }
           },
           "name": "Eritrea",
           "offsetgroup": "Eritrea",
           "orientation": "v",
           "showlegend": true,
           "textposition": "auto",
           "type": "bar",
           "x": [
            "Eritrea"
           ],
           "xaxis": "x",
           "y": [
            86.11688975553467
           ],
           "yaxis": "y"
          },
          {
           "alignmentgroup": "True",
           "hovertemplate": "Country=%{x}<br>Year=2009<br>Age dependency ratio (% of working-age population)=%{y}<extra></extra>",
           "ids": [
            "Ethiopia"
           ],
           "legendgroup": "Ethiopia",
           "marker": {
            "color": "#ab63fa",
            "pattern": {
             "shape": ""
            }
           },
           "name": "Ethiopia",
           "offsetgroup": "Ethiopia",
           "orientation": "v",
           "showlegend": true,
           "textposition": "auto",
           "type": "bar",
           "x": [
            "Ethiopia"
           ],
           "xaxis": "x",
           "y": [
            93.23563344889304
           ],
           "yaxis": "y"
          },
          {
           "alignmentgroup": "True",
           "hovertemplate": "Country=%{x}<br>Year=2009<br>Age dependency ratio (% of working-age population)=%{y}<extra></extra>",
           "ids": [
            "Kenya"
           ],
           "legendgroup": "Kenya",
           "marker": {
            "color": "#FFA15A",
            "pattern": {
             "shape": ""
            }
           },
           "name": "Kenya",
           "offsetgroup": "Kenya",
           "orientation": "v",
           "showlegend": true,
           "textposition": "auto",
           "type": "bar",
           "x": [
            "Kenya"
           ],
           "xaxis": "x",
           "y": [
            83.68294171976018
           ],
           "yaxis": "y"
          },
          {
           "alignmentgroup": "True",
           "hovertemplate": "Country=%{x}<br>Year=2009<br>Age dependency ratio (% of working-age population)=%{y}<extra></extra>",
           "ids": [
            "Rwanda"
           ],
           "legendgroup": "Rwanda",
           "marker": {
            "color": "#19d3f3",
            "pattern": {
             "shape": ""
            }
           },
           "name": "Rwanda",
           "offsetgroup": "Rwanda",
           "orientation": "v",
           "showlegend": true,
           "textposition": "auto",
           "type": "bar",
           "x": [
            "Rwanda"
           ],
           "xaxis": "x",
           "y": [
            83.29895627829902
           ],
           "yaxis": "y"
          },
          {
           "alignmentgroup": "True",
           "hovertemplate": "Country=%{x}<br>Year=2009<br>Age dependency ratio (% of working-age population)=%{y}<extra></extra>",
           "ids": [
            "Somalia"
           ],
           "legendgroup": "Somalia",
           "marker": {
            "color": "#FF6692",
            "pattern": {
             "shape": ""
            }
           },
           "name": "Somalia",
           "offsetgroup": "Somalia",
           "orientation": "v",
           "showlegend": true,
           "textposition": "auto",
           "type": "bar",
           "x": [
            "Somalia"
           ],
           "xaxis": "x",
           "y": [
            103.45679462029322
           ],
           "yaxis": "y"
          },
          {
           "alignmentgroup": "True",
           "hovertemplate": "Country=%{x}<br>Year=2009<br>Age dependency ratio (% of working-age population)=%{y}<extra></extra>",
           "ids": [
            "South Sudan"
           ],
           "legendgroup": "South Sudan",
           "marker": {
            "color": "#B6E880",
            "pattern": {
             "shape": ""
            }
           },
           "name": "South Sudan",
           "offsetgroup": "South Sudan",
           "orientation": "v",
           "showlegend": true,
           "textposition": "auto",
           "type": "bar",
           "x": [
            "South Sudan"
           ],
           "xaxis": "x",
           "y": [
            85.80993938827781
           ],
           "yaxis": "y"
          },
          {
           "alignmentgroup": "True",
           "hovertemplate": "Country=%{x}<br>Year=2009<br>Age dependency ratio (% of working-age population)=%{y}<extra></extra>",
           "ids": [
            "Sudan"
           ],
           "legendgroup": "Sudan",
           "marker": {
            "color": "#FF97FF",
            "pattern": {
             "shape": ""
            }
           },
           "name": "Sudan",
           "offsetgroup": "Sudan",
           "orientation": "v",
           "showlegend": true,
           "textposition": "auto",
           "type": "bar",
           "x": [
            "Sudan"
           ],
           "xaxis": "x",
           "y": [
            80.03828172338682
           ],
           "yaxis": "y"
          },
          {
           "alignmentgroup": "True",
           "hovertemplate": "Country=%{x}<br>Year=2009<br>Age dependency ratio (% of working-age population)=%{y}<extra></extra>",
           "ids": [
            "Tanzania"
           ],
           "legendgroup": "Tanzania",
           "marker": {
            "color": "#FECB52",
            "pattern": {
             "shape": ""
            }
           },
           "name": "Tanzania",
           "offsetgroup": "Tanzania",
           "orientation": "v",
           "showlegend": true,
           "textposition": "auto",
           "type": "bar",
           "x": [
            "Tanzania"
           ],
           "xaxis": "x",
           "y": [
            91.70846312750788
           ],
           "yaxis": "y"
          },
          {
           "alignmentgroup": "True",
           "hovertemplate": "Country=%{x}<br>Year=2009<br>Age dependency ratio (% of working-age population)=%{y}<extra></extra>",
           "ids": [
            "Uganda"
           ],
           "legendgroup": "Uganda",
           "marker": {
            "color": "#636efa",
            "pattern": {
             "shape": ""
            }
           },
           "name": "Uganda",
           "offsetgroup": "Uganda",
           "orientation": "v",
           "showlegend": true,
           "textposition": "auto",
           "type": "bar",
           "x": [
            "Uganda"
           ],
           "xaxis": "x",
           "y": [
            107.08553482785985
           ],
           "yaxis": "y"
          }
         ],
         "name": "2009"
        },
        {
         "data": [
          {
           "alignmentgroup": "True",
           "hovertemplate": "Country=%{x}<br>Year=2010<br>Age dependency ratio (% of working-age population)=%{y}<extra></extra>",
           "ids": [
            "Burundi"
           ],
           "legendgroup": "Burundi",
           "marker": {
            "color": "#636efa",
            "pattern": {
             "shape": ""
            }
           },
           "name": "Burundi",
           "offsetgroup": "Burundi",
           "orientation": "v",
           "showlegend": true,
           "textposition": "auto",
           "type": "bar",
           "x": [
            "Burundi"
           ],
           "xaxis": "x",
           "y": [
            89.41632259491877
           ],
           "yaxis": "y"
          },
          {
           "alignmentgroup": "True",
           "hovertemplate": "Country=%{x}<br>Year=2010<br>Age dependency ratio (% of working-age population)=%{y}<extra></extra>",
           "ids": [
            "Djibouti"
           ],
           "legendgroup": "Djibouti",
           "marker": {
            "color": "#EF553B",
            "pattern": {
             "shape": ""
            }
           },
           "name": "Djibouti",
           "offsetgroup": "Djibouti",
           "orientation": "v",
           "showlegend": true,
           "textposition": "auto",
           "type": "bar",
           "x": [
            "Djibouti"
           ],
           "xaxis": "x",
           "y": [
            66.15733627374776
           ],
           "yaxis": "y"
          },
          {
           "alignmentgroup": "True",
           "hovertemplate": "Country=%{x}<br>Year=2010<br>Age dependency ratio (% of working-age population)=%{y}<extra></extra>",
           "ids": [
            "Eritrea"
           ],
           "legendgroup": "Eritrea",
           "marker": {
            "color": "#00cc96",
            "pattern": {
             "shape": ""
            }
           },
           "name": "Eritrea",
           "offsetgroup": "Eritrea",
           "orientation": "v",
           "showlegend": true,
           "textposition": "auto",
           "type": "bar",
           "x": [
            "Eritrea"
           ],
           "xaxis": "x",
           "y": [
            85.83987096347586
           ],
           "yaxis": "y"
          },
          {
           "alignmentgroup": "True",
           "hovertemplate": "Country=%{x}<br>Year=2010<br>Age dependency ratio (% of working-age population)=%{y}<extra></extra>",
           "ids": [
            "Ethiopia"
           ],
           "legendgroup": "Ethiopia",
           "marker": {
            "color": "#ab63fa",
            "pattern": {
             "shape": ""
            }
           },
           "name": "Ethiopia",
           "offsetgroup": "Ethiopia",
           "orientation": "v",
           "showlegend": true,
           "textposition": "auto",
           "type": "bar",
           "x": [
            "Ethiopia"
           ],
           "xaxis": "x",
           "y": [
            91.7707612191842
           ],
           "yaxis": "y"
          },
          {
           "alignmentgroup": "True",
           "hovertemplate": "Country=%{x}<br>Year=2010<br>Age dependency ratio (% of working-age population)=%{y}<extra></extra>",
           "ids": [
            "Kenya"
           ],
           "legendgroup": "Kenya",
           "marker": {
            "color": "#FFA15A",
            "pattern": {
             "shape": ""
            }
           },
           "name": "Kenya",
           "offsetgroup": "Kenya",
           "orientation": "v",
           "showlegend": true,
           "textposition": "auto",
           "type": "bar",
           "x": [
            "Kenya"
           ],
           "xaxis": "x",
           "y": [
            83.14509867927691
           ],
           "yaxis": "y"
          },
          {
           "alignmentgroup": "True",
           "hovertemplate": "Country=%{x}<br>Year=2010<br>Age dependency ratio (% of working-age population)=%{y}<extra></extra>",
           "ids": [
            "Rwanda"
           ],
           "legendgroup": "Rwanda",
           "marker": {
            "color": "#19d3f3",
            "pattern": {
             "shape": ""
            }
           },
           "name": "Rwanda",
           "offsetgroup": "Rwanda",
           "orientation": "v",
           "showlegend": true,
           "textposition": "auto",
           "type": "bar",
           "x": [
            "Rwanda"
           ],
           "xaxis": "x",
           "y": [
            82.77202038090716
           ],
           "yaxis": "y"
          },
          {
           "alignmentgroup": "True",
           "hovertemplate": "Country=%{x}<br>Year=2010<br>Age dependency ratio (% of working-age population)=%{y}<extra></extra>",
           "ids": [
            "Somalia"
           ],
           "legendgroup": "Somalia",
           "marker": {
            "color": "#FF6692",
            "pattern": {
             "shape": ""
            }
           },
           "name": "Somalia",
           "offsetgroup": "Somalia",
           "orientation": "v",
           "showlegend": true,
           "textposition": "auto",
           "type": "bar",
           "x": [
            "Somalia"
           ],
           "xaxis": "x",
           "y": [
            102.99741768676114
           ],
           "yaxis": "y"
          },
          {
           "alignmentgroup": "True",
           "hovertemplate": "Country=%{x}<br>Year=2010<br>Age dependency ratio (% of working-age population)=%{y}<extra></extra>",
           "ids": [
            "South Sudan"
           ],
           "legendgroup": "South Sudan",
           "marker": {
            "color": "#B6E880",
            "pattern": {
             "shape": ""
            }
           },
           "name": "South Sudan",
           "offsetgroup": "South Sudan",
           "orientation": "v",
           "showlegend": true,
           "textposition": "auto",
           "type": "bar",
           "x": [
            "South Sudan"
           ],
           "xaxis": "x",
           "y": [
            83.49543538430473
           ],
           "yaxis": "y"
          },
          {
           "alignmentgroup": "True",
           "hovertemplate": "Country=%{x}<br>Year=2010<br>Age dependency ratio (% of working-age population)=%{y}<extra></extra>",
           "ids": [
            "Sudan"
           ],
           "legendgroup": "Sudan",
           "marker": {
            "color": "#FF97FF",
            "pattern": {
             "shape": ""
            }
           },
           "name": "Sudan",
           "offsetgroup": "Sudan",
           "orientation": "v",
           "showlegend": true,
           "textposition": "auto",
           "type": "bar",
           "x": [
            "Sudan"
           ],
           "xaxis": "x",
           "y": [
            80.23172481991216
           ],
           "yaxis": "y"
          },
          {
           "alignmentgroup": "True",
           "hovertemplate": "Country=%{x}<br>Year=2010<br>Age dependency ratio (% of working-age population)=%{y}<extra></extra>",
           "ids": [
            "Tanzania"
           ],
           "legendgroup": "Tanzania",
           "marker": {
            "color": "#FECB52",
            "pattern": {
             "shape": ""
            }
           },
           "name": "Tanzania",
           "offsetgroup": "Tanzania",
           "orientation": "v",
           "showlegend": true,
           "textposition": "auto",
           "type": "bar",
           "x": [
            "Tanzania"
           ],
           "xaxis": "x",
           "y": [
            92.12364850088022
           ],
           "yaxis": "y"
          },
          {
           "alignmentgroup": "True",
           "hovertemplate": "Country=%{x}<br>Year=2010<br>Age dependency ratio (% of working-age population)=%{y}<extra></extra>",
           "ids": [
            "Uganda"
           ],
           "legendgroup": "Uganda",
           "marker": {
            "color": "#636efa",
            "pattern": {
             "shape": ""
            }
           },
           "name": "Uganda",
           "offsetgroup": "Uganda",
           "orientation": "v",
           "showlegend": true,
           "textposition": "auto",
           "type": "bar",
           "x": [
            "Uganda"
           ],
           "xaxis": "x",
           "y": [
            106.09739117202166
           ],
           "yaxis": "y"
          }
         ],
         "name": "2010"
        },
        {
         "data": [
          {
           "alignmentgroup": "True",
           "hovertemplate": "Country=%{x}<br>Year=2011<br>Age dependency ratio (% of working-age population)=%{y}<extra></extra>",
           "ids": [
            "Burundi"
           ],
           "legendgroup": "Burundi",
           "marker": {
            "color": "#636efa",
            "pattern": {
             "shape": ""
            }
           },
           "name": "Burundi",
           "offsetgroup": "Burundi",
           "orientation": "v",
           "showlegend": true,
           "textposition": "auto",
           "type": "bar",
           "x": [
            "Burundi"
           ],
           "xaxis": "x",
           "y": [
            90.40386456698305
           ],
           "yaxis": "y"
          },
          {
           "alignmentgroup": "True",
           "hovertemplate": "Country=%{x}<br>Year=2011<br>Age dependency ratio (% of working-age population)=%{y}<extra></extra>",
           "ids": [
            "Djibouti"
           ],
           "legendgroup": "Djibouti",
           "marker": {
            "color": "#EF553B",
            "pattern": {
             "shape": ""
            }
           },
           "name": "Djibouti",
           "offsetgroup": "Djibouti",
           "orientation": "v",
           "showlegend": true,
           "textposition": "auto",
           "type": "bar",
           "x": [
            "Djibouti"
           ],
           "xaxis": "x",
           "y": [
            65.2221071920508
           ],
           "yaxis": "y"
          },
          {
           "alignmentgroup": "True",
           "hovertemplate": "Country=%{x}<br>Year=2011<br>Age dependency ratio (% of working-age population)=%{y}<extra></extra>",
           "ids": [
            "Eritrea"
           ],
           "legendgroup": "Eritrea",
           "marker": {
            "color": "#00cc96",
            "pattern": {
             "shape": ""
            }
           },
           "name": "Eritrea",
           "offsetgroup": "Eritrea",
           "orientation": "v",
           "showlegend": true,
           "textposition": "auto",
           "type": "bar",
           "x": [
            "Eritrea"
           ],
           "xaxis": "x",
           "y": [
            85.26116191842567
           ],
           "yaxis": "y"
          },
          {
           "alignmentgroup": "True",
           "hovertemplate": "Country=%{x}<br>Year=2011<br>Age dependency ratio (% of working-age population)=%{y}<extra></extra>",
           "ids": [
            "Ethiopia"
           ],
           "legendgroup": "Ethiopia",
           "marker": {
            "color": "#ab63fa",
            "pattern": {
             "shape": ""
            }
           },
           "name": "Ethiopia",
           "offsetgroup": "Ethiopia",
           "orientation": "v",
           "showlegend": true,
           "textposition": "auto",
           "type": "bar",
           "x": [
            "Ethiopia"
           ],
           "xaxis": "x",
           "y": [
            90.17284413030768
           ],
           "yaxis": "y"
          },
          {
           "alignmentgroup": "True",
           "hovertemplate": "Country=%{x}<br>Year=2011<br>Age dependency ratio (% of working-age population)=%{y}<extra></extra>",
           "ids": [
            "Kenya"
           ],
           "legendgroup": "Kenya",
           "marker": {
            "color": "#FFA15A",
            "pattern": {
             "shape": ""
            }
           },
           "name": "Kenya",
           "offsetgroup": "Kenya",
           "orientation": "v",
           "showlegend": true,
           "textposition": "auto",
           "type": "bar",
           "x": [
            "Kenya"
           ],
           "xaxis": "x",
           "y": [
            82.53963292939557
           ],
           "yaxis": "y"
          },
          {
           "alignmentgroup": "True",
           "hovertemplate": "Country=%{x}<br>Year=2011<br>Age dependency ratio (% of working-age population)=%{y}<extra></extra>",
           "ids": [
            "Rwanda"
           ],
           "legendgroup": "Rwanda",
           "marker": {
            "color": "#19d3f3",
            "pattern": {
             "shape": ""
            }
           },
           "name": "Rwanda",
           "offsetgroup": "Rwanda",
           "orientation": "v",
           "showlegend": true,
           "textposition": "auto",
           "type": "bar",
           "x": [
            "Rwanda"
           ],
           "xaxis": "x",
           "y": [
            82.16251368983126
           ],
           "yaxis": "y"
          },
          {
           "alignmentgroup": "True",
           "hovertemplate": "Country=%{x}<br>Year=2011<br>Age dependency ratio (% of working-age population)=%{y}<extra></extra>",
           "ids": [
            "Somalia"
           ],
           "legendgroup": "Somalia",
           "marker": {
            "color": "#FF6692",
            "pattern": {
             "shape": ""
            }
           },
           "name": "Somalia",
           "offsetgroup": "Somalia",
           "orientation": "v",
           "showlegend": true,
           "textposition": "auto",
           "type": "bar",
           "x": [
            "Somalia"
           ],
           "xaxis": "x",
           "y": [
            102.52312668581575
           ],
           "yaxis": "y"
          },
          {
           "alignmentgroup": "True",
           "hovertemplate": "Country=%{x}<br>Year=2011<br>Age dependency ratio (% of working-age population)=%{y}<extra></extra>",
           "ids": [
            "South Sudan"
           ],
           "legendgroup": "South Sudan",
           "marker": {
            "color": "#B6E880",
            "pattern": {
             "shape": ""
            }
           },
           "name": "South Sudan",
           "offsetgroup": "South Sudan",
           "orientation": "v",
           "showlegend": true,
           "textposition": "auto",
           "type": "bar",
           "x": [
            "South Sudan"
           ],
           "xaxis": "x",
           "y": [
            81.35108109007703
           ],
           "yaxis": "y"
          },
          {
           "alignmentgroup": "True",
           "hovertemplate": "Country=%{x}<br>Year=2011<br>Age dependency ratio (% of working-age population)=%{y}<extra></extra>",
           "ids": [
            "Sudan"
           ],
           "legendgroup": "Sudan",
           "marker": {
            "color": "#FF97FF",
            "pattern": {
             "shape": ""
            }
           },
           "name": "Sudan",
           "offsetgroup": "Sudan",
           "orientation": "v",
           "showlegend": true,
           "textposition": "auto",
           "type": "bar",
           "x": [
            "Sudan"
           ],
           "xaxis": "x",
           "y": [
            80.88089115449672
           ],
           "yaxis": "y"
          },
          {
           "alignmentgroup": "True",
           "hovertemplate": "Country=%{x}<br>Year=2011<br>Age dependency ratio (% of working-age population)=%{y}<extra></extra>",
           "ids": [
            "Tanzania"
           ],
           "legendgroup": "Tanzania",
           "marker": {
            "color": "#FECB52",
            "pattern": {
             "shape": ""
            }
           },
           "name": "Tanzania",
           "offsetgroup": "Tanzania",
           "orientation": "v",
           "showlegend": true,
           "textposition": "auto",
           "type": "bar",
           "x": [
            "Tanzania"
           ],
           "xaxis": "x",
           "y": [
            92.34434305329948
           ],
           "yaxis": "y"
          },
          {
           "alignmentgroup": "True",
           "hovertemplate": "Country=%{x}<br>Year=2011<br>Age dependency ratio (% of working-age population)=%{y}<extra></extra>",
           "ids": [
            "Uganda"
           ],
           "legendgroup": "Uganda",
           "marker": {
            "color": "#636efa",
            "pattern": {
             "shape": ""
            }
           },
           "name": "Uganda",
           "offsetgroup": "Uganda",
           "orientation": "v",
           "showlegend": true,
           "textposition": "auto",
           "type": "bar",
           "x": [
            "Uganda"
           ],
           "xaxis": "x",
           "y": [
            105.11636144772775
           ],
           "yaxis": "y"
          }
         ],
         "name": "2011"
        },
        {
         "data": [
          {
           "alignmentgroup": "True",
           "hovertemplate": "Country=%{x}<br>Year=2012<br>Age dependency ratio (% of working-age population)=%{y}<extra></extra>",
           "ids": [
            "Burundi"
           ],
           "legendgroup": "Burundi",
           "marker": {
            "color": "#636efa",
            "pattern": {
             "shape": ""
            }
           },
           "name": "Burundi",
           "offsetgroup": "Burundi",
           "orientation": "v",
           "showlegend": true,
           "textposition": "auto",
           "type": "bar",
           "x": [
            "Burundi"
           ],
           "xaxis": "x",
           "y": [
            91.53057808707948
           ],
           "yaxis": "y"
          },
          {
           "alignmentgroup": "True",
           "hovertemplate": "Country=%{x}<br>Year=2012<br>Age dependency ratio (% of working-age population)=%{y}<extra></extra>",
           "ids": [
            "Djibouti"
           ],
           "legendgroup": "Djibouti",
           "marker": {
            "color": "#EF553B",
            "pattern": {
             "shape": ""
            }
           },
           "name": "Djibouti",
           "offsetgroup": "Djibouti",
           "orientation": "v",
           "showlegend": true,
           "textposition": "auto",
           "type": "bar",
           "x": [
            "Djibouti"
           ],
           "xaxis": "x",
           "y": [
            64.33874242494691
           ],
           "yaxis": "y"
          },
          {
           "alignmentgroup": "True",
           "hovertemplate": "Country=%{x}<br>Year=2012<br>Age dependency ratio (% of working-age population)=%{y}<extra></extra>",
           "ids": [
            "Eritrea"
           ],
           "legendgroup": "Eritrea",
           "marker": {
            "color": "#00cc96",
            "pattern": {
             "shape": ""
            }
           },
           "name": "Eritrea",
           "offsetgroup": "Eritrea",
           "orientation": "v",
           "showlegend": true,
           "textposition": "auto",
           "type": "bar",
           "x": [
            "Eritrea"
           ],
           "xaxis": "x",
           "y": [
            84.8660421476452
           ],
           "yaxis": "y"
          },
          {
           "alignmentgroup": "True",
           "hovertemplate": "Country=%{x}<br>Year=2012<br>Age dependency ratio (% of working-age population)=%{y}<extra></extra>",
           "ids": [
            "Ethiopia"
           ],
           "legendgroup": "Ethiopia",
           "marker": {
            "color": "#ab63fa",
            "pattern": {
             "shape": ""
            }
           },
           "name": "Ethiopia",
           "offsetgroup": "Ethiopia",
           "orientation": "v",
           "showlegend": true,
           "textposition": "auto",
           "type": "bar",
           "x": [
            "Ethiopia"
           ],
           "xaxis": "x",
           "y": [
            88.4834050644814
           ],
           "yaxis": "y"
          },
          {
           "alignmentgroup": "True",
           "hovertemplate": "Country=%{x}<br>Year=2012<br>Age dependency ratio (% of working-age population)=%{y}<extra></extra>",
           "ids": [
            "Kenya"
           ],
           "legendgroup": "Kenya",
           "marker": {
            "color": "#FFA15A",
            "pattern": {
             "shape": ""
            }
           },
           "name": "Kenya",
           "offsetgroup": "Kenya",
           "orientation": "v",
           "showlegend": true,
           "textposition": "auto",
           "type": "bar",
           "x": [
            "Kenya"
           ],
           "xaxis": "x",
           "y": [
            81.81869062518113
           ],
           "yaxis": "y"
          },
          {
           "alignmentgroup": "True",
           "hovertemplate": "Country=%{x}<br>Year=2012<br>Age dependency ratio (% of working-age population)=%{y}<extra></extra>",
           "ids": [
            "Rwanda"
           ],
           "legendgroup": "Rwanda",
           "marker": {
            "color": "#19d3f3",
            "pattern": {
             "shape": ""
            }
           },
           "name": "Rwanda",
           "offsetgroup": "Rwanda",
           "orientation": "v",
           "showlegend": true,
           "textposition": "auto",
           "type": "bar",
           "x": [
            "Rwanda"
           ],
           "xaxis": "x",
           "y": [
            81.46335306491198
           ],
           "yaxis": "y"
          },
          {
           "alignmentgroup": "True",
           "hovertemplate": "Country=%{x}<br>Year=2012<br>Age dependency ratio (% of working-age population)=%{y}<extra></extra>",
           "ids": [
            "Somalia"
           ],
           "legendgroup": "Somalia",
           "marker": {
            "color": "#FF6692",
            "pattern": {
             "shape": ""
            }
           },
           "name": "Somalia",
           "offsetgroup": "Somalia",
           "orientation": "v",
           "showlegend": true,
           "textposition": "auto",
           "type": "bar",
           "x": [
            "Somalia"
           ],
           "xaxis": "x",
           "y": [
            102.1112599828405
           ],
           "yaxis": "y"
          },
          {
           "alignmentgroup": "True",
           "hovertemplate": "Country=%{x}<br>Year=2012<br>Age dependency ratio (% of working-age population)=%{y}<extra></extra>",
           "ids": [
            "South Sudan"
           ],
           "legendgroup": "South Sudan",
           "marker": {
            "color": "#B6E880",
            "pattern": {
             "shape": ""
            }
           },
           "name": "South Sudan",
           "offsetgroup": "South Sudan",
           "orientation": "v",
           "showlegend": true,
           "textposition": "auto",
           "type": "bar",
           "x": [
            "South Sudan"
           ],
           "xaxis": "x",
           "y": [
            80.48468563855614
           ],
           "yaxis": "y"
          },
          {
           "alignmentgroup": "True",
           "hovertemplate": "Country=%{x}<br>Year=2012<br>Age dependency ratio (% of working-age population)=%{y}<extra></extra>",
           "ids": [
            "Sudan"
           ],
           "legendgroup": "Sudan",
           "marker": {
            "color": "#FF97FF",
            "pattern": {
             "shape": ""
            }
           },
           "name": "Sudan",
           "offsetgroup": "Sudan",
           "orientation": "v",
           "showlegend": true,
           "textposition": "auto",
           "type": "bar",
           "x": [
            "Sudan"
           ],
           "xaxis": "x",
           "y": [
            81.35687726781256
           ],
           "yaxis": "y"
          },
          {
           "alignmentgroup": "True",
           "hovertemplate": "Country=%{x}<br>Year=2012<br>Age dependency ratio (% of working-age population)=%{y}<extra></extra>",
           "ids": [
            "Tanzania"
           ],
           "legendgroup": "Tanzania",
           "marker": {
            "color": "#FECB52",
            "pattern": {
             "shape": ""
            }
           },
           "name": "Tanzania",
           "offsetgroup": "Tanzania",
           "orientation": "v",
           "showlegend": true,
           "textposition": "auto",
           "type": "bar",
           "x": [
            "Tanzania"
           ],
           "xaxis": "x",
           "y": [
            92.3669476159646
           ],
           "yaxis": "y"
          },
          {
           "alignmentgroup": "True",
           "hovertemplate": "Country=%{x}<br>Year=2012<br>Age dependency ratio (% of working-age population)=%{y}<extra></extra>",
           "ids": [
            "Uganda"
           ],
           "legendgroup": "Uganda",
           "marker": {
            "color": "#636efa",
            "pattern": {
             "shape": ""
            }
           },
           "name": "Uganda",
           "offsetgroup": "Uganda",
           "orientation": "v",
           "showlegend": true,
           "textposition": "auto",
           "type": "bar",
           "x": [
            "Uganda"
           ],
           "xaxis": "x",
           "y": [
            104.13655142805614
           ],
           "yaxis": "y"
          }
         ],
         "name": "2012"
        },
        {
         "data": [
          {
           "alignmentgroup": "True",
           "hovertemplate": "Country=%{x}<br>Year=2013<br>Age dependency ratio (% of working-age population)=%{y}<extra></extra>",
           "ids": [
            "Burundi"
           ],
           "legendgroup": "Burundi",
           "marker": {
            "color": "#636efa",
            "pattern": {
             "shape": ""
            }
           },
           "name": "Burundi",
           "offsetgroup": "Burundi",
           "orientation": "v",
           "showlegend": true,
           "textposition": "auto",
           "type": "bar",
           "x": [
            "Burundi"
           ],
           "xaxis": "x",
           "y": [
            92.72357483521448
           ],
           "yaxis": "y"
          },
          {
           "alignmentgroup": "True",
           "hovertemplate": "Country=%{x}<br>Year=2013<br>Age dependency ratio (% of working-age population)=%{y}<extra></extra>",
           "ids": [
            "Djibouti"
           ],
           "legendgroup": "Djibouti",
           "marker": {
            "color": "#EF553B",
            "pattern": {
             "shape": ""
            }
           },
           "name": "Djibouti",
           "offsetgroup": "Djibouti",
           "orientation": "v",
           "showlegend": true,
           "textposition": "auto",
           "type": "bar",
           "x": [
            "Djibouti"
           ],
           "xaxis": "x",
           "y": [
            63.45076060848679
           ],
           "yaxis": "y"
          },
          {
           "alignmentgroup": "True",
           "hovertemplate": "Country=%{x}<br>Year=2013<br>Age dependency ratio (% of working-age population)=%{y}<extra></extra>",
           "ids": [
            "Eritrea"
           ],
           "legendgroup": "Eritrea",
           "marker": {
            "color": "#00cc96",
            "pattern": {
             "shape": ""
            }
           },
           "name": "Eritrea",
           "offsetgroup": "Eritrea",
           "orientation": "v",
           "showlegend": true,
           "textposition": "auto",
           "type": "bar",
           "x": [
            "Eritrea"
           ],
           "xaxis": "x",
           "y": [
            84.58702424170137
           ],
           "yaxis": "y"
          },
          {
           "alignmentgroup": "True",
           "hovertemplate": "Country=%{x}<br>Year=2013<br>Age dependency ratio (% of working-age population)=%{y}<extra></extra>",
           "ids": [
            "Ethiopia"
           ],
           "legendgroup": "Ethiopia",
           "marker": {
            "color": "#ab63fa",
            "pattern": {
             "shape": ""
            }
           },
           "name": "Ethiopia",
           "offsetgroup": "Ethiopia",
           "orientation": "v",
           "showlegend": true,
           "textposition": "auto",
           "type": "bar",
           "x": [
            "Ethiopia"
           ],
           "xaxis": "x",
           "y": [
            86.76790078184091
           ],
           "yaxis": "y"
          },
          {
           "alignmentgroup": "True",
           "hovertemplate": "Country=%{x}<br>Year=2013<br>Age dependency ratio (% of working-age population)=%{y}<extra></extra>",
           "ids": [
            "Kenya"
           ],
           "legendgroup": "Kenya",
           "marker": {
            "color": "#FFA15A",
            "pattern": {
             "shape": ""
            }
           },
           "name": "Kenya",
           "offsetgroup": "Kenya",
           "orientation": "v",
           "showlegend": true,
           "textposition": "auto",
           "type": "bar",
           "x": [
            "Kenya"
           ],
           "xaxis": "x",
           "y": [
            80.94236702519693
           ],
           "yaxis": "y"
          },
          {
           "alignmentgroup": "True",
           "hovertemplate": "Country=%{x}<br>Year=2013<br>Age dependency ratio (% of working-age population)=%{y}<extra></extra>",
           "ids": [
            "Rwanda"
           ],
           "legendgroup": "Rwanda",
           "marker": {
            "color": "#19d3f3",
            "pattern": {
             "shape": ""
            }
           },
           "name": "Rwanda",
           "offsetgroup": "Rwanda",
           "orientation": "v",
           "showlegend": true,
           "textposition": "auto",
           "type": "bar",
           "x": [
            "Rwanda"
           ],
           "xaxis": "x",
           "y": [
            80.68705132808353
           ],
           "yaxis": "y"
          },
          {
           "alignmentgroup": "True",
           "hovertemplate": "Country=%{x}<br>Year=2013<br>Age dependency ratio (% of working-age population)=%{y}<extra></extra>",
           "ids": [
            "Somalia"
           ],
           "legendgroup": "Somalia",
           "marker": {
            "color": "#FF6692",
            "pattern": {
             "shape": ""
            }
           },
           "name": "Somalia",
           "offsetgroup": "Somalia",
           "orientation": "v",
           "showlegend": true,
           "textposition": "auto",
           "type": "bar",
           "x": [
            "Somalia"
           ],
           "xaxis": "x",
           "y": [
            101.76112022479847
           ],
           "yaxis": "y"
          },
          {
           "alignmentgroup": "True",
           "hovertemplate": "Country=%{x}<br>Year=2013<br>Age dependency ratio (% of working-age population)=%{y}<extra></extra>",
           "ids": [
            "South Sudan"
           ],
           "legendgroup": "South Sudan",
           "marker": {
            "color": "#B6E880",
            "pattern": {
             "shape": ""
            }
           },
           "name": "South Sudan",
           "offsetgroup": "South Sudan",
           "orientation": "v",
           "showlegend": true,
           "textposition": "auto",
           "type": "bar",
           "x": [
            "South Sudan"
           ],
           "xaxis": "x",
           "y": [
            80.33252471324838
           ],
           "yaxis": "y"
          },
          {
           "alignmentgroup": "True",
           "hovertemplate": "Country=%{x}<br>Year=2013<br>Age dependency ratio (% of working-age population)=%{y}<extra></extra>",
           "ids": [
            "Sudan"
           ],
           "legendgroup": "Sudan",
           "marker": {
            "color": "#FF97FF",
            "pattern": {
             "shape": ""
            }
           },
           "name": "Sudan",
           "offsetgroup": "Sudan",
           "orientation": "v",
           "showlegend": true,
           "textposition": "auto",
           "type": "bar",
           "x": [
            "Sudan"
           ],
           "xaxis": "x",
           "y": [
            81.63023955646551
           ],
           "yaxis": "y"
          },
          {
           "alignmentgroup": "True",
           "hovertemplate": "Country=%{x}<br>Year=2013<br>Age dependency ratio (% of working-age population)=%{y}<extra></extra>",
           "ids": [
            "Tanzania"
           ],
           "legendgroup": "Tanzania",
           "marker": {
            "color": "#FECB52",
            "pattern": {
             "shape": ""
            }
           },
           "name": "Tanzania",
           "offsetgroup": "Tanzania",
           "orientation": "v",
           "showlegend": true,
           "textposition": "auto",
           "type": "bar",
           "x": [
            "Tanzania"
           ],
           "xaxis": "x",
           "y": [
            92.3071994490074
           ],
           "yaxis": "y"
          },
          {
           "alignmentgroup": "True",
           "hovertemplate": "Country=%{x}<br>Year=2013<br>Age dependency ratio (% of working-age population)=%{y}<extra></extra>",
           "ids": [
            "Uganda"
           ],
           "legendgroup": "Uganda",
           "marker": {
            "color": "#636efa",
            "pattern": {
             "shape": ""
            }
           },
           "name": "Uganda",
           "offsetgroup": "Uganda",
           "orientation": "v",
           "showlegend": true,
           "textposition": "auto",
           "type": "bar",
           "x": [
            "Uganda"
           ],
           "xaxis": "x",
           "y": [
            103.11019078103196
           ],
           "yaxis": "y"
          }
         ],
         "name": "2013"
        },
        {
         "data": [
          {
           "alignmentgroup": "True",
           "hovertemplate": "Country=%{x}<br>Year=2014<br>Age dependency ratio (% of working-age population)=%{y}<extra></extra>",
           "ids": [
            "Burundi"
           ],
           "legendgroup": "Burundi",
           "marker": {
            "color": "#636efa",
            "pattern": {
             "shape": ""
            }
           },
           "name": "Burundi",
           "offsetgroup": "Burundi",
           "orientation": "v",
           "showlegend": true,
           "textposition": "auto",
           "type": "bar",
           "x": [
            "Burundi"
           ],
           "xaxis": "x",
           "y": [
            93.91423950073742
           ],
           "yaxis": "y"
          },
          {
           "alignmentgroup": "True",
           "hovertemplate": "Country=%{x}<br>Year=2014<br>Age dependency ratio (% of working-age population)=%{y}<extra></extra>",
           "ids": [
            "Djibouti"
           ],
           "legendgroup": "Djibouti",
           "marker": {
            "color": "#EF553B",
            "pattern": {
             "shape": ""
            }
           },
           "name": "Djibouti",
           "offsetgroup": "Djibouti",
           "orientation": "v",
           "showlegend": true,
           "textposition": "auto",
           "type": "bar",
           "x": [
            "Djibouti"
           ],
           "xaxis": "x",
           "y": [
            62.46741492564772
           ],
           "yaxis": "y"
          },
          {
           "alignmentgroup": "True",
           "hovertemplate": "Country=%{x}<br>Year=2014<br>Age dependency ratio (% of working-age population)=%{y}<extra></extra>",
           "ids": [
            "Eritrea"
           ],
           "legendgroup": "Eritrea",
           "marker": {
            "color": "#00cc96",
            "pattern": {
             "shape": ""
            }
           },
           "name": "Eritrea",
           "offsetgroup": "Eritrea",
           "orientation": "v",
           "showlegend": true,
           "textposition": "auto",
           "type": "bar",
           "x": [
            "Eritrea"
           ],
           "xaxis": "x",
           "y": [
            84.9133722104483
           ],
           "yaxis": "y"
          },
          {
           "alignmentgroup": "True",
           "hovertemplate": "Country=%{x}<br>Year=2014<br>Age dependency ratio (% of working-age population)=%{y}<extra></extra>",
           "ids": [
            "Ethiopia"
           ],
           "legendgroup": "Ethiopia",
           "marker": {
            "color": "#ab63fa",
            "pattern": {
             "shape": ""
            }
           },
           "name": "Ethiopia",
           "offsetgroup": "Ethiopia",
           "orientation": "v",
           "showlegend": true,
           "textposition": "auto",
           "type": "bar",
           "x": [
            "Ethiopia"
           ],
           "xaxis": "x",
           "y": [
            85.05217314046543
           ],
           "yaxis": "y"
          },
          {
           "alignmentgroup": "True",
           "hovertemplate": "Country=%{x}<br>Year=2014<br>Age dependency ratio (% of working-age population)=%{y}<extra></extra>",
           "ids": [
            "Kenya"
           ],
           "legendgroup": "Kenya",
           "marker": {
            "color": "#FFA15A",
            "pattern": {
             "shape": ""
            }
           },
           "name": "Kenya",
           "offsetgroup": "Kenya",
           "orientation": "v",
           "showlegend": true,
           "textposition": "auto",
           "type": "bar",
           "x": [
            "Kenya"
           ],
           "xaxis": "x",
           "y": [
            79.93587664823278
           ],
           "yaxis": "y"
          },
          {
           "alignmentgroup": "True",
           "hovertemplate": "Country=%{x}<br>Year=2014<br>Age dependency ratio (% of working-age population)=%{y}<extra></extra>",
           "ids": [
            "Rwanda"
           ],
           "legendgroup": "Rwanda",
           "marker": {
            "color": "#19d3f3",
            "pattern": {
             "shape": ""
            }
           },
           "name": "Rwanda",
           "offsetgroup": "Rwanda",
           "orientation": "v",
           "showlegend": true,
           "textposition": "auto",
           "type": "bar",
           "x": [
            "Rwanda"
           ],
           "xaxis": "x",
           "y": [
            79.90151699652317
           ],
           "yaxis": "y"
          },
          {
           "alignmentgroup": "True",
           "hovertemplate": "Country=%{x}<br>Year=2014<br>Age dependency ratio (% of working-age population)=%{y}<extra></extra>",
           "ids": [
            "Somalia"
           ],
           "legendgroup": "Somalia",
           "marker": {
            "color": "#FF6692",
            "pattern": {
             "shape": ""
            }
           },
           "name": "Somalia",
           "offsetgroup": "Somalia",
           "orientation": "v",
           "showlegend": true,
           "textposition": "auto",
           "type": "bar",
           "x": [
            "Somalia"
           ],
           "xaxis": "x",
           "y": [
            101.45401854240322
           ],
           "yaxis": "y"
          },
          {
           "alignmentgroup": "True",
           "hovertemplate": "Country=%{x}<br>Year=2014<br>Age dependency ratio (% of working-age population)=%{y}<extra></extra>",
           "ids": [
            "South Sudan"
           ],
           "legendgroup": "South Sudan",
           "marker": {
            "color": "#B6E880",
            "pattern": {
             "shape": ""
            }
           },
           "name": "South Sudan",
           "offsetgroup": "South Sudan",
           "orientation": "v",
           "showlegend": true,
           "textposition": "auto",
           "type": "bar",
           "x": [
            "South Sudan"
           ],
           "xaxis": "x",
           "y": [
            82.62748909767726
           ],
           "yaxis": "y"
          },
          {
           "alignmentgroup": "True",
           "hovertemplate": "Country=%{x}<br>Year=2014<br>Age dependency ratio (% of working-age population)=%{y}<extra></extra>",
           "ids": [
            "Sudan"
           ],
           "legendgroup": "Sudan",
           "marker": {
            "color": "#FF97FF",
            "pattern": {
             "shape": ""
            }
           },
           "name": "Sudan",
           "offsetgroup": "Sudan",
           "orientation": "v",
           "showlegend": true,
           "textposition": "auto",
           "type": "bar",
           "x": [
            "Sudan"
           ],
           "xaxis": "x",
           "y": [
            81.47876825761526
           ],
           "yaxis": "y"
          },
          {
           "alignmentgroup": "True",
           "hovertemplate": "Country=%{x}<br>Year=2014<br>Age dependency ratio (% of working-age population)=%{y}<extra></extra>",
           "ids": [
            "Tanzania"
           ],
           "legendgroup": "Tanzania",
           "marker": {
            "color": "#FECB52",
            "pattern": {
             "shape": ""
            }
           },
           "name": "Tanzania",
           "offsetgroup": "Tanzania",
           "orientation": "v",
           "showlegend": true,
           "textposition": "auto",
           "type": "bar",
           "x": [
            "Tanzania"
           ],
           "xaxis": "x",
           "y": [
            92.18256532685828
           ],
           "yaxis": "y"
          },
          {
           "alignmentgroup": "True",
           "hovertemplate": "Country=%{x}<br>Year=2014<br>Age dependency ratio (% of working-age population)=%{y}<extra></extra>",
           "ids": [
            "Uganda"
           ],
           "legendgroup": "Uganda",
           "marker": {
            "color": "#636efa",
            "pattern": {
             "shape": ""
            }
           },
           "name": "Uganda",
           "offsetgroup": "Uganda",
           "orientation": "v",
           "showlegend": true,
           "textposition": "auto",
           "type": "bar",
           "x": [
            "Uganda"
           ],
           "xaxis": "x",
           "y": [
            101.83371228435648
           ],
           "yaxis": "y"
          }
         ],
         "name": "2014"
        },
        {
         "data": [
          {
           "alignmentgroup": "True",
           "hovertemplate": "Country=%{x}<br>Year=2015<br>Age dependency ratio (% of working-age population)=%{y}<extra></extra>",
           "ids": [
            "Burundi"
           ],
           "legendgroup": "Burundi",
           "marker": {
            "color": "#636efa",
            "pattern": {
             "shape": ""
            }
           },
           "name": "Burundi",
           "offsetgroup": "Burundi",
           "orientation": "v",
           "showlegend": true,
           "textposition": "auto",
           "type": "bar",
           "x": [
            "Burundi"
           ],
           "xaxis": "x",
           "y": [
            96.3765750688462
           ],
           "yaxis": "y"
          },
          {
           "alignmentgroup": "True",
           "hovertemplate": "Country=%{x}<br>Year=2015<br>Age dependency ratio (% of working-age population)=%{y}<extra></extra>",
           "ids": [
            "Djibouti"
           ],
           "legendgroup": "Djibouti",
           "marker": {
            "color": "#EF553B",
            "pattern": {
             "shape": ""
            }
           },
           "name": "Djibouti",
           "offsetgroup": "Djibouti",
           "orientation": "v",
           "showlegend": true,
           "textposition": "auto",
           "type": "bar",
           "x": [
            "Djibouti"
           ],
           "xaxis": "x",
           "y": [
            61.36392792769678
           ],
           "yaxis": "y"
          },
          {
           "alignmentgroup": "True",
           "hovertemplate": "Country=%{x}<br>Year=2015<br>Age dependency ratio (% of working-age population)=%{y}<extra></extra>",
           "ids": [
            "Eritrea"
           ],
           "legendgroup": "Eritrea",
           "marker": {
            "color": "#00cc96",
            "pattern": {
             "shape": ""
            }
           },
           "name": "Eritrea",
           "offsetgroup": "Eritrea",
           "orientation": "v",
           "showlegend": true,
           "textposition": "auto",
           "type": "bar",
           "x": [
            "Eritrea"
           ],
           "xaxis": "x",
           "y": [
            85.41029435765459
           ],
           "yaxis": "y"
          },
          {
           "alignmentgroup": "True",
           "hovertemplate": "Country=%{x}<br>Year=2015<br>Age dependency ratio (% of working-age population)=%{y}<extra></extra>",
           "ids": [
            "Ethiopia"
           ],
           "legendgroup": "Ethiopia",
           "marker": {
            "color": "#ab63fa",
            "pattern": {
             "shape": ""
            }
           },
           "name": "Ethiopia",
           "offsetgroup": "Ethiopia",
           "orientation": "v",
           "showlegend": true,
           "textposition": "auto",
           "type": "bar",
           "x": [
            "Ethiopia"
           ],
           "xaxis": "x",
           "y": [
            83.4193397269313
           ],
           "yaxis": "y"
          },
          {
           "alignmentgroup": "True",
           "hovertemplate": "Country=%{x}<br>Year=2015<br>Age dependency ratio (% of working-age population)=%{y}<extra></extra>",
           "ids": [
            "Kenya"
           ],
           "legendgroup": "Kenya",
           "marker": {
            "color": "#FFA15A",
            "pattern": {
             "shape": ""
            }
           },
           "name": "Kenya",
           "offsetgroup": "Kenya",
           "orientation": "v",
           "showlegend": true,
           "textposition": "auto",
           "type": "bar",
           "x": [
            "Kenya"
           ],
           "xaxis": "x",
           "y": [
            78.79916114753894
           ],
           "yaxis": "y"
          },
          {
           "alignmentgroup": "True",
           "hovertemplate": "Country=%{x}<br>Year=2015<br>Age dependency ratio (% of working-age population)=%{y}<extra></extra>",
           "ids": [
            "Rwanda"
           ],
           "legendgroup": "Rwanda",
           "marker": {
            "color": "#19d3f3",
            "pattern": {
             "shape": ""
            }
           },
           "name": "Rwanda",
           "offsetgroup": "Rwanda",
           "orientation": "v",
           "showlegend": true,
           "textposition": "auto",
           "type": "bar",
           "x": [
            "Rwanda"
           ],
           "xaxis": "x",
           "y": [
            79.05337448258426
           ],
           "yaxis": "y"
          },
          {
           "alignmentgroup": "True",
           "hovertemplate": "Country=%{x}<br>Year=2015<br>Age dependency ratio (% of working-age population)=%{y}<extra></extra>",
           "ids": [
            "Somalia"
           ],
           "legendgroup": "Somalia",
           "marker": {
            "color": "#FF6692",
            "pattern": {
             "shape": ""
            }
           },
           "name": "Somalia",
           "offsetgroup": "Somalia",
           "orientation": "v",
           "showlegend": true,
           "textposition": "auto",
           "type": "bar",
           "x": [
            "Somalia"
           ],
           "xaxis": "x",
           "y": [
            101.23737560926114
           ],
           "yaxis": "y"
          },
          {
           "alignmentgroup": "True",
           "hovertemplate": "Country=%{x}<br>Year=2015<br>Age dependency ratio (% of working-age population)=%{y}<extra></extra>",
           "ids": [
            "South Sudan"
           ],
           "legendgroup": "South Sudan",
           "marker": {
            "color": "#B6E880",
            "pattern": {
             "shape": ""
            }
           },
           "name": "South Sudan",
           "offsetgroup": "South Sudan",
           "orientation": "v",
           "showlegend": true,
           "textposition": "auto",
           "type": "bar",
           "x": [
            "South Sudan"
           ],
           "xaxis": "x",
           "y": [
            85.42682478378492
           ],
           "yaxis": "y"
          },
          {
           "alignmentgroup": "True",
           "hovertemplate": "Country=%{x}<br>Year=2015<br>Age dependency ratio (% of working-age population)=%{y}<extra></extra>",
           "ids": [
            "Sudan"
           ],
           "legendgroup": "Sudan",
           "marker": {
            "color": "#FF97FF",
            "pattern": {
             "shape": ""
            }
           },
           "name": "Sudan",
           "offsetgroup": "Sudan",
           "orientation": "v",
           "showlegend": true,
           "textposition": "auto",
           "type": "bar",
           "x": [
            "Sudan"
           ],
           "xaxis": "x",
           "y": [
            81.07214935785883
           ],
           "yaxis": "y"
          },
          {
           "alignmentgroup": "True",
           "hovertemplate": "Country=%{x}<br>Year=2015<br>Age dependency ratio (% of working-age population)=%{y}<extra></extra>",
           "ids": [
            "Tanzania"
           ],
           "legendgroup": "Tanzania",
           "marker": {
            "color": "#FECB52",
            "pattern": {
             "shape": ""
            }
           },
           "name": "Tanzania",
           "offsetgroup": "Tanzania",
           "orientation": "v",
           "showlegend": true,
           "textposition": "auto",
           "type": "bar",
           "x": [
            "Tanzania"
           ],
           "xaxis": "x",
           "y": [
            91.99780153500096
           ],
           "yaxis": "y"
          },
          {
           "alignmentgroup": "True",
           "hovertemplate": "Country=%{x}<br>Year=2015<br>Age dependency ratio (% of working-age population)=%{y}<extra></extra>",
           "ids": [
            "Uganda"
           ],
           "legendgroup": "Uganda",
           "marker": {
            "color": "#636efa",
            "pattern": {
             "shape": ""
            }
           },
           "name": "Uganda",
           "offsetgroup": "Uganda",
           "orientation": "v",
           "showlegend": true,
           "textposition": "auto",
           "type": "bar",
           "x": [
            "Uganda"
           ],
           "xaxis": "x",
           "y": [
            100.22208696245886
           ],
           "yaxis": "y"
          }
         ],
         "name": "2015"
        },
        {
         "data": [
          {
           "alignmentgroup": "True",
           "hovertemplate": "Country=%{x}<br>Year=2016<br>Age dependency ratio (% of working-age population)=%{y}<extra></extra>",
           "ids": [
            "Burundi"
           ],
           "legendgroup": "Burundi",
           "marker": {
            "color": "#636efa",
            "pattern": {
             "shape": ""
            }
           },
           "name": "Burundi",
           "offsetgroup": "Burundi",
           "orientation": "v",
           "showlegend": true,
           "textposition": "auto",
           "type": "bar",
           "x": [
            "Burundi"
           ],
           "xaxis": "x",
           "y": [
            99.20837910835584
           ],
           "yaxis": "y"
          },
          {
           "alignmentgroup": "True",
           "hovertemplate": "Country=%{x}<br>Year=2016<br>Age dependency ratio (% of working-age population)=%{y}<extra></extra>",
           "ids": [
            "Djibouti"
           ],
           "legendgroup": "Djibouti",
           "marker": {
            "color": "#EF553B",
            "pattern": {
             "shape": ""
            }
           },
           "name": "Djibouti",
           "offsetgroup": "Djibouti",
           "orientation": "v",
           "showlegend": true,
           "textposition": "auto",
           "type": "bar",
           "x": [
            "Djibouti"
           ],
           "xaxis": "x",
           "y": [
            60.14702222862161
           ],
           "yaxis": "y"
          },
          {
           "alignmentgroup": "True",
           "hovertemplate": "Country=%{x}<br>Year=2016<br>Age dependency ratio (% of working-age population)=%{y}<extra></extra>",
           "ids": [
            "Eritrea"
           ],
           "legendgroup": "Eritrea",
           "marker": {
            "color": "#00cc96",
            "pattern": {
             "shape": ""
            }
           },
           "name": "Eritrea",
           "offsetgroup": "Eritrea",
           "orientation": "v",
           "showlegend": true,
           "textposition": "auto",
           "type": "bar",
           "x": [
            "Eritrea"
           ],
           "xaxis": "x",
           "y": [
            85.34694374360085
           ],
           "yaxis": "y"
          },
          {
           "alignmentgroup": "True",
           "hovertemplate": "Country=%{x}<br>Year=2016<br>Age dependency ratio (% of working-age population)=%{y}<extra></extra>",
           "ids": [
            "Ethiopia"
           ],
           "legendgroup": "Ethiopia",
           "marker": {
            "color": "#ab63fa",
            "pattern": {
             "shape": ""
            }
           },
           "name": "Ethiopia",
           "offsetgroup": "Ethiopia",
           "orientation": "v",
           "showlegend": true,
           "textposition": "auto",
           "type": "bar",
           "x": [
            "Ethiopia"
           ],
           "xaxis": "x",
           "y": [
            81.86909163793307
           ],
           "yaxis": "y"
          },
          {
           "alignmentgroup": "True",
           "hovertemplate": "Country=%{x}<br>Year=2016<br>Age dependency ratio (% of working-age population)=%{y}<extra></extra>",
           "ids": [
            "Kenya"
           ],
           "legendgroup": "Kenya",
           "marker": {
            "color": "#FFA15A",
            "pattern": {
             "shape": ""
            }
           },
           "name": "Kenya",
           "offsetgroup": "Kenya",
           "orientation": "v",
           "showlegend": true,
           "textposition": "auto",
           "type": "bar",
           "x": [
            "Kenya"
           ],
           "xaxis": "x",
           "y": [
            77.51572124825007
           ],
           "yaxis": "y"
          },
          {
           "alignmentgroup": "True",
           "hovertemplate": "Country=%{x}<br>Year=2016<br>Age dependency ratio (% of working-age population)=%{y}<extra></extra>",
           "ids": [
            "Rwanda"
           ],
           "legendgroup": "Rwanda",
           "marker": {
            "color": "#19d3f3",
            "pattern": {
             "shape": ""
            }
           },
           "name": "Rwanda",
           "offsetgroup": "Rwanda",
           "orientation": "v",
           "showlegend": true,
           "textposition": "auto",
           "type": "bar",
           "x": [
            "Rwanda"
           ],
           "xaxis": "x",
           "y": [
            78.04412744133754
           ],
           "yaxis": "y"
          },
          {
           "alignmentgroup": "True",
           "hovertemplate": "Country=%{x}<br>Year=2016<br>Age dependency ratio (% of working-age population)=%{y}<extra></extra>",
           "ids": [
            "Somalia"
           ],
           "legendgroup": "Somalia",
           "marker": {
            "color": "#FF6692",
            "pattern": {
             "shape": ""
            }
           },
           "name": "Somalia",
           "offsetgroup": "Somalia",
           "orientation": "v",
           "showlegend": true,
           "textposition": "auto",
           "type": "bar",
           "x": [
            "Somalia"
           ],
           "xaxis": "x",
           "y": [
            101.07001680970647
           ],
           "yaxis": "y"
          },
          {
           "alignmentgroup": "True",
           "hovertemplate": "Country=%{x}<br>Year=2016<br>Age dependency ratio (% of working-age population)=%{y}<extra></extra>",
           "ids": [
            "South Sudan"
           ],
           "legendgroup": "South Sudan",
           "marker": {
            "color": "#B6E880",
            "pattern": {
             "shape": ""
            }
           },
           "name": "South Sudan",
           "offsetgroup": "South Sudan",
           "orientation": "v",
           "showlegend": true,
           "textposition": "auto",
           "type": "bar",
           "x": [
            "South Sudan"
           ],
           "xaxis": "x",
           "y": [
            88.73644993960696
           ],
           "yaxis": "y"
          },
          {
           "alignmentgroup": "True",
           "hovertemplate": "Country=%{x}<br>Year=2016<br>Age dependency ratio (% of working-age population)=%{y}<extra></extra>",
           "ids": [
            "Sudan"
           ],
           "legendgroup": "Sudan",
           "marker": {
            "color": "#FF97FF",
            "pattern": {
             "shape": ""
            }
           },
           "name": "Sudan",
           "offsetgroup": "Sudan",
           "orientation": "v",
           "showlegend": true,
           "textposition": "auto",
           "type": "bar",
           "x": [
            "Sudan"
           ],
           "xaxis": "x",
           "y": [
            80.74215086407888
           ],
           "yaxis": "y"
          },
          {
           "alignmentgroup": "True",
           "hovertemplate": "Country=%{x}<br>Year=2016<br>Age dependency ratio (% of working-age population)=%{y}<extra></extra>",
           "ids": [
            "Tanzania"
           ],
           "legendgroup": "Tanzania",
           "marker": {
            "color": "#FECB52",
            "pattern": {
             "shape": ""
            }
           },
           "name": "Tanzania",
           "offsetgroup": "Tanzania",
           "orientation": "v",
           "showlegend": true,
           "textposition": "auto",
           "type": "bar",
           "x": [
            "Tanzania"
           ],
           "xaxis": "x",
           "y": [
            91.65873839952567
           ],
           "yaxis": "y"
          },
          {
           "alignmentgroup": "True",
           "hovertemplate": "Country=%{x}<br>Year=2016<br>Age dependency ratio (% of working-age population)=%{y}<extra></extra>",
           "ids": [
            "Uganda"
           ],
           "legendgroup": "Uganda",
           "marker": {
            "color": "#636efa",
            "pattern": {
             "shape": ""
            }
           },
           "name": "Uganda",
           "offsetgroup": "Uganda",
           "orientation": "v",
           "showlegend": true,
           "textposition": "auto",
           "type": "bar",
           "x": [
            "Uganda"
           ],
           "xaxis": "x",
           "y": [
            98.13256842111936
           ],
           "yaxis": "y"
          }
         ],
         "name": "2016"
        },
        {
         "data": [
          {
           "alignmentgroup": "True",
           "hovertemplate": "Country=%{x}<br>Year=2017<br>Age dependency ratio (% of working-age population)=%{y}<extra></extra>",
           "ids": [
            "Burundi"
           ],
           "legendgroup": "Burundi",
           "marker": {
            "color": "#636efa",
            "pattern": {
             "shape": ""
            }
           },
           "name": "Burundi",
           "offsetgroup": "Burundi",
           "orientation": "v",
           "showlegend": true,
           "textposition": "auto",
           "type": "bar",
           "x": [
            "Burundi"
           ],
           "xaxis": "x",
           "y": [
            100.3234634453804
           ],
           "yaxis": "y"
          },
          {
           "alignmentgroup": "True",
           "hovertemplate": "Country=%{x}<br>Year=2017<br>Age dependency ratio (% of working-age population)=%{y}<extra></extra>",
           "ids": [
            "Djibouti"
           ],
           "legendgroup": "Djibouti",
           "marker": {
            "color": "#EF553B",
            "pattern": {
             "shape": ""
            }
           },
           "name": "Djibouti",
           "offsetgroup": "Djibouti",
           "orientation": "v",
           "showlegend": true,
           "textposition": "auto",
           "type": "bar",
           "x": [
            "Djibouti"
           ],
           "xaxis": "x",
           "y": [
            58.86237366409999
           ],
           "yaxis": "y"
          },
          {
           "alignmentgroup": "True",
           "hovertemplate": "Country=%{x}<br>Year=2017<br>Age dependency ratio (% of working-age population)=%{y}<extra></extra>",
           "ids": [
            "Eritrea"
           ],
           "legendgroup": "Eritrea",
           "marker": {
            "color": "#00cc96",
            "pattern": {
             "shape": ""
            }
           },
           "name": "Eritrea",
           "offsetgroup": "Eritrea",
           "orientation": "v",
           "showlegend": true,
           "textposition": "auto",
           "type": "bar",
           "x": [
            "Eritrea"
           ],
           "xaxis": "x",
           "y": [
            84.81681175190424
           ],
           "yaxis": "y"
          },
          {
           "alignmentgroup": "True",
           "hovertemplate": "Country=%{x}<br>Year=2017<br>Age dependency ratio (% of working-age population)=%{y}<extra></extra>",
           "ids": [
            "Ethiopia"
           ],
           "legendgroup": "Ethiopia",
           "marker": {
            "color": "#ab63fa",
            "pattern": {
             "shape": ""
            }
           },
           "name": "Ethiopia",
           "offsetgroup": "Ethiopia",
           "orientation": "v",
           "showlegend": true,
           "textposition": "auto",
           "type": "bar",
           "x": [
            "Ethiopia"
           ],
           "xaxis": "x",
           "y": [
            80.37209968838046
           ],
           "yaxis": "y"
          },
          {
           "alignmentgroup": "True",
           "hovertemplate": "Country=%{x}<br>Year=2017<br>Age dependency ratio (% of working-age population)=%{y}<extra></extra>",
           "ids": [
            "Kenya"
           ],
           "legendgroup": "Kenya",
           "marker": {
            "color": "#FFA15A",
            "pattern": {
             "shape": ""
            }
           },
           "name": "Kenya",
           "offsetgroup": "Kenya",
           "orientation": "v",
           "showlegend": true,
           "textposition": "auto",
           "type": "bar",
           "x": [
            "Kenya"
           ],
           "xaxis": "x",
           "y": [
            76.14604549484025
           ],
           "yaxis": "y"
          },
          {
           "alignmentgroup": "True",
           "hovertemplate": "Country=%{x}<br>Year=2017<br>Age dependency ratio (% of working-age population)=%{y}<extra></extra>",
           "ids": [
            "Rwanda"
           ],
           "legendgroup": "Rwanda",
           "marker": {
            "color": "#19d3f3",
            "pattern": {
             "shape": ""
            }
           },
           "name": "Rwanda",
           "offsetgroup": "Rwanda",
           "orientation": "v",
           "showlegend": true,
           "textposition": "auto",
           "type": "bar",
           "x": [
            "Rwanda"
           ],
           "xaxis": "x",
           "y": [
            76.96191864810051
           ],
           "yaxis": "y"
          },
          {
           "alignmentgroup": "True",
           "hovertemplate": "Country=%{x}<br>Year=2017<br>Age dependency ratio (% of working-age population)=%{y}<extra></extra>",
           "ids": [
            "Somalia"
           ],
           "legendgroup": "Somalia",
           "marker": {
            "color": "#FF6692",
            "pattern": {
             "shape": ""
            }
           },
           "name": "Somalia",
           "offsetgroup": "Somalia",
           "orientation": "v",
           "showlegend": true,
           "textposition": "auto",
           "type": "bar",
           "x": [
            "Somalia"
           ],
           "xaxis": "x",
           "y": [
            100.83635526912602
           ],
           "yaxis": "y"
          },
          {
           "alignmentgroup": "True",
           "hovertemplate": "Country=%{x}<br>Year=2017<br>Age dependency ratio (% of working-age population)=%{y}<extra></extra>",
           "ids": [
            "South Sudan"
           ],
           "legendgroup": "South Sudan",
           "marker": {
            "color": "#B6E880",
            "pattern": {
             "shape": ""
            }
           },
           "name": "South Sudan",
           "offsetgroup": "South Sudan",
           "orientation": "v",
           "showlegend": true,
           "textposition": "auto",
           "type": "bar",
           "x": [
            "South Sudan"
           ],
           "xaxis": "x",
           "y": [
            94.69753653835194
           ],
           "yaxis": "y"
          },
          {
           "alignmentgroup": "True",
           "hovertemplate": "Country=%{x}<br>Year=2017<br>Age dependency ratio (% of working-age population)=%{y}<extra></extra>",
           "ids": [
            "Sudan"
           ],
           "legendgroup": "Sudan",
           "marker": {
            "color": "#FF97FF",
            "pattern": {
             "shape": ""
            }
           },
           "name": "Sudan",
           "offsetgroup": "Sudan",
           "orientation": "v",
           "showlegend": true,
           "textposition": "auto",
           "type": "bar",
           "x": [
            "Sudan"
           ],
           "xaxis": "x",
           "y": [
            80.3057232016279
           ],
           "yaxis": "y"
          },
          {
           "alignmentgroup": "True",
           "hovertemplate": "Country=%{x}<br>Year=2017<br>Age dependency ratio (% of working-age population)=%{y}<extra></extra>",
           "ids": [
            "Tanzania"
           ],
           "legendgroup": "Tanzania",
           "marker": {
            "color": "#FECB52",
            "pattern": {
             "shape": ""
            }
           },
           "name": "Tanzania",
           "offsetgroup": "Tanzania",
           "orientation": "v",
           "showlegend": true,
           "textposition": "auto",
           "type": "bar",
           "x": [
            "Tanzania"
           ],
           "xaxis": "x",
           "y": [
            91.1353754837998
           ],
           "yaxis": "y"
          },
          {
           "alignmentgroup": "True",
           "hovertemplate": "Country=%{x}<br>Year=2017<br>Age dependency ratio (% of working-age population)=%{y}<extra></extra>",
           "ids": [
            "Uganda"
           ],
           "legendgroup": "Uganda",
           "marker": {
            "color": "#636efa",
            "pattern": {
             "shape": ""
            }
           },
           "name": "Uganda",
           "offsetgroup": "Uganda",
           "orientation": "v",
           "showlegend": true,
           "textposition": "auto",
           "type": "bar",
           "x": [
            "Uganda"
           ],
           "xaxis": "x",
           "y": [
            95.81191673041305
           ],
           "yaxis": "y"
          }
         ],
         "name": "2017"
        },
        {
         "data": [
          {
           "alignmentgroup": "True",
           "hovertemplate": "Country=%{x}<br>Year=2018<br>Age dependency ratio (% of working-age population)=%{y}<extra></extra>",
           "ids": [
            "Burundi"
           ],
           "legendgroup": "Burundi",
           "marker": {
            "color": "#636efa",
            "pattern": {
             "shape": ""
            }
           },
           "name": "Burundi",
           "offsetgroup": "Burundi",
           "orientation": "v",
           "showlegend": true,
           "textposition": "auto",
           "type": "bar",
           "x": [
            "Burundi"
           ],
           "xaxis": "x",
           "y": [
            99.72481403747298
           ],
           "yaxis": "y"
          },
          {
           "alignmentgroup": "True",
           "hovertemplate": "Country=%{x}<br>Year=2018<br>Age dependency ratio (% of working-age population)=%{y}<extra></extra>",
           "ids": [
            "Djibouti"
           ],
           "legendgroup": "Djibouti",
           "marker": {
            "color": "#EF553B",
            "pattern": {
             "shape": ""
            }
           },
           "name": "Djibouti",
           "offsetgroup": "Djibouti",
           "orientation": "v",
           "showlegend": true,
           "textposition": "auto",
           "type": "bar",
           "x": [
            "Djibouti"
           ],
           "xaxis": "x",
           "y": [
            57.59378568298158
           ],
           "yaxis": "y"
          },
          {
           "alignmentgroup": "True",
           "hovertemplate": "Country=%{x}<br>Year=2018<br>Age dependency ratio (% of working-age population)=%{y}<extra></extra>",
           "ids": [
            "Eritrea"
           ],
           "legendgroup": "Eritrea",
           "marker": {
            "color": "#00cc96",
            "pattern": {
             "shape": ""
            }
           },
           "name": "Eritrea",
           "offsetgroup": "Eritrea",
           "orientation": "v",
           "showlegend": true,
           "textposition": "auto",
           "type": "bar",
           "x": [
            "Eritrea"
           ],
           "xaxis": "x",
           "y": [
            83.48675496865086
           ],
           "yaxis": "y"
          },
          {
           "alignmentgroup": "True",
           "hovertemplate": "Country=%{x}<br>Year=2018<br>Age dependency ratio (% of working-age population)=%{y}<extra></extra>",
           "ids": [
            "Ethiopia"
           ],
           "legendgroup": "Ethiopia",
           "marker": {
            "color": "#ab63fa",
            "pattern": {
             "shape": ""
            }
           },
           "name": "Ethiopia",
           "offsetgroup": "Ethiopia",
           "orientation": "v",
           "showlegend": true,
           "textposition": "auto",
           "type": "bar",
           "x": [
            "Ethiopia"
           ],
           "xaxis": "x",
           "y": [
            79.04556037346777
           ],
           "yaxis": "y"
          },
          {
           "alignmentgroup": "True",
           "hovertemplate": "Country=%{x}<br>Year=2018<br>Age dependency ratio (% of working-age population)=%{y}<extra></extra>",
           "ids": [
            "Kenya"
           ],
           "legendgroup": "Kenya",
           "marker": {
            "color": "#FFA15A",
            "pattern": {
             "shape": ""
            }
           },
           "name": "Kenya",
           "offsetgroup": "Kenya",
           "orientation": "v",
           "showlegend": true,
           "textposition": "auto",
           "type": "bar",
           "x": [
            "Kenya"
           ],
           "xaxis": "x",
           "y": [
            74.74789517051154
           ],
           "yaxis": "y"
          },
          {
           "alignmentgroup": "True",
           "hovertemplate": "Country=%{x}<br>Year=2018<br>Age dependency ratio (% of working-age population)=%{y}<extra></extra>",
           "ids": [
            "Rwanda"
           ],
           "legendgroup": "Rwanda",
           "marker": {
            "color": "#19d3f3",
            "pattern": {
             "shape": ""
            }
           },
           "name": "Rwanda",
           "offsetgroup": "Rwanda",
           "orientation": "v",
           "showlegend": true,
           "textposition": "auto",
           "type": "bar",
           "x": [
            "Rwanda"
           ],
           "xaxis": "x",
           "y": [
            75.92825970284066
           ],
           "yaxis": "y"
          },
          {
           "alignmentgroup": "True",
           "hovertemplate": "Country=%{x}<br>Year=2018<br>Age dependency ratio (% of working-age population)=%{y}<extra></extra>",
           "ids": [
            "Somalia"
           ],
           "legendgroup": "Somalia",
           "marker": {
            "color": "#FF6692",
            "pattern": {
             "shape": ""
            }
           },
           "name": "Somalia",
           "offsetgroup": "Somalia",
           "orientation": "v",
           "showlegend": true,
           "textposition": "auto",
           "type": "bar",
           "x": [
            "Somalia"
           ],
           "xaxis": "x",
           "y": [
            100.5319640353692
           ],
           "yaxis": "y"
          },
          {
           "alignmentgroup": "True",
           "hovertemplate": "Country=%{x}<br>Year=2018<br>Age dependency ratio (% of working-age population)=%{y}<extra></extra>",
           "ids": [
            "South Sudan"
           ],
           "legendgroup": "South Sudan",
           "marker": {
            "color": "#B6E880",
            "pattern": {
             "shape": ""
            }
           },
           "name": "South Sudan",
           "offsetgroup": "South Sudan",
           "orientation": "v",
           "showlegend": true,
           "textposition": "auto",
           "type": "bar",
           "x": [
            "South Sudan"
           ],
           "xaxis": "x",
           "y": [
            98.14003932178966
           ],
           "yaxis": "y"
          },
          {
           "alignmentgroup": "True",
           "hovertemplate": "Country=%{x}<br>Year=2018<br>Age dependency ratio (% of working-age population)=%{y}<extra></extra>",
           "ids": [
            "Sudan"
           ],
           "legendgroup": "Sudan",
           "marker": {
            "color": "#FF97FF",
            "pattern": {
             "shape": ""
            }
           },
           "name": "Sudan",
           "offsetgroup": "Sudan",
           "orientation": "v",
           "showlegend": true,
           "textposition": "auto",
           "type": "bar",
           "x": [
            "Sudan"
           ],
           "xaxis": "x",
           "y": [
            80.01178503556791
           ],
           "yaxis": "y"
          },
          {
           "alignmentgroup": "True",
           "hovertemplate": "Country=%{x}<br>Year=2018<br>Age dependency ratio (% of working-age population)=%{y}<extra></extra>",
           "ids": [
            "Tanzania"
           ],
           "legendgroup": "Tanzania",
           "marker": {
            "color": "#FECB52",
            "pattern": {
             "shape": ""
            }
           },
           "name": "Tanzania",
           "offsetgroup": "Tanzania",
           "orientation": "v",
           "showlegend": true,
           "textposition": "auto",
           "type": "bar",
           "x": [
            "Tanzania"
           ],
           "xaxis": "x",
           "y": [
            90.45860501236398
           ],
           "yaxis": "y"
          },
          {
           "alignmentgroup": "True",
           "hovertemplate": "Country=%{x}<br>Year=2018<br>Age dependency ratio (% of working-age population)=%{y}<extra></extra>",
           "ids": [
            "Uganda"
           ],
           "legendgroup": "Uganda",
           "marker": {
            "color": "#636efa",
            "pattern": {
             "shape": ""
            }
           },
           "name": "Uganda",
           "offsetgroup": "Uganda",
           "orientation": "v",
           "showlegend": true,
           "textposition": "auto",
           "type": "bar",
           "x": [
            "Uganda"
           ],
           "xaxis": "x",
           "y": [
            93.73292224297792
           ],
           "yaxis": "y"
          }
         ],
         "name": "2018"
        },
        {
         "data": [
          {
           "alignmentgroup": "True",
           "hovertemplate": "Country=%{x}<br>Year=2019<br>Age dependency ratio (% of working-age population)=%{y}<extra></extra>",
           "ids": [
            "Burundi"
           ],
           "legendgroup": "Burundi",
           "marker": {
            "color": "#636efa",
            "pattern": {
             "shape": ""
            }
           },
           "name": "Burundi",
           "offsetgroup": "Burundi",
           "orientation": "v",
           "showlegend": true,
           "textposition": "auto",
           "type": "bar",
           "x": [
            "Burundi"
           ],
           "xaxis": "x",
           "y": [
            98.21220997193778
           ],
           "yaxis": "y"
          },
          {
           "alignmentgroup": "True",
           "hovertemplate": "Country=%{x}<br>Year=2019<br>Age dependency ratio (% of working-age population)=%{y}<extra></extra>",
           "ids": [
            "Djibouti"
           ],
           "legendgroup": "Djibouti",
           "marker": {
            "color": "#EF553B",
            "pattern": {
             "shape": ""
            }
           },
           "name": "Djibouti",
           "offsetgroup": "Djibouti",
           "orientation": "v",
           "showlegend": true,
           "textposition": "auto",
           "type": "bar",
           "x": [
            "Djibouti"
           ],
           "xaxis": "x",
           "y": [
            56.43225024615618
           ],
           "yaxis": "y"
          },
          {
           "alignmentgroup": "True",
           "hovertemplate": "Country=%{x}<br>Year=2019<br>Age dependency ratio (% of working-age population)=%{y}<extra></extra>",
           "ids": [
            "Eritrea"
           ],
           "legendgroup": "Eritrea",
           "marker": {
            "color": "#00cc96",
            "pattern": {
             "shape": ""
            }
           },
           "name": "Eritrea",
           "offsetgroup": "Eritrea",
           "orientation": "v",
           "showlegend": true,
           "textposition": "auto",
           "type": "bar",
           "x": [
            "Eritrea"
           ],
           "xaxis": "x",
           "y": [
            81.82048250685305
           ],
           "yaxis": "y"
          },
          {
           "alignmentgroup": "True",
           "hovertemplate": "Country=%{x}<br>Year=2019<br>Age dependency ratio (% of working-age population)=%{y}<extra></extra>",
           "ids": [
            "Ethiopia"
           ],
           "legendgroup": "Ethiopia",
           "marker": {
            "color": "#ab63fa",
            "pattern": {
             "shape": ""
            }
           },
           "name": "Ethiopia",
           "offsetgroup": "Ethiopia",
           "orientation": "v",
           "showlegend": true,
           "textposition": "auto",
           "type": "bar",
           "x": [
            "Ethiopia"
           ],
           "xaxis": "x",
           "y": [
            77.90293933036261
           ],
           "yaxis": "y"
          },
          {
           "alignmentgroup": "True",
           "hovertemplate": "Country=%{x}<br>Year=2019<br>Age dependency ratio (% of working-age population)=%{y}<extra></extra>",
           "ids": [
            "Kenya"
           ],
           "legendgroup": "Kenya",
           "marker": {
            "color": "#FFA15A",
            "pattern": {
             "shape": ""
            }
           },
           "name": "Kenya",
           "offsetgroup": "Kenya",
           "orientation": "v",
           "showlegend": true,
           "textposition": "auto",
           "type": "bar",
           "x": [
            "Kenya"
           ],
           "xaxis": "x",
           "y": [
            73.28759487268333
           ],
           "yaxis": "y"
          },
          {
           "alignmentgroup": "True",
           "hovertemplate": "Country=%{x}<br>Year=2019<br>Age dependency ratio (% of working-age population)=%{y}<extra></extra>",
           "ids": [
            "Rwanda"
           ],
           "legendgroup": "Rwanda",
           "marker": {
            "color": "#19d3f3",
            "pattern": {
             "shape": ""
            }
           },
           "name": "Rwanda",
           "offsetgroup": "Rwanda",
           "orientation": "v",
           "showlegend": true,
           "textposition": "auto",
           "type": "bar",
           "x": [
            "Rwanda"
           ],
           "xaxis": "x",
           "y": [
            74.8599965068948
           ],
           "yaxis": "y"
          },
          {
           "alignmentgroup": "True",
           "hovertemplate": "Country=%{x}<br>Year=2019<br>Age dependency ratio (% of working-age population)=%{y}<extra></extra>",
           "ids": [
            "Somalia"
           ],
           "legendgroup": "Somalia",
           "marker": {
            "color": "#FF6692",
            "pattern": {
             "shape": ""
            }
           },
           "name": "Somalia",
           "offsetgroup": "Somalia",
           "orientation": "v",
           "showlegend": true,
           "textposition": "auto",
           "type": "bar",
           "x": [
            "Somalia"
           ],
           "xaxis": "x",
           "y": [
            100.20148803498807
           ],
           "yaxis": "y"
          },
          {
           "alignmentgroup": "True",
           "hovertemplate": "Country=%{x}<br>Year=2019<br>Age dependency ratio (% of working-age population)=%{y}<extra></extra>",
           "ids": [
            "South Sudan"
           ],
           "legendgroup": "South Sudan",
           "marker": {
            "color": "#B6E880",
            "pattern": {
             "shape": ""
            }
           },
           "name": "South Sudan",
           "offsetgroup": "South Sudan",
           "orientation": "v",
           "showlegend": true,
           "textposition": "auto",
           "type": "bar",
           "x": [
            "South Sudan"
           ],
           "xaxis": "x",
           "y": [
            96.5433747734308
           ],
           "yaxis": "y"
          },
          {
           "alignmentgroup": "True",
           "hovertemplate": "Country=%{x}<br>Year=2019<br>Age dependency ratio (% of working-age population)=%{y}<extra></extra>",
           "ids": [
            "Sudan"
           ],
           "legendgroup": "Sudan",
           "marker": {
            "color": "#FF97FF",
            "pattern": {
             "shape": ""
            }
           },
           "name": "Sudan",
           "offsetgroup": "Sudan",
           "orientation": "v",
           "showlegend": true,
           "textposition": "auto",
           "type": "bar",
           "x": [
            "Sudan"
           ],
           "xaxis": "x",
           "y": [
            80.07460384151386
           ],
           "yaxis": "y"
          },
          {
           "alignmentgroup": "True",
           "hovertemplate": "Country=%{x}<br>Year=2019<br>Age dependency ratio (% of working-age population)=%{y}<extra></extra>",
           "ids": [
            "Tanzania"
           ],
           "legendgroup": "Tanzania",
           "marker": {
            "color": "#FECB52",
            "pattern": {
             "shape": ""
            }
           },
           "name": "Tanzania",
           "offsetgroup": "Tanzania",
           "orientation": "v",
           "showlegend": true,
           "textposition": "auto",
           "type": "bar",
           "x": [
            "Tanzania"
           ],
           "xaxis": "x",
           "y": [
            89.63348754630096
           ],
           "yaxis": "y"
          },
          {
           "alignmentgroup": "True",
           "hovertemplate": "Country=%{x}<br>Year=2019<br>Age dependency ratio (% of working-age population)=%{y}<extra></extra>",
           "ids": [
            "Uganda"
           ],
           "legendgroup": "Uganda",
           "marker": {
            "color": "#636efa",
            "pattern": {
             "shape": ""
            }
           },
           "name": "Uganda",
           "offsetgroup": "Uganda",
           "orientation": "v",
           "showlegend": true,
           "textposition": "auto",
           "type": "bar",
           "x": [
            "Uganda"
           ],
           "xaxis": "x",
           "y": [
            91.74020399720156
           ],
           "yaxis": "y"
          }
         ],
         "name": "2019"
        },
        {
         "data": [
          {
           "alignmentgroup": "True",
           "hovertemplate": "Country=%{x}<br>Year=2020<br>Age dependency ratio (% of working-age population)=%{y}<extra></extra>",
           "ids": [
            "Burundi"
           ],
           "legendgroup": "Burundi",
           "marker": {
            "color": "#636efa",
            "pattern": {
             "shape": ""
            }
           },
           "name": "Burundi",
           "offsetgroup": "Burundi",
           "orientation": "v",
           "showlegend": true,
           "textposition": "auto",
           "type": "bar",
           "x": [
            "Burundi"
           ],
           "xaxis": "x",
           "y": [
            96.80002976102286
           ],
           "yaxis": "y"
          },
          {
           "alignmentgroup": "True",
           "hovertemplate": "Country=%{x}<br>Year=2020<br>Age dependency ratio (% of working-age population)=%{y}<extra></extra>",
           "ids": [
            "Djibouti"
           ],
           "legendgroup": "Djibouti",
           "marker": {
            "color": "#EF553B",
            "pattern": {
             "shape": ""
            }
           },
           "name": "Djibouti",
           "offsetgroup": "Djibouti",
           "orientation": "v",
           "showlegend": true,
           "textposition": "auto",
           "type": "bar",
           "x": [
            "Djibouti"
           ],
           "xaxis": "x",
           "y": [
            55.39683919883797
           ],
           "yaxis": "y"
          },
          {
           "alignmentgroup": "True",
           "hovertemplate": "Country=%{x}<br>Year=2020<br>Age dependency ratio (% of working-age population)=%{y}<extra></extra>",
           "ids": [
            "Eritrea"
           ],
           "legendgroup": "Eritrea",
           "marker": {
            "color": "#00cc96",
            "pattern": {
             "shape": ""
            }
           },
           "name": "Eritrea",
           "offsetgroup": "Eritrea",
           "orientation": "v",
           "showlegend": true,
           "textposition": "auto",
           "type": "bar",
           "x": [
            "Eritrea"
           ],
           "xaxis": "x",
           "y": [
            79.92579050618403
           ],
           "yaxis": "y"
          },
          {
           "alignmentgroup": "True",
           "hovertemplate": "Country=%{x}<br>Year=2020<br>Age dependency ratio (% of working-age population)=%{y}<extra></extra>",
           "ids": [
            "Ethiopia"
           ],
           "legendgroup": "Ethiopia",
           "marker": {
            "color": "#ab63fa",
            "pattern": {
             "shape": ""
            }
           },
           "name": "Ethiopia",
           "offsetgroup": "Ethiopia",
           "orientation": "v",
           "showlegend": true,
           "textposition": "auto",
           "type": "bar",
           "x": [
            "Ethiopia"
           ],
           "xaxis": "x",
           "y": [
            76.81367339191108
           ],
           "yaxis": "y"
          },
          {
           "alignmentgroup": "True",
           "hovertemplate": "Country=%{x}<br>Year=2020<br>Age dependency ratio (% of working-age population)=%{y}<extra></extra>",
           "ids": [
            "Kenya"
           ],
           "legendgroup": "Kenya",
           "marker": {
            "color": "#FFA15A",
            "pattern": {
             "shape": ""
            }
           },
           "name": "Kenya",
           "offsetgroup": "Kenya",
           "orientation": "v",
           "showlegend": true,
           "textposition": "auto",
           "type": "bar",
           "x": [
            "Kenya"
           ],
           "xaxis": "x",
           "y": [
            71.75075400206944
           ],
           "yaxis": "y"
          },
          {
           "alignmentgroup": "True",
           "hovertemplate": "Country=%{x}<br>Year=2020<br>Age dependency ratio (% of working-age population)=%{y}<extra></extra>",
           "ids": [
            "Rwanda"
           ],
           "legendgroup": "Rwanda",
           "marker": {
            "color": "#19d3f3",
            "pattern": {
             "shape": ""
            }
           },
           "name": "Rwanda",
           "offsetgroup": "Rwanda",
           "orientation": "v",
           "showlegend": true,
           "textposition": "auto",
           "type": "bar",
           "x": [
            "Rwanda"
           ],
           "xaxis": "x",
           "y": [
            73.69847325016754
           ],
           "yaxis": "y"
          },
          {
           "alignmentgroup": "True",
           "hovertemplate": "Country=%{x}<br>Year=2020<br>Age dependency ratio (% of working-age population)=%{y}<extra></extra>",
           "ids": [
            "Somalia"
           ],
           "legendgroup": "Somalia",
           "marker": {
            "color": "#FF6692",
            "pattern": {
             "shape": ""
            }
           },
           "name": "Somalia",
           "offsetgroup": "Somalia",
           "orientation": "v",
           "showlegend": true,
           "textposition": "auto",
           "type": "bar",
           "x": [
            "Somalia"
           ],
           "xaxis": "x",
           "y": [
            99.82237491266768
           ],
           "yaxis": "y"
          },
          {
           "alignmentgroup": "True",
           "hovertemplate": "Country=%{x}<br>Year=2020<br>Age dependency ratio (% of working-age population)=%{y}<extra></extra>",
           "ids": [
            "South Sudan"
           ],
           "legendgroup": "South Sudan",
           "marker": {
            "color": "#B6E880",
            "pattern": {
             "shape": ""
            }
           },
           "name": "South Sudan",
           "offsetgroup": "South Sudan",
           "orientation": "v",
           "showlegend": true,
           "textposition": "auto",
           "type": "bar",
           "x": [
            "South Sudan"
           ],
           "xaxis": "x",
           "y": [
            93.41657278096322
           ],
           "yaxis": "y"
          },
          {
           "alignmentgroup": "True",
           "hovertemplate": "Country=%{x}<br>Year=2020<br>Age dependency ratio (% of working-age population)=%{y}<extra></extra>",
           "ids": [
            "Sudan"
           ],
           "legendgroup": "Sudan",
           "marker": {
            "color": "#FF97FF",
            "pattern": {
             "shape": ""
            }
           },
           "name": "Sudan",
           "offsetgroup": "Sudan",
           "orientation": "v",
           "showlegend": true,
           "textposition": "auto",
           "type": "bar",
           "x": [
            "Sudan"
           ],
           "xaxis": "x",
           "y": [
            80.23096402233477
           ],
           "yaxis": "y"
          },
          {
           "alignmentgroup": "True",
           "hovertemplate": "Country=%{x}<br>Year=2020<br>Age dependency ratio (% of working-age population)=%{y}<extra></extra>",
           "ids": [
            "Tanzania"
           ],
           "legendgroup": "Tanzania",
           "marker": {
            "color": "#FECB52",
            "pattern": {
             "shape": ""
            }
           },
           "name": "Tanzania",
           "offsetgroup": "Tanzania",
           "orientation": "v",
           "showlegend": true,
           "textposition": "auto",
           "type": "bar",
           "x": [
            "Tanzania"
           ],
           "xaxis": "x",
           "y": [
            88.69723335982751
           ],
           "yaxis": "y"
          },
          {
           "alignmentgroup": "True",
           "hovertemplate": "Country=%{x}<br>Year=2020<br>Age dependency ratio (% of working-age population)=%{y}<extra></extra>",
           "ids": [
            "Uganda"
           ],
           "legendgroup": "Uganda",
           "marker": {
            "color": "#636efa",
            "pattern": {
             "shape": ""
            }
           },
           "name": "Uganda",
           "offsetgroup": "Uganda",
           "orientation": "v",
           "showlegend": true,
           "textposition": "auto",
           "type": "bar",
           "x": [
            "Uganda"
           ],
           "xaxis": "x",
           "y": [
            89.87914977013966
           ],
           "yaxis": "y"
          }
         ],
         "name": "2020"
        },
        {
         "data": [
          {
           "alignmentgroup": "True",
           "hovertemplate": "Country=%{x}<br>Year=2021<br>Age dependency ratio (% of working-age population)=%{y}<extra></extra>",
           "ids": [
            "Burundi"
           ],
           "legendgroup": "Burundi",
           "marker": {
            "color": "#636efa",
            "pattern": {
             "shape": ""
            }
           },
           "name": "Burundi",
           "offsetgroup": "Burundi",
           "orientation": "v",
           "showlegend": true,
           "textposition": "auto",
           "type": "bar",
           "x": [
            "Burundi"
           ],
           "xaxis": "x",
           "y": [
            95.1967727682806
           ],
           "yaxis": "y"
          },
          {
           "alignmentgroup": "True",
           "hovertemplate": "Country=%{x}<br>Year=2021<br>Age dependency ratio (% of working-age population)=%{y}<extra></extra>",
           "ids": [
            "Djibouti"
           ],
           "legendgroup": "Djibouti",
           "marker": {
            "color": "#EF553B",
            "pattern": {
             "shape": ""
            }
           },
           "name": "Djibouti",
           "offsetgroup": "Djibouti",
           "orientation": "v",
           "showlegend": true,
           "textposition": "auto",
           "type": "bar",
           "x": [
            "Djibouti"
           ],
           "xaxis": "x",
           "y": [
            54.47860047228471
           ],
           "yaxis": "y"
          },
          {
           "alignmentgroup": "True",
           "hovertemplate": "Country=%{x}<br>Year=2021<br>Age dependency ratio (% of working-age population)=%{y}<extra></extra>",
           "ids": [
            "Eritrea"
           ],
           "legendgroup": "Eritrea",
           "marker": {
            "color": "#00cc96",
            "pattern": {
             "shape": ""
            }
           },
           "name": "Eritrea",
           "offsetgroup": "Eritrea",
           "orientation": "v",
           "showlegend": true,
           "textposition": "auto",
           "type": "bar",
           "x": [
            "Eritrea"
           ],
           "xaxis": "x",
           "y": [
            77.90204731884917
           ],
           "yaxis": "y"
          },
          {
           "alignmentgroup": "True",
           "hovertemplate": "Country=%{x}<br>Year=2021<br>Age dependency ratio (% of working-age population)=%{y}<extra></extra>",
           "ids": [
            "Ethiopia"
           ],
           "legendgroup": "Ethiopia",
           "marker": {
            "color": "#ab63fa",
            "pattern": {
             "shape": ""
            }
           },
           "name": "Ethiopia",
           "offsetgroup": "Ethiopia",
           "orientation": "v",
           "showlegend": true,
           "textposition": "auto",
           "type": "bar",
           "x": [
            "Ethiopia"
           ],
           "xaxis": "x",
           "y": [
            75.7451418239888
           ],
           "yaxis": "y"
          },
          {
           "alignmentgroup": "True",
           "hovertemplate": "Country=%{x}<br>Year=2021<br>Age dependency ratio (% of working-age population)=%{y}<extra></extra>",
           "ids": [
            "Kenya"
           ],
           "legendgroup": "Kenya",
           "marker": {
            "color": "#FFA15A",
            "pattern": {
             "shape": ""
            }
           },
           "name": "Kenya",
           "offsetgroup": "Kenya",
           "orientation": "v",
           "showlegend": true,
           "textposition": "auto",
           "type": "bar",
           "x": [
            "Kenya"
           ],
           "xaxis": "x",
           "y": [
            70.18068834842943
           ],
           "yaxis": "y"
          },
          {
           "alignmentgroup": "True",
           "hovertemplate": "Country=%{x}<br>Year=2021<br>Age dependency ratio (% of working-age population)=%{y}<extra></extra>",
           "ids": [
            "Rwanda"
           ],
           "legendgroup": "Rwanda",
           "marker": {
            "color": "#19d3f3",
            "pattern": {
             "shape": ""
            }
           },
           "name": "Rwanda",
           "offsetgroup": "Rwanda",
           "orientation": "v",
           "showlegend": true,
           "textposition": "auto",
           "type": "bar",
           "x": [
            "Rwanda"
           ],
           "xaxis": "x",
           "y": [
            72.51167269924322
           ],
           "yaxis": "y"
          },
          {
           "alignmentgroup": "True",
           "hovertemplate": "Country=%{x}<br>Year=2021<br>Age dependency ratio (% of working-age population)=%{y}<extra></extra>",
           "ids": [
            "Somalia"
           ],
           "legendgroup": "Somalia",
           "marker": {
            "color": "#FF6692",
            "pattern": {
             "shape": ""
            }
           },
           "name": "Somalia",
           "offsetgroup": "Somalia",
           "orientation": "v",
           "showlegend": true,
           "textposition": "auto",
           "type": "bar",
           "x": [
            "Somalia"
           ],
           "xaxis": "x",
           "y": [
            99.39717852958672
           ],
           "yaxis": "y"
          },
          {
           "alignmentgroup": "True",
           "hovertemplate": "Country=%{x}<br>Year=2021<br>Age dependency ratio (% of working-age population)=%{y}<extra></extra>",
           "ids": [
            "South Sudan"
           ],
           "legendgroup": "South Sudan",
           "marker": {
            "color": "#B6E880",
            "pattern": {
             "shape": ""
            }
           },
           "name": "South Sudan",
           "offsetgroup": "South Sudan",
           "orientation": "v",
           "showlegend": true,
           "textposition": "auto",
           "type": "bar",
           "x": [
            "South Sudan"
           ],
           "xaxis": "x",
           "y": [
            90.69606567103168
           ],
           "yaxis": "y"
          },
          {
           "alignmentgroup": "True",
           "hovertemplate": "Country=%{x}<br>Year=2021<br>Age dependency ratio (% of working-age population)=%{y}<extra></extra>",
           "ids": [
            "Sudan"
           ],
           "legendgroup": "Sudan",
           "marker": {
            "color": "#FF97FF",
            "pattern": {
             "shape": ""
            }
           },
           "name": "Sudan",
           "offsetgroup": "Sudan",
           "orientation": "v",
           "showlegend": true,
           "textposition": "auto",
           "type": "bar",
           "x": [
            "Sudan"
           ],
           "xaxis": "x",
           "y": [
            80.21231938390292
           ],
           "yaxis": "y"
          },
          {
           "alignmentgroup": "True",
           "hovertemplate": "Country=%{x}<br>Year=2021<br>Age dependency ratio (% of working-age population)=%{y}<extra></extra>",
           "ids": [
            "Tanzania"
           ],
           "legendgroup": "Tanzania",
           "marker": {
            "color": "#FECB52",
            "pattern": {
             "shape": ""
            }
           },
           "name": "Tanzania",
           "offsetgroup": "Tanzania",
           "orientation": "v",
           "showlegend": true,
           "textposition": "auto",
           "type": "bar",
           "x": [
            "Tanzania"
           ],
           "xaxis": "x",
           "y": [
            87.70544639599791
           ],
           "yaxis": "y"
          },
          {
           "alignmentgroup": "True",
           "hovertemplate": "Country=%{x}<br>Year=2021<br>Age dependency ratio (% of working-age population)=%{y}<extra></extra>",
           "ids": [
            "Uganda"
           ],
           "legendgroup": "Uganda",
           "marker": {
            "color": "#636efa",
            "pattern": {
             "shape": ""
            }
           },
           "name": "Uganda",
           "offsetgroup": "Uganda",
           "orientation": "v",
           "showlegend": true,
           "textposition": "auto",
           "type": "bar",
           "x": [
            "Uganda"
           ],
           "xaxis": "x",
           "y": [
            88.21334780356497
           ],
           "yaxis": "y"
          }
         ],
         "name": "2021"
        },
        {
         "data": [
          {
           "alignmentgroup": "True",
           "hovertemplate": "Country=%{x}<br>Year=2022<br>Age dependency ratio (% of working-age population)=%{y}<extra></extra>",
           "ids": [
            "Burundi"
           ],
           "legendgroup": "Burundi",
           "marker": {
            "color": "#636efa",
            "pattern": {
             "shape": ""
            }
           },
           "name": "Burundi",
           "offsetgroup": "Burundi",
           "orientation": "v",
           "showlegend": true,
           "textposition": "auto",
           "type": "bar",
           "x": [
            "Burundi"
           ],
           "xaxis": "x",
           "y": [
            93.24950816457304
           ],
           "yaxis": "y"
          },
          {
           "alignmentgroup": "True",
           "hovertemplate": "Country=%{x}<br>Year=2022<br>Age dependency ratio (% of working-age population)=%{y}<extra></extra>",
           "ids": [
            "Djibouti"
           ],
           "legendgroup": "Djibouti",
           "marker": {
            "color": "#EF553B",
            "pattern": {
             "shape": ""
            }
           },
           "name": "Djibouti",
           "offsetgroup": "Djibouti",
           "orientation": "v",
           "showlegend": true,
           "textposition": "auto",
           "type": "bar",
           "x": [
            "Djibouti"
           ],
           "xaxis": "x",
           "y": [
            53.67674177869487
           ],
           "yaxis": "y"
          },
          {
           "alignmentgroup": "True",
           "hovertemplate": "Country=%{x}<br>Year=2022<br>Age dependency ratio (% of working-age population)=%{y}<extra></extra>",
           "ids": [
            "Eritrea"
           ],
           "legendgroup": "Eritrea",
           "marker": {
            "color": "#00cc96",
            "pattern": {
             "shape": ""
            }
           },
           "name": "Eritrea",
           "offsetgroup": "Eritrea",
           "orientation": "v",
           "showlegend": true,
           "textposition": "auto",
           "type": "bar",
           "x": [
            "Eritrea"
           ],
           "xaxis": "x",
           "y": [
            76.08677884052388
           ],
           "yaxis": "y"
          },
          {
           "alignmentgroup": "True",
           "hovertemplate": "Country=%{x}<br>Year=2022<br>Age dependency ratio (% of working-age population)=%{y}<extra></extra>",
           "ids": [
            "Ethiopia"
           ],
           "legendgroup": "Ethiopia",
           "marker": {
            "color": "#ab63fa",
            "pattern": {
             "shape": ""
            }
           },
           "name": "Ethiopia",
           "offsetgroup": "Ethiopia",
           "orientation": "v",
           "showlegend": true,
           "textposition": "auto",
           "type": "bar",
           "x": [
            "Ethiopia"
           ],
           "xaxis": "x",
           "y": [
            74.72151775853875
           ],
           "yaxis": "y"
          },
          {
           "alignmentgroup": "True",
           "hovertemplate": "Country=%{x}<br>Year=2022<br>Age dependency ratio (% of working-age population)=%{y}<extra></extra>",
           "ids": [
            "Kenya"
           ],
           "legendgroup": "Kenya",
           "marker": {
            "color": "#FFA15A",
            "pattern": {
             "shape": ""
            }
           },
           "name": "Kenya",
           "offsetgroup": "Kenya",
           "orientation": "v",
           "showlegend": true,
           "textposition": "auto",
           "type": "bar",
           "x": [
            "Kenya"
           ],
           "xaxis": "x",
           "y": [
            68.58994209822146
           ],
           "yaxis": "y"
          },
          {
           "alignmentgroup": "True",
           "hovertemplate": "Country=%{x}<br>Year=2022<br>Age dependency ratio (% of working-age population)=%{y}<extra></extra>",
           "ids": [
            "Rwanda"
           ],
           "legendgroup": "Rwanda",
           "marker": {
            "color": "#19d3f3",
            "pattern": {
             "shape": ""
            }
           },
           "name": "Rwanda",
           "offsetgroup": "Rwanda",
           "orientation": "v",
           "showlegend": true,
           "textposition": "auto",
           "type": "bar",
           "x": [
            "Rwanda"
           ],
           "xaxis": "x",
           "y": [
            71.4173126944538
           ],
           "yaxis": "y"
          },
          {
           "alignmentgroup": "True",
           "hovertemplate": "Country=%{x}<br>Year=2022<br>Age dependency ratio (% of working-age population)=%{y}<extra></extra>",
           "ids": [
            "Somalia"
           ],
           "legendgroup": "Somalia",
           "marker": {
            "color": "#FF6692",
            "pattern": {
             "shape": ""
            }
           },
           "name": "Somalia",
           "offsetgroup": "Somalia",
           "orientation": "v",
           "showlegend": true,
           "textposition": "auto",
           "type": "bar",
           "x": [
            "Somalia"
           ],
           "xaxis": "x",
           "y": [
            98.94356201625712
           ],
           "yaxis": "y"
          },
          {
           "alignmentgroup": "True",
           "hovertemplate": "Country=%{x}<br>Year=2022<br>Age dependency ratio (% of working-age population)=%{y}<extra></extra>",
           "ids": [
            "South Sudan"
           ],
           "legendgroup": "South Sudan",
           "marker": {
            "color": "#B6E880",
            "pattern": {
             "shape": ""
            }
           },
           "name": "South Sudan",
           "offsetgroup": "South Sudan",
           "orientation": "v",
           "showlegend": true,
           "textposition": "auto",
           "type": "bar",
           "x": [
            "South Sudan"
           ],
           "xaxis": "x",
           "y": [
            87.81281300230955
           ],
           "yaxis": "y"
          },
          {
           "alignmentgroup": "True",
           "hovertemplate": "Country=%{x}<br>Year=2022<br>Age dependency ratio (% of working-age population)=%{y}<extra></extra>",
           "ids": [
            "Sudan"
           ],
           "legendgroup": "Sudan",
           "marker": {
            "color": "#FF97FF",
            "pattern": {
             "shape": ""
            }
           },
           "name": "Sudan",
           "offsetgroup": "Sudan",
           "orientation": "v",
           "showlegend": true,
           "textposition": "auto",
           "type": "bar",
           "x": [
            "Sudan"
           ],
           "xaxis": "x",
           "y": [
            79.94982126792321
           ],
           "yaxis": "y"
          },
          {
           "alignmentgroup": "True",
           "hovertemplate": "Country=%{x}<br>Year=2022<br>Age dependency ratio (% of working-age population)=%{y}<extra></extra>",
           "ids": [
            "Tanzania"
           ],
           "legendgroup": "Tanzania",
           "marker": {
            "color": "#FECB52",
            "pattern": {
             "shape": ""
            }
           },
           "name": "Tanzania",
           "offsetgroup": "Tanzania",
           "orientation": "v",
           "showlegend": true,
           "textposition": "auto",
           "type": "bar",
           "x": [
            "Tanzania"
           ],
           "xaxis": "x",
           "y": [
            86.77935409763792
           ],
           "yaxis": "y"
          },
          {
           "alignmentgroup": "True",
           "hovertemplate": "Country=%{x}<br>Year=2022<br>Age dependency ratio (% of working-age population)=%{y}<extra></extra>",
           "ids": [
            "Uganda"
           ],
           "legendgroup": "Uganda",
           "marker": {
            "color": "#636efa",
            "pattern": {
             "shape": ""
            }
           },
           "name": "Uganda",
           "offsetgroup": "Uganda",
           "orientation": "v",
           "showlegend": true,
           "textposition": "auto",
           "type": "bar",
           "x": [
            "Uganda"
           ],
           "xaxis": "x",
           "y": [
            86.8301536473046
           ],
           "yaxis": "y"
          }
         ],
         "name": "2022"
        }
       ],
       "layout": {
        "barmode": "relative",
        "legend": {
         "title": {
          "text": "Country"
         },
         "tracegroupgap": 0
        },
        "margin": {
         "t": 60
        },
        "sliders": [
         {
          "active": 0,
          "currentvalue": {
           "prefix": "Year="
          },
          "len": 0.9,
          "pad": {
           "b": 10,
           "t": 60
          },
          "steps": [
           {
            "args": [
             [
              "1960"
             ],
             {
              "frame": {
               "duration": 0,
               "redraw": true
              },
              "fromcurrent": true,
              "mode": "immediate",
              "transition": {
               "duration": 0,
               "easing": "linear"
              }
             }
            ],
            "label": "1960",
            "method": "animate"
           },
           {
            "args": [
             [
              "1961"
             ],
             {
              "frame": {
               "duration": 0,
               "redraw": true
              },
              "fromcurrent": true,
              "mode": "immediate",
              "transition": {
               "duration": 0,
               "easing": "linear"
              }
             }
            ],
            "label": "1961",
            "method": "animate"
           },
           {
            "args": [
             [
              "1962"
             ],
             {
              "frame": {
               "duration": 0,
               "redraw": true
              },
              "fromcurrent": true,
              "mode": "immediate",
              "transition": {
               "duration": 0,
               "easing": "linear"
              }
             }
            ],
            "label": "1962",
            "method": "animate"
           },
           {
            "args": [
             [
              "1963"
             ],
             {
              "frame": {
               "duration": 0,
               "redraw": true
              },
              "fromcurrent": true,
              "mode": "immediate",
              "transition": {
               "duration": 0,
               "easing": "linear"
              }
             }
            ],
            "label": "1963",
            "method": "animate"
           },
           {
            "args": [
             [
              "1964"
             ],
             {
              "frame": {
               "duration": 0,
               "redraw": true
              },
              "fromcurrent": true,
              "mode": "immediate",
              "transition": {
               "duration": 0,
               "easing": "linear"
              }
             }
            ],
            "label": "1964",
            "method": "animate"
           },
           {
            "args": [
             [
              "1965"
             ],
             {
              "frame": {
               "duration": 0,
               "redraw": true
              },
              "fromcurrent": true,
              "mode": "immediate",
              "transition": {
               "duration": 0,
               "easing": "linear"
              }
             }
            ],
            "label": "1965",
            "method": "animate"
           },
           {
            "args": [
             [
              "1966"
             ],
             {
              "frame": {
               "duration": 0,
               "redraw": true
              },
              "fromcurrent": true,
              "mode": "immediate",
              "transition": {
               "duration": 0,
               "easing": "linear"
              }
             }
            ],
            "label": "1966",
            "method": "animate"
           },
           {
            "args": [
             [
              "1967"
             ],
             {
              "frame": {
               "duration": 0,
               "redraw": true
              },
              "fromcurrent": true,
              "mode": "immediate",
              "transition": {
               "duration": 0,
               "easing": "linear"
              }
             }
            ],
            "label": "1967",
            "method": "animate"
           },
           {
            "args": [
             [
              "1968"
             ],
             {
              "frame": {
               "duration": 0,
               "redraw": true
              },
              "fromcurrent": true,
              "mode": "immediate",
              "transition": {
               "duration": 0,
               "easing": "linear"
              }
             }
            ],
            "label": "1968",
            "method": "animate"
           },
           {
            "args": [
             [
              "1969"
             ],
             {
              "frame": {
               "duration": 0,
               "redraw": true
              },
              "fromcurrent": true,
              "mode": "immediate",
              "transition": {
               "duration": 0,
               "easing": "linear"
              }
             }
            ],
            "label": "1969",
            "method": "animate"
           },
           {
            "args": [
             [
              "1970"
             ],
             {
              "frame": {
               "duration": 0,
               "redraw": true
              },
              "fromcurrent": true,
              "mode": "immediate",
              "transition": {
               "duration": 0,
               "easing": "linear"
              }
             }
            ],
            "label": "1970",
            "method": "animate"
           },
           {
            "args": [
             [
              "1971"
             ],
             {
              "frame": {
               "duration": 0,
               "redraw": true
              },
              "fromcurrent": true,
              "mode": "immediate",
              "transition": {
               "duration": 0,
               "easing": "linear"
              }
             }
            ],
            "label": "1971",
            "method": "animate"
           },
           {
            "args": [
             [
              "1972"
             ],
             {
              "frame": {
               "duration": 0,
               "redraw": true
              },
              "fromcurrent": true,
              "mode": "immediate",
              "transition": {
               "duration": 0,
               "easing": "linear"
              }
             }
            ],
            "label": "1972",
            "method": "animate"
           },
           {
            "args": [
             [
              "1973"
             ],
             {
              "frame": {
               "duration": 0,
               "redraw": true
              },
              "fromcurrent": true,
              "mode": "immediate",
              "transition": {
               "duration": 0,
               "easing": "linear"
              }
             }
            ],
            "label": "1973",
            "method": "animate"
           },
           {
            "args": [
             [
              "1974"
             ],
             {
              "frame": {
               "duration": 0,
               "redraw": true
              },
              "fromcurrent": true,
              "mode": "immediate",
              "transition": {
               "duration": 0,
               "easing": "linear"
              }
             }
            ],
            "label": "1974",
            "method": "animate"
           },
           {
            "args": [
             [
              "1975"
             ],
             {
              "frame": {
               "duration": 0,
               "redraw": true
              },
              "fromcurrent": true,
              "mode": "immediate",
              "transition": {
               "duration": 0,
               "easing": "linear"
              }
             }
            ],
            "label": "1975",
            "method": "animate"
           },
           {
            "args": [
             [
              "1976"
             ],
             {
              "frame": {
               "duration": 0,
               "redraw": true
              },
              "fromcurrent": true,
              "mode": "immediate",
              "transition": {
               "duration": 0,
               "easing": "linear"
              }
             }
            ],
            "label": "1976",
            "method": "animate"
           },
           {
            "args": [
             [
              "1977"
             ],
             {
              "frame": {
               "duration": 0,
               "redraw": true
              },
              "fromcurrent": true,
              "mode": "immediate",
              "transition": {
               "duration": 0,
               "easing": "linear"
              }
             }
            ],
            "label": "1977",
            "method": "animate"
           },
           {
            "args": [
             [
              "1978"
             ],
             {
              "frame": {
               "duration": 0,
               "redraw": true
              },
              "fromcurrent": true,
              "mode": "immediate",
              "transition": {
               "duration": 0,
               "easing": "linear"
              }
             }
            ],
            "label": "1978",
            "method": "animate"
           },
           {
            "args": [
             [
              "1979"
             ],
             {
              "frame": {
               "duration": 0,
               "redraw": true
              },
              "fromcurrent": true,
              "mode": "immediate",
              "transition": {
               "duration": 0,
               "easing": "linear"
              }
             }
            ],
            "label": "1979",
            "method": "animate"
           },
           {
            "args": [
             [
              "1980"
             ],
             {
              "frame": {
               "duration": 0,
               "redraw": true
              },
              "fromcurrent": true,
              "mode": "immediate",
              "transition": {
               "duration": 0,
               "easing": "linear"
              }
             }
            ],
            "label": "1980",
            "method": "animate"
           },
           {
            "args": [
             [
              "1981"
             ],
             {
              "frame": {
               "duration": 0,
               "redraw": true
              },
              "fromcurrent": true,
              "mode": "immediate",
              "transition": {
               "duration": 0,
               "easing": "linear"
              }
             }
            ],
            "label": "1981",
            "method": "animate"
           },
           {
            "args": [
             [
              "1982"
             ],
             {
              "frame": {
               "duration": 0,
               "redraw": true
              },
              "fromcurrent": true,
              "mode": "immediate",
              "transition": {
               "duration": 0,
               "easing": "linear"
              }
             }
            ],
            "label": "1982",
            "method": "animate"
           },
           {
            "args": [
             [
              "1983"
             ],
             {
              "frame": {
               "duration": 0,
               "redraw": true
              },
              "fromcurrent": true,
              "mode": "immediate",
              "transition": {
               "duration": 0,
               "easing": "linear"
              }
             }
            ],
            "label": "1983",
            "method": "animate"
           },
           {
            "args": [
             [
              "1984"
             ],
             {
              "frame": {
               "duration": 0,
               "redraw": true
              },
              "fromcurrent": true,
              "mode": "immediate",
              "transition": {
               "duration": 0,
               "easing": "linear"
              }
             }
            ],
            "label": "1984",
            "method": "animate"
           },
           {
            "args": [
             [
              "1985"
             ],
             {
              "frame": {
               "duration": 0,
               "redraw": true
              },
              "fromcurrent": true,
              "mode": "immediate",
              "transition": {
               "duration": 0,
               "easing": "linear"
              }
             }
            ],
            "label": "1985",
            "method": "animate"
           },
           {
            "args": [
             [
              "1986"
             ],
             {
              "frame": {
               "duration": 0,
               "redraw": true
              },
              "fromcurrent": true,
              "mode": "immediate",
              "transition": {
               "duration": 0,
               "easing": "linear"
              }
             }
            ],
            "label": "1986",
            "method": "animate"
           },
           {
            "args": [
             [
              "1987"
             ],
             {
              "frame": {
               "duration": 0,
               "redraw": true
              },
              "fromcurrent": true,
              "mode": "immediate",
              "transition": {
               "duration": 0,
               "easing": "linear"
              }
             }
            ],
            "label": "1987",
            "method": "animate"
           },
           {
            "args": [
             [
              "1988"
             ],
             {
              "frame": {
               "duration": 0,
               "redraw": true
              },
              "fromcurrent": true,
              "mode": "immediate",
              "transition": {
               "duration": 0,
               "easing": "linear"
              }
             }
            ],
            "label": "1988",
            "method": "animate"
           },
           {
            "args": [
             [
              "1989"
             ],
             {
              "frame": {
               "duration": 0,
               "redraw": true
              },
              "fromcurrent": true,
              "mode": "immediate",
              "transition": {
               "duration": 0,
               "easing": "linear"
              }
             }
            ],
            "label": "1989",
            "method": "animate"
           },
           {
            "args": [
             [
              "1990"
             ],
             {
              "frame": {
               "duration": 0,
               "redraw": true
              },
              "fromcurrent": true,
              "mode": "immediate",
              "transition": {
               "duration": 0,
               "easing": "linear"
              }
             }
            ],
            "label": "1990",
            "method": "animate"
           },
           {
            "args": [
             [
              "1991"
             ],
             {
              "frame": {
               "duration": 0,
               "redraw": true
              },
              "fromcurrent": true,
              "mode": "immediate",
              "transition": {
               "duration": 0,
               "easing": "linear"
              }
             }
            ],
            "label": "1991",
            "method": "animate"
           },
           {
            "args": [
             [
              "1992"
             ],
             {
              "frame": {
               "duration": 0,
               "redraw": true
              },
              "fromcurrent": true,
              "mode": "immediate",
              "transition": {
               "duration": 0,
               "easing": "linear"
              }
             }
            ],
            "label": "1992",
            "method": "animate"
           },
           {
            "args": [
             [
              "1993"
             ],
             {
              "frame": {
               "duration": 0,
               "redraw": true
              },
              "fromcurrent": true,
              "mode": "immediate",
              "transition": {
               "duration": 0,
               "easing": "linear"
              }
             }
            ],
            "label": "1993",
            "method": "animate"
           },
           {
            "args": [
             [
              "1994"
             ],
             {
              "frame": {
               "duration": 0,
               "redraw": true
              },
              "fromcurrent": true,
              "mode": "immediate",
              "transition": {
               "duration": 0,
               "easing": "linear"
              }
             }
            ],
            "label": "1994",
            "method": "animate"
           },
           {
            "args": [
             [
              "1995"
             ],
             {
              "frame": {
               "duration": 0,
               "redraw": true
              },
              "fromcurrent": true,
              "mode": "immediate",
              "transition": {
               "duration": 0,
               "easing": "linear"
              }
             }
            ],
            "label": "1995",
            "method": "animate"
           },
           {
            "args": [
             [
              "1996"
             ],
             {
              "frame": {
               "duration": 0,
               "redraw": true
              },
              "fromcurrent": true,
              "mode": "immediate",
              "transition": {
               "duration": 0,
               "easing": "linear"
              }
             }
            ],
            "label": "1996",
            "method": "animate"
           },
           {
            "args": [
             [
              "1997"
             ],
             {
              "frame": {
               "duration": 0,
               "redraw": true
              },
              "fromcurrent": true,
              "mode": "immediate",
              "transition": {
               "duration": 0,
               "easing": "linear"
              }
             }
            ],
            "label": "1997",
            "method": "animate"
           },
           {
            "args": [
             [
              "1998"
             ],
             {
              "frame": {
               "duration": 0,
               "redraw": true
              },
              "fromcurrent": true,
              "mode": "immediate",
              "transition": {
               "duration": 0,
               "easing": "linear"
              }
             }
            ],
            "label": "1998",
            "method": "animate"
           },
           {
            "args": [
             [
              "1999"
             ],
             {
              "frame": {
               "duration": 0,
               "redraw": true
              },
              "fromcurrent": true,
              "mode": "immediate",
              "transition": {
               "duration": 0,
               "easing": "linear"
              }
             }
            ],
            "label": "1999",
            "method": "animate"
           },
           {
            "args": [
             [
              "2000"
             ],
             {
              "frame": {
               "duration": 0,
               "redraw": true
              },
              "fromcurrent": true,
              "mode": "immediate",
              "transition": {
               "duration": 0,
               "easing": "linear"
              }
             }
            ],
            "label": "2000",
            "method": "animate"
           },
           {
            "args": [
             [
              "2001"
             ],
             {
              "frame": {
               "duration": 0,
               "redraw": true
              },
              "fromcurrent": true,
              "mode": "immediate",
              "transition": {
               "duration": 0,
               "easing": "linear"
              }
             }
            ],
            "label": "2001",
            "method": "animate"
           },
           {
            "args": [
             [
              "2002"
             ],
             {
              "frame": {
               "duration": 0,
               "redraw": true
              },
              "fromcurrent": true,
              "mode": "immediate",
              "transition": {
               "duration": 0,
               "easing": "linear"
              }
             }
            ],
            "label": "2002",
            "method": "animate"
           },
           {
            "args": [
             [
              "2003"
             ],
             {
              "frame": {
               "duration": 0,
               "redraw": true
              },
              "fromcurrent": true,
              "mode": "immediate",
              "transition": {
               "duration": 0,
               "easing": "linear"
              }
             }
            ],
            "label": "2003",
            "method": "animate"
           },
           {
            "args": [
             [
              "2004"
             ],
             {
              "frame": {
               "duration": 0,
               "redraw": true
              },
              "fromcurrent": true,
              "mode": "immediate",
              "transition": {
               "duration": 0,
               "easing": "linear"
              }
             }
            ],
            "label": "2004",
            "method": "animate"
           },
           {
            "args": [
             [
              "2005"
             ],
             {
              "frame": {
               "duration": 0,
               "redraw": true
              },
              "fromcurrent": true,
              "mode": "immediate",
              "transition": {
               "duration": 0,
               "easing": "linear"
              }
             }
            ],
            "label": "2005",
            "method": "animate"
           },
           {
            "args": [
             [
              "2006"
             ],
             {
              "frame": {
               "duration": 0,
               "redraw": true
              },
              "fromcurrent": true,
              "mode": "immediate",
              "transition": {
               "duration": 0,
               "easing": "linear"
              }
             }
            ],
            "label": "2006",
            "method": "animate"
           },
           {
            "args": [
             [
              "2007"
             ],
             {
              "frame": {
               "duration": 0,
               "redraw": true
              },
              "fromcurrent": true,
              "mode": "immediate",
              "transition": {
               "duration": 0,
               "easing": "linear"
              }
             }
            ],
            "label": "2007",
            "method": "animate"
           },
           {
            "args": [
             [
              "2008"
             ],
             {
              "frame": {
               "duration": 0,
               "redraw": true
              },
              "fromcurrent": true,
              "mode": "immediate",
              "transition": {
               "duration": 0,
               "easing": "linear"
              }
             }
            ],
            "label": "2008",
            "method": "animate"
           },
           {
            "args": [
             [
              "2009"
             ],
             {
              "frame": {
               "duration": 0,
               "redraw": true
              },
              "fromcurrent": true,
              "mode": "immediate",
              "transition": {
               "duration": 0,
               "easing": "linear"
              }
             }
            ],
            "label": "2009",
            "method": "animate"
           },
           {
            "args": [
             [
              "2010"
             ],
             {
              "frame": {
               "duration": 0,
               "redraw": true
              },
              "fromcurrent": true,
              "mode": "immediate",
              "transition": {
               "duration": 0,
               "easing": "linear"
              }
             }
            ],
            "label": "2010",
            "method": "animate"
           },
           {
            "args": [
             [
              "2011"
             ],
             {
              "frame": {
               "duration": 0,
               "redraw": true
              },
              "fromcurrent": true,
              "mode": "immediate",
              "transition": {
               "duration": 0,
               "easing": "linear"
              }
             }
            ],
            "label": "2011",
            "method": "animate"
           },
           {
            "args": [
             [
              "2012"
             ],
             {
              "frame": {
               "duration": 0,
               "redraw": true
              },
              "fromcurrent": true,
              "mode": "immediate",
              "transition": {
               "duration": 0,
               "easing": "linear"
              }
             }
            ],
            "label": "2012",
            "method": "animate"
           },
           {
            "args": [
             [
              "2013"
             ],
             {
              "frame": {
               "duration": 0,
               "redraw": true
              },
              "fromcurrent": true,
              "mode": "immediate",
              "transition": {
               "duration": 0,
               "easing": "linear"
              }
             }
            ],
            "label": "2013",
            "method": "animate"
           },
           {
            "args": [
             [
              "2014"
             ],
             {
              "frame": {
               "duration": 0,
               "redraw": true
              },
              "fromcurrent": true,
              "mode": "immediate",
              "transition": {
               "duration": 0,
               "easing": "linear"
              }
             }
            ],
            "label": "2014",
            "method": "animate"
           },
           {
            "args": [
             [
              "2015"
             ],
             {
              "frame": {
               "duration": 0,
               "redraw": true
              },
              "fromcurrent": true,
              "mode": "immediate",
              "transition": {
               "duration": 0,
               "easing": "linear"
              }
             }
            ],
            "label": "2015",
            "method": "animate"
           },
           {
            "args": [
             [
              "2016"
             ],
             {
              "frame": {
               "duration": 0,
               "redraw": true
              },
              "fromcurrent": true,
              "mode": "immediate",
              "transition": {
               "duration": 0,
               "easing": "linear"
              }
             }
            ],
            "label": "2016",
            "method": "animate"
           },
           {
            "args": [
             [
              "2017"
             ],
             {
              "frame": {
               "duration": 0,
               "redraw": true
              },
              "fromcurrent": true,
              "mode": "immediate",
              "transition": {
               "duration": 0,
               "easing": "linear"
              }
             }
            ],
            "label": "2017",
            "method": "animate"
           },
           {
            "args": [
             [
              "2018"
             ],
             {
              "frame": {
               "duration": 0,
               "redraw": true
              },
              "fromcurrent": true,
              "mode": "immediate",
              "transition": {
               "duration": 0,
               "easing": "linear"
              }
             }
            ],
            "label": "2018",
            "method": "animate"
           },
           {
            "args": [
             [
              "2019"
             ],
             {
              "frame": {
               "duration": 0,
               "redraw": true
              },
              "fromcurrent": true,
              "mode": "immediate",
              "transition": {
               "duration": 0,
               "easing": "linear"
              }
             }
            ],
            "label": "2019",
            "method": "animate"
           },
           {
            "args": [
             [
              "2020"
             ],
             {
              "frame": {
               "duration": 0,
               "redraw": true
              },
              "fromcurrent": true,
              "mode": "immediate",
              "transition": {
               "duration": 0,
               "easing": "linear"
              }
             }
            ],
            "label": "2020",
            "method": "animate"
           },
           {
            "args": [
             [
              "2021"
             ],
             {
              "frame": {
               "duration": 0,
               "redraw": true
              },
              "fromcurrent": true,
              "mode": "immediate",
              "transition": {
               "duration": 0,
               "easing": "linear"
              }
             }
            ],
            "label": "2021",
            "method": "animate"
           },
           {
            "args": [
             [
              "2022"
             ],
             {
              "frame": {
               "duration": 0,
               "redraw": true
              },
              "fromcurrent": true,
              "mode": "immediate",
              "transition": {
               "duration": 0,
               "easing": "linear"
              }
             }
            ],
            "label": "2022",
            "method": "animate"
           }
          ],
          "x": 0.1,
          "xanchor": "left",
          "y": 0,
          "yanchor": "top"
         }
        ],
        "template": {
         "data": {
          "bar": [
           {
            "error_x": {
             "color": "#2a3f5f"
            },
            "error_y": {
             "color": "#2a3f5f"
            },
            "marker": {
             "line": {
              "color": "#E5ECF6",
              "width": 0.5
             },
             "pattern": {
              "fillmode": "overlay",
              "size": 10,
              "solidity": 0.2
             }
            },
            "type": "bar"
           }
          ],
          "barpolar": [
           {
            "marker": {
             "line": {
              "color": "#E5ECF6",
              "width": 0.5
             },
             "pattern": {
              "fillmode": "overlay",
              "size": 10,
              "solidity": 0.2
             }
            },
            "type": "barpolar"
           }
          ],
          "carpet": [
           {
            "aaxis": {
             "endlinecolor": "#2a3f5f",
             "gridcolor": "white",
             "linecolor": "white",
             "minorgridcolor": "white",
             "startlinecolor": "#2a3f5f"
            },
            "baxis": {
             "endlinecolor": "#2a3f5f",
             "gridcolor": "white",
             "linecolor": "white",
             "minorgridcolor": "white",
             "startlinecolor": "#2a3f5f"
            },
            "type": "carpet"
           }
          ],
          "choropleth": [
           {
            "colorbar": {
             "outlinewidth": 0,
             "ticks": ""
            },
            "type": "choropleth"
           }
          ],
          "contour": [
           {
            "colorbar": {
             "outlinewidth": 0,
             "ticks": ""
            },
            "colorscale": [
             [
              0,
              "#0d0887"
             ],
             [
              0.1111111111111111,
              "#46039f"
             ],
             [
              0.2222222222222222,
              "#7201a8"
             ],
             [
              0.3333333333333333,
              "#9c179e"
             ],
             [
              0.4444444444444444,
              "#bd3786"
             ],
             [
              0.5555555555555556,
              "#d8576b"
             ],
             [
              0.6666666666666666,
              "#ed7953"
             ],
             [
              0.7777777777777778,
              "#fb9f3a"
             ],
             [
              0.8888888888888888,
              "#fdca26"
             ],
             [
              1,
              "#f0f921"
             ]
            ],
            "type": "contour"
           }
          ],
          "contourcarpet": [
           {
            "colorbar": {
             "outlinewidth": 0,
             "ticks": ""
            },
            "type": "contourcarpet"
           }
          ],
          "heatmap": [
           {
            "colorbar": {
             "outlinewidth": 0,
             "ticks": ""
            },
            "colorscale": [
             [
              0,
              "#0d0887"
             ],
             [
              0.1111111111111111,
              "#46039f"
             ],
             [
              0.2222222222222222,
              "#7201a8"
             ],
             [
              0.3333333333333333,
              "#9c179e"
             ],
             [
              0.4444444444444444,
              "#bd3786"
             ],
             [
              0.5555555555555556,
              "#d8576b"
             ],
             [
              0.6666666666666666,
              "#ed7953"
             ],
             [
              0.7777777777777778,
              "#fb9f3a"
             ],
             [
              0.8888888888888888,
              "#fdca26"
             ],
             [
              1,
              "#f0f921"
             ]
            ],
            "type": "heatmap"
           }
          ],
          "heatmapgl": [
           {
            "colorbar": {
             "outlinewidth": 0,
             "ticks": ""
            },
            "colorscale": [
             [
              0,
              "#0d0887"
             ],
             [
              0.1111111111111111,
              "#46039f"
             ],
             [
              0.2222222222222222,
              "#7201a8"
             ],
             [
              0.3333333333333333,
              "#9c179e"
             ],
             [
              0.4444444444444444,
              "#bd3786"
             ],
             [
              0.5555555555555556,
              "#d8576b"
             ],
             [
              0.6666666666666666,
              "#ed7953"
             ],
             [
              0.7777777777777778,
              "#fb9f3a"
             ],
             [
              0.8888888888888888,
              "#fdca26"
             ],
             [
              1,
              "#f0f921"
             ]
            ],
            "type": "heatmapgl"
           }
          ],
          "histogram": [
           {
            "marker": {
             "pattern": {
              "fillmode": "overlay",
              "size": 10,
              "solidity": 0.2
             }
            },
            "type": "histogram"
           }
          ],
          "histogram2d": [
           {
            "colorbar": {
             "outlinewidth": 0,
             "ticks": ""
            },
            "colorscale": [
             [
              0,
              "#0d0887"
             ],
             [
              0.1111111111111111,
              "#46039f"
             ],
             [
              0.2222222222222222,
              "#7201a8"
             ],
             [
              0.3333333333333333,
              "#9c179e"
             ],
             [
              0.4444444444444444,
              "#bd3786"
             ],
             [
              0.5555555555555556,
              "#d8576b"
             ],
             [
              0.6666666666666666,
              "#ed7953"
             ],
             [
              0.7777777777777778,
              "#fb9f3a"
             ],
             [
              0.8888888888888888,
              "#fdca26"
             ],
             [
              1,
              "#f0f921"
             ]
            ],
            "type": "histogram2d"
           }
          ],
          "histogram2dcontour": [
           {
            "colorbar": {
             "outlinewidth": 0,
             "ticks": ""
            },
            "colorscale": [
             [
              0,
              "#0d0887"
             ],
             [
              0.1111111111111111,
              "#46039f"
             ],
             [
              0.2222222222222222,
              "#7201a8"
             ],
             [
              0.3333333333333333,
              "#9c179e"
             ],
             [
              0.4444444444444444,
              "#bd3786"
             ],
             [
              0.5555555555555556,
              "#d8576b"
             ],
             [
              0.6666666666666666,
              "#ed7953"
             ],
             [
              0.7777777777777778,
              "#fb9f3a"
             ],
             [
              0.8888888888888888,
              "#fdca26"
             ],
             [
              1,
              "#f0f921"
             ]
            ],
            "type": "histogram2dcontour"
           }
          ],
          "mesh3d": [
           {
            "colorbar": {
             "outlinewidth": 0,
             "ticks": ""
            },
            "type": "mesh3d"
           }
          ],
          "parcoords": [
           {
            "line": {
             "colorbar": {
              "outlinewidth": 0,
              "ticks": ""
             }
            },
            "type": "parcoords"
           }
          ],
          "pie": [
           {
            "automargin": true,
            "type": "pie"
           }
          ],
          "scatter": [
           {
            "fillpattern": {
             "fillmode": "overlay",
             "size": 10,
             "solidity": 0.2
            },
            "type": "scatter"
           }
          ],
          "scatter3d": [
           {
            "line": {
             "colorbar": {
              "outlinewidth": 0,
              "ticks": ""
             }
            },
            "marker": {
             "colorbar": {
              "outlinewidth": 0,
              "ticks": ""
             }
            },
            "type": "scatter3d"
           }
          ],
          "scattercarpet": [
           {
            "marker": {
             "colorbar": {
              "outlinewidth": 0,
              "ticks": ""
             }
            },
            "type": "scattercarpet"
           }
          ],
          "scattergeo": [
           {
            "marker": {
             "colorbar": {
              "outlinewidth": 0,
              "ticks": ""
             }
            },
            "type": "scattergeo"
           }
          ],
          "scattergl": [
           {
            "marker": {
             "colorbar": {
              "outlinewidth": 0,
              "ticks": ""
             }
            },
            "type": "scattergl"
           }
          ],
          "scattermapbox": [
           {
            "marker": {
             "colorbar": {
              "outlinewidth": 0,
              "ticks": ""
             }
            },
            "type": "scattermapbox"
           }
          ],
          "scatterpolar": [
           {
            "marker": {
             "colorbar": {
              "outlinewidth": 0,
              "ticks": ""
             }
            },
            "type": "scatterpolar"
           }
          ],
          "scatterpolargl": [
           {
            "marker": {
             "colorbar": {
              "outlinewidth": 0,
              "ticks": ""
             }
            },
            "type": "scatterpolargl"
           }
          ],
          "scatterternary": [
           {
            "marker": {
             "colorbar": {
              "outlinewidth": 0,
              "ticks": ""
             }
            },
            "type": "scatterternary"
           }
          ],
          "surface": [
           {
            "colorbar": {
             "outlinewidth": 0,
             "ticks": ""
            },
            "colorscale": [
             [
              0,
              "#0d0887"
             ],
             [
              0.1111111111111111,
              "#46039f"
             ],
             [
              0.2222222222222222,
              "#7201a8"
             ],
             [
              0.3333333333333333,
              "#9c179e"
             ],
             [
              0.4444444444444444,
              "#bd3786"
             ],
             [
              0.5555555555555556,
              "#d8576b"
             ],
             [
              0.6666666666666666,
              "#ed7953"
             ],
             [
              0.7777777777777778,
              "#fb9f3a"
             ],
             [
              0.8888888888888888,
              "#fdca26"
             ],
             [
              1,
              "#f0f921"
             ]
            ],
            "type": "surface"
           }
          ],
          "table": [
           {
            "cells": {
             "fill": {
              "color": "#EBF0F8"
             },
             "line": {
              "color": "white"
             }
            },
            "header": {
             "fill": {
              "color": "#C8D4E3"
             },
             "line": {
              "color": "white"
             }
            },
            "type": "table"
           }
          ]
         },
         "layout": {
          "annotationdefaults": {
           "arrowcolor": "#2a3f5f",
           "arrowhead": 0,
           "arrowwidth": 1
          },
          "autotypenumbers": "strict",
          "coloraxis": {
           "colorbar": {
            "outlinewidth": 0,
            "ticks": ""
           }
          },
          "colorscale": {
           "diverging": [
            [
             0,
             "#8e0152"
            ],
            [
             0.1,
             "#c51b7d"
            ],
            [
             0.2,
             "#de77ae"
            ],
            [
             0.3,
             "#f1b6da"
            ],
            [
             0.4,
             "#fde0ef"
            ],
            [
             0.5,
             "#f7f7f7"
            ],
            [
             0.6,
             "#e6f5d0"
            ],
            [
             0.7,
             "#b8e186"
            ],
            [
             0.8,
             "#7fbc41"
            ],
            [
             0.9,
             "#4d9221"
            ],
            [
             1,
             "#276419"
            ]
           ],
           "sequential": [
            [
             0,
             "#0d0887"
            ],
            [
             0.1111111111111111,
             "#46039f"
            ],
            [
             0.2222222222222222,
             "#7201a8"
            ],
            [
             0.3333333333333333,
             "#9c179e"
            ],
            [
             0.4444444444444444,
             "#bd3786"
            ],
            [
             0.5555555555555556,
             "#d8576b"
            ],
            [
             0.6666666666666666,
             "#ed7953"
            ],
            [
             0.7777777777777778,
             "#fb9f3a"
            ],
            [
             0.8888888888888888,
             "#fdca26"
            ],
            [
             1,
             "#f0f921"
            ]
           ],
           "sequentialminus": [
            [
             0,
             "#0d0887"
            ],
            [
             0.1111111111111111,
             "#46039f"
            ],
            [
             0.2222222222222222,
             "#7201a8"
            ],
            [
             0.3333333333333333,
             "#9c179e"
            ],
            [
             0.4444444444444444,
             "#bd3786"
            ],
            [
             0.5555555555555556,
             "#d8576b"
            ],
            [
             0.6666666666666666,
             "#ed7953"
            ],
            [
             0.7777777777777778,
             "#fb9f3a"
            ],
            [
             0.8888888888888888,
             "#fdca26"
            ],
            [
             1,
             "#f0f921"
            ]
           ]
          },
          "colorway": [
           "#636efa",
           "#EF553B",
           "#00cc96",
           "#ab63fa",
           "#FFA15A",
           "#19d3f3",
           "#FF6692",
           "#B6E880",
           "#FF97FF",
           "#FECB52"
          ],
          "font": {
           "color": "#2a3f5f"
          },
          "geo": {
           "bgcolor": "white",
           "lakecolor": "white",
           "landcolor": "#E5ECF6",
           "showlakes": true,
           "showland": true,
           "subunitcolor": "white"
          },
          "hoverlabel": {
           "align": "left"
          },
          "hovermode": "closest",
          "mapbox": {
           "style": "light"
          },
          "paper_bgcolor": "white",
          "plot_bgcolor": "#E5ECF6",
          "polar": {
           "angularaxis": {
            "gridcolor": "white",
            "linecolor": "white",
            "ticks": ""
           },
           "bgcolor": "#E5ECF6",
           "radialaxis": {
            "gridcolor": "white",
            "linecolor": "white",
            "ticks": ""
           }
          },
          "scene": {
           "xaxis": {
            "backgroundcolor": "#E5ECF6",
            "gridcolor": "white",
            "gridwidth": 2,
            "linecolor": "white",
            "showbackground": true,
            "ticks": "",
            "zerolinecolor": "white"
           },
           "yaxis": {
            "backgroundcolor": "#E5ECF6",
            "gridcolor": "white",
            "gridwidth": 2,
            "linecolor": "white",
            "showbackground": true,
            "ticks": "",
            "zerolinecolor": "white"
           },
           "zaxis": {
            "backgroundcolor": "#E5ECF6",
            "gridcolor": "white",
            "gridwidth": 2,
            "linecolor": "white",
            "showbackground": true,
            "ticks": "",
            "zerolinecolor": "white"
           }
          },
          "shapedefaults": {
           "line": {
            "color": "#2a3f5f"
           }
          },
          "ternary": {
           "aaxis": {
            "gridcolor": "white",
            "linecolor": "white",
            "ticks": ""
           },
           "baxis": {
            "gridcolor": "white",
            "linecolor": "white",
            "ticks": ""
           },
           "bgcolor": "#E5ECF6",
           "caxis": {
            "gridcolor": "white",
            "linecolor": "white",
            "ticks": ""
           }
          },
          "title": {
           "x": 0.05
          },
          "xaxis": {
           "automargin": true,
           "gridcolor": "white",
           "linecolor": "white",
           "ticks": "",
           "title": {
            "standoff": 15
           },
           "zerolinecolor": "white",
           "zerolinewidth": 2
          },
          "yaxis": {
           "automargin": true,
           "gridcolor": "white",
           "linecolor": "white",
           "ticks": "",
           "title": {
            "standoff": 15
           },
           "zerolinecolor": "white",
           "zerolinewidth": 2
          }
         }
        },
        "updatemenus": [
         {
          "buttons": [
           {
            "args": [
             null,
             {
              "frame": {
               "duration": 500,
               "redraw": true
              },
              "fromcurrent": true,
              "mode": "immediate",
              "transition": {
               "duration": 500,
               "easing": "linear"
              }
             }
            ],
            "label": "&#9654;",
            "method": "animate"
           },
           {
            "args": [
             [
              null
             ],
             {
              "frame": {
               "duration": 0,
               "redraw": true
              },
              "fromcurrent": true,
              "mode": "immediate",
              "transition": {
               "duration": 0,
               "easing": "linear"
              }
             }
            ],
            "label": "&#9724;",
            "method": "animate"
           }
          ],
          "direction": "left",
          "pad": {
           "r": 10,
           "t": 70
          },
          "showactive": false,
          "type": "buttons",
          "x": 0.1,
          "xanchor": "right",
          "y": 0,
          "yanchor": "top"
         }
        ],
        "xaxis": {
         "anchor": "y",
         "categoryarray": [
          "Burundi",
          "Djibouti",
          "Eritrea",
          "Ethiopia",
          "Kenya",
          "Rwanda",
          "Somalia",
          "South Sudan",
          "Sudan",
          "Tanzania",
          "Uganda"
         ],
         "categoryorder": "array",
         "domain": [
          0,
          1
         ],
         "title": {
          "text": "Country"
         }
        },
        "yaxis": {
         "anchor": "x",
         "domain": [
          0,
          1
         ],
         "title": {
          "text": "Age dependency ratio (% of working-age population)"
         }
        }
       }
      }
     },
     "metadata": {},
     "output_type": "display_data"
    }
   ],
   "source": [
    "fig=px.bar(east_africa_countries_data,y='Age dependency ratio (% of working-age population)',x='Country',color='Country',animation_frame='Year',animation_group='Country')\n",
    "fig.show()"
   ]
  },
  {
   "cell_type": "code",
   "execution_count": 39,
   "metadata": {},
   "outputs": [
    {
     "data": {
      "application/vnd.plotly.v1+json": {
       "config": {
        "plotlyServerURL": "https://plot.ly"
       },
       "data": [],
       "frames": [
        {
         "data": [
          {
           "marker": {
            "size": [],
            "sizemode": "area",
            "sizeref": 200000
           },
           "mode": "markers",
           "name": "W",
           "text": [],
           "type": "scatter",
           "x": [],
           "y": []
          },
          {
           "marker": {
            "size": [],
            "sizemode": "area",
            "sizeref": 200000
           },
           "mode": "markers",
           "name": "o",
           "text": [],
           "type": "scatter",
           "x": [],
           "y": []
          },
          {
           "marker": {
            "size": [],
            "sizemode": "area",
            "sizeref": 200000
           },
           "mode": "markers",
           "name": "r",
           "text": [],
           "type": "scatter",
           "x": [],
           "y": []
          },
          {
           "marker": {
            "size": [],
            "sizemode": "area",
            "sizeref": 200000
           },
           "mode": "markers",
           "name": "l",
           "text": [],
           "type": "scatter",
           "x": [],
           "y": []
          },
          {
           "marker": {
            "size": [],
            "sizemode": "area",
            "sizeref": 200000
           },
           "mode": "markers",
           "name": "d",
           "text": [],
           "type": "scatter",
           "x": [],
           "y": []
          }
         ],
         "name": "1960"
        },
        {
         "data": [
          {
           "marker": {
            "size": [],
            "sizemode": "area",
            "sizeref": 200000
           },
           "mode": "markers",
           "name": "W",
           "text": [],
           "type": "scatter",
           "x": [],
           "y": []
          },
          {
           "marker": {
            "size": [],
            "sizemode": "area",
            "sizeref": 200000
           },
           "mode": "markers",
           "name": "o",
           "text": [],
           "type": "scatter",
           "x": [],
           "y": []
          },
          {
           "marker": {
            "size": [],
            "sizemode": "area",
            "sizeref": 200000
           },
           "mode": "markers",
           "name": "r",
           "text": [],
           "type": "scatter",
           "x": [],
           "y": []
          },
          {
           "marker": {
            "size": [],
            "sizemode": "area",
            "sizeref": 200000
           },
           "mode": "markers",
           "name": "l",
           "text": [],
           "type": "scatter",
           "x": [],
           "y": []
          },
          {
           "marker": {
            "size": [],
            "sizemode": "area",
            "sizeref": 200000
           },
           "mode": "markers",
           "name": "d",
           "text": [],
           "type": "scatter",
           "x": [],
           "y": []
          }
         ],
         "name": "1961"
        },
        {
         "data": [
          {
           "marker": {
            "size": [],
            "sizemode": "area",
            "sizeref": 200000
           },
           "mode": "markers",
           "name": "W",
           "text": [],
           "type": "scatter",
           "x": [],
           "y": []
          },
          {
           "marker": {
            "size": [],
            "sizemode": "area",
            "sizeref": 200000
           },
           "mode": "markers",
           "name": "o",
           "text": [],
           "type": "scatter",
           "x": [],
           "y": []
          },
          {
           "marker": {
            "size": [],
            "sizemode": "area",
            "sizeref": 200000
           },
           "mode": "markers",
           "name": "r",
           "text": [],
           "type": "scatter",
           "x": [],
           "y": []
          },
          {
           "marker": {
            "size": [],
            "sizemode": "area",
            "sizeref": 200000
           },
           "mode": "markers",
           "name": "l",
           "text": [],
           "type": "scatter",
           "x": [],
           "y": []
          },
          {
           "marker": {
            "size": [],
            "sizemode": "area",
            "sizeref": 200000
           },
           "mode": "markers",
           "name": "d",
           "text": [],
           "type": "scatter",
           "x": [],
           "y": []
          }
         ],
         "name": "1962"
        },
        {
         "data": [
          {
           "marker": {
            "size": [],
            "sizemode": "area",
            "sizeref": 200000
           },
           "mode": "markers",
           "name": "W",
           "text": [],
           "type": "scatter",
           "x": [],
           "y": []
          },
          {
           "marker": {
            "size": [],
            "sizemode": "area",
            "sizeref": 200000
           },
           "mode": "markers",
           "name": "o",
           "text": [],
           "type": "scatter",
           "x": [],
           "y": []
          },
          {
           "marker": {
            "size": [],
            "sizemode": "area",
            "sizeref": 200000
           },
           "mode": "markers",
           "name": "r",
           "text": [],
           "type": "scatter",
           "x": [],
           "y": []
          },
          {
           "marker": {
            "size": [],
            "sizemode": "area",
            "sizeref": 200000
           },
           "mode": "markers",
           "name": "l",
           "text": [],
           "type": "scatter",
           "x": [],
           "y": []
          },
          {
           "marker": {
            "size": [],
            "sizemode": "area",
            "sizeref": 200000
           },
           "mode": "markers",
           "name": "d",
           "text": [],
           "type": "scatter",
           "x": [],
           "y": []
          }
         ],
         "name": "1963"
        },
        {
         "data": [
          {
           "marker": {
            "size": [],
            "sizemode": "area",
            "sizeref": 200000
           },
           "mode": "markers",
           "name": "W",
           "text": [],
           "type": "scatter",
           "x": [],
           "y": []
          },
          {
           "marker": {
            "size": [],
            "sizemode": "area",
            "sizeref": 200000
           },
           "mode": "markers",
           "name": "o",
           "text": [],
           "type": "scatter",
           "x": [],
           "y": []
          },
          {
           "marker": {
            "size": [],
            "sizemode": "area",
            "sizeref": 200000
           },
           "mode": "markers",
           "name": "r",
           "text": [],
           "type": "scatter",
           "x": [],
           "y": []
          },
          {
           "marker": {
            "size": [],
            "sizemode": "area",
            "sizeref": 200000
           },
           "mode": "markers",
           "name": "l",
           "text": [],
           "type": "scatter",
           "x": [],
           "y": []
          },
          {
           "marker": {
            "size": [],
            "sizemode": "area",
            "sizeref": 200000
           },
           "mode": "markers",
           "name": "d",
           "text": [],
           "type": "scatter",
           "x": [],
           "y": []
          }
         ],
         "name": "1964"
        },
        {
         "data": [
          {
           "marker": {
            "size": [],
            "sizemode": "area",
            "sizeref": 200000
           },
           "mode": "markers",
           "name": "W",
           "text": [],
           "type": "scatter",
           "x": [],
           "y": []
          },
          {
           "marker": {
            "size": [],
            "sizemode": "area",
            "sizeref": 200000
           },
           "mode": "markers",
           "name": "o",
           "text": [],
           "type": "scatter",
           "x": [],
           "y": []
          },
          {
           "marker": {
            "size": [],
            "sizemode": "area",
            "sizeref": 200000
           },
           "mode": "markers",
           "name": "r",
           "text": [],
           "type": "scatter",
           "x": [],
           "y": []
          },
          {
           "marker": {
            "size": [],
            "sizemode": "area",
            "sizeref": 200000
           },
           "mode": "markers",
           "name": "l",
           "text": [],
           "type": "scatter",
           "x": [],
           "y": []
          },
          {
           "marker": {
            "size": [],
            "sizemode": "area",
            "sizeref": 200000
           },
           "mode": "markers",
           "name": "d",
           "text": [],
           "type": "scatter",
           "x": [],
           "y": []
          }
         ],
         "name": "1965"
        },
        {
         "data": [
          {
           "marker": {
            "size": [],
            "sizemode": "area",
            "sizeref": 200000
           },
           "mode": "markers",
           "name": "W",
           "text": [],
           "type": "scatter",
           "x": [],
           "y": []
          },
          {
           "marker": {
            "size": [],
            "sizemode": "area",
            "sizeref": 200000
           },
           "mode": "markers",
           "name": "o",
           "text": [],
           "type": "scatter",
           "x": [],
           "y": []
          },
          {
           "marker": {
            "size": [],
            "sizemode": "area",
            "sizeref": 200000
           },
           "mode": "markers",
           "name": "r",
           "text": [],
           "type": "scatter",
           "x": [],
           "y": []
          },
          {
           "marker": {
            "size": [],
            "sizemode": "area",
            "sizeref": 200000
           },
           "mode": "markers",
           "name": "l",
           "text": [],
           "type": "scatter",
           "x": [],
           "y": []
          },
          {
           "marker": {
            "size": [],
            "sizemode": "area",
            "sizeref": 200000
           },
           "mode": "markers",
           "name": "d",
           "text": [],
           "type": "scatter",
           "x": [],
           "y": []
          }
         ],
         "name": "1966"
        },
        {
         "data": [
          {
           "marker": {
            "size": [],
            "sizemode": "area",
            "sizeref": 200000
           },
           "mode": "markers",
           "name": "W",
           "text": [],
           "type": "scatter",
           "x": [],
           "y": []
          },
          {
           "marker": {
            "size": [],
            "sizemode": "area",
            "sizeref": 200000
           },
           "mode": "markers",
           "name": "o",
           "text": [],
           "type": "scatter",
           "x": [],
           "y": []
          },
          {
           "marker": {
            "size": [],
            "sizemode": "area",
            "sizeref": 200000
           },
           "mode": "markers",
           "name": "r",
           "text": [],
           "type": "scatter",
           "x": [],
           "y": []
          },
          {
           "marker": {
            "size": [],
            "sizemode": "area",
            "sizeref": 200000
           },
           "mode": "markers",
           "name": "l",
           "text": [],
           "type": "scatter",
           "x": [],
           "y": []
          },
          {
           "marker": {
            "size": [],
            "sizemode": "area",
            "sizeref": 200000
           },
           "mode": "markers",
           "name": "d",
           "text": [],
           "type": "scatter",
           "x": [],
           "y": []
          }
         ],
         "name": "1967"
        },
        {
         "data": [
          {
           "marker": {
            "size": [],
            "sizemode": "area",
            "sizeref": 200000
           },
           "mode": "markers",
           "name": "W",
           "text": [],
           "type": "scatter",
           "x": [],
           "y": []
          },
          {
           "marker": {
            "size": [],
            "sizemode": "area",
            "sizeref": 200000
           },
           "mode": "markers",
           "name": "o",
           "text": [],
           "type": "scatter",
           "x": [],
           "y": []
          },
          {
           "marker": {
            "size": [],
            "sizemode": "area",
            "sizeref": 200000
           },
           "mode": "markers",
           "name": "r",
           "text": [],
           "type": "scatter",
           "x": [],
           "y": []
          },
          {
           "marker": {
            "size": [],
            "sizemode": "area",
            "sizeref": 200000
           },
           "mode": "markers",
           "name": "l",
           "text": [],
           "type": "scatter",
           "x": [],
           "y": []
          },
          {
           "marker": {
            "size": [],
            "sizemode": "area",
            "sizeref": 200000
           },
           "mode": "markers",
           "name": "d",
           "text": [],
           "type": "scatter",
           "x": [],
           "y": []
          }
         ],
         "name": "1968"
        },
        {
         "data": [
          {
           "marker": {
            "size": [],
            "sizemode": "area",
            "sizeref": 200000
           },
           "mode": "markers",
           "name": "W",
           "text": [],
           "type": "scatter",
           "x": [],
           "y": []
          },
          {
           "marker": {
            "size": [],
            "sizemode": "area",
            "sizeref": 200000
           },
           "mode": "markers",
           "name": "o",
           "text": [],
           "type": "scatter",
           "x": [],
           "y": []
          },
          {
           "marker": {
            "size": [],
            "sizemode": "area",
            "sizeref": 200000
           },
           "mode": "markers",
           "name": "r",
           "text": [],
           "type": "scatter",
           "x": [],
           "y": []
          },
          {
           "marker": {
            "size": [],
            "sizemode": "area",
            "sizeref": 200000
           },
           "mode": "markers",
           "name": "l",
           "text": [],
           "type": "scatter",
           "x": [],
           "y": []
          },
          {
           "marker": {
            "size": [],
            "sizemode": "area",
            "sizeref": 200000
           },
           "mode": "markers",
           "name": "d",
           "text": [],
           "type": "scatter",
           "x": [],
           "y": []
          }
         ],
         "name": "1969"
        },
        {
         "data": [
          {
           "marker": {
            "size": [],
            "sizemode": "area",
            "sizeref": 200000
           },
           "mode": "markers",
           "name": "W",
           "text": [],
           "type": "scatter",
           "x": [],
           "y": []
          },
          {
           "marker": {
            "size": [],
            "sizemode": "area",
            "sizeref": 200000
           },
           "mode": "markers",
           "name": "o",
           "text": [],
           "type": "scatter",
           "x": [],
           "y": []
          },
          {
           "marker": {
            "size": [],
            "sizemode": "area",
            "sizeref": 200000
           },
           "mode": "markers",
           "name": "r",
           "text": [],
           "type": "scatter",
           "x": [],
           "y": []
          },
          {
           "marker": {
            "size": [],
            "sizemode": "area",
            "sizeref": 200000
           },
           "mode": "markers",
           "name": "l",
           "text": [],
           "type": "scatter",
           "x": [],
           "y": []
          },
          {
           "marker": {
            "size": [],
            "sizemode": "area",
            "sizeref": 200000
           },
           "mode": "markers",
           "name": "d",
           "text": [],
           "type": "scatter",
           "x": [],
           "y": []
          }
         ],
         "name": "1970"
        },
        {
         "data": [
          {
           "marker": {
            "size": [],
            "sizemode": "area",
            "sizeref": 200000
           },
           "mode": "markers",
           "name": "W",
           "text": [],
           "type": "scatter",
           "x": [],
           "y": []
          },
          {
           "marker": {
            "size": [],
            "sizemode": "area",
            "sizeref": 200000
           },
           "mode": "markers",
           "name": "o",
           "text": [],
           "type": "scatter",
           "x": [],
           "y": []
          },
          {
           "marker": {
            "size": [],
            "sizemode": "area",
            "sizeref": 200000
           },
           "mode": "markers",
           "name": "r",
           "text": [],
           "type": "scatter",
           "x": [],
           "y": []
          },
          {
           "marker": {
            "size": [],
            "sizemode": "area",
            "sizeref": 200000
           },
           "mode": "markers",
           "name": "l",
           "text": [],
           "type": "scatter",
           "x": [],
           "y": []
          },
          {
           "marker": {
            "size": [],
            "sizemode": "area",
            "sizeref": 200000
           },
           "mode": "markers",
           "name": "d",
           "text": [],
           "type": "scatter",
           "x": [],
           "y": []
          }
         ],
         "name": "1971"
        },
        {
         "data": [
          {
           "marker": {
            "size": [],
            "sizemode": "area",
            "sizeref": 200000
           },
           "mode": "markers",
           "name": "W",
           "text": [],
           "type": "scatter",
           "x": [],
           "y": []
          },
          {
           "marker": {
            "size": [],
            "sizemode": "area",
            "sizeref": 200000
           },
           "mode": "markers",
           "name": "o",
           "text": [],
           "type": "scatter",
           "x": [],
           "y": []
          },
          {
           "marker": {
            "size": [],
            "sizemode": "area",
            "sizeref": 200000
           },
           "mode": "markers",
           "name": "r",
           "text": [],
           "type": "scatter",
           "x": [],
           "y": []
          },
          {
           "marker": {
            "size": [],
            "sizemode": "area",
            "sizeref": 200000
           },
           "mode": "markers",
           "name": "l",
           "text": [],
           "type": "scatter",
           "x": [],
           "y": []
          },
          {
           "marker": {
            "size": [],
            "sizemode": "area",
            "sizeref": 200000
           },
           "mode": "markers",
           "name": "d",
           "text": [],
           "type": "scatter",
           "x": [],
           "y": []
          }
         ],
         "name": "1972"
        },
        {
         "data": [
          {
           "marker": {
            "size": [],
            "sizemode": "area",
            "sizeref": 200000
           },
           "mode": "markers",
           "name": "W",
           "text": [],
           "type": "scatter",
           "x": [],
           "y": []
          },
          {
           "marker": {
            "size": [],
            "sizemode": "area",
            "sizeref": 200000
           },
           "mode": "markers",
           "name": "o",
           "text": [],
           "type": "scatter",
           "x": [],
           "y": []
          },
          {
           "marker": {
            "size": [],
            "sizemode": "area",
            "sizeref": 200000
           },
           "mode": "markers",
           "name": "r",
           "text": [],
           "type": "scatter",
           "x": [],
           "y": []
          },
          {
           "marker": {
            "size": [],
            "sizemode": "area",
            "sizeref": 200000
           },
           "mode": "markers",
           "name": "l",
           "text": [],
           "type": "scatter",
           "x": [],
           "y": []
          },
          {
           "marker": {
            "size": [],
            "sizemode": "area",
            "sizeref": 200000
           },
           "mode": "markers",
           "name": "d",
           "text": [],
           "type": "scatter",
           "x": [],
           "y": []
          }
         ],
         "name": "1973"
        },
        {
         "data": [
          {
           "marker": {
            "size": [],
            "sizemode": "area",
            "sizeref": 200000
           },
           "mode": "markers",
           "name": "W",
           "text": [],
           "type": "scatter",
           "x": [],
           "y": []
          },
          {
           "marker": {
            "size": [],
            "sizemode": "area",
            "sizeref": 200000
           },
           "mode": "markers",
           "name": "o",
           "text": [],
           "type": "scatter",
           "x": [],
           "y": []
          },
          {
           "marker": {
            "size": [],
            "sizemode": "area",
            "sizeref": 200000
           },
           "mode": "markers",
           "name": "r",
           "text": [],
           "type": "scatter",
           "x": [],
           "y": []
          },
          {
           "marker": {
            "size": [],
            "sizemode": "area",
            "sizeref": 200000
           },
           "mode": "markers",
           "name": "l",
           "text": [],
           "type": "scatter",
           "x": [],
           "y": []
          },
          {
           "marker": {
            "size": [],
            "sizemode": "area",
            "sizeref": 200000
           },
           "mode": "markers",
           "name": "d",
           "text": [],
           "type": "scatter",
           "x": [],
           "y": []
          }
         ],
         "name": "1974"
        },
        {
         "data": [
          {
           "marker": {
            "size": [],
            "sizemode": "area",
            "sizeref": 200000
           },
           "mode": "markers",
           "name": "W",
           "text": [],
           "type": "scatter",
           "x": [],
           "y": []
          },
          {
           "marker": {
            "size": [],
            "sizemode": "area",
            "sizeref": 200000
           },
           "mode": "markers",
           "name": "o",
           "text": [],
           "type": "scatter",
           "x": [],
           "y": []
          },
          {
           "marker": {
            "size": [],
            "sizemode": "area",
            "sizeref": 200000
           },
           "mode": "markers",
           "name": "r",
           "text": [],
           "type": "scatter",
           "x": [],
           "y": []
          },
          {
           "marker": {
            "size": [],
            "sizemode": "area",
            "sizeref": 200000
           },
           "mode": "markers",
           "name": "l",
           "text": [],
           "type": "scatter",
           "x": [],
           "y": []
          },
          {
           "marker": {
            "size": [],
            "sizemode": "area",
            "sizeref": 200000
           },
           "mode": "markers",
           "name": "d",
           "text": [],
           "type": "scatter",
           "x": [],
           "y": []
          }
         ],
         "name": "1975"
        },
        {
         "data": [
          {
           "marker": {
            "size": [],
            "sizemode": "area",
            "sizeref": 200000
           },
           "mode": "markers",
           "name": "W",
           "text": [],
           "type": "scatter",
           "x": [],
           "y": []
          },
          {
           "marker": {
            "size": [],
            "sizemode": "area",
            "sizeref": 200000
           },
           "mode": "markers",
           "name": "o",
           "text": [],
           "type": "scatter",
           "x": [],
           "y": []
          },
          {
           "marker": {
            "size": [],
            "sizemode": "area",
            "sizeref": 200000
           },
           "mode": "markers",
           "name": "r",
           "text": [],
           "type": "scatter",
           "x": [],
           "y": []
          },
          {
           "marker": {
            "size": [],
            "sizemode": "area",
            "sizeref": 200000
           },
           "mode": "markers",
           "name": "l",
           "text": [],
           "type": "scatter",
           "x": [],
           "y": []
          },
          {
           "marker": {
            "size": [],
            "sizemode": "area",
            "sizeref": 200000
           },
           "mode": "markers",
           "name": "d",
           "text": [],
           "type": "scatter",
           "x": [],
           "y": []
          }
         ],
         "name": "1976"
        },
        {
         "data": [
          {
           "marker": {
            "size": [],
            "sizemode": "area",
            "sizeref": 200000
           },
           "mode": "markers",
           "name": "W",
           "text": [],
           "type": "scatter",
           "x": [],
           "y": []
          },
          {
           "marker": {
            "size": [],
            "sizemode": "area",
            "sizeref": 200000
           },
           "mode": "markers",
           "name": "o",
           "text": [],
           "type": "scatter",
           "x": [],
           "y": []
          },
          {
           "marker": {
            "size": [],
            "sizemode": "area",
            "sizeref": 200000
           },
           "mode": "markers",
           "name": "r",
           "text": [],
           "type": "scatter",
           "x": [],
           "y": []
          },
          {
           "marker": {
            "size": [],
            "sizemode": "area",
            "sizeref": 200000
           },
           "mode": "markers",
           "name": "l",
           "text": [],
           "type": "scatter",
           "x": [],
           "y": []
          },
          {
           "marker": {
            "size": [],
            "sizemode": "area",
            "sizeref": 200000
           },
           "mode": "markers",
           "name": "d",
           "text": [],
           "type": "scatter",
           "x": [],
           "y": []
          }
         ],
         "name": "1977"
        },
        {
         "data": [
          {
           "marker": {
            "size": [],
            "sizemode": "area",
            "sizeref": 200000
           },
           "mode": "markers",
           "name": "W",
           "text": [],
           "type": "scatter",
           "x": [],
           "y": []
          },
          {
           "marker": {
            "size": [],
            "sizemode": "area",
            "sizeref": 200000
           },
           "mode": "markers",
           "name": "o",
           "text": [],
           "type": "scatter",
           "x": [],
           "y": []
          },
          {
           "marker": {
            "size": [],
            "sizemode": "area",
            "sizeref": 200000
           },
           "mode": "markers",
           "name": "r",
           "text": [],
           "type": "scatter",
           "x": [],
           "y": []
          },
          {
           "marker": {
            "size": [],
            "sizemode": "area",
            "sizeref": 200000
           },
           "mode": "markers",
           "name": "l",
           "text": [],
           "type": "scatter",
           "x": [],
           "y": []
          },
          {
           "marker": {
            "size": [],
            "sizemode": "area",
            "sizeref": 200000
           },
           "mode": "markers",
           "name": "d",
           "text": [],
           "type": "scatter",
           "x": [],
           "y": []
          }
         ],
         "name": "1978"
        },
        {
         "data": [
          {
           "marker": {
            "size": [],
            "sizemode": "area",
            "sizeref": 200000
           },
           "mode": "markers",
           "name": "W",
           "text": [],
           "type": "scatter",
           "x": [],
           "y": []
          },
          {
           "marker": {
            "size": [],
            "sizemode": "area",
            "sizeref": 200000
           },
           "mode": "markers",
           "name": "o",
           "text": [],
           "type": "scatter",
           "x": [],
           "y": []
          },
          {
           "marker": {
            "size": [],
            "sizemode": "area",
            "sizeref": 200000
           },
           "mode": "markers",
           "name": "r",
           "text": [],
           "type": "scatter",
           "x": [],
           "y": []
          },
          {
           "marker": {
            "size": [],
            "sizemode": "area",
            "sizeref": 200000
           },
           "mode": "markers",
           "name": "l",
           "text": [],
           "type": "scatter",
           "x": [],
           "y": []
          },
          {
           "marker": {
            "size": [],
            "sizemode": "area",
            "sizeref": 200000
           },
           "mode": "markers",
           "name": "d",
           "text": [],
           "type": "scatter",
           "x": [],
           "y": []
          }
         ],
         "name": "1979"
        },
        {
         "data": [
          {
           "marker": {
            "size": [],
            "sizemode": "area",
            "sizeref": 200000
           },
           "mode": "markers",
           "name": "W",
           "text": [],
           "type": "scatter",
           "x": [],
           "y": []
          },
          {
           "marker": {
            "size": [],
            "sizemode": "area",
            "sizeref": 200000
           },
           "mode": "markers",
           "name": "o",
           "text": [],
           "type": "scatter",
           "x": [],
           "y": []
          },
          {
           "marker": {
            "size": [],
            "sizemode": "area",
            "sizeref": 200000
           },
           "mode": "markers",
           "name": "r",
           "text": [],
           "type": "scatter",
           "x": [],
           "y": []
          },
          {
           "marker": {
            "size": [],
            "sizemode": "area",
            "sizeref": 200000
           },
           "mode": "markers",
           "name": "l",
           "text": [],
           "type": "scatter",
           "x": [],
           "y": []
          },
          {
           "marker": {
            "size": [],
            "sizemode": "area",
            "sizeref": 200000
           },
           "mode": "markers",
           "name": "d",
           "text": [],
           "type": "scatter",
           "x": [],
           "y": []
          }
         ],
         "name": "1980"
        },
        {
         "data": [
          {
           "marker": {
            "size": [],
            "sizemode": "area",
            "sizeref": 200000
           },
           "mode": "markers",
           "name": "W",
           "text": [],
           "type": "scatter",
           "x": [],
           "y": []
          },
          {
           "marker": {
            "size": [],
            "sizemode": "area",
            "sizeref": 200000
           },
           "mode": "markers",
           "name": "o",
           "text": [],
           "type": "scatter",
           "x": [],
           "y": []
          },
          {
           "marker": {
            "size": [],
            "sizemode": "area",
            "sizeref": 200000
           },
           "mode": "markers",
           "name": "r",
           "text": [],
           "type": "scatter",
           "x": [],
           "y": []
          },
          {
           "marker": {
            "size": [],
            "sizemode": "area",
            "sizeref": 200000
           },
           "mode": "markers",
           "name": "l",
           "text": [],
           "type": "scatter",
           "x": [],
           "y": []
          },
          {
           "marker": {
            "size": [],
            "sizemode": "area",
            "sizeref": 200000
           },
           "mode": "markers",
           "name": "d",
           "text": [],
           "type": "scatter",
           "x": [],
           "y": []
          }
         ],
         "name": "1981"
        },
        {
         "data": [
          {
           "marker": {
            "size": [],
            "sizemode": "area",
            "sizeref": 200000
           },
           "mode": "markers",
           "name": "W",
           "text": [],
           "type": "scatter",
           "x": [],
           "y": []
          },
          {
           "marker": {
            "size": [],
            "sizemode": "area",
            "sizeref": 200000
           },
           "mode": "markers",
           "name": "o",
           "text": [],
           "type": "scatter",
           "x": [],
           "y": []
          },
          {
           "marker": {
            "size": [],
            "sizemode": "area",
            "sizeref": 200000
           },
           "mode": "markers",
           "name": "r",
           "text": [],
           "type": "scatter",
           "x": [],
           "y": []
          },
          {
           "marker": {
            "size": [],
            "sizemode": "area",
            "sizeref": 200000
           },
           "mode": "markers",
           "name": "l",
           "text": [],
           "type": "scatter",
           "x": [],
           "y": []
          },
          {
           "marker": {
            "size": [],
            "sizemode": "area",
            "sizeref": 200000
           },
           "mode": "markers",
           "name": "d",
           "text": [],
           "type": "scatter",
           "x": [],
           "y": []
          }
         ],
         "name": "1982"
        },
        {
         "data": [
          {
           "marker": {
            "size": [],
            "sizemode": "area",
            "sizeref": 200000
           },
           "mode": "markers",
           "name": "W",
           "text": [],
           "type": "scatter",
           "x": [],
           "y": []
          },
          {
           "marker": {
            "size": [],
            "sizemode": "area",
            "sizeref": 200000
           },
           "mode": "markers",
           "name": "o",
           "text": [],
           "type": "scatter",
           "x": [],
           "y": []
          },
          {
           "marker": {
            "size": [],
            "sizemode": "area",
            "sizeref": 200000
           },
           "mode": "markers",
           "name": "r",
           "text": [],
           "type": "scatter",
           "x": [],
           "y": []
          },
          {
           "marker": {
            "size": [],
            "sizemode": "area",
            "sizeref": 200000
           },
           "mode": "markers",
           "name": "l",
           "text": [],
           "type": "scatter",
           "x": [],
           "y": []
          },
          {
           "marker": {
            "size": [],
            "sizemode": "area",
            "sizeref": 200000
           },
           "mode": "markers",
           "name": "d",
           "text": [],
           "type": "scatter",
           "x": [],
           "y": []
          }
         ],
         "name": "1983"
        },
        {
         "data": [
          {
           "marker": {
            "size": [],
            "sizemode": "area",
            "sizeref": 200000
           },
           "mode": "markers",
           "name": "W",
           "text": [],
           "type": "scatter",
           "x": [],
           "y": []
          },
          {
           "marker": {
            "size": [],
            "sizemode": "area",
            "sizeref": 200000
           },
           "mode": "markers",
           "name": "o",
           "text": [],
           "type": "scatter",
           "x": [],
           "y": []
          },
          {
           "marker": {
            "size": [],
            "sizemode": "area",
            "sizeref": 200000
           },
           "mode": "markers",
           "name": "r",
           "text": [],
           "type": "scatter",
           "x": [],
           "y": []
          },
          {
           "marker": {
            "size": [],
            "sizemode": "area",
            "sizeref": 200000
           },
           "mode": "markers",
           "name": "l",
           "text": [],
           "type": "scatter",
           "x": [],
           "y": []
          },
          {
           "marker": {
            "size": [],
            "sizemode": "area",
            "sizeref": 200000
           },
           "mode": "markers",
           "name": "d",
           "text": [],
           "type": "scatter",
           "x": [],
           "y": []
          }
         ],
         "name": "1984"
        },
        {
         "data": [
          {
           "marker": {
            "size": [],
            "sizemode": "area",
            "sizeref": 200000
           },
           "mode": "markers",
           "name": "W",
           "text": [],
           "type": "scatter",
           "x": [],
           "y": []
          },
          {
           "marker": {
            "size": [],
            "sizemode": "area",
            "sizeref": 200000
           },
           "mode": "markers",
           "name": "o",
           "text": [],
           "type": "scatter",
           "x": [],
           "y": []
          },
          {
           "marker": {
            "size": [],
            "sizemode": "area",
            "sizeref": 200000
           },
           "mode": "markers",
           "name": "r",
           "text": [],
           "type": "scatter",
           "x": [],
           "y": []
          },
          {
           "marker": {
            "size": [],
            "sizemode": "area",
            "sizeref": 200000
           },
           "mode": "markers",
           "name": "l",
           "text": [],
           "type": "scatter",
           "x": [],
           "y": []
          },
          {
           "marker": {
            "size": [],
            "sizemode": "area",
            "sizeref": 200000
           },
           "mode": "markers",
           "name": "d",
           "text": [],
           "type": "scatter",
           "x": [],
           "y": []
          }
         ],
         "name": "1985"
        },
        {
         "data": [
          {
           "marker": {
            "size": [],
            "sizemode": "area",
            "sizeref": 200000
           },
           "mode": "markers",
           "name": "W",
           "text": [],
           "type": "scatter",
           "x": [],
           "y": []
          },
          {
           "marker": {
            "size": [],
            "sizemode": "area",
            "sizeref": 200000
           },
           "mode": "markers",
           "name": "o",
           "text": [],
           "type": "scatter",
           "x": [],
           "y": []
          },
          {
           "marker": {
            "size": [],
            "sizemode": "area",
            "sizeref": 200000
           },
           "mode": "markers",
           "name": "r",
           "text": [],
           "type": "scatter",
           "x": [],
           "y": []
          },
          {
           "marker": {
            "size": [],
            "sizemode": "area",
            "sizeref": 200000
           },
           "mode": "markers",
           "name": "l",
           "text": [],
           "type": "scatter",
           "x": [],
           "y": []
          },
          {
           "marker": {
            "size": [],
            "sizemode": "area",
            "sizeref": 200000
           },
           "mode": "markers",
           "name": "d",
           "text": [],
           "type": "scatter",
           "x": [],
           "y": []
          }
         ],
         "name": "1986"
        },
        {
         "data": [
          {
           "marker": {
            "size": [],
            "sizemode": "area",
            "sizeref": 200000
           },
           "mode": "markers",
           "name": "W",
           "text": [],
           "type": "scatter",
           "x": [],
           "y": []
          },
          {
           "marker": {
            "size": [],
            "sizemode": "area",
            "sizeref": 200000
           },
           "mode": "markers",
           "name": "o",
           "text": [],
           "type": "scatter",
           "x": [],
           "y": []
          },
          {
           "marker": {
            "size": [],
            "sizemode": "area",
            "sizeref": 200000
           },
           "mode": "markers",
           "name": "r",
           "text": [],
           "type": "scatter",
           "x": [],
           "y": []
          },
          {
           "marker": {
            "size": [],
            "sizemode": "area",
            "sizeref": 200000
           },
           "mode": "markers",
           "name": "l",
           "text": [],
           "type": "scatter",
           "x": [],
           "y": []
          },
          {
           "marker": {
            "size": [],
            "sizemode": "area",
            "sizeref": 200000
           },
           "mode": "markers",
           "name": "d",
           "text": [],
           "type": "scatter",
           "x": [],
           "y": []
          }
         ],
         "name": "1987"
        },
        {
         "data": [
          {
           "marker": {
            "size": [],
            "sizemode": "area",
            "sizeref": 200000
           },
           "mode": "markers",
           "name": "W",
           "text": [],
           "type": "scatter",
           "x": [],
           "y": []
          },
          {
           "marker": {
            "size": [],
            "sizemode": "area",
            "sizeref": 200000
           },
           "mode": "markers",
           "name": "o",
           "text": [],
           "type": "scatter",
           "x": [],
           "y": []
          },
          {
           "marker": {
            "size": [],
            "sizemode": "area",
            "sizeref": 200000
           },
           "mode": "markers",
           "name": "r",
           "text": [],
           "type": "scatter",
           "x": [],
           "y": []
          },
          {
           "marker": {
            "size": [],
            "sizemode": "area",
            "sizeref": 200000
           },
           "mode": "markers",
           "name": "l",
           "text": [],
           "type": "scatter",
           "x": [],
           "y": []
          },
          {
           "marker": {
            "size": [],
            "sizemode": "area",
            "sizeref": 200000
           },
           "mode": "markers",
           "name": "d",
           "text": [],
           "type": "scatter",
           "x": [],
           "y": []
          }
         ],
         "name": "1988"
        },
        {
         "data": [
          {
           "marker": {
            "size": [],
            "sizemode": "area",
            "sizeref": 200000
           },
           "mode": "markers",
           "name": "W",
           "text": [],
           "type": "scatter",
           "x": [],
           "y": []
          },
          {
           "marker": {
            "size": [],
            "sizemode": "area",
            "sizeref": 200000
           },
           "mode": "markers",
           "name": "o",
           "text": [],
           "type": "scatter",
           "x": [],
           "y": []
          },
          {
           "marker": {
            "size": [],
            "sizemode": "area",
            "sizeref": 200000
           },
           "mode": "markers",
           "name": "r",
           "text": [],
           "type": "scatter",
           "x": [],
           "y": []
          },
          {
           "marker": {
            "size": [],
            "sizemode": "area",
            "sizeref": 200000
           },
           "mode": "markers",
           "name": "l",
           "text": [],
           "type": "scatter",
           "x": [],
           "y": []
          },
          {
           "marker": {
            "size": [],
            "sizemode": "area",
            "sizeref": 200000
           },
           "mode": "markers",
           "name": "d",
           "text": [],
           "type": "scatter",
           "x": [],
           "y": []
          }
         ],
         "name": "1989"
        },
        {
         "data": [
          {
           "marker": {
            "size": [],
            "sizemode": "area",
            "sizeref": 200000
           },
           "mode": "markers",
           "name": "W",
           "text": [],
           "type": "scatter",
           "x": [],
           "y": []
          },
          {
           "marker": {
            "size": [],
            "sizemode": "area",
            "sizeref": 200000
           },
           "mode": "markers",
           "name": "o",
           "text": [],
           "type": "scatter",
           "x": [],
           "y": []
          },
          {
           "marker": {
            "size": [],
            "sizemode": "area",
            "sizeref": 200000
           },
           "mode": "markers",
           "name": "r",
           "text": [],
           "type": "scatter",
           "x": [],
           "y": []
          },
          {
           "marker": {
            "size": [],
            "sizemode": "area",
            "sizeref": 200000
           },
           "mode": "markers",
           "name": "l",
           "text": [],
           "type": "scatter",
           "x": [],
           "y": []
          },
          {
           "marker": {
            "size": [],
            "sizemode": "area",
            "sizeref": 200000
           },
           "mode": "markers",
           "name": "d",
           "text": [],
           "type": "scatter",
           "x": [],
           "y": []
          }
         ],
         "name": "1990"
        },
        {
         "data": [
          {
           "marker": {
            "size": [],
            "sizemode": "area",
            "sizeref": 200000
           },
           "mode": "markers",
           "name": "W",
           "text": [],
           "type": "scatter",
           "x": [],
           "y": []
          },
          {
           "marker": {
            "size": [],
            "sizemode": "area",
            "sizeref": 200000
           },
           "mode": "markers",
           "name": "o",
           "text": [],
           "type": "scatter",
           "x": [],
           "y": []
          },
          {
           "marker": {
            "size": [],
            "sizemode": "area",
            "sizeref": 200000
           },
           "mode": "markers",
           "name": "r",
           "text": [],
           "type": "scatter",
           "x": [],
           "y": []
          },
          {
           "marker": {
            "size": [],
            "sizemode": "area",
            "sizeref": 200000
           },
           "mode": "markers",
           "name": "l",
           "text": [],
           "type": "scatter",
           "x": [],
           "y": []
          },
          {
           "marker": {
            "size": [],
            "sizemode": "area",
            "sizeref": 200000
           },
           "mode": "markers",
           "name": "d",
           "text": [],
           "type": "scatter",
           "x": [],
           "y": []
          }
         ],
         "name": "1991"
        },
        {
         "data": [
          {
           "marker": {
            "size": [],
            "sizemode": "area",
            "sizeref": 200000
           },
           "mode": "markers",
           "name": "W",
           "text": [],
           "type": "scatter",
           "x": [],
           "y": []
          },
          {
           "marker": {
            "size": [],
            "sizemode": "area",
            "sizeref": 200000
           },
           "mode": "markers",
           "name": "o",
           "text": [],
           "type": "scatter",
           "x": [],
           "y": []
          },
          {
           "marker": {
            "size": [],
            "sizemode": "area",
            "sizeref": 200000
           },
           "mode": "markers",
           "name": "r",
           "text": [],
           "type": "scatter",
           "x": [],
           "y": []
          },
          {
           "marker": {
            "size": [],
            "sizemode": "area",
            "sizeref": 200000
           },
           "mode": "markers",
           "name": "l",
           "text": [],
           "type": "scatter",
           "x": [],
           "y": []
          },
          {
           "marker": {
            "size": [],
            "sizemode": "area",
            "sizeref": 200000
           },
           "mode": "markers",
           "name": "d",
           "text": [],
           "type": "scatter",
           "x": [],
           "y": []
          }
         ],
         "name": "1992"
        },
        {
         "data": [
          {
           "marker": {
            "size": [],
            "sizemode": "area",
            "sizeref": 200000
           },
           "mode": "markers",
           "name": "W",
           "text": [],
           "type": "scatter",
           "x": [],
           "y": []
          },
          {
           "marker": {
            "size": [],
            "sizemode": "area",
            "sizeref": 200000
           },
           "mode": "markers",
           "name": "o",
           "text": [],
           "type": "scatter",
           "x": [],
           "y": []
          },
          {
           "marker": {
            "size": [],
            "sizemode": "area",
            "sizeref": 200000
           },
           "mode": "markers",
           "name": "r",
           "text": [],
           "type": "scatter",
           "x": [],
           "y": []
          },
          {
           "marker": {
            "size": [],
            "sizemode": "area",
            "sizeref": 200000
           },
           "mode": "markers",
           "name": "l",
           "text": [],
           "type": "scatter",
           "x": [],
           "y": []
          },
          {
           "marker": {
            "size": [],
            "sizemode": "area",
            "sizeref": 200000
           },
           "mode": "markers",
           "name": "d",
           "text": [],
           "type": "scatter",
           "x": [],
           "y": []
          }
         ],
         "name": "1993"
        },
        {
         "data": [
          {
           "marker": {
            "size": [],
            "sizemode": "area",
            "sizeref": 200000
           },
           "mode": "markers",
           "name": "W",
           "text": [],
           "type": "scatter",
           "x": [],
           "y": []
          },
          {
           "marker": {
            "size": [],
            "sizemode": "area",
            "sizeref": 200000
           },
           "mode": "markers",
           "name": "o",
           "text": [],
           "type": "scatter",
           "x": [],
           "y": []
          },
          {
           "marker": {
            "size": [],
            "sizemode": "area",
            "sizeref": 200000
           },
           "mode": "markers",
           "name": "r",
           "text": [],
           "type": "scatter",
           "x": [],
           "y": []
          },
          {
           "marker": {
            "size": [],
            "sizemode": "area",
            "sizeref": 200000
           },
           "mode": "markers",
           "name": "l",
           "text": [],
           "type": "scatter",
           "x": [],
           "y": []
          },
          {
           "marker": {
            "size": [],
            "sizemode": "area",
            "sizeref": 200000
           },
           "mode": "markers",
           "name": "d",
           "text": [],
           "type": "scatter",
           "x": [],
           "y": []
          }
         ],
         "name": "1994"
        },
        {
         "data": [
          {
           "marker": {
            "size": [],
            "sizemode": "area",
            "sizeref": 200000
           },
           "mode": "markers",
           "name": "W",
           "text": [],
           "type": "scatter",
           "x": [],
           "y": []
          },
          {
           "marker": {
            "size": [],
            "sizemode": "area",
            "sizeref": 200000
           },
           "mode": "markers",
           "name": "o",
           "text": [],
           "type": "scatter",
           "x": [],
           "y": []
          },
          {
           "marker": {
            "size": [],
            "sizemode": "area",
            "sizeref": 200000
           },
           "mode": "markers",
           "name": "r",
           "text": [],
           "type": "scatter",
           "x": [],
           "y": []
          },
          {
           "marker": {
            "size": [],
            "sizemode": "area",
            "sizeref": 200000
           },
           "mode": "markers",
           "name": "l",
           "text": [],
           "type": "scatter",
           "x": [],
           "y": []
          },
          {
           "marker": {
            "size": [],
            "sizemode": "area",
            "sizeref": 200000
           },
           "mode": "markers",
           "name": "d",
           "text": [],
           "type": "scatter",
           "x": [],
           "y": []
          }
         ],
         "name": "1995"
        },
        {
         "data": [
          {
           "marker": {
            "size": [],
            "sizemode": "area",
            "sizeref": 200000
           },
           "mode": "markers",
           "name": "W",
           "text": [],
           "type": "scatter",
           "x": [],
           "y": []
          },
          {
           "marker": {
            "size": [],
            "sizemode": "area",
            "sizeref": 200000
           },
           "mode": "markers",
           "name": "o",
           "text": [],
           "type": "scatter",
           "x": [],
           "y": []
          },
          {
           "marker": {
            "size": [],
            "sizemode": "area",
            "sizeref": 200000
           },
           "mode": "markers",
           "name": "r",
           "text": [],
           "type": "scatter",
           "x": [],
           "y": []
          },
          {
           "marker": {
            "size": [],
            "sizemode": "area",
            "sizeref": 200000
           },
           "mode": "markers",
           "name": "l",
           "text": [],
           "type": "scatter",
           "x": [],
           "y": []
          },
          {
           "marker": {
            "size": [],
            "sizemode": "area",
            "sizeref": 200000
           },
           "mode": "markers",
           "name": "d",
           "text": [],
           "type": "scatter",
           "x": [],
           "y": []
          }
         ],
         "name": "1996"
        },
        {
         "data": [
          {
           "marker": {
            "size": [],
            "sizemode": "area",
            "sizeref": 200000
           },
           "mode": "markers",
           "name": "W",
           "text": [],
           "type": "scatter",
           "x": [],
           "y": []
          },
          {
           "marker": {
            "size": [],
            "sizemode": "area",
            "sizeref": 200000
           },
           "mode": "markers",
           "name": "o",
           "text": [],
           "type": "scatter",
           "x": [],
           "y": []
          },
          {
           "marker": {
            "size": [],
            "sizemode": "area",
            "sizeref": 200000
           },
           "mode": "markers",
           "name": "r",
           "text": [],
           "type": "scatter",
           "x": [],
           "y": []
          },
          {
           "marker": {
            "size": [],
            "sizemode": "area",
            "sizeref": 200000
           },
           "mode": "markers",
           "name": "l",
           "text": [],
           "type": "scatter",
           "x": [],
           "y": []
          },
          {
           "marker": {
            "size": [],
            "sizemode": "area",
            "sizeref": 200000
           },
           "mode": "markers",
           "name": "d",
           "text": [],
           "type": "scatter",
           "x": [],
           "y": []
          }
         ],
         "name": "1997"
        },
        {
         "data": [
          {
           "marker": {
            "size": [],
            "sizemode": "area",
            "sizeref": 200000
           },
           "mode": "markers",
           "name": "W",
           "text": [],
           "type": "scatter",
           "x": [],
           "y": []
          },
          {
           "marker": {
            "size": [],
            "sizemode": "area",
            "sizeref": 200000
           },
           "mode": "markers",
           "name": "o",
           "text": [],
           "type": "scatter",
           "x": [],
           "y": []
          },
          {
           "marker": {
            "size": [],
            "sizemode": "area",
            "sizeref": 200000
           },
           "mode": "markers",
           "name": "r",
           "text": [],
           "type": "scatter",
           "x": [],
           "y": []
          },
          {
           "marker": {
            "size": [],
            "sizemode": "area",
            "sizeref": 200000
           },
           "mode": "markers",
           "name": "l",
           "text": [],
           "type": "scatter",
           "x": [],
           "y": []
          },
          {
           "marker": {
            "size": [],
            "sizemode": "area",
            "sizeref": 200000
           },
           "mode": "markers",
           "name": "d",
           "text": [],
           "type": "scatter",
           "x": [],
           "y": []
          }
         ],
         "name": "1998"
        },
        {
         "data": [
          {
           "marker": {
            "size": [],
            "sizemode": "area",
            "sizeref": 200000
           },
           "mode": "markers",
           "name": "W",
           "text": [],
           "type": "scatter",
           "x": [],
           "y": []
          },
          {
           "marker": {
            "size": [],
            "sizemode": "area",
            "sizeref": 200000
           },
           "mode": "markers",
           "name": "o",
           "text": [],
           "type": "scatter",
           "x": [],
           "y": []
          },
          {
           "marker": {
            "size": [],
            "sizemode": "area",
            "sizeref": 200000
           },
           "mode": "markers",
           "name": "r",
           "text": [],
           "type": "scatter",
           "x": [],
           "y": []
          },
          {
           "marker": {
            "size": [],
            "sizemode": "area",
            "sizeref": 200000
           },
           "mode": "markers",
           "name": "l",
           "text": [],
           "type": "scatter",
           "x": [],
           "y": []
          },
          {
           "marker": {
            "size": [],
            "sizemode": "area",
            "sizeref": 200000
           },
           "mode": "markers",
           "name": "d",
           "text": [],
           "type": "scatter",
           "x": [],
           "y": []
          }
         ],
         "name": "1999"
        },
        {
         "data": [
          {
           "marker": {
            "size": [],
            "sizemode": "area",
            "sizeref": 200000
           },
           "mode": "markers",
           "name": "W",
           "text": [],
           "type": "scatter",
           "x": [],
           "y": []
          },
          {
           "marker": {
            "size": [],
            "sizemode": "area",
            "sizeref": 200000
           },
           "mode": "markers",
           "name": "o",
           "text": [],
           "type": "scatter",
           "x": [],
           "y": []
          },
          {
           "marker": {
            "size": [],
            "sizemode": "area",
            "sizeref": 200000
           },
           "mode": "markers",
           "name": "r",
           "text": [],
           "type": "scatter",
           "x": [],
           "y": []
          },
          {
           "marker": {
            "size": [],
            "sizemode": "area",
            "sizeref": 200000
           },
           "mode": "markers",
           "name": "l",
           "text": [],
           "type": "scatter",
           "x": [],
           "y": []
          },
          {
           "marker": {
            "size": [],
            "sizemode": "area",
            "sizeref": 200000
           },
           "mode": "markers",
           "name": "d",
           "text": [],
           "type": "scatter",
           "x": [],
           "y": []
          }
         ],
         "name": "2000"
        },
        {
         "data": [
          {
           "marker": {
            "size": [],
            "sizemode": "area",
            "sizeref": 200000
           },
           "mode": "markers",
           "name": "W",
           "text": [],
           "type": "scatter",
           "x": [],
           "y": []
          },
          {
           "marker": {
            "size": [],
            "sizemode": "area",
            "sizeref": 200000
           },
           "mode": "markers",
           "name": "o",
           "text": [],
           "type": "scatter",
           "x": [],
           "y": []
          },
          {
           "marker": {
            "size": [],
            "sizemode": "area",
            "sizeref": 200000
           },
           "mode": "markers",
           "name": "r",
           "text": [],
           "type": "scatter",
           "x": [],
           "y": []
          },
          {
           "marker": {
            "size": [],
            "sizemode": "area",
            "sizeref": 200000
           },
           "mode": "markers",
           "name": "l",
           "text": [],
           "type": "scatter",
           "x": [],
           "y": []
          },
          {
           "marker": {
            "size": [],
            "sizemode": "area",
            "sizeref": 200000
           },
           "mode": "markers",
           "name": "d",
           "text": [],
           "type": "scatter",
           "x": [],
           "y": []
          }
         ],
         "name": "2001"
        },
        {
         "data": [
          {
           "marker": {
            "size": [],
            "sizemode": "area",
            "sizeref": 200000
           },
           "mode": "markers",
           "name": "W",
           "text": [],
           "type": "scatter",
           "x": [],
           "y": []
          },
          {
           "marker": {
            "size": [],
            "sizemode": "area",
            "sizeref": 200000
           },
           "mode": "markers",
           "name": "o",
           "text": [],
           "type": "scatter",
           "x": [],
           "y": []
          },
          {
           "marker": {
            "size": [],
            "sizemode": "area",
            "sizeref": 200000
           },
           "mode": "markers",
           "name": "r",
           "text": [],
           "type": "scatter",
           "x": [],
           "y": []
          },
          {
           "marker": {
            "size": [],
            "sizemode": "area",
            "sizeref": 200000
           },
           "mode": "markers",
           "name": "l",
           "text": [],
           "type": "scatter",
           "x": [],
           "y": []
          },
          {
           "marker": {
            "size": [],
            "sizemode": "area",
            "sizeref": 200000
           },
           "mode": "markers",
           "name": "d",
           "text": [],
           "type": "scatter",
           "x": [],
           "y": []
          }
         ],
         "name": "2002"
        },
        {
         "data": [
          {
           "marker": {
            "size": [],
            "sizemode": "area",
            "sizeref": 200000
           },
           "mode": "markers",
           "name": "W",
           "text": [],
           "type": "scatter",
           "x": [],
           "y": []
          },
          {
           "marker": {
            "size": [],
            "sizemode": "area",
            "sizeref": 200000
           },
           "mode": "markers",
           "name": "o",
           "text": [],
           "type": "scatter",
           "x": [],
           "y": []
          },
          {
           "marker": {
            "size": [],
            "sizemode": "area",
            "sizeref": 200000
           },
           "mode": "markers",
           "name": "r",
           "text": [],
           "type": "scatter",
           "x": [],
           "y": []
          },
          {
           "marker": {
            "size": [],
            "sizemode": "area",
            "sizeref": 200000
           },
           "mode": "markers",
           "name": "l",
           "text": [],
           "type": "scatter",
           "x": [],
           "y": []
          },
          {
           "marker": {
            "size": [],
            "sizemode": "area",
            "sizeref": 200000
           },
           "mode": "markers",
           "name": "d",
           "text": [],
           "type": "scatter",
           "x": [],
           "y": []
          }
         ],
         "name": "2003"
        },
        {
         "data": [
          {
           "marker": {
            "size": [],
            "sizemode": "area",
            "sizeref": 200000
           },
           "mode": "markers",
           "name": "W",
           "text": [],
           "type": "scatter",
           "x": [],
           "y": []
          },
          {
           "marker": {
            "size": [],
            "sizemode": "area",
            "sizeref": 200000
           },
           "mode": "markers",
           "name": "o",
           "text": [],
           "type": "scatter",
           "x": [],
           "y": []
          },
          {
           "marker": {
            "size": [],
            "sizemode": "area",
            "sizeref": 200000
           },
           "mode": "markers",
           "name": "r",
           "text": [],
           "type": "scatter",
           "x": [],
           "y": []
          },
          {
           "marker": {
            "size": [],
            "sizemode": "area",
            "sizeref": 200000
           },
           "mode": "markers",
           "name": "l",
           "text": [],
           "type": "scatter",
           "x": [],
           "y": []
          },
          {
           "marker": {
            "size": [],
            "sizemode": "area",
            "sizeref": 200000
           },
           "mode": "markers",
           "name": "d",
           "text": [],
           "type": "scatter",
           "x": [],
           "y": []
          }
         ],
         "name": "2004"
        },
        {
         "data": [
          {
           "marker": {
            "size": [],
            "sizemode": "area",
            "sizeref": 200000
           },
           "mode": "markers",
           "name": "W",
           "text": [],
           "type": "scatter",
           "x": [],
           "y": []
          },
          {
           "marker": {
            "size": [],
            "sizemode": "area",
            "sizeref": 200000
           },
           "mode": "markers",
           "name": "o",
           "text": [],
           "type": "scatter",
           "x": [],
           "y": []
          },
          {
           "marker": {
            "size": [],
            "sizemode": "area",
            "sizeref": 200000
           },
           "mode": "markers",
           "name": "r",
           "text": [],
           "type": "scatter",
           "x": [],
           "y": []
          },
          {
           "marker": {
            "size": [],
            "sizemode": "area",
            "sizeref": 200000
           },
           "mode": "markers",
           "name": "l",
           "text": [],
           "type": "scatter",
           "x": [],
           "y": []
          },
          {
           "marker": {
            "size": [],
            "sizemode": "area",
            "sizeref": 200000
           },
           "mode": "markers",
           "name": "d",
           "text": [],
           "type": "scatter",
           "x": [],
           "y": []
          }
         ],
         "name": "2005"
        },
        {
         "data": [
          {
           "marker": {
            "size": [],
            "sizemode": "area",
            "sizeref": 200000
           },
           "mode": "markers",
           "name": "W",
           "text": [],
           "type": "scatter",
           "x": [],
           "y": []
          },
          {
           "marker": {
            "size": [],
            "sizemode": "area",
            "sizeref": 200000
           },
           "mode": "markers",
           "name": "o",
           "text": [],
           "type": "scatter",
           "x": [],
           "y": []
          },
          {
           "marker": {
            "size": [],
            "sizemode": "area",
            "sizeref": 200000
           },
           "mode": "markers",
           "name": "r",
           "text": [],
           "type": "scatter",
           "x": [],
           "y": []
          },
          {
           "marker": {
            "size": [],
            "sizemode": "area",
            "sizeref": 200000
           },
           "mode": "markers",
           "name": "l",
           "text": [],
           "type": "scatter",
           "x": [],
           "y": []
          },
          {
           "marker": {
            "size": [],
            "sizemode": "area",
            "sizeref": 200000
           },
           "mode": "markers",
           "name": "d",
           "text": [],
           "type": "scatter",
           "x": [],
           "y": []
          }
         ],
         "name": "2006"
        },
        {
         "data": [
          {
           "marker": {
            "size": [],
            "sizemode": "area",
            "sizeref": 200000
           },
           "mode": "markers",
           "name": "W",
           "text": [],
           "type": "scatter",
           "x": [],
           "y": []
          },
          {
           "marker": {
            "size": [],
            "sizemode": "area",
            "sizeref": 200000
           },
           "mode": "markers",
           "name": "o",
           "text": [],
           "type": "scatter",
           "x": [],
           "y": []
          },
          {
           "marker": {
            "size": [],
            "sizemode": "area",
            "sizeref": 200000
           },
           "mode": "markers",
           "name": "r",
           "text": [],
           "type": "scatter",
           "x": [],
           "y": []
          },
          {
           "marker": {
            "size": [],
            "sizemode": "area",
            "sizeref": 200000
           },
           "mode": "markers",
           "name": "l",
           "text": [],
           "type": "scatter",
           "x": [],
           "y": []
          },
          {
           "marker": {
            "size": [],
            "sizemode": "area",
            "sizeref": 200000
           },
           "mode": "markers",
           "name": "d",
           "text": [],
           "type": "scatter",
           "x": [],
           "y": []
          }
         ],
         "name": "2007"
        },
        {
         "data": [
          {
           "marker": {
            "size": [],
            "sizemode": "area",
            "sizeref": 200000
           },
           "mode": "markers",
           "name": "W",
           "text": [],
           "type": "scatter",
           "x": [],
           "y": []
          },
          {
           "marker": {
            "size": [],
            "sizemode": "area",
            "sizeref": 200000
           },
           "mode": "markers",
           "name": "o",
           "text": [],
           "type": "scatter",
           "x": [],
           "y": []
          },
          {
           "marker": {
            "size": [],
            "sizemode": "area",
            "sizeref": 200000
           },
           "mode": "markers",
           "name": "r",
           "text": [],
           "type": "scatter",
           "x": [],
           "y": []
          },
          {
           "marker": {
            "size": [],
            "sizemode": "area",
            "sizeref": 200000
           },
           "mode": "markers",
           "name": "l",
           "text": [],
           "type": "scatter",
           "x": [],
           "y": []
          },
          {
           "marker": {
            "size": [],
            "sizemode": "area",
            "sizeref": 200000
           },
           "mode": "markers",
           "name": "d",
           "text": [],
           "type": "scatter",
           "x": [],
           "y": []
          }
         ],
         "name": "2008"
        },
        {
         "data": [
          {
           "marker": {
            "size": [],
            "sizemode": "area",
            "sizeref": 200000
           },
           "mode": "markers",
           "name": "W",
           "text": [],
           "type": "scatter",
           "x": [],
           "y": []
          },
          {
           "marker": {
            "size": [],
            "sizemode": "area",
            "sizeref": 200000
           },
           "mode": "markers",
           "name": "o",
           "text": [],
           "type": "scatter",
           "x": [],
           "y": []
          },
          {
           "marker": {
            "size": [],
            "sizemode": "area",
            "sizeref": 200000
           },
           "mode": "markers",
           "name": "r",
           "text": [],
           "type": "scatter",
           "x": [],
           "y": []
          },
          {
           "marker": {
            "size": [],
            "sizemode": "area",
            "sizeref": 200000
           },
           "mode": "markers",
           "name": "l",
           "text": [],
           "type": "scatter",
           "x": [],
           "y": []
          },
          {
           "marker": {
            "size": [],
            "sizemode": "area",
            "sizeref": 200000
           },
           "mode": "markers",
           "name": "d",
           "text": [],
           "type": "scatter",
           "x": [],
           "y": []
          }
         ],
         "name": "2009"
        },
        {
         "data": [
          {
           "marker": {
            "size": [],
            "sizemode": "area",
            "sizeref": 200000
           },
           "mode": "markers",
           "name": "W",
           "text": [],
           "type": "scatter",
           "x": [],
           "y": []
          },
          {
           "marker": {
            "size": [],
            "sizemode": "area",
            "sizeref": 200000
           },
           "mode": "markers",
           "name": "o",
           "text": [],
           "type": "scatter",
           "x": [],
           "y": []
          },
          {
           "marker": {
            "size": [],
            "sizemode": "area",
            "sizeref": 200000
           },
           "mode": "markers",
           "name": "r",
           "text": [],
           "type": "scatter",
           "x": [],
           "y": []
          },
          {
           "marker": {
            "size": [],
            "sizemode": "area",
            "sizeref": 200000
           },
           "mode": "markers",
           "name": "l",
           "text": [],
           "type": "scatter",
           "x": [],
           "y": []
          },
          {
           "marker": {
            "size": [],
            "sizemode": "area",
            "sizeref": 200000
           },
           "mode": "markers",
           "name": "d",
           "text": [],
           "type": "scatter",
           "x": [],
           "y": []
          }
         ],
         "name": "2010"
        },
        {
         "data": [
          {
           "marker": {
            "size": [],
            "sizemode": "area",
            "sizeref": 200000
           },
           "mode": "markers",
           "name": "W",
           "text": [],
           "type": "scatter",
           "x": [],
           "y": []
          },
          {
           "marker": {
            "size": [],
            "sizemode": "area",
            "sizeref": 200000
           },
           "mode": "markers",
           "name": "o",
           "text": [],
           "type": "scatter",
           "x": [],
           "y": []
          },
          {
           "marker": {
            "size": [],
            "sizemode": "area",
            "sizeref": 200000
           },
           "mode": "markers",
           "name": "r",
           "text": [],
           "type": "scatter",
           "x": [],
           "y": []
          },
          {
           "marker": {
            "size": [],
            "sizemode": "area",
            "sizeref": 200000
           },
           "mode": "markers",
           "name": "l",
           "text": [],
           "type": "scatter",
           "x": [],
           "y": []
          },
          {
           "marker": {
            "size": [],
            "sizemode": "area",
            "sizeref": 200000
           },
           "mode": "markers",
           "name": "d",
           "text": [],
           "type": "scatter",
           "x": [],
           "y": []
          }
         ],
         "name": "2011"
        },
        {
         "data": [
          {
           "marker": {
            "size": [],
            "sizemode": "area",
            "sizeref": 200000
           },
           "mode": "markers",
           "name": "W",
           "text": [],
           "type": "scatter",
           "x": [],
           "y": []
          },
          {
           "marker": {
            "size": [],
            "sizemode": "area",
            "sizeref": 200000
           },
           "mode": "markers",
           "name": "o",
           "text": [],
           "type": "scatter",
           "x": [],
           "y": []
          },
          {
           "marker": {
            "size": [],
            "sizemode": "area",
            "sizeref": 200000
           },
           "mode": "markers",
           "name": "r",
           "text": [],
           "type": "scatter",
           "x": [],
           "y": []
          },
          {
           "marker": {
            "size": [],
            "sizemode": "area",
            "sizeref": 200000
           },
           "mode": "markers",
           "name": "l",
           "text": [],
           "type": "scatter",
           "x": [],
           "y": []
          },
          {
           "marker": {
            "size": [],
            "sizemode": "area",
            "sizeref": 200000
           },
           "mode": "markers",
           "name": "d",
           "text": [],
           "type": "scatter",
           "x": [],
           "y": []
          }
         ],
         "name": "2012"
        },
        {
         "data": [
          {
           "marker": {
            "size": [],
            "sizemode": "area",
            "sizeref": 200000
           },
           "mode": "markers",
           "name": "W",
           "text": [],
           "type": "scatter",
           "x": [],
           "y": []
          },
          {
           "marker": {
            "size": [],
            "sizemode": "area",
            "sizeref": 200000
           },
           "mode": "markers",
           "name": "o",
           "text": [],
           "type": "scatter",
           "x": [],
           "y": []
          },
          {
           "marker": {
            "size": [],
            "sizemode": "area",
            "sizeref": 200000
           },
           "mode": "markers",
           "name": "r",
           "text": [],
           "type": "scatter",
           "x": [],
           "y": []
          },
          {
           "marker": {
            "size": [],
            "sizemode": "area",
            "sizeref": 200000
           },
           "mode": "markers",
           "name": "l",
           "text": [],
           "type": "scatter",
           "x": [],
           "y": []
          },
          {
           "marker": {
            "size": [],
            "sizemode": "area",
            "sizeref": 200000
           },
           "mode": "markers",
           "name": "d",
           "text": [],
           "type": "scatter",
           "x": [],
           "y": []
          }
         ],
         "name": "2013"
        },
        {
         "data": [
          {
           "marker": {
            "size": [],
            "sizemode": "area",
            "sizeref": 200000
           },
           "mode": "markers",
           "name": "W",
           "text": [],
           "type": "scatter",
           "x": [],
           "y": []
          },
          {
           "marker": {
            "size": [],
            "sizemode": "area",
            "sizeref": 200000
           },
           "mode": "markers",
           "name": "o",
           "text": [],
           "type": "scatter",
           "x": [],
           "y": []
          },
          {
           "marker": {
            "size": [],
            "sizemode": "area",
            "sizeref": 200000
           },
           "mode": "markers",
           "name": "r",
           "text": [],
           "type": "scatter",
           "x": [],
           "y": []
          },
          {
           "marker": {
            "size": [],
            "sizemode": "area",
            "sizeref": 200000
           },
           "mode": "markers",
           "name": "l",
           "text": [],
           "type": "scatter",
           "x": [],
           "y": []
          },
          {
           "marker": {
            "size": [],
            "sizemode": "area",
            "sizeref": 200000
           },
           "mode": "markers",
           "name": "d",
           "text": [],
           "type": "scatter",
           "x": [],
           "y": []
          }
         ],
         "name": "2014"
        },
        {
         "data": [
          {
           "marker": {
            "size": [],
            "sizemode": "area",
            "sizeref": 200000
           },
           "mode": "markers",
           "name": "W",
           "text": [],
           "type": "scatter",
           "x": [],
           "y": []
          },
          {
           "marker": {
            "size": [],
            "sizemode": "area",
            "sizeref": 200000
           },
           "mode": "markers",
           "name": "o",
           "text": [],
           "type": "scatter",
           "x": [],
           "y": []
          },
          {
           "marker": {
            "size": [],
            "sizemode": "area",
            "sizeref": 200000
           },
           "mode": "markers",
           "name": "r",
           "text": [],
           "type": "scatter",
           "x": [],
           "y": []
          },
          {
           "marker": {
            "size": [],
            "sizemode": "area",
            "sizeref": 200000
           },
           "mode": "markers",
           "name": "l",
           "text": [],
           "type": "scatter",
           "x": [],
           "y": []
          },
          {
           "marker": {
            "size": [],
            "sizemode": "area",
            "sizeref": 200000
           },
           "mode": "markers",
           "name": "d",
           "text": [],
           "type": "scatter",
           "x": [],
           "y": []
          }
         ],
         "name": "2015"
        },
        {
         "data": [
          {
           "marker": {
            "size": [],
            "sizemode": "area",
            "sizeref": 200000
           },
           "mode": "markers",
           "name": "W",
           "text": [],
           "type": "scatter",
           "x": [],
           "y": []
          },
          {
           "marker": {
            "size": [],
            "sizemode": "area",
            "sizeref": 200000
           },
           "mode": "markers",
           "name": "o",
           "text": [],
           "type": "scatter",
           "x": [],
           "y": []
          },
          {
           "marker": {
            "size": [],
            "sizemode": "area",
            "sizeref": 200000
           },
           "mode": "markers",
           "name": "r",
           "text": [],
           "type": "scatter",
           "x": [],
           "y": []
          },
          {
           "marker": {
            "size": [],
            "sizemode": "area",
            "sizeref": 200000
           },
           "mode": "markers",
           "name": "l",
           "text": [],
           "type": "scatter",
           "x": [],
           "y": []
          },
          {
           "marker": {
            "size": [],
            "sizemode": "area",
            "sizeref": 200000
           },
           "mode": "markers",
           "name": "d",
           "text": [],
           "type": "scatter",
           "x": [],
           "y": []
          }
         ],
         "name": "2016"
        },
        {
         "data": [
          {
           "marker": {
            "size": [],
            "sizemode": "area",
            "sizeref": 200000
           },
           "mode": "markers",
           "name": "W",
           "text": [],
           "type": "scatter",
           "x": [],
           "y": []
          },
          {
           "marker": {
            "size": [],
            "sizemode": "area",
            "sizeref": 200000
           },
           "mode": "markers",
           "name": "o",
           "text": [],
           "type": "scatter",
           "x": [],
           "y": []
          },
          {
           "marker": {
            "size": [],
            "sizemode": "area",
            "sizeref": 200000
           },
           "mode": "markers",
           "name": "r",
           "text": [],
           "type": "scatter",
           "x": [],
           "y": []
          },
          {
           "marker": {
            "size": [],
            "sizemode": "area",
            "sizeref": 200000
           },
           "mode": "markers",
           "name": "l",
           "text": [],
           "type": "scatter",
           "x": [],
           "y": []
          },
          {
           "marker": {
            "size": [],
            "sizemode": "area",
            "sizeref": 200000
           },
           "mode": "markers",
           "name": "d",
           "text": [],
           "type": "scatter",
           "x": [],
           "y": []
          }
         ],
         "name": "2017"
        },
        {
         "data": [
          {
           "marker": {
            "size": [],
            "sizemode": "area",
            "sizeref": 200000
           },
           "mode": "markers",
           "name": "W",
           "text": [],
           "type": "scatter",
           "x": [],
           "y": []
          },
          {
           "marker": {
            "size": [],
            "sizemode": "area",
            "sizeref": 200000
           },
           "mode": "markers",
           "name": "o",
           "text": [],
           "type": "scatter",
           "x": [],
           "y": []
          },
          {
           "marker": {
            "size": [],
            "sizemode": "area",
            "sizeref": 200000
           },
           "mode": "markers",
           "name": "r",
           "text": [],
           "type": "scatter",
           "x": [],
           "y": []
          },
          {
           "marker": {
            "size": [],
            "sizemode": "area",
            "sizeref": 200000
           },
           "mode": "markers",
           "name": "l",
           "text": [],
           "type": "scatter",
           "x": [],
           "y": []
          },
          {
           "marker": {
            "size": [],
            "sizemode": "area",
            "sizeref": 200000
           },
           "mode": "markers",
           "name": "d",
           "text": [],
           "type": "scatter",
           "x": [],
           "y": []
          }
         ],
         "name": "2018"
        },
        {
         "data": [
          {
           "marker": {
            "size": [],
            "sizemode": "area",
            "sizeref": 200000
           },
           "mode": "markers",
           "name": "W",
           "text": [],
           "type": "scatter",
           "x": [],
           "y": []
          },
          {
           "marker": {
            "size": [],
            "sizemode": "area",
            "sizeref": 200000
           },
           "mode": "markers",
           "name": "o",
           "text": [],
           "type": "scatter",
           "x": [],
           "y": []
          },
          {
           "marker": {
            "size": [],
            "sizemode": "area",
            "sizeref": 200000
           },
           "mode": "markers",
           "name": "r",
           "text": [],
           "type": "scatter",
           "x": [],
           "y": []
          },
          {
           "marker": {
            "size": [],
            "sizemode": "area",
            "sizeref": 200000
           },
           "mode": "markers",
           "name": "l",
           "text": [],
           "type": "scatter",
           "x": [],
           "y": []
          },
          {
           "marker": {
            "size": [],
            "sizemode": "area",
            "sizeref": 200000
           },
           "mode": "markers",
           "name": "d",
           "text": [],
           "type": "scatter",
           "x": [],
           "y": []
          }
         ],
         "name": "2019"
        },
        {
         "data": [
          {
           "marker": {
            "size": [],
            "sizemode": "area",
            "sizeref": 200000
           },
           "mode": "markers",
           "name": "W",
           "text": [],
           "type": "scatter",
           "x": [],
           "y": []
          },
          {
           "marker": {
            "size": [],
            "sizemode": "area",
            "sizeref": 200000
           },
           "mode": "markers",
           "name": "o",
           "text": [],
           "type": "scatter",
           "x": [],
           "y": []
          },
          {
           "marker": {
            "size": [],
            "sizemode": "area",
            "sizeref": 200000
           },
           "mode": "markers",
           "name": "r",
           "text": [],
           "type": "scatter",
           "x": [],
           "y": []
          },
          {
           "marker": {
            "size": [],
            "sizemode": "area",
            "sizeref": 200000
           },
           "mode": "markers",
           "name": "l",
           "text": [],
           "type": "scatter",
           "x": [],
           "y": []
          },
          {
           "marker": {
            "size": [],
            "sizemode": "area",
            "sizeref": 200000
           },
           "mode": "markers",
           "name": "d",
           "text": [],
           "type": "scatter",
           "x": [],
           "y": []
          }
         ],
         "name": "2020"
        },
        {
         "data": [
          {
           "marker": {
            "size": [],
            "sizemode": "area",
            "sizeref": 200000
           },
           "mode": "markers",
           "name": "W",
           "text": [],
           "type": "scatter",
           "x": [],
           "y": []
          },
          {
           "marker": {
            "size": [],
            "sizemode": "area",
            "sizeref": 200000
           },
           "mode": "markers",
           "name": "o",
           "text": [],
           "type": "scatter",
           "x": [],
           "y": []
          },
          {
           "marker": {
            "size": [],
            "sizemode": "area",
            "sizeref": 200000
           },
           "mode": "markers",
           "name": "r",
           "text": [],
           "type": "scatter",
           "x": [],
           "y": []
          },
          {
           "marker": {
            "size": [],
            "sizemode": "area",
            "sizeref": 200000
           },
           "mode": "markers",
           "name": "l",
           "text": [],
           "type": "scatter",
           "x": [],
           "y": []
          },
          {
           "marker": {
            "size": [],
            "sizemode": "area",
            "sizeref": 200000
           },
           "mode": "markers",
           "name": "d",
           "text": [],
           "type": "scatter",
           "x": [],
           "y": []
          }
         ],
         "name": "2021"
        },
        {
         "data": [
          {
           "marker": {
            "size": [],
            "sizemode": "area",
            "sizeref": 200000
           },
           "mode": "markers",
           "name": "W",
           "text": [],
           "type": "scatter",
           "x": [],
           "y": []
          },
          {
           "marker": {
            "size": [],
            "sizemode": "area",
            "sizeref": 200000
           },
           "mode": "markers",
           "name": "o",
           "text": [],
           "type": "scatter",
           "x": [],
           "y": []
          },
          {
           "marker": {
            "size": [],
            "sizemode": "area",
            "sizeref": 200000
           },
           "mode": "markers",
           "name": "r",
           "text": [],
           "type": "scatter",
           "x": [],
           "y": []
          },
          {
           "marker": {
            "size": [],
            "sizemode": "area",
            "sizeref": 200000
           },
           "mode": "markers",
           "name": "l",
           "text": [],
           "type": "scatter",
           "x": [],
           "y": []
          },
          {
           "marker": {
            "size": [],
            "sizemode": "area",
            "sizeref": 200000
           },
           "mode": "markers",
           "name": "d",
           "text": [],
           "type": "scatter",
           "x": [],
           "y": []
          }
         ],
         "name": "2022"
        }
       ],
       "layout": {
        "hovermode": "closest",
        "sliders": [
         {
          "active": 0,
          "currentvalue": {
           "font": {
            "size": 20
           },
           "prefix": "Year:",
           "visible": true,
           "xanchor": "right"
          },
          "len": 0.9,
          "pad": {
           "b": 10,
           "t": 50
          },
          "steps": [
           {
            "args": [
             [
              "1960"
             ],
             {
              "frame": {
               "duration": 300,
               "redraw": false
              },
              "mode": "immediate",
              "transition": {
               "duration": 300
              }
             }
            ],
            "label": "1960",
            "method": "animate"
           },
           {
            "args": [
             [
              "1961"
             ],
             {
              "frame": {
               "duration": 300,
               "redraw": false
              },
              "mode": "immediate",
              "transition": {
               "duration": 300
              }
             }
            ],
            "label": "1961",
            "method": "animate"
           },
           {
            "args": [
             [
              "1962"
             ],
             {
              "frame": {
               "duration": 300,
               "redraw": false
              },
              "mode": "immediate",
              "transition": {
               "duration": 300
              }
             }
            ],
            "label": "1962",
            "method": "animate"
           },
           {
            "args": [
             [
              "1963"
             ],
             {
              "frame": {
               "duration": 300,
               "redraw": false
              },
              "mode": "immediate",
              "transition": {
               "duration": 300
              }
             }
            ],
            "label": "1963",
            "method": "animate"
           },
           {
            "args": [
             [
              "1964"
             ],
             {
              "frame": {
               "duration": 300,
               "redraw": false
              },
              "mode": "immediate",
              "transition": {
               "duration": 300
              }
             }
            ],
            "label": "1964",
            "method": "animate"
           },
           {
            "args": [
             [
              "1965"
             ],
             {
              "frame": {
               "duration": 300,
               "redraw": false
              },
              "mode": "immediate",
              "transition": {
               "duration": 300
              }
             }
            ],
            "label": "1965",
            "method": "animate"
           },
           {
            "args": [
             [
              "1966"
             ],
             {
              "frame": {
               "duration": 300,
               "redraw": false
              },
              "mode": "immediate",
              "transition": {
               "duration": 300
              }
             }
            ],
            "label": "1966",
            "method": "animate"
           },
           {
            "args": [
             [
              "1967"
             ],
             {
              "frame": {
               "duration": 300,
               "redraw": false
              },
              "mode": "immediate",
              "transition": {
               "duration": 300
              }
             }
            ],
            "label": "1967",
            "method": "animate"
           },
           {
            "args": [
             [
              "1968"
             ],
             {
              "frame": {
               "duration": 300,
               "redraw": false
              },
              "mode": "immediate",
              "transition": {
               "duration": 300
              }
             }
            ],
            "label": "1968",
            "method": "animate"
           },
           {
            "args": [
             [
              "1969"
             ],
             {
              "frame": {
               "duration": 300,
               "redraw": false
              },
              "mode": "immediate",
              "transition": {
               "duration": 300
              }
             }
            ],
            "label": "1969",
            "method": "animate"
           },
           {
            "args": [
             [
              "1970"
             ],
             {
              "frame": {
               "duration": 300,
               "redraw": false
              },
              "mode": "immediate",
              "transition": {
               "duration": 300
              }
             }
            ],
            "label": "1970",
            "method": "animate"
           },
           {
            "args": [
             [
              "1971"
             ],
             {
              "frame": {
               "duration": 300,
               "redraw": false
              },
              "mode": "immediate",
              "transition": {
               "duration": 300
              }
             }
            ],
            "label": "1971",
            "method": "animate"
           },
           {
            "args": [
             [
              "1972"
             ],
             {
              "frame": {
               "duration": 300,
               "redraw": false
              },
              "mode": "immediate",
              "transition": {
               "duration": 300
              }
             }
            ],
            "label": "1972",
            "method": "animate"
           },
           {
            "args": [
             [
              "1973"
             ],
             {
              "frame": {
               "duration": 300,
               "redraw": false
              },
              "mode": "immediate",
              "transition": {
               "duration": 300
              }
             }
            ],
            "label": "1973",
            "method": "animate"
           },
           {
            "args": [
             [
              "1974"
             ],
             {
              "frame": {
               "duration": 300,
               "redraw": false
              },
              "mode": "immediate",
              "transition": {
               "duration": 300
              }
             }
            ],
            "label": "1974",
            "method": "animate"
           },
           {
            "args": [
             [
              "1975"
             ],
             {
              "frame": {
               "duration": 300,
               "redraw": false
              },
              "mode": "immediate",
              "transition": {
               "duration": 300
              }
             }
            ],
            "label": "1975",
            "method": "animate"
           },
           {
            "args": [
             [
              "1976"
             ],
             {
              "frame": {
               "duration": 300,
               "redraw": false
              },
              "mode": "immediate",
              "transition": {
               "duration": 300
              }
             }
            ],
            "label": "1976",
            "method": "animate"
           },
           {
            "args": [
             [
              "1977"
             ],
             {
              "frame": {
               "duration": 300,
               "redraw": false
              },
              "mode": "immediate",
              "transition": {
               "duration": 300
              }
             }
            ],
            "label": "1977",
            "method": "animate"
           },
           {
            "args": [
             [
              "1978"
             ],
             {
              "frame": {
               "duration": 300,
               "redraw": false
              },
              "mode": "immediate",
              "transition": {
               "duration": 300
              }
             }
            ],
            "label": "1978",
            "method": "animate"
           },
           {
            "args": [
             [
              "1979"
             ],
             {
              "frame": {
               "duration": 300,
               "redraw": false
              },
              "mode": "immediate",
              "transition": {
               "duration": 300
              }
             }
            ],
            "label": "1979",
            "method": "animate"
           },
           {
            "args": [
             [
              "1980"
             ],
             {
              "frame": {
               "duration": 300,
               "redraw": false
              },
              "mode": "immediate",
              "transition": {
               "duration": 300
              }
             }
            ],
            "label": "1980",
            "method": "animate"
           },
           {
            "args": [
             [
              "1981"
             ],
             {
              "frame": {
               "duration": 300,
               "redraw": false
              },
              "mode": "immediate",
              "transition": {
               "duration": 300
              }
             }
            ],
            "label": "1981",
            "method": "animate"
           },
           {
            "args": [
             [
              "1982"
             ],
             {
              "frame": {
               "duration": 300,
               "redraw": false
              },
              "mode": "immediate",
              "transition": {
               "duration": 300
              }
             }
            ],
            "label": "1982",
            "method": "animate"
           },
           {
            "args": [
             [
              "1983"
             ],
             {
              "frame": {
               "duration": 300,
               "redraw": false
              },
              "mode": "immediate",
              "transition": {
               "duration": 300
              }
             }
            ],
            "label": "1983",
            "method": "animate"
           },
           {
            "args": [
             [
              "1984"
             ],
             {
              "frame": {
               "duration": 300,
               "redraw": false
              },
              "mode": "immediate",
              "transition": {
               "duration": 300
              }
             }
            ],
            "label": "1984",
            "method": "animate"
           },
           {
            "args": [
             [
              "1985"
             ],
             {
              "frame": {
               "duration": 300,
               "redraw": false
              },
              "mode": "immediate",
              "transition": {
               "duration": 300
              }
             }
            ],
            "label": "1985",
            "method": "animate"
           },
           {
            "args": [
             [
              "1986"
             ],
             {
              "frame": {
               "duration": 300,
               "redraw": false
              },
              "mode": "immediate",
              "transition": {
               "duration": 300
              }
             }
            ],
            "label": "1986",
            "method": "animate"
           },
           {
            "args": [
             [
              "1987"
             ],
             {
              "frame": {
               "duration": 300,
               "redraw": false
              },
              "mode": "immediate",
              "transition": {
               "duration": 300
              }
             }
            ],
            "label": "1987",
            "method": "animate"
           },
           {
            "args": [
             [
              "1988"
             ],
             {
              "frame": {
               "duration": 300,
               "redraw": false
              },
              "mode": "immediate",
              "transition": {
               "duration": 300
              }
             }
            ],
            "label": "1988",
            "method": "animate"
           },
           {
            "args": [
             [
              "1989"
             ],
             {
              "frame": {
               "duration": 300,
               "redraw": false
              },
              "mode": "immediate",
              "transition": {
               "duration": 300
              }
             }
            ],
            "label": "1989",
            "method": "animate"
           },
           {
            "args": [
             [
              "1990"
             ],
             {
              "frame": {
               "duration": 300,
               "redraw": false
              },
              "mode": "immediate",
              "transition": {
               "duration": 300
              }
             }
            ],
            "label": "1990",
            "method": "animate"
           },
           {
            "args": [
             [
              "1991"
             ],
             {
              "frame": {
               "duration": 300,
               "redraw": false
              },
              "mode": "immediate",
              "transition": {
               "duration": 300
              }
             }
            ],
            "label": "1991",
            "method": "animate"
           },
           {
            "args": [
             [
              "1992"
             ],
             {
              "frame": {
               "duration": 300,
               "redraw": false
              },
              "mode": "immediate",
              "transition": {
               "duration": 300
              }
             }
            ],
            "label": "1992",
            "method": "animate"
           },
           {
            "args": [
             [
              "1993"
             ],
             {
              "frame": {
               "duration": 300,
               "redraw": false
              },
              "mode": "immediate",
              "transition": {
               "duration": 300
              }
             }
            ],
            "label": "1993",
            "method": "animate"
           },
           {
            "args": [
             [
              "1994"
             ],
             {
              "frame": {
               "duration": 300,
               "redraw": false
              },
              "mode": "immediate",
              "transition": {
               "duration": 300
              }
             }
            ],
            "label": "1994",
            "method": "animate"
           },
           {
            "args": [
             [
              "1995"
             ],
             {
              "frame": {
               "duration": 300,
               "redraw": false
              },
              "mode": "immediate",
              "transition": {
               "duration": 300
              }
             }
            ],
            "label": "1995",
            "method": "animate"
           },
           {
            "args": [
             [
              "1996"
             ],
             {
              "frame": {
               "duration": 300,
               "redraw": false
              },
              "mode": "immediate",
              "transition": {
               "duration": 300
              }
             }
            ],
            "label": "1996",
            "method": "animate"
           },
           {
            "args": [
             [
              "1997"
             ],
             {
              "frame": {
               "duration": 300,
               "redraw": false
              },
              "mode": "immediate",
              "transition": {
               "duration": 300
              }
             }
            ],
            "label": "1997",
            "method": "animate"
           },
           {
            "args": [
             [
              "1998"
             ],
             {
              "frame": {
               "duration": 300,
               "redraw": false
              },
              "mode": "immediate",
              "transition": {
               "duration": 300
              }
             }
            ],
            "label": "1998",
            "method": "animate"
           },
           {
            "args": [
             [
              "1999"
             ],
             {
              "frame": {
               "duration": 300,
               "redraw": false
              },
              "mode": "immediate",
              "transition": {
               "duration": 300
              }
             }
            ],
            "label": "1999",
            "method": "animate"
           },
           {
            "args": [
             [
              "2000"
             ],
             {
              "frame": {
               "duration": 300,
               "redraw": false
              },
              "mode": "immediate",
              "transition": {
               "duration": 300
              }
             }
            ],
            "label": "2000",
            "method": "animate"
           },
           {
            "args": [
             [
              "2001"
             ],
             {
              "frame": {
               "duration": 300,
               "redraw": false
              },
              "mode": "immediate",
              "transition": {
               "duration": 300
              }
             }
            ],
            "label": "2001",
            "method": "animate"
           },
           {
            "args": [
             [
              "2002"
             ],
             {
              "frame": {
               "duration": 300,
               "redraw": false
              },
              "mode": "immediate",
              "transition": {
               "duration": 300
              }
             }
            ],
            "label": "2002",
            "method": "animate"
           },
           {
            "args": [
             [
              "2003"
             ],
             {
              "frame": {
               "duration": 300,
               "redraw": false
              },
              "mode": "immediate",
              "transition": {
               "duration": 300
              }
             }
            ],
            "label": "2003",
            "method": "animate"
           },
           {
            "args": [
             [
              "2004"
             ],
             {
              "frame": {
               "duration": 300,
               "redraw": false
              },
              "mode": "immediate",
              "transition": {
               "duration": 300
              }
             }
            ],
            "label": "2004",
            "method": "animate"
           },
           {
            "args": [
             [
              "2005"
             ],
             {
              "frame": {
               "duration": 300,
               "redraw": false
              },
              "mode": "immediate",
              "transition": {
               "duration": 300
              }
             }
            ],
            "label": "2005",
            "method": "animate"
           },
           {
            "args": [
             [
              "2006"
             ],
             {
              "frame": {
               "duration": 300,
               "redraw": false
              },
              "mode": "immediate",
              "transition": {
               "duration": 300
              }
             }
            ],
            "label": "2006",
            "method": "animate"
           },
           {
            "args": [
             [
              "2007"
             ],
             {
              "frame": {
               "duration": 300,
               "redraw": false
              },
              "mode": "immediate",
              "transition": {
               "duration": 300
              }
             }
            ],
            "label": "2007",
            "method": "animate"
           },
           {
            "args": [
             [
              "2008"
             ],
             {
              "frame": {
               "duration": 300,
               "redraw": false
              },
              "mode": "immediate",
              "transition": {
               "duration": 300
              }
             }
            ],
            "label": "2008",
            "method": "animate"
           },
           {
            "args": [
             [
              "2009"
             ],
             {
              "frame": {
               "duration": 300,
               "redraw": false
              },
              "mode": "immediate",
              "transition": {
               "duration": 300
              }
             }
            ],
            "label": "2009",
            "method": "animate"
           },
           {
            "args": [
             [
              "2010"
             ],
             {
              "frame": {
               "duration": 300,
               "redraw": false
              },
              "mode": "immediate",
              "transition": {
               "duration": 300
              }
             }
            ],
            "label": "2010",
            "method": "animate"
           },
           {
            "args": [
             [
              "2011"
             ],
             {
              "frame": {
               "duration": 300,
               "redraw": false
              },
              "mode": "immediate",
              "transition": {
               "duration": 300
              }
             }
            ],
            "label": "2011",
            "method": "animate"
           },
           {
            "args": [
             [
              "2012"
             ],
             {
              "frame": {
               "duration": 300,
               "redraw": false
              },
              "mode": "immediate",
              "transition": {
               "duration": 300
              }
             }
            ],
            "label": "2012",
            "method": "animate"
           },
           {
            "args": [
             [
              "2013"
             ],
             {
              "frame": {
               "duration": 300,
               "redraw": false
              },
              "mode": "immediate",
              "transition": {
               "duration": 300
              }
             }
            ],
            "label": "2013",
            "method": "animate"
           },
           {
            "args": [
             [
              "2014"
             ],
             {
              "frame": {
               "duration": 300,
               "redraw": false
              },
              "mode": "immediate",
              "transition": {
               "duration": 300
              }
             }
            ],
            "label": "2014",
            "method": "animate"
           },
           {
            "args": [
             [
              "2015"
             ],
             {
              "frame": {
               "duration": 300,
               "redraw": false
              },
              "mode": "immediate",
              "transition": {
               "duration": 300
              }
             }
            ],
            "label": "2015",
            "method": "animate"
           },
           {
            "args": [
             [
              "2016"
             ],
             {
              "frame": {
               "duration": 300,
               "redraw": false
              },
              "mode": "immediate",
              "transition": {
               "duration": 300
              }
             }
            ],
            "label": "2016",
            "method": "animate"
           },
           {
            "args": [
             [
              "2017"
             ],
             {
              "frame": {
               "duration": 300,
               "redraw": false
              },
              "mode": "immediate",
              "transition": {
               "duration": 300
              }
             }
            ],
            "label": "2017",
            "method": "animate"
           },
           {
            "args": [
             [
              "2018"
             ],
             {
              "frame": {
               "duration": 300,
               "redraw": false
              },
              "mode": "immediate",
              "transition": {
               "duration": 300
              }
             }
            ],
            "label": "2018",
            "method": "animate"
           },
           {
            "args": [
             [
              "2019"
             ],
             {
              "frame": {
               "duration": 300,
               "redraw": false
              },
              "mode": "immediate",
              "transition": {
               "duration": 300
              }
             }
            ],
            "label": "2019",
            "method": "animate"
           },
           {
            "args": [
             [
              "2020"
             ],
             {
              "frame": {
               "duration": 300,
               "redraw": false
              },
              "mode": "immediate",
              "transition": {
               "duration": 300
              }
             }
            ],
            "label": "2020",
            "method": "animate"
           },
           {
            "args": [
             [
              "2021"
             ],
             {
              "frame": {
               "duration": 300,
               "redraw": false
              },
              "mode": "immediate",
              "transition": {
               "duration": 300
              }
             }
            ],
            "label": "2021",
            "method": "animate"
           },
           {
            "args": [
             [
              "2022"
             ],
             {
              "frame": {
               "duration": 300,
               "redraw": false
              },
              "mode": "immediate",
              "transition": {
               "duration": 300
              }
             }
            ],
            "label": "2022",
            "method": "animate"
           }
          ],
          "transition": {
           "duration": 300,
           "easing": "cubic-in-out"
          },
          "x": 0.1,
          "xanchor": "left",
          "y": 0,
          "yanchor": "top"
         }
        ],
        "template": {
         "data": {
          "bar": [
           {
            "error_x": {
             "color": "#2a3f5f"
            },
            "error_y": {
             "color": "#2a3f5f"
            },
            "marker": {
             "line": {
              "color": "#E5ECF6",
              "width": 0.5
             },
             "pattern": {
              "fillmode": "overlay",
              "size": 10,
              "solidity": 0.2
             }
            },
            "type": "bar"
           }
          ],
          "barpolar": [
           {
            "marker": {
             "line": {
              "color": "#E5ECF6",
              "width": 0.5
             },
             "pattern": {
              "fillmode": "overlay",
              "size": 10,
              "solidity": 0.2
             }
            },
            "type": "barpolar"
           }
          ],
          "carpet": [
           {
            "aaxis": {
             "endlinecolor": "#2a3f5f",
             "gridcolor": "white",
             "linecolor": "white",
             "minorgridcolor": "white",
             "startlinecolor": "#2a3f5f"
            },
            "baxis": {
             "endlinecolor": "#2a3f5f",
             "gridcolor": "white",
             "linecolor": "white",
             "minorgridcolor": "white",
             "startlinecolor": "#2a3f5f"
            },
            "type": "carpet"
           }
          ],
          "choropleth": [
           {
            "colorbar": {
             "outlinewidth": 0,
             "ticks": ""
            },
            "type": "choropleth"
           }
          ],
          "contour": [
           {
            "colorbar": {
             "outlinewidth": 0,
             "ticks": ""
            },
            "colorscale": [
             [
              0,
              "#0d0887"
             ],
             [
              0.1111111111111111,
              "#46039f"
             ],
             [
              0.2222222222222222,
              "#7201a8"
             ],
             [
              0.3333333333333333,
              "#9c179e"
             ],
             [
              0.4444444444444444,
              "#bd3786"
             ],
             [
              0.5555555555555556,
              "#d8576b"
             ],
             [
              0.6666666666666666,
              "#ed7953"
             ],
             [
              0.7777777777777778,
              "#fb9f3a"
             ],
             [
              0.8888888888888888,
              "#fdca26"
             ],
             [
              1,
              "#f0f921"
             ]
            ],
            "type": "contour"
           }
          ],
          "contourcarpet": [
           {
            "colorbar": {
             "outlinewidth": 0,
             "ticks": ""
            },
            "type": "contourcarpet"
           }
          ],
          "heatmap": [
           {
            "colorbar": {
             "outlinewidth": 0,
             "ticks": ""
            },
            "colorscale": [
             [
              0,
              "#0d0887"
             ],
             [
              0.1111111111111111,
              "#46039f"
             ],
             [
              0.2222222222222222,
              "#7201a8"
             ],
             [
              0.3333333333333333,
              "#9c179e"
             ],
             [
              0.4444444444444444,
              "#bd3786"
             ],
             [
              0.5555555555555556,
              "#d8576b"
             ],
             [
              0.6666666666666666,
              "#ed7953"
             ],
             [
              0.7777777777777778,
              "#fb9f3a"
             ],
             [
              0.8888888888888888,
              "#fdca26"
             ],
             [
              1,
              "#f0f921"
             ]
            ],
            "type": "heatmap"
           }
          ],
          "heatmapgl": [
           {
            "colorbar": {
             "outlinewidth": 0,
             "ticks": ""
            },
            "colorscale": [
             [
              0,
              "#0d0887"
             ],
             [
              0.1111111111111111,
              "#46039f"
             ],
             [
              0.2222222222222222,
              "#7201a8"
             ],
             [
              0.3333333333333333,
              "#9c179e"
             ],
             [
              0.4444444444444444,
              "#bd3786"
             ],
             [
              0.5555555555555556,
              "#d8576b"
             ],
             [
              0.6666666666666666,
              "#ed7953"
             ],
             [
              0.7777777777777778,
              "#fb9f3a"
             ],
             [
              0.8888888888888888,
              "#fdca26"
             ],
             [
              1,
              "#f0f921"
             ]
            ],
            "type": "heatmapgl"
           }
          ],
          "histogram": [
           {
            "marker": {
             "pattern": {
              "fillmode": "overlay",
              "size": 10,
              "solidity": 0.2
             }
            },
            "type": "histogram"
           }
          ],
          "histogram2d": [
           {
            "colorbar": {
             "outlinewidth": 0,
             "ticks": ""
            },
            "colorscale": [
             [
              0,
              "#0d0887"
             ],
             [
              0.1111111111111111,
              "#46039f"
             ],
             [
              0.2222222222222222,
              "#7201a8"
             ],
             [
              0.3333333333333333,
              "#9c179e"
             ],
             [
              0.4444444444444444,
              "#bd3786"
             ],
             [
              0.5555555555555556,
              "#d8576b"
             ],
             [
              0.6666666666666666,
              "#ed7953"
             ],
             [
              0.7777777777777778,
              "#fb9f3a"
             ],
             [
              0.8888888888888888,
              "#fdca26"
             ],
             [
              1,
              "#f0f921"
             ]
            ],
            "type": "histogram2d"
           }
          ],
          "histogram2dcontour": [
           {
            "colorbar": {
             "outlinewidth": 0,
             "ticks": ""
            },
            "colorscale": [
             [
              0,
              "#0d0887"
             ],
             [
              0.1111111111111111,
              "#46039f"
             ],
             [
              0.2222222222222222,
              "#7201a8"
             ],
             [
              0.3333333333333333,
              "#9c179e"
             ],
             [
              0.4444444444444444,
              "#bd3786"
             ],
             [
              0.5555555555555556,
              "#d8576b"
             ],
             [
              0.6666666666666666,
              "#ed7953"
             ],
             [
              0.7777777777777778,
              "#fb9f3a"
             ],
             [
              0.8888888888888888,
              "#fdca26"
             ],
             [
              1,
              "#f0f921"
             ]
            ],
            "type": "histogram2dcontour"
           }
          ],
          "mesh3d": [
           {
            "colorbar": {
             "outlinewidth": 0,
             "ticks": ""
            },
            "type": "mesh3d"
           }
          ],
          "parcoords": [
           {
            "line": {
             "colorbar": {
              "outlinewidth": 0,
              "ticks": ""
             }
            },
            "type": "parcoords"
           }
          ],
          "pie": [
           {
            "automargin": true,
            "type": "pie"
           }
          ],
          "scatter": [
           {
            "fillpattern": {
             "fillmode": "overlay",
             "size": 10,
             "solidity": 0.2
            },
            "type": "scatter"
           }
          ],
          "scatter3d": [
           {
            "line": {
             "colorbar": {
              "outlinewidth": 0,
              "ticks": ""
             }
            },
            "marker": {
             "colorbar": {
              "outlinewidth": 0,
              "ticks": ""
             }
            },
            "type": "scatter3d"
           }
          ],
          "scattercarpet": [
           {
            "marker": {
             "colorbar": {
              "outlinewidth": 0,
              "ticks": ""
             }
            },
            "type": "scattercarpet"
           }
          ],
          "scattergeo": [
           {
            "marker": {
             "colorbar": {
              "outlinewidth": 0,
              "ticks": ""
             }
            },
            "type": "scattergeo"
           }
          ],
          "scattergl": [
           {
            "marker": {
             "colorbar": {
              "outlinewidth": 0,
              "ticks": ""
             }
            },
            "type": "scattergl"
           }
          ],
          "scattermapbox": [
           {
            "marker": {
             "colorbar": {
              "outlinewidth": 0,
              "ticks": ""
             }
            },
            "type": "scattermapbox"
           }
          ],
          "scatterpolar": [
           {
            "marker": {
             "colorbar": {
              "outlinewidth": 0,
              "ticks": ""
             }
            },
            "type": "scatterpolar"
           }
          ],
          "scatterpolargl": [
           {
            "marker": {
             "colorbar": {
              "outlinewidth": 0,
              "ticks": ""
             }
            },
            "type": "scatterpolargl"
           }
          ],
          "scatterternary": [
           {
            "marker": {
             "colorbar": {
              "outlinewidth": 0,
              "ticks": ""
             }
            },
            "type": "scatterternary"
           }
          ],
          "surface": [
           {
            "colorbar": {
             "outlinewidth": 0,
             "ticks": ""
            },
            "colorscale": [
             [
              0,
              "#0d0887"
             ],
             [
              0.1111111111111111,
              "#46039f"
             ],
             [
              0.2222222222222222,
              "#7201a8"
             ],
             [
              0.3333333333333333,
              "#9c179e"
             ],
             [
              0.4444444444444444,
              "#bd3786"
             ],
             [
              0.5555555555555556,
              "#d8576b"
             ],
             [
              0.6666666666666666,
              "#ed7953"
             ],
             [
              0.7777777777777778,
              "#fb9f3a"
             ],
             [
              0.8888888888888888,
              "#fdca26"
             ],
             [
              1,
              "#f0f921"
             ]
            ],
            "type": "surface"
           }
          ],
          "table": [
           {
            "cells": {
             "fill": {
              "color": "#EBF0F8"
             },
             "line": {
              "color": "white"
             }
            },
            "header": {
             "fill": {
              "color": "#C8D4E3"
             },
             "line": {
              "color": "white"
             }
            },
            "type": "table"
           }
          ]
         },
         "layout": {
          "annotationdefaults": {
           "arrowcolor": "#2a3f5f",
           "arrowhead": 0,
           "arrowwidth": 1
          },
          "autotypenumbers": "strict",
          "coloraxis": {
           "colorbar": {
            "outlinewidth": 0,
            "ticks": ""
           }
          },
          "colorscale": {
           "diverging": [
            [
             0,
             "#8e0152"
            ],
            [
             0.1,
             "#c51b7d"
            ],
            [
             0.2,
             "#de77ae"
            ],
            [
             0.3,
             "#f1b6da"
            ],
            [
             0.4,
             "#fde0ef"
            ],
            [
             0.5,
             "#f7f7f7"
            ],
            [
             0.6,
             "#e6f5d0"
            ],
            [
             0.7,
             "#b8e186"
            ],
            [
             0.8,
             "#7fbc41"
            ],
            [
             0.9,
             "#4d9221"
            ],
            [
             1,
             "#276419"
            ]
           ],
           "sequential": [
            [
             0,
             "#0d0887"
            ],
            [
             0.1111111111111111,
             "#46039f"
            ],
            [
             0.2222222222222222,
             "#7201a8"
            ],
            [
             0.3333333333333333,
             "#9c179e"
            ],
            [
             0.4444444444444444,
             "#bd3786"
            ],
            [
             0.5555555555555556,
             "#d8576b"
            ],
            [
             0.6666666666666666,
             "#ed7953"
            ],
            [
             0.7777777777777778,
             "#fb9f3a"
            ],
            [
             0.8888888888888888,
             "#fdca26"
            ],
            [
             1,
             "#f0f921"
            ]
           ],
           "sequentialminus": [
            [
             0,
             "#0d0887"
            ],
            [
             0.1111111111111111,
             "#46039f"
            ],
            [
             0.2222222222222222,
             "#7201a8"
            ],
            [
             0.3333333333333333,
             "#9c179e"
            ],
            [
             0.4444444444444444,
             "#bd3786"
            ],
            [
             0.5555555555555556,
             "#d8576b"
            ],
            [
             0.6666666666666666,
             "#ed7953"
            ],
            [
             0.7777777777777778,
             "#fb9f3a"
            ],
            [
             0.8888888888888888,
             "#fdca26"
            ],
            [
             1,
             "#f0f921"
            ]
           ]
          },
          "colorway": [
           "#636efa",
           "#EF553B",
           "#00cc96",
           "#ab63fa",
           "#FFA15A",
           "#19d3f3",
           "#FF6692",
           "#B6E880",
           "#FF97FF",
           "#FECB52"
          ],
          "font": {
           "color": "#2a3f5f"
          },
          "geo": {
           "bgcolor": "white",
           "lakecolor": "white",
           "landcolor": "#E5ECF6",
           "showlakes": true,
           "showland": true,
           "subunitcolor": "white"
          },
          "hoverlabel": {
           "align": "left"
          },
          "hovermode": "closest",
          "mapbox": {
           "style": "light"
          },
          "paper_bgcolor": "white",
          "plot_bgcolor": "#E5ECF6",
          "polar": {
           "angularaxis": {
            "gridcolor": "white",
            "linecolor": "white",
            "ticks": ""
           },
           "bgcolor": "#E5ECF6",
           "radialaxis": {
            "gridcolor": "white",
            "linecolor": "white",
            "ticks": ""
           }
          },
          "scene": {
           "xaxis": {
            "backgroundcolor": "#E5ECF6",
            "gridcolor": "white",
            "gridwidth": 2,
            "linecolor": "white",
            "showbackground": true,
            "ticks": "",
            "zerolinecolor": "white"
           },
           "yaxis": {
            "backgroundcolor": "#E5ECF6",
            "gridcolor": "white",
            "gridwidth": 2,
            "linecolor": "white",
            "showbackground": true,
            "ticks": "",
            "zerolinecolor": "white"
           },
           "zaxis": {
            "backgroundcolor": "#E5ECF6",
            "gridcolor": "white",
            "gridwidth": 2,
            "linecolor": "white",
            "showbackground": true,
            "ticks": "",
            "zerolinecolor": "white"
           }
          },
          "shapedefaults": {
           "line": {
            "color": "#2a3f5f"
           }
          },
          "ternary": {
           "aaxis": {
            "gridcolor": "white",
            "linecolor": "white",
            "ticks": ""
           },
           "baxis": {
            "gridcolor": "white",
            "linecolor": "white",
            "ticks": ""
           },
           "bgcolor": "#E5ECF6",
           "caxis": {
            "gridcolor": "white",
            "linecolor": "white",
            "ticks": ""
           }
          },
          "title": {
           "x": 0.05
          },
          "xaxis": {
           "automargin": true,
           "gridcolor": "white",
           "linecolor": "white",
           "ticks": "",
           "title": {
            "standoff": 15
           },
           "zerolinecolor": "white",
           "zerolinewidth": 2
          },
          "yaxis": {
           "automargin": true,
           "gridcolor": "white",
           "linecolor": "white",
           "ticks": "",
           "title": {
            "standoff": 15
           },
           "zerolinecolor": "white",
           "zerolinewidth": 2
          }
         }
        },
        "updatemenus": [
         {
          "buttons": [
           {
            "args": [
             null,
             {
              "frame": {
               "duration": 500,
               "redraw": false
              },
              "fromcurrent": true,
              "transition": {
               "duration": 300,
               "easing": "quadratic-in-out"
              }
             }
            ],
            "label": "Play",
            "method": "animate"
           },
           {
            "args": [
             [
              null
             ],
             {
              "frame": {
               "duration": 0,
               "redraw": false
              },
              "mode": "immediate",
              "transition": {
               "duration": 0
              }
             }
            ],
            "label": "Pause",
            "method": "animate"
           }
          ],
          "direction": "left",
          "pad": {
           "r": 10,
           "t": 87
          },
          "showactive": false,
          "type": "buttons",
          "x": 0.1,
          "xanchor": "right",
          "y": 0,
          "yanchor": "top"
         }
        ],
        "xaxis": {
         "range": [
          0,
          100
         ],
         "title": {
          "text": "Life Expectancy"
         }
        },
        "yaxis": {
         "title": {
          "text": "GDP per Capita"
         },
         "type": "log"
        }
       }
      }
     },
     "metadata": {},
     "output_type": "display_data"
    }
   ],
   "source": [
    "import numpy as np\n",
    "import plotly.graph_objects as go\n",
    "\n",
    "# make figure\n",
    "fig_dict = {\n",
    "    \"data\": [],\n",
    "    \"layout\": {},\n",
    "    \"frames\": []\n",
    "}\n",
    "\n",
    "# fill in most of the layout\n",
    "fig_dict[\"layout\"][\"xaxis\"] = {\"range\": [0, 100], \"title\": \"Life Expectancy\"}\n",
    "fig_dict[\"layout\"][\"yaxis\"] = {\"title\": \"GDP per Capita\", \"type\": \"log\"}\n",
    "fig_dict[\"layout\"][\"hovermode\"] = \"closest\"\n",
    "fig_dict[\"layout\"][\"updatemenus\"] = [\n",
    "    {\n",
    "        \"buttons\": [\n",
    "            {\n",
    "                \"args\": [None, {\"frame\": {\"duration\": 500, \"redraw\": False},\n",
    "                                \"fromcurrent\": True, \"transition\": {\"duration\": 300,\n",
    "                                                                    \"easing\": \"quadratic-in-out\"}}],\n",
    "                \"label\": \"Play\",\n",
    "                \"method\": \"animate\"\n",
    "            },\n",
    "            {\n",
    "                \"args\": [[None], {\"frame\": {\"duration\": 0, \"redraw\": False},\n",
    "                                  \"mode\": \"immediate\",\n",
    "                                  \"transition\": {\"duration\": 0}}],\n",
    "                \"label\": \"Pause\",\n",
    "                \"method\": \"animate\"\n",
    "            }\n",
    "        ],\n",
    "        \"direction\": \"left\",\n",
    "        \"pad\": {\"r\": 10, \"t\": 87},\n",
    "        \"showactive\": False,\n",
    "        \"type\": \"buttons\",\n",
    "        \"x\": 0.1,\n",
    "        \"xanchor\": \"right\",\n",
    "        \"y\": 0,\n",
    "        \"yanchor\": \"top\"\n",
    "    }\n",
    "]\n",
    "\n",
    "sliders_dict = {\n",
    "    \"active\": 0,\n",
    "    \"yanchor\": \"top\",\n",
    "    \"xanchor\": \"left\",\n",
    "    \"currentvalue\": {\n",
    "        \"font\": {\"size\": 20},\n",
    "        \"prefix\": \"Year:\",\n",
    "        \"visible\": True,\n",
    "        \"xanchor\": \"right\"\n",
    "    },\n",
    "    \"transition\": {\"duration\": 300, \"easing\": \"cubic-in-out\"},\n",
    "    \"pad\": {\"b\": 10, \"t\": 50},\n",
    "    \"len\": 0.9,\n",
    "    \"x\": 0.1,\n",
    "    \"y\": 0,\n",
    "    \"steps\": []\n",
    "}\n",
    "\n",
    "years = np.unique(np.array(list(df['Year'])))\n",
    "for year in years:\n",
    "    frame = {\"data\": [], \"name\": str(year)}\n",
    "    for country in countries[-1]:\n",
    "        dataset_by_year = east_africa_countries_data[east_africa_countries_data[\"Year\"] == int(year)]\n",
    "        dataset_by_year_and_cont = dataset_by_year[dataset_by_year[\"Country\"] == country]\n",
    "\n",
    "        data_dict = {\n",
    "            \"y\": list(dataset_by_year_and_cont['Fertility rate, total (births per woman)']),\n",
    "            'x': list(dataset_by_year_and_cont['Population growth (annual %)']),\n",
    "            'mode': 'markers',\n",
    "            'text': list(dataset_by_year_and_cont['Country']),\n",
    "            \"marker\": {\n",
    "                \"sizemode\": \"area\",\n",
    "                \"sizeref\": 200000,\n",
    "                \"size\": list(dataset_by_year_and_cont[\"Population growth (annual %)\"])\n",
    "            },\n",
    "            'name': country,\n",
    "        }\n",
    "        frame[\"data\"].append(data_dict)\n",
    "\n",
    "    fig_dict[\"frames\"].append(frame)\n",
    "    slider_step = {\"args\": [\n",
    "        [str(year)],\n",
    "        {\"frame\": {\"duration\": 300, \"redraw\": False},\n",
    "         \"mode\": \"immediate\",\n",
    "         \"transition\": {\"duration\": 300}}\n",
    "    ],\n",
    "        \"label\": str(year),\n",
    "        \"method\": \"animate\"}\n",
    "    sliders_dict[\"steps\"].append(slider_step)\n",
    "\n",
    "fig_dict[\"layout\"][\"sliders\"] = [sliders_dict]\n",
    "\n",
    "fig = go.Figure(fig_dict)\n",
    "\n",
    "fig.show()"
   ]
  },
  {
   "cell_type": "code",
   "execution_count": null,
   "metadata": {},
   "outputs": [],
   "source": []
  }
 ],
 "metadata": {
  "kernelspec": {
   "display_name": ".venv",
   "language": "python",
   "name": "python3"
  },
  "language_info": {
   "codemirror_mode": {
    "name": "ipython",
    "version": 3
   },
   "file_extension": ".py",
   "mimetype": "text/x-python",
   "name": "python",
   "nbconvert_exporter": "python",
   "pygments_lexer": "ipython3",
   "version": "3.9.7"
  },
  "orig_nbformat": 4
 },
 "nbformat": 4,
 "nbformat_minor": 2
}
