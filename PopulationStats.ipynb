{
 "cells": [
  {
   "cell_type": "markdown",
   "metadata": {},
   "source": [
    "# Population & General Demographics in East Africa\n",
    "***\n",
    "<img src=\"https://images.unsplash.com/photo-1560091129-27a0e2af124b?ixlib=rb-4.0.3&ixid=M3wxMjA3fDB8MHxwaG90by1wYWdlfHx8fGVufDB8fHx8fA%3D%3D&auto=format&fit=crop&w=3570&q=80\" alt=\"crowded street\" style=\"width:500px;\">"
   ]
  },
  {
   "cell_type": "markdown",
   "metadata": {},
   "source": [
    "<a id=\"WebScraping\"><h2>Web Scraping</h2></a>\n",
    "***\n",
    "<a id=\"ScraperImport\"><h3>Importing Libraries</h3></a>"
   ]
  },
  {
   "cell_type": "code",
   "execution_count": 7,
   "metadata": {},
   "outputs": [],
   "source": [
    "import pandas as pd\n",
    "from selenium import webdriver\n",
    "from selenium.webdriver.common.keys import Keys\n",
    "from selenium.webdriver.common.by import By\n",
    "from selenium.webdriver.chrome.options import Options\n",
    "import time\n",
    "import warnings\n",
    "warnings.filterwarnings('ignore')"
   ]
  },
  {
   "cell_type": "markdown",
   "metadata": {},
   "source": [
    "<a id=\"Setup\"><h3>Browser Setup</h3></a>"
   ]
  },
  {
   "cell_type": "code",
   "execution_count": 17,
   "metadata": {},
   "outputs": [],
   "source": [
    "path=\"https://data.worldbank.org/\"\n",
    "folder=r\"C:\\Users\\NAJIB\\Documents\\Data Analysis\\EastAfrica\\Data\"\n",
    "options=Options();\n",
    "prefs={\"download.default_directory\":r\"C:\\Users\\NAJIB\\Documents\\EastAfrica\\Data\"}\n",
    "options.add_experimental_option(\"prefs\",prefs);\n",
    "driver = webdriver.Chrome(options=options)\n",
    "driver.get(path)"
   ]
  },
  {
   "cell_type": "markdown",
   "metadata": {},
   "source": [
    "<a id=\"downloading\"><h3>Downloading Country Specific Data</h3></a>"
   ]
  },
  {
   "cell_type": "code",
   "execution_count": 11,
   "metadata": {},
   "outputs": [],
   "source": [
    "countries=['Somalia','Kenya','Ethiopia','Sudan', 'South Sudan','Eritrea','Djibouti','Rwanda','Uganda',\n",
    "           'Burundi','Tanzania','World']"
   ]
  },
  {
   "cell_type": "code",
   "execution_count": 27,
   "metadata": {},
   "outputs": [],
   "source": [
    "indicators=['Sex ratio at birth (male births per female births)',\n",
    "'Age dependency ratio (% of working-age population)',\n",
    "'Age dependency ratio, old (% of working-age population)',\n",
    "'Age dependency ratio, young (% of working-age population)',\n",
    "'Population growth (annual %)',\n",
    "'Population, total',\n",
    "'Population, female',\n",
    "'Population, female (% of total population)'\n",
    "'Population, male',\n",
    "'Population, male (% of total population)',\n",
    "'Life expectancy at birth, female (years)',\n",
    "'Life expectancy at birth, total (years)',\n",
    "'Life expectancy at birth, male (years)',\n",
    "'Fertility rate, total (births per woman)',\n",
    "'Survival to age 65, female (% of cohort)',\n",
    "'Survival to age 65, male (% of cohort)',\n",
    "'Population ages 00-04, female (% of female population)',\n",
    "'Population ages 00-04, male (% of male population)',\n",
    "'Population ages 0-14, female',\n",
    "'Population ages 0-14, female (% of female population)',\n",
    "'Population ages 0-14, male',\n",
    "'Population ages 0-14, male (% of male population)',\n",
    "'Population ages 0-14, total',\n",
    "'Population ages 0-14 (% of total population)',\n",
    "'Population ages 05-09, female (% of female population)',\n",
    "'Population ages 05-09, male (% of male population)',\n",
    "'Population ages 10-14, female (% of female population)',\n",
    "'Population ages 10-14, male (% of male population)',\n",
    "'Population ages 15-19, female (% of female population)',\n",
    "'Population ages 15-19, male (% of male population)',\n",
    "'Population ages 15-64, female',\n",
    "'Population ages 15-64, female (% of female population)',\n",
    "'Population ages 15-64, male',\n",
    "'Population ages 15-64, male (% of male population)',\n",
    "'Population ages 15-64, total',\n",
    "'Population ages 15-64 (% of total population)',\n",
    "'Population ages 20-24, female (% of female population)',\n",
    "'Population ages 20-24, male (% of male population)',\n",
    "'Population ages 25-29, female (% of female population)',\n",
    "'Population ages 25-29, male (% of male population)',\n",
    "'Population ages 30-34, female (% of female population)',\n",
    "'Population ages 30-34, male (% of male population)',\n",
    "'Population ages 35-39, female (% of female population)',\n",
    "'Population ages 35-39, male (% of male population)',\n",
    "'Population ages 40-44, female (% of female population)',\n",
    "'Population ages 40-44, male (% of male population)',\n",
    "'Population ages 45-49, female (% of female population)',\n",
    "'Population ages 45-49, male (% of male population)',\n",
    "'Population ages 50-54, female (% of female population)',\n",
    "'Population ages 50-54, male (% of male population)',\n",
    "'Population ages 55-59, female (% of female population)',\n",
    "'Population ages 55-59, male (% of male population)',\n",
    "'Population ages 60-64, female (% of female population)',\n",
    "'Population ages 60-64, male (% of male population)',\n",
    "'Population ages 65-69, female (% of female population)',\n",
    "'Population ages 65-69, male (% of male population)',\n",
    "'Population ages 65 and above, female',\n",
    "'Population ages 65 and above, female (% of female population)',\n",
    "'Population ages 65 and above, male',\n",
    "'Population ages 65 and above, male (% of male population)',\n",
    "'Population ages 65 and above, total',\n",
    "'Population ages 65 and above (% of total population)',\n",
    "'Population ages 70-74, female (% of female population)',\n",
    "'Population ages 70-74, male (% of male population)',\n",
    "'Population ages 75-79, female (% of female population)',\n",
    "'Population ages 75-79, male (% of male population)',\n",
    "'Population ages 80 and above, female (% of female population)',\n",
    "'Population ages 80 and above, male (% of male population)',\n",
    "]\n",
    "indicator_codes=['SP.POP.BRTH.MF',\n",
    "                 'SP.POP.DPND',\n",
    "                 'SP.POP.DPND.OL',\n",
    "                 'SP.POP.DPND.YG',\n",
    "                 'SP.DYN.TFRT.IN',\n",
    "                 'SP.DYN.LE00.FE.IN',\n",
    "                 'SP.DYN.LE00.MA.IN',\n",
    "                 'SP.DYN.LE00.IN',\n",
    "                 'SP.POP.GROW',\n",
    "                 'SP.POP.TOTL.FE.IN',\n",
    "                 'SP.POP.TOTL.MA.IN',\n",
    "                 'SP.POP.TOTL.MA.ZS',\n",
    "                 'SP.POP.TOTL.FE.ZS',\n",
    "                 'SP.DYN.TO65.FE.ZS',\n",
    "                 'SP.DYN.TO65.MA.ZS']"
   ]
  },
  {
   "cell_type": "code",
   "execution_count": 29,
   "metadata": {},
   "outputs": [],
   "source": [
    "for code in indicator_codes:\n",
    "    driver.get(f'https://data.worldbank.org/indicator/{code}')\n",
    "    country_indicator_download=driver.find_element(By.XPATH,'/html/body/div[1]/div/div/div/div[3]/article/aside/div/div[2]/div/p/a[3]').click()\n",
    "    home_btn=driver.find_element(By.XPATH,'/html/body/div[1]/div/div/div/header/div/a[2]').click()\n",
    "    time.sleep(2)"
   ]
  },
  {
   "cell_type": "code",
   "execution_count": 68,
   "metadata": {},
   "outputs": [
    {
     "name": "stdout",
     "output_type": "stream",
     "text": [
      "      Country Name Country ISO3  Year  \\\n",
      "0          Burundi          BDI  1960   \n",
      "1         Djibouti          DJI  1960   \n",
      "2          Eritrea          ERI  1960   \n",
      "3         Ethiopia          ETH  1960   \n",
      "4            Kenya          KEN  1960   \n",
      "...            ...          ...   ...   \n",
      "11335      Somalia          SOM  2022   \n",
      "11336  South Sudan          SSD  2022   \n",
      "11337     Tanzania          TZA  2022   \n",
      "11338       Uganda          UGA  2022   \n",
      "11339        World          WLD  2022   \n",
      "\n",
      "                                 Indicator Name     Indicator Code      Value  \n",
      "0      Life expectancy at birth, female (years)  SP.DYN.LE00.FE.IN  44.451000  \n",
      "1      Life expectancy at birth, female (years)  SP.DYN.LE00.FE.IN  45.281000  \n",
      "2      Life expectancy at birth, female (years)  SP.DYN.LE00.FE.IN  39.649000  \n",
      "3      Life expectancy at birth, female (years)  SP.DYN.LE00.FE.IN  42.676000  \n",
      "4      Life expectancy at birth, female (years)  SP.DYN.LE00.FE.IN  50.263000  \n",
      "...                                         ...                ...        ...  \n",
      "11335  Population, male (% of total population)  SP.POP.TOTL.MA.ZS  50.134601  \n",
      "11336  Population, male (% of total population)  SP.POP.TOTL.MA.ZS  49.523108  \n",
      "11337  Population, male (% of total population)  SP.POP.TOTL.MA.ZS  49.422968  \n",
      "11338  Population, male (% of total population)  SP.POP.TOTL.MA.ZS  49.527064  \n",
      "11339  Population, male (% of total population)  SP.POP.TOTL.MA.ZS  50.264885  \n",
      "\n",
      "[11340 rows x 6 columns]\n"
     ]
    }
   ],
   "source": [
    "import os\n",
    "final_df = pd.DataFrame(columns=['Country Name', 'Country ISO3', 'Year', 'Indicator Name', 'Indicator Code', 'Value'])\n",
    "files=list(os.listdir('./Data/'))\n",
    "for file,indicator in zip(files,indicators):\n",
    "    file=f'./Data/{file}'\n",
    "    temp_df=pd.read_excel(file,sheet_name='Data',skiprows=3)\n",
    "    temp_df=temp_df.melt(id_vars=['Country Name', 'Country Code', 'Indicator Name', 'Indicator Code'],\n",
    "                 var_name='Year',\n",
    "                 value_name='Value')\n",
    "    temp_df['Country ISO3'] = temp_df['Country Code'].str[-3:]\n",
    "    temp_df = temp_df[['Country Name', 'Country ISO3', 'Year', 'Indicator Name', 'Indicator Code', 'Value']]\n",
    "    temp_df=temp_df.loc[temp_df['Country Name'].isin(countries)]\n",
    "    final_df=pd.concat([final_df,temp_df],ignore_index=True)\n",
    "    # print(temp_df)\n",
    "    # final_df = final_df.append(temp_df, ignore_index=True)\n",
    "print(final_df)"
   ]
  },
  {
   "cell_type": "markdown",
   "metadata": {},
   "source": [
    "<a id=\"ColumnExtraction\"><h3>Extracting Specific Columns</h3></a>"
   ]
  },
  {
   "cell_type": "code",
   "execution_count": 70,
   "metadata": {},
   "outputs": [
    {
     "data": {
      "text/html": [
       "<div>\n",
       "<style scoped>\n",
       "    .dataframe tbody tr th:only-of-type {\n",
       "        vertical-align: middle;\n",
       "    }\n",
       "\n",
       "    .dataframe tbody tr th {\n",
       "        vertical-align: top;\n",
       "    }\n",
       "\n",
       "    .dataframe thead th {\n",
       "        text-align: right;\n",
       "    }\n",
       "</style>\n",
       "<table border=\"1\" class=\"dataframe\">\n",
       "  <thead>\n",
       "    <tr style=\"text-align: right;\">\n",
       "      <th></th>\n",
       "      <th>Country Name</th>\n",
       "      <th>Country ISO3</th>\n",
       "      <th>Year</th>\n",
       "      <th>Indicator Name</th>\n",
       "      <th>Indicator Code</th>\n",
       "      <th>Value</th>\n",
       "    </tr>\n",
       "  </thead>\n",
       "  <tbody>\n",
       "    <tr>\n",
       "      <th>11335</th>\n",
       "      <td>Somalia</td>\n",
       "      <td>SOM</td>\n",
       "      <td>2022</td>\n",
       "      <td>Population, male (% of total population)</td>\n",
       "      <td>SP.POP.TOTL.MA.ZS</td>\n",
       "      <td>50.134601</td>\n",
       "    </tr>\n",
       "    <tr>\n",
       "      <th>11336</th>\n",
       "      <td>South Sudan</td>\n",
       "      <td>SSD</td>\n",
       "      <td>2022</td>\n",
       "      <td>Population, male (% of total population)</td>\n",
       "      <td>SP.POP.TOTL.MA.ZS</td>\n",
       "      <td>49.523108</td>\n",
       "    </tr>\n",
       "    <tr>\n",
       "      <th>11337</th>\n",
       "      <td>Tanzania</td>\n",
       "      <td>TZA</td>\n",
       "      <td>2022</td>\n",
       "      <td>Population, male (% of total population)</td>\n",
       "      <td>SP.POP.TOTL.MA.ZS</td>\n",
       "      <td>49.422968</td>\n",
       "    </tr>\n",
       "    <tr>\n",
       "      <th>11338</th>\n",
       "      <td>Uganda</td>\n",
       "      <td>UGA</td>\n",
       "      <td>2022</td>\n",
       "      <td>Population, male (% of total population)</td>\n",
       "      <td>SP.POP.TOTL.MA.ZS</td>\n",
       "      <td>49.527064</td>\n",
       "    </tr>\n",
       "    <tr>\n",
       "      <th>11339</th>\n",
       "      <td>World</td>\n",
       "      <td>WLD</td>\n",
       "      <td>2022</td>\n",
       "      <td>Population, male (% of total population)</td>\n",
       "      <td>SP.POP.TOTL.MA.ZS</td>\n",
       "      <td>50.264885</td>\n",
       "    </tr>\n",
       "  </tbody>\n",
       "</table>\n",
       "</div>"
      ],
      "text/plain": [
       "      Country Name Country ISO3  Year  \\\n",
       "11335      Somalia          SOM  2022   \n",
       "11336  South Sudan          SSD  2022   \n",
       "11337     Tanzania          TZA  2022   \n",
       "11338       Uganda          UGA  2022   \n",
       "11339        World          WLD  2022   \n",
       "\n",
       "                                 Indicator Name     Indicator Code      Value  \n",
       "11335  Population, male (% of total population)  SP.POP.TOTL.MA.ZS  50.134601  \n",
       "11336  Population, male (% of total population)  SP.POP.TOTL.MA.ZS  49.523108  \n",
       "11337  Population, male (% of total population)  SP.POP.TOTL.MA.ZS  49.422968  \n",
       "11338  Population, male (% of total population)  SP.POP.TOTL.MA.ZS  49.527064  \n",
       "11339  Population, male (% of total population)  SP.POP.TOTL.MA.ZS  50.264885  "
      ]
     },
     "execution_count": 70,
     "metadata": {},
     "output_type": "execute_result"
    }
   ],
   "source": [
    "final_df.to_csv('east_africa_pops_data.csv', index=False, header=True)\n",
    "final_df.tail(5)"
   ]
  },
  {
   "cell_type": "markdown",
   "metadata": {},
   "source": [
    "<a id=\"EDA\"><h2>Exploratory Data Analysis</h2></a>\n",
    "***\n",
    "<a id=\"structure\"><h3>Checking Data Structure</h3></a>"
   ]
  },
  {
   "cell_type": "code",
   "execution_count": 71,
   "metadata": {},
   "outputs": [
    {
     "name": "stdout",
     "output_type": "stream",
     "text": [
      "<class 'pandas.core.frame.DataFrame'>\n",
      "RangeIndex: 11340 entries, 0 to 11339\n",
      "Data columns (total 6 columns):\n",
      " #   Column          Non-Null Count  Dtype  \n",
      "---  ------          --------------  -----  \n",
      " 0   Country         11340 non-null  object \n",
      " 1   Country ISO3    11340 non-null  object \n",
      " 2   Year            11340 non-null  int64  \n",
      " 3   Indicator Name  11340 non-null  object \n",
      " 4   Indicator Code  11340 non-null  object \n",
      " 5   Value           11244 non-null  float64\n",
      "dtypes: float64(1), int64(1), object(4)\n",
      "memory usage: 531.7+ KB\n"
     ]
    }
   ],
   "source": [
    "df=pd.read_csv('east_africa_pops_data.csv')\n",
    "df.rename(columns={'Country Name':'Country'},inplace=True)\n",
    "df.info()"
   ]
  },
  {
   "cell_type": "code",
   "execution_count": 72,
   "metadata": {},
   "outputs": [
    {
     "name": "stdout",
     "output_type": "stream",
     "text": [
      "(11340, 6)\n"
     ]
    },
    {
     "data": {
      "text/html": [
       "<div>\n",
       "<style scoped>\n",
       "    .dataframe tbody tr th:only-of-type {\n",
       "        vertical-align: middle;\n",
       "    }\n",
       "\n",
       "    .dataframe tbody tr th {\n",
       "        vertical-align: top;\n",
       "    }\n",
       "\n",
       "    .dataframe thead th {\n",
       "        text-align: right;\n",
       "    }\n",
       "</style>\n",
       "<table border=\"1\" class=\"dataframe\">\n",
       "  <thead>\n",
       "    <tr style=\"text-align: right;\">\n",
       "      <th></th>\n",
       "      <th>Country</th>\n",
       "      <th>Country ISO3</th>\n",
       "      <th>Year</th>\n",
       "      <th>Indicator Name</th>\n",
       "      <th>Indicator Code</th>\n",
       "      <th>Value</th>\n",
       "    </tr>\n",
       "  </thead>\n",
       "  <tbody>\n",
       "    <tr>\n",
       "      <th>11337</th>\n",
       "      <td>Tanzania</td>\n",
       "      <td>TZA</td>\n",
       "      <td>2022</td>\n",
       "      <td>Population, male (% of total population)</td>\n",
       "      <td>SP.POP.TOTL.MA.ZS</td>\n",
       "      <td>49.422968</td>\n",
       "    </tr>\n",
       "    <tr>\n",
       "      <th>11338</th>\n",
       "      <td>Uganda</td>\n",
       "      <td>UGA</td>\n",
       "      <td>2022</td>\n",
       "      <td>Population, male (% of total population)</td>\n",
       "      <td>SP.POP.TOTL.MA.ZS</td>\n",
       "      <td>49.527064</td>\n",
       "    </tr>\n",
       "    <tr>\n",
       "      <th>11339</th>\n",
       "      <td>World</td>\n",
       "      <td>WLD</td>\n",
       "      <td>2022</td>\n",
       "      <td>Population, male (% of total population)</td>\n",
       "      <td>SP.POP.TOTL.MA.ZS</td>\n",
       "      <td>50.264885</td>\n",
       "    </tr>\n",
       "  </tbody>\n",
       "</table>\n",
       "</div>"
      ],
      "text/plain": [
       "        Country Country ISO3  Year                            Indicator Name  \\\n",
       "11337  Tanzania          TZA  2022  Population, male (% of total population)   \n",
       "11338    Uganda          UGA  2022  Population, male (% of total population)   \n",
       "11339     World          WLD  2022  Population, male (% of total population)   \n",
       "\n",
       "          Indicator Code      Value  \n",
       "11337  SP.POP.TOTL.MA.ZS  49.422968  \n",
       "11338  SP.POP.TOTL.MA.ZS  49.527064  \n",
       "11339  SP.POP.TOTL.MA.ZS  50.264885  "
      ]
     },
     "execution_count": 72,
     "metadata": {},
     "output_type": "execute_result"
    }
   ],
   "source": [
    "print(df.shape)\n",
    "df.tail(3)"
   ]
  },
  {
   "cell_type": "code",
   "execution_count": 73,
   "metadata": {},
   "outputs": [],
   "source": [
    "# visualization\n",
    "import missingno as msno\n",
    "import matplotlib as mpl\n",
    "import matplotlib.pyplot as plt\n",
    "import seaborn as sns\n",
    "import missingno as msno\n",
    "import plotly.express as px\n",
    "import plotly.figure_factory as ff\n",
    "import plotly.graph_objects as go\n",
    "import plotly.io as pio\n",
    "from plotly.subplots import make_subplots\n",
    "\n",
    "# styling\n",
    "%matplotlib inline\n",
    "sns.set_theme(style=\"dark\")\n",
    "mpl.rcParams['axes.unicode_minus'] = False\n",
    "pd.set_option('display.max_columns',None)\n",
    "plt.style.use('seaborn-dark-palette')\n",
    "plt.style.use('dark_background')"
   ]
  },
  {
   "cell_type": "code",
   "execution_count": 74,
   "metadata": {},
   "outputs": [
    {
     "data": {
      "text/plain": [
       "Text(0.5, 1.0, 'Distribution of Missing Values')"
      ]
     },
     "execution_count": 74,
     "metadata": {},
     "output_type": "execute_result"
    },
    {
     "data": {
      "image/png": "[encoded data removed]",
      "text/plain": [
       "<Figure size 2500x1000 with 2 Axes>"
      ]
     },
     "metadata": {},
     "output_type": "display_data"
    }
   ],
   "source": [
    "msno.matrix(df)\n",
    "plt.title('Distribution of Missing Values',fontsize=30, fontstyle= 'oblique')"
   ]
  },
  {
   "cell_type": "markdown",
   "metadata": {},
   "source": [
    "<a id=\"indicatorspecific\"><h3>Creating Indicator specific data frame</h3></a>"
   ]
  },
  {
   "cell_type": "code",
   "execution_count": 21,
   "metadata": {},
   "outputs": [],
   "source": [
    "def create_separate_frames(indicator):\n",
    "    temp_df=df.loc[df['Indicator Name']==indicator]\n",
    "    temp_df=temp_df.filter([f'Country','Year','{indicator}','Value'],axis=1)\n",
    "#     print(temp_df)\n",
    "    return temp_df"
   ]
  },
  {
   "cell_type": "code",
   "execution_count": 75,
   "metadata": {},
   "outputs": [
    {
     "data": {
      "text/html": [
       "<div>\n",
       "<style scoped>\n",
       "    .dataframe tbody tr th:only-of-type {\n",
       "        vertical-align: middle;\n",
       "    }\n",
       "\n",
       "    .dataframe tbody tr th {\n",
       "        vertical-align: top;\n",
       "    }\n",
       "\n",
       "    .dataframe thead th {\n",
       "        text-align: right;\n",
       "    }\n",
       "</style>\n",
       "<table border=\"1\" class=\"dataframe\">\n",
       "  <thead>\n",
       "    <tr style=\"text-align: right;\">\n",
       "      <th></th>\n",
       "      <th>Country</th>\n",
       "      <th>Year</th>\n",
       "      <th>Age dependency ratio (% of working-age population)</th>\n",
       "      <th>Age dependency ratio, old (% of working-age population)</th>\n",
       "      <th>Age dependency ratio, young (% of working-age population)</th>\n",
       "      <th>Fertility rate, total (births per woman)</th>\n",
       "      <th>Life expectancy at birth, female (years)</th>\n",
       "      <th>Life expectancy at birth, male (years)</th>\n",
       "      <th>Life expectancy at birth, total (years)</th>\n",
       "      <th>Population growth (annual %)</th>\n",
       "      <th>Population, female</th>\n",
       "      <th>Population, female (% of total population)</th>\n",
       "      <th>Population, male</th>\n",
       "      <th>Population, male (% of total population)</th>\n",
       "      <th>Sex ratio at birth (male births per female births)</th>\n",
       "      <th>Survival to age 65, female (% of cohort)</th>\n",
       "      <th>Survival to age 65, male (% of cohort)</th>\n",
       "    </tr>\n",
       "  </thead>\n",
       "  <tbody>\n",
       "    <tr>\n",
       "      <th>0</th>\n",
       "      <td>Burundi</td>\n",
       "      <td>1960</td>\n",
       "      <td>92.290470</td>\n",
       "      <td>6.110580</td>\n",
       "      <td>86.179890</td>\n",
       "      <td>7.003000</td>\n",
       "      <td>44.451000</td>\n",
       "      <td>41.533000</td>\n",
       "      <td>43.024000</td>\n",
       "      <td>NaN</td>\n",
       "      <td>1.419148e+06</td>\n",
       "      <td>51.668737</td>\n",
       "      <td>1.327479e+06</td>\n",
       "      <td>48.331227</td>\n",
       "      <td>1.025000</td>\n",
       "      <td>37.848041</td>\n",
       "      <td>32.248556</td>\n",
       "    </tr>\n",
       "    <tr>\n",
       "      <th>1</th>\n",
       "      <td>Burundi</td>\n",
       "      <td>1961</td>\n",
       "      <td>92.420498</td>\n",
       "      <td>6.128134</td>\n",
       "      <td>86.292363</td>\n",
       "      <td>7.023000</td>\n",
       "      <td>44.631000</td>\n",
       "      <td>41.804000</td>\n",
       "      <td>43.252000</td>\n",
       "      <td>2.493352</td>\n",
       "      <td>1.453599e+06</td>\n",
       "      <td>51.619796</td>\n",
       "      <td>1.362374e+06</td>\n",
       "      <td>48.380240</td>\n",
       "      <td>1.025000</td>\n",
       "      <td>38.062682</td>\n",
       "      <td>32.557873</td>\n",
       "    </tr>\n",
       "    <tr>\n",
       "      <th>2</th>\n",
       "      <td>Burundi</td>\n",
       "      <td>1962</td>\n",
       "      <td>92.665829</td>\n",
       "      <td>6.159252</td>\n",
       "      <td>86.506577</td>\n",
       "      <td>7.038000</td>\n",
       "      <td>44.713000</td>\n",
       "      <td>42.102000</td>\n",
       "      <td>43.441000</td>\n",
       "      <td>2.504826</td>\n",
       "      <td>1.489006e+06</td>\n",
       "      <td>51.569129</td>\n",
       "      <td>1.398392e+06</td>\n",
       "      <td>48.430871</td>\n",
       "      <td>1.025000</td>\n",
       "      <td>38.045239</td>\n",
       "      <td>32.959218</td>\n",
       "    </tr>\n",
       "    <tr>\n",
       "      <th>3</th>\n",
       "      <td>Burundi</td>\n",
       "      <td>1963</td>\n",
       "      <td>93.544139</td>\n",
       "      <td>6.225037</td>\n",
       "      <td>87.319102</td>\n",
       "      <td>7.067000</td>\n",
       "      <td>45.009000</td>\n",
       "      <td>42.358000</td>\n",
       "      <td>43.718000</td>\n",
       "      <td>2.081634</td>\n",
       "      <td>1.519025e+06</td>\n",
       "      <td>51.524982</td>\n",
       "      <td>1.429107e+06</td>\n",
       "      <td>48.474984</td>\n",
       "      <td>1.025000</td>\n",
       "      <td>38.428793</td>\n",
       "      <td>33.257476</td>\n",
       "    </tr>\n",
       "    <tr>\n",
       "      <th>4</th>\n",
       "      <td>Burundi</td>\n",
       "      <td>1964</td>\n",
       "      <td>93.604189</td>\n",
       "      <td>6.254113</td>\n",
       "      <td>87.350076</td>\n",
       "      <td>7.090000</td>\n",
       "      <td>45.338000</td>\n",
       "      <td>42.543000</td>\n",
       "      <td>43.974000</td>\n",
       "      <td>2.845300</td>\n",
       "      <td>1.561243e+06</td>\n",
       "      <td>51.471456</td>\n",
       "      <td>1.471978e+06</td>\n",
       "      <td>48.528544</td>\n",
       "      <td>1.025000</td>\n",
       "      <td>38.879601</td>\n",
       "      <td>33.415269</td>\n",
       "    </tr>\n",
       "    <tr>\n",
       "      <th>...</th>\n",
       "      <td>...</td>\n",
       "      <td>...</td>\n",
       "      <td>...</td>\n",
       "      <td>...</td>\n",
       "      <td>...</td>\n",
       "      <td>...</td>\n",
       "      <td>...</td>\n",
       "      <td>...</td>\n",
       "      <td>...</td>\n",
       "      <td>...</td>\n",
       "      <td>...</td>\n",
       "      <td>...</td>\n",
       "      <td>...</td>\n",
       "      <td>...</td>\n",
       "      <td>...</td>\n",
       "      <td>...</td>\n",
       "      <td>...</td>\n",
       "    </tr>\n",
       "    <tr>\n",
       "      <th>751</th>\n",
       "      <td>World</td>\n",
       "      <td>2018</td>\n",
       "      <td>55.235506</td>\n",
       "      <td>13.801911</td>\n",
       "      <td>40.121543</td>\n",
       "      <td>2.397340</td>\n",
       "      <td>75.272091</td>\n",
       "      <td>70.432414</td>\n",
       "      <td>72.784090</td>\n",
       "      <td>1.102580</td>\n",
       "      <td>3.806732e+09</td>\n",
       "      <td>49.684718</td>\n",
       "      <td>3.855045e+09</td>\n",
       "      <td>50.315282</td>\n",
       "      <td>1.063470</td>\n",
       "      <td>81.706657</td>\n",
       "      <td>73.068320</td>\n",
       "    </tr>\n",
       "    <tr>\n",
       "      <th>752</th>\n",
       "      <td>World</td>\n",
       "      <td>2019</td>\n",
       "      <td>55.322257</td>\n",
       "      <td>14.168339</td>\n",
       "      <td>39.892567</td>\n",
       "      <td>2.360559</td>\n",
       "      <td>75.470008</td>\n",
       "      <td>70.623612</td>\n",
       "      <td>72.979716</td>\n",
       "      <td>1.055964</td>\n",
       "      <td>3.847484e+09</td>\n",
       "      <td>49.691878</td>\n",
       "      <td>3.895198e+09</td>\n",
       "      <td>50.308122</td>\n",
       "      <td>1.062069</td>\n",
       "      <td>81.939131</td>\n",
       "      <td>73.344609</td>\n",
       "    </tr>\n",
       "    <tr>\n",
       "      <th>753</th>\n",
       "      <td>World</td>\n",
       "      <td>2020</td>\n",
       "      <td>55.354568</td>\n",
       "      <td>14.527944</td>\n",
       "      <td>39.612737</td>\n",
       "      <td>2.299626</td>\n",
       "      <td>74.857303</td>\n",
       "      <td>69.799705</td>\n",
       "      <td>72.243822</td>\n",
       "      <td>1.011039</td>\n",
       "      <td>3.887425e+09</td>\n",
       "      <td>49.705196</td>\n",
       "      <td>3.933538e+09</td>\n",
       "      <td>50.294804</td>\n",
       "      <td>1.059484</td>\n",
       "      <td>80.771268</td>\n",
       "      <td>71.669319</td>\n",
       "    </tr>\n",
       "    <tr>\n",
       "      <th>754</th>\n",
       "      <td>World</td>\n",
       "      <td>2021</td>\n",
       "      <td>55.289710</td>\n",
       "      <td>14.820548</td>\n",
       "      <td>39.291893</td>\n",
       "      <td>2.273191</td>\n",
       "      <td>73.947975</td>\n",
       "      <td>68.886412</td>\n",
       "      <td>71.327391</td>\n",
       "      <td>0.859197</td>\n",
       "      <td>3.922150e+09</td>\n",
       "      <td>49.721975</td>\n",
       "      <td>3.966012e+09</td>\n",
       "      <td>50.278025</td>\n",
       "      <td>1.057931</td>\n",
       "      <td>79.029690</td>\n",
       "      <td>69.533117</td>\n",
       "    </tr>\n",
       "    <tr>\n",
       "      <th>755</th>\n",
       "      <td>World</td>\n",
       "      <td>2022</td>\n",
       "      <td>55.188579</td>\n",
       "      <td>15.104796</td>\n",
       "      <td>38.938658</td>\n",
       "      <td>NaN</td>\n",
       "      <td>NaN</td>\n",
       "      <td>NaN</td>\n",
       "      <td>NaN</td>\n",
       "      <td>0.798516</td>\n",
       "      <td>3.954513e+09</td>\n",
       "      <td>49.735115</td>\n",
       "      <td>3.996636e+09</td>\n",
       "      <td>50.264885</td>\n",
       "      <td>NaN</td>\n",
       "      <td>NaN</td>\n",
       "      <td>NaN</td>\n",
       "    </tr>\n",
       "  </tbody>\n",
       "</table>\n",
       "<p>756 rows × 17 columns</p>\n",
       "</div>"
      ],
      "text/plain": [
       "     Country  Year  Age dependency ratio (% of working-age population)  \\\n",
       "0    Burundi  1960                                          92.290470    \n",
       "1    Burundi  1961                                          92.420498    \n",
       "2    Burundi  1962                                          92.665829    \n",
       "3    Burundi  1963                                          93.544139    \n",
       "4    Burundi  1964                                          93.604189    \n",
       "..       ...   ...                                                ...    \n",
       "751    World  2018                                          55.235506    \n",
       "752    World  2019                                          55.322257    \n",
       "753    World  2020                                          55.354568    \n",
       "754    World  2021                                          55.289710    \n",
       "755    World  2022                                          55.188579    \n",
       "\n",
       "     Age dependency ratio, old (% of working-age population)  \\\n",
       "0                                             6.110580         \n",
       "1                                             6.128134         \n",
       "2                                             6.159252         \n",
       "3                                             6.225037         \n",
       "4                                             6.254113         \n",
       "..                                                 ...         \n",
       "751                                          13.801911         \n",
       "752                                          14.168339         \n",
       "753                                          14.527944         \n",
       "754                                          14.820548         \n",
       "755                                          15.104796         \n",
       "\n",
       "     Age dependency ratio, young (% of working-age population)  \\\n",
       "0                                            86.179890           \n",
       "1                                            86.292363           \n",
       "2                                            86.506577           \n",
       "3                                            87.319102           \n",
       "4                                            87.350076           \n",
       "..                                                 ...           \n",
       "751                                          40.121543           \n",
       "752                                          39.892567           \n",
       "753                                          39.612737           \n",
       "754                                          39.291893           \n",
       "755                                          38.938658           \n",
       "\n",
       "     Fertility rate, total (births per woman)  \\\n",
       "0                                    7.003000   \n",
       "1                                    7.023000   \n",
       "2                                    7.038000   \n",
       "3                                    7.067000   \n",
       "4                                    7.090000   \n",
       "..                                        ...   \n",
       "751                                  2.397340   \n",
       "752                                  2.360559   \n",
       "753                                  2.299626   \n",
       "754                                  2.273191   \n",
       "755                                       NaN   \n",
       "\n",
       "     Life expectancy at birth, female (years)  \\\n",
       "0                                   44.451000   \n",
       "1                                   44.631000   \n",
       "2                                   44.713000   \n",
       "3                                   45.009000   \n",
       "4                                   45.338000   \n",
       "..                                        ...   \n",
       "751                                 75.272091   \n",
       "752                                 75.470008   \n",
       "753                                 74.857303   \n",
       "754                                 73.947975   \n",
       "755                                       NaN   \n",
       "\n",
       "     Life expectancy at birth, male (years)  \\\n",
       "0                                 41.533000   \n",
       "1                                 41.804000   \n",
       "2                                 42.102000   \n",
       "3                                 42.358000   \n",
       "4                                 42.543000   \n",
       "..                                      ...   \n",
       "751                               70.432414   \n",
       "752                               70.623612   \n",
       "753                               69.799705   \n",
       "754                               68.886412   \n",
       "755                                     NaN   \n",
       "\n",
       "     Life expectancy at birth, total (years)  Population growth (annual %)  \\\n",
       "0                                  43.024000                           NaN   \n",
       "1                                  43.252000                      2.493352   \n",
       "2                                  43.441000                      2.504826   \n",
       "3                                  43.718000                      2.081634   \n",
       "4                                  43.974000                      2.845300   \n",
       "..                                       ...                           ...   \n",
       "751                                72.784090                      1.102580   \n",
       "752                                72.979716                      1.055964   \n",
       "753                                72.243822                      1.011039   \n",
       "754                                71.327391                      0.859197   \n",
       "755                                      NaN                      0.798516   \n",
       "\n",
       "     Population, female  Population, female (% of total population)  \\\n",
       "0          1.419148e+06                                   51.668737   \n",
       "1          1.453599e+06                                   51.619796   \n",
       "2          1.489006e+06                                   51.569129   \n",
       "3          1.519025e+06                                   51.524982   \n",
       "4          1.561243e+06                                   51.471456   \n",
       "..                  ...                                         ...   \n",
       "751        3.806732e+09                                   49.684718   \n",
       "752        3.847484e+09                                   49.691878   \n",
       "753        3.887425e+09                                   49.705196   \n",
       "754        3.922150e+09                                   49.721975   \n",
       "755        3.954513e+09                                   49.735115   \n",
       "\n",
       "     Population, male  Population, male (% of total population)  \\\n",
       "0        1.327479e+06                                 48.331227   \n",
       "1        1.362374e+06                                 48.380240   \n",
       "2        1.398392e+06                                 48.430871   \n",
       "3        1.429107e+06                                 48.474984   \n",
       "4        1.471978e+06                                 48.528544   \n",
       "..                ...                                       ...   \n",
       "751      3.855045e+09                                 50.315282   \n",
       "752      3.895198e+09                                 50.308122   \n",
       "753      3.933538e+09                                 50.294804   \n",
       "754      3.966012e+09                                 50.278025   \n",
       "755      3.996636e+09                                 50.264885   \n",
       "\n",
       "     Sex ratio at birth (male births per female births)  \\\n",
       "0                                             1.025000    \n",
       "1                                             1.025000    \n",
       "2                                             1.025000    \n",
       "3                                             1.025000    \n",
       "4                                             1.025000    \n",
       "..                                                 ...    \n",
       "751                                           1.063470    \n",
       "752                                           1.062069    \n",
       "753                                           1.059484    \n",
       "754                                           1.057931    \n",
       "755                                                NaN    \n",
       "\n",
       "     Survival to age 65, female (% of cohort)  \\\n",
       "0                                   37.848041   \n",
       "1                                   38.062682   \n",
       "2                                   38.045239   \n",
       "3                                   38.428793   \n",
       "4                                   38.879601   \n",
       "..                                        ...   \n",
       "751                                 81.706657   \n",
       "752                                 81.939131   \n",
       "753                                 80.771268   \n",
       "754                                 79.029690   \n",
       "755                                       NaN   \n",
       "\n",
       "     Survival to age 65, male (% of cohort)  \n",
       "0                                 32.248556  \n",
       "1                                 32.557873  \n",
       "2                                 32.959218  \n",
       "3                                 33.257476  \n",
       "4                                 33.415269  \n",
       "..                                      ...  \n",
       "751                               73.068320  \n",
       "752                               73.344609  \n",
       "753                               71.669319  \n",
       "754                               69.533117  \n",
       "755                                     NaN  \n",
       "\n",
       "[756 rows x 17 columns]"
      ]
     },
     "execution_count": 75,
     "metadata": {},
     "output_type": "execute_result"
    }
   ],
   "source": [
    "df=df.filter([f'Country','Year', 'Indicator Name','Value'])\n",
    "df=df.pivot_table(index=['Country','Year'],columns='Indicator Name', values='Value').reset_index().rename_axis(None, axis=1)\n",
    "df"
   ]
  },
  {
   "cell_type": "code",
   "execution_count": 102,
   "metadata": {},
   "outputs": [
    {
     "data": {
      "text/html": [
       "<div>\n",
       "<style scoped>\n",
       "    .dataframe tbody tr th:only-of-type {\n",
       "        vertical-align: middle;\n",
       "    }\n",
       "\n",
       "    .dataframe tbody tr th {\n",
       "        vertical-align: top;\n",
       "    }\n",
       "\n",
       "    .dataframe thead th {\n",
       "        text-align: right;\n",
       "    }\n",
       "</style>\n",
       "<table border=\"1\" class=\"dataframe\">\n",
       "  <thead>\n",
       "    <tr style=\"text-align: right;\">\n",
       "      <th></th>\n",
       "      <th>Country (World)</th>\n",
       "      <th>Year</th>\n",
       "      <th>Age dependency ratio (% of working-age population) (World)</th>\n",
       "      <th>Age dependency ratio, old (% of working-age population) (World)</th>\n",
       "      <th>Age dependency ratio, young (% of working-age population) (World)</th>\n",
       "      <th>Fertility rate, total (births per woman) (World)</th>\n",
       "      <th>Life expectancy at birth, female (years) (World)</th>\n",
       "      <th>Life expectancy at birth, male (years) (World)</th>\n",
       "      <th>Life expectancy at birth, total (years) (World)</th>\n",
       "      <th>Population growth (annual %) (World)</th>\n",
       "      <th>Population, female (World)</th>\n",
       "      <th>Population, female (% of total population) (World)</th>\n",
       "      <th>Population, male (World)</th>\n",
       "      <th>Population, male (% of total population) (World)</th>\n",
       "      <th>Sex ratio at birth (male births per female births) (World)</th>\n",
       "      <th>Survival to age 65, female (% of cohort) (World)</th>\n",
       "      <th>Survival to age 65, male (% of cohort) (World)</th>\n",
       "    </tr>\n",
       "  </thead>\n",
       "  <tbody>\n",
       "    <tr>\n",
       "      <th>693</th>\n",
       "      <td>World</td>\n",
       "      <td>1960</td>\n",
       "      <td>74.56</td>\n",
       "      <td>8.72</td>\n",
       "      <td>64.86</td>\n",
       "      <td>4.70</td>\n",
       "      <td>52.95</td>\n",
       "      <td>49.03</td>\n",
       "      <td>50.89</td>\n",
       "      <td>NaN</td>\n",
       "      <td>1.516615e+09</td>\n",
       "      <td>50.03</td>\n",
       "      <td>1.514860e+09</td>\n",
       "      <td>49.97</td>\n",
       "      <td>1.05</td>\n",
       "      <td>51.20</td>\n",
       "      <td>41.84</td>\n",
       "    </tr>\n",
       "    <tr>\n",
       "      <th>694</th>\n",
       "      <td>World</td>\n",
       "      <td>1961</td>\n",
       "      <td>74.85</td>\n",
       "      <td>8.77</td>\n",
       "      <td>65.10</td>\n",
       "      <td>4.58</td>\n",
       "      <td>54.95</td>\n",
       "      <td>50.94</td>\n",
       "      <td>52.85</td>\n",
       "      <td>1.35</td>\n",
       "      <td>1.537113e+09</td>\n",
       "      <td>50.03</td>\n",
       "      <td>1.535309e+09</td>\n",
       "      <td>49.97</td>\n",
       "      <td>1.05</td>\n",
       "      <td>53.54</td>\n",
       "      <td>43.94</td>\n",
       "    </tr>\n",
       "    <tr>\n",
       "      <th>695</th>\n",
       "      <td>World</td>\n",
       "      <td>1962</td>\n",
       "      <td>75.25</td>\n",
       "      <td>8.82</td>\n",
       "      <td>65.40</td>\n",
       "      <td>5.04</td>\n",
       "      <td>57.36</td>\n",
       "      <td>53.24</td>\n",
       "      <td>55.21</td>\n",
       "      <td>1.77</td>\n",
       "      <td>1.564171e+09</td>\n",
       "      <td>50.02</td>\n",
       "      <td>1.562679e+09</td>\n",
       "      <td>49.98</td>\n",
       "      <td>1.05</td>\n",
       "      <td>56.65</td>\n",
       "      <td>46.76</td>\n",
       "    </tr>\n",
       "    <tr>\n",
       "      <th>696</th>\n",
       "      <td>World</td>\n",
       "      <td>1963</td>\n",
       "      <td>76.02</td>\n",
       "      <td>8.88</td>\n",
       "      <td>66.03</td>\n",
       "      <td>5.32</td>\n",
       "      <td>57.71</td>\n",
       "      <td>53.56</td>\n",
       "      <td>55.54</td>\n",
       "      <td>2.13</td>\n",
       "      <td>1.597124e+09</td>\n",
       "      <td>50.01</td>\n",
       "      <td>1.596305e+09</td>\n",
       "      <td>49.99</td>\n",
       "      <td>1.05</td>\n",
       "      <td>57.18</td>\n",
       "      <td>47.29</td>\n",
       "    </tr>\n",
       "    <tr>\n",
       "      <th>697</th>\n",
       "      <td>World</td>\n",
       "      <td>1964</td>\n",
       "      <td>76.68</td>\n",
       "      <td>8.95</td>\n",
       "      <td>66.56</td>\n",
       "      <td>5.14</td>\n",
       "      <td>58.22</td>\n",
       "      <td>54.03</td>\n",
       "      <td>56.03</td>\n",
       "      <td>2.10</td>\n",
       "      <td>1.630295e+09</td>\n",
       "      <td>50.00</td>\n",
       "      <td>1.630147e+09</td>\n",
       "      <td>50.00</td>\n",
       "      <td>1.05</td>\n",
       "      <td>57.93</td>\n",
       "      <td>48.07</td>\n",
       "    </tr>\n",
       "    <tr>\n",
       "      <th>...</th>\n",
       "      <td>...</td>\n",
       "      <td>...</td>\n",
       "      <td>...</td>\n",
       "      <td>...</td>\n",
       "      <td>...</td>\n",
       "      <td>...</td>\n",
       "      <td>...</td>\n",
       "      <td>...</td>\n",
       "      <td>...</td>\n",
       "      <td>...</td>\n",
       "      <td>...</td>\n",
       "      <td>...</td>\n",
       "      <td>...</td>\n",
       "      <td>...</td>\n",
       "      <td>...</td>\n",
       "      <td>...</td>\n",
       "      <td>...</td>\n",
       "    </tr>\n",
       "    <tr>\n",
       "      <th>751</th>\n",
       "      <td>World</td>\n",
       "      <td>2018</td>\n",
       "      <td>55.24</td>\n",
       "      <td>13.80</td>\n",
       "      <td>40.12</td>\n",
       "      <td>2.40</td>\n",
       "      <td>75.27</td>\n",
       "      <td>70.43</td>\n",
       "      <td>72.78</td>\n",
       "      <td>1.10</td>\n",
       "      <td>3.806732e+09</td>\n",
       "      <td>49.68</td>\n",
       "      <td>3.855045e+09</td>\n",
       "      <td>50.32</td>\n",
       "      <td>1.06</td>\n",
       "      <td>81.71</td>\n",
       "      <td>73.07</td>\n",
       "    </tr>\n",
       "    <tr>\n",
       "      <th>752</th>\n",
       "      <td>World</td>\n",
       "      <td>2019</td>\n",
       "      <td>55.32</td>\n",
       "      <td>14.17</td>\n",
       "      <td>39.89</td>\n",
       "      <td>2.36</td>\n",
       "      <td>75.47</td>\n",
       "      <td>70.62</td>\n",
       "      <td>72.98</td>\n",
       "      <td>1.06</td>\n",
       "      <td>3.847484e+09</td>\n",
       "      <td>49.69</td>\n",
       "      <td>3.895198e+09</td>\n",
       "      <td>50.31</td>\n",
       "      <td>1.06</td>\n",
       "      <td>81.94</td>\n",
       "      <td>73.34</td>\n",
       "    </tr>\n",
       "    <tr>\n",
       "      <th>753</th>\n",
       "      <td>World</td>\n",
       "      <td>2020</td>\n",
       "      <td>55.35</td>\n",
       "      <td>14.53</td>\n",
       "      <td>39.61</td>\n",
       "      <td>2.30</td>\n",
       "      <td>74.86</td>\n",
       "      <td>69.80</td>\n",
       "      <td>72.24</td>\n",
       "      <td>1.01</td>\n",
       "      <td>3.887425e+09</td>\n",
       "      <td>49.71</td>\n",
       "      <td>3.933538e+09</td>\n",
       "      <td>50.29</td>\n",
       "      <td>1.06</td>\n",
       "      <td>80.77</td>\n",
       "      <td>71.67</td>\n",
       "    </tr>\n",
       "    <tr>\n",
       "      <th>754</th>\n",
       "      <td>World</td>\n",
       "      <td>2021</td>\n",
       "      <td>55.29</td>\n",
       "      <td>14.82</td>\n",
       "      <td>39.29</td>\n",
       "      <td>2.27</td>\n",
       "      <td>73.95</td>\n",
       "      <td>68.89</td>\n",
       "      <td>71.33</td>\n",
       "      <td>0.86</td>\n",
       "      <td>3.922150e+09</td>\n",
       "      <td>49.72</td>\n",
       "      <td>3.966012e+09</td>\n",
       "      <td>50.28</td>\n",
       "      <td>1.06</td>\n",
       "      <td>79.03</td>\n",
       "      <td>69.53</td>\n",
       "    </tr>\n",
       "    <tr>\n",
       "      <th>755</th>\n",
       "      <td>World</td>\n",
       "      <td>2022</td>\n",
       "      <td>55.19</td>\n",
       "      <td>15.10</td>\n",
       "      <td>38.94</td>\n",
       "      <td>NaN</td>\n",
       "      <td>NaN</td>\n",
       "      <td>NaN</td>\n",
       "      <td>NaN</td>\n",
       "      <td>0.80</td>\n",
       "      <td>3.954513e+09</td>\n",
       "      <td>49.74</td>\n",
       "      <td>3.996636e+09</td>\n",
       "      <td>50.26</td>\n",
       "      <td>NaN</td>\n",
       "      <td>NaN</td>\n",
       "      <td>NaN</td>\n",
       "    </tr>\n",
       "  </tbody>\n",
       "</table>\n",
       "<p>63 rows × 17 columns</p>\n",
       "</div>"
      ],
      "text/plain": [
       "    Country (World)  Year  \\\n",
       "693           World  1960   \n",
       "694           World  1961   \n",
       "695           World  1962   \n",
       "696           World  1963   \n",
       "697           World  1964   \n",
       "..              ...   ...   \n",
       "751           World  2018   \n",
       "752           World  2019   \n",
       "753           World  2020   \n",
       "754           World  2021   \n",
       "755           World  2022   \n",
       "\n",
       "     Age dependency ratio (% of working-age population) (World)  \\\n",
       "693                                              74.56            \n",
       "694                                              74.85            \n",
       "695                                              75.25            \n",
       "696                                              76.02            \n",
       "697                                              76.68            \n",
       "..                                                 ...            \n",
       "751                                              55.24            \n",
       "752                                              55.32            \n",
       "753                                              55.35            \n",
       "754                                              55.29            \n",
       "755                                              55.19            \n",
       "\n",
       "     Age dependency ratio, old (% of working-age population) (World)  \\\n",
       "693                                               8.72                 \n",
       "694                                               8.77                 \n",
       "695                                               8.82                 \n",
       "696                                               8.88                 \n",
       "697                                               8.95                 \n",
       "..                                                 ...                 \n",
       "751                                              13.80                 \n",
       "752                                              14.17                 \n",
       "753                                              14.53                 \n",
       "754                                              14.82                 \n",
       "755                                              15.10                 \n",
       "\n",
       "     Age dependency ratio, young (% of working-age population) (World)  \\\n",
       "693                                              64.86                   \n",
       "694                                              65.10                   \n",
       "695                                              65.40                   \n",
       "696                                              66.03                   \n",
       "697                                              66.56                   \n",
       "..                                                 ...                   \n",
       "751                                              40.12                   \n",
       "752                                              39.89                   \n",
       "753                                              39.61                   \n",
       "754                                              39.29                   \n",
       "755                                              38.94                   \n",
       "\n",
       "     Fertility rate, total (births per woman) (World)  \\\n",
       "693                                              4.70   \n",
       "694                                              4.58   \n",
       "695                                              5.04   \n",
       "696                                              5.32   \n",
       "697                                              5.14   \n",
       "..                                                ...   \n",
       "751                                              2.40   \n",
       "752                                              2.36   \n",
       "753                                              2.30   \n",
       "754                                              2.27   \n",
       "755                                               NaN   \n",
       "\n",
       "     Life expectancy at birth, female (years) (World)  \\\n",
       "693                                             52.95   \n",
       "694                                             54.95   \n",
       "695                                             57.36   \n",
       "696                                             57.71   \n",
       "697                                             58.22   \n",
       "..                                                ...   \n",
       "751                                             75.27   \n",
       "752                                             75.47   \n",
       "753                                             74.86   \n",
       "754                                             73.95   \n",
       "755                                               NaN   \n",
       "\n",
       "     Life expectancy at birth, male (years) (World)  \\\n",
       "693                                           49.03   \n",
       "694                                           50.94   \n",
       "695                                           53.24   \n",
       "696                                           53.56   \n",
       "697                                           54.03   \n",
       "..                                              ...   \n",
       "751                                           70.43   \n",
       "752                                           70.62   \n",
       "753                                           69.80   \n",
       "754                                           68.89   \n",
       "755                                             NaN   \n",
       "\n",
       "     Life expectancy at birth, total (years) (World)  \\\n",
       "693                                            50.89   \n",
       "694                                            52.85   \n",
       "695                                            55.21   \n",
       "696                                            55.54   \n",
       "697                                            56.03   \n",
       "..                                               ...   \n",
       "751                                            72.78   \n",
       "752                                            72.98   \n",
       "753                                            72.24   \n",
       "754                                            71.33   \n",
       "755                                              NaN   \n",
       "\n",
       "     Population growth (annual %) (World)  Population, female (World)  \\\n",
       "693                                   NaN                1.516615e+09   \n",
       "694                                  1.35                1.537113e+09   \n",
       "695                                  1.77                1.564171e+09   \n",
       "696                                  2.13                1.597124e+09   \n",
       "697                                  2.10                1.630295e+09   \n",
       "..                                    ...                         ...   \n",
       "751                                  1.10                3.806732e+09   \n",
       "752                                  1.06                3.847484e+09   \n",
       "753                                  1.01                3.887425e+09   \n",
       "754                                  0.86                3.922150e+09   \n",
       "755                                  0.80                3.954513e+09   \n",
       "\n",
       "     Population, female (% of total population) (World)  \\\n",
       "693                                              50.03    \n",
       "694                                              50.03    \n",
       "695                                              50.02    \n",
       "696                                              50.01    \n",
       "697                                              50.00    \n",
       "..                                                 ...    \n",
       "751                                              49.68    \n",
       "752                                              49.69    \n",
       "753                                              49.71    \n",
       "754                                              49.72    \n",
       "755                                              49.74    \n",
       "\n",
       "     Population, male (World)  \\\n",
       "693              1.514860e+09   \n",
       "694              1.535309e+09   \n",
       "695              1.562679e+09   \n",
       "696              1.596305e+09   \n",
       "697              1.630147e+09   \n",
       "..                        ...   \n",
       "751              3.855045e+09   \n",
       "752              3.895198e+09   \n",
       "753              3.933538e+09   \n",
       "754              3.966012e+09   \n",
       "755              3.996636e+09   \n",
       "\n",
       "     Population, male (% of total population) (World)  \\\n",
       "693                                             49.97   \n",
       "694                                             49.97   \n",
       "695                                             49.98   \n",
       "696                                             49.99   \n",
       "697                                             50.00   \n",
       "..                                                ...   \n",
       "751                                             50.32   \n",
       "752                                             50.31   \n",
       "753                                             50.29   \n",
       "754                                             50.28   \n",
       "755                                             50.26   \n",
       "\n",
       "     Sex ratio at birth (male births per female births) (World)  \\\n",
       "693                                               1.05            \n",
       "694                                               1.05            \n",
       "695                                               1.05            \n",
       "696                                               1.05            \n",
       "697                                               1.05            \n",
       "..                                                 ...            \n",
       "751                                               1.06            \n",
       "752                                               1.06            \n",
       "753                                               1.06            \n",
       "754                                               1.06            \n",
       "755                                                NaN            \n",
       "\n",
       "     Survival to age 65, female (% of cohort) (World)  \\\n",
       "693                                             51.20   \n",
       "694                                             53.54   \n",
       "695                                             56.65   \n",
       "696                                             57.18   \n",
       "697                                             57.93   \n",
       "..                                                ...   \n",
       "751                                             81.71   \n",
       "752                                             81.94   \n",
       "753                                             80.77   \n",
       "754                                             79.03   \n",
       "755                                               NaN   \n",
       "\n",
       "     Survival to age 65, male (% of cohort) (World)  \n",
       "693                                           41.84  \n",
       "694                                           43.94  \n",
       "695                                           46.76  \n",
       "696                                           47.29  \n",
       "697                                           48.07  \n",
       "..                                              ...  \n",
       "751                                           73.07  \n",
       "752                                           73.34  \n",
       "753                                           71.67  \n",
       "754                                           69.53  \n",
       "755                                             NaN  \n",
       "\n",
       "[63 rows x 17 columns]"
      ]
     },
     "execution_count": 102,
     "metadata": {},
     "output_type": "execute_result"
    }
   ],
   "source": [
    "# Separate 'World' data and calculate mean for East African Countries\n",
    "world_data = df[df['Country'] == 'World'].round(2)\n",
    "east_africa_countries_data = df[df['Country'] != 'World']\n",
    "world_data.columns = [f\"{col} (World)\" if col != 'Year' else col for col in world_data.columns]\n",
    "world_data"
   ]
  },
  {
   "cell_type": "code",
   "execution_count": 76,
   "metadata": {},
   "outputs": [
    {
     "name": "stdout",
     "output_type": "stream",
     "text": [
      "              Year  Age dependency ratio (% of working-age population)  \\\n",
      "count   756.000000                                         756.000000    \n",
      "mean   1991.000000                                          90.846350    \n",
      "std      18.196281                                          12.879232    \n",
      "min    1960.000000                                          53.676742    \n",
      "25%    1975.000000                                          84.716289    \n",
      "50%    1991.000000                                          92.113565    \n",
      "75%    2007.000000                                          99.116734    \n",
      "max    2022.000000                                         118.871546    \n",
      "\n",
      "       Age dependency ratio, old (% of working-age population)  \\\n",
      "count                                         756.000000         \n",
      "mean                                            5.701319         \n",
      "std                                             1.732300         \n",
      "min                                             3.089473         \n",
      "25%                                             4.784409         \n",
      "50%                                             5.300695         \n",
      "75%                                             5.902483         \n",
      "max                                            15.104796         \n",
      "\n",
      "       Age dependency ratio, young (% of working-age population)  \\\n",
      "count                                         756.000000           \n",
      "mean                                           85.028885           \n",
      "std                                            14.292597           \n",
      "min                                            38.938658           \n",
      "25%                                            79.259313           \n",
      "50%                                            86.597227           \n",
      "75%                                            93.940551           \n",
      "max                                           114.388288           \n",
      "\n",
      "       Fertility rate, total (births per woman)  \\\n",
      "count                                744.000000   \n",
      "mean                                   6.090012   \n",
      "std                                    1.423029   \n",
      "min                                    2.273191   \n",
      "25%                                    5.092905   \n",
      "50%                                    6.605000   \n",
      "75%                                    7.121500   \n",
      "max                                    8.250000   \n",
      "\n",
      "       Life expectancy at birth, female (years)  \\\n",
      "count                                744.000000   \n",
      "mean                                  53.731669   \n",
      "std                                    9.597760   \n",
      "min                                   12.721000   \n",
      "25%                                   47.766000   \n",
      "50%                                   53.086500   \n",
      "75%                                   60.661500   \n",
      "max                                   75.470008   \n",
      "\n",
      "       Life expectancy at birth, male (years)  \\\n",
      "count                              744.000000   \n",
      "mean                                49.775056   \n",
      "std                                  9.540501   \n",
      "min                                 12.037000   \n",
      "25%                                 43.551500   \n",
      "50%                                 49.336500   \n",
      "75%                                 56.864000   \n",
      "max                                 70.623612   \n",
      "\n",
      "       Life expectancy at birth, total (years)  Population growth (annual %)  \\\n",
      "count                               744.000000                    744.000000   \n",
      "mean                                 51.708083                      2.711600   \n",
      "std                                   9.558310                      1.911248   \n",
      "min                                  12.407000                    -16.880630   \n",
      "25%                                  45.478500                      2.127200   \n",
      "50%                                  51.160500                      2.691433   \n",
      "75%                                  58.734481                      3.221041   \n",
      "max                                  72.979716                     16.625502   \n",
      "\n",
      "       Population, female  Population, female (% of total population)  \\\n",
      "count        7.560000e+02                                  756.000000   \n",
      "mean         2.323008e+08                                   50.451422   \n",
      "std          7.720773e+08                                    0.557099   \n",
      "min          4.338400e+04                                   49.021479   \n",
      "25%          2.062688e+06                                   50.024206   \n",
      "50%          5.570788e+06                                   50.444432   \n",
      "75%          1.576335e+07                                   50.808078   \n",
      "max          3.954513e+09                                   52.048420   \n",
      "\n",
      "       Population, male  Population, male (% of total population)  \\\n",
      "count      7.560000e+02                                756.000000   \n",
      "mean       2.341407e+08                                 49.548575   \n",
      "std        7.796100e+08                                  0.557099   \n",
      "min        4.255600e+04                                 47.951580   \n",
      "25%        1.996887e+06                                 49.191922   \n",
      "50%        5.436582e+06                                 49.555570   \n",
      "75%        1.549174e+07                                 49.975794   \n",
      "max        3.996636e+09                                 50.978527   \n",
      "\n",
      "       Sex ratio at birth (male births per female births)  \\\n",
      "count                                         744.000000    \n",
      "mean                                            1.036312    \n",
      "std                                             0.013912    \n",
      "min                                             1.015000    \n",
      "25%                                             1.025000    \n",
      "50%                                             1.033500    \n",
      "75%                                             1.044000    \n",
      "max                                             1.076543    \n",
      "\n",
      "       Survival to age 65, female (% of cohort)  \\\n",
      "count                                744.000000   \n",
      "mean                                  49.093684   \n",
      "std                                   13.617244   \n",
      "min                                    0.046306   \n",
      "25%                                   40.133941   \n",
      "50%                                   47.785951   \n",
      "75%                                   57.894145   \n",
      "max                                   81.939131   \n",
      "\n",
      "       Survival to age 65, male (% of cohort)  \n",
      "count                              744.000000  \n",
      "mean                                41.449638  \n",
      "std                                 13.020485  \n",
      "min                                  0.000668  \n",
      "25%                                 32.672153  \n",
      "50%                                 41.309348  \n",
      "75%                                 49.443883  \n",
      "max                                 73.344609  \n"
     ]
    }
   ],
   "source": [
    "# Drop the 'Country' column and calculate summary statistics\n",
    "summary_df = df.drop(columns=['Country']).describe().transpose()\n",
    "\n",
    "# Rename the columns for better clarity\n",
    "summary_df.rename(columns={'mean': 'Average', 'min': 'Minimum', 'max': 'Maximum'}, inplace=False)\n",
    "\n",
    "# Transpose the summary DataFrame to have statistics as rows\n",
    "summary_df = summary_df.transpose()\n",
    "\n",
    "# Display the summary DataFrame\n",
    "print(summary_df)"
   ]
  },
  {
   "cell_type": "code",
   "execution_count": 157,
   "metadata": {},
   "outputs": [
    {
     "data": {
      "text/html": [
       "<div>\n",
       "<style scoped>\n",
       "    .dataframe tbody tr th:only-of-type {\n",
       "        vertical-align: middle;\n",
       "    }\n",
       "\n",
       "    .dataframe tbody tr th {\n",
       "        vertical-align: top;\n",
       "    }\n",
       "\n",
       "    .dataframe thead th {\n",
       "        text-align: right;\n",
       "    }\n",
       "</style>\n",
       "<table border=\"1\" class=\"dataframe\">\n",
       "  <thead>\n",
       "    <tr style=\"text-align: right;\">\n",
       "      <th></th>\n",
       "      <th>Average Male Life Expectancy Worldwide (Years)</th>\n",
       "    </tr>\n",
       "  </thead>\n",
       "  <tbody>\n",
       "    <tr>\n",
       "      <th>0</th>\n",
       "      <td>49.03</td>\n",
       "    </tr>\n",
       "    <tr>\n",
       "      <th>1</th>\n",
       "      <td>50.94</td>\n",
       "    </tr>\n",
       "    <tr>\n",
       "      <th>2</th>\n",
       "      <td>53.24</td>\n",
       "    </tr>\n",
       "    <tr>\n",
       "      <th>3</th>\n",
       "      <td>53.56</td>\n",
       "    </tr>\n",
       "    <tr>\n",
       "      <th>4</th>\n",
       "      <td>54.03</td>\n",
       "    </tr>\n",
       "    <tr>\n",
       "      <th>...</th>\n",
       "      <td>...</td>\n",
       "    </tr>\n",
       "    <tr>\n",
       "      <th>57</th>\n",
       "      <td>70.17</td>\n",
       "    </tr>\n",
       "    <tr>\n",
       "      <th>58</th>\n",
       "      <td>70.43</td>\n",
       "    </tr>\n",
       "    <tr>\n",
       "      <th>59</th>\n",
       "      <td>70.62</td>\n",
       "    </tr>\n",
       "    <tr>\n",
       "      <th>60</th>\n",
       "      <td>69.80</td>\n",
       "    </tr>\n",
       "    <tr>\n",
       "      <th>61</th>\n",
       "      <td>68.89</td>\n",
       "    </tr>\n",
       "  </tbody>\n",
       "</table>\n",
       "<p>62 rows × 1 columns</p>\n",
       "</div>"
      ],
      "text/plain": [
       "    Average Male Life Expectancy Worldwide (Years)\n",
       "0                                            49.03\n",
       "1                                            50.94\n",
       "2                                            53.24\n",
       "3                                            53.56\n",
       "4                                            54.03\n",
       "..                                             ...\n",
       "57                                           70.17\n",
       "58                                           70.43\n",
       "59                                           70.62\n",
       "60                                           69.80\n",
       "61                                           68.89\n",
       "\n",
       "[62 rows x 1 columns]"
      ]
     },
     "execution_count": 157,
     "metadata": {},
     "output_type": "execute_result"
    }
   ],
   "source": [
    "world_male_life_expectancy=pd.read_csv('./Data/Life_Expectancy_Male.csv',skiprows=4)\n",
    "world_male_life_expectancy=world_male_life_expectancy.loc[world_male_life_expectancy['Country Name']=='World'].iloc[:,4:].transpose().round(2)\n",
    "world_male_life_expectancy=world_male_life_expectancy.drop(world_male_life_expectancy.tail(1).index,inplace=False).reset_index(drop=True)\n",
    "world_male_life_expectancy\n",
    "world_female_life_expectancy=pd.read_csv('./Data/Life_Expectancy_Female.csv',skiprows=4)\n",
    "world_female_life_expectancy=world_female_life_expectancy.loc[world_female_life_expectancy['Country Name']=='World'].iloc[:,4:].transpose().round(2)\n",
    "world_female_life_expectancy=world_female_life_expectancy.drop(world_female_life_expectancy.tail(1).index,inplace=False).reset_index(drop=True)\n",
    "world_female_life_expectancy.rename(columns={259:'Average Female Life Expectancy Worldwide (Years)'},inplace=True)\n",
    "world_male_life_expectancy.rename(columns={259:'Average Male Life Expectancy Worldwide (Years)'},inplace=True)\n",
    "world_male_life_expectancy"
   ]
  },
  {
   "cell_type": "code",
   "execution_count": 121,
   "metadata": {},
   "outputs": [],
   "source": [
    "def create_line_chart(df_grouped,title,columns):\n",
    "    # create a trace for each variable\n",
    "    traces=[]\n",
    "    variables=columns\n",
    "    colors = ['#C10000', '#d39b81','#0476D9','#75A3BF']\n",
    "\n",
    "    for variable, color in zip(variables, colors):\n",
    "        trace = go.Scatter(\n",
    "            x=df_grouped['Year'],\n",
    "            y=df_grouped[variable],\n",
    "            mode='lines+markers',\n",
    "            name=variable,\n",
    "            line=dict(color=color, width=2),\n",
    "        )\n",
    "        traces.append(trace)\n",
    "    \n",
    "\n",
    "    # Create the layout\n",
    "    layout = go.Layout(\n",
    "        autosize=False,\n",
    "        width=600,\n",
    "        height=400,\n",
    "        title=title,\n",
    "        xaxis=dict(title='Year', showgrid=False),\n",
    "        yaxis=dict(title='Age', showgrid=True),\n",
    "        plot_bgcolor='#fbf1e6',\n",
    "        paper_bgcolor='#fbf1e6',\n",
    "        font=dict(family='Poppins', size=12, color='black'),\n",
    "        legend=dict(x=0.05, y=0.5, bgcolor='rgba(255, 255, 255, 0.8)', bordercolor='rgba(0, 0, 0, 0.2)', borderwidth=1),\n",
    "        margin=go.layout.Margin(\n",
    "        l=50,\n",
    "        r=50,\n",
    "        b=100,\n",
    "        t=100,\n",
    "        pad = 4\n",
    "    )\n",
    "    )\n",
    "\n",
    "    # Create the figure and add the traces\n",
    "    fig = go.Figure(data=traces, layout=layout)\n",
    "\n",
    "    # Apply Style\n",
    "    fig.update_layout(\n",
    "        font=dict(family='Poppins'),\n",
    "        title_font=dict(size=24, color='#000000'),\n",
    "        legend_font=dict(size=12),\n",
    "        legend_itemclick='toggle',\n",
    "        legend_itemdoubleclick='toggleothers',\n",
    "        legend_traceorder='normal',\n",
    "        legend_tracegroupgap=10,\n",
    "        legend_bordercolor='#000000',\n",
    "        legend_borderwidth=1,\n",
    "        legend_bgcolor='#ffffff',\n",
    "        legend_xanchor='left',\n",
    "        legend_yanchor='top',\n",
    "        legend_x=0.02,\n",
    "        legend_y=1.12,\n",
    "        margin=dict(l=50, r=50, t=80, b=50),\n",
    "    )\n",
    "    fig.update_yaxes(gridcolor='#c9c1b8') \n",
    "    # Display the plot\n",
    "    fig.show()"
   ]
  },
  {
   "cell_type": "code",
   "execution_count": 122,
   "metadata": {},
   "outputs": [
    {
     "data": {
      "application/vnd.plotly.v1+json": {
       "config": {
        "plotlyServerURL": "https://plot.ly"
       },
       "data": [
        {
         "line": {
          "color": "#C10000",
          "width": 2
         },
         "mode": "lines+markers",
         "name": "Average Female Life Expectancy (East Africa)",
         "type": "scatter",
         "x": [
          1960,
          1961,
          1962,
          1963,
          1964,
          1965,
          1966,
          1967,
          1968,
          1969,
          1970,
          1971,
          1972,
          1973,
          1974,
          1975,
          1976,
          1977,
          1978,
          1979,
          1980,
          1981,
          1982,
          1983,
          1984,
          1985,
          1986,
          1987,
          1988,
          1989,
          1990,
          1991,
          1992,
          1993,
          1994,
          1995,
          1996,
          1997,
          1998,
          1999,
          2000,
          2001,
          2002,
          2003,
          2004,
          2005,
          2006,
          2007,
          2008,
          2009,
          2010,
          2011,
          2012,
          2013,
          2014,
          2015,
          2016,
          2017,
          2018,
          2019,
          2020,
          2021,
          2022
         ],
         "y": [
          44.9,
          45.45,
          46,
          46.1,
          47.18,
          46.81,
          46.49,
          46.98,
          47.25,
          47.36,
          47.59,
          48.24,
          47.09,
          48.58,
          48.7,
          48.75,
          49.2,
          49.76,
          50.08,
          50.57,
          50.98,
          51.7,
          52.08,
          50.88,
          50.86,
          51.18,
          51.74,
          51.08,
          49.12,
          51.83,
          51.8,
          49.88,
          48.89,
          50.22,
          50.67,
          51.73,
          51.93,
          52.18,
          51.01,
          53.67,
          54.69,
          55.38,
          55.97,
          56.75,
          57.31,
          58.19,
          59.1,
          59.87,
          60.55,
          61.35,
          61.86,
          62.52,
          63.32,
          63.81,
          64.41,
          64.85,
          65.25,
          65.67,
          66.07,
          66.34,
          66.04,
          65.56,
          null
         ]
        },
        {
         "line": {
          "color": "#d39b81",
          "width": 2
         },
         "mode": "lines+markers",
         "name": "Average Male Life Expectancy (East Africa)",
         "type": "scatter",
         "x": [
          1960,
          1961,
          1962,
          1963,
          1964,
          1965,
          1966,
          1967,
          1968,
          1969,
          1970,
          1971,
          1972,
          1973,
          1974,
          1975,
          1976,
          1977,
          1978,
          1979,
          1980,
          1981,
          1982,
          1983,
          1984,
          1985,
          1986,
          1987,
          1988,
          1989,
          1990,
          1991,
          1992,
          1993,
          1994,
          1995,
          1996,
          1997,
          1998,
          1999,
          2000,
          2001,
          2002,
          2003,
          2004,
          2005,
          2006,
          2007,
          2008,
          2009,
          2010,
          2011,
          2012,
          2013,
          2014,
          2015,
          2016,
          2017,
          2018,
          2019,
          2020,
          2021,
          2022
         ],
         "y": [
          41.57,
          42.11,
          42.65,
          42.26,
          43.64,
          42.99,
          42.65,
          43.09,
          43.35,
          43.39,
          43.65,
          44.31,
          43.03,
          45.11,
          45.28,
          45.4,
          45.7,
          46.13,
          46.3,
          46.82,
          47.09,
          47.65,
          47.92,
          46.63,
          46.44,
          46.79,
          47.39,
          46.39,
          44.04,
          46.99,
          46.95,
          45.34,
          44.32,
          45.8,
          47.14,
          47.73,
          47.98,
          48.27,
          46.08,
          48.88,
          51.28,
          52.07,
          52.79,
          53.65,
          54.21,
          54.93,
          55.91,
          56.53,
          57.08,
          57.78,
          58.19,
          58.68,
          59.33,
          59.76,
          60.03,
          60.5,
          60.82,
          61.23,
          61.64,
          61.97,
          61.46,
          60.95,
          null
         ]
        },
        {
         "line": {
          "color": "#0476D9",
          "width": 2
         },
         "mode": "lines+markers",
         "name": "Average Female Life Expectancy (World)",
         "type": "scatter",
         "x": [
          1960,
          1961,
          1962,
          1963,
          1964,
          1965,
          1966,
          1967,
          1968,
          1969,
          1970,
          1971,
          1972,
          1973,
          1974,
          1975,
          1976,
          1977,
          1978,
          1979,
          1980,
          1981,
          1982,
          1983,
          1984,
          1985,
          1986,
          1987,
          1988,
          1989,
          1990,
          1991,
          1992,
          1993,
          1994,
          1995,
          1996,
          1997,
          1998,
          1999,
          2000,
          2001,
          2002,
          2003,
          2004,
          2005,
          2006,
          2007,
          2008,
          2009,
          2010,
          2011,
          2012,
          2013,
          2014,
          2015,
          2016,
          2017,
          2018,
          2019,
          2020,
          2021,
          2022
         ],
         "y": [
          52.95,
          54.95,
          57.36,
          57.71,
          58.22,
          58.15,
          58.62,
          59.05,
          59.5,
          59.8,
          60.09,
          60.38,
          61.03,
          61.53,
          61.98,
          62.45,
          62.91,
          63.47,
          63.89,
          64.35,
          64.71,
          65.13,
          65.51,
          65.76,
          66.06,
          66.32,
          66.71,
          67.03,
          67.22,
          67.54,
          67.73,
          67.8,
          68.07,
          68.29,
          68.5,
          68.69,
          68.9,
          69.22,
          69.53,
          69.76,
          70.09,
          70.51,
          70.78,
          71.07,
          71.33,
          71.69,
          72.09,
          72.37,
          72.52,
          72.93,
          73.19,
          73.53,
          73.82,
          74.12,
          74.39,
          74.57,
          74.84,
          75.06,
          75.27,
          75.47,
          74.86,
          73.95,
          null
         ]
        },
        {
         "line": {
          "color": "#75A3BF",
          "width": 2
         },
         "mode": "lines+markers",
         "name": "Average Male Life Expectancy (World)",
         "type": "scatter",
         "x": [
          1960,
          1961,
          1962,
          1963,
          1964,
          1965,
          1966,
          1967,
          1968,
          1969,
          1970,
          1971,
          1972,
          1973,
          1974,
          1975,
          1976,
          1977,
          1978,
          1979,
          1980,
          1981,
          1982,
          1983,
          1984,
          1985,
          1986,
          1987,
          1988,
          1989,
          1990,
          1991,
          1992,
          1993,
          1994,
          1995,
          1996,
          1997,
          1998,
          1999,
          2000,
          2001,
          2002,
          2003,
          2004,
          2005,
          2006,
          2007,
          2008,
          2009,
          2010,
          2011,
          2012,
          2013,
          2014,
          2015,
          2016,
          2017,
          2018,
          2019,
          2020,
          2021,
          2022
         ],
         "y": [
          49.03,
          50.94,
          53.24,
          53.56,
          54.03,
          53.77,
          54.34,
          54.73,
          55.14,
          55.46,
          55.78,
          55.78,
          56.73,
          57.23,
          57.63,
          58.06,
          58.52,
          58.95,
          59.26,
          59.65,
          59.95,
          60.29,
          60.63,
          60.87,
          61.17,
          61.48,
          61.89,
          62.18,
          62.33,
          62.68,
          62.83,
          63.04,
          63.29,
          63.45,
          63.72,
          63.92,
          64.23,
          64.58,
          64.83,
          65.17,
          65.47,
          65.76,
          66.05,
          66.31,
          66.56,
          66.87,
          67.22,
          67.47,
          67.66,
          68.04,
          68.31,
          68.64,
          68.9,
          69.19,
          69.52,
          69.76,
          70,
          70.17,
          70.43,
          70.62,
          69.8,
          68.89,
          null
         ]
        }
       ],
       "layout": {
        "autosize": false,
        "font": {
         "color": "black",
         "family": "Poppins",
         "size": 10
        },
        "height": 400,
        "legend": {
         "bgcolor": "#ffffff",
         "bordercolor": "#000000",
         "borderwidth": 1,
         "font": {
          "size": 12
         },
         "itemclick": "toggle",
         "itemdoubleclick": "toggleothers",
         "tracegroupgap": 10,
         "traceorder": "normal",
         "x": 0.02,
         "xanchor": "left",
         "y": 1.12,
         "yanchor": "top"
        },
        "margin": {
         "b": 50,
         "l": 50,
         "pad": 4,
         "r": 50,
         "t": 80
        },
        "paper_bgcolor": "#fbf1e6",
        "plot_bgcolor": "#fbf1e6",
        "template": {
         "data": {
          "bar": [
           {
            "error_x": {
             "color": "#2a3f5f"
            },
            "error_y": {
             "color": "#2a3f5f"
            },
            "marker": {
             "line": {
              "color": "#E5ECF6",
              "width": 0.5
             },
             "pattern": {
              "fillmode": "overlay",
              "size": 10,
              "solidity": 0.2
             }
            },
            "type": "bar"
           }
          ],
          "barpolar": [
           {
            "marker": {
             "line": {
              "color": "#E5ECF6",
              "width": 0.5
             },
             "pattern": {
              "fillmode": "overlay",
              "size": 10,
              "solidity": 0.2
             }
            },
            "type": "barpolar"
           }
          ],
          "carpet": [
           {
            "aaxis": {
             "endlinecolor": "#2a3f5f",
             "gridcolor": "white",
             "linecolor": "white",
             "minorgridcolor": "white",
             "startlinecolor": "#2a3f5f"
            },
            "baxis": {
             "endlinecolor": "#2a3f5f",
             "gridcolor": "white",
             "linecolor": "white",
             "minorgridcolor": "white",
             "startlinecolor": "#2a3f5f"
            },
            "type": "carpet"
           }
          ],
          "choropleth": [
           {
            "colorbar": {
             "outlinewidth": 0,
             "ticks": ""
            },
            "type": "choropleth"
           }
          ],
          "contour": [
           {
            "colorbar": {
             "outlinewidth": 0,
             "ticks": ""
            },
            "colorscale": [
             [
              0,
              "#0d0887"
             ],
             [
              0.1111111111111111,
              "#46039f"
             ],
             [
              0.2222222222222222,
              "#7201a8"
             ],
             [
              0.3333333333333333,
              "#9c179e"
             ],
             [
              0.4444444444444444,
              "#bd3786"
             ],
             [
              0.5555555555555556,
              "#d8576b"
             ],
             [
              0.6666666666666666,
              "#ed7953"
             ],
             [
              0.7777777777777778,
              "#fb9f3a"
             ],
             [
              0.8888888888888888,
              "#fdca26"
             ],
             [
              1,
              "#f0f921"
             ]
            ],
            "type": "contour"
           }
          ],
          "contourcarpet": [
           {
            "colorbar": {
             "outlinewidth": 0,
             "ticks": ""
            },
            "type": "contourcarpet"
           }
          ],
          "heatmap": [
           {
            "colorbar": {
             "outlinewidth": 0,
             "ticks": ""
            },
            "colorscale": [
             [
              0,
              "#0d0887"
             ],
             [
              0.1111111111111111,
              "#46039f"
             ],
             [
              0.2222222222222222,
              "#7201a8"
             ],
             [
              0.3333333333333333,
              "#9c179e"
             ],
             [
              0.4444444444444444,
              "#bd3786"
             ],
             [
              0.5555555555555556,
              "#d8576b"
             ],
             [
              0.6666666666666666,
              "#ed7953"
             ],
             [
              0.7777777777777778,
              "#fb9f3a"
             ],
             [
              0.8888888888888888,
              "#fdca26"
             ],
             [
              1,
              "#f0f921"
             ]
            ],
            "type": "heatmap"
           }
          ],
          "heatmapgl": [
           {
            "colorbar": {
             "outlinewidth": 0,
             "ticks": ""
            },
            "colorscale": [
             [
              0,
              "#0d0887"
             ],
             [
              0.1111111111111111,
              "#46039f"
             ],
             [
              0.2222222222222222,
              "#7201a8"
             ],
             [
              0.3333333333333333,
              "#9c179e"
             ],
             [
              0.4444444444444444,
              "#bd3786"
             ],
             [
              0.5555555555555556,
              "#d8576b"
             ],
             [
              0.6666666666666666,
              "#ed7953"
             ],
             [
              0.7777777777777778,
              "#fb9f3a"
             ],
             [
              0.8888888888888888,
              "#fdca26"
             ],
             [
              1,
              "#f0f921"
             ]
            ],
            "type": "heatmapgl"
           }
          ],
          "histogram": [
           {
            "marker": {
             "pattern": {
              "fillmode": "overlay",
              "size": 10,
              "solidity": 0.2
             }
            },
            "type": "histogram"
           }
          ],
          "histogram2d": [
           {
            "colorbar": {
             "outlinewidth": 0,
             "ticks": ""
            },
            "colorscale": [
             [
              0,
              "#0d0887"
             ],
             [
              0.1111111111111111,
              "#46039f"
             ],
             [
              0.2222222222222222,
              "#7201a8"
             ],
             [
              0.3333333333333333,
              "#9c179e"
             ],
             [
              0.4444444444444444,
              "#bd3786"
             ],
             [
              0.5555555555555556,
              "#d8576b"
             ],
             [
              0.6666666666666666,
              "#ed7953"
             ],
             [
              0.7777777777777778,
              "#fb9f3a"
             ],
             [
              0.8888888888888888,
              "#fdca26"
             ],
             [
              1,
              "#f0f921"
             ]
            ],
            "type": "histogram2d"
           }
          ],
          "histogram2dcontour": [
           {
            "colorbar": {
             "outlinewidth": 0,
             "ticks": ""
            },
            "colorscale": [
             [
              0,
              "#0d0887"
             ],
             [
              0.1111111111111111,
              "#46039f"
             ],
             [
              0.2222222222222222,
              "#7201a8"
             ],
             [
              0.3333333333333333,
              "#9c179e"
             ],
             [
              0.4444444444444444,
              "#bd3786"
             ],
             [
              0.5555555555555556,
              "#d8576b"
             ],
             [
              0.6666666666666666,
              "#ed7953"
             ],
             [
              0.7777777777777778,
              "#fb9f3a"
             ],
             [
              0.8888888888888888,
              "#fdca26"
             ],
             [
              1,
              "#f0f921"
             ]
            ],
            "type": "histogram2dcontour"
           }
          ],
          "mesh3d": [
           {
            "colorbar": {
             "outlinewidth": 0,
             "ticks": ""
            },
            "type": "mesh3d"
           }
          ],
          "parcoords": [
           {
            "line": {
             "colorbar": {
              "outlinewidth": 0,
              "ticks": ""
             }
            },
            "type": "parcoords"
           }
          ],
          "pie": [
           {
            "automargin": true,
            "type": "pie"
           }
          ],
          "scatter": [
           {
            "fillpattern": {
             "fillmode": "overlay",
             "size": 10,
             "solidity": 0.2
            },
            "type": "scatter"
           }
          ],
          "scatter3d": [
           {
            "line": {
             "colorbar": {
              "outlinewidth": 0,
              "ticks": ""
             }
            },
            "marker": {
             "colorbar": {
              "outlinewidth": 0,
              "ticks": ""
             }
            },
            "type": "scatter3d"
           }
          ],
          "scattercarpet": [
           {
            "marker": {
             "colorbar": {
              "outlinewidth": 0,
              "ticks": ""
             }
            },
            "type": "scattercarpet"
           }
          ],
          "scattergeo": [
           {
            "marker": {
             "colorbar": {
              "outlinewidth": 0,
              "ticks": ""
             }
            },
            "type": "scattergeo"
           }
          ],
          "scattergl": [
           {
            "marker": {
             "colorbar": {
              "outlinewidth": 0,
              "ticks": ""
             }
            },
            "type": "scattergl"
           }
          ],
          "scattermapbox": [
           {
            "marker": {
             "colorbar": {
              "outlinewidth": 0,
              "ticks": ""
             }
            },
            "type": "scattermapbox"
           }
          ],
          "scatterpolar": [
           {
            "marker": {
             "colorbar": {
              "outlinewidth": 0,
              "ticks": ""
             }
            },
            "type": "scatterpolar"
           }
          ],
          "scatterpolargl": [
           {
            "marker": {
             "colorbar": {
              "outlinewidth": 0,
              "ticks": ""
             }
            },
            "type": "scatterpolargl"
           }
          ],
          "scatterternary": [
           {
            "marker": {
             "colorbar": {
              "outlinewidth": 0,
              "ticks": ""
             }
            },
            "type": "scatterternary"
           }
          ],
          "surface": [
           {
            "colorbar": {
             "outlinewidth": 0,
             "ticks": ""
            },
            "colorscale": [
             [
              0,
              "#0d0887"
             ],
             [
              0.1111111111111111,
              "#46039f"
             ],
             [
              0.2222222222222222,
              "#7201a8"
             ],
             [
              0.3333333333333333,
              "#9c179e"
             ],
             [
              0.4444444444444444,
              "#bd3786"
             ],
             [
              0.5555555555555556,
              "#d8576b"
             ],
             [
              0.6666666666666666,
              "#ed7953"
             ],
             [
              0.7777777777777778,
              "#fb9f3a"
             ],
             [
              0.8888888888888888,
              "#fdca26"
             ],
             [
              1,
              "#f0f921"
             ]
            ],
            "type": "surface"
           }
          ],
          "table": [
           {
            "cells": {
             "fill": {
              "color": "#EBF0F8"
             },
             "line": {
              "color": "white"
             }
            },
            "header": {
             "fill": {
              "color": "#C8D4E3"
             },
             "line": {
              "color": "white"
             }
            },
            "type": "table"
           }
          ]
         },
         "layout": {
          "annotationdefaults": {
           "arrowcolor": "#2a3f5f",
           "arrowhead": 0,
           "arrowwidth": 1
          },
          "autotypenumbers": "strict",
          "coloraxis": {
           "colorbar": {
            "outlinewidth": 0,
            "ticks": ""
           }
          },
          "colorscale": {
           "diverging": [
            [
             0,
             "#8e0152"
            ],
            [
             0.1,
             "#c51b7d"
            ],
            [
             0.2,
             "#de77ae"
            ],
            [
             0.3,
             "#f1b6da"
            ],
            [
             0.4,
             "#fde0ef"
            ],
            [
             0.5,
             "#f7f7f7"
            ],
            [
             0.6,
             "#e6f5d0"
            ],
            [
             0.7,
             "#b8e186"
            ],
            [
             0.8,
             "#7fbc41"
            ],
            [
             0.9,
             "#4d9221"
            ],
            [
             1,
             "#276419"
            ]
           ],
           "sequential": [
            [
             0,
             "#0d0887"
            ],
            [
             0.1111111111111111,
             "#46039f"
            ],
            [
             0.2222222222222222,
             "#7201a8"
            ],
            [
             0.3333333333333333,
             "#9c179e"
            ],
            [
             0.4444444444444444,
             "#bd3786"
            ],
            [
             0.5555555555555556,
             "#d8576b"
            ],
            [
             0.6666666666666666,
             "#ed7953"
            ],
            [
             0.7777777777777778,
             "#fb9f3a"
            ],
            [
             0.8888888888888888,
             "#fdca26"
            ],
            [
             1,
             "#f0f921"
            ]
           ],
           "sequentialminus": [
            [
             0,
             "#0d0887"
            ],
            [
             0.1111111111111111,
             "#46039f"
            ],
            [
             0.2222222222222222,
             "#7201a8"
            ],
            [
             0.3333333333333333,
             "#9c179e"
            ],
            [
             0.4444444444444444,
             "#bd3786"
            ],
            [
             0.5555555555555556,
             "#d8576b"
            ],
            [
             0.6666666666666666,
             "#ed7953"
            ],
            [
             0.7777777777777778,
             "#fb9f3a"
            ],
            [
             0.8888888888888888,
             "#fdca26"
            ],
            [
             1,
             "#f0f921"
            ]
           ]
          },
          "colorway": [
           "#636efa",
           "#EF553B",
           "#00cc96",
           "#ab63fa",
           "#FFA15A",
           "#19d3f3",
           "#FF6692",
           "#B6E880",
           "#FF97FF",
           "#FECB52"
          ],
          "font": {
           "color": "#2a3f5f"
          },
          "geo": {
           "bgcolor": "white",
           "lakecolor": "white",
           "landcolor": "#E5ECF6",
           "showlakes": true,
           "showland": true,
           "subunitcolor": "white"
          },
          "hoverlabel": {
           "align": "left"
          },
          "hovermode": "closest",
          "mapbox": {
           "style": "light"
          },
          "paper_bgcolor": "white",
          "plot_bgcolor": "#E5ECF6",
          "polar": {
           "angularaxis": {
            "gridcolor": "white",
            "linecolor": "white",
            "ticks": ""
           },
           "bgcolor": "#E5ECF6",
           "radialaxis": {
            "gridcolor": "white",
            "linecolor": "white",
            "ticks": ""
           }
          },
          "scene": {
           "xaxis": {
            "backgroundcolor": "#E5ECF6",
            "gridcolor": "white",
            "gridwidth": 2,
            "linecolor": "white",
            "showbackground": true,
            "ticks": "",
            "zerolinecolor": "white"
           },
           "yaxis": {
            "backgroundcolor": "#E5ECF6",
            "gridcolor": "white",
            "gridwidth": 2,
            "linecolor": "white",
            "showbackground": true,
            "ticks": "",
            "zerolinecolor": "white"
           },
           "zaxis": {
            "backgroundcolor": "#E5ECF6",
            "gridcolor": "white",
            "gridwidth": 2,
            "linecolor": "white",
            "showbackground": true,
            "ticks": "",
            "zerolinecolor": "white"
           }
          },
          "shapedefaults": {
           "line": {
            "color": "#2a3f5f"
           }
          },
          "ternary": {
           "aaxis": {
            "gridcolor": "white",
            "linecolor": "white",
            "ticks": ""
           },
           "baxis": {
            "gridcolor": "white",
            "linecolor": "white",
            "ticks": ""
           },
           "bgcolor": "#E5ECF6",
           "caxis": {
            "gridcolor": "white",
            "linecolor": "white",
            "ticks": ""
           }
          },
          "title": {
           "x": 0.05
          },
          "xaxis": {
           "automargin": true,
           "gridcolor": "white",
           "linecolor": "white",
           "ticks": "",
           "title": {
            "standoff": 15
           },
           "zerolinecolor": "white",
           "zerolinewidth": 2
          },
          "yaxis": {
           "automargin": true,
           "gridcolor": "white",
           "linecolor": "white",
           "ticks": "",
           "title": {
            "standoff": 15
           },
           "zerolinecolor": "white",
           "zerolinewidth": 2
          }
         }
        },
        "title": {
         "font": {
          "color": "#000000",
          "size": 18
         },
         "text": "Average Life Expectancy in East Africa"
        },
        "width": 600,
        "xaxis": {
         "showgrid": false,
         "title": {
          "text": "Year"
         }
        },
        "yaxis": {
         "gridcolor": "#c9c1b8",
         "showgrid": true,
         "title": {
          "text": "Age"
         }
        }
       }
      }
     },
     "metadata": {},
     "output_type": "display_data"
    }
   ],
   "source": [
    "\n",
    "# Extract the required columns\n",
    "columns = ['Year','Life expectancy at birth, female (years)', 'Life expectancy at birth, male (years)']\n",
    "df_selected = df[columns]\n",
    "# Group the data by year and calculate the mean values\n",
    "df_grouped = df_selected.groupby('Year').mean().round(2).reset_index()\n",
    "# Extract Required Columns from World Data\n",
    "cols=['Life expectancy at birth, female (years) (World)','Life expectancy at birth, male (years) (World)']\n",
    "df_world_columns=world_data[cols]\n",
    "# print(df_world_columns)\n",
    "# Mege with Worldwide Data\n",
    "merged_df = pd.merge(df_grouped, world_data[['Year', 'Life expectancy at birth, female (years) (World)', 'Life expectancy at birth, male (years) (World)']],on='Year', how='outer')\n",
    "\n",
    "# Rename columns to match the desired format\n",
    "merged_df.rename(columns={\n",
    "    'Life expectancy at birth, female (years)': 'Average Female Life Expectancy (East Africa)',\n",
    "    'Life expectancy at birth, male (years)': 'Average Male Life Expectancy (East Africa)',\n",
    "    'Life expectancy at birth, female (years) (World)': 'Average Female Life Expectancy (World)',\n",
    "    'Life expectancy at birth, male (years) (World)': 'Average Male Life Expectancy (World)'\n",
    "}, inplace=True)\n",
    "columns=merged_df.columns\n",
    "create_line_chart(merged_df,'Average Life Expectancy in East Africa',columns[1:])"
   ]
  }
 ],
 "metadata": {
  "kernelspec": {
   "display_name": ".venv",
   "language": "python",
   "name": "python3"
  },
  "language_info": {
   "codemirror_mode": {
    "name": "ipython",
    "version": 3
   },
   "file_extension": ".py",
   "mimetype": "text/x-python",
   "name": "python",
   "nbconvert_exporter": "python",
   "pygments_lexer": "ipython3",
   "version": "3.9.7"
  },
  "orig_nbformat": 4
 },
 "nbformat": 4,
 "nbformat_minor": 2
}
