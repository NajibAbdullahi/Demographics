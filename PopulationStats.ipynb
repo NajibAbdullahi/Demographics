{
 "cells": [
  {
   "cell_type": "markdown",
   "metadata": {},
   "source": [
    "# Population & General Demographics in East Africa\n",
    "***\n",
    "<img src=\"https://images.unsplash.com/photo-1560091129-27a0e2af124b?ixlib=rb-4.0.3&ixid=M3wxMjA3fDB8MHxwaG90by1wYWdlfHx8fGVufDB8fHx8fA%3D%3D&auto=format&fit=crop&w=3570&q=80\" alt=\"crowded street\" style=\"width:500px;\">"
   ]
  },
  {
   "cell_type": "markdown",
   "metadata": {},
   "source": [
    "<a id=\"WebScraping\"><h2>Web Scraping</h2></a>\n",
    "***\n",
    "<a id=\"ScraperImport\"><h3>Importing Libraries</h3></a>"
   ]
  },
  {
   "cell_type": "code",
   "execution_count": 1,
   "metadata": {},
   "outputs": [],
   "source": [
    "import pandas as pd\n",
    "from selenium import webdriver\n",
    "from selenium.webdriver.common.keys import Keys\n",
    "from selenium.webdriver.common.by import By\n",
    "from selenium.webdriver.chrome.options import Options\n",
    "import time\n",
    "import warnings\n",
    "warnings.filterwarnings('ignore')"
   ]
  },
  {
   "cell_type": "markdown",
   "metadata": {},
   "source": [
    "<a id=\"Setup\"><h3>Browser Setup</h3></a>"
   ]
  },
  {
   "cell_type": "code",
   "execution_count": 16,
   "metadata": {},
   "outputs": [],
   "source": [
    "path=\"https://data.humdata.org/\"\n",
    "folder=r\"C:\\Users\\NAJIB\\Documents\\Data Analysis\\EastAfrica\\Data\"\n",
    "options=Options();\n",
    "prefs={\"download.default_directory\":r\"C:\\Users\\NAJIB\\Documents\\EastAfrica\\Data\"}\n",
    "options.add_experimental_option(\"prefs\",prefs);\n",
    "driver = webdriver.Chrome(options=options)\n",
    "driver.get(path)"
   ]
  },
  {
   "cell_type": "markdown",
   "metadata": {},
   "source": [
    "<a id=\"downloading\"><h3>Downloading Country Specific Data</h3></a>"
   ]
  },
  {
   "cell_type": "code",
   "execution_count": 3,
   "metadata": {},
   "outputs": [],
   "source": [
    "countries=['Somalia','Kenya','Ethiopia','Sudan', 'South Sudan','Eritrea','Djibouti','Rwanda','Uganda',\n",
    "           'Burundi','Tanzania']"
   ]
  },
  {
   "cell_type": "code",
   "execution_count": 18,
   "metadata": {},
   "outputs": [],
   "source": [
    "for country in countries:\n",
    "    searchInput=driver.find_element(By.ID, \"q2\").send_keys(f'{country} - Health')\n",
    "    driver.find_element(By.CLASS_NAME,'button').send_keys(Keys.ENTER)\n",
    "    country_indicator_link=driver.find_element(By.XPATH,'/html/body/div[7]/div/div[3]/div/div/div/div/div/div/section/div[1]/div[2]/div/div/ul/li[1]/div/div/div/div[1]/div[1]/a').click()\n",
    "    country_indicator_download=driver.find_element(By.XPATH,'/html/body/div[7]/div/div[3]/div/div[2]/div/div/div[2]/div[3]/div[1]/div/ul/li[1]/div[3]/a[1]').click()\n",
    "    home_btn=driver.find_element(By.XPATH,'/html/body/div[6]/div/nav/div[2]/div/div[1]/div[1]/a').click()"
   ]
  },
  {
   "cell_type": "markdown",
   "metadata": {},
   "source": [
    "<a id=\"ColumnExtraction\"><h3>Extracting Specific Columns</h3></a>"
   ]
  },
  {
   "cell_type": "code",
   "execution_count": 2,
   "metadata": {},
   "outputs": [],
   "source": [
    "abbr=['som','bdi','dji','eri','eth','ken','rwa','sdn','ssd','tza','uga']"
   ]
  },
  {
   "cell_type": "code",
   "execution_count": 2,
   "metadata": {},
   "outputs": [],
   "source": [
    "indicators=['Sex ratio at birth (male births per female births)',\n",
    "'Age dependency ratio (% of working-age population)',\n",
    "'Age dependency ratio, old (% of working-age population)',\n",
    "'Age dependency ratio, young (% of working-age population)',\n",
    "'Population growth (annual %)',\n",
    "'Population, total',\n",
    "'Population, female',\n",
    "'Population, female (% of total population)'\n",
    "'Population, male',\n",
    "'Population, male (% of total population)',\n",
    "'Life expectancy at birth, female (years)',\n",
    "'Life expectancy at birth, total (years)',\n",
    "'Life expectancy at birth, male (years)',\n",
    "'Fertility rate, total (births per woman)',\n",
    "'Survival to age 65, female (% of cohort)',\n",
    "'Survival to age 65, male (% of cohort)',\n",
    "'Population ages 00-04, female (% of female population)',\n",
    "'Population ages 00-04, male (% of male population)',\n",
    "'Population ages 0-14, female',\n",
    "'Population ages 0-14, female (% of female population)',\n",
    "'Population ages 0-14, male',\n",
    "'Population ages 0-14, male (% of male population)',\n",
    "'Population ages 0-14, total',\n",
    "'Population ages 0-14 (% of total population)',\n",
    "'Population ages 05-09, female (% of female population)',\n",
    "'Population ages 05-09, male (% of male population)',\n",
    "'Population ages 10-14, female (% of female population)',\n",
    "'Population ages 10-14, male (% of male population)',\n",
    "'Population ages 15-19, female (% of female population)',\n",
    "'Population ages 15-19, male (% of male population)',\n",
    "'Population ages 15-64, female',\n",
    "'Population ages 15-64, female (% of female population)',\n",
    "'Population ages 15-64, male',\n",
    "'Population ages 15-64, male (% of male population)',\n",
    "'Population ages 15-64, total',\n",
    "'Population ages 15-64 (% of total population)',\n",
    "'Population ages 20-24, female (% of female population)',\n",
    "'Population ages 20-24, male (% of male population)',\n",
    "'Population ages 25-29, female (% of female population)',\n",
    "'Population ages 25-29, male (% of male population)',\n",
    "'Population ages 30-34, female (% of female population)',\n",
    "'Population ages 30-34, male (% of male population)',\n",
    "'Population ages 35-39, female (% of female population)',\n",
    "'Population ages 35-39, male (% of male population)',\n",
    "'Population ages 40-44, female (% of female population)',\n",
    "'Population ages 40-44, male (% of male population)',\n",
    "'Population ages 45-49, female (% of female population)',\n",
    "'Population ages 45-49, male (% of male population)',\n",
    "'Population ages 50-54, female (% of female population)',\n",
    "'Population ages 50-54, male (% of male population)',\n",
    "'Population ages 55-59, female (% of female population)',\n",
    "'Population ages 55-59, male (% of male population)',\n",
    "'Population ages 60-64, female (% of female population)',\n",
    "'Population ages 60-64, male (% of male population)',\n",
    "'Population ages 65-69, female (% of female population)',\n",
    "'Population ages 65-69, male (% of male population)',\n",
    "'Population ages 65 and above, female',\n",
    "'Population ages 65 and above, female (% of female population)',\n",
    "'Population ages 65 and above, male',\n",
    "'Population ages 65 and above, male (% of male population)',\n",
    "'Population ages 65 and above, total',\n",
    "'Population ages 65 and above (% of total population)',\n",
    "'Population ages 70-74, female (% of female population)',\n",
    "'Population ages 70-74, male (% of male population)',\n",
    "'Population ages 75-79, female (% of female population)',\n",
    "'Population ages 75-79, male (% of male population)',\n",
    "'Population ages 80 and above, female (% of female population)',\n",
    "'Population ages 80 and above, male (% of male population)',\n",
    "]"
   ]
  },
  {
   "cell_type": "code",
   "execution_count": 5,
   "metadata": {},
   "outputs": [
    {
     "data": {
      "text/html": [
       "<div>\n",
       "<style scoped>\n",
       "    .dataframe tbody tr th:only-of-type {\n",
       "        vertical-align: middle;\n",
       "    }\n",
       "\n",
       "    .dataframe tbody tr th {\n",
       "        vertical-align: top;\n",
       "    }\n",
       "\n",
       "    .dataframe thead th {\n",
       "        text-align: right;\n",
       "    }\n",
       "</style>\n",
       "<table border=\"1\" class=\"dataframe\">\n",
       "  <thead>\n",
       "    <tr style=\"text-align: right;\">\n",
       "      <th></th>\n",
       "      <th>Country Name</th>\n",
       "      <th>Country ISO3</th>\n",
       "      <th>Year</th>\n",
       "      <th>Indicator Name</th>\n",
       "      <th>Indicator Code</th>\n",
       "      <th>Value</th>\n",
       "    </tr>\n",
       "  </thead>\n",
       "  <tbody>\n",
       "    <tr>\n",
       "      <th>2150</th>\n",
       "      <td>Somalia</td>\n",
       "      <td>SOM</td>\n",
       "      <td>2021</td>\n",
       "      <td>Life expectancy at birth, female (years)</td>\n",
       "      <td>SP.DYN.LE00.FE.IN</td>\n",
       "      <td>57.414</td>\n",
       "    </tr>\n",
       "    <tr>\n",
       "      <th>2151</th>\n",
       "      <td>Somalia</td>\n",
       "      <td>SOM</td>\n",
       "      <td>2020</td>\n",
       "      <td>Life expectancy at birth, female (years)</td>\n",
       "      <td>SP.DYN.LE00.FE.IN</td>\n",
       "      <td>58.051</td>\n",
       "    </tr>\n",
       "    <tr>\n",
       "      <th>2152</th>\n",
       "      <td>Somalia</td>\n",
       "      <td>SOM</td>\n",
       "      <td>2019</td>\n",
       "      <td>Life expectancy at birth, female (years)</td>\n",
       "      <td>SP.DYN.LE00.FE.IN</td>\n",
       "      <td>59.092</td>\n",
       "    </tr>\n",
       "    <tr>\n",
       "      <th>2153</th>\n",
       "      <td>Somalia</td>\n",
       "      <td>SOM</td>\n",
       "      <td>2018</td>\n",
       "      <td>Life expectancy at birth, female (years)</td>\n",
       "      <td>SP.DYN.LE00.FE.IN</td>\n",
       "      <td>58.545</td>\n",
       "    </tr>\n",
       "    <tr>\n",
       "      <th>2154</th>\n",
       "      <td>Somalia</td>\n",
       "      <td>SOM</td>\n",
       "      <td>2017</td>\n",
       "      <td>Life expectancy at birth, female (years)</td>\n",
       "      <td>SP.DYN.LE00.FE.IN</td>\n",
       "      <td>57.809</td>\n",
       "    </tr>\n",
       "  </tbody>\n",
       "</table>\n",
       "</div>"
      ],
      "text/plain": [
       "     Country Name Country ISO3  Year  \\\n",
       "2150      Somalia          SOM  2021   \n",
       "2151      Somalia          SOM  2020   \n",
       "2152      Somalia          SOM  2019   \n",
       "2153      Somalia          SOM  2018   \n",
       "2154      Somalia          SOM  2017   \n",
       "\n",
       "                                Indicator Name     Indicator Code   Value  \n",
       "2150  Life expectancy at birth, female (years)  SP.DYN.LE00.FE.IN  57.414  \n",
       "2151  Life expectancy at birth, female (years)  SP.DYN.LE00.FE.IN  58.051  \n",
       "2152  Life expectancy at birth, female (years)  SP.DYN.LE00.FE.IN  59.092  \n",
       "2153  Life expectancy at birth, female (years)  SP.DYN.LE00.FE.IN  58.545  \n",
       "2154  Life expectancy at birth, female (years)  SP.DYN.LE00.FE.IN  57.809  "
      ]
     },
     "execution_count": 5,
     "metadata": {},
     "output_type": "execute_result"
    }
   ],
   "source": [
    "final_df.to_csv('east_africa_pops_data.csv', index=False, header=True)\n",
    "final_df.head(5)"
   ]
  },
  {
   "cell_type": "markdown",
   "metadata": {},
   "source": [
    "<a id=\"EDA\"><h2>Exploratory Data Analysis</h2></a>\n",
    "***\n",
    "<a id=\"structure\"><h3>Checking Data Structure</h3></a>"
   ]
  },
  {
   "cell_type": "code",
   "execution_count": 3,
   "metadata": {},
   "outputs": [
    {
     "name": "stdout",
     "output_type": "stream",
     "text": [
      "<class 'pandas.core.frame.DataFrame'>\n",
      "RangeIndex: 45001 entries, 0 to 45000\n",
      "Data columns (total 6 columns):\n",
      " #   Column          Non-Null Count  Dtype  \n",
      "---  ------          --------------  -----  \n",
      " 0   Country         45001 non-null  object \n",
      " 1   Country ISO3    45001 non-null  object \n",
      " 2   Year            45001 non-null  int64  \n",
      " 3   Indicator Name  45001 non-null  object \n",
      " 4   Indicator Code  45001 non-null  object \n",
      " 5   Value           45001 non-null  float64\n",
      "dtypes: float64(1), int64(1), object(4)\n",
      "memory usage: 2.1+ MB\n"
     ]
    }
   ],
   "source": [
    "df=pd.read_csv('east_africa_pops_data.csv')\n",
    "df.rename(columns={'Country Name':'Country'},inplace=True)\n",
    "df.info()"
   ]
  },
  {
   "cell_type": "code",
   "execution_count": 18,
   "metadata": {},
   "outputs": [
    {
     "name": "stdout",
     "output_type": "stream",
     "text": [
      "(45001, 6)\n"
     ]
    },
    {
     "data": {
      "text/html": [
       "<div>\n",
       "<style scoped>\n",
       "    .dataframe tbody tr th:only-of-type {\n",
       "        vertical-align: middle;\n",
       "    }\n",
       "\n",
       "    .dataframe tbody tr th {\n",
       "        vertical-align: top;\n",
       "    }\n",
       "\n",
       "    .dataframe thead th {\n",
       "        text-align: right;\n",
       "    }\n",
       "</style>\n",
       "<table border=\"1\" class=\"dataframe\">\n",
       "  <thead>\n",
       "    <tr style=\"text-align: right;\">\n",
       "      <th></th>\n",
       "      <th>Country</th>\n",
       "      <th>Country ISO3</th>\n",
       "      <th>Year</th>\n",
       "      <th>Indicator Name</th>\n",
       "      <th>Indicator Code</th>\n",
       "      <th>Value</th>\n",
       "    </tr>\n",
       "  </thead>\n",
       "  <tbody>\n",
       "    <tr>\n",
       "      <th>44998</th>\n",
       "      <td>Uganda</td>\n",
       "      <td>UGA</td>\n",
       "      <td>1962</td>\n",
       "      <td>Population, male (% of total population)</td>\n",
       "      <td>SP.POP.TOTL.MA.ZS</td>\n",
       "      <td>50.365419</td>\n",
       "    </tr>\n",
       "    <tr>\n",
       "      <th>44999</th>\n",
       "      <td>Uganda</td>\n",
       "      <td>UGA</td>\n",
       "      <td>1961</td>\n",
       "      <td>Population, male (% of total population)</td>\n",
       "      <td>SP.POP.TOTL.MA.ZS</td>\n",
       "      <td>50.438748</td>\n",
       "    </tr>\n",
       "    <tr>\n",
       "      <th>45000</th>\n",
       "      <td>Uganda</td>\n",
       "      <td>UGA</td>\n",
       "      <td>1960</td>\n",
       "      <td>Population, male (% of total population)</td>\n",
       "      <td>SP.POP.TOTL.MA.ZS</td>\n",
       "      <td>50.516925</td>\n",
       "    </tr>\n",
       "  </tbody>\n",
       "</table>\n",
       "</div>"
      ],
      "text/plain": [
       "      Country Country ISO3  Year                            Indicator Name  \\\n",
       "44998  Uganda          UGA  1962  Population, male (% of total population)   \n",
       "44999  Uganda          UGA  1961  Population, male (% of total population)   \n",
       "45000  Uganda          UGA  1960  Population, male (% of total population)   \n",
       "\n",
       "          Indicator Code      Value  \n",
       "44998  SP.POP.TOTL.MA.ZS  50.365419  \n",
       "44999  SP.POP.TOTL.MA.ZS  50.438748  \n",
       "45000  SP.POP.TOTL.MA.ZS  50.516925  "
      ]
     },
     "execution_count": 18,
     "metadata": {},
     "output_type": "execute_result"
    }
   ],
   "source": [
    "print(df.shape)\n",
    "df.tail(3)"
   ]
  },
  {
   "cell_type": "code",
   "execution_count": 4,
   "metadata": {},
   "outputs": [],
   "source": [
    "# visualization\n",
    "import missingno as msno\n",
    "import matplotlib as mpl\n",
    "import matplotlib.pyplot as plt\n",
    "import seaborn as sns\n",
    "import missingno as msno\n",
    "import plotly.express as px\n",
    "import plotly.figure_factory as ff\n",
    "import plotly.graph_objects as go\n",
    "import plotly.io as pio\n",
    "from plotly.subplots import make_subplots\n",
    "\n",
    "# styling\n",
    "%matplotlib inline\n",
    "sns.set_theme(style=\"dark\")\n",
    "mpl.rcParams['axes.unicode_minus'] = False\n",
    "pd.set_option('display.max_columns',None)\n",
    "plt.style.use('seaborn-dark-palette')\n",
    "plt.style.use('dark_background')"
   ]
  },
  {
   "cell_type": "code",
   "execution_count": 20,
   "metadata": {},
   "outputs": [
    {
     "data": {
      "text/plain": [
       "Text(0.5, 1.0, 'Distribution of Missing Values')"
      ]
     },
     "execution_count": 20,
     "metadata": {},
     "output_type": "execute_result"
    },
    {
     "data": {
      "image/png": "[encoded data removed]",
      "text/plain": [
       "<Figure size 2500x1000 with 2 Axes>"
      ]
     },
     "metadata": {},
     "output_type": "display_data"
    }
   ],
   "source": [
    "msno.matrix(df)\n",
    "plt.title('Distribution of Missing Values',fontsize=30, fontstyle= 'oblique')"
   ]
  },
  {
   "cell_type": "markdown",
   "metadata": {},
   "source": [
    "<a id=\"indicatorspecific\"><h3>Creating Indicator specific data frame</h3></a>"
   ]
  },
  {
   "cell_type": "code",
   "execution_count": 21,
   "metadata": {},
   "outputs": [],
   "source": [
    "def create_separate_frames(indicator):\n",
    "    temp_df=df.loc[df['Indicator Name']==indicator]\n",
    "    temp_df=temp_df.filter([f'Country','Year','{indicator}','Value'],axis=1)\n",
    "#     print(temp_df)\n",
    "    return temp_df"
   ]
  },
  {
   "cell_type": "code",
   "execution_count": 5,
   "metadata": {},
   "outputs": [
    {
     "data": {
      "text/html": [
       "<div>\n",
       "<style scoped>\n",
       "    .dataframe tbody tr th:only-of-type {\n",
       "        vertical-align: middle;\n",
       "    }\n",
       "\n",
       "    .dataframe tbody tr th {\n",
       "        vertical-align: top;\n",
       "    }\n",
       "\n",
       "    .dataframe thead th {\n",
       "        text-align: right;\n",
       "    }\n",
       "</style>\n",
       "<table border=\"1\" class=\"dataframe\">\n",
       "  <thead>\n",
       "    <tr style=\"text-align: right;\">\n",
       "      <th></th>\n",
       "      <th>Country</th>\n",
       "      <th>Year</th>\n",
       "      <th>Age dependency ratio (% of working-age population)</th>\n",
       "      <th>Age dependency ratio, old (% of working-age population)</th>\n",
       "      <th>Age dependency ratio, young (% of working-age population)</th>\n",
       "      <th>Fertility rate, total (births per woman)</th>\n",
       "      <th>Life expectancy at birth, female (years)</th>\n",
       "      <th>Life expectancy at birth, male (years)</th>\n",
       "      <th>Life expectancy at birth, total (years)</th>\n",
       "      <th>Population ages 0-14 (% of total population)</th>\n",
       "      <th>Population ages 0-14, female</th>\n",
       "      <th>Population ages 0-14, female (% of female population)</th>\n",
       "      <th>Population ages 0-14, male</th>\n",
       "      <th>Population ages 0-14, male (% of male population)</th>\n",
       "      <th>Population ages 0-14, total</th>\n",
       "      <th>Population ages 00-04, female (% of female population)</th>\n",
       "      <th>Population ages 00-04, male (% of male population)</th>\n",
       "      <th>Population ages 05-09, female (% of female population)</th>\n",
       "      <th>Population ages 05-09, male (% of male population)</th>\n",
       "      <th>Population ages 10-14, female (% of female population)</th>\n",
       "      <th>Population ages 10-14, male (% of male population)</th>\n",
       "      <th>Population ages 15-19, female (% of female population)</th>\n",
       "      <th>Population ages 15-19, male (% of male population)</th>\n",
       "      <th>Population ages 15-64 (% of total population)</th>\n",
       "      <th>Population ages 15-64, female</th>\n",
       "      <th>Population ages 15-64, female (% of female population)</th>\n",
       "      <th>Population ages 15-64, male</th>\n",
       "      <th>Population ages 15-64, male (% of male population)</th>\n",
       "      <th>Population ages 15-64, total</th>\n",
       "      <th>Population ages 20-24, female (% of female population)</th>\n",
       "      <th>Population ages 20-24, male (% of male population)</th>\n",
       "      <th>Population ages 25-29, female (% of female population)</th>\n",
       "      <th>Population ages 25-29, male (% of male population)</th>\n",
       "      <th>Population ages 30-34, female (% of female population)</th>\n",
       "      <th>Population ages 30-34, male (% of male population)</th>\n",
       "      <th>Population ages 35-39, female (% of female population)</th>\n",
       "      <th>Population ages 35-39, male (% of male population)</th>\n",
       "      <th>Population ages 40-44, female (% of female population)</th>\n",
       "      <th>Population ages 40-44, male (% of male population)</th>\n",
       "      <th>Population ages 45-49, female (% of female population)</th>\n",
       "      <th>Population ages 45-49, male (% of male population)</th>\n",
       "      <th>Population ages 50-54, female (% of female population)</th>\n",
       "      <th>Population ages 50-54, male (% of male population)</th>\n",
       "      <th>Population ages 55-59, female (% of female population)</th>\n",
       "      <th>Population ages 55-59, male (% of male population)</th>\n",
       "      <th>Population ages 60-64, female (% of female population)</th>\n",
       "      <th>Population ages 60-64, male (% of male population)</th>\n",
       "      <th>Population ages 65 and above (% of total population)</th>\n",
       "      <th>Population ages 65 and above, female</th>\n",
       "      <th>Population ages 65 and above, female (% of female population)</th>\n",
       "      <th>Population ages 65 and above, male</th>\n",
       "      <th>Population ages 65 and above, male (% of male population)</th>\n",
       "      <th>Population ages 65 and above, total</th>\n",
       "      <th>Population ages 65-69, female (% of female population)</th>\n",
       "      <th>Population ages 65-69, male (% of male population)</th>\n",
       "      <th>Population ages 70-74, female (% of female population)</th>\n",
       "      <th>Population ages 70-74, male (% of male population)</th>\n",
       "      <th>Population ages 75-79, female (% of female population)</th>\n",
       "      <th>Population ages 75-79, male (% of male population)</th>\n",
       "      <th>Population ages 80 and above, female (% of female population)</th>\n",
       "      <th>Population ages 80 and above, male (% of male population)</th>\n",
       "      <th>Population growth (annual %)</th>\n",
       "      <th>Population, female</th>\n",
       "      <th>Population, male (% of total population)</th>\n",
       "      <th>Population, total</th>\n",
       "      <th>Sex ratio at birth (male births per female births)</th>\n",
       "      <th>Survival to age 65, female (% of cohort)</th>\n",
       "      <th>Survival to age 65, male (% of cohort)</th>\n",
       "    </tr>\n",
       "  </thead>\n",
       "  <tbody>\n",
       "    <tr>\n",
       "      <th>0</th>\n",
       "      <td>Burundi</td>\n",
       "      <td>1960</td>\n",
       "      <td>92.290470</td>\n",
       "      <td>6.110580</td>\n",
       "      <td>86.179890</td>\n",
       "      <td>7.003</td>\n",
       "      <td>44.451</td>\n",
       "      <td>41.533</td>\n",
       "      <td>43.024</td>\n",
       "      <td>44.817563</td>\n",
       "      <td>618127.0</td>\n",
       "      <td>43.556204</td>\n",
       "      <td>612844.0</td>\n",
       "      <td>46.166024</td>\n",
       "      <td>1230972.0</td>\n",
       "      <td>17.518927</td>\n",
       "      <td>18.782023</td>\n",
       "      <td>14.624902</td>\n",
       "      <td>15.581860</td>\n",
       "      <td>11.412376</td>\n",
       "      <td>11.802141</td>\n",
       "      <td>9.748067</td>\n",
       "      <td>9.950587</td>\n",
       "      <td>52.004668</td>\n",
       "      <td>750577.0</td>\n",
       "      <td>52.889234</td>\n",
       "      <td>677798.0</td>\n",
       "      <td>51.059018</td>\n",
       "      <td>1428375.0</td>\n",
       "      <td>8.142738</td>\n",
       "      <td>8.241069</td>\n",
       "      <td>6.793795</td>\n",
       "      <td>6.743833</td>\n",
       "      <td>5.857916</td>\n",
       "      <td>5.682009</td>\n",
       "      <td>5.219998</td>\n",
       "      <td>4.975444</td>\n",
       "      <td>4.633801</td>\n",
       "      <td>4.323683</td>\n",
       "      <td>4.019172</td>\n",
       "      <td>3.731847</td>\n",
       "      <td>3.433962</td>\n",
       "      <td>3.068673</td>\n",
       "      <td>2.823138</td>\n",
       "      <td>2.465047</td>\n",
       "      <td>2.216647</td>\n",
       "      <td>1.876827</td>\n",
       "      <td>3.177770</td>\n",
       "      <td>50444.0</td>\n",
       "      <td>3.554562</td>\n",
       "      <td>36837.0</td>\n",
       "      <td>2.774958</td>\n",
       "      <td>87282.0</td>\n",
       "      <td>1.515663</td>\n",
       "      <td>1.247402</td>\n",
       "      <td>1.045944</td>\n",
       "      <td>0.826001</td>\n",
       "      <td>0.623931</td>\n",
       "      <td>0.457710</td>\n",
       "      <td>0.369024</td>\n",
       "      <td>0.243846</td>\n",
       "      <td>NaN</td>\n",
       "      <td>1419148.0</td>\n",
       "      <td>48.331227</td>\n",
       "      <td>2746628.0</td>\n",
       "      <td>1.025</td>\n",
       "      <td>37.848041</td>\n",
       "      <td>32.248556</td>\n",
       "    </tr>\n",
       "    <tr>\n",
       "      <th>1</th>\n",
       "      <td>Burundi</td>\n",
       "      <td>1961</td>\n",
       "      <td>92.420498</td>\n",
       "      <td>6.128134</td>\n",
       "      <td>86.292363</td>\n",
       "      <td>7.023</td>\n",
       "      <td>44.631</td>\n",
       "      <td>41.804</td>\n",
       "      <td>43.252</td>\n",
       "      <td>44.845733</td>\n",
       "      <td>633417.0</td>\n",
       "      <td>43.575788</td>\n",
       "      <td>629427.0</td>\n",
       "      <td>46.200713</td>\n",
       "      <td>1262843.0</td>\n",
       "      <td>17.388123</td>\n",
       "      <td>18.613244</td>\n",
       "      <td>14.472222</td>\n",
       "      <td>15.396286</td>\n",
       "      <td>11.715443</td>\n",
       "      <td>12.191182</td>\n",
       "      <td>9.802604</td>\n",
       "      <td>9.998466</td>\n",
       "      <td>51.969506</td>\n",
       "      <td>768345.0</td>\n",
       "      <td>52.858097</td>\n",
       "      <td>695102.0</td>\n",
       "      <td>51.021416</td>\n",
       "      <td>1463447.0</td>\n",
       "      <td>8.197793</td>\n",
       "      <td>8.285904</td>\n",
       "      <td>6.815568</td>\n",
       "      <td>6.772810</td>\n",
       "      <td>5.823100</td>\n",
       "      <td>5.655532</td>\n",
       "      <td>5.163290</td>\n",
       "      <td>4.926914</td>\n",
       "      <td>4.592362</td>\n",
       "      <td>4.281790</td>\n",
       "      <td>3.995257</td>\n",
       "      <td>3.701700</td>\n",
       "      <td>3.419032</td>\n",
       "      <td>3.058668</td>\n",
       "      <td>2.819589</td>\n",
       "      <td>2.455934</td>\n",
       "      <td>2.229501</td>\n",
       "      <td>1.883697</td>\n",
       "      <td>3.184761</td>\n",
       "      <td>51837.0</td>\n",
       "      <td>3.566115</td>\n",
       "      <td>37845.0</td>\n",
       "      <td>2.777872</td>\n",
       "      <td>89682.0</td>\n",
       "      <td>1.533780</td>\n",
       "      <td>1.259052</td>\n",
       "      <td>1.034502</td>\n",
       "      <td>0.816406</td>\n",
       "      <td>0.621320</td>\n",
       "      <td>0.455198</td>\n",
       "      <td>0.376514</td>\n",
       "      <td>0.247216</td>\n",
       "      <td>2.493352</td>\n",
       "      <td>1453599.0</td>\n",
       "      <td>48.380240</td>\n",
       "      <td>2815972.0</td>\n",
       "      <td>1.025</td>\n",
       "      <td>38.062682</td>\n",
       "      <td>32.557873</td>\n",
       "    </tr>\n",
       "    <tr>\n",
       "      <th>2</th>\n",
       "      <td>Burundi</td>\n",
       "      <td>1962</td>\n",
       "      <td>92.665829</td>\n",
       "      <td>6.159252</td>\n",
       "      <td>86.506577</td>\n",
       "      <td>7.038</td>\n",
       "      <td>44.713</td>\n",
       "      <td>42.102</td>\n",
       "      <td>43.441</td>\n",
       "      <td>44.899795</td>\n",
       "      <td>649553.0</td>\n",
       "      <td>43.623263</td>\n",
       "      <td>646883.0</td>\n",
       "      <td>46.259044</td>\n",
       "      <td>1296436.0</td>\n",
       "      <td>17.311347</td>\n",
       "      <td>18.501958</td>\n",
       "      <td>14.326940</td>\n",
       "      <td>15.220119</td>\n",
       "      <td>11.984975</td>\n",
       "      <td>12.536967</td>\n",
       "      <td>9.830686</td>\n",
       "      <td>10.022508</td>\n",
       "      <td>51.903331</td>\n",
       "      <td>786104.0</td>\n",
       "      <td>52.793877</td>\n",
       "      <td>712552.0</td>\n",
       "      <td>50.955079</td>\n",
       "      <td>1498656.0</td>\n",
       "      <td>8.245467</td>\n",
       "      <td>8.320411</td>\n",
       "      <td>6.846883</td>\n",
       "      <td>6.808460</td>\n",
       "      <td>5.799641</td>\n",
       "      <td>5.642300</td>\n",
       "      <td>5.106662</td>\n",
       "      <td>4.876385</td>\n",
       "      <td>4.546053</td>\n",
       "      <td>4.242550</td>\n",
       "      <td>3.971038</td>\n",
       "      <td>3.663778</td>\n",
       "      <td>3.400423</td>\n",
       "      <td>3.050789</td>\n",
       "      <td>2.816006</td>\n",
       "      <td>2.445200</td>\n",
       "      <td>2.231019</td>\n",
       "      <td>1.882697</td>\n",
       "      <td>3.196874</td>\n",
       "      <td>53349.0</td>\n",
       "      <td>3.582860</td>\n",
       "      <td>38957.0</td>\n",
       "      <td>2.785877</td>\n",
       "      <td>92306.0</td>\n",
       "      <td>1.562116</td>\n",
       "      <td>1.278826</td>\n",
       "      <td>1.021319</td>\n",
       "      <td>0.804996</td>\n",
       "      <td>0.617157</td>\n",
       "      <td>0.453056</td>\n",
       "      <td>0.382268</td>\n",
       "      <td>0.249000</td>\n",
       "      <td>2.504826</td>\n",
       "      <td>1489006.0</td>\n",
       "      <td>48.430871</td>\n",
       "      <td>2887398.0</td>\n",
       "      <td>1.025</td>\n",
       "      <td>38.045239</td>\n",
       "      <td>32.959218</td>\n",
       "    </tr>\n",
       "    <tr>\n",
       "      <th>3</th>\n",
       "      <td>Burundi</td>\n",
       "      <td>1963</td>\n",
       "      <td>93.544139</td>\n",
       "      <td>6.225037</td>\n",
       "      <td>87.319102</td>\n",
       "      <td>7.067</td>\n",
       "      <td>45.009</td>\n",
       "      <td>42.358</td>\n",
       "      <td>43.718</td>\n",
       "      <td>45.115866</td>\n",
       "      <td>665746.0</td>\n",
       "      <td>43.827177</td>\n",
       "      <td>664329.0</td>\n",
       "      <td>46.485638</td>\n",
       "      <td>1330076.0</td>\n",
       "      <td>17.332461</td>\n",
       "      <td>18.497950</td>\n",
       "      <td>14.235739</td>\n",
       "      <td>15.107826</td>\n",
       "      <td>12.258978</td>\n",
       "      <td>12.879861</td>\n",
       "      <td>9.832422</td>\n",
       "      <td>10.032594</td>\n",
       "      <td>51.667810</td>\n",
       "      <td>798444.0</td>\n",
       "      <td>52.562910</td>\n",
       "      <td>724791.0</td>\n",
       "      <td>50.716391</td>\n",
       "      <td>1523236.0</td>\n",
       "      <td>8.240612</td>\n",
       "      <td>8.305221</td>\n",
       "      <td>6.834349</td>\n",
       "      <td>6.796132</td>\n",
       "      <td>5.752635</td>\n",
       "      <td>5.603534</td>\n",
       "      <td>5.034873</td>\n",
       "      <td>4.805483</td>\n",
       "      <td>4.490543</td>\n",
       "      <td>4.194682</td>\n",
       "      <td>3.945984</td>\n",
       "      <td>3.619008</td>\n",
       "      <td>3.383682</td>\n",
       "      <td>3.043369</td>\n",
       "      <td>2.816970</td>\n",
       "      <td>2.436731</td>\n",
       "      <td>2.230838</td>\n",
       "      <td>1.879635</td>\n",
       "      <td>3.216324</td>\n",
       "      <td>54835.0</td>\n",
       "      <td>3.609913</td>\n",
       "      <td>39986.0</td>\n",
       "      <td>2.797971</td>\n",
       "      <td>94822.0</td>\n",
       "      <td>1.598426</td>\n",
       "      <td>1.303646</td>\n",
       "      <td>1.012458</td>\n",
       "      <td>0.795952</td>\n",
       "      <td>0.613255</td>\n",
       "      <td>0.450771</td>\n",
       "      <td>0.385774</td>\n",
       "      <td>0.247602</td>\n",
       "      <td>2.081634</td>\n",
       "      <td>1519025.0</td>\n",
       "      <td>48.474984</td>\n",
       "      <td>2948133.0</td>\n",
       "      <td>1.025</td>\n",
       "      <td>38.428793</td>\n",
       "      <td>33.257476</td>\n",
       "    </tr>\n",
       "    <tr>\n",
       "      <th>4</th>\n",
       "      <td>Burundi</td>\n",
       "      <td>1964</td>\n",
       "      <td>93.604189</td>\n",
       "      <td>6.254113</td>\n",
       "      <td>87.350076</td>\n",
       "      <td>7.090</td>\n",
       "      <td>45.338</td>\n",
       "      <td>42.543</td>\n",
       "      <td>43.974</td>\n",
       "      <td>45.117863</td>\n",
       "      <td>684396.0</td>\n",
       "      <td>43.836624</td>\n",
       "      <td>684128.0</td>\n",
       "      <td>46.476800</td>\n",
       "      <td>1368525.0</td>\n",
       "      <td>17.281780</td>\n",
       "      <td>18.409780</td>\n",
       "      <td>14.068666</td>\n",
       "      <td>14.908879</td>\n",
       "      <td>12.486177</td>\n",
       "      <td>13.158141</td>\n",
       "      <td>9.789030</td>\n",
       "      <td>9.989310</td>\n",
       "      <td>51.651775</td>\n",
       "      <td>820228.0</td>\n",
       "      <td>52.536842</td>\n",
       "      <td>746485.0</td>\n",
       "      <td>50.713037</td>\n",
       "      <td>1566713.0</td>\n",
       "      <td>8.329327</td>\n",
       "      <td>8.381203</td>\n",
       "      <td>6.912379</td>\n",
       "      <td>6.872859</td>\n",
       "      <td>5.769283</td>\n",
       "      <td>5.633812</td>\n",
       "      <td>4.995669</td>\n",
       "      <td>4.774526</td>\n",
       "      <td>4.441847</td>\n",
       "      <td>4.160353</td>\n",
       "      <td>3.914542</td>\n",
       "      <td>3.578551</td>\n",
       "      <td>3.358223</td>\n",
       "      <td>3.027897</td>\n",
       "      <td>2.805266</td>\n",
       "      <td>2.424050</td>\n",
       "      <td>2.221276</td>\n",
       "      <td>1.870476</td>\n",
       "      <td>3.230361</td>\n",
       "      <td>56619.0</td>\n",
       "      <td>3.626535</td>\n",
       "      <td>41365.0</td>\n",
       "      <td>2.810163</td>\n",
       "      <td>97984.0</td>\n",
       "      <td>1.621561</td>\n",
       "      <td>1.319890</td>\n",
       "      <td>1.007851</td>\n",
       "      <td>0.791622</td>\n",
       "      <td>0.606312</td>\n",
       "      <td>0.447085</td>\n",
       "      <td>0.390811</td>\n",
       "      <td>0.251566</td>\n",
       "      <td>2.845300</td>\n",
       "      <td>1561243.0</td>\n",
       "      <td>48.528544</td>\n",
       "      <td>3033221.0</td>\n",
       "      <td>1.025</td>\n",
       "      <td>38.879601</td>\n",
       "      <td>33.415269</td>\n",
       "    </tr>\n",
       "    <tr>\n",
       "      <th>...</th>\n",
       "      <td>...</td>\n",
       "      <td>...</td>\n",
       "      <td>...</td>\n",
       "      <td>...</td>\n",
       "      <td>...</td>\n",
       "      <td>...</td>\n",
       "      <td>...</td>\n",
       "      <td>...</td>\n",
       "      <td>...</td>\n",
       "      <td>...</td>\n",
       "      <td>...</td>\n",
       "      <td>...</td>\n",
       "      <td>...</td>\n",
       "      <td>...</td>\n",
       "      <td>...</td>\n",
       "      <td>...</td>\n",
       "      <td>...</td>\n",
       "      <td>...</td>\n",
       "      <td>...</td>\n",
       "      <td>...</td>\n",
       "      <td>...</td>\n",
       "      <td>...</td>\n",
       "      <td>...</td>\n",
       "      <td>...</td>\n",
       "      <td>...</td>\n",
       "      <td>...</td>\n",
       "      <td>...</td>\n",
       "      <td>...</td>\n",
       "      <td>...</td>\n",
       "      <td>...</td>\n",
       "      <td>...</td>\n",
       "      <td>...</td>\n",
       "      <td>...</td>\n",
       "      <td>...</td>\n",
       "      <td>...</td>\n",
       "      <td>...</td>\n",
       "      <td>...</td>\n",
       "      <td>...</td>\n",
       "      <td>...</td>\n",
       "      <td>...</td>\n",
       "      <td>...</td>\n",
       "      <td>...</td>\n",
       "      <td>...</td>\n",
       "      <td>...</td>\n",
       "      <td>...</td>\n",
       "      <td>...</td>\n",
       "      <td>...</td>\n",
       "      <td>...</td>\n",
       "      <td>...</td>\n",
       "      <td>...</td>\n",
       "      <td>...</td>\n",
       "      <td>...</td>\n",
       "      <td>...</td>\n",
       "      <td>...</td>\n",
       "      <td>...</td>\n",
       "      <td>...</td>\n",
       "      <td>...</td>\n",
       "      <td>...</td>\n",
       "      <td>...</td>\n",
       "      <td>...</td>\n",
       "      <td>...</td>\n",
       "      <td>...</td>\n",
       "      <td>...</td>\n",
       "      <td>...</td>\n",
       "      <td>...</td>\n",
       "      <td>...</td>\n",
       "      <td>...</td>\n",
       "      <td>...</td>\n",
       "    </tr>\n",
       "    <tr>\n",
       "      <th>677</th>\n",
       "      <td>Uganda</td>\n",
       "      <td>2017</td>\n",
       "      <td>95.811917</td>\n",
       "      <td>3.132164</td>\n",
       "      <td>92.679753</td>\n",
       "      <td>5.052</td>\n",
       "      <td>64.028</td>\n",
       "      <td>60.100</td>\n",
       "      <td>62.115</td>\n",
       "      <td>47.331007</td>\n",
       "      <td>9459423.0</td>\n",
       "      <td>46.589590</td>\n",
       "      <td>9533131.0</td>\n",
       "      <td>48.090391</td>\n",
       "      <td>18992554.0</td>\n",
       "      <td>17.170445</td>\n",
       "      <td>17.883576</td>\n",
       "      <td>15.562688</td>\n",
       "      <td>16.052100</td>\n",
       "      <td>13.856457</td>\n",
       "      <td>14.154715</td>\n",
       "      <td>11.903586</td>\n",
       "      <td>12.110404</td>\n",
       "      <td>51.069416</td>\n",
       "      <td>10463248.0</td>\n",
       "      <td>51.533636</td>\n",
       "      <td>10029420.0</td>\n",
       "      <td>50.593947</td>\n",
       "      <td>20492668.0</td>\n",
       "      <td>9.958244</td>\n",
       "      <td>10.078574</td>\n",
       "      <td>7.796219</td>\n",
       "      <td>7.818614</td>\n",
       "      <td>5.737479</td>\n",
       "      <td>5.710203</td>\n",
       "      <td>4.332646</td>\n",
       "      <td>4.258085</td>\n",
       "      <td>3.560750</td>\n",
       "      <td>3.439528</td>\n",
       "      <td>2.955527</td>\n",
       "      <td>2.768418</td>\n",
       "      <td>2.270453</td>\n",
       "      <td>2.003513</td>\n",
       "      <td>1.719157</td>\n",
       "      <td>1.406815</td>\n",
       "      <td>1.299574</td>\n",
       "      <td>0.999793</td>\n",
       "      <td>1.599577</td>\n",
       "      <td>381055.0</td>\n",
       "      <td>1.876774</td>\n",
       "      <td>260808.0</td>\n",
       "      <td>1.315662</td>\n",
       "      <td>641864.0</td>\n",
       "      <td>0.918802</td>\n",
       "      <td>0.681943</td>\n",
       "      <td>0.481766</td>\n",
       "      <td>0.345852</td>\n",
       "      <td>0.274459</td>\n",
       "      <td>0.175881</td>\n",
       "      <td>0.201746</td>\n",
       "      <td>0.111987</td>\n",
       "      <td>3.496468</td>\n",
       "      <td>20303726.0</td>\n",
       "      <td>49.401443</td>\n",
       "      <td>40127085.0</td>\n",
       "      <td>1.027</td>\n",
       "      <td>62.042962</td>\n",
       "      <td>52.091115</td>\n",
       "    </tr>\n",
       "    <tr>\n",
       "      <th>678</th>\n",
       "      <td>Uganda</td>\n",
       "      <td>2018</td>\n",
       "      <td>93.732922</td>\n",
       "      <td>3.143031</td>\n",
       "      <td>90.589892</td>\n",
       "      <td>4.932</td>\n",
       "      <td>64.744</td>\n",
       "      <td>60.587</td>\n",
       "      <td>62.714</td>\n",
       "      <td>46.760195</td>\n",
       "      <td>9661067.0</td>\n",
       "      <td>46.017602</td>\n",
       "      <td>9751612.0</td>\n",
       "      <td>47.519910</td>\n",
       "      <td>19412680.0</td>\n",
       "      <td>16.919872</td>\n",
       "      <td>17.628454</td>\n",
       "      <td>15.369522</td>\n",
       "      <td>15.862611</td>\n",
       "      <td>13.728209</td>\n",
       "      <td>14.028845</td>\n",
       "      <td>11.910147</td>\n",
       "      <td>12.102607</td>\n",
       "      <td>51.617454</td>\n",
       "      <td>10933585.0</td>\n",
       "      <td>52.078861</td>\n",
       "      <td>10495604.0</td>\n",
       "      <td>51.145408</td>\n",
       "      <td>21429190.0</td>\n",
       "      <td>10.026132</td>\n",
       "      <td>10.138819</td>\n",
       "      <td>7.972371</td>\n",
       "      <td>7.993206</td>\n",
       "      <td>5.923952</td>\n",
       "      <td>5.891777</td>\n",
       "      <td>4.390635</td>\n",
       "      <td>4.314845</td>\n",
       "      <td>3.553993</td>\n",
       "      <td>3.435787</td>\n",
       "      <td>2.961811</td>\n",
       "      <td>2.783848</td>\n",
       "      <td>2.303789</td>\n",
       "      <td>2.051388</td>\n",
       "      <td>1.731257</td>\n",
       "      <td>1.426704</td>\n",
       "      <td>1.304774</td>\n",
       "      <td>1.006427</td>\n",
       "      <td>1.622351</td>\n",
       "      <td>399634.0</td>\n",
       "      <td>1.903537</td>\n",
       "      <td>273891.0</td>\n",
       "      <td>1.334682</td>\n",
       "      <td>673526.0</td>\n",
       "      <td>0.940022</td>\n",
       "      <td>0.690967</td>\n",
       "      <td>0.502499</td>\n",
       "      <td>0.361986</td>\n",
       "      <td>0.265546</td>\n",
       "      <td>0.172503</td>\n",
       "      <td>0.195470</td>\n",
       "      <td>0.109227</td>\n",
       "      <td>3.401278</td>\n",
       "      <td>20994287.0</td>\n",
       "      <td>49.430116</td>\n",
       "      <td>41515395.0</td>\n",
       "      <td>1.028</td>\n",
       "      <td>63.811933</td>\n",
       "      <td>52.951116</td>\n",
       "    </tr>\n",
       "    <tr>\n",
       "      <th>679</th>\n",
       "      <td>Uganda</td>\n",
       "      <td>2019</td>\n",
       "      <td>91.740204</td>\n",
       "      <td>3.154826</td>\n",
       "      <td>88.585378</td>\n",
       "      <td>4.809</td>\n",
       "      <td>64.990</td>\n",
       "      <td>60.893</td>\n",
       "      <td>62.991</td>\n",
       "      <td>46.200731</td>\n",
       "      <td>9867134.0</td>\n",
       "      <td>45.455004</td>\n",
       "      <td>9975656.0</td>\n",
       "      <td>46.962813</td>\n",
       "      <td>19842789.0</td>\n",
       "      <td>16.716141</td>\n",
       "      <td>17.420133</td>\n",
       "      <td>15.154506</td>\n",
       "      <td>15.652113</td>\n",
       "      <td>13.584358</td>\n",
       "      <td>13.890567</td>\n",
       "      <td>11.903771</td>\n",
       "      <td>12.085122</td>\n",
       "      <td>52.153903</td>\n",
       "      <td>11421129.0</td>\n",
       "      <td>52.613806</td>\n",
       "      <td>10978493.0</td>\n",
       "      <td>51.683913</td>\n",
       "      <td>22399621.0</td>\n",
       "      <td>10.072648</td>\n",
       "      <td>10.176517</td>\n",
       "      <td>8.138220</td>\n",
       "      <td>8.158056</td>\n",
       "      <td>6.115951</td>\n",
       "      <td>6.077415</td>\n",
       "      <td>4.469083</td>\n",
       "      <td>4.392559</td>\n",
       "      <td>3.558571</td>\n",
       "      <td>3.442270</td>\n",
       "      <td>2.959914</td>\n",
       "      <td>2.789132</td>\n",
       "      <td>2.337048</td>\n",
       "      <td>2.097551</td>\n",
       "      <td>1.746689</td>\n",
       "      <td>1.450705</td>\n",
       "      <td>1.311912</td>\n",
       "      <td>1.014587</td>\n",
       "      <td>1.645366</td>\n",
       "      <td>419213.0</td>\n",
       "      <td>1.931190</td>\n",
       "      <td>287457.0</td>\n",
       "      <td>1.353273</td>\n",
       "      <td>706669.0</td>\n",
       "      <td>0.949993</td>\n",
       "      <td>0.692048</td>\n",
       "      <td>0.532621</td>\n",
       "      <td>0.383926</td>\n",
       "      <td>0.259696</td>\n",
       "      <td>0.170931</td>\n",
       "      <td>0.188880</td>\n",
       "      <td>0.106369</td>\n",
       "      <td>3.395091</td>\n",
       "      <td>21707475.0</td>\n",
       "      <td>49.457651</td>\n",
       "      <td>42949080.0</td>\n",
       "      <td>1.028</td>\n",
       "      <td>64.337804</td>\n",
       "      <td>53.395080</td>\n",
       "    </tr>\n",
       "    <tr>\n",
       "      <th>680</th>\n",
       "      <td>Uganda</td>\n",
       "      <td>2020</td>\n",
       "      <td>89.879150</td>\n",
       "      <td>3.161138</td>\n",
       "      <td>86.718012</td>\n",
       "      <td>4.693</td>\n",
       "      <td>64.898</td>\n",
       "      <td>60.715</td>\n",
       "      <td>62.851</td>\n",
       "      <td>45.670107</td>\n",
       "      <td>10076314.0</td>\n",
       "      <td>44.920334</td>\n",
       "      <td>10203319.0</td>\n",
       "      <td>46.435523</td>\n",
       "      <td>20279634.0</td>\n",
       "      <td>16.553898</td>\n",
       "      <td>17.251615</td>\n",
       "      <td>14.920841</td>\n",
       "      <td>15.423718</td>\n",
       "      <td>13.445595</td>\n",
       "      <td>13.760190</td>\n",
       "      <td>11.878033</td>\n",
       "      <td>12.051502</td>\n",
       "      <td>52.665077</td>\n",
       "      <td>11916385.0</td>\n",
       "      <td>53.123396</td>\n",
       "      <td>11469337.0</td>\n",
       "      <td>52.197195</td>\n",
       "      <td>23385723.0</td>\n",
       "      <td>10.101979</td>\n",
       "      <td>10.197491</td>\n",
       "      <td>8.289157</td>\n",
       "      <td>8.307857</td>\n",
       "      <td>6.301693</td>\n",
       "      <td>6.257301</td>\n",
       "      <td>4.573254</td>\n",
       "      <td>4.495963</td>\n",
       "      <td>3.570819</td>\n",
       "      <td>3.455848</td>\n",
       "      <td>2.956097</td>\n",
       "      <td>2.791091</td>\n",
       "      <td>2.366699</td>\n",
       "      <td>2.138202</td>\n",
       "      <td>1.766004</td>\n",
       "      <td>1.478818</td>\n",
       "      <td>1.319661</td>\n",
       "      <td>1.023122</td>\n",
       "      <td>1.664816</td>\n",
       "      <td>438821.0</td>\n",
       "      <td>1.956270</td>\n",
       "      <td>300434.0</td>\n",
       "      <td>1.367281</td>\n",
       "      <td>739255.0</td>\n",
       "      <td>0.953391</td>\n",
       "      <td>0.691180</td>\n",
       "      <td>0.563609</td>\n",
       "      <td>0.402556</td>\n",
       "      <td>0.257684</td>\n",
       "      <td>0.171032</td>\n",
       "      <td>0.181586</td>\n",
       "      <td>0.102514</td>\n",
       "      <td>3.332809</td>\n",
       "      <td>22431520.0</td>\n",
       "      <td>49.483802</td>\n",
       "      <td>44404611.0</td>\n",
       "      <td>1.028</td>\n",
       "      <td>64.012673</td>\n",
       "      <td>52.683745</td>\n",
       "    </tr>\n",
       "    <tr>\n",
       "      <th>681</th>\n",
       "      <td>Uganda</td>\n",
       "      <td>2021</td>\n",
       "      <td>88.213348</td>\n",
       "      <td>3.156663</td>\n",
       "      <td>85.056685</td>\n",
       "      <td>4.585</td>\n",
       "      <td>64.920</td>\n",
       "      <td>60.423</td>\n",
       "      <td>62.705</td>\n",
       "      <td>45.191634</td>\n",
       "      <td>10288282.0</td>\n",
       "      <td>44.435798</td>\n",
       "      <td>10433789.0</td>\n",
       "      <td>45.962536</td>\n",
       "      <td>20722071.0</td>\n",
       "      <td>16.428111</td>\n",
       "      <td>17.118750</td>\n",
       "      <td>14.688995</td>\n",
       "      <td>15.198608</td>\n",
       "      <td>13.318692</td>\n",
       "      <td>13.645178</td>\n",
       "      <td>11.831184</td>\n",
       "      <td>12.001539</td>\n",
       "      <td>53.131195</td>\n",
       "      <td>12407494.0</td>\n",
       "      <td>53.588818</td>\n",
       "      <td>11955166.0</td>\n",
       "      <td>52.664449</td>\n",
       "      <td>24362660.0</td>\n",
       "      <td>10.123705</td>\n",
       "      <td>10.212169</td>\n",
       "      <td>8.409365</td>\n",
       "      <td>8.426080</td>\n",
       "      <td>6.470859</td>\n",
       "      <td>6.421985</td>\n",
       "      <td>4.701226</td>\n",
       "      <td>4.622313</td>\n",
       "      <td>3.591768</td>\n",
       "      <td>3.476286</td>\n",
       "      <td>2.952075</td>\n",
       "      <td>2.790897</td>\n",
       "      <td>2.391708</td>\n",
       "      <td>2.171137</td>\n",
       "      <td>1.789692</td>\n",
       "      <td>1.510651</td>\n",
       "      <td>1.327237</td>\n",
       "      <td>1.031392</td>\n",
       "      <td>1.677172</td>\n",
       "      <td>457363.0</td>\n",
       "      <td>1.975384</td>\n",
       "      <td>311683.0</td>\n",
       "      <td>1.373014</td>\n",
       "      <td>769047.0</td>\n",
       "      <td>0.955851</td>\n",
       "      <td>0.691540</td>\n",
       "      <td>0.588551</td>\n",
       "      <td>0.412795</td>\n",
       "      <td>0.258315</td>\n",
       "      <td>0.171793</td>\n",
       "      <td>0.172668</td>\n",
       "      <td>0.096887</td>\n",
       "      <td>3.211428</td>\n",
       "      <td>23153140.0</td>\n",
       "      <td>49.506582</td>\n",
       "      <td>45853778.0</td>\n",
       "      <td>1.029</td>\n",
       "      <td>63.996120</td>\n",
       "      <td>51.663767</td>\n",
       "    </tr>\n",
       "  </tbody>\n",
       "</table>\n",
       "<p>682 rows × 68 columns</p>\n",
       "</div>"
      ],
      "text/plain": [
       "     Country  Year  Age dependency ratio (% of working-age population)  \\\n",
       "0    Burundi  1960                                          92.290470    \n",
       "1    Burundi  1961                                          92.420498    \n",
       "2    Burundi  1962                                          92.665829    \n",
       "3    Burundi  1963                                          93.544139    \n",
       "4    Burundi  1964                                          93.604189    \n",
       "..       ...   ...                                                ...    \n",
       "677   Uganda  2017                                          95.811917    \n",
       "678   Uganda  2018                                          93.732922    \n",
       "679   Uganda  2019                                          91.740204    \n",
       "680   Uganda  2020                                          89.879150    \n",
       "681   Uganda  2021                                          88.213348    \n",
       "\n",
       "     Age dependency ratio, old (% of working-age population)  \\\n",
       "0                                             6.110580         \n",
       "1                                             6.128134         \n",
       "2                                             6.159252         \n",
       "3                                             6.225037         \n",
       "4                                             6.254113         \n",
       "..                                                 ...         \n",
       "677                                           3.132164         \n",
       "678                                           3.143031         \n",
       "679                                           3.154826         \n",
       "680                                           3.161138         \n",
       "681                                           3.156663         \n",
       "\n",
       "     Age dependency ratio, young (% of working-age population)  \\\n",
       "0                                            86.179890           \n",
       "1                                            86.292363           \n",
       "2                                            86.506577           \n",
       "3                                            87.319102           \n",
       "4                                            87.350076           \n",
       "..                                                 ...           \n",
       "677                                          92.679753           \n",
       "678                                          90.589892           \n",
       "679                                          88.585378           \n",
       "680                                          86.718012           \n",
       "681                                          85.056685           \n",
       "\n",
       "     Fertility rate, total (births per woman)  \\\n",
       "0                                       7.003   \n",
       "1                                       7.023   \n",
       "2                                       7.038   \n",
       "3                                       7.067   \n",
       "4                                       7.090   \n",
       "..                                        ...   \n",
       "677                                     5.052   \n",
       "678                                     4.932   \n",
       "679                                     4.809   \n",
       "680                                     4.693   \n",
       "681                                     4.585   \n",
       "\n",
       "     Life expectancy at birth, female (years)  \\\n",
       "0                                      44.451   \n",
       "1                                      44.631   \n",
       "2                                      44.713   \n",
       "3                                      45.009   \n",
       "4                                      45.338   \n",
       "..                                        ...   \n",
       "677                                    64.028   \n",
       "678                                    64.744   \n",
       "679                                    64.990   \n",
       "680                                    64.898   \n",
       "681                                    64.920   \n",
       "\n",
       "     Life expectancy at birth, male (years)  \\\n",
       "0                                    41.533   \n",
       "1                                    41.804   \n",
       "2                                    42.102   \n",
       "3                                    42.358   \n",
       "4                                    42.543   \n",
       "..                                      ...   \n",
       "677                                  60.100   \n",
       "678                                  60.587   \n",
       "679                                  60.893   \n",
       "680                                  60.715   \n",
       "681                                  60.423   \n",
       "\n",
       "     Life expectancy at birth, total (years)  \\\n",
       "0                                     43.024   \n",
       "1                                     43.252   \n",
       "2                                     43.441   \n",
       "3                                     43.718   \n",
       "4                                     43.974   \n",
       "..                                       ...   \n",
       "677                                   62.115   \n",
       "678                                   62.714   \n",
       "679                                   62.991   \n",
       "680                                   62.851   \n",
       "681                                   62.705   \n",
       "\n",
       "     Population ages 0-14 (% of total population)  \\\n",
       "0                                       44.817563   \n",
       "1                                       44.845733   \n",
       "2                                       44.899795   \n",
       "3                                       45.115866   \n",
       "4                                       45.117863   \n",
       "..                                            ...   \n",
       "677                                     47.331007   \n",
       "678                                     46.760195   \n",
       "679                                     46.200731   \n",
       "680                                     45.670107   \n",
       "681                                     45.191634   \n",
       "\n",
       "     Population ages 0-14, female  \\\n",
       "0                        618127.0   \n",
       "1                        633417.0   \n",
       "2                        649553.0   \n",
       "3                        665746.0   \n",
       "4                        684396.0   \n",
       "..                            ...   \n",
       "677                     9459423.0   \n",
       "678                     9661067.0   \n",
       "679                     9867134.0   \n",
       "680                    10076314.0   \n",
       "681                    10288282.0   \n",
       "\n",
       "     Population ages 0-14, female (% of female population)  \\\n",
       "0                                            43.556204       \n",
       "1                                            43.575788       \n",
       "2                                            43.623263       \n",
       "3                                            43.827177       \n",
       "4                                            43.836624       \n",
       "..                                                 ...       \n",
       "677                                          46.589590       \n",
       "678                                          46.017602       \n",
       "679                                          45.455004       \n",
       "680                                          44.920334       \n",
       "681                                          44.435798       \n",
       "\n",
       "     Population ages 0-14, male  \\\n",
       "0                      612844.0   \n",
       "1                      629427.0   \n",
       "2                      646883.0   \n",
       "3                      664329.0   \n",
       "4                      684128.0   \n",
       "..                          ...   \n",
       "677                   9533131.0   \n",
       "678                   9751612.0   \n",
       "679                   9975656.0   \n",
       "680                  10203319.0   \n",
       "681                  10433789.0   \n",
       "\n",
       "     Population ages 0-14, male (% of male population)  \\\n",
       "0                                            46.166024   \n",
       "1                                            46.200713   \n",
       "2                                            46.259044   \n",
       "3                                            46.485638   \n",
       "4                                            46.476800   \n",
       "..                                                 ...   \n",
       "677                                          48.090391   \n",
       "678                                          47.519910   \n",
       "679                                          46.962813   \n",
       "680                                          46.435523   \n",
       "681                                          45.962536   \n",
       "\n",
       "     Population ages 0-14, total  \\\n",
       "0                      1230972.0   \n",
       "1                      1262843.0   \n",
       "2                      1296436.0   \n",
       "3                      1330076.0   \n",
       "4                      1368525.0   \n",
       "..                           ...   \n",
       "677                   18992554.0   \n",
       "678                   19412680.0   \n",
       "679                   19842789.0   \n",
       "680                   20279634.0   \n",
       "681                   20722071.0   \n",
       "\n",
       "     Population ages 00-04, female (% of female population)  \\\n",
       "0                                            17.518927        \n",
       "1                                            17.388123        \n",
       "2                                            17.311347        \n",
       "3                                            17.332461        \n",
       "4                                            17.281780        \n",
       "..                                                 ...        \n",
       "677                                          17.170445        \n",
       "678                                          16.919872        \n",
       "679                                          16.716141        \n",
       "680                                          16.553898        \n",
       "681                                          16.428111        \n",
       "\n",
       "     Population ages 00-04, male (% of male population)  \\\n",
       "0                                            18.782023    \n",
       "1                                            18.613244    \n",
       "2                                            18.501958    \n",
       "3                                            18.497950    \n",
       "4                                            18.409780    \n",
       "..                                                 ...    \n",
       "677                                          17.883576    \n",
       "678                                          17.628454    \n",
       "679                                          17.420133    \n",
       "680                                          17.251615    \n",
       "681                                          17.118750    \n",
       "\n",
       "     Population ages 05-09, female (% of female population)  \\\n",
       "0                                            14.624902        \n",
       "1                                            14.472222        \n",
       "2                                            14.326940        \n",
       "3                                            14.235739        \n",
       "4                                            14.068666        \n",
       "..                                                 ...        \n",
       "677                                          15.562688        \n",
       "678                                          15.369522        \n",
       "679                                          15.154506        \n",
       "680                                          14.920841        \n",
       "681                                          14.688995        \n",
       "\n",
       "     Population ages 05-09, male (% of male population)  \\\n",
       "0                                            15.581860    \n",
       "1                                            15.396286    \n",
       "2                                            15.220119    \n",
       "3                                            15.107826    \n",
       "4                                            14.908879    \n",
       "..                                                 ...    \n",
       "677                                          16.052100    \n",
       "678                                          15.862611    \n",
       "679                                          15.652113    \n",
       "680                                          15.423718    \n",
       "681                                          15.198608    \n",
       "\n",
       "     Population ages 10-14, female (% of female population)  \\\n",
       "0                                            11.412376        \n",
       "1                                            11.715443        \n",
       "2                                            11.984975        \n",
       "3                                            12.258978        \n",
       "4                                            12.486177        \n",
       "..                                                 ...        \n",
       "677                                          13.856457        \n",
       "678                                          13.728209        \n",
       "679                                          13.584358        \n",
       "680                                          13.445595        \n",
       "681                                          13.318692        \n",
       "\n",
       "     Population ages 10-14, male (% of male population)  \\\n",
       "0                                            11.802141    \n",
       "1                                            12.191182    \n",
       "2                                            12.536967    \n",
       "3                                            12.879861    \n",
       "4                                            13.158141    \n",
       "..                                                 ...    \n",
       "677                                          14.154715    \n",
       "678                                          14.028845    \n",
       "679                                          13.890567    \n",
       "680                                          13.760190    \n",
       "681                                          13.645178    \n",
       "\n",
       "     Population ages 15-19, female (% of female population)  \\\n",
       "0                                             9.748067        \n",
       "1                                             9.802604        \n",
       "2                                             9.830686        \n",
       "3                                             9.832422        \n",
       "4                                             9.789030        \n",
       "..                                                 ...        \n",
       "677                                          11.903586        \n",
       "678                                          11.910147        \n",
       "679                                          11.903771        \n",
       "680                                          11.878033        \n",
       "681                                          11.831184        \n",
       "\n",
       "     Population ages 15-19, male (% of male population)  \\\n",
       "0                                             9.950587    \n",
       "1                                             9.998466    \n",
       "2                                            10.022508    \n",
       "3                                            10.032594    \n",
       "4                                             9.989310    \n",
       "..                                                 ...    \n",
       "677                                          12.110404    \n",
       "678                                          12.102607    \n",
       "679                                          12.085122    \n",
       "680                                          12.051502    \n",
       "681                                          12.001539    \n",
       "\n",
       "     Population ages 15-64 (% of total population)  \\\n",
       "0                                        52.004668   \n",
       "1                                        51.969506   \n",
       "2                                        51.903331   \n",
       "3                                        51.667810   \n",
       "4                                        51.651775   \n",
       "..                                             ...   \n",
       "677                                      51.069416   \n",
       "678                                      51.617454   \n",
       "679                                      52.153903   \n",
       "680                                      52.665077   \n",
       "681                                      53.131195   \n",
       "\n",
       "     Population ages 15-64, female  \\\n",
       "0                         750577.0   \n",
       "1                         768345.0   \n",
       "2                         786104.0   \n",
       "3                         798444.0   \n",
       "4                         820228.0   \n",
       "..                             ...   \n",
       "677                     10463248.0   \n",
       "678                     10933585.0   \n",
       "679                     11421129.0   \n",
       "680                     11916385.0   \n",
       "681                     12407494.0   \n",
       "\n",
       "     Population ages 15-64, female (% of female population)  \\\n",
       "0                                            52.889234        \n",
       "1                                            52.858097        \n",
       "2                                            52.793877        \n",
       "3                                            52.562910        \n",
       "4                                            52.536842        \n",
       "..                                                 ...        \n",
       "677                                          51.533636        \n",
       "678                                          52.078861        \n",
       "679                                          52.613806        \n",
       "680                                          53.123396        \n",
       "681                                          53.588818        \n",
       "\n",
       "     Population ages 15-64, male  \\\n",
       "0                       677798.0   \n",
       "1                       695102.0   \n",
       "2                       712552.0   \n",
       "3                       724791.0   \n",
       "4                       746485.0   \n",
       "..                           ...   \n",
       "677                   10029420.0   \n",
       "678                   10495604.0   \n",
       "679                   10978493.0   \n",
       "680                   11469337.0   \n",
       "681                   11955166.0   \n",
       "\n",
       "     Population ages 15-64, male (% of male population)  \\\n",
       "0                                            51.059018    \n",
       "1                                            51.021416    \n",
       "2                                            50.955079    \n",
       "3                                            50.716391    \n",
       "4                                            50.713037    \n",
       "..                                                 ...    \n",
       "677                                          50.593947    \n",
       "678                                          51.145408    \n",
       "679                                          51.683913    \n",
       "680                                          52.197195    \n",
       "681                                          52.664449    \n",
       "\n",
       "     Population ages 15-64, total  \\\n",
       "0                       1428375.0   \n",
       "1                       1463447.0   \n",
       "2                       1498656.0   \n",
       "3                       1523236.0   \n",
       "4                       1566713.0   \n",
       "..                            ...   \n",
       "677                    20492668.0   \n",
       "678                    21429190.0   \n",
       "679                    22399621.0   \n",
       "680                    23385723.0   \n",
       "681                    24362660.0   \n",
       "\n",
       "     Population ages 20-24, female (% of female population)  \\\n",
       "0                                             8.142738        \n",
       "1                                             8.197793        \n",
       "2                                             8.245467        \n",
       "3                                             8.240612        \n",
       "4                                             8.329327        \n",
       "..                                                 ...        \n",
       "677                                           9.958244        \n",
       "678                                          10.026132        \n",
       "679                                          10.072648        \n",
       "680                                          10.101979        \n",
       "681                                          10.123705        \n",
       "\n",
       "     Population ages 20-24, male (% of male population)  \\\n",
       "0                                             8.241069    \n",
       "1                                             8.285904    \n",
       "2                                             8.320411    \n",
       "3                                             8.305221    \n",
       "4                                             8.381203    \n",
       "..                                                 ...    \n",
       "677                                          10.078574    \n",
       "678                                          10.138819    \n",
       "679                                          10.176517    \n",
       "680                                          10.197491    \n",
       "681                                          10.212169    \n",
       "\n",
       "     Population ages 25-29, female (% of female population)  \\\n",
       "0                                             6.793795        \n",
       "1                                             6.815568        \n",
       "2                                             6.846883        \n",
       "3                                             6.834349        \n",
       "4                                             6.912379        \n",
       "..                                                 ...        \n",
       "677                                           7.796219        \n",
       "678                                           7.972371        \n",
       "679                                           8.138220        \n",
       "680                                           8.289157        \n",
       "681                                           8.409365        \n",
       "\n",
       "     Population ages 25-29, male (% of male population)  \\\n",
       "0                                             6.743833    \n",
       "1                                             6.772810    \n",
       "2                                             6.808460    \n",
       "3                                             6.796132    \n",
       "4                                             6.872859    \n",
       "..                                                 ...    \n",
       "677                                           7.818614    \n",
       "678                                           7.993206    \n",
       "679                                           8.158056    \n",
       "680                                           8.307857    \n",
       "681                                           8.426080    \n",
       "\n",
       "     Population ages 30-34, female (% of female population)  \\\n",
       "0                                             5.857916        \n",
       "1                                             5.823100        \n",
       "2                                             5.799641        \n",
       "3                                             5.752635        \n",
       "4                                             5.769283        \n",
       "..                                                 ...        \n",
       "677                                           5.737479        \n",
       "678                                           5.923952        \n",
       "679                                           6.115951        \n",
       "680                                           6.301693        \n",
       "681                                           6.470859        \n",
       "\n",
       "     Population ages 30-34, male (% of male population)  \\\n",
       "0                                             5.682009    \n",
       "1                                             5.655532    \n",
       "2                                             5.642300    \n",
       "3                                             5.603534    \n",
       "4                                             5.633812    \n",
       "..                                                 ...    \n",
       "677                                           5.710203    \n",
       "678                                           5.891777    \n",
       "679                                           6.077415    \n",
       "680                                           6.257301    \n",
       "681                                           6.421985    \n",
       "\n",
       "     Population ages 35-39, female (% of female population)  \\\n",
       "0                                             5.219998        \n",
       "1                                             5.163290        \n",
       "2                                             5.106662        \n",
       "3                                             5.034873        \n",
       "4                                             4.995669        \n",
       "..                                                 ...        \n",
       "677                                           4.332646        \n",
       "678                                           4.390635        \n",
       "679                                           4.469083        \n",
       "680                                           4.573254        \n",
       "681                                           4.701226        \n",
       "\n",
       "     Population ages 35-39, male (% of male population)  \\\n",
       "0                                             4.975444    \n",
       "1                                             4.926914    \n",
       "2                                             4.876385    \n",
       "3                                             4.805483    \n",
       "4                                             4.774526    \n",
       "..                                                 ...    \n",
       "677                                           4.258085    \n",
       "678                                           4.314845    \n",
       "679                                           4.392559    \n",
       "680                                           4.495963    \n",
       "681                                           4.622313    \n",
       "\n",
       "     Population ages 40-44, female (% of female population)  \\\n",
       "0                                             4.633801        \n",
       "1                                             4.592362        \n",
       "2                                             4.546053        \n",
       "3                                             4.490543        \n",
       "4                                             4.441847        \n",
       "..                                                 ...        \n",
       "677                                           3.560750        \n",
       "678                                           3.553993        \n",
       "679                                           3.558571        \n",
       "680                                           3.570819        \n",
       "681                                           3.591768        \n",
       "\n",
       "     Population ages 40-44, male (% of male population)  \\\n",
       "0                                             4.323683    \n",
       "1                                             4.281790    \n",
       "2                                             4.242550    \n",
       "3                                             4.194682    \n",
       "4                                             4.160353    \n",
       "..                                                 ...    \n",
       "677                                           3.439528    \n",
       "678                                           3.435787    \n",
       "679                                           3.442270    \n",
       "680                                           3.455848    \n",
       "681                                           3.476286    \n",
       "\n",
       "     Population ages 45-49, female (% of female population)  \\\n",
       "0                                             4.019172        \n",
       "1                                             3.995257        \n",
       "2                                             3.971038        \n",
       "3                                             3.945984        \n",
       "4                                             3.914542        \n",
       "..                                                 ...        \n",
       "677                                           2.955527        \n",
       "678                                           2.961811        \n",
       "679                                           2.959914        \n",
       "680                                           2.956097        \n",
       "681                                           2.952075        \n",
       "\n",
       "     Population ages 45-49, male (% of male population)  \\\n",
       "0                                             3.731847    \n",
       "1                                             3.701700    \n",
       "2                                             3.663778    \n",
       "3                                             3.619008    \n",
       "4                                             3.578551    \n",
       "..                                                 ...    \n",
       "677                                           2.768418    \n",
       "678                                           2.783848    \n",
       "679                                           2.789132    \n",
       "680                                           2.791091    \n",
       "681                                           2.790897    \n",
       "\n",
       "     Population ages 50-54, female (% of female population)  \\\n",
       "0                                             3.433962        \n",
       "1                                             3.419032        \n",
       "2                                             3.400423        \n",
       "3                                             3.383682        \n",
       "4                                             3.358223        \n",
       "..                                                 ...        \n",
       "677                                           2.270453        \n",
       "678                                           2.303789        \n",
       "679                                           2.337048        \n",
       "680                                           2.366699        \n",
       "681                                           2.391708        \n",
       "\n",
       "     Population ages 50-54, male (% of male population)  \\\n",
       "0                                             3.068673    \n",
       "1                                             3.058668    \n",
       "2                                             3.050789    \n",
       "3                                             3.043369    \n",
       "4                                             3.027897    \n",
       "..                                                 ...    \n",
       "677                                           2.003513    \n",
       "678                                           2.051388    \n",
       "679                                           2.097551    \n",
       "680                                           2.138202    \n",
       "681                                           2.171137    \n",
       "\n",
       "     Population ages 55-59, female (% of female population)  \\\n",
       "0                                             2.823138        \n",
       "1                                             2.819589        \n",
       "2                                             2.816006        \n",
       "3                                             2.816970        \n",
       "4                                             2.805266        \n",
       "..                                                 ...        \n",
       "677                                           1.719157        \n",
       "678                                           1.731257        \n",
       "679                                           1.746689        \n",
       "680                                           1.766004        \n",
       "681                                           1.789692        \n",
       "\n",
       "     Population ages 55-59, male (% of male population)  \\\n",
       "0                                             2.465047    \n",
       "1                                             2.455934    \n",
       "2                                             2.445200    \n",
       "3                                             2.436731    \n",
       "4                                             2.424050    \n",
       "..                                                 ...    \n",
       "677                                           1.406815    \n",
       "678                                           1.426704    \n",
       "679                                           1.450705    \n",
       "680                                           1.478818    \n",
       "681                                           1.510651    \n",
       "\n",
       "     Population ages 60-64, female (% of female population)  \\\n",
       "0                                             2.216647        \n",
       "1                                             2.229501        \n",
       "2                                             2.231019        \n",
       "3                                             2.230838        \n",
       "4                                             2.221276        \n",
       "..                                                 ...        \n",
       "677                                           1.299574        \n",
       "678                                           1.304774        \n",
       "679                                           1.311912        \n",
       "680                                           1.319661        \n",
       "681                                           1.327237        \n",
       "\n",
       "     Population ages 60-64, male (% of male population)  \\\n",
       "0                                             1.876827    \n",
       "1                                             1.883697    \n",
       "2                                             1.882697    \n",
       "3                                             1.879635    \n",
       "4                                             1.870476    \n",
       "..                                                 ...    \n",
       "677                                           0.999793    \n",
       "678                                           1.006427    \n",
       "679                                           1.014587    \n",
       "680                                           1.023122    \n",
       "681                                           1.031392    \n",
       "\n",
       "     Population ages 65 and above (% of total population)  \\\n",
       "0                                             3.177770      \n",
       "1                                             3.184761      \n",
       "2                                             3.196874      \n",
       "3                                             3.216324      \n",
       "4                                             3.230361      \n",
       "..                                                 ...      \n",
       "677                                           1.599577      \n",
       "678                                           1.622351      \n",
       "679                                           1.645366      \n",
       "680                                           1.664816      \n",
       "681                                           1.677172      \n",
       "\n",
       "     Population ages 65 and above, female  \\\n",
       "0                                 50444.0   \n",
       "1                                 51837.0   \n",
       "2                                 53349.0   \n",
       "3                                 54835.0   \n",
       "4                                 56619.0   \n",
       "..                                    ...   \n",
       "677                              381055.0   \n",
       "678                              399634.0   \n",
       "679                              419213.0   \n",
       "680                              438821.0   \n",
       "681                              457363.0   \n",
       "\n",
       "     Population ages 65 and above, female (% of female population)  \\\n",
       "0                                             3.554562               \n",
       "1                                             3.566115               \n",
       "2                                             3.582860               \n",
       "3                                             3.609913               \n",
       "4                                             3.626535               \n",
       "..                                                 ...               \n",
       "677                                           1.876774               \n",
       "678                                           1.903537               \n",
       "679                                           1.931190               \n",
       "680                                           1.956270               \n",
       "681                                           1.975384               \n",
       "\n",
       "     Population ages 65 and above, male  \\\n",
       "0                               36837.0   \n",
       "1                               37845.0   \n",
       "2                               38957.0   \n",
       "3                               39986.0   \n",
       "4                               41365.0   \n",
       "..                                  ...   \n",
       "677                            260808.0   \n",
       "678                            273891.0   \n",
       "679                            287457.0   \n",
       "680                            300434.0   \n",
       "681                            311683.0   \n",
       "\n",
       "     Population ages 65 and above, male (% of male population)  \\\n",
       "0                                             2.774958           \n",
       "1                                             2.777872           \n",
       "2                                             2.785877           \n",
       "3                                             2.797971           \n",
       "4                                             2.810163           \n",
       "..                                                 ...           \n",
       "677                                           1.315662           \n",
       "678                                           1.334682           \n",
       "679                                           1.353273           \n",
       "680                                           1.367281           \n",
       "681                                           1.373014           \n",
       "\n",
       "     Population ages 65 and above, total  \\\n",
       "0                                87282.0   \n",
       "1                                89682.0   \n",
       "2                                92306.0   \n",
       "3                                94822.0   \n",
       "4                                97984.0   \n",
       "..                                   ...   \n",
       "677                             641864.0   \n",
       "678                             673526.0   \n",
       "679                             706669.0   \n",
       "680                             739255.0   \n",
       "681                             769047.0   \n",
       "\n",
       "     Population ages 65-69, female (% of female population)  \\\n",
       "0                                             1.515663        \n",
       "1                                             1.533780        \n",
       "2                                             1.562116        \n",
       "3                                             1.598426        \n",
       "4                                             1.621561        \n",
       "..                                                 ...        \n",
       "677                                           0.918802        \n",
       "678                                           0.940022        \n",
       "679                                           0.949993        \n",
       "680                                           0.953391        \n",
       "681                                           0.955851        \n",
       "\n",
       "     Population ages 65-69, male (% of male population)  \\\n",
       "0                                             1.247402    \n",
       "1                                             1.259052    \n",
       "2                                             1.278826    \n",
       "3                                             1.303646    \n",
       "4                                             1.319890    \n",
       "..                                                 ...    \n",
       "677                                           0.681943    \n",
       "678                                           0.690967    \n",
       "679                                           0.692048    \n",
       "680                                           0.691180    \n",
       "681                                           0.691540    \n",
       "\n",
       "     Population ages 70-74, female (% of female population)  \\\n",
       "0                                             1.045944        \n",
       "1                                             1.034502        \n",
       "2                                             1.021319        \n",
       "3                                             1.012458        \n",
       "4                                             1.007851        \n",
       "..                                                 ...        \n",
       "677                                           0.481766        \n",
       "678                                           0.502499        \n",
       "679                                           0.532621        \n",
       "680                                           0.563609        \n",
       "681                                           0.588551        \n",
       "\n",
       "     Population ages 70-74, male (% of male population)  \\\n",
       "0                                             0.826001    \n",
       "1                                             0.816406    \n",
       "2                                             0.804996    \n",
       "3                                             0.795952    \n",
       "4                                             0.791622    \n",
       "..                                                 ...    \n",
       "677                                           0.345852    \n",
       "678                                           0.361986    \n",
       "679                                           0.383926    \n",
       "680                                           0.402556    \n",
       "681                                           0.412795    \n",
       "\n",
       "     Population ages 75-79, female (% of female population)  \\\n",
       "0                                             0.623931        \n",
       "1                                             0.621320        \n",
       "2                                             0.617157        \n",
       "3                                             0.613255        \n",
       "4                                             0.606312        \n",
       "..                                                 ...        \n",
       "677                                           0.274459        \n",
       "678                                           0.265546        \n",
       "679                                           0.259696        \n",
       "680                                           0.257684        \n",
       "681                                           0.258315        \n",
       "\n",
       "     Population ages 75-79, male (% of male population)  \\\n",
       "0                                             0.457710    \n",
       "1                                             0.455198    \n",
       "2                                             0.453056    \n",
       "3                                             0.450771    \n",
       "4                                             0.447085    \n",
       "..                                                 ...    \n",
       "677                                           0.175881    \n",
       "678                                           0.172503    \n",
       "679                                           0.170931    \n",
       "680                                           0.171032    \n",
       "681                                           0.171793    \n",
       "\n",
       "     Population ages 80 and above, female (% of female population)  \\\n",
       "0                                             0.369024               \n",
       "1                                             0.376514               \n",
       "2                                             0.382268               \n",
       "3                                             0.385774               \n",
       "4                                             0.390811               \n",
       "..                                                 ...               \n",
       "677                                           0.201746               \n",
       "678                                           0.195470               \n",
       "679                                           0.188880               \n",
       "680                                           0.181586               \n",
       "681                                           0.172668               \n",
       "\n",
       "     Population ages 80 and above, male (% of male population)  \\\n",
       "0                                             0.243846           \n",
       "1                                             0.247216           \n",
       "2                                             0.249000           \n",
       "3                                             0.247602           \n",
       "4                                             0.251566           \n",
       "..                                                 ...           \n",
       "677                                           0.111987           \n",
       "678                                           0.109227           \n",
       "679                                           0.106369           \n",
       "680                                           0.102514           \n",
       "681                                           0.096887           \n",
       "\n",
       "     Population growth (annual %)  Population, female  \\\n",
       "0                             NaN           1419148.0   \n",
       "1                        2.493352           1453599.0   \n",
       "2                        2.504826           1489006.0   \n",
       "3                        2.081634           1519025.0   \n",
       "4                        2.845300           1561243.0   \n",
       "..                            ...                 ...   \n",
       "677                      3.496468          20303726.0   \n",
       "678                      3.401278          20994287.0   \n",
       "679                      3.395091          21707475.0   \n",
       "680                      3.332809          22431520.0   \n",
       "681                      3.211428          23153140.0   \n",
       "\n",
       "     Population, male (% of total population)  Population, total  \\\n",
       "0                                   48.331227          2746628.0   \n",
       "1                                   48.380240          2815972.0   \n",
       "2                                   48.430871          2887398.0   \n",
       "3                                   48.474984          2948133.0   \n",
       "4                                   48.528544          3033221.0   \n",
       "..                                        ...                ...   \n",
       "677                                 49.401443         40127085.0   \n",
       "678                                 49.430116         41515395.0   \n",
       "679                                 49.457651         42949080.0   \n",
       "680                                 49.483802         44404611.0   \n",
       "681                                 49.506582         45853778.0   \n",
       "\n",
       "     Sex ratio at birth (male births per female births)  \\\n",
       "0                                                1.025    \n",
       "1                                                1.025    \n",
       "2                                                1.025    \n",
       "3                                                1.025    \n",
       "4                                                1.025    \n",
       "..                                                 ...    \n",
       "677                                              1.027    \n",
       "678                                              1.028    \n",
       "679                                              1.028    \n",
       "680                                              1.028    \n",
       "681                                              1.029    \n",
       "\n",
       "     Survival to age 65, female (% of cohort)  \\\n",
       "0                                   37.848041   \n",
       "1                                   38.062682   \n",
       "2                                   38.045239   \n",
       "3                                   38.428793   \n",
       "4                                   38.879601   \n",
       "..                                        ...   \n",
       "677                                 62.042962   \n",
       "678                                 63.811933   \n",
       "679                                 64.337804   \n",
       "680                                 64.012673   \n",
       "681                                 63.996120   \n",
       "\n",
       "     Survival to age 65, male (% of cohort)  \n",
       "0                                 32.248556  \n",
       "1                                 32.557873  \n",
       "2                                 32.959218  \n",
       "3                                 33.257476  \n",
       "4                                 33.415269  \n",
       "..                                      ...  \n",
       "677                               52.091115  \n",
       "678                               52.951116  \n",
       "679                               53.395080  \n",
       "680                               52.683745  \n",
       "681                               51.663767  \n",
       "\n",
       "[682 rows x 68 columns]"
      ]
     },
     "execution_count": 5,
     "metadata": {},
     "output_type": "execute_result"
    }
   ],
   "source": [
    "\n",
    "df=df.filter([f'Country','Year', 'Indicator Name','Value'])\n",
    "df=df.pivot_table(index=['Country','Year'],columns='Indicator Name', values='Value').reset_index().rename_axis(None, axis=1)\n",
    "df"
   ]
  },
  {
   "cell_type": "code",
   "execution_count": 6,
   "metadata": {},
   "outputs": [
    {
     "data": {
      "text/html": [
       "<div>\n",
       "<style scoped>\n",
       "    .dataframe tbody tr th:only-of-type {\n",
       "        vertical-align: middle;\n",
       "    }\n",
       "\n",
       "    .dataframe tbody tr th {\n",
       "        vertical-align: top;\n",
       "    }\n",
       "\n",
       "    .dataframe thead th {\n",
       "        text-align: right;\n",
       "    }\n",
       "</style>\n",
       "<table border=\"1\" class=\"dataframe\">\n",
       "  <thead>\n",
       "    <tr style=\"text-align: right;\">\n",
       "      <th></th>\n",
       "      <th>Year</th>\n",
       "      <th>Life expectancy at birth, total (years)</th>\n",
       "      <th>Population growth (annual %)</th>\n",
       "      <th>Fertility rate, total (births per woman)</th>\n",
       "    </tr>\n",
       "  </thead>\n",
       "  <tbody>\n",
       "    <tr>\n",
       "      <th>0</th>\n",
       "      <td>1960</td>\n",
       "      <td>42.48</td>\n",
       "      <td>NaN</td>\n",
       "      <td>7.03</td>\n",
       "    </tr>\n",
       "    <tr>\n",
       "      <th>1</th>\n",
       "      <td>1961</td>\n",
       "      <td>42.90</td>\n",
       "      <td>2.75</td>\n",
       "      <td>7.04</td>\n",
       "    </tr>\n",
       "    <tr>\n",
       "      <th>2</th>\n",
       "      <td>1962</td>\n",
       "      <td>43.29</td>\n",
       "      <td>2.80</td>\n",
       "      <td>7.06</td>\n",
       "    </tr>\n",
       "    <tr>\n",
       "      <th>3</th>\n",
       "      <td>1963</td>\n",
       "      <td>43.07</td>\n",
       "      <td>2.81</td>\n",
       "      <td>7.08</td>\n",
       "    </tr>\n",
       "    <tr>\n",
       "      <th>4</th>\n",
       "      <td>1964</td>\n",
       "      <td>44.39</td>\n",
       "      <td>2.98</td>\n",
       "      <td>7.10</td>\n",
       "    </tr>\n",
       "    <tr>\n",
       "      <th>...</th>\n",
       "      <td>...</td>\n",
       "      <td>...</td>\n",
       "      <td>...</td>\n",
       "      <td>...</td>\n",
       "    </tr>\n",
       "    <tr>\n",
       "      <th>57</th>\n",
       "      <td>2017</td>\n",
       "      <td>62.61</td>\n",
       "      <td>2.05</td>\n",
       "      <td>4.63</td>\n",
       "    </tr>\n",
       "    <tr>\n",
       "      <th>58</th>\n",
       "      <td>2018</td>\n",
       "      <td>63.04</td>\n",
       "      <td>2.19</td>\n",
       "      <td>4.56</td>\n",
       "    </tr>\n",
       "    <tr>\n",
       "      <th>59</th>\n",
       "      <td>2019</td>\n",
       "      <td>63.35</td>\n",
       "      <td>2.44</td>\n",
       "      <td>4.48</td>\n",
       "    </tr>\n",
       "    <tr>\n",
       "      <th>60</th>\n",
       "      <td>2020</td>\n",
       "      <td>62.96</td>\n",
       "      <td>2.46</td>\n",
       "      <td>4.41</td>\n",
       "    </tr>\n",
       "    <tr>\n",
       "      <th>61</th>\n",
       "      <td>2021</td>\n",
       "      <td>62.49</td>\n",
       "      <td>2.38</td>\n",
       "      <td>4.33</td>\n",
       "    </tr>\n",
       "  </tbody>\n",
       "</table>\n",
       "<p>62 rows × 4 columns</p>\n",
       "</div>"
      ],
      "text/plain": [
       "    Year  Life expectancy at birth, total (years)  \\\n",
       "0   1960                                    42.48   \n",
       "1   1961                                    42.90   \n",
       "2   1962                                    43.29   \n",
       "3   1963                                    43.07   \n",
       "4   1964                                    44.39   \n",
       "..   ...                                      ...   \n",
       "57  2017                                    62.61   \n",
       "58  2018                                    63.04   \n",
       "59  2019                                    63.35   \n",
       "60  2020                                    62.96   \n",
       "61  2021                                    62.49   \n",
       "\n",
       "    Population growth (annual %)  Fertility rate, total (births per woman)  \n",
       "0                            NaN                                      7.03  \n",
       "1                           2.75                                      7.04  \n",
       "2                           2.80                                      7.06  \n",
       "3                           2.81                                      7.08  \n",
       "4                           2.98                                      7.10  \n",
       "..                           ...                                       ...  \n",
       "57                          2.05                                      4.63  \n",
       "58                          2.19                                      4.56  \n",
       "59                          2.44                                      4.48  \n",
       "60                          2.46                                      4.41  \n",
       "61                          2.38                                      4.33  \n",
       "\n",
       "[62 rows x 4 columns]"
      ]
     },
     "execution_count": 6,
     "metadata": {},
     "output_type": "execute_result"
    }
   ],
   "source": [
    "# Extract the required columns\n",
    "columns = ['Year', 'Life expectancy at birth, total (years)', 'Population growth (annual %)', 'Fertility rate, total (births per woman)']\n",
    "df_selected = df[columns]\n",
    "# Group the data by year and calculate the mean values\n",
    "df_grouped = df_selected.groupby('Year').mean().round(2).reset_index()\n",
    "\n",
    "df_grouped"
   ]
  },
  {
   "cell_type": "code",
   "execution_count": 7,
   "metadata": {},
   "outputs": [
    {
     "name": "stdout",
     "output_type": "stream",
     "text": [
      "              Year  Age dependency ratio (% of working-age population)  \\\n",
      "count   682.000000                                         682.000000    \n",
      "mean   1990.500000                                          93.367439    \n",
      "std      17.908665                                          10.353661    \n",
      "min    1960.000000                                          54.478600    \n",
      "25%    1975.000000                                          87.471760    \n",
      "50%    1990.500000                                          93.203114    \n",
      "75%    2006.000000                                          99.823938    \n",
      "max    2021.000000                                         118.871546    \n",
      "\n",
      "       Age dependency ratio, old (% of working-age population)  \\\n",
      "count                                         682.000000         \n",
      "mean                                            5.241470         \n",
      "std                                             0.738307         \n",
      "min                                             3.089473         \n",
      "25%                                             4.734100         \n",
      "50%                                             5.249091         \n",
      "75%                                             5.704024         \n",
      "max                                             7.223696         \n",
      "\n",
      "       Age dependency ratio, young (% of working-age population)  \\\n",
      "count                                         682.000000           \n",
      "mean                                           88.125969           \n",
      "std                                            10.523818           \n",
      "min                                            47.534059           \n",
      "25%                                            82.436890           \n",
      "50%                                            87.903729           \n",
      "75%                                            94.654319           \n",
      "max                                           114.388288           \n",
      "\n",
      "       Fertility rate, total (births per woman)  \\\n",
      "count                                682.000000   \n",
      "mean                                   6.332306   \n",
      "std                                    1.194325   \n",
      "min                                    2.804000   \n",
      "25%                                    5.489750   \n",
      "50%                                    6.735500   \n",
      "75%                                    7.162500   \n",
      "max                                    8.250000   \n",
      "\n",
      "       Life expectancy at birth, female (years)  \\\n",
      "count                                682.000000   \n",
      "mean                                  52.523513   \n",
      "std                                    8.937951   \n",
      "min                                   12.721000   \n",
      "25%                                   47.223750   \n",
      "50%                                   52.139000   \n",
      "75%                                   58.338750   \n",
      "max                                   69.337000   \n",
      "\n",
      "       Life expectancy at birth, male (years)  \\\n",
      "count                              682.000000   \n",
      "mean                                48.631493   \n",
      "std                                  8.986519   \n",
      "min                                 12.037000   \n",
      "25%                                 43.145000   \n",
      "50%                                 48.868500   \n",
      "75%                                 54.849750   \n",
      "max                                 65.216000   \n",
      "\n",
      "       Life expectancy at birth, total (years)  \\\n",
      "count                               682.000000   \n",
      "mean                                 50.535990   \n",
      "std                                   8.955979   \n",
      "min                                  12.407000   \n",
      "25%                                  45.067750   \n",
      "50%                                  50.538000   \n",
      "75%                                  56.606000   \n",
      "max                                  67.300000   \n",
      "\n",
      "       Population ages 0-14 (% of total population)  \\\n",
      "count                                    682.000000   \n",
      "mean                                      45.409108   \n",
      "std                                        3.133266   \n",
      "min                                       30.770675   \n",
      "25%                                       44.009854   \n",
      "50%                                       45.486084   \n",
      "75%                                       47.310568   \n",
      "max                                       52.262750   \n",
      "\n",
      "       Population ages 0-14, female  \\\n",
      "count                  6.820000e+02   \n",
      "mean                   3.810028e+06   \n",
      "std                    4.314235e+06   \n",
      "min                    1.898300e+04   \n",
      "25%                    8.313785e+05   \n",
      "50%                    2.222593e+06   \n",
      "75%                    5.543543e+06   \n",
      "max                    2.356161e+07   \n",
      "\n",
      "       Population ages 0-14, female (% of female population)  \\\n",
      "count                                         682.000000       \n",
      "mean                                           44.702677       \n",
      "std                                             3.152284       \n",
      "min                                            30.206748       \n",
      "25%                                            43.235154       \n",
      "50%                                            44.631023       \n",
      "75%                                            46.805856       \n",
      "max                                            51.580592       \n",
      "\n",
      "       Population ages 0-14, male  \\\n",
      "count                6.820000e+02   \n",
      "mean                 3.879226e+06   \n",
      "std                  4.442379e+06   \n",
      "min                  1.893400e+04   \n",
      "25%                  8.329722e+05   \n",
      "50%                  2.259240e+06   \n",
      "75%                  5.670023e+06   \n",
      "max                  2.450469e+07   \n",
      "\n",
      "       Population ages 0-14, male (% of male population)  \\\n",
      "count                                         682.000000   \n",
      "mean                                           46.135536   \n",
      "std                                             3.154372   \n",
      "min                                            31.342590   \n",
      "25%                                            44.654567   \n",
      "50%                                            46.392137   \n",
      "75%                                            48.034595   \n",
      "max                                            52.960250   \n",
      "\n",
      "       Population ages 0-14, total  \\\n",
      "count                 6.820000e+02   \n",
      "mean                  7.689254e+06   \n",
      "std                   8.756187e+06   \n",
      "min                   3.791700e+04   \n",
      "25%                   1.661695e+06   \n",
      "50%                   4.479196e+06   \n",
      "75%                   1.121333e+07   \n",
      "max                   4.806630e+07   \n",
      "\n",
      "       Population ages 00-04, female (% of female population)  \\\n",
      "count                                         682.000000        \n",
      "mean                                           17.723883        \n",
      "std                                             1.857934        \n",
      "min                                            10.306072        \n",
      "25%                                            16.944173        \n",
      "50%                                            17.952686        \n",
      "75%                                            19.035874        \n",
      "max                                            21.565289        \n",
      "\n",
      "       Population ages 00-04, male (% of male population)  \\\n",
      "count                                         682.000000    \n",
      "mean                                           18.377465    \n",
      "std                                             1.878723    \n",
      "min                                            10.749321    \n",
      "25%                                            17.548894    \n",
      "50%                                            18.631775    \n",
      "75%                                            19.546859    \n",
      "max                                            22.186819    \n",
      "\n",
      "       Population ages 05-09, female (% of female population)  \\\n",
      "count                                         682.000000        \n",
      "mean                                           14.582589        \n",
      "std                                             1.089792        \n",
      "min                                             9.959096        \n",
      "25%                                            13.965627        \n",
      "50%                                            14.492389        \n",
      "75%                                            15.313300        \n",
      "max                                            17.080780        \n",
      "\n",
      "       Population ages 05-09, male (% of male population)  \\\n",
      "count                                         682.000000    \n",
      "mean                                           15.024425    \n",
      "std                                             1.100125    \n",
      "min                                            10.328107    \n",
      "25%                                            14.443467    \n",
      "50%                                            14.927898    \n",
      "75%                                            15.720511    \n",
      "max                                            18.203807    \n",
      "\n",
      "       Population ages 10-14, female (% of female population)  \\\n",
      "count                                         682.000000        \n",
      "mean                                           12.396205        \n",
      "std                                             0.822445        \n",
      "min                                             9.941581        \n",
      "25%                                            11.885805        \n",
      "50%                                            12.289723        \n",
      "75%                                            12.843285        \n",
      "max                                            15.439363        \n",
      "\n",
      "       Population ages 10-14, male (% of male population)  \\\n",
      "count                                         682.000000    \n",
      "mean                                           12.733646    \n",
      "std                                             0.874924    \n",
      "min                                            10.265162    \n",
      "25%                                            12.199015    \n",
      "50%                                            12.632006    \n",
      "75%                                            13.166920    \n",
      "max                                            16.361214    \n",
      "\n",
      "       Population ages 15-19, female (% of female population)  \\\n",
      "count                                         682.000000        \n",
      "mean                                           10.512227        \n",
      "std                                             0.703841        \n",
      "min                                             8.503324        \n",
      "25%                                            10.081409        \n",
      "50%                                            10.407991        \n",
      "75%                                            10.871246        \n",
      "max                                            13.050814        \n",
      "\n",
      "       Population ages 15-19, male (% of male population)  \\\n",
      "count                                         682.000000    \n",
      "mean                                           10.725942    \n",
      "std                                             0.781388    \n",
      "min                                             8.608351    \n",
      "25%                                            10.244084    \n",
      "50%                                            10.640994    \n",
      "75%                                            11.127212    \n",
      "max                                            13.596047    \n",
      "\n",
      "       Population ages 15-64 (% of total population)  \\\n",
      "count                                     682.000000   \n",
      "mean                                       51.867882   \n",
      "std                                         2.872774   \n",
      "min                                        45.688899   \n",
      "25%                                        50.044054   \n",
      "50%                                        51.759005   \n",
      "75%                                        53.341370   \n",
      "max                                        64.733856   \n",
      "\n",
      "       Population ages 15-64, female  \\\n",
      "count                   6.820000e+02   \n",
      "mean                    4.459784e+06   \n",
      "std                     5.341546e+06   \n",
      "min                     2.328100e+04   \n",
      "25%                     9.857652e+05   \n",
      "50%                     2.556681e+06   \n",
      "75%                     6.105092e+06   \n",
      "max                     3.422035e+07   \n",
      "\n",
      "       Population ages 15-64, female (% of female population)  \\\n",
      "count                                         682.000000        \n",
      "mean                                           52.327559        \n",
      "std                                             2.821284        \n",
      "min                                            46.497561        \n",
      "25%                                            50.479657        \n",
      "50%                                            52.239289        \n",
      "75%                                            53.823089        \n",
      "max                                            64.874422        \n",
      "\n",
      "       Population ages 15-64, male  \\\n",
      "count                 6.820000e+02   \n",
      "mean                  4.331934e+06   \n",
      "std                   5.274913e+06   \n",
      "min                   2.273100e+04   \n",
      "25%                   9.261172e+05   \n",
      "50%                   2.460829e+06   \n",
      "75%                   5.904830e+06   \n",
      "max                   3.422139e+07   \n",
      "\n",
      "       Population ages 15-64, male (% of male population)  \\\n",
      "count                                         682.000000    \n",
      "mean                                           51.394508    \n",
      "std                                             2.963842    \n",
      "min                                            44.862050    \n",
      "25%                                            49.563125    \n",
      "50%                                            51.193550    \n",
      "75%                                            52.767342    \n",
      "max                                            64.591298    \n",
      "\n",
      "       Population ages 15-64, total  \\\n",
      "count                  6.820000e+02   \n",
      "mean                   8.791718e+06   \n",
      "std                    1.061550e+07   \n",
      "min                    4.601100e+04   \n",
      "25%                    1.920755e+06   \n",
      "50%                    5.032824e+06   \n",
      "75%                    1.207199e+07   \n",
      "max                    6.844174e+07   \n",
      "\n",
      "       Population ages 20-24, female (% of female population)  \\\n",
      "count                                         682.000000        \n",
      "mean                                            8.841313        \n",
      "std                                             0.638747        \n",
      "min                                             6.458374        \n",
      "25%                                             8.440866        \n",
      "50%                                             8.820876        \n",
      "75%                                             9.216519        \n",
      "max                                            10.731739        \n",
      "\n",
      "       Population ages 20-24, male (% of male population)  \\\n",
      "count                                         682.000000    \n",
      "mean                                            8.875464    \n",
      "std                                             0.713033    \n",
      "min                                             6.912611    \n",
      "25%                                             8.434701    \n",
      "50%                                             8.791762    \n",
      "75%                                             9.333561    \n",
      "max                                            11.107258    \n",
      "\n",
      "       Population ages 25-29, female (% of female population)  \\\n",
      "count                                         682.000000        \n",
      "mean                                            7.409061        \n",
      "std                                             0.640743        \n",
      "min                                             5.221800        \n",
      "25%                                             7.039084        \n",
      "50%                                             7.368872        \n",
      "75%                                             7.848456        \n",
      "max                                             9.076422        \n",
      "\n",
      "       Population ages 25-29, male (% of male population)  \\\n",
      "count                                         682.000000    \n",
      "mean                                            7.313419    \n",
      "std                                             0.694520    \n",
      "min                                             5.428508    \n",
      "25%                                             6.874736    \n",
      "50%                                             7.218666    \n",
      "75%                                             7.712569    \n",
      "max                                             9.160858    \n",
      "\n",
      "       Population ages 30-34, female (% of female population)  \\\n",
      "count                                         682.000000        \n",
      "mean                                            6.166243        \n",
      "std                                             0.623275        \n",
      "min                                             4.572071        \n",
      "25%                                             5.817008        \n",
      "50%                                             6.117047        \n",
      "75%                                             6.484996        \n",
      "max                                             7.762070        \n",
      "\n",
      "       Population ages 30-34, male (% of male population)  \\\n",
      "count                                         682.000000    \n",
      "mean                                            6.037483    \n",
      "std                                             0.669042    \n",
      "min                                             4.524811    \n",
      "25%                                             5.618014    \n",
      "50%                                             5.965657    \n",
      "75%                                             6.394463    \n",
      "max                                             7.854222    \n",
      "\n",
      "       Population ages 35-39, female (% of female population)  \\\n",
      "count                                         682.000000        \n",
      "mean                                            5.090112        \n",
      "std                                             0.571116        \n",
      "min                                             3.668696        \n",
      "25%                                             4.755261        \n",
      "50%                                             5.055767        \n",
      "75%                                             5.372641        \n",
      "max                                             6.988851        \n",
      "\n",
      "       Population ages 35-39, male (% of male population)  \\\n",
      "count                                         682.000000    \n",
      "mean                                            4.957802    \n",
      "std                                             0.601812    \n",
      "min                                             3.454007    \n",
      "25%                                             4.565354    \n",
      "50%                                             4.938497    \n",
      "75%                                             5.285790    \n",
      "max                                             6.885862    \n",
      "\n",
      "       Population ages 40-44, female (% of female population)  \\\n",
      "count                                         682.000000        \n",
      "mean                                            4.173076        \n",
      "std                                             0.515815        \n",
      "min                                             2.962669        \n",
      "25%                                             3.858108        \n",
      "50%                                             4.181928        \n",
      "75%                                             4.474873        \n",
      "max                                             6.334128        \n",
      "\n",
      "       Population ages 40-44, male (% of male population)  \\\n",
      "count                                         682.000000    \n",
      "mean                                            4.032977    \n",
      "std                                             0.529990    \n",
      "min                                             2.691316    \n",
      "25%                                             3.696744    \n",
      "50%                                             4.039426    \n",
      "75%                                             4.344502    \n",
      "max                                             6.212077    \n",
      "\n",
      "       Population ages 45-49, female (% of female population)  \\\n",
      "count                                         682.000000        \n",
      "mean                                            3.412633        \n",
      "std                                             0.466769        \n",
      "min                                             2.354302        \n",
      "25%                                             3.110926        \n",
      "50%                                             3.449071        \n",
      "75%                                             3.720261        \n",
      "max                                             5.564188        \n",
      "\n",
      "       Population ages 45-49, male (% of male population)  \\\n",
      "count                                         682.000000    \n",
      "mean                                            3.257499    \n",
      "std                                             0.467530    \n",
      "min                                             2.110143    \n",
      "25%                                             2.979524    \n",
      "50%                                             3.289091    \n",
      "75%                                             3.555973    \n",
      "max                                             5.384681    \n",
      "\n",
      "       Population ages 50-54, female (% of female population)  \\\n",
      "count                                         682.000000        \n",
      "mean                                            2.773113        \n",
      "std                                             0.416562        \n",
      "min                                             1.750711        \n",
      "25%                                             2.518590        \n",
      "50%                                             2.816649        \n",
      "75%                                             3.064013        \n",
      "max                                             4.503141        \n",
      "\n",
      "       Population ages 50-54, male (% of male population)  \\\n",
      "count                                         682.000000    \n",
      "mean                                            2.601123    \n",
      "std                                             0.404303    \n",
      "min                                             1.606665    \n",
      "25%                                             2.379759    \n",
      "50%                                             2.636104    \n",
      "75%                                             2.879132    \n",
      "max                                             4.290018    \n",
      "\n",
      "       Population ages 55-59, female (% of female population)  \\\n",
      "count                                         682.000000        \n",
      "mean                                            2.220378        \n",
      "std                                             0.357763        \n",
      "min                                             1.314424        \n",
      "25%                                             2.015933        \n",
      "50%                                             2.248529        \n",
      "75%                                             2.470745        \n",
      "max                                             3.479908        \n",
      "\n",
      "       Population ages 55-59, male (% of male population)  \\\n",
      "count                                         682.000000    \n",
      "mean                                            2.040422    \n",
      "std                                             0.338219    \n",
      "min                                             1.162315    \n",
      "25%                                             1.855608    \n",
      "50%                                             2.072616    \n",
      "75%                                             2.263988    \n",
      "max                                             3.249829    \n",
      "\n",
      "       Population ages 60-64, female (% of female population)  \\\n",
      "count                                         682.000000        \n",
      "mean                                            1.729402        \n",
      "std                                             0.285005        \n",
      "min                                             1.014490        \n",
      "25%                                             1.553266        \n",
      "50%                                             1.742793        \n",
      "75%                                             1.907952        \n",
      "max                                             2.626076        \n",
      "\n",
      "       Population ages 60-64, male (% of male population)  \\\n",
      "count                                         682.000000    \n",
      "mean                                            1.552377    \n",
      "std                                             0.263622    \n",
      "min                                             0.814162    \n",
      "25%                                             1.391808    \n",
      "50%                                             1.569257    \n",
      "75%                                             1.732344    \n",
      "max                                             2.385904    \n",
      "\n",
      "       Population ages 65 and above (% of total population)  \\\n",
      "count                                         682.000000      \n",
      "mean                                            2.723009      \n",
      "std                                             0.445971      \n",
      "min                                             1.521082      \n",
      "25%                                             2.460167      \n",
      "50%                                             2.686219      \n",
      "75%                                             2.958454      \n",
      "max                                             4.495469      \n",
      "\n",
      "       Population ages 65 and above, female  \\\n",
      "count                          6.820000e+02   \n",
      "mean                           2.446220e+05   \n",
      "std                            3.032196e+05   \n",
      "min                            1.120000e+03   \n",
      "25%                            6.518250e+04   \n",
      "50%                            1.323660e+05   \n",
      "75%                            3.142585e+05   \n",
      "max                            2.057666e+06   \n",
      "\n",
      "       Population ages 65 and above, female (% of female population)  \\\n",
      "count                                         682.000000               \n",
      "mean                                            2.969764               \n",
      "std                                             0.511912               \n",
      "min                                             1.792475               \n",
      "25%                                             2.698541               \n",
      "50%                                             2.897523               \n",
      "75%                                             3.248664               \n",
      "max                                             4.918829               \n",
      "\n",
      "       Population ages 65 and above, male  \\\n",
      "count                        6.820000e+02   \n",
      "mean                         2.028107e+05   \n",
      "std                          2.585492e+05   \n",
      "min                          8.920000e+02   \n",
      "25%                          5.066450e+04   \n",
      "50%                          1.177615e+05   \n",
      "75%                          2.518782e+05   \n",
      "max                          1.717321e+06   \n",
      "\n",
      "       Population ages 65 and above, male (% of male population)  \\\n",
      "count                                         682.000000           \n",
      "mean                                            2.469956           \n",
      "std                                             0.426328           \n",
      "min                                             1.241898           \n",
      "25%                                             2.208552           \n",
      "50%                                             2.451027           \n",
      "75%                                             2.731990           \n",
      "max                                             4.066112           \n",
      "\n",
      "       Population ages 65 and above, total  \\\n",
      "count                         6.820000e+02   \n",
      "mean                          4.474328e+05   \n",
      "std                           5.609718e+05   \n",
      "min                           2.011000e+03   \n",
      "25%                           1.161545e+05   \n",
      "50%                           2.501105e+05   \n",
      "75%                           5.557108e+05   \n",
      "max                           3.774987e+06   \n",
      "\n",
      "       Population ages 65-69, female (% of female population)  \\\n",
      "count                                         682.000000        \n",
      "mean                                            1.272972        \n",
      "std                                             0.216570        \n",
      "min                                             0.720745        \n",
      "25%                                             1.158167        \n",
      "50%                                             1.272456        \n",
      "75%                                             1.388370        \n",
      "max                                             1.914789        \n",
      "\n",
      "       Population ages 65-69, male (% of male population)  \\\n",
      "count                                         682.000000    \n",
      "mean                                            1.110907    \n",
      "std                                             0.194997    \n",
      "min                                             0.542930    \n",
      "25%                                             0.990829    \n",
      "50%                                             1.111342    \n",
      "75%                                             1.242508    \n",
      "max                                             1.685525    \n",
      "\n",
      "       Population ages 70-74, female (% of female population)  \\\n",
      "count                                         682.000000        \n",
      "mean                                            0.853652        \n",
      "std                                             0.157230        \n",
      "min                                             0.463204        \n",
      "25%                                             0.770867        \n",
      "50%                                             0.836157        \n",
      "75%                                             0.939685        \n",
      "max                                             1.458502        \n",
      "\n",
      "       Population ages 70-74, male (% of male population)  \\\n",
      "count                                         682.000000    \n",
      "mean                                            0.717614    \n",
      "std                                             0.134754    \n",
      "min                                             0.331086    \n",
      "25%                                             0.636009    \n",
      "50%                                             0.705439    \n",
      "75%                                             0.809428    \n",
      "max                                             1.232015    \n",
      "\n",
      "       Population ages 75-79, female (% of female population)  \\\n",
      "count                                         682.000000        \n",
      "mean                                            0.498410        \n",
      "std                                             0.100795        \n",
      "min                                             0.257684        \n",
      "25%                                             0.438967        \n",
      "50%                                             0.489872        \n",
      "75%                                             0.554574        \n",
      "max                                             0.893982        \n",
      "\n",
      "       Population ages 75-79, male (% of male population)  \\\n",
      "count                                         682.000000    \n",
      "mean                                            0.396982    \n",
      "std                                             0.082643    \n",
      "min                                             0.170931    \n",
      "25%                                             0.339952    \n",
      "50%                                             0.389029    \n",
      "75%                                             0.444816    \n",
      "max                                             0.711617    \n",
      "\n",
      "       Population ages 80 and above, female (% of female population)  \\\n",
      "count                                         682.000000               \n",
      "mean                                            0.344730               \n",
      "std                                             0.101122               \n",
      "min                                             0.172668               \n",
      "25%                                             0.283235               \n",
      "50%                                             0.326103               \n",
      "75%                                             0.385746               \n",
      "max                                             0.799359               \n",
      "\n",
      "       Population ages 80 and above, male (% of male population)  \\\n",
      "count                                         682.000000           \n",
      "mean                                            0.244453           \n",
      "std                                             0.076597           \n",
      "min                                             0.096887           \n",
      "25%                                             0.189494           \n",
      "50%                                             0.235565           \n",
      "75%                                             0.283808           \n",
      "max                                             0.577104           \n",
      "\n",
      "       Population growth (annual %)  Population, female  \\\n",
      "count                    671.000000        6.820000e+02   \n",
      "mean                       2.823385        8.514434e+06   \n",
      "std                        1.974357        9.932561e+06   \n",
      "min                      -16.880630        4.338400e+04   \n",
      "25%                        2.395461        1.847587e+06   \n",
      "50%                        2.794138        4.948910e+06   \n",
      "75%                        3.335664        1.202894e+07   \n",
      "max                       16.625502        5.983962e+07   \n",
      "\n",
      "       Population, male (% of total population)  Population, total  \\\n",
      "count                                682.000000       6.820000e+02   \n",
      "mean                                  49.488520       1.692840e+07   \n",
      "std                                    0.547506       1.987739e+07   \n",
      "min                                   47.951580       8.594000e+04   \n",
      "25%                                   49.159122       3.637214e+06   \n",
      "50%                                   49.518086       9.788738e+06   \n",
      "75%                                   49.831306       2.390424e+07   \n",
      "max                                   50.978527       1.202830e+08   \n",
      "\n",
      "       Sex ratio at birth (male births per female births)  \\\n",
      "count                                         682.000000    \n",
      "mean                                            1.033801    \n",
      "std                                             0.011359    \n",
      "min                                             1.015000    \n",
      "25%                                             1.024000    \n",
      "50%                                             1.032000    \n",
      "75%                                             1.041000    \n",
      "max                                             1.064000    \n",
      "\n",
      "       Survival to age 65, female (% of cohort)  \\\n",
      "count                                682.000000   \n",
      "mean                                  47.141283   \n",
      "std                                   12.263826   \n",
      "min                                    0.046306   \n",
      "25%                                   39.534302   \n",
      "50%                                   46.724747   \n",
      "75%                                   54.824516   \n",
      "max                                   72.739505   \n",
      "\n",
      "       Survival to age 65, male (% of cohort)  \n",
      "count                              682.000000  \n",
      "mean                                39.673275  \n",
      "std                                 11.855431  \n",
      "min                                  0.000668  \n",
      "25%                                 32.392821  \n",
      "50%                                 40.131048  \n",
      "75%                                 47.407058  \n",
      "max                                 64.999723  \n"
     ]
    }
   ],
   "source": [
    "# Drop the 'Country' column and calculate summary statistics\n",
    "summary_df = df.drop(columns=['Country']).describe().transpose()\n",
    "\n",
    "# Rename the columns for better clarity\n",
    "summary_df.rename(columns={'mean': 'Average', 'min': 'Minimum', 'max': 'Maximum'}, inplace=False)\n",
    "\n",
    "# Transpose the summary DataFrame to have statistics as rows\n",
    "summary_df = summary_df.transpose()\n",
    "\n",
    "# Display the summary DataFrame\n",
    "print(summary_df)"
   ]
  },
  {
   "cell_type": "code",
   "execution_count": 8,
   "metadata": {},
   "outputs": [
    {
     "data": {
      "application/vnd.plotly.v1+json": {
       "config": {
        "plotlyServerURL": "https://plot.ly"
       },
       "data": [
        {
         "line": {
          "color": "#C10000",
          "width": 2
         },
         "mode": "lines",
         "name": "Population growth (annual %)",
         "type": "scatter",
         "x": [
          1960,
          1961,
          1962,
          1963,
          1964,
          1965,
          1966,
          1967,
          1968,
          1969,
          1970,
          1971,
          1972,
          1973,
          1974,
          1975,
          1976,
          1977,
          1978,
          1979,
          1980,
          1981,
          1982,
          1983,
          1984,
          1985,
          1986,
          1987,
          1988,
          1989,
          1990,
          1991,
          1992,
          1993,
          1994,
          1995,
          1996,
          1997,
          1998,
          1999,
          2000,
          2001,
          2002,
          2003,
          2004,
          2005,
          2006,
          2007,
          2008,
          2009,
          2010,
          2011,
          2012,
          2013,
          2014,
          2015,
          2016,
          2017,
          2018,
          2019,
          2020,
          2021
         ],
         "y": [
          null,
          2.75,
          2.8,
          2.81,
          2.98,
          3.06,
          2.98,
          2.99,
          3.01,
          3.06,
          3.1,
          3.15,
          2.95,
          2.97,
          3.31,
          3.41,
          3.46,
          3.5,
          3.9,
          4.21,
          3.78,
          3.11,
          2.96,
          3.04,
          2.96,
          3.04,
          3.17,
          3.16,
          2.49,
          2.28,
          2.91,
          1.91,
          0.89,
          1.81,
          1.17,
          1.52,
          3.89,
          3.39,
          2.73,
          2.65,
          2.79,
          2.94,
          3.01,
          3.06,
          3.07,
          2.93,
          2.88,
          2.93,
          3.03,
          3.02,
          2.95,
          2.73,
          2.61,
          2.68,
          2.42,
          2.22,
          2.18,
          2.05,
          2.19,
          2.44,
          2.46,
          2.38
         ]
        },
        {
         "line": {
          "color": "#00B945",
          "width": 2
         },
         "mode": "lines",
         "name": "Fertility rate, total (births per woman)",
         "type": "scatter",
         "x": [
          1960,
          1961,
          1962,
          1963,
          1964,
          1965,
          1966,
          1967,
          1968,
          1969,
          1970,
          1971,
          1972,
          1973,
          1974,
          1975,
          1976,
          1977,
          1978,
          1979,
          1980,
          1981,
          1982,
          1983,
          1984,
          1985,
          1986,
          1987,
          1988,
          1989,
          1990,
          1991,
          1992,
          1993,
          1994,
          1995,
          1996,
          1997,
          1998,
          1999,
          2000,
          2001,
          2002,
          2003,
          2004,
          2005,
          2006,
          2007,
          2008,
          2009,
          2010,
          2011,
          2012,
          2013,
          2014,
          2015,
          2016,
          2017,
          2018,
          2019,
          2020,
          2021
         ],
         "y": [
          7.03,
          7.04,
          7.06,
          7.08,
          7.1,
          7.12,
          7.14,
          7.15,
          7.16,
          7.17,
          7.18,
          7.19,
          7.19,
          7.18,
          7.18,
          7.18,
          7.17,
          7.17,
          7.17,
          7.15,
          7.13,
          7.11,
          7.08,
          7.07,
          7.05,
          7.04,
          7.01,
          6.97,
          6.92,
          6.87,
          6.8,
          6.73,
          6.67,
          6.6,
          6.54,
          6.48,
          6.42,
          6.36,
          6.28,
          6.21,
          6.14,
          6.07,
          6,
          5.9,
          5.8,
          5.7,
          5.6,
          5.52,
          5.42,
          5.32,
          5.22,
          5.11,
          5,
          4.92,
          4.85,
          4.78,
          4.71,
          4.63,
          4.56,
          4.48,
          4.41,
          4.33
         ]
        }
       ],
       "layout": {
        "font": {
         "color": "black",
         "family": "Arial, sans-serif",
         "size": 12
        },
        "legend": {
         "bgcolor": "#ffffff",
         "bordercolor": "#000000",
         "borderwidth": 1,
         "font": {
          "size": 12
         },
         "itemclick": "toggle",
         "itemdoubleclick": "toggleothers",
         "tracegroupgap": 10,
         "traceorder": "normal",
         "x": 0.02,
         "xanchor": "left",
         "y": 0.98,
         "yanchor": "top"
        },
        "margin": {
         "b": 50,
         "l": 50,
         "r": 50,
         "t": 80
        },
        "paper_bgcolor": "white",
        "plot_bgcolor": "white",
        "template": {
         "data": {
          "bar": [
           {
            "error_x": {
             "color": "#2a3f5f"
            },
            "error_y": {
             "color": "#2a3f5f"
            },
            "marker": {
             "line": {
              "color": "#E5ECF6",
              "width": 0.5
             },
             "pattern": {
              "fillmode": "overlay",
              "size": 10,
              "solidity": 0.2
             }
            },
            "type": "bar"
           }
          ],
          "barpolar": [
           {
            "marker": {
             "line": {
              "color": "#E5ECF6",
              "width": 0.5
             },
             "pattern": {
              "fillmode": "overlay",
              "size": 10,
              "solidity": 0.2
             }
            },
            "type": "barpolar"
           }
          ],
          "carpet": [
           {
            "aaxis": {
             "endlinecolor": "#2a3f5f",
             "gridcolor": "white",
             "linecolor": "white",
             "minorgridcolor": "white",
             "startlinecolor": "#2a3f5f"
            },
            "baxis": {
             "endlinecolor": "#2a3f5f",
             "gridcolor": "white",
             "linecolor": "white",
             "minorgridcolor": "white",
             "startlinecolor": "#2a3f5f"
            },
            "type": "carpet"
           }
          ],
          "choropleth": [
           {
            "colorbar": {
             "outlinewidth": 0,
             "ticks": ""
            },
            "type": "choropleth"
           }
          ],
          "contour": [
           {
            "colorbar": {
             "outlinewidth": 0,
             "ticks": ""
            },
            "colorscale": [
             [
              0,
              "#0d0887"
             ],
             [
              0.1111111111111111,
              "#46039f"
             ],
             [
              0.2222222222222222,
              "#7201a8"
             ],
             [
              0.3333333333333333,
              "#9c179e"
             ],
             [
              0.4444444444444444,
              "#bd3786"
             ],
             [
              0.5555555555555556,
              "#d8576b"
             ],
             [
              0.6666666666666666,
              "#ed7953"
             ],
             [
              0.7777777777777778,
              "#fb9f3a"
             ],
             [
              0.8888888888888888,
              "#fdca26"
             ],
             [
              1,
              "#f0f921"
             ]
            ],
            "type": "contour"
           }
          ],
          "contourcarpet": [
           {
            "colorbar": {
             "outlinewidth": 0,
             "ticks": ""
            },
            "type": "contourcarpet"
           }
          ],
          "heatmap": [
           {
            "colorbar": {
             "outlinewidth": 0,
             "ticks": ""
            },
            "colorscale": [
             [
              0,
              "#0d0887"
             ],
             [
              0.1111111111111111,
              "#46039f"
             ],
             [
              0.2222222222222222,
              "#7201a8"
             ],
             [
              0.3333333333333333,
              "#9c179e"
             ],
             [
              0.4444444444444444,
              "#bd3786"
             ],
             [
              0.5555555555555556,
              "#d8576b"
             ],
             [
              0.6666666666666666,
              "#ed7953"
             ],
             [
              0.7777777777777778,
              "#fb9f3a"
             ],
             [
              0.8888888888888888,
              "#fdca26"
             ],
             [
              1,
              "#f0f921"
             ]
            ],
            "type": "heatmap"
           }
          ],
          "heatmapgl": [
           {
            "colorbar": {
             "outlinewidth": 0,
             "ticks": ""
            },
            "colorscale": [
             [
              0,
              "#0d0887"
             ],
             [
              0.1111111111111111,
              "#46039f"
             ],
             [
              0.2222222222222222,
              "#7201a8"
             ],
             [
              0.3333333333333333,
              "#9c179e"
             ],
             [
              0.4444444444444444,
              "#bd3786"
             ],
             [
              0.5555555555555556,
              "#d8576b"
             ],
             [
              0.6666666666666666,
              "#ed7953"
             ],
             [
              0.7777777777777778,
              "#fb9f3a"
             ],
             [
              0.8888888888888888,
              "#fdca26"
             ],
             [
              1,
              "#f0f921"
             ]
            ],
            "type": "heatmapgl"
           }
          ],
          "histogram": [
           {
            "marker": {
             "pattern": {
              "fillmode": "overlay",
              "size": 10,
              "solidity": 0.2
             }
            },
            "type": "histogram"
           }
          ],
          "histogram2d": [
           {
            "colorbar": {
             "outlinewidth": 0,
             "ticks": ""
            },
            "colorscale": [
             [
              0,
              "#0d0887"
             ],
             [
              0.1111111111111111,
              "#46039f"
             ],
             [
              0.2222222222222222,
              "#7201a8"
             ],
             [
              0.3333333333333333,
              "#9c179e"
             ],
             [
              0.4444444444444444,
              "#bd3786"
             ],
             [
              0.5555555555555556,
              "#d8576b"
             ],
             [
              0.6666666666666666,
              "#ed7953"
             ],
             [
              0.7777777777777778,
              "#fb9f3a"
             ],
             [
              0.8888888888888888,
              "#fdca26"
             ],
             [
              1,
              "#f0f921"
             ]
            ],
            "type": "histogram2d"
           }
          ],
          "histogram2dcontour": [
           {
            "colorbar": {
             "outlinewidth": 0,
             "ticks": ""
            },
            "colorscale": [
             [
              0,
              "#0d0887"
             ],
             [
              0.1111111111111111,
              "#46039f"
             ],
             [
              0.2222222222222222,
              "#7201a8"
             ],
             [
              0.3333333333333333,
              "#9c179e"
             ],
             [
              0.4444444444444444,
              "#bd3786"
             ],
             [
              0.5555555555555556,
              "#d8576b"
             ],
             [
              0.6666666666666666,
              "#ed7953"
             ],
             [
              0.7777777777777778,
              "#fb9f3a"
             ],
             [
              0.8888888888888888,
              "#fdca26"
             ],
             [
              1,
              "#f0f921"
             ]
            ],
            "type": "histogram2dcontour"
           }
          ],
          "mesh3d": [
           {
            "colorbar": {
             "outlinewidth": 0,
             "ticks": ""
            },
            "type": "mesh3d"
           }
          ],
          "parcoords": [
           {
            "line": {
             "colorbar": {
              "outlinewidth": 0,
              "ticks": ""
             }
            },
            "type": "parcoords"
           }
          ],
          "pie": [
           {
            "automargin": true,
            "type": "pie"
           }
          ],
          "scatter": [
           {
            "fillpattern": {
             "fillmode": "overlay",
             "size": 10,
             "solidity": 0.2
            },
            "type": "scatter"
           }
          ],
          "scatter3d": [
           {
            "line": {
             "colorbar": {
              "outlinewidth": 0,
              "ticks": ""
             }
            },
            "marker": {
             "colorbar": {
              "outlinewidth": 0,
              "ticks": ""
             }
            },
            "type": "scatter3d"
           }
          ],
          "scattercarpet": [
           {
            "marker": {
             "colorbar": {
              "outlinewidth": 0,
              "ticks": ""
             }
            },
            "type": "scattercarpet"
           }
          ],
          "scattergeo": [
           {
            "marker": {
             "colorbar": {
              "outlinewidth": 0,
              "ticks": ""
             }
            },
            "type": "scattergeo"
           }
          ],
          "scattergl": [
           {
            "marker": {
             "colorbar": {
              "outlinewidth": 0,
              "ticks": ""
             }
            },
            "type": "scattergl"
           }
          ],
          "scattermapbox": [
           {
            "marker": {
             "colorbar": {
              "outlinewidth": 0,
              "ticks": ""
             }
            },
            "type": "scattermapbox"
           }
          ],
          "scatterpolar": [
           {
            "marker": {
             "colorbar": {
              "outlinewidth": 0,
              "ticks": ""
             }
            },
            "type": "scatterpolar"
           }
          ],
          "scatterpolargl": [
           {
            "marker": {
             "colorbar": {
              "outlinewidth": 0,
              "ticks": ""
             }
            },
            "type": "scatterpolargl"
           }
          ],
          "scatterternary": [
           {
            "marker": {
             "colorbar": {
              "outlinewidth": 0,
              "ticks": ""
             }
            },
            "type": "scatterternary"
           }
          ],
          "surface": [
           {
            "colorbar": {
             "outlinewidth": 0,
             "ticks": ""
            },
            "colorscale": [
             [
              0,
              "#0d0887"
             ],
             [
              0.1111111111111111,
              "#46039f"
             ],
             [
              0.2222222222222222,
              "#7201a8"
             ],
             [
              0.3333333333333333,
              "#9c179e"
             ],
             [
              0.4444444444444444,
              "#bd3786"
             ],
             [
              0.5555555555555556,
              "#d8576b"
             ],
             [
              0.6666666666666666,
              "#ed7953"
             ],
             [
              0.7777777777777778,
              "#fb9f3a"
             ],
             [
              0.8888888888888888,
              "#fdca26"
             ],
             [
              1,
              "#f0f921"
             ]
            ],
            "type": "surface"
           }
          ],
          "table": [
           {
            "cells": {
             "fill": {
              "color": "#EBF0F8"
             },
             "line": {
              "color": "white"
             }
            },
            "header": {
             "fill": {
              "color": "#C8D4E3"
             },
             "line": {
              "color": "white"
             }
            },
            "type": "table"
           }
          ]
         },
         "layout": {
          "annotationdefaults": {
           "arrowcolor": "#2a3f5f",
           "arrowhead": 0,
           "arrowwidth": 1
          },
          "autotypenumbers": "strict",
          "coloraxis": {
           "colorbar": {
            "outlinewidth": 0,
            "ticks": ""
           }
          },
          "colorscale": {
           "diverging": [
            [
             0,
             "#8e0152"
            ],
            [
             0.1,
             "#c51b7d"
            ],
            [
             0.2,
             "#de77ae"
            ],
            [
             0.3,
             "#f1b6da"
            ],
            [
             0.4,
             "#fde0ef"
            ],
            [
             0.5,
             "#f7f7f7"
            ],
            [
             0.6,
             "#e6f5d0"
            ],
            [
             0.7,
             "#b8e186"
            ],
            [
             0.8,
             "#7fbc41"
            ],
            [
             0.9,
             "#4d9221"
            ],
            [
             1,
             "#276419"
            ]
           ],
           "sequential": [
            [
             0,
             "#0d0887"
            ],
            [
             0.1111111111111111,
             "#46039f"
            ],
            [
             0.2222222222222222,
             "#7201a8"
            ],
            [
             0.3333333333333333,
             "#9c179e"
            ],
            [
             0.4444444444444444,
             "#bd3786"
            ],
            [
             0.5555555555555556,
             "#d8576b"
            ],
            [
             0.6666666666666666,
             "#ed7953"
            ],
            [
             0.7777777777777778,
             "#fb9f3a"
            ],
            [
             0.8888888888888888,
             "#fdca26"
            ],
            [
             1,
             "#f0f921"
            ]
           ],
           "sequentialminus": [
            [
             0,
             "#0d0887"
            ],
            [
             0.1111111111111111,
             "#46039f"
            ],
            [
             0.2222222222222222,
             "#7201a8"
            ],
            [
             0.3333333333333333,
             "#9c179e"
            ],
            [
             0.4444444444444444,
             "#bd3786"
            ],
            [
             0.5555555555555556,
             "#d8576b"
            ],
            [
             0.6666666666666666,
             "#ed7953"
            ],
            [
             0.7777777777777778,
             "#fb9f3a"
            ],
            [
             0.8888888888888888,
             "#fdca26"
            ],
            [
             1,
             "#f0f921"
            ]
           ]
          },
          "colorway": [
           "#636efa",
           "#EF553B",
           "#00cc96",
           "#ab63fa",
           "#FFA15A",
           "#19d3f3",
           "#FF6692",
           "#B6E880",
           "#FF97FF",
           "#FECB52"
          ],
          "font": {
           "color": "#2a3f5f"
          },
          "geo": {
           "bgcolor": "white",
           "lakecolor": "white",
           "landcolor": "#E5ECF6",
           "showlakes": true,
           "showland": true,
           "subunitcolor": "white"
          },
          "hoverlabel": {
           "align": "left"
          },
          "hovermode": "closest",
          "mapbox": {
           "style": "light"
          },
          "paper_bgcolor": "white",
          "plot_bgcolor": "#E5ECF6",
          "polar": {
           "angularaxis": {
            "gridcolor": "white",
            "linecolor": "white",
            "ticks": ""
           },
           "bgcolor": "#E5ECF6",
           "radialaxis": {
            "gridcolor": "white",
            "linecolor": "white",
            "ticks": ""
           }
          },
          "scene": {
           "xaxis": {
            "backgroundcolor": "#E5ECF6",
            "gridcolor": "white",
            "gridwidth": 2,
            "linecolor": "white",
            "showbackground": true,
            "ticks": "",
            "zerolinecolor": "white"
           },
           "yaxis": {
            "backgroundcolor": "#E5ECF6",
            "gridcolor": "white",
            "gridwidth": 2,
            "linecolor": "white",
            "showbackground": true,
            "ticks": "",
            "zerolinecolor": "white"
           },
           "zaxis": {
            "backgroundcolor": "#E5ECF6",
            "gridcolor": "white",
            "gridwidth": 2,
            "linecolor": "white",
            "showbackground": true,
            "ticks": "",
            "zerolinecolor": "white"
           }
          },
          "shapedefaults": {
           "line": {
            "color": "#2a3f5f"
           }
          },
          "ternary": {
           "aaxis": {
            "gridcolor": "white",
            "linecolor": "white",
            "ticks": ""
           },
           "baxis": {
            "gridcolor": "white",
            "linecolor": "white",
            "ticks": ""
           },
           "bgcolor": "#E5ECF6",
           "caxis": {
            "gridcolor": "white",
            "linecolor": "white",
            "ticks": ""
           }
          },
          "title": {
           "x": 0.05
          },
          "xaxis": {
           "automargin": true,
           "gridcolor": "white",
           "linecolor": "white",
           "ticks": "",
           "title": {
            "standoff": 15
           },
           "zerolinecolor": "white",
           "zerolinewidth": 2
          },
          "yaxis": {
           "automargin": true,
           "gridcolor": "white",
           "linecolor": "white",
           "ticks": "",
           "title": {
            "standoff": 15
           },
           "zerolinecolor": "white",
           "zerolinewidth": 2
          }
         }
        },
        "title": {
         "font": {
          "color": "#000000",
          "size": 24
         },
         "text": "Combined Statistics"
        },
        "xaxis": {
         "showgrid": true,
         "title": {
          "text": "Year"
         }
        },
        "yaxis": {
         "showgrid": false,
         "title": {
          "text": "Value"
         }
        }
       }
      }
     },
     "metadata": {},
     "output_type": "display_data"
    }
   ],
   "source": [
    "# Create a trace for each variable\n",
    "traces = []\n",
    "variables = ['Population growth (annual %)', 'Fertility rate, total (births per woman)']\n",
    "colors = ['#C10000', '#00B945', '#009EE3', '#FFEB00']\n",
    "\n",
    "for variable, color in zip(variables, colors):\n",
    "    trace = go.Scatter(\n",
    "        x=df_grouped['Year'],\n",
    "        y=df_grouped[variable],\n",
    "        mode='lines',\n",
    "        name=variable,\n",
    "        line=dict(color=color, width=2)\n",
    "    )\n",
    "    traces.append(trace)\n",
    "\n",
    "# Create the layout\n",
    "layout = go.Layout(\n",
    "    title='Combined Statistics',\n",
    "    xaxis=dict(title='Year', showgrid=True),\n",
    "    yaxis=dict(title='Value', showgrid=False),\n",
    "    plot_bgcolor='white',\n",
    "    paper_bgcolor='white',\n",
    "    font=dict(family='Arial', size=12, color='black'),\n",
    "    legend=dict(x=0.02, y=0.98, bgcolor='rgba(255, 255, 255, 0.8)', bordercolor='rgba(0, 0, 0, 0.2)', borderwidth=1)\n",
    ")\n",
    "\n",
    "# Create the figure and add the traces\n",
    "fig = go.Figure(data=traces, layout=layout)\n",
    "\n",
    "# Apply the Visual Capitalist style\n",
    "fig.update_layout(\n",
    "    font=dict(family='Arial, sans-serif'),\n",
    "    title_font=dict(size=24, color='#000000'),\n",
    "    legend_font=dict(size=12),\n",
    "    legend_itemclick='toggle',\n",
    "    legend_itemdoubleclick='toggleothers',\n",
    "    legend_traceorder='normal',\n",
    "    legend_tracegroupgap=10,\n",
    "    legend_bordercolor='#000000',\n",
    "    legend_borderwidth=1,\n",
    "    legend_bgcolor='#ffffff',\n",
    "    legend_xanchor='left',\n",
    "    legend_yanchor='top',\n",
    "    legend_x=0.02,\n",
    "    legend_y=0.98,\n",
    "    margin=dict(l=50, r=50, t=80, b=50),\n",
    ")\n",
    "\n",
    "# Display the plot\n",
    "fig.show()\n"
   ]
  },
  {
   "cell_type": "code",
   "execution_count": 81,
   "metadata": {},
   "outputs": [
    {
     "ename": "SyntaxError",
     "evalue": "expression cannot contain assignment, perhaps you meant \"==\"? (1722696067.py, line 25)",
     "output_type": "error",
     "traceback": [
      "\u001b[1;36m  Cell \u001b[1;32mIn[81], line 25\u001b[1;36m\u001b[0m\n\u001b[1;33m    layout.yaxis.gridcolor='#57731A',\u001b[0m\n\u001b[1;37m    ^\u001b[0m\n\u001b[1;31mSyntaxError\u001b[0m\u001b[1;31m:\u001b[0m expression cannot contain assignment, perhaps you meant \"==\"?\n"
     ]
    }
   ],
   "source": [
    "def create_line_chart(df_grouped,title,columns):\n",
    "    # create a trace for each variable\n",
    "    traces=[]\n",
    "    variables=columns\n",
    "    colors = ['#C10000', '#00B945']\n",
    "\n",
    "    for variable, color in zip(variables, colors):\n",
    "        trace = go.Scatter(\n",
    "            x=df_grouped['Year'],\n",
    "            y=df_grouped[variable],\n",
    "            mode='lines+markers',\n",
    "            name=variable,\n",
    "            line=dict(color=color, width=2)\n",
    "        )\n",
    "        traces.append(trace)\n",
    "    \n",
    "\n",
    "    # Create the layout\n",
    "    layout = go.Layout(\n",
    "        title=title,\n",
    "        xaxis=dict(title='Year', showgrid=False),\n",
    "        yaxis=dict(title='Life Expectancy', showgrid=True),\n",
    "        plot_bgcolor='#D99E91',\n",
    "        paper_bgcolor='#D99E91',\n",
    "        font=dict(family='Poppins', size=12, color='black'),\n",
    "        legend=dict(x=0.02, y=0.98, bgcolor='rgba(255, 255, 255, 0.8)', bordercolor='rgba(0, 0, 0, 0.2)', borderwidth=1)\n",
    "    )\n",
    "\n",
    "    # Create the figure and add the traces\n",
    "    fig = go.Figure(data=traces, layout=layout)\n",
    "\n",
    "    # Apply Style\n",
    "    fig.update_layout(\n",
    "        font=dict(family='Poppins'),\n",
    "        title_font=dict(size=24, color='#000000'),\n",
    "        legend_font=dict(size=12),\n",
    "        legend_itemclick='toggle',\n",
    "        legend_itemdoubleclick='toggleothers',\n",
    "        legend_traceorder='normal',\n",
    "        legend_tracegroupgap=10,\n",
    "        legend_bordercolor='#000000',\n",
    "        legend_borderwidth=1,\n",
    "        legend_bgcolor='#ffffff',\n",
    "        legend_xanchor='left',\n",
    "        legend_yanchor='top',\n",
    "        legend_x=0.02,\n",
    "        legend_y=0.98,\n",
    "        margin=dict(l=50, r=50, t=80, b=50),\n",
    "    )\n",
    "\n",
    "    # Display the plot\n",
    "    fig.show()"
   ]
  },
  {
   "cell_type": "code",
   "execution_count": 80,
   "metadata": {},
   "outputs": [
    {
     "data": {
      "application/vnd.plotly.v1+json": {
       "config": {
        "plotlyServerURL": "https://plot.ly"
       },
       "data": [
        {
         "line": {
          "color": "#C10000",
          "width": 2
         },
         "mode": "lines+markers",
         "name": "Life expectancy at birth, female (years)",
         "type": "scatter",
         "x": [
          1960,
          1961,
          1962,
          1963,
          1964,
          1965,
          1966,
          1967,
          1968,
          1969,
          1970,
          1971,
          1972,
          1973,
          1974,
          1975,
          1976,
          1977,
          1978,
          1979,
          1980,
          1981,
          1982,
          1983,
          1984,
          1985,
          1986,
          1987,
          1988,
          1989,
          1990,
          1991,
          1992,
          1993,
          1994,
          1995,
          1996,
          1997,
          1998,
          1999,
          2000,
          2001,
          2002,
          2003,
          2004,
          2005,
          2006,
          2007,
          2008,
          2009,
          2010,
          2011,
          2012,
          2013,
          2014,
          2015,
          2016,
          2017,
          2018,
          2019,
          2020,
          2021
         ],
         "y": [
          44.17,
          44.59,
          44.97,
          45.05,
          46.17,
          45.78,
          45.38,
          45.89,
          46.14,
          46.23,
          46.45,
          47.13,
          45.82,
          47.4,
          47.5,
          47.5,
          47.95,
          48.51,
          48.83,
          49.31,
          49.73,
          50.48,
          50.85,
          49.53,
          49.48,
          49.8,
          50.38,
          49.63,
          47.47,
          50.4,
          50.35,
          48.25,
          47.14,
          48.58,
          49.05,
          50.19,
          50.38,
          50.63,
          49.33,
          52.21,
          53.29,
          54,
          54.62,
          55.44,
          56.03,
          56.96,
          57.92,
          58.73,
          59.46,
          60.29,
          60.83,
          61.52,
          62.37,
          62.87,
          63.5,
          63.96,
          64.38,
          64.82,
          65.23,
          65.51,
          65.24,
          64.8
         ]
        },
        {
         "line": {
          "color": "#00B945",
          "width": 2
         },
         "mode": "lines+markers",
         "name": "Life expectancy at birth, male (years)",
         "type": "scatter",
         "x": [
          1960,
          1961,
          1962,
          1963,
          1964,
          1965,
          1966,
          1967,
          1968,
          1969,
          1970,
          1971,
          1972,
          1973,
          1974,
          1975,
          1976,
          1977,
          1978,
          1979,
          1980,
          1981,
          1982,
          1983,
          1984,
          1985,
          1986,
          1987,
          1988,
          1989,
          1990,
          1991,
          1992,
          1993,
          1994,
          1995,
          1996,
          1997,
          1998,
          1999,
          2000,
          2001,
          2002,
          2003,
          2004,
          2005,
          2006,
          2007,
          2008,
          2009,
          2010,
          2011,
          2012,
          2013,
          2014,
          2015,
          2016,
          2017,
          2018,
          2019,
          2020,
          2021
         ],
         "y": [
          40.89,
          41.31,
          41.69,
          41.24,
          42.69,
          42.01,
          41.59,
          42.03,
          42.27,
          42.3,
          42.55,
          43.26,
          41.78,
          44.01,
          44.15,
          44.25,
          44.54,
          44.96,
          45.12,
          45.66,
          45.93,
          46.51,
          46.77,
          45.34,
          45.1,
          45.46,
          46.07,
          44.96,
          42.38,
          45.56,
          45.51,
          43.73,
          42.59,
          44.19,
          45.63,
          46.26,
          46.51,
          46.79,
          44.37,
          47.4,
          49.98,
          50.82,
          51.59,
          52.5,
          53.09,
          53.84,
          54.88,
          55.53,
          56.12,
          56.84,
          57.27,
          57.78,
          58.46,
          58.9,
          59.17,
          59.66,
          59.99,
          60.41,
          60.85,
          61.18,
          60.7,
          60.22
         ]
        }
       ],
       "layout": {
        "font": {
         "color": "black",
         "family": "Poppins",
         "size": 12
        },
        "legend": {
         "bgcolor": "#ffffff",
         "bordercolor": "#000000",
         "borderwidth": 1,
         "font": {
          "size": 12
         },
         "itemclick": "toggle",
         "itemdoubleclick": "toggleothers",
         "tracegroupgap": 10,
         "traceorder": "normal",
         "x": 0.02,
         "xanchor": "left",
         "y": 0.98,
         "yanchor": "top"
        },
        "margin": {
         "b": 50,
         "l": 50,
         "r": 50,
         "t": 80
        },
        "paper_bgcolor": "#D99E91",
        "plot_bgcolor": "#D99E91",
        "template": {
         "data": {
          "bar": [
           {
            "error_x": {
             "color": "#2a3f5f"
            },
            "error_y": {
             "color": "#2a3f5f"
            },
            "marker": {
             "line": {
              "color": "#E5ECF6",
              "width": 0.5
             },
             "pattern": {
              "fillmode": "overlay",
              "size": 10,
              "solidity": 0.2
             }
            },
            "type": "bar"
           }
          ],
          "barpolar": [
           {
            "marker": {
             "line": {
              "color": "#E5ECF6",
              "width": 0.5
             },
             "pattern": {
              "fillmode": "overlay",
              "size": 10,
              "solidity": 0.2
             }
            },
            "type": "barpolar"
           }
          ],
          "carpet": [
           {
            "aaxis": {
             "endlinecolor": "#2a3f5f",
             "gridcolor": "white",
             "linecolor": "white",
             "minorgridcolor": "white",
             "startlinecolor": "#2a3f5f"
            },
            "baxis": {
             "endlinecolor": "#2a3f5f",
             "gridcolor": "white",
             "linecolor": "white",
             "minorgridcolor": "white",
             "startlinecolor": "#2a3f5f"
            },
            "type": "carpet"
           }
          ],
          "choropleth": [
           {
            "colorbar": {
             "outlinewidth": 0,
             "ticks": ""
            },
            "type": "choropleth"
           }
          ],
          "contour": [
           {
            "colorbar": {
             "outlinewidth": 0,
             "ticks": ""
            },
            "colorscale": [
             [
              0,
              "#0d0887"
             ],
             [
              0.1111111111111111,
              "#46039f"
             ],
             [
              0.2222222222222222,
              "#7201a8"
             ],
             [
              0.3333333333333333,
              "#9c179e"
             ],
             [
              0.4444444444444444,
              "#bd3786"
             ],
             [
              0.5555555555555556,
              "#d8576b"
             ],
             [
              0.6666666666666666,
              "#ed7953"
             ],
             [
              0.7777777777777778,
              "#fb9f3a"
             ],
             [
              0.8888888888888888,
              "#fdca26"
             ],
             [
              1,
              "#f0f921"
             ]
            ],
            "type": "contour"
           }
          ],
          "contourcarpet": [
           {
            "colorbar": {
             "outlinewidth": 0,
             "ticks": ""
            },
            "type": "contourcarpet"
           }
          ],
          "heatmap": [
           {
            "colorbar": {
             "outlinewidth": 0,
             "ticks": ""
            },
            "colorscale": [
             [
              0,
              "#0d0887"
             ],
             [
              0.1111111111111111,
              "#46039f"
             ],
             [
              0.2222222222222222,
              "#7201a8"
             ],
             [
              0.3333333333333333,
              "#9c179e"
             ],
             [
              0.4444444444444444,
              "#bd3786"
             ],
             [
              0.5555555555555556,
              "#d8576b"
             ],
             [
              0.6666666666666666,
              "#ed7953"
             ],
             [
              0.7777777777777778,
              "#fb9f3a"
             ],
             [
              0.8888888888888888,
              "#fdca26"
             ],
             [
              1,
              "#f0f921"
             ]
            ],
            "type": "heatmap"
           }
          ],
          "heatmapgl": [
           {
            "colorbar": {
             "outlinewidth": 0,
             "ticks": ""
            },
            "colorscale": [
             [
              0,
              "#0d0887"
             ],
             [
              0.1111111111111111,
              "#46039f"
             ],
             [
              0.2222222222222222,
              "#7201a8"
             ],
             [
              0.3333333333333333,
              "#9c179e"
             ],
             [
              0.4444444444444444,
              "#bd3786"
             ],
             [
              0.5555555555555556,
              "#d8576b"
             ],
             [
              0.6666666666666666,
              "#ed7953"
             ],
             [
              0.7777777777777778,
              "#fb9f3a"
             ],
             [
              0.8888888888888888,
              "#fdca26"
             ],
             [
              1,
              "#f0f921"
             ]
            ],
            "type": "heatmapgl"
           }
          ],
          "histogram": [
           {
            "marker": {
             "pattern": {
              "fillmode": "overlay",
              "size": 10,
              "solidity": 0.2
             }
            },
            "type": "histogram"
           }
          ],
          "histogram2d": [
           {
            "colorbar": {
             "outlinewidth": 0,
             "ticks": ""
            },
            "colorscale": [
             [
              0,
              "#0d0887"
             ],
             [
              0.1111111111111111,
              "#46039f"
             ],
             [
              0.2222222222222222,
              "#7201a8"
             ],
             [
              0.3333333333333333,
              "#9c179e"
             ],
             [
              0.4444444444444444,
              "#bd3786"
             ],
             [
              0.5555555555555556,
              "#d8576b"
             ],
             [
              0.6666666666666666,
              "#ed7953"
             ],
             [
              0.7777777777777778,
              "#fb9f3a"
             ],
             [
              0.8888888888888888,
              "#fdca26"
             ],
             [
              1,
              "#f0f921"
             ]
            ],
            "type": "histogram2d"
           }
          ],
          "histogram2dcontour": [
           {
            "colorbar": {
             "outlinewidth": 0,
             "ticks": ""
            },
            "colorscale": [
             [
              0,
              "#0d0887"
             ],
             [
              0.1111111111111111,
              "#46039f"
             ],
             [
              0.2222222222222222,
              "#7201a8"
             ],
             [
              0.3333333333333333,
              "#9c179e"
             ],
             [
              0.4444444444444444,
              "#bd3786"
             ],
             [
              0.5555555555555556,
              "#d8576b"
             ],
             [
              0.6666666666666666,
              "#ed7953"
             ],
             [
              0.7777777777777778,
              "#fb9f3a"
             ],
             [
              0.8888888888888888,
              "#fdca26"
             ],
             [
              1,
              "#f0f921"
             ]
            ],
            "type": "histogram2dcontour"
           }
          ],
          "mesh3d": [
           {
            "colorbar": {
             "outlinewidth": 0,
             "ticks": ""
            },
            "type": "mesh3d"
           }
          ],
          "parcoords": [
           {
            "line": {
             "colorbar": {
              "outlinewidth": 0,
              "ticks": ""
             }
            },
            "type": "parcoords"
           }
          ],
          "pie": [
           {
            "automargin": true,
            "type": "pie"
           }
          ],
          "scatter": [
           {
            "fillpattern": {
             "fillmode": "overlay",
             "size": 10,
             "solidity": 0.2
            },
            "type": "scatter"
           }
          ],
          "scatter3d": [
           {
            "line": {
             "colorbar": {
              "outlinewidth": 0,
              "ticks": ""
             }
            },
            "marker": {
             "colorbar": {
              "outlinewidth": 0,
              "ticks": ""
             }
            },
            "type": "scatter3d"
           }
          ],
          "scattercarpet": [
           {
            "marker": {
             "colorbar": {
              "outlinewidth": 0,
              "ticks": ""
             }
            },
            "type": "scattercarpet"
           }
          ],
          "scattergeo": [
           {
            "marker": {
             "colorbar": {
              "outlinewidth": 0,
              "ticks": ""
             }
            },
            "type": "scattergeo"
           }
          ],
          "scattergl": [
           {
            "marker": {
             "colorbar": {
              "outlinewidth": 0,
              "ticks": ""
             }
            },
            "type": "scattergl"
           }
          ],
          "scattermapbox": [
           {
            "marker": {
             "colorbar": {
              "outlinewidth": 0,
              "ticks": ""
             }
            },
            "type": "scattermapbox"
           }
          ],
          "scatterpolar": [
           {
            "marker": {
             "colorbar": {
              "outlinewidth": 0,
              "ticks": ""
             }
            },
            "type": "scatterpolar"
           }
          ],
          "scatterpolargl": [
           {
            "marker": {
             "colorbar": {
              "outlinewidth": 0,
              "ticks": ""
             }
            },
            "type": "scatterpolargl"
           }
          ],
          "scatterternary": [
           {
            "marker": {
             "colorbar": {
              "outlinewidth": 0,
              "ticks": ""
             }
            },
            "type": "scatterternary"
           }
          ],
          "surface": [
           {
            "colorbar": {
             "outlinewidth": 0,
             "ticks": ""
            },
            "colorscale": [
             [
              0,
              "#0d0887"
             ],
             [
              0.1111111111111111,
              "#46039f"
             ],
             [
              0.2222222222222222,
              "#7201a8"
             ],
             [
              0.3333333333333333,
              "#9c179e"
             ],
             [
              0.4444444444444444,
              "#bd3786"
             ],
             [
              0.5555555555555556,
              "#d8576b"
             ],
             [
              0.6666666666666666,
              "#ed7953"
             ],
             [
              0.7777777777777778,
              "#fb9f3a"
             ],
             [
              0.8888888888888888,
              "#fdca26"
             ],
             [
              1,
              "#f0f921"
             ]
            ],
            "type": "surface"
           }
          ],
          "table": [
           {
            "cells": {
             "fill": {
              "color": "#EBF0F8"
             },
             "line": {
              "color": "white"
             }
            },
            "header": {
             "fill": {
              "color": "#C8D4E3"
             },
             "line": {
              "color": "white"
             }
            },
            "type": "table"
           }
          ]
         },
         "layout": {
          "annotationdefaults": {
           "arrowcolor": "#2a3f5f",
           "arrowhead": 0,
           "arrowwidth": 1
          },
          "autotypenumbers": "strict",
          "coloraxis": {
           "colorbar": {
            "outlinewidth": 0,
            "ticks": ""
           }
          },
          "colorscale": {
           "diverging": [
            [
             0,
             "#8e0152"
            ],
            [
             0.1,
             "#c51b7d"
            ],
            [
             0.2,
             "#de77ae"
            ],
            [
             0.3,
             "#f1b6da"
            ],
            [
             0.4,
             "#fde0ef"
            ],
            [
             0.5,
             "#f7f7f7"
            ],
            [
             0.6,
             "#e6f5d0"
            ],
            [
             0.7,
             "#b8e186"
            ],
            [
             0.8,
             "#7fbc41"
            ],
            [
             0.9,
             "#4d9221"
            ],
            [
             1,
             "#276419"
            ]
           ],
           "sequential": [
            [
             0,
             "#0d0887"
            ],
            [
             0.1111111111111111,
             "#46039f"
            ],
            [
             0.2222222222222222,
             "#7201a8"
            ],
            [
             0.3333333333333333,
             "#9c179e"
            ],
            [
             0.4444444444444444,
             "#bd3786"
            ],
            [
             0.5555555555555556,
             "#d8576b"
            ],
            [
             0.6666666666666666,
             "#ed7953"
            ],
            [
             0.7777777777777778,
             "#fb9f3a"
            ],
            [
             0.8888888888888888,
             "#fdca26"
            ],
            [
             1,
             "#f0f921"
            ]
           ],
           "sequentialminus": [
            [
             0,
             "#0d0887"
            ],
            [
             0.1111111111111111,
             "#46039f"
            ],
            [
             0.2222222222222222,
             "#7201a8"
            ],
            [
             0.3333333333333333,
             "#9c179e"
            ],
            [
             0.4444444444444444,
             "#bd3786"
            ],
            [
             0.5555555555555556,
             "#d8576b"
            ],
            [
             0.6666666666666666,
             "#ed7953"
            ],
            [
             0.7777777777777778,
             "#fb9f3a"
            ],
            [
             0.8888888888888888,
             "#fdca26"
            ],
            [
             1,
             "#f0f921"
            ]
           ]
          },
          "colorway": [
           "#636efa",
           "#EF553B",
           "#00cc96",
           "#ab63fa",
           "#FFA15A",
           "#19d3f3",
           "#FF6692",
           "#B6E880",
           "#FF97FF",
           "#FECB52"
          ],
          "font": {
           "color": "#2a3f5f"
          },
          "geo": {
           "bgcolor": "white",
           "lakecolor": "white",
           "landcolor": "#E5ECF6",
           "showlakes": true,
           "showland": true,
           "subunitcolor": "white"
          },
          "hoverlabel": {
           "align": "left"
          },
          "hovermode": "closest",
          "mapbox": {
           "style": "light"
          },
          "paper_bgcolor": "white",
          "plot_bgcolor": "#E5ECF6",
          "polar": {
           "angularaxis": {
            "gridcolor": "white",
            "linecolor": "white",
            "ticks": ""
           },
           "bgcolor": "#E5ECF6",
           "radialaxis": {
            "gridcolor": "white",
            "linecolor": "white",
            "ticks": ""
           }
          },
          "scene": {
           "xaxis": {
            "backgroundcolor": "#E5ECF6",
            "gridcolor": "white",
            "gridwidth": 2,
            "linecolor": "white",
            "showbackground": true,
            "ticks": "",
            "zerolinecolor": "white"
           },
           "yaxis": {
            "backgroundcolor": "#E5ECF6",
            "gridcolor": "white",
            "gridwidth": 2,
            "linecolor": "white",
            "showbackground": true,
            "ticks": "",
            "zerolinecolor": "white"
           },
           "zaxis": {
            "backgroundcolor": "#E5ECF6",
            "gridcolor": "white",
            "gridwidth": 2,
            "linecolor": "white",
            "showbackground": true,
            "ticks": "",
            "zerolinecolor": "white"
           }
          },
          "shapedefaults": {
           "line": {
            "color": "#2a3f5f"
           }
          },
          "ternary": {
           "aaxis": {
            "gridcolor": "white",
            "linecolor": "white",
            "ticks": ""
           },
           "baxis": {
            "gridcolor": "white",
            "linecolor": "white",
            "ticks": ""
           },
           "bgcolor": "#E5ECF6",
           "caxis": {
            "gridcolor": "white",
            "linecolor": "white",
            "ticks": ""
           }
          },
          "title": {
           "x": 0.05
          },
          "xaxis": {
           "automargin": true,
           "gridcolor": "white",
           "linecolor": "white",
           "ticks": "",
           "title": {
            "standoff": 15
           },
           "zerolinecolor": "white",
           "zerolinewidth": 2
          },
          "yaxis": {
           "automargin": true,
           "gridcolor": "white",
           "linecolor": "white",
           "ticks": "",
           "title": {
            "standoff": 15
           },
           "zerolinecolor": "white",
           "zerolinewidth": 2
          }
         }
        },
        "title": {
         "font": {
          "color": "#000000",
          "size": 24
         },
         "text": "Average Life Expectancy in East Africa"
        },
        "xaxis": {
         "showgrid": false,
         "title": {
          "text": "Year"
         }
        },
        "yaxis": {
         "showgrid": true,
         "title": {
          "text": "Life Expectancy"
         }
        }
       }
      }
     },
     "metadata": {},
     "output_type": "display_data"
    }
   ],
   "source": [
    "# Extract the required columns\n",
    "columns = ['Year','Life expectancy at birth, female (years)', 'Life expectancy at birth, male (years)']\n",
    "df_selected = df[columns]\n",
    "# Group the data by year and calculate the mean values\n",
    "df_grouped = df_selected.groupby('Year').mean().round(2).reset_index()\n",
    "\n",
    "df_grouped\n",
    "\n",
    "create_line_chart(df_grouped,'Average Life Expectancy in East Africa',columns[1:])"
   ]
  }
 ],
 "metadata": {
  "kernelspec": {
   "display_name": ".venv",
   "language": "python",
   "name": "python3"
  },
  "language_info": {
   "codemirror_mode": {
    "name": "ipython",
    "version": 3
   },
   "file_extension": ".py",
   "mimetype": "text/x-python",
   "name": "python",
   "nbconvert_exporter": "python",
   "pygments_lexer": "ipython3",
   "version": "3.9.7"
  },
  "orig_nbformat": 4
 },
 "nbformat": 4,
 "nbformat_minor": 2
}
