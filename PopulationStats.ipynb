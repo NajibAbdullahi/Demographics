{
 "cells": [
  {
   "cell_type": "markdown",
   "metadata": {},
   "source": [
    "# Population & General Demographics in East Africa\n",
    "***\n",
    "<img src=\"https://images.unsplash.com/photo-1560091129-27a0e2af124b?ixlib=rb-4.0.3&ixid=M3wxMjA3fDB8MHxwaG90by1wYWdlfHx8fGVufDB8fHx8fA%3D%3D&auto=format&fit=crop&w=3570&q=80\" alt=\"crowded street\" style=\"width:500px;\">"
   ]
  },
  {
   "cell_type": "markdown",
   "metadata": {},
   "source": [
    "<a id=\"WebScraping\"><h2>Web Scraping</h2></a>\n",
    "***\n",
    "<a id=\"ScraperImport\"><h3>Importing Libraries</h3></a>"
   ]
  },
  {
   "cell_type": "code",
   "execution_count": 8,
   "metadata": {},
   "outputs": [],
   "source": [
    "import pandas as pd\n",
    "from selenium import webdriver\n",
    "from selenium.webdriver.common.keys import Keys\n",
    "from selenium.webdriver.common.by import By\n",
    "import time\n",
    "import warnings\n",
    "warnings.filterwarnings('ignore')"
   ]
  },
  {
   "cell_type": "markdown",
   "metadata": {},
   "source": [
    "<a id=\"Setup\"><h3>Browser Setup</h3></a>"
   ]
  },
  {
   "cell_type": "code",
   "execution_count": 9,
   "metadata": {},
   "outputs": [],
   "source": [
    "path=\"https://data.humdata.org/\"\n",
    "folder=r\"C:\\Users\\NAJIB\\Documents\\Data Analysis\\EastAfrica\\Data\"\n",
    "options=webdriver.ChromeOptions();\n",
    "prefs={\"download.default_directory\":folder};\n",
    "options.add_experimental_option(\"prefs\",prefs);\n",
    "driver = webdriver.Chrome()\n",
    "driver.get(path)"
   ]
  },
  {
   "cell_type": "markdown",
   "metadata": {},
   "source": [
    "<a id=\"downloading\"><h3>Downloading Country Specific Data</h3></a>"
   ]
  },
  {
   "cell_type": "code",
   "execution_count": 10,
   "metadata": {},
   "outputs": [],
   "source": [
    "countries=['Somalia','Kenya','Ethiopia','Sudan', 'South Sudan','Eritrea','Djibouti','Rwanda','Uganda',\n",
    "           'Burundi','Tanzania']"
   ]
  },
  {
   "cell_type": "code",
   "execution_count": 11,
   "metadata": {},
   "outputs": [
    {
     "ename": "ElementClickInterceptedException",
     "evalue": "Message: element click intercepted: Element <a href=\"/dataset/a8ddedde-1e59-4967-8a66-cdb0cb360c67/resource/2a0d6690-8728-4ec5-9733-c63cc88153c5/download/health_som.csv\" class=\"btn btn-empty btn-empty-blue hdx-btn resource-url-analytics ga-download\" title=\"Download\" tracking-type=\"upload\" onclick=\"showDataUseSurveyPopup('2a0d6690-8728-4ec5-9733-c63cc88153c5', '');return true;\">...</a> is not clickable at point (953, 633). Other element would receive the click: <div id=\"hdx-dataset-banner\" class=\"bottom-banner\" style=\"\">...</div>\n  (Session info: chrome=114.0.5735.199)\nStacktrace:\nBacktrace:\n\tGetHandleVerifier [0x00B2A813+48355]\n\t(No symbol) [0x00ABC4B1]\n\t(No symbol) [0x009C5358]\n\t(No symbol) [0x009F5062]\n\t(No symbol) [0x009F3B98]\n\t(No symbol) [0x009F239B]\n\t(No symbol) [0x009F179E]\n\t(No symbol) [0x009E9F5C]\n\t(No symbol) [0x00A0A73C]\n\t(No symbol) [0x009E9A36]\n\t(No symbol) [0x00A0AA94]\n\t(No symbol) [0x00A1C922]\n\t(No symbol) [0x00A0A536]\n\t(No symbol) [0x009E82DC]\n\t(No symbol) [0x009E93DD]\n\tGetHandleVerifier [0x00D8AABD+2539405]\n\tGetHandleVerifier [0x00DCA78F+2800735]\n\tGetHandleVerifier [0x00DC456C+2775612]\n\tGetHandleVerifier [0x00BB51E0+616112]\n\t(No symbol) [0x00AC5F8C]\n\t(No symbol) [0x00AC2328]\n\t(No symbol) [0x00AC240B]\n\t(No symbol) [0x00AB4FF7]\n\tBaseThreadInitThunk [0x76A87D59+25]\n\tRtlInitializeExceptionChain [0x7708B79B+107]\n\tRtlClearBits [0x7708B71F+191]\n",
     "output_type": "error",
     "traceback": [
      "\u001b[1;31m---------------------------------------------------------------------------\u001b[0m",
      "\u001b[1;31mElementClickInterceptedException\u001b[0m          Traceback (most recent call last)",
      "Cell \u001b[1;32mIn[11], line 5\u001b[0m\n\u001b[0;32m      3\u001b[0m driver\u001b[39m.\u001b[39mfind_element(By\u001b[39m.\u001b[39mCLASS_NAME,\u001b[39m'\u001b[39m\u001b[39mbutton\u001b[39m\u001b[39m'\u001b[39m)\u001b[39m.\u001b[39msend_keys(Keys\u001b[39m.\u001b[39mENTER)\n\u001b[0;32m      4\u001b[0m country_indicator_link\u001b[39m=\u001b[39mdriver\u001b[39m.\u001b[39mfind_element(By\u001b[39m.\u001b[39mXPATH,\u001b[39m'\u001b[39m\u001b[39m/html/body/div[7]/div/div[3]/div/div/div/div/div/div/section/div[1]/div[2]/div/div/ul/li[1]/div/div/div/div[1]/div[1]/a\u001b[39m\u001b[39m'\u001b[39m)\u001b[39m.\u001b[39mclick()\n\u001b[1;32m----> 5\u001b[0m country_indicator_download\u001b[39m=\u001b[39mdriver\u001b[39m.\u001b[39;49mfind_element(By\u001b[39m.\u001b[39;49mXPATH,\u001b[39m'\u001b[39;49m\u001b[39m/html/body/div[7]/div/div[3]/div/div[2]/div/div/div[2]/div[3]/div[1]/div/ul/li[1]/div[3]/a[1]\u001b[39;49m\u001b[39m'\u001b[39;49m)\u001b[39m.\u001b[39;49mclick()\n\u001b[0;32m      6\u001b[0m home_btn\u001b[39m=\u001b[39mdriver\u001b[39m.\u001b[39mfind_element(By\u001b[39m.\u001b[39mXPATH,\u001b[39m'\u001b[39m\u001b[39m/html/body/div[6]/div/nav/div[2]/div/div[1]/div[1]/a\u001b[39m\u001b[39m'\u001b[39m)\u001b[39m.\u001b[39mclick()\n",
      "File \u001b[1;32mc:\\Users\\Najib\\OneDrive - University of East London\\Documents\\EastAfrica\\.venv\\lib\\site-packages\\selenium\\webdriver\\remote\\webelement.py:94\u001b[0m, in \u001b[0;36mWebElement.click\u001b[1;34m(self)\u001b[0m\n\u001b[0;32m     92\u001b[0m \u001b[39mdef\u001b[39;00m \u001b[39mclick\u001b[39m(\u001b[39mself\u001b[39m) \u001b[39m-\u001b[39m\u001b[39m>\u001b[39m \u001b[39mNone\u001b[39;00m:\n\u001b[0;32m     93\u001b[0m \u001b[39m    \u001b[39m\u001b[39m\"\"\"Clicks the element.\"\"\"\u001b[39;00m\n\u001b[1;32m---> 94\u001b[0m     \u001b[39mself\u001b[39;49m\u001b[39m.\u001b[39;49m_execute(Command\u001b[39m.\u001b[39;49mCLICK_ELEMENT)\n",
      "File \u001b[1;32mc:\\Users\\Najib\\OneDrive - University of East London\\Documents\\EastAfrica\\.venv\\lib\\site-packages\\selenium\\webdriver\\remote\\webelement.py:395\u001b[0m, in \u001b[0;36mWebElement._execute\u001b[1;34m(self, command, params)\u001b[0m\n\u001b[0;32m    393\u001b[0m     params \u001b[39m=\u001b[39m {}\n\u001b[0;32m    394\u001b[0m params[\u001b[39m\"\u001b[39m\u001b[39mid\u001b[39m\u001b[39m\"\u001b[39m] \u001b[39m=\u001b[39m \u001b[39mself\u001b[39m\u001b[39m.\u001b[39m_id\n\u001b[1;32m--> 395\u001b[0m \u001b[39mreturn\u001b[39;00m \u001b[39mself\u001b[39;49m\u001b[39m.\u001b[39;49m_parent\u001b[39m.\u001b[39;49mexecute(command, params)\n",
      "File \u001b[1;32mc:\\Users\\Najib\\OneDrive - University of East London\\Documents\\EastAfrica\\.venv\\lib\\site-packages\\selenium\\webdriver\\remote\\webdriver.py:346\u001b[0m, in \u001b[0;36mWebDriver.execute\u001b[1;34m(self, driver_command, params)\u001b[0m\n\u001b[0;32m    344\u001b[0m response \u001b[39m=\u001b[39m \u001b[39mself\u001b[39m\u001b[39m.\u001b[39mcommand_executor\u001b[39m.\u001b[39mexecute(driver_command, params)\n\u001b[0;32m    345\u001b[0m \u001b[39mif\u001b[39;00m response:\n\u001b[1;32m--> 346\u001b[0m     \u001b[39mself\u001b[39;49m\u001b[39m.\u001b[39;49merror_handler\u001b[39m.\u001b[39;49mcheck_response(response)\n\u001b[0;32m    347\u001b[0m     response[\u001b[39m\"\u001b[39m\u001b[39mvalue\u001b[39m\u001b[39m\"\u001b[39m] \u001b[39m=\u001b[39m \u001b[39mself\u001b[39m\u001b[39m.\u001b[39m_unwrap_value(response\u001b[39m.\u001b[39mget(\u001b[39m\"\u001b[39m\u001b[39mvalue\u001b[39m\u001b[39m\"\u001b[39m, \u001b[39mNone\u001b[39;00m))\n\u001b[0;32m    348\u001b[0m     \u001b[39mreturn\u001b[39;00m response\n",
      "File \u001b[1;32mc:\\Users\\Najib\\OneDrive - University of East London\\Documents\\EastAfrica\\.venv\\lib\\site-packages\\selenium\\webdriver\\remote\\errorhandler.py:245\u001b[0m, in \u001b[0;36mErrorHandler.check_response\u001b[1;34m(self, response)\u001b[0m\n\u001b[0;32m    243\u001b[0m         alert_text \u001b[39m=\u001b[39m value[\u001b[39m\"\u001b[39m\u001b[39malert\u001b[39m\u001b[39m\"\u001b[39m]\u001b[39m.\u001b[39mget(\u001b[39m\"\u001b[39m\u001b[39mtext\u001b[39m\u001b[39m\"\u001b[39m)\n\u001b[0;32m    244\u001b[0m     \u001b[39mraise\u001b[39;00m exception_class(message, screen, stacktrace, alert_text)  \u001b[39m# type: ignore[call-arg]  # mypy is not smart enough here\u001b[39;00m\n\u001b[1;32m--> 245\u001b[0m \u001b[39mraise\u001b[39;00m exception_class(message, screen, stacktrace)\n",
      "\u001b[1;31mElementClickInterceptedException\u001b[0m: Message: element click intercepted: Element <a href=\"/dataset/a8ddedde-1e59-4967-8a66-cdb0cb360c67/resource/2a0d6690-8728-4ec5-9733-c63cc88153c5/download/health_som.csv\" class=\"btn btn-empty btn-empty-blue hdx-btn resource-url-analytics ga-download\" title=\"Download\" tracking-type=\"upload\" onclick=\"showDataUseSurveyPopup('2a0d6690-8728-4ec5-9733-c63cc88153c5', '');return true;\">...</a> is not clickable at point (953, 633). Other element would receive the click: <div id=\"hdx-dataset-banner\" class=\"bottom-banner\" style=\"\">...</div>\n  (Session info: chrome=114.0.5735.199)\nStacktrace:\nBacktrace:\n\tGetHandleVerifier [0x00B2A813+48355]\n\t(No symbol) [0x00ABC4B1]\n\t(No symbol) [0x009C5358]\n\t(No symbol) [0x009F5062]\n\t(No symbol) [0x009F3B98]\n\t(No symbol) [0x009F239B]\n\t(No symbol) [0x009F179E]\n\t(No symbol) [0x009E9F5C]\n\t(No symbol) [0x00A0A73C]\n\t(No symbol) [0x009E9A36]\n\t(No symbol) [0x00A0AA94]\n\t(No symbol) [0x00A1C922]\n\t(No symbol) [0x00A0A536]\n\t(No symbol) [0x009E82DC]\n\t(No symbol) [0x009E93DD]\n\tGetHandleVerifier [0x00D8AABD+2539405]\n\tGetHandleVerifier [0x00DCA78F+2800735]\n\tGetHandleVerifier [0x00DC456C+2775612]\n\tGetHandleVerifier [0x00BB51E0+616112]\n\t(No symbol) [0x00AC5F8C]\n\t(No symbol) [0x00AC2328]\n\t(No symbol) [0x00AC240B]\n\t(No symbol) [0x00AB4FF7]\n\tBaseThreadInitThunk [0x76A87D59+25]\n\tRtlInitializeExceptionChain [0x7708B79B+107]\n\tRtlClearBits [0x7708B71F+191]\n"
     ]
    }
   ],
   "source": [
    "for country in countries:\n",
    "    searchInput=driver.find_element(By.ID, \"q2\").send_keys(f'{country} - Health')\n",
    "    driver.find_element(By.CLASS_NAME,'button').send_keys(Keys.ENTER)\n",
    "    country_indicator_link=driver.find_element(By.XPATH,'/html/body/div[7]/div/div[3]/div/div/div/div/div/div/section/div[1]/div[2]/div/div/ul/li[1]/div/div/div/div[1]/div[1]/a').click()\n",
    "    country_indicator_download=driver.find_element(By.XPATH,'/html/body/div[7]/div/div[3]/div/div[2]/div/div/div[2]/div[3]/div[1]/div/ul/li[1]/div[3]/a[1]').click()\n",
    "    home_btn=driver.find_element(By.XPATH,'/html/body/div[6]/div/nav/div[2]/div/div[1]/div[1]/a').click()"
   ]
  },
  {
   "cell_type": "markdown",
   "metadata": {},
   "source": [
    "<a id=\"ColumnExtraction\"><h3>Extracting Specific Columns</h3></a>"
   ]
  },
  {
   "cell_type": "code",
   "execution_count": 6,
   "metadata": {},
   "outputs": [],
   "source": [
    "abbr=['som','bdi','dji','eri','eth','ken','rwa','sdn','ssd','tza','uga']"
   ]
  },
  {
   "cell_type": "code",
   "execution_count": 7,
   "metadata": {},
   "outputs": [],
   "source": [
    "indicators=['Sex ratio at birth (male births per female births)',\n",
    "'Age dependency ratio (% of working-age population)',\n",
    "'Age dependency ratio, old (% of working-age population)',\n",
    "'Age dependency ratio, young (% of working-age population)',\n",
    "'Population growth (annual %)',\n",
    "'Population, total',\n",
    "'Population, female',\n",
    "'Population, female (% of total population)'\n",
    "'Population, male',\n",
    "'Population, male (% of total population)'\n",
    "]"
   ]
  },
  {
   "cell_type": "code",
   "execution_count": null,
   "metadata": {},
   "outputs": [],
   "source": [
    "final_df=pd.DataFrame()\n",
    "for abb in abbr:\n",
    "    df = pd.read_csv(f\"./Data\\Pops_{abb}.csv\")\n",
    "    df=df.loc[df['Indicator Name'].isin(indicators)]\n",
    "    final_df=final_df.append(df)\n"
   ]
  },
  {
   "cell_type": "code",
   "execution_count": null,
   "metadata": {},
   "outputs": [],
   "source": [
    "final_df.head(5)\n",
    "final_df.to_csv('east_africa_pops_data.csv', index=False, header=True)"
   ]
  }
 ],
 "metadata": {
  "kernelspec": {
   "display_name": ".venv",
   "language": "python",
   "name": "python3"
  },
  "language_info": {
   "codemirror_mode": {
    "name": "ipython",
    "version": 3
   },
   "file_extension": ".py",
   "mimetype": "text/x-python",
   "name": "python",
   "nbconvert_exporter": "python",
   "pygments_lexer": "ipython3",
   "version": "3.9.7"
  },
  "orig_nbformat": 4
 },
 "nbformat": 4,
 "nbformat_minor": 2
}
